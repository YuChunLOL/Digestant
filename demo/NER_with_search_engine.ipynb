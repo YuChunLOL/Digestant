{
 "cells": [
  {
   "cell_type": "markdown",
   "metadata": {},
   "source": [
    "### Import packages"
   ]
  },
  {
   "cell_type": "code",
   "execution_count": 1,
   "metadata": {
    "collapsed": true
   },
   "outputs": [],
   "source": [
    "import os\n",
    "import json"
   ]
  },
  {
   "cell_type": "code",
   "execution_count": 2,
   "metadata": {
    "collapsed": true
   },
   "outputs": [],
   "source": [
    "import sys\n",
    "sys.path.append('../data_helpers')\n",
    "sys.path.append('../preprocess/')"
   ]
  },
  {
   "cell_type": "code",
   "execution_count": 3,
   "metadata": {
    "collapsed": true
   },
   "outputs": [],
   "source": [
    "import numpy as np\n",
    "import pandas as pd"
   ]
  },
  {
   "cell_type": "code",
   "execution_count": 4,
   "metadata": {
    "collapsed": true
   },
   "outputs": [],
   "source": [
    "from time import time, sleep\n",
    "from tqdm import tqdm"
   ]
  },
  {
   "cell_type": "code",
   "execution_count": 5,
   "metadata": {
    "collapsed": true
   },
   "outputs": [],
   "source": [
    "from search_engine import SearchEngine"
   ]
  },
  {
   "cell_type": "code",
   "execution_count": 6,
   "metadata": {},
   "outputs": [
    {
     "name": "stdout",
     "output_type": "stream",
     "text": [
      "* [TextCleaner] Initializing...\n",
      "* [TextCleaner] Loading SpaCy \"en_core_web_md\" corpus...\n",
      "* [TextCleaner] Loading stopwords...\n",
      "--------------------------------------------------------------------------------------------------------------------\n"
     ]
    }
   ],
   "source": [
    "from text_cleaner import TextCleaner\n",
    "text_cleaner = TextCleaner()"
   ]
  },
  {
   "cell_type": "code",
   "execution_count": 7,
   "metadata": {
    "collapsed": true
   },
   "outputs": [],
   "source": [
    "from sklearn.preprocessing import LabelEncoder, Normalizer\n",
    "from sklearn.pipeline import make_pipeline\n",
    "from sklearn.feature_extraction.text import TfidfVectorizer\n",
    "from sklearn.model_selection import train_test_split\n",
    "from sklearn import metrics"
   ]
  },
  {
   "cell_type": "markdown",
   "metadata": {},
   "source": [
    "### Dataset\n",
    "\n",
    "Annotated Corpus for Named Entity Recognition using GMB(Groningen Meaning Bank) corpus for named entity classification.\n",
    "\n",
    "Type is List Object, to avoid unnecessary memory consumption while loading corpus.\n",
    "\n",
    "This is the extract from GMB corpus which is tagged, annotated and built specifically to train the classifier to predict named entities such as name, location, etc.\n",
    "\n",
    "Annotation scheme: [[((WORD, TAG), IOB), ...]...]\n",
    "Each sublist and outer tuple represent each sentence and annotation for each word respectively.\n",
    "Number of tagged entities:\n",
    "\n",
    "'O': 1146068', geo-nam': 58388, 'org-nam': 48034, 'per-nam': 23790, 'gpe-nam': 20680, 'tim-dat': 12786, 'tim-dow': 11404, 'per-tit': 9800, 'per-fam': 8152, 'tim-yoc': 5290, 'tim-moy': 4262, 'per-giv': 2413, 'tim-clo': 891, 'art-nam': 866, 'eve-nam': 602, 'nat-nam': 300, 'tim-nam': 146, 'eve-ord': 107, 'per-ini': 60, 'org-leg': 60, 'per-ord': 38, 'tim-dom': 10, 'per-mid': 1, 'art-add': 1\n",
    "\n",
    "Essential info about entities:\n",
    "\n",
    "geo = Geographical Entity<br> org = Organization<br> per = Person<br> gpe = Geopolitical Entity<br> tim = Time indicator<br> art = Artifact<br> eve = Event<br> nat = Natural Phenomenon\n",
    "\n",
    "Total Words Count = 1354149"
   ]
  },
  {
   "cell_type": "code",
   "execution_count": null,
   "metadata": {
    "collapsed": true
   },
   "outputs": [],
   "source": [
    "df = pd.read_csv('../dataset/ner/ner_dataset.csv', encoding='latin1')"
   ]
  },
  {
   "cell_type": "code",
   "execution_count": null,
   "metadata": {
    "collapsed": true,
    "scrolled": true
   },
   "outputs": [],
   "source": [
    "df"
   ]
  },
  {
   "cell_type": "markdown",
   "metadata": {},
   "source": [
    "### Prepare person and place entity data"
   ]
  },
  {
   "cell_type": "code",
   "execution_count": null,
   "metadata": {
    "collapsed": true
   },
   "outputs": [],
   "source": [
    "df_per = pd.DataFrame()\n",
    "df_per['Word'] = list(set(df[df['Tag'] == 'B-per']['Word']))\n",
    "df_per['Tag'] = 'PERSON'"
   ]
  },
  {
   "cell_type": "code",
   "execution_count": null,
   "metadata": {
    "collapsed": true
   },
   "outputs": [],
   "source": [
    "df_geo = pd.DataFrame()\n",
    "df_geo['Word'] = list(set(df[df['Tag'] == 'B-geo']['Word']))\n",
    "df_geo['Tag'] = 'PLACE'"
   ]
  },
  {
   "cell_type": "code",
   "execution_count": null,
   "metadata": {
    "collapsed": true
   },
   "outputs": [],
   "source": [
    "df_data = pd.DataFrame()\n",
    "df_data = pd.concat([df_per, df_geo])"
   ]
  },
  {
   "cell_type": "code",
   "execution_count": null,
   "metadata": {
    "collapsed": true
   },
   "outputs": [],
   "source": [
    "df_data.to_csv('../dataset/ner/ner_person_place_dataset.csv', encoding='utf-8', index=False)"
   ]
  },
  {
   "cell_type": "markdown",
   "metadata": {},
   "source": [
    "### Randomly pick 200 persons and places"
   ]
  },
  {
   "cell_type": "code",
   "execution_count": 9,
   "metadata": {
    "collapsed": true
   },
   "outputs": [],
   "source": [
    "df_data = pd.read_csv('../dataset/ner/ner_person_place_dataset.csv')"
   ]
  },
  {
   "cell_type": "code",
   "execution_count": 10,
   "metadata": {
    "collapsed": true,
    "scrolled": true
   },
   "outputs": [],
   "source": [
    "num_person = 5000\n",
    "num_place = 5000\n",
    "\n",
    "person_idx = np.random.randint(low=0, high=len(df_data[df_data['Tag'] == 'PERSON']), size=num_person)\n",
    "place_idx = np.random.randint(low=0, high=len(df_data[df_data['Tag'] == 'PERSON']), size=num_person)\n",
    "\n",
    "df_person = df_data[df_data['Tag'] == 'PERSON'].iloc[person_idx]\n",
    "df_place = df_data[df_data['Tag'] == 'PLACE'].iloc[place_idx]\n",
    "\n",
    "df_person['Data'] = ''\n",
    "df_place['Data'] = ''"
   ]
  },
  {
   "cell_type": "markdown",
   "metadata": {},
   "source": [
    "### Let's retrieve 10 search results for each person and place"
   ]
  },
  {
   "cell_type": "code",
   "execution_count": 11,
   "metadata": {
    "collapsed": true
   },
   "outputs": [],
   "source": [
    "\"\"\" 如果有另一支程式在跑 search engine，最好不要用同一個 cache files，不然會打架 \"\"\"\n",
    "se = SearchEngine(verbose=True,\n",
    "                  queries_filepath='../dataset/cache/queries2.txt',\n",
    "                  output_filepath='../dataset/cache/output2.json')"
   ]
  },
  {
   "cell_type": "code",
   "execution_count": 12,
   "metadata": {},
   "outputs": [
    {
     "name": "stdout",
     "output_type": "stream",
     "text": [
      "[*] Writing queries to \"../dataset/cache/queries2.txt\"...\n",
      "[*] Searching queries and save results to \"../dataset/cache/output2.json\"...\n",
      "[*] Reading results from \"../dataset/cache/output2.json\"...\n",
      "[*] Success.\n"
     ]
    }
   ],
   "source": [
    "person_keyed_df = se.get_data(queries=[word.encode('utf-8') for word in df_person['Word']])"
   ]
  },
  {
   "cell_type": "code",
   "execution_count": 13,
   "metadata": {},
   "outputs": [
    {
     "name": "stdout",
     "output_type": "stream",
     "text": [
      "[*] Writing queries to \"../dataset/cache/queries2.txt\"...\n",
      "[*] Searching queries and save results to \"../dataset/cache/output2.json\"...\n",
      "[*] Reading results from \"../dataset/cache/output2.json\"...\n",
      "[*] Success.\n"
     ]
    }
   ],
   "source": [
    "place_keyed_df = se.get_data(queries=[word.encode('utf-8') for word in df_place['Word']])"
   ]
  },
  {
   "cell_type": "markdown",
   "metadata": {},
   "source": [
    "### Assign search results (only text) to dataframe"
   ]
  },
  {
   "cell_type": "code",
   "execution_count": 14,
   "metadata": {
    "collapsed": true,
    "scrolled": true
   },
   "outputs": [],
   "source": [
    "for key in person_keyed_df.keys():\n",
    "    df_person.loc[df_person['Word'] == key.split('b')[1].replace('\\'', ''), 'Data'] = ' | '.join([text for text in person_keyed_df[key]['text']])\n",
    "    \n",
    "for key in place_keyed_df.keys():\n",
    "    df_place.loc[df_place['Word'] == key.split('b')[1].replace('\\'', ''), 'Data'] = ' | '.join([text for text in place_keyed_df[key]['text']])"
   ]
  },
  {
   "cell_type": "code",
   "execution_count": 15,
   "metadata": {
    "collapsed": true
   },
   "outputs": [],
   "source": [
    "df_data = pd.concat([df_person, df_place])\n",
    "df_data.to_csv('../dataset/ner/ner_person_place_with_search_result_dataset.csv', encoding='utf-8', index=False)"
   ]
  },
  {
   "cell_type": "markdown",
   "metadata": {},
   "source": [
    "### Split training data and test data"
   ]
  },
  {
   "cell_type": "code",
   "execution_count": 8,
   "metadata": {
    "collapsed": true
   },
   "outputs": [],
   "source": [
    "df_data = pd.read_csv('../dataset/ner/ner_person_place_with_search_result_dataset.csv')\n",
    "df_data = df_data.fillna('')\n",
    "df_data = df_data[df_data['Data'] != '']\n",
    "\n",
    "data = df_data['Data'].tolist()\n",
    "target = df_data['Tag'].tolist()\n",
    "data_train, data_test, target_train, target_test = train_test_split(data, target, test_size=0.3, random_state=42)"
   ]
  },
  {
   "cell_type": "code",
   "execution_count": 10,
   "metadata": {
    "scrolled": true
   },
   "outputs": [
    {
     "data": {
      "text/html": [
       "<div>\n",
       "<style>\n",
       "    .dataframe thead tr:only-child th {\n",
       "        text-align: right;\n",
       "    }\n",
       "\n",
       "    .dataframe thead th {\n",
       "        text-align: left;\n",
       "    }\n",
       "\n",
       "    .dataframe tbody tr th {\n",
       "        vertical-align: top;\n",
       "    }\n",
       "</style>\n",
       "<table border=\"1\" class=\"dataframe\">\n",
       "  <thead>\n",
       "    <tr style=\"text-align: right;\">\n",
       "      <th></th>\n",
       "      <th>Word</th>\n",
       "      <th>Tag</th>\n",
       "      <th>Data</th>\n",
       "    </tr>\n",
       "  </thead>\n",
       "  <tbody>\n",
       "    <tr>\n",
       "      <th>3</th>\n",
       "      <td>Izzadeen</td>\n",
       "      <td>PERSON</td>\n",
       "      <td>Understanding Muslim Identity: Rethinking Fund...</td>\n",
       "    </tr>\n",
       "    <tr>\n",
       "      <th>4</th>\n",
       "      <td>Jake</td>\n",
       "      <td>PERSON</td>\n",
       "      <td>Brother Jake - YouTube | Watch Brother Jake ba...</td>\n",
       "    </tr>\n",
       "    <tr>\n",
       "      <th>7</th>\n",
       "      <td>Coretta</td>\n",
       "      <td>PERSON</td>\n",
       "      <td>Coretta (Prod. Will. Quest) by MELLO B | Free ...</td>\n",
       "    </tr>\n",
       "    <tr>\n",
       "      <th>9</th>\n",
       "      <td>Oskar</td>\n",
       "      <td>PERSON</td>\n",
       "      <td>Oskar Blues Brewery - Wikipedia | Oskar Blues ...</td>\n",
       "    </tr>\n",
       "    <tr>\n",
       "      <th>10</th>\n",
       "      <td>Steve</td>\n",
       "      <td>PERSON</td>\n",
       "      <td>OH F**K YEAH BUD - B &amp; STEVE FEAT. JACK MARKO ...</td>\n",
       "    </tr>\n",
       "    <tr>\n",
       "      <th>12</th>\n",
       "      <td>Rami</td>\n",
       "      <td>PERSON</td>\n",
       "      <td>B Rami Profiles | Facebook | View the profiles...</td>\n",
       "    </tr>\n",
       "    <tr>\n",
       "      <th>13</th>\n",
       "      <td>Deputy</td>\n",
       "      <td>PERSON</td>\n",
       "      <td>| Create fully costed staff rosters in no tim...</td>\n",
       "    </tr>\n",
       "    <tr>\n",
       "      <th>15</th>\n",
       "      <td>Taro</td>\n",
       "      <td>PERSON</td>\n",
       "      <td>RECKLI 1/124 B Taro | RECKLI - Design your con...</td>\n",
       "    </tr>\n",
       "    <tr>\n",
       "      <th>16</th>\n",
       "      <td>LeBron</td>\n",
       "      <td>PERSON</td>\n",
       "      <td>LeBron James - Wikipedia | LeBron Raymone Jame...</td>\n",
       "    </tr>\n",
       "    <tr>\n",
       "      <th>17</th>\n",
       "      <td>Margaret</td>\n",
       "      <td>PERSON</td>\n",
       "      <td>b margaret   (@bharseim14) | Twitter | The lat...</td>\n",
       "    </tr>\n",
       "    <tr>\n",
       "      <th>22</th>\n",
       "      <td>Choi</td>\n",
       "      <td>PERSON</td>\n",
       "      <td>Melody B. Choi - Wikipedia | Melody B. Choi (b...</td>\n",
       "    </tr>\n",
       "    <tr>\n",
       "      <th>23</th>\n",
       "      <td>Carolyn</td>\n",
       "      <td>PERSON</td>\n",
       "      <td>. B Carolyn Profiles | Facebook | View the pro...</td>\n",
       "    </tr>\n",
       "    <tr>\n",
       "      <th>24</th>\n",
       "      <td>Alvarez</td>\n",
       "      <td>PERSON</td>\n",
       "      <td>Jose B. Alvarez - Faculty - Harvard Business S...</td>\n",
       "    </tr>\n",
       "    <tr>\n",
       "      <th>25</th>\n",
       "      <td>Tai</td>\n",
       "      <td>PERSON</td>\n",
       "      <td>Kenneth B. Tai, M.D. - Physicians Medical Grou...</td>\n",
       "    </tr>\n",
       "    <tr>\n",
       "      <th>26</th>\n",
       "      <td>Pak</td>\n",
       "      <td>PERSON</td>\n",
       "      <td>OSEC® B-Pak System - Evoqua Water Technologies...</td>\n",
       "    </tr>\n",
       "    <tr>\n",
       "      <th>28</th>\n",
       "      <td>Camp</td>\n",
       "      <td>PERSON</td>\n",
       "      <td>| B'nai Brith Camp: For building long-term re...</td>\n",
       "    </tr>\n",
       "    <tr>\n",
       "      <th>30</th>\n",
       "      <td>Toussaint</td>\n",
       "      <td>PERSON</td>\n",
       "      <td>B Toussaint Profiles | Facebook | View the pro...</td>\n",
       "    </tr>\n",
       "    <tr>\n",
       "      <th>32</th>\n",
       "      <td>Shahar</td>\n",
       "      <td>PERSON</td>\n",
       "      <td>B Shahar Profiles | Facebook | View the profil...</td>\n",
       "    </tr>\n",
       "    <tr>\n",
       "      <th>33</th>\n",
       "      <td>Reem</td>\n",
       "      <td>PERSON</td>\n",
       "      <td>B-Reem - Glasgow, United Kingdom - Barber Shop...</td>\n",
       "    </tr>\n",
       "    <tr>\n",
       "      <th>35</th>\n",
       "      <td>Ursula</td>\n",
       "      <td>PERSON</td>\n",
       "      <td>fitness_portrait_photographer-B – Ursula Tocik...</td>\n",
       "    </tr>\n",
       "    <tr>\n",
       "      <th>39</th>\n",
       "      <td>Aleem</td>\n",
       "      <td>PERSON</td>\n",
       "      <td>B Aleem Profiles | Facebook | View the profile...</td>\n",
       "    </tr>\n",
       "    <tr>\n",
       "      <th>40</th>\n",
       "      <td>Cowell</td>\n",
       "      <td>PERSON</td>\n",
       "      <td>Simon Cowell - Wikipedia | Simon Phillip Cowel...</td>\n",
       "    </tr>\n",
       "    <tr>\n",
       "      <th>42</th>\n",
       "      <td>Yoram</td>\n",
       "      <td>PERSON</td>\n",
       "      <td>Salivary composition in diabetic patients. - N...</td>\n",
       "    </tr>\n",
       "    <tr>\n",
       "      <th>43</th>\n",
       "      <td>Nestle</td>\n",
       "      <td>PERSON</td>\n",
       "      <td>Reimbursement Resources | Nestlé Health Scienc...</td>\n",
       "    </tr>\n",
       "    <tr>\n",
       "      <th>44</th>\n",
       "      <td>Carlsen</td>\n",
       "      <td>PERSON</td>\n",
       "      <td>Magnus Carlsen - Wikipedia | Sven Magnus Øen C...</td>\n",
       "    </tr>\n",
       "    <tr>\n",
       "      <th>45</th>\n",
       "      <td>Camp</td>\n",
       "      <td>PERSON</td>\n",
       "      <td>| B'nai Brith Camp: For building long-term re...</td>\n",
       "    </tr>\n",
       "    <tr>\n",
       "      <th>46</th>\n",
       "      <td>Erik</td>\n",
       "      <td>PERSON</td>\n",
       "      <td>B. Erik Ydstie-Chemical Engineering - Carnegie...</td>\n",
       "    </tr>\n",
       "    <tr>\n",
       "      <th>47</th>\n",
       "      <td>Lionel</td>\n",
       "      <td>PERSON</td>\n",
       "      <td>B Lionel - 5 Public Records Found - Instant Ch...</td>\n",
       "    </tr>\n",
       "    <tr>\n",
       "      <th>49</th>\n",
       "      <td>Yediot</td>\n",
       "      <td>PERSON</td>\n",
       "      <td>Ynetnews - Homepage | ynet Homepage: Ynetnews ...</td>\n",
       "    </tr>\n",
       "    <tr>\n",
       "      <th>50</th>\n",
       "      <td>minister</td>\n",
       "      <td>PERSON</td>\n",
       "      <td>Minister of Information and Broadcasting (Indi...</td>\n",
       "    </tr>\n",
       "    <tr>\n",
       "      <th>...</th>\n",
       "      <td>...</td>\n",
       "      <td>...</td>\n",
       "      <td>...</td>\n",
       "    </tr>\n",
       "    <tr>\n",
       "      <th>9916</th>\n",
       "      <td>Belet</td>\n",
       "      <td>PLACE</td>\n",
       "      <td>B Belet Profiles | Facebook | View the profile...</td>\n",
       "    </tr>\n",
       "    <tr>\n",
       "      <th>9917</th>\n",
       "      <td>Brighton</td>\n",
       "      <td>PLACE</td>\n",
       "      <td>MS Athina B - Wikipedia | The Athina B was a m...</td>\n",
       "    </tr>\n",
       "    <tr>\n",
       "      <th>9919</th>\n",
       "      <td>Bam</td>\n",
       "      <td>PLACE</td>\n",
       "      <td>B-Bam! | At B-BAM!, we help you say THANK YOU!...</td>\n",
       "    </tr>\n",
       "    <tr>\n",
       "      <th>9925</th>\n",
       "      <td>Shakeri</td>\n",
       "      <td>PLACE</td>\n",
       "      <td>Molly B. Shakeri | Facebook | Molly B. Shakeri...</td>\n",
       "    </tr>\n",
       "    <tr>\n",
       "      <th>9932</th>\n",
       "      <td>Near</td>\n",
       "      <td>PLACE</td>\n",
       "      <td>50 Best Rome Bed and Breakfasts | BedandBreakf...</td>\n",
       "    </tr>\n",
       "    <tr>\n",
       "      <th>9933</th>\n",
       "      <td>Jupiter</td>\n",
       "      <td>PLACE</td>\n",
       "      <td>Jesse Bernard Jupiter, MD - Department of Orth...</td>\n",
       "    </tr>\n",
       "    <tr>\n",
       "      <th>9934</th>\n",
       "      <td>Gulu</td>\n",
       "      <td>PLACE</td>\n",
       "      <td>B Gulu Profiles | Facebook | View the profiles...</td>\n",
       "    </tr>\n",
       "    <tr>\n",
       "      <th>9939</th>\n",
       "      <td>Yakutsk</td>\n",
       "      <td>PLACE</td>\n",
       "      <td>photo1.jpg - Picture of Saisary, Yakutsk - Tri...</td>\n",
       "    </tr>\n",
       "    <tr>\n",
       "      <th>9948</th>\n",
       "      <td>Yushchenko</td>\n",
       "      <td>PLACE</td>\n",
       "      <td>Viktor Yushchenko - Wikipedia | Viktor Andriyo...</td>\n",
       "    </tr>\n",
       "    <tr>\n",
       "      <th>9951</th>\n",
       "      <td>St.</td>\n",
       "      <td>PLACE</td>\n",
       "      <td>B Street Theatre | ... AM - 7 PM. Sunday: 10 A...</td>\n",
       "    </tr>\n",
       "    <tr>\n",
       "      <th>9953</th>\n",
       "      <td>Diwali</td>\n",
       "      <td>PLACE</td>\n",
       "      <td>PICS: Big B's star-studded Diwali party - Time...</td>\n",
       "    </tr>\n",
       "    <tr>\n",
       "      <th>9954</th>\n",
       "      <td>Jericho</td>\n",
       "      <td>PLACE</td>\n",
       "      <td>B Jericho Profiles | Facebook | View the profi...</td>\n",
       "    </tr>\n",
       "    <tr>\n",
       "      <th>9956</th>\n",
       "      <td>earth</td>\n",
       "      <td>PLACE</td>\n",
       "      <td>B-Earth International | Environmentally Friend...</td>\n",
       "    </tr>\n",
       "    <tr>\n",
       "      <th>9962</th>\n",
       "      <td>Kajaki</td>\n",
       "      <td>PLACE</td>\n",
       "      <td>kajaki - Tłumaczenie na niemiecki - polskich p...</td>\n",
       "    </tr>\n",
       "    <tr>\n",
       "      <th>9963</th>\n",
       "      <td>Lucia</td>\n",
       "      <td>PLACE</td>\n",
       "      <td>. B Lucia Profiles | Facebook | View the profi...</td>\n",
       "    </tr>\n",
       "    <tr>\n",
       "      <th>9966</th>\n",
       "      <td>Nigeria</td>\n",
       "      <td>PLACE</td>\n",
       "      <td>B Nigeria Profiles | Facebook | View the profi...</td>\n",
       "    </tr>\n",
       "    <tr>\n",
       "      <th>9968</th>\n",
       "      <td>democratic</td>\n",
       "      <td>PLACE</td>\n",
       "      <td>B democratic (@drmohitbansal) | Twitter | The ...</td>\n",
       "    </tr>\n",
       "    <tr>\n",
       "      <th>9970</th>\n",
       "      <td>Ellsworth</td>\n",
       "      <td>PLACE</td>\n",
       "      <td>B. Ellsworth on Spotify | Popular. 1. Dark Mat...</td>\n",
       "    </tr>\n",
       "    <tr>\n",
       "      <th>9971</th>\n",
       "      <td>Kyi</td>\n",
       "      <td>PLACE</td>\n",
       "      <td>B Kyi Phyo Profiles | Facebook | View the prof...</td>\n",
       "    </tr>\n",
       "    <tr>\n",
       "      <th>9976</th>\n",
       "      <td>Bechuanaland</td>\n",
       "      <td>PLACE</td>\n",
       "      <td>Bechuanaland Protectorate - Wikipedia | The Be...</td>\n",
       "    </tr>\n",
       "    <tr>\n",
       "      <th>9977</th>\n",
       "      <td>Kaletra</td>\n",
       "      <td>PLACE</td>\n",
       "      <td>Lopinavir/ritonavir - Wikipedia | Lopinavir/ri...</td>\n",
       "    </tr>\n",
       "    <tr>\n",
       "      <th>9979</th>\n",
       "      <td>Philipp</td>\n",
       "      <td>PLACE</td>\n",
       "      <td>B. Philipp Hausverwaltungs GmbH - Wohnungsunte...</td>\n",
       "    </tr>\n",
       "    <tr>\n",
       "      <th>9980</th>\n",
       "      <td>Guinea</td>\n",
       "      <td>PLACE</td>\n",
       "      <td>Guinea-Bissau - Wikipedia | Location of Guinea...</td>\n",
       "    </tr>\n",
       "    <tr>\n",
       "      <th>9984</th>\n",
       "      <td>Bonny</td>\n",
       "      <td>PLACE</td>\n",
       "      <td>B Bonny Profiles | Facebook | View the profile...</td>\n",
       "    </tr>\n",
       "    <tr>\n",
       "      <th>9986</th>\n",
       "      <td>Mastung</td>\n",
       "      <td>PLACE</td>\n",
       "      <td>2011 Mastung bus shooting - Wikipedia | About ...</td>\n",
       "    </tr>\n",
       "    <tr>\n",
       "      <th>9988</th>\n",
       "      <td>Mississippi</td>\n",
       "      <td>PLACE</td>\n",
       "      <td>B. mississippi | Spanish Translator - SpanishD...</td>\n",
       "    </tr>\n",
       "    <tr>\n",
       "      <th>9989</th>\n",
       "      <td>Al-Fasher</td>\n",
       "      <td>PLACE</td>\n",
       "      <td>Al-Fashir - Wikipedia | Al Fashir, Al-Fashir o...</td>\n",
       "    </tr>\n",
       "    <tr>\n",
       "      <th>9994</th>\n",
       "      <td>Belet</td>\n",
       "      <td>PLACE</td>\n",
       "      <td>B Belet Profiles | Facebook | View the profile...</td>\n",
       "    </tr>\n",
       "    <tr>\n",
       "      <th>9998</th>\n",
       "      <td>Nimroz</td>\n",
       "      <td>PLACE</td>\n",
       "      <td>Nimruz Province - Wikipedia | Nimruz is one of...</td>\n",
       "    </tr>\n",
       "    <tr>\n",
       "      <th>9999</th>\n",
       "      <td>Missouri</td>\n",
       "      <td>PLACE</td>\n",
       "      <td>Missouri Proposition B (1999) - Wikipedia | Pr...</td>\n",
       "    </tr>\n",
       "  </tbody>\n",
       "</table>\n",
       "<p>5246 rows × 3 columns</p>\n",
       "</div>"
      ],
      "text/plain": [
       "              Word     Tag                                               Data\n",
       "3         Izzadeen  PERSON  Understanding Muslim Identity: Rethinking Fund...\n",
       "4             Jake  PERSON  Brother Jake - YouTube | Watch Brother Jake ba...\n",
       "7          Coretta  PERSON  Coretta (Prod. Will. Quest) by MELLO B | Free ...\n",
       "9            Oskar  PERSON  Oskar Blues Brewery - Wikipedia | Oskar Blues ...\n",
       "10           Steve  PERSON  OH F**K YEAH BUD - B & STEVE FEAT. JACK MARKO ...\n",
       "12            Rami  PERSON  B Rami Profiles | Facebook | View the profiles...\n",
       "13          Deputy  PERSON   | Create fully costed staff rosters in no tim...\n",
       "15            Taro  PERSON  RECKLI 1/124 B Taro | RECKLI - Design your con...\n",
       "16          LeBron  PERSON  LeBron James - Wikipedia | LeBron Raymone Jame...\n",
       "17        Margaret  PERSON  b margaret   (@bharseim14) | Twitter | The lat...\n",
       "22            Choi  PERSON  Melody B. Choi - Wikipedia | Melody B. Choi (b...\n",
       "23         Carolyn  PERSON  . B Carolyn Profiles | Facebook | View the pro...\n",
       "24         Alvarez  PERSON  Jose B. Alvarez - Faculty - Harvard Business S...\n",
       "25             Tai  PERSON  Kenneth B. Tai, M.D. - Physicians Medical Grou...\n",
       "26             Pak  PERSON  OSEC® B-Pak System - Evoqua Water Technologies...\n",
       "28            Camp  PERSON   | B'nai Brith Camp: For building long-term re...\n",
       "30       Toussaint  PERSON  B Toussaint Profiles | Facebook | View the pro...\n",
       "32          Shahar  PERSON  B Shahar Profiles | Facebook | View the profil...\n",
       "33            Reem  PERSON  B-Reem - Glasgow, United Kingdom - Barber Shop...\n",
       "35          Ursula  PERSON  fitness_portrait_photographer-B – Ursula Tocik...\n",
       "39           Aleem  PERSON  B Aleem Profiles | Facebook | View the profile...\n",
       "40          Cowell  PERSON  Simon Cowell - Wikipedia | Simon Phillip Cowel...\n",
       "42           Yoram  PERSON  Salivary composition in diabetic patients. - N...\n",
       "43          Nestle  PERSON  Reimbursement Resources | Nestlé Health Scienc...\n",
       "44         Carlsen  PERSON  Magnus Carlsen - Wikipedia | Sven Magnus Øen C...\n",
       "45            Camp  PERSON   | B'nai Brith Camp: For building long-term re...\n",
       "46            Erik  PERSON  B. Erik Ydstie-Chemical Engineering - Carnegie...\n",
       "47          Lionel  PERSON  B Lionel - 5 Public Records Found - Instant Ch...\n",
       "49          Yediot  PERSON  Ynetnews - Homepage | ynet Homepage: Ynetnews ...\n",
       "50        minister  PERSON  Minister of Information and Broadcasting (Indi...\n",
       "...            ...     ...                                                ...\n",
       "9916         Belet   PLACE  B Belet Profiles | Facebook | View the profile...\n",
       "9917      Brighton   PLACE  MS Athina B - Wikipedia | The Athina B was a m...\n",
       "9919           Bam   PLACE  B-Bam! | At B-BAM!, we help you say THANK YOU!...\n",
       "9925       Shakeri   PLACE  Molly B. Shakeri | Facebook | Molly B. Shakeri...\n",
       "9932          Near   PLACE  50 Best Rome Bed and Breakfasts | BedandBreakf...\n",
       "9933       Jupiter   PLACE  Jesse Bernard Jupiter, MD - Department of Orth...\n",
       "9934          Gulu   PLACE  B Gulu Profiles | Facebook | View the profiles...\n",
       "9939       Yakutsk   PLACE  photo1.jpg - Picture of Saisary, Yakutsk - Tri...\n",
       "9948    Yushchenko   PLACE  Viktor Yushchenko - Wikipedia | Viktor Andriyo...\n",
       "9951           St.   PLACE  B Street Theatre | ... AM - 7 PM. Sunday: 10 A...\n",
       "9953        Diwali   PLACE  PICS: Big B's star-studded Diwali party - Time...\n",
       "9954       Jericho   PLACE  B Jericho Profiles | Facebook | View the profi...\n",
       "9956         earth   PLACE  B-Earth International | Environmentally Friend...\n",
       "9962        Kajaki   PLACE  kajaki - Tłumaczenie na niemiecki - polskich p...\n",
       "9963         Lucia   PLACE  . B Lucia Profiles | Facebook | View the profi...\n",
       "9966       Nigeria   PLACE  B Nigeria Profiles | Facebook | View the profi...\n",
       "9968    democratic   PLACE  B democratic (@drmohitbansal) | Twitter | The ...\n",
       "9970     Ellsworth   PLACE  B. Ellsworth on Spotify | Popular. 1. Dark Mat...\n",
       "9971           Kyi   PLACE  B Kyi Phyo Profiles | Facebook | View the prof...\n",
       "9976  Bechuanaland   PLACE  Bechuanaland Protectorate - Wikipedia | The Be...\n",
       "9977       Kaletra   PLACE  Lopinavir/ritonavir - Wikipedia | Lopinavir/ri...\n",
       "9979       Philipp   PLACE  B. Philipp Hausverwaltungs GmbH - Wohnungsunte...\n",
       "9980        Guinea   PLACE  Guinea-Bissau - Wikipedia | Location of Guinea...\n",
       "9984         Bonny   PLACE  B Bonny Profiles | Facebook | View the profile...\n",
       "9986       Mastung   PLACE  2011 Mastung bus shooting - Wikipedia | About ...\n",
       "9988   Mississippi   PLACE  B. mississippi | Spanish Translator - SpanishD...\n",
       "9989     Al-Fasher   PLACE  Al-Fashir - Wikipedia | Al Fashir, Al-Fashir o...\n",
       "9994         Belet   PLACE  B Belet Profiles | Facebook | View the profile...\n",
       "9998        Nimroz   PLACE  Nimruz Province - Wikipedia | Nimruz is one of...\n",
       "9999      Missouri   PLACE  Missouri Proposition B (1999) - Wikipedia | Pr...\n",
       "\n",
       "[5246 rows x 3 columns]"
      ]
     },
     "execution_count": 10,
     "metadata": {},
     "output_type": "execute_result"
    }
   ],
   "source": [
    "df_data"
   ]
  },
  {
   "cell_type": "code",
   "execution_count": 9,
   "metadata": {},
   "outputs": [
    {
     "name": "stdout",
     "output_type": "stream",
     "text": [
      "PERSON class number in train: 2258\n",
      "PLACE class number in train: 1414\n",
      "PERSON class number in test: 967\n",
      "PLACE class number in test: 607\n"
     ]
    }
   ],
   "source": [
    "print('PERSON class number in train: {}'.format(len([label for label in target_train if label == 'PERSON'])))\n",
    "print('PLACE class number in train: {}'.format(len([label for label in target_train if label == 'PLACE'])))\n",
    "print('PERSON class number in test: {}'.format(len([label for label in target_test if label == 'PERSON'])))\n",
    "print('PLACE class number in test: {}'.format(len([label for label in target_test if label == 'PLACE'])))"
   ]
  },
  {
   "cell_type": "markdown",
   "metadata": {},
   "source": [
    "### Entity Classfication using search results"
   ]
  },
  {
   "cell_type": "markdown",
   "metadata": {},
   "source": [
    "### Transform feature vector"
   ]
  },
  {
   "cell_type": "code",
   "execution_count": 11,
   "metadata": {
    "collapsed": true
   },
   "outputs": [],
   "source": [
    "vectorizer = TfidfVectorizer(tokenizer=lambda text: text_cleaner.clean(texts=[text])[0], max_features=10000)"
   ]
  },
  {
   "cell_type": "code",
   "execution_count": 12,
   "metadata": {
    "scrolled": true
   },
   "outputs": [
    {
     "name": "stderr",
     "output_type": "stream",
     "text": [
      "1it [00:00, 23.99it/s]\n",
      "1it [00:00, 30.74it/s]\n",
      "1it [00:00, 30.52it/s]\n",
      "1it [00:00, 28.91it/s]\n",
      "1it [00:00, 43.01it/s]\n",
      "0it [00:00, ?it/s]"
     ]
    },
    {
     "name": "stdout",
     "output_type": "stream",
     "text": [
      "* [TextCleaner] Cleaning text...\n",
      "* [TextCleaner] Cleaning text...\n",
      "* [TextCleaner] Cleaning text...\n",
      "* [TextCleaner] Cleaning text...\n",
      "* [TextCleaner] Cleaning text...\n",
      "* [TextCleaner] Cleaning text...\n"
     ]
    },
    {
     "name": "stderr",
     "output_type": "stream",
     "text": [
      "1it [00:00, 31.68it/s]\n",
      "1it [00:00, 32.91it/s]\n",
      "1it [00:00, 32.31it/s]\n",
      "1it [00:00, 33.43it/s]\n",
      "1it [00:00, 34.20it/s]\n",
      "1it [00:00, 44.43it/s]\n",
      "1it [00:00, 33.66it/s]\n"
     ]
    },
    {
     "name": "stdout",
     "output_type": "stream",
     "text": [
      "* [TextCleaner] Cleaning text...\n",
      "* [TextCleaner] Cleaning text...\n",
      "* [TextCleaner] Cleaning text...\n",
      "* [TextCleaner] Cleaning text...\n",
      "* [TextCleaner] Cleaning text...\n",
      "* [TextCleaner] Cleaning text...\n"
     ]
    },
    {
     "name": "stderr",
     "output_type": "stream",
     "text": [
      "1it [00:00, 35.43it/s]\n",
      "1it [00:00, 33.20it/s]\n",
      "1it [00:00, 44.25it/s]\n",
      "1it [00:00, 28.97it/s]\n",
      "1it [00:00, 32.50it/s]\n",
      "1it [00:00, 34.88it/s]\n",
      "0it [00:00, ?it/s]"
     ]
    },
    {
     "name": "stdout",
     "output_type": "stream",
     "text": [
      "* [TextCleaner] Cleaning text...\n",
      "* [TextCleaner] Cleaning text...\n",
      "* [TextCleaner] Cleaning text...\n",
      "* [TextCleaner] Cleaning text...\n",
      "* [TextCleaner] Cleaning text...\n",
      "* [TextCleaner] Cleaning text...\n",
      "* [TextCleaner] Cleaning text...\n"
     ]
    },
    {
     "name": "stderr",
     "output_type": "stream",
     "text": [
      "1it [00:00, 25.46it/s]\n",
      "1it [00:00, 26.61it/s]\n",
      "1it [00:00, 30.85it/s]\n",
      "1it [00:00, 29.25it/s]\n",
      "1it [00:00, 30.28it/s]\n",
      "1it [00:00, 31.71it/s]\n",
      "0it [00:00, ?it/s]"
     ]
    },
    {
     "name": "stdout",
     "output_type": "stream",
     "text": [
      "* [TextCleaner] Cleaning text...\n",
      "* [TextCleaner] Cleaning text...\n",
      "* [TextCleaner] Cleaning text...\n",
      "* [TextCleaner] Cleaning text...\n",
      "* [TextCleaner] Cleaning text...\n",
      "* [TextCleaner] Cleaning text...\n"
     ]
    },
    {
     "name": "stderr",
     "output_type": "stream",
     "text": [
      "1it [00:00, 39.49it/s]\n",
      "1it [00:00, 29.81it/s]\n",
      "1it [00:00, 26.99it/s]\n",
      "1it [00:00, 44.06it/s]\n",
      "1it [00:00, 34.18it/s]\n",
      "1it [00:00, 35.72it/s]\n",
      "0it [00:00, ?it/s]"
     ]
    },
    {
     "name": "stdout",
     "output_type": "stream",
     "text": [
      "* [TextCleaner] Cleaning text...\n",
      "* [TextCleaner] Cleaning text...\n",
      "* [TextCleaner] Cleaning text...\n",
      "* [TextCleaner] Cleaning text...\n",
      "* [TextCleaner] Cleaning text...\n",
      "* [TextCleaner] Cleaning text...\n"
     ]
    },
    {
     "name": "stderr",
     "output_type": "stream",
     "text": [
      "1it [00:00, 32.25it/s]\n",
      "1it [00:00, 33.99it/s]\n",
      "1it [00:00, 40.15it/s]\n",
      "1it [00:00, 33.49it/s]\n",
      "1it [00:00, 31.88it/s]\n",
      "1it [00:00, 34.98it/s]\n",
      "0it [00:00, ?it/s]"
     ]
    },
    {
     "name": "stdout",
     "output_type": "stream",
     "text": [
      "* [TextCleaner] Cleaning text...\n",
      "* [TextCleaner] Cleaning text...\n",
      "* [TextCleaner] Cleaning text...\n",
      "* [TextCleaner] Cleaning text...\n",
      "* [TextCleaner] Cleaning text...\n",
      "* [TextCleaner] Cleaning text...\n"
     ]
    },
    {
     "name": "stderr",
     "output_type": "stream",
     "text": [
      "1it [00:00, 34.21it/s]\n",
      "1it [00:00, 26.80it/s]\n",
      "1it [00:00, 32.94it/s]\n",
      "1it [00:00, 41.93it/s]\n",
      "1it [00:00, 33.11it/s]\n",
      "1it [00:00, 29.43it/s]\n",
      "0it [00:00, ?it/s]"
     ]
    },
    {
     "name": "stdout",
     "output_type": "stream",
     "text": [
      "* [TextCleaner] Cleaning text...\n",
      "* [TextCleaner] Cleaning text...\n",
      "* [TextCleaner] Cleaning text...\n",
      "* [TextCleaner] Cleaning text...\n",
      "* [TextCleaner] Cleaning text...\n",
      "* [TextCleaner] Cleaning text...\n"
     ]
    },
    {
     "name": "stderr",
     "output_type": "stream",
     "text": [
      "1it [00:00, 32.86it/s]\n",
      "1it [00:00, 42.99it/s]\n",
      "1it [00:00, 28.30it/s]\n",
      "1it [00:00, 34.95it/s]\n",
      "1it [00:00, 35.45it/s]\n",
      "1it [00:00, 34.25it/s]\n",
      "0it [00:00, ?it/s]"
     ]
    },
    {
     "name": "stdout",
     "output_type": "stream",
     "text": [
      "* [TextCleaner] Cleaning text...\n",
      "* [TextCleaner] Cleaning text...\n",
      "* [TextCleaner] Cleaning text...\n",
      "* [TextCleaner] Cleaning text...\n",
      "* [TextCleaner] Cleaning text...\n",
      "* [TextCleaner] Cleaning text...\n"
     ]
    },
    {
     "name": "stderr",
     "output_type": "stream",
     "text": [
      "1it [00:00, 30.98it/s]\n",
      "1it [00:00, 32.01it/s]\n",
      "1it [00:00, 36.22it/s]\n",
      "1it [00:00, 30.87it/s]\n",
      "1it [00:00, 65.12it/s]\n",
      "0it [00:00, ?it/s]"
     ]
    },
    {
     "name": "stdout",
     "output_type": "stream",
     "text": [
      "* [TextCleaner] Cleaning text...\n",
      "* [TextCleaner] Cleaning text...\n",
      "* [TextCleaner] Cleaning text...\n",
      "* [TextCleaner] Cleaning text...\n",
      "* [TextCleaner] Cleaning text...\n"
     ]
    },
    {
     "name": "stderr",
     "output_type": "stream",
     "text": [
      "1it [00:00, 33.12it/s]\n",
      "1it [00:00, 30.36it/s]\n",
      "1it [00:00, 56.27it/s]\n",
      "1it [00:00, 43.24it/s]\n",
      "1it [00:00, 26.20it/s]\n",
      "1it [00:00, 33.47it/s]\n",
      "0it [00:00, ?it/s]"
     ]
    },
    {
     "name": "stdout",
     "output_type": "stream",
     "text": [
      "* [TextCleaner] Cleaning text...\n",
      "* [TextCleaner] Cleaning text...\n",
      "* [TextCleaner] Cleaning text...\n",
      "* [TextCleaner] Cleaning text...\n",
      "* [TextCleaner] Cleaning text...\n",
      "* [TextCleaner] Cleaning text...\n"
     ]
    },
    {
     "name": "stderr",
     "output_type": "stream",
     "text": [
      "1it [00:00, 28.02it/s]\n",
      "1it [00:00, 41.67it/s]\n",
      "1it [00:00, 36.02it/s]\n",
      "1it [00:00, 27.39it/s]\n",
      "1it [00:00, 24.95it/s]\n",
      "1it [00:00, 35.39it/s]\n",
      "0it [00:00, ?it/s]"
     ]
    },
    {
     "name": "stdout",
     "output_type": "stream",
     "text": [
      "* [TextCleaner] Cleaning text...\n",
      "* [TextCleaner] Cleaning text...\n",
      "* [TextCleaner] Cleaning text...\n",
      "* [TextCleaner] Cleaning text...\n",
      "* [TextCleaner] Cleaning text...\n",
      "* [TextCleaner] Cleaning text...\n"
     ]
    },
    {
     "name": "stderr",
     "output_type": "stream",
     "text": [
      "1it [00:00, 36.68it/s]\n",
      "1it [00:00, 36.55it/s]\n",
      "1it [00:00, 36.26it/s]\n",
      "1it [00:00, 30.71it/s]\n",
      "1it [00:00, 36.52it/s]\n",
      "1it [00:00, 31.53it/s]\n",
      "0it [00:00, ?it/s]"
     ]
    },
    {
     "name": "stdout",
     "output_type": "stream",
     "text": [
      "* [TextCleaner] Cleaning text...\n",
      "* [TextCleaner] Cleaning text...\n",
      "* [TextCleaner] Cleaning text...\n",
      "* [TextCleaner] Cleaning text...\n",
      "* [TextCleaner] Cleaning text...\n",
      "* [TextCleaner] Cleaning text...\n"
     ]
    },
    {
     "name": "stderr",
     "output_type": "stream",
     "text": [
      "1it [00:00, 37.38it/s]\n",
      "1it [00:00, 27.50it/s]\n",
      "1it [00:00, 33.01it/s]\n",
      "1it [00:00, 35.76it/s]\n",
      "1it [00:00, 36.16it/s]\n",
      "1it [00:00, 34.27it/s]\n",
      "0it [00:00, ?it/s]"
     ]
    },
    {
     "name": "stdout",
     "output_type": "stream",
     "text": [
      "* [TextCleaner] Cleaning text...\n",
      "* [TextCleaner] Cleaning text...\n",
      "* [TextCleaner] Cleaning text...\n",
      "* [TextCleaner] Cleaning text...\n",
      "* [TextCleaner] Cleaning text...\n",
      "* [TextCleaner] Cleaning text...\n"
     ]
    },
    {
     "name": "stderr",
     "output_type": "stream",
     "text": [
      "1it [00:00, 31.94it/s]\n",
      "1it [00:00, 29.16it/s]\n",
      "1it [00:00, 30.74it/s]\n",
      "1it [00:00, 36.82it/s]\n",
      "1it [00:00, 60.55it/s]\n",
      "1it [00:00, 30.13it/s]\n",
      "1it [00:00, 40.42it/s]\n",
      "0it [00:00, ?it/s]"
     ]
    },
    {
     "name": "stdout",
     "output_type": "stream",
     "text": [
      "* [TextCleaner] Cleaning text...\n",
      "* [TextCleaner] Cleaning text...\n",
      "* [TextCleaner] Cleaning text...\n",
      "* [TextCleaner] Cleaning text...\n",
      "* [TextCleaner] Cleaning text...\n",
      "* [TextCleaner] Cleaning text...\n",
      "* [TextCleaner] Cleaning text...\n"
     ]
    },
    {
     "name": "stderr",
     "output_type": "stream",
     "text": [
      "1it [00:00, 31.44it/s]\n",
      "1it [00:00, 40.44it/s]\n",
      "1it [00:00, 39.49it/s]\n",
      "1it [00:00, 33.07it/s]\n",
      "1it [00:00, 32.18it/s]\n",
      "1it [00:00, 35.95it/s]\n",
      "0it [00:00, ?it/s]"
     ]
    },
    {
     "name": "stdout",
     "output_type": "stream",
     "text": [
      "* [TextCleaner] Cleaning text...\n",
      "* [TextCleaner] Cleaning text...\n",
      "* [TextCleaner] Cleaning text...\n",
      "* [TextCleaner] Cleaning text...\n",
      "* [TextCleaner] Cleaning text...\n",
      "* [TextCleaner] Cleaning text...\n"
     ]
    },
    {
     "name": "stderr",
     "output_type": "stream",
     "text": [
      "1it [00:00, 30.62it/s]\n",
      "1it [00:00, 41.44it/s]\n",
      "1it [00:00, 34.26it/s]\n",
      "1it [00:00, 36.96it/s]\n",
      "1it [00:00, 34.23it/s]\n",
      "1it [00:00, 39.15it/s]\n",
      "1it [00:00, 53.13it/s]\n",
      "0it [00:00, ?it/s]"
     ]
    },
    {
     "name": "stdout",
     "output_type": "stream",
     "text": [
      "* [TextCleaner] Cleaning text...\n",
      "* [TextCleaner] Cleaning text...\n",
      "* [TextCleaner] Cleaning text...\n",
      "* [TextCleaner] Cleaning text...\n",
      "* [TextCleaner] Cleaning text...\n",
      "* [TextCleaner] Cleaning text...\n",
      "* [TextCleaner] Cleaning text...\n"
     ]
    },
    {
     "name": "stderr",
     "output_type": "stream",
     "text": [
      "1it [00:00, 27.87it/s]\n",
      "1it [00:00, 31.84it/s]\n",
      "1it [00:00, 30.88it/s]\n",
      "1it [00:00, 41.74it/s]\n",
      "1it [00:00, 31.03it/s]\n",
      "1it [00:00, 36.66it/s]\n",
      "0it [00:00, ?it/s]"
     ]
    },
    {
     "name": "stdout",
     "output_type": "stream",
     "text": [
      "* [TextCleaner] Cleaning text...\n",
      "* [TextCleaner] Cleaning text...\n",
      "* [TextCleaner] Cleaning text...\n",
      "* [TextCleaner] Cleaning text...\n",
      "* [TextCleaner] Cleaning text...\n",
      "* [TextCleaner] Cleaning text...\n"
     ]
    },
    {
     "name": "stderr",
     "output_type": "stream",
     "text": [
      "1it [00:00, 32.34it/s]\n",
      "1it [00:00, 31.62it/s]\n",
      "1it [00:00, 34.83it/s]\n",
      "1it [00:00, 36.01it/s]\n",
      "1it [00:00, 32.58it/s]\n",
      "1it [00:00, 31.33it/s]\n",
      "1it [00:00, 43.48it/s]\n"
     ]
    },
    {
     "name": "stdout",
     "output_type": "stream",
     "text": [
      "* [TextCleaner] Cleaning text...\n",
      "* [TextCleaner] Cleaning text...\n",
      "* [TextCleaner] Cleaning text...\n",
      "* [TextCleaner] Cleaning text...\n",
      "* [TextCleaner] Cleaning text...\n",
      "* [TextCleaner] Cleaning text...\n",
      "* [TextCleaner] Cleaning text..."
     ]
    },
    {
     "name": "stderr",
     "output_type": "stream",
     "text": [
      "1it [00:00, 40.75it/s]\n",
      "1it [00:00, 33.85it/s]\n",
      "1it [00:00, 31.17it/s]\n",
      "1it [00:00, 33.33it/s]\n",
      "1it [00:00, 41.18it/s]\n",
      "1it [00:00, 30.46it/s]\n",
      "0it [00:00, ?it/s]"
     ]
    },
    {
     "name": "stdout",
     "output_type": "stream",
     "text": [
      "\n",
      "* [TextCleaner] Cleaning text...\n",
      "* [TextCleaner] Cleaning text...\n",
      "* [TextCleaner] Cleaning text...\n",
      "* [TextCleaner] Cleaning text...\n",
      "* [TextCleaner] Cleaning text...\n",
      "* [TextCleaner] Cleaning text...\n"
     ]
    },
    {
     "name": "stderr",
     "output_type": "stream",
     "text": [
      "1it [00:00, 28.18it/s]\n",
      "1it [00:00, 28.21it/s]\n",
      "1it [00:00, 31.61it/s]\n",
      "1it [00:00, 29.09it/s]\n",
      "1it [00:00, 31.94it/s]\n",
      "1it [00:00, 39.72it/s]\n",
      "0it [00:00, ?it/s]"
     ]
    },
    {
     "name": "stdout",
     "output_type": "stream",
     "text": [
      "* [TextCleaner] Cleaning text...\n",
      "* [TextCleaner] Cleaning text...\n",
      "* [TextCleaner] Cleaning text...\n",
      "* [TextCleaner] Cleaning text...\n",
      "* [TextCleaner] Cleaning text...\n",
      "* [TextCleaner] Cleaning text...\n"
     ]
    },
    {
     "name": "stderr",
     "output_type": "stream",
     "text": [
      "1it [00:00, 28.23it/s]\n",
      "1it [00:00, 38.56it/s]\n",
      "1it [00:00, 38.43it/s]\n",
      "1it [00:00, 31.61it/s]\n",
      "1it [00:00, 28.90it/s]\n",
      "1it [00:00, 39.95it/s]\n",
      "0it [00:00, ?it/s]"
     ]
    },
    {
     "name": "stdout",
     "output_type": "stream",
     "text": [
      "* [TextCleaner] Cleaning text...\n",
      "* [TextCleaner] Cleaning text...\n",
      "* [TextCleaner] Cleaning text...\n",
      "* [TextCleaner] Cleaning text...\n",
      "* [TextCleaner] Cleaning text...\n",
      "* [TextCleaner] Cleaning text...\n"
     ]
    },
    {
     "name": "stderr",
     "output_type": "stream",
     "text": [
      "1it [00:00, 30.83it/s]\n",
      "1it [00:00, 31.30it/s]\n",
      "1it [00:00, 39.19it/s]\n",
      "1it [00:00, 37.79it/s]\n",
      "1it [00:00, 29.36it/s]\n",
      "1it [00:00, 135.40it/s]\n",
      "1it [00:00, 38.83it/s]\n",
      "0it [00:00, ?it/s]"
     ]
    },
    {
     "name": "stdout",
     "output_type": "stream",
     "text": [
      "* [TextCleaner] Cleaning text...\n",
      "* [TextCleaner] Cleaning text...\n",
      "* [TextCleaner] Cleaning text...\n",
      "* [TextCleaner] Cleaning text...\n",
      "* [TextCleaner] Cleaning text...\n",
      "* [TextCleaner] Cleaning text...\n",
      "* [TextCleaner] Cleaning text...\n"
     ]
    },
    {
     "name": "stderr",
     "output_type": "stream",
     "text": [
      "1it [00:00, 34.85it/s]\n",
      "1it [00:00, 26.28it/s]\n",
      "1it [00:00, 39.15it/s]\n",
      "1it [00:00, 29.48it/s]\n",
      "1it [00:00, 47.53it/s]\n",
      "1it [00:00, 44.38it/s]\n",
      "1it [00:00, 34.42it/s]\n"
     ]
    },
    {
     "name": "stdout",
     "output_type": "stream",
     "text": [
      "* [TextCleaner] Cleaning text...\n",
      "* [TextCleaner] Cleaning text...\n",
      "* [TextCleaner] Cleaning text...\n",
      "* [TextCleaner] Cleaning text...\n",
      "* [TextCleaner] Cleaning text...\n",
      "* [TextCleaner] Cleaning text...\n"
     ]
    },
    {
     "name": "stderr",
     "output_type": "stream",
     "text": [
      "1it [00:00, 40.84it/s]\n",
      "1it [00:00, 39.49it/s]\n",
      "1it [00:00, 38.66it/s]\n",
      "1it [00:00, 34.17it/s]\n",
      "1it [00:00, 39.16it/s]\n",
      "1it [00:00, 41.37it/s]\n",
      "1it [00:00, 46.70it/s]\n",
      "0it [00:00, ?it/s]"
     ]
    },
    {
     "name": "stdout",
     "output_type": "stream",
     "text": [
      "* [TextCleaner] Cleaning text...\n",
      "* [TextCleaner] Cleaning text...\n",
      "* [TextCleaner] Cleaning text...\n",
      "* [TextCleaner] Cleaning text...\n",
      "* [TextCleaner] Cleaning text...\n",
      "* [TextCleaner] Cleaning text...\n",
      "* [TextCleaner] Cleaning text...\n",
      "* [TextCleaner] Cleaning text...\n"
     ]
    },
    {
     "name": "stderr",
     "output_type": "stream",
     "text": [
      "1it [00:00, 40.98it/s]\n",
      "1it [00:00, 35.54it/s]\n",
      "1it [00:00, 45.15it/s]\n",
      "1it [00:00, 41.78it/s]\n",
      "1it [00:00, 28.59it/s]\n",
      "1it [00:00, 26.50it/s]\n",
      "0it [00:00, ?it/s]"
     ]
    },
    {
     "name": "stdout",
     "output_type": "stream",
     "text": [
      "* [TextCleaner] Cleaning text...\n",
      "* [TextCleaner] Cleaning text...\n",
      "* [TextCleaner] Cleaning text...\n",
      "* [TextCleaner] Cleaning text...\n",
      "* [TextCleaner] Cleaning text...\n",
      "* [TextCleaner] Cleaning text...\n"
     ]
    },
    {
     "name": "stderr",
     "output_type": "stream",
     "text": [
      "1it [00:00, 34.58it/s]\n",
      "1it [00:00, 35.96it/s]\n",
      "1it [00:00, 47.51it/s]\n",
      "1it [00:00, 45.79it/s]\n",
      "1it [00:00, 30.53it/s]\n",
      "1it [00:00, 34.55it/s]\n",
      "1it [00:00, 50.54it/s]\n",
      "0it [00:00, ?it/s]"
     ]
    },
    {
     "name": "stdout",
     "output_type": "stream",
     "text": [
      "* [TextCleaner] Cleaning text...\n",
      "* [TextCleaner] Cleaning text...\n",
      "* [TextCleaner] Cleaning text...\n",
      "* [TextCleaner] Cleaning text...\n",
      "* [TextCleaner] Cleaning text...\n",
      "* [TextCleaner] Cleaning text...\n",
      "* [TextCleaner] Cleaning text...\n"
     ]
    },
    {
     "name": "stderr",
     "output_type": "stream",
     "text": [
      "1it [00:00, 23.92it/s]\n",
      "1it [00:00, 30.33it/s]\n",
      "1it [00:00, 30.38it/s]\n",
      "1it [00:00, 34.27it/s]\n",
      "1it [00:00, 35.82it/s]\n",
      "1it [00:00, 61.42it/s]\n",
      "1it [00:00, 32.70it/s]\n",
      "0it [00:00, ?it/s]"
     ]
    },
    {
     "name": "stdout",
     "output_type": "stream",
     "text": [
      "* [TextCleaner] Cleaning text...\n",
      "* [TextCleaner] Cleaning text...\n",
      "* [TextCleaner] Cleaning text...\n",
      "* [TextCleaner] Cleaning text...\n",
      "* [TextCleaner] Cleaning text...\n",
      "* [TextCleaner] Cleaning text...\n",
      "* [TextCleaner] Cleaning text...\n"
     ]
    },
    {
     "name": "stderr",
     "output_type": "stream",
     "text": [
      "1it [00:00, 32.93it/s]\n",
      "1it [00:00, 36.81it/s]\n",
      "1it [00:00, 28.78it/s]\n",
      "1it [00:00, 35.51it/s]\n",
      "1it [00:00, 34.88it/s]\n",
      "1it [00:00, 33.82it/s]\n",
      "0it [00:00, ?it/s]"
     ]
    },
    {
     "name": "stdout",
     "output_type": "stream",
     "text": [
      "* [TextCleaner] Cleaning text...\n",
      "* [TextCleaner] Cleaning text...\n",
      "* [TextCleaner] Cleaning text...\n",
      "* [TextCleaner] Cleaning text...\n",
      "* [TextCleaner] Cleaning text...\n",
      "* [TextCleaner] Cleaning text...\n"
     ]
    },
    {
     "name": "stderr",
     "output_type": "stream",
     "text": [
      "1it [00:00, 27.73it/s]\n",
      "1it [00:00, 32.21it/s]\n",
      "1it [00:00, 36.69it/s]\n",
      "1it [00:00, 35.91it/s]\n",
      "1it [00:00, 28.36it/s]\n",
      "1it [00:00, 37.00it/s]\n",
      "1it [00:00, 40.20it/s]"
     ]
    },
    {
     "name": "stdout",
     "output_type": "stream",
     "text": [
      "* [TextCleaner] Cleaning text...\n",
      "* [TextCleaner] Cleaning text...\n",
      "* [TextCleaner] Cleaning text...\n",
      "* [TextCleaner] Cleaning text...\n",
      "* [TextCleaner] Cleaning text...\n",
      "* [TextCleaner] Cleaning text...\n"
     ]
    },
    {
     "name": "stderr",
     "output_type": "stream",
     "text": [
      "\n",
      "1it [00:00, 38.48it/s]\n",
      "1it [00:00, 33.96it/s]\n",
      "1it [00:00, 36.79it/s]\n",
      "1it [00:00, 33.21it/s]\n",
      "1it [00:00, 32.31it/s]\n",
      "1it [00:00, 41.45it/s]\n",
      "0it [00:00, ?it/s]"
     ]
    },
    {
     "name": "stdout",
     "output_type": "stream",
     "text": [
      "* [TextCleaner] Cleaning text...\n",
      "* [TextCleaner] Cleaning text...\n",
      "* [TextCleaner] Cleaning text...\n",
      "* [TextCleaner] Cleaning text...\n",
      "* [TextCleaner] Cleaning text...\n",
      "* [TextCleaner] Cleaning text...\n",
      "* [TextCleaner] Cleaning text...\n"
     ]
    },
    {
     "name": "stderr",
     "output_type": "stream",
     "text": [
      "1it [00:00, 28.33it/s]\n",
      "1it [00:00, 35.16it/s]\n",
      "1it [00:00, 31.23it/s]\n",
      "1it [00:00, 41.24it/s]\n",
      "1it [00:00, 40.84it/s]\n",
      "1it [00:00, 46.01it/s]\n",
      "1it [00:00, 37.00it/s]\n",
      "0it [00:00, ?it/s]"
     ]
    },
    {
     "name": "stdout",
     "output_type": "stream",
     "text": [
      "* [TextCleaner] Cleaning text...\n",
      "* [TextCleaner] Cleaning text...\n",
      "* [TextCleaner] Cleaning text...\n",
      "* [TextCleaner] Cleaning text...\n",
      "* [TextCleaner] Cleaning text...\n",
      "* [TextCleaner] Cleaning text...\n",
      "* [TextCleaner] Cleaning text...\n"
     ]
    },
    {
     "name": "stderr",
     "output_type": "stream",
     "text": [
      "1it [00:00, 46.87it/s]\n",
      "1it [00:00, 28.88it/s]\n",
      "1it [00:00, 37.63it/s]\n",
      "1it [00:00, 36.40it/s]\n",
      "1it [00:00, 33.80it/s]\n",
      "1it [00:00, 31.26it/s]\n",
      "0it [00:00, ?it/s]"
     ]
    },
    {
     "name": "stdout",
     "output_type": "stream",
     "text": [
      "* [TextCleaner] Cleaning text...\n",
      "* [TextCleaner] Cleaning text...\n",
      "* [TextCleaner] Cleaning text...\n",
      "* [TextCleaner] Cleaning text...\n",
      "* [TextCleaner] Cleaning text...\n",
      "* [TextCleaner] Cleaning text...\n"
     ]
    },
    {
     "name": "stderr",
     "output_type": "stream",
     "text": [
      "1it [00:00, 34.39it/s]\n",
      "1it [00:00, 45.18it/s]\n",
      "1it [00:00, 41.23it/s]\n",
      "1it [00:00, 38.04it/s]\n",
      "1it [00:00, 28.12it/s]\n",
      "1it [00:00, 31.22it/s]\n",
      "1it [00:00, 33.20it/s]\n",
      "0it [00:00, ?it/s]"
     ]
    },
    {
     "name": "stdout",
     "output_type": "stream",
     "text": [
      "* [TextCleaner] Cleaning text...\n",
      "* [TextCleaner] Cleaning text...\n",
      "* [TextCleaner] Cleaning text...\n",
      "* [TextCleaner] Cleaning text...\n",
      "* [TextCleaner] Cleaning text...\n",
      "* [TextCleaner] Cleaning text...\n",
      "* [TextCleaner] Cleaning text...\n"
     ]
    },
    {
     "name": "stderr",
     "output_type": "stream",
     "text": [
      "1it [00:00, 34.58it/s]\n",
      "1it [00:00, 50.19it/s]\n",
      "1it [00:00, 27.89it/s]\n",
      "1it [00:00, 32.56it/s]\n",
      "1it [00:00, 34.15it/s]\n",
      "1it [00:00, 31.84it/s]\n",
      "0it [00:00, ?it/s]"
     ]
    },
    {
     "name": "stdout",
     "output_type": "stream",
     "text": [
      "* [TextCleaner] Cleaning text...\n",
      "* [TextCleaner] Cleaning text...\n",
      "* [TextCleaner] Cleaning text...\n",
      "* [TextCleaner] Cleaning text...\n",
      "* [TextCleaner] Cleaning text...\n",
      "* [TextCleaner] Cleaning text...\n"
     ]
    },
    {
     "name": "stderr",
     "output_type": "stream",
     "text": [
      "1it [00:00, 30.77it/s]\n",
      "1it [00:00, 36.76it/s]\n",
      "1it [00:00, 36.36it/s]\n",
      "1it [00:00, 28.58it/s]\n",
      "1it [00:00, 37.23it/s]\n",
      "1it [00:00, 36.20it/s]\n",
      "0it [00:00, ?it/s]"
     ]
    },
    {
     "name": "stdout",
     "output_type": "stream",
     "text": [
      "* [TextCleaner] Cleaning text...\n",
      "* [TextCleaner] Cleaning text...\n",
      "* [TextCleaner] Cleaning text...\n",
      "* [TextCleaner] Cleaning text...\n",
      "* [TextCleaner] Cleaning text...\n",
      "* [TextCleaner] Cleaning text...\n"
     ]
    },
    {
     "name": "stderr",
     "output_type": "stream",
     "text": [
      "1it [00:00, 30.40it/s]\n",
      "1it [00:00, 31.33it/s]\n",
      "1it [00:00, 34.13it/s]\n",
      "1it [00:00, 45.04it/s]\n",
      "1it [00:00, 27.06it/s]\n",
      "1it [00:00, 28.45it/s]\n",
      "0it [00:00, ?it/s]"
     ]
    },
    {
     "name": "stdout",
     "output_type": "stream",
     "text": [
      "* [TextCleaner] Cleaning text...\n",
      "* [TextCleaner] Cleaning text...\n",
      "* [TextCleaner] Cleaning text...\n",
      "* [TextCleaner] Cleaning text...\n",
      "* [TextCleaner] Cleaning text...\n",
      "* [TextCleaner] Cleaning text...\n"
     ]
    },
    {
     "name": "stderr",
     "output_type": "stream",
     "text": [
      "1it [00:00, 38.05it/s]\n",
      "1it [00:00, 34.29it/s]\n",
      "1it [00:00, 36.04it/s]\n",
      "1it [00:00, 43.89it/s]\n",
      "1it [00:00, 36.36it/s]\n",
      "1it [00:00, 39.29it/s]\n",
      "1it [00:00, 41.51it/s]\n",
      "0it [00:00, ?it/s]"
     ]
    },
    {
     "name": "stdout",
     "output_type": "stream",
     "text": [
      "* [TextCleaner] Cleaning text...\n",
      "* [TextCleaner] Cleaning text...\n",
      "* [TextCleaner] Cleaning text...\n",
      "* [TextCleaner] Cleaning text...\n",
      "* [TextCleaner] Cleaning text...\n",
      "* [TextCleaner] Cleaning text...\n",
      "* [TextCleaner] Cleaning text...\n"
     ]
    },
    {
     "name": "stderr",
     "output_type": "stream",
     "text": [
      "1it [00:00, 32.12it/s]\n",
      "1it [00:00, 38.15it/s]\n",
      "1it [00:00, 45.57it/s]\n",
      "1it [00:00, 38.68it/s]\n",
      "1it [00:00, 37.09it/s]\n",
      "1it [00:00, 38.80it/s]\n",
      "1it [00:00, 39.65it/s]\n",
      "0it [00:00, ?it/s]"
     ]
    },
    {
     "name": "stdout",
     "output_type": "stream",
     "text": [
      "* [TextCleaner] Cleaning text...\n",
      "* [TextCleaner] Cleaning text...\n",
      "* [TextCleaner] Cleaning text...\n",
      "* [TextCleaner] Cleaning text...\n",
      "* [TextCleaner] Cleaning text...\n",
      "* [TextCleaner] Cleaning text...\n",
      "* [TextCleaner] Cleaning text...\n"
     ]
    },
    {
     "name": "stderr",
     "output_type": "stream",
     "text": [
      "1it [00:00, 30.30it/s]\n",
      "1it [00:00, 34.44it/s]\n",
      "1it [00:00, 39.84it/s]\n",
      "1it [00:00, 33.41it/s]\n",
      "1it [00:00, 30.02it/s]\n",
      "1it [00:00, 39.32it/s]\n",
      "0it [00:00, ?it/s]"
     ]
    },
    {
     "name": "stdout",
     "output_type": "stream",
     "text": [
      "* [TextCleaner] Cleaning text...\n",
      "* [TextCleaner] Cleaning text...\n",
      "* [TextCleaner] Cleaning text...\n",
      "* [TextCleaner] Cleaning text...\n",
      "* [TextCleaner] Cleaning text...\n",
      "* [TextCleaner] Cleaning text...\n"
     ]
    },
    {
     "name": "stderr",
     "output_type": "stream",
     "text": [
      "1it [00:00, 32.03it/s]\n",
      "1it [00:00, 30.52it/s]\n",
      "1it [00:00, 31.88it/s]\n",
      "1it [00:00, 37.17it/s]\n",
      "1it [00:00, 31.29it/s]\n",
      "1it [00:00, 34.23it/s]\n",
      "0it [00:00, ?it/s]"
     ]
    },
    {
     "name": "stdout",
     "output_type": "stream",
     "text": [
      "* [TextCleaner] Cleaning text...\n",
      "* [TextCleaner] Cleaning text...\n",
      "* [TextCleaner] Cleaning text...\n",
      "* [TextCleaner] Cleaning text...\n",
      "* [TextCleaner] Cleaning text...\n",
      "* [TextCleaner] Cleaning text...\n"
     ]
    },
    {
     "name": "stderr",
     "output_type": "stream",
     "text": [
      "1it [00:00, 31.98it/s]\n",
      "1it [00:00, 34.93it/s]\n",
      "1it [00:00, 29.41it/s]\n",
      "1it [00:00, 39.61it/s]\n",
      "1it [00:00, 38.09it/s]\n",
      "1it [00:00, 32.97it/s]\n",
      "1it [00:00, 40.53it/s]"
     ]
    },
    {
     "name": "stdout",
     "output_type": "stream",
     "text": [
      "* [TextCleaner] Cleaning text...\n",
      "* [TextCleaner] Cleaning text...\n",
      "* [TextCleaner] Cleaning text...\n",
      "* [TextCleaner] Cleaning text...\n",
      "* [TextCleaner] Cleaning text...\n",
      "* [TextCleaner] Cleaning text...\n"
     ]
    },
    {
     "name": "stderr",
     "output_type": "stream",
     "text": [
      "\n",
      "1it [00:00, 38.81it/s]\n",
      "1it [00:00, 37.70it/s]\n",
      "1it [00:00, 32.85it/s]\n",
      "1it [00:00, 30.53it/s]\n",
      "1it [00:00, 37.98it/s]\n",
      "1it [00:00, 31.60it/s]\n",
      "0it [00:00, ?it/s]"
     ]
    },
    {
     "name": "stdout",
     "output_type": "stream",
     "text": [
      "* [TextCleaner] Cleaning text...\n",
      "* [TextCleaner] Cleaning text...\n",
      "* [TextCleaner] Cleaning text...\n",
      "* [TextCleaner] Cleaning text...\n",
      "* [TextCleaner] Cleaning text...\n",
      "* [TextCleaner] Cleaning text...\n",
      "* [TextCleaner] Cleaning text...\n"
     ]
    },
    {
     "name": "stderr",
     "output_type": "stream",
     "text": [
      "1it [00:00, 36.57it/s]\n",
      "1it [00:00, 53.41it/s]\n",
      "1it [00:00, 38.73it/s]\n",
      "1it [00:00, 42.13it/s]\n",
      "1it [00:00, 43.99it/s]\n",
      "1it [00:00, 31.94it/s]\n",
      "1it [00:00, 31.79it/s]\n",
      "0it [00:00, ?it/s]"
     ]
    },
    {
     "name": "stdout",
     "output_type": "stream",
     "text": [
      "* [TextCleaner] Cleaning text...\n",
      "* [TextCleaner] Cleaning text...\n",
      "* [TextCleaner] Cleaning text...\n",
      "* [TextCleaner] Cleaning text...\n",
      "* [TextCleaner] Cleaning text...\n",
      "* [TextCleaner] Cleaning text...\n",
      "* [TextCleaner] Cleaning text...\n"
     ]
    },
    {
     "name": "stderr",
     "output_type": "stream",
     "text": [
      "1it [00:00, 41.83it/s]\n",
      "1it [00:00, 37.07it/s]\n",
      "1it [00:00, 33.68it/s]\n",
      "1it [00:00, 37.43it/s]\n",
      "1it [00:00, 31.92it/s]\n",
      "1it [00:00, 32.59it/s]\n",
      "0it [00:00, ?it/s]"
     ]
    },
    {
     "name": "stdout",
     "output_type": "stream",
     "text": [
      "* [TextCleaner] Cleaning text...\n",
      "* [TextCleaner] Cleaning text...\n",
      "* [TextCleaner] Cleaning text...\n",
      "* [TextCleaner] Cleaning text...\n",
      "* [TextCleaner] Cleaning text...\n",
      "* [TextCleaner] Cleaning text...\n"
     ]
    },
    {
     "name": "stderr",
     "output_type": "stream",
     "text": [
      "1it [00:00, 39.03it/s]\n",
      "1it [00:00, 40.78it/s]\n",
      "1it [00:00, 41.25it/s]\n",
      "1it [00:00, 33.95it/s]\n",
      "1it [00:00, 28.03it/s]\n",
      "1it [00:00, 34.04it/s]\n",
      "1it [00:00, 33.65it/s]"
     ]
    },
    {
     "name": "stdout",
     "output_type": "stream",
     "text": [
      "* [TextCleaner] Cleaning text...\n",
      "* [TextCleaner] Cleaning text...\n",
      "* [TextCleaner] Cleaning text...\n",
      "* [TextCleaner] Cleaning text...\n",
      "* [TextCleaner] Cleaning text...\n",
      "* [TextCleaner] Cleaning text...\n"
     ]
    },
    {
     "name": "stderr",
     "output_type": "stream",
     "text": [
      "\n",
      "1it [00:00, 35.89it/s]\n",
      "1it [00:00, 37.98it/s]\n",
      "1it [00:00, 170.89it/s]\n",
      "1it [00:00, 40.54it/s]\n",
      "1it [00:00, 34.03it/s]\n",
      "1it [00:00, 35.38it/s]\n",
      "1it [00:00, 37.77it/s]\n"
     ]
    },
    {
     "name": "stdout",
     "output_type": "stream",
     "text": [
      "* [TextCleaner] Cleaning text...\n",
      "* [TextCleaner] Cleaning text...\n",
      "* [TextCleaner] Cleaning text...\n",
      "* [TextCleaner] Cleaning text...\n",
      "* [TextCleaner] Cleaning text...\n",
      "* [TextCleaner] Cleaning text...\n",
      "* [TextCleaner] Cleaning text...\n"
     ]
    },
    {
     "name": "stderr",
     "output_type": "stream",
     "text": [
      "1it [00:00, 63.64it/s]\n",
      "1it [00:00, 31.84it/s]\n",
      "1it [00:00, 33.18it/s]\n",
      "1it [00:00, 34.86it/s]\n",
      "1it [00:00, 37.35it/s]\n",
      "1it [00:00, 37.15it/s]\n",
      "0it [00:00, ?it/s]"
     ]
    },
    {
     "name": "stdout",
     "output_type": "stream",
     "text": [
      "* [TextCleaner] Cleaning text...\n",
      "* [TextCleaner] Cleaning text...\n",
      "* [TextCleaner] Cleaning text...\n",
      "* [TextCleaner] Cleaning text...\n",
      "* [TextCleaner] Cleaning text...\n",
      "* [TextCleaner] Cleaning text...\n",
      "* [TextCleaner] Cleaning text...\n"
     ]
    },
    {
     "name": "stderr",
     "output_type": "stream",
     "text": [
      "1it [00:00, 31.70it/s]\n",
      "1it [00:00, 36.58it/s]\n",
      "1it [00:00, 33.20it/s]\n",
      "1it [00:00, 43.69it/s]\n",
      "1it [00:00, 45.55it/s]\n",
      "1it [00:00, 34.43it/s]\n",
      "1it [00:00, 35.35it/s]\n",
      "0it [00:00, ?it/s]"
     ]
    },
    {
     "name": "stdout",
     "output_type": "stream",
     "text": [
      "* [TextCleaner] Cleaning text...\n",
      "* [TextCleaner] Cleaning text...\n",
      "* [TextCleaner] Cleaning text...\n",
      "* [TextCleaner] Cleaning text...\n",
      "* [TextCleaner] Cleaning text...\n",
      "* [TextCleaner] Cleaning text...\n",
      "* [TextCleaner] Cleaning text...\n"
     ]
    },
    {
     "name": "stderr",
     "output_type": "stream",
     "text": [
      "1it [00:00, 29.97it/s]\n",
      "1it [00:00, 23.47it/s]\n",
      "1it [00:00, 29.09it/s]\n",
      "1it [00:00, 98.64it/s]\n",
      "1it [00:00, 35.80it/s]\n",
      "1it [00:00, 31.45it/s]\n",
      "0it [00:00, ?it/s]"
     ]
    },
    {
     "name": "stdout",
     "output_type": "stream",
     "text": [
      "* [TextCleaner] Cleaning text...\n",
      "* [TextCleaner] Cleaning text...\n",
      "* [TextCleaner] Cleaning text...\n",
      "* [TextCleaner] Cleaning text...\n",
      "* [TextCleaner] Cleaning text...\n",
      "* [TextCleaner] Cleaning text...\n"
     ]
    },
    {
     "name": "stderr",
     "output_type": "stream",
     "text": [
      "1it [00:00, 35.71it/s]\n",
      "1it [00:00, 31.78it/s]\n",
      "1it [00:00, 38.26it/s]\n",
      "1it [00:00, 38.72it/s]\n",
      "1it [00:00, 30.76it/s]\n",
      "1it [00:00, 37.54it/s]\n",
      "1it [00:00, 40.51it/s]\n",
      "0it [00:00, ?it/s]"
     ]
    },
    {
     "name": "stdout",
     "output_type": "stream",
     "text": [
      "* [TextCleaner] Cleaning text...\n",
      "* [TextCleaner] Cleaning text...\n",
      "* [TextCleaner] Cleaning text...\n",
      "* [TextCleaner] Cleaning text...\n",
      "* [TextCleaner] Cleaning text...\n",
      "* [TextCleaner] Cleaning text...\n",
      "* [TextCleaner] Cleaning text...\n"
     ]
    },
    {
     "name": "stderr",
     "output_type": "stream",
     "text": [
      "1it [00:00, 34.97it/s]\n",
      "1it [00:00, 30.78it/s]\n",
      "1it [00:00, 30.96it/s]\n",
      "1it [00:00, 34.21it/s]\n",
      "1it [00:00, 38.59it/s]\n",
      "1it [00:00, 37.69it/s]\n",
      "0it [00:00, ?it/s]"
     ]
    },
    {
     "name": "stdout",
     "output_type": "stream",
     "text": [
      "* [TextCleaner] Cleaning text...\n",
      "* [TextCleaner] Cleaning text...\n",
      "* [TextCleaner] Cleaning text...\n",
      "* [TextCleaner] Cleaning text...\n",
      "* [TextCleaner] Cleaning text...\n",
      "* [TextCleaner] Cleaning text...\n"
     ]
    },
    {
     "name": "stderr",
     "output_type": "stream",
     "text": [
      "1it [00:00, 35.15it/s]\n",
      "1it [00:00, 43.20it/s]\n",
      "1it [00:00, 39.34it/s]\n",
      "1it [00:00, 32.28it/s]\n",
      "1it [00:00, 39.09it/s]\n",
      "1it [00:00, 43.52it/s]\n",
      "1it [00:00, 30.13it/s]\n",
      "0it [00:00, ?it/s]"
     ]
    },
    {
     "name": "stdout",
     "output_type": "stream",
     "text": [
      "* [TextCleaner] Cleaning text...\n",
      "* [TextCleaner] Cleaning text...\n",
      "* [TextCleaner] Cleaning text...\n",
      "* [TextCleaner] Cleaning text...\n",
      "* [TextCleaner] Cleaning text...\n",
      "* [TextCleaner] Cleaning text...\n",
      "* [TextCleaner] Cleaning text...\n"
     ]
    },
    {
     "name": "stderr",
     "output_type": "stream",
     "text": [
      "1it [00:00, 34.35it/s]\n",
      "1it [00:00, 28.38it/s]\n",
      "1it [00:00, 34.40it/s]\n",
      "1it [00:00, 45.52it/s]\n",
      "1it [00:00, 36.52it/s]\n",
      "1it [00:00, 42.01it/s]\n",
      "1it [00:00, 36.10it/s]\n",
      "0it [00:00, ?it/s]"
     ]
    },
    {
     "name": "stdout",
     "output_type": "stream",
     "text": [
      "* [TextCleaner] Cleaning text...\n",
      "* [TextCleaner] Cleaning text...\n",
      "* [TextCleaner] Cleaning text...\n",
      "* [TextCleaner] Cleaning text...\n",
      "* [TextCleaner] Cleaning text...\n",
      "* [TextCleaner] Cleaning text...\n",
      "* [TextCleaner] Cleaning text...\n"
     ]
    },
    {
     "name": "stderr",
     "output_type": "stream",
     "text": [
      "1it [00:00, 31.50it/s]\n",
      "1it [00:00, 42.51it/s]\n",
      "1it [00:00, 38.97it/s]\n",
      "1it [00:00, 31.33it/s]\n",
      "1it [00:00, 40.14it/s]\n",
      "1it [00:00, 34.74it/s]\n",
      "1it [00:00, 33.83it/s]\n"
     ]
    },
    {
     "name": "stdout",
     "output_type": "stream",
     "text": [
      "* [TextCleaner] Cleaning text...\n",
      "* [TextCleaner] Cleaning text...\n",
      "* [TextCleaner] Cleaning text...\n",
      "* [TextCleaner] Cleaning text...\n",
      "* [TextCleaner] Cleaning text...\n",
      "* [TextCleaner] Cleaning text...\n",
      "* [TextCleaner] Cleaning text...\n"
     ]
    },
    {
     "name": "stderr",
     "output_type": "stream",
     "text": [
      "1it [00:00, 37.09it/s]\n",
      "1it [00:00, 30.32it/s]\n",
      "1it [00:00, 37.11it/s]\n",
      "1it [00:00, 30.55it/s]\n",
      "1it [00:00, 39.46it/s]\n",
      "1it [00:00, 34.68it/s]\n",
      "0it [00:00, ?it/s]"
     ]
    },
    {
     "name": "stdout",
     "output_type": "stream",
     "text": [
      "* [TextCleaner] Cleaning text...\n",
      "* [TextCleaner] Cleaning text...\n",
      "* [TextCleaner] Cleaning text...\n",
      "* [TextCleaner] Cleaning text...\n",
      "* [TextCleaner] Cleaning text...\n",
      "* [TextCleaner] Cleaning text...\n"
     ]
    },
    {
     "name": "stderr",
     "output_type": "stream",
     "text": [
      "1it [00:00, 25.50it/s]\n",
      "1it [00:00, 32.41it/s]\n",
      "1it [00:00, 39.40it/s]\n",
      "1it [00:00, 29.67it/s]\n",
      "1it [00:00, 34.06it/s]\n",
      "1it [00:00, 24.49it/s]\n",
      "0it [00:00, ?it/s]"
     ]
    },
    {
     "name": "stdout",
     "output_type": "stream",
     "text": [
      "* [TextCleaner] Cleaning text...\n",
      "* [TextCleaner] Cleaning text...\n",
      "* [TextCleaner] Cleaning text...\n",
      "* [TextCleaner] Cleaning text...\n",
      "* [TextCleaner] Cleaning text...\n",
      "* [TextCleaner] Cleaning text...\n"
     ]
    },
    {
     "name": "stderr",
     "output_type": "stream",
     "text": [
      "1it [00:00, 39.83it/s]\n",
      "1it [00:00, 32.72it/s]\n",
      "1it [00:00, 29.65it/s]\n",
      "1it [00:00, 40.55it/s]\n",
      "1it [00:00, 30.72it/s]\n",
      "1it [00:00, 34.76it/s]\n",
      "0it [00:00, ?it/s]"
     ]
    },
    {
     "name": "stdout",
     "output_type": "stream",
     "text": [
      "* [TextCleaner] Cleaning text...\n",
      "* [TextCleaner] Cleaning text...\n",
      "* [TextCleaner] Cleaning text...\n",
      "* [TextCleaner] Cleaning text...\n",
      "* [TextCleaner] Cleaning text...\n",
      "* [TextCleaner] Cleaning text...\n"
     ]
    },
    {
     "name": "stderr",
     "output_type": "stream",
     "text": [
      "1it [00:00, 28.35it/s]\n",
      "1it [00:00, 45.18it/s]\n",
      "1it [00:00, 46.53it/s]\n",
      "1it [00:00, 37.07it/s]\n",
      "1it [00:00, 33.86it/s]\n",
      "1it [00:00, 31.82it/s]\n",
      "1it [00:00, 36.43it/s]\n",
      "0it [00:00, ?it/s]"
     ]
    },
    {
     "name": "stdout",
     "output_type": "stream",
     "text": [
      "* [TextCleaner] Cleaning text...\n",
      "* [TextCleaner] Cleaning text...\n",
      "* [TextCleaner] Cleaning text...\n",
      "* [TextCleaner] Cleaning text...\n",
      "* [TextCleaner] Cleaning text...\n",
      "* [TextCleaner] Cleaning text...\n",
      "* [TextCleaner] Cleaning text...\n"
     ]
    },
    {
     "name": "stderr",
     "output_type": "stream",
     "text": [
      "1it [00:00, 34.88it/s]\n",
      "1it [00:00, 31.55it/s]\n",
      "1it [00:00, 38.90it/s]\n",
      "1it [00:00, 50.40it/s]\n",
      "1it [00:00, 40.24it/s]\n",
      "1it [00:00, 40.05it/s]\n",
      "1it [00:00, 44.88it/s]\n",
      "0it [00:00, ?it/s]"
     ]
    },
    {
     "name": "stdout",
     "output_type": "stream",
     "text": [
      "* [TextCleaner] Cleaning text...\n",
      "* [TextCleaner] Cleaning text...\n",
      "* [TextCleaner] Cleaning text...\n",
      "* [TextCleaner] Cleaning text...\n",
      "* [TextCleaner] Cleaning text...\n",
      "* [TextCleaner] Cleaning text...\n",
      "* [TextCleaner] Cleaning text...\n"
     ]
    },
    {
     "name": "stderr",
     "output_type": "stream",
     "text": [
      "1it [00:00, 35.69it/s]\n",
      "1it [00:00, 32.21it/s]\n",
      "1it [00:00, 39.69it/s]\n",
      "1it [00:00, 39.01it/s]\n",
      "1it [00:00, 37.23it/s]\n",
      "1it [00:00, 27.63it/s]\n",
      "1it [00:00, 34.06it/s]"
     ]
    },
    {
     "name": "stdout",
     "output_type": "stream",
     "text": [
      "* [TextCleaner] Cleaning text...\n",
      "* [TextCleaner] Cleaning text...\n",
      "* [TextCleaner] Cleaning text...\n",
      "* [TextCleaner] Cleaning text...\n",
      "* [TextCleaner] Cleaning text...\n",
      "* [TextCleaner] Cleaning text...\n"
     ]
    },
    {
     "name": "stderr",
     "output_type": "stream",
     "text": [
      "\n",
      "1it [00:00, 54.49it/s]\n",
      "1it [00:00, 36.50it/s]\n",
      "1it [00:00, 27.11it/s]\n",
      "1it [00:00, 39.82it/s]\n",
      "1it [00:00, 48.99it/s]\n",
      "1it [00:00, 34.30it/s]\n",
      "0it [00:00, ?it/s]"
     ]
    },
    {
     "name": "stdout",
     "output_type": "stream",
     "text": [
      "* [TextCleaner] Cleaning text...\n",
      "* [TextCleaner] Cleaning text...\n",
      "* [TextCleaner] Cleaning text...\n",
      "* [TextCleaner] Cleaning text...\n",
      "* [TextCleaner] Cleaning text...\n",
      "* [TextCleaner] Cleaning text...\n",
      "* [TextCleaner] Cleaning text...\n"
     ]
    },
    {
     "name": "stderr",
     "output_type": "stream",
     "text": [
      "1it [00:00, 31.64it/s]\n",
      "1it [00:00, 39.17it/s]\n",
      "1it [00:00, 38.75it/s]\n",
      "1it [00:00, 58.53it/s]\n",
      "1it [00:00, 33.04it/s]\n",
      "1it [00:00, 42.77it/s]\n",
      "1it [00:00, 38.40it/s]\n",
      "0it [00:00, ?it/s]"
     ]
    },
    {
     "name": "stdout",
     "output_type": "stream",
     "text": [
      "* [TextCleaner] Cleaning text...\n",
      "* [TextCleaner] Cleaning text...\n",
      "* [TextCleaner] Cleaning text...\n",
      "* [TextCleaner] Cleaning text...\n",
      "* [TextCleaner] Cleaning text...\n",
      "* [TextCleaner] Cleaning text...\n",
      "* [TextCleaner] Cleaning text...\n"
     ]
    },
    {
     "name": "stderr",
     "output_type": "stream",
     "text": [
      "1it [00:00, 27.29it/s]\n",
      "1it [00:00, 33.30it/s]\n",
      "1it [00:00, 35.70it/s]\n",
      "1it [00:00, 26.14it/s]\n",
      "1it [00:00, 36.91it/s]\n",
      "1it [00:00, 33.88it/s]\n",
      "0it [00:00, ?it/s]"
     ]
    },
    {
     "name": "stdout",
     "output_type": "stream",
     "text": [
      "* [TextCleaner] Cleaning text...\n",
      "* [TextCleaner] Cleaning text...\n",
      "* [TextCleaner] Cleaning text...\n",
      "* [TextCleaner] Cleaning text...\n",
      "* [TextCleaner] Cleaning text...\n",
      "* [TextCleaner] Cleaning text...\n"
     ]
    },
    {
     "name": "stderr",
     "output_type": "stream",
     "text": [
      "1it [00:00, 34.23it/s]\n",
      "1it [00:00, 31.92it/s]\n",
      "1it [00:00, 37.41it/s]\n",
      "1it [00:00, 31.32it/s]\n",
      "1it [00:00, 38.99it/s]\n",
      "1it [00:00, 38.76it/s]\n",
      "1it [00:00, 39.31it/s]\n",
      "0it [00:00, ?it/s]"
     ]
    },
    {
     "name": "stdout",
     "output_type": "stream",
     "text": [
      "* [TextCleaner] Cleaning text...\n",
      "* [TextCleaner] Cleaning text...\n",
      "* [TextCleaner] Cleaning text...\n",
      "* [TextCleaner] Cleaning text...\n",
      "* [TextCleaner] Cleaning text...\n",
      "* [TextCleaner] Cleaning text...\n",
      "* [TextCleaner] Cleaning text...\n"
     ]
    },
    {
     "name": "stderr",
     "output_type": "stream",
     "text": [
      "1it [00:00, 34.16it/s]\n",
      "1it [00:00, 33.25it/s]\n",
      "1it [00:00, 36.22it/s]\n",
      "1it [00:00, 30.66it/s]\n",
      "1it [00:00, 39.83it/s]\n",
      "1it [00:00, 48.00it/s]\n",
      "1it [00:00, 36.09it/s]\n",
      "0it [00:00, ?it/s]"
     ]
    },
    {
     "name": "stdout",
     "output_type": "stream",
     "text": [
      "* [TextCleaner] Cleaning text...\n",
      "* [TextCleaner] Cleaning text...\n",
      "* [TextCleaner] Cleaning text...\n",
      "* [TextCleaner] Cleaning text...\n",
      "* [TextCleaner] Cleaning text...\n",
      "* [TextCleaner] Cleaning text...\n",
      "* [TextCleaner] Cleaning text...\n"
     ]
    },
    {
     "name": "stderr",
     "output_type": "stream",
     "text": [
      "1it [00:00, 32.34it/s]\n",
      "1it [00:00, 33.80it/s]\n",
      "1it [00:00, 39.70it/s]\n",
      "1it [00:00, 31.55it/s]\n",
      "1it [00:00, 71.45it/s]\n",
      "1it [00:00, 34.27it/s]\n",
      "1it [00:00, 31.69it/s]\n",
      "0it [00:00, ?it/s]"
     ]
    },
    {
     "name": "stdout",
     "output_type": "stream",
     "text": [
      "* [TextCleaner] Cleaning text...\n",
      "* [TextCleaner] Cleaning text...\n",
      "* [TextCleaner] Cleaning text...\n",
      "* [TextCleaner] Cleaning text...\n",
      "* [TextCleaner] Cleaning text...\n",
      "* [TextCleaner] Cleaning text...\n",
      "* [TextCleaner] Cleaning text...\n"
     ]
    },
    {
     "name": "stderr",
     "output_type": "stream",
     "text": [
      "1it [00:00, 38.18it/s]\n",
      "1it [00:00, 34.14it/s]\n",
      "1it [00:00, 46.72it/s]\n",
      "1it [00:00, 33.62it/s]\n",
      "1it [00:00, 31.24it/s]\n",
      "1it [00:00, 37.79it/s]\n",
      "1it [00:00, 79.69it/s]\n",
      "0it [00:00, ?it/s]"
     ]
    },
    {
     "name": "stdout",
     "output_type": "stream",
     "text": [
      "* [TextCleaner] Cleaning text...\n",
      "* [TextCleaner] Cleaning text...\n",
      "* [TextCleaner] Cleaning text...\n",
      "* [TextCleaner] Cleaning text...\n",
      "* [TextCleaner] Cleaning text...\n",
      "* [TextCleaner] Cleaning text...\n",
      "* [TextCleaner] Cleaning text...\n"
     ]
    },
    {
     "name": "stderr",
     "output_type": "stream",
     "text": [
      "1it [00:00, 34.68it/s]\n",
      "1it [00:00, 29.20it/s]\n",
      "1it [00:00, 37.88it/s]\n",
      "1it [00:00, 30.67it/s]\n",
      "1it [00:00, 40.83it/s]\n",
      "1it [00:00, 42.72it/s]\n",
      "1it [00:00, 49.56it/s]\n",
      "0it [00:00, ?it/s]"
     ]
    },
    {
     "name": "stdout",
     "output_type": "stream",
     "text": [
      "* [TextCleaner] Cleaning text...\n",
      "* [TextCleaner] Cleaning text...\n",
      "* [TextCleaner] Cleaning text...\n",
      "* [TextCleaner] Cleaning text...\n",
      "* [TextCleaner] Cleaning text...\n",
      "* [TextCleaner] Cleaning text...\n",
      "* [TextCleaner] Cleaning text...\n"
     ]
    },
    {
     "name": "stderr",
     "output_type": "stream",
     "text": [
      "1it [00:00, 42.39it/s]\n",
      "1it [00:00, 32.00it/s]\n",
      "1it [00:00, 37.71it/s]\n",
      "1it [00:00, 37.79it/s]\n",
      "1it [00:00, 31.97it/s]\n",
      "1it [00:00, 24.11it/s]\n",
      "0it [00:00, ?it/s]"
     ]
    },
    {
     "name": "stdout",
     "output_type": "stream",
     "text": [
      "* [TextCleaner] Cleaning text...\n",
      "* [TextCleaner] Cleaning text...\n",
      "* [TextCleaner] Cleaning text...\n",
      "* [TextCleaner] Cleaning text...\n",
      "* [TextCleaner] Cleaning text...\n",
      "* [TextCleaner] Cleaning text...\n"
     ]
    },
    {
     "name": "stderr",
     "output_type": "stream",
     "text": [
      "1it [00:00, 33.66it/s]\n",
      "1it [00:00, 30.87it/s]\n",
      "1it [00:00, 55.31it/s]\n",
      "1it [00:00, 46.01it/s]\n",
      "1it [00:00, 72.41it/s]\n",
      "1it [00:00, 36.02it/s]\n",
      "1it [00:00, 36.78it/s]\n",
      "1it [00:00, 39.90it/s]\n",
      "0it [00:00, ?it/s]"
     ]
    },
    {
     "name": "stdout",
     "output_type": "stream",
     "text": [
      "* [TextCleaner] Cleaning text...\n",
      "* [TextCleaner] Cleaning text...\n",
      "* [TextCleaner] Cleaning text...\n",
      "* [TextCleaner] Cleaning text...\n",
      "* [TextCleaner] Cleaning text...\n",
      "* [TextCleaner] Cleaning text...\n",
      "* [TextCleaner] Cleaning text...\n",
      "* [TextCleaner] Cleaning text...\n"
     ]
    },
    {
     "name": "stderr",
     "output_type": "stream",
     "text": [
      "1it [00:00, 32.08it/s]\n",
      "1it [00:00, 33.28it/s]\n",
      "1it [00:00, 29.24it/s]\n",
      "1it [00:00, 28.01it/s]\n",
      "1it [00:00, 31.71it/s]\n",
      "1it [00:00, 25.16it/s]\n"
     ]
    },
    {
     "name": "stdout",
     "output_type": "stream",
     "text": [
      "* [TextCleaner] Cleaning text...\n",
      "* [TextCleaner] Cleaning text...\n",
      "* [TextCleaner] Cleaning text...\n",
      "* [TextCleaner] Cleaning text...\n",
      "* [TextCleaner] Cleaning text...\n",
      "* [TextCleaner] Cleaning text...\n"
     ]
    },
    {
     "name": "stderr",
     "output_type": "stream",
     "text": [
      "1it [00:00, 37.83it/s]\n",
      "1it [00:00, 32.94it/s]\n",
      "1it [00:00, 28.82it/s]\n",
      "1it [00:00, 43.84it/s]\n",
      "1it [00:00, 30.96it/s]\n",
      "1it [00:00, 32.86it/s]\n",
      "0it [00:00, ?it/s]"
     ]
    },
    {
     "name": "stdout",
     "output_type": "stream",
     "text": [
      "* [TextCleaner] Cleaning text...\n",
      "* [TextCleaner] Cleaning text...\n",
      "* [TextCleaner] Cleaning text...\n",
      "* [TextCleaner] Cleaning text...\n",
      "* [TextCleaner] Cleaning text...\n",
      "* [TextCleaner] Cleaning text...\n"
     ]
    },
    {
     "name": "stderr",
     "output_type": "stream",
     "text": [
      "1it [00:00, 41.70it/s]\n",
      "1it [00:00, 33.37it/s]\n",
      "1it [00:00, 35.68it/s]\n",
      "1it [00:00, 41.62it/s]\n",
      "1it [00:00, 38.33it/s]\n",
      "1it [00:00, 40.29it/s]\n",
      "1it [00:00, 30.65it/s]\n",
      "0it [00:00, ?it/s]"
     ]
    },
    {
     "name": "stdout",
     "output_type": "stream",
     "text": [
      "* [TextCleaner] Cleaning text...\n",
      "* [TextCleaner] Cleaning text...\n",
      "* [TextCleaner] Cleaning text...\n",
      "* [TextCleaner] Cleaning text...\n",
      "* [TextCleaner] Cleaning text...\n",
      "* [TextCleaner] Cleaning text...\n",
      "* [TextCleaner] Cleaning text...\n"
     ]
    },
    {
     "name": "stderr",
     "output_type": "stream",
     "text": [
      "1it [00:00, 35.07it/s]\n",
      "1it [00:00, 34.41it/s]\n",
      "1it [00:00, 43.79it/s]\n",
      "1it [00:00, 32.37it/s]\n",
      "1it [00:00, 37.66it/s]\n",
      "1it [00:00, 37.56it/s]\n",
      "1it [00:00, 39.43it/s]\n",
      "0it [00:00, ?it/s]"
     ]
    },
    {
     "name": "stdout",
     "output_type": "stream",
     "text": [
      "* [TextCleaner] Cleaning text...\n",
      "* [TextCleaner] Cleaning text...\n",
      "* [TextCleaner] Cleaning text...\n",
      "* [TextCleaner] Cleaning text...\n",
      "* [TextCleaner] Cleaning text...\n",
      "* [TextCleaner] Cleaning text...\n",
      "* [TextCleaner] Cleaning text...\n"
     ]
    },
    {
     "name": "stderr",
     "output_type": "stream",
     "text": [
      "1it [00:00, 33.64it/s]\n",
      "1it [00:00, 35.33it/s]\n",
      "1it [00:00, 32.07it/s]\n",
      "1it [00:00, 34.57it/s]\n",
      "1it [00:00, 39.10it/s]\n",
      "1it [00:00, 38.34it/s]\n",
      "1it [00:00, 40.59it/s]\n",
      "0it [00:00, ?it/s]"
     ]
    },
    {
     "name": "stdout",
     "output_type": "stream",
     "text": [
      "* [TextCleaner] Cleaning text...\n",
      "* [TextCleaner] Cleaning text...\n",
      "* [TextCleaner] Cleaning text...\n",
      "* [TextCleaner] Cleaning text...\n",
      "* [TextCleaner] Cleaning text...\n",
      "* [TextCleaner] Cleaning text...\n",
      "* [TextCleaner] Cleaning text...\n"
     ]
    },
    {
     "name": "stderr",
     "output_type": "stream",
     "text": [
      "1it [00:00, 32.33it/s]\n",
      "1it [00:00, 27.78it/s]\n",
      "1it [00:00, 30.10it/s]\n",
      "1it [00:00, 28.65it/s]\n",
      "1it [00:00, 38.78it/s]\n",
      "1it [00:00, 40.47it/s]\n",
      "0it [00:00, ?it/s]"
     ]
    },
    {
     "name": "stdout",
     "output_type": "stream",
     "text": [
      "* [TextCleaner] Cleaning text...\n",
      "* [TextCleaner] Cleaning text...\n",
      "* [TextCleaner] Cleaning text...\n",
      "* [TextCleaner] Cleaning text...\n",
      "* [TextCleaner] Cleaning text...\n",
      "* [TextCleaner] Cleaning text...\n"
     ]
    },
    {
     "name": "stderr",
     "output_type": "stream",
     "text": [
      "1it [00:00, 31.09it/s]\n",
      "1it [00:00, 41.29it/s]\n",
      "1it [00:00, 43.53it/s]\n",
      "1it [00:00, 32.98it/s]\n",
      "1it [00:00, 40.34it/s]\n",
      "1it [00:00, 39.66it/s]\n",
      "1it [00:00, 31.83it/s]\n",
      "0it [00:00, ?it/s]"
     ]
    },
    {
     "name": "stdout",
     "output_type": "stream",
     "text": [
      "* [TextCleaner] Cleaning text...\n",
      "* [TextCleaner] Cleaning text...\n",
      "* [TextCleaner] Cleaning text...\n",
      "* [TextCleaner] Cleaning text...\n",
      "* [TextCleaner] Cleaning text...\n",
      "* [TextCleaner] Cleaning text...\n",
      "* [TextCleaner] Cleaning text...\n"
     ]
    },
    {
     "name": "stderr",
     "output_type": "stream",
     "text": [
      "1it [00:00, 41.10it/s]\n",
      "1it [00:00, 34.98it/s]\n",
      "1it [00:00, 51.40it/s]\n",
      "1it [00:00, 33.61it/s]\n",
      "1it [00:00, 29.01it/s]\n",
      "1it [00:00, 37.41it/s]\n",
      "1it [00:00, 30.58it/s]"
     ]
    },
    {
     "name": "stdout",
     "output_type": "stream",
     "text": [
      "* [TextCleaner] Cleaning text...\n",
      "* [TextCleaner] Cleaning text...\n",
      "* [TextCleaner] Cleaning text...\n",
      "* [TextCleaner] Cleaning text...\n",
      "* [TextCleaner] Cleaning text...\n",
      "* [TextCleaner] Cleaning text...\n"
     ]
    },
    {
     "name": "stderr",
     "output_type": "stream",
     "text": [
      "\n",
      "1it [00:00, 34.08it/s]\n",
      "1it [00:00, 47.19it/s]\n",
      "1it [00:00, 35.40it/s]\n",
      "1it [00:00, 43.21it/s]\n",
      "1it [00:00, 36.65it/s]\n",
      "1it [00:00, 29.64it/s]\n",
      "0it [00:00, ?it/s]"
     ]
    },
    {
     "name": "stdout",
     "output_type": "stream",
     "text": [
      "* [TextCleaner] Cleaning text...\n",
      "* [TextCleaner] Cleaning text...\n",
      "* [TextCleaner] Cleaning text...\n",
      "* [TextCleaner] Cleaning text...\n",
      "* [TextCleaner] Cleaning text...\n",
      "* [TextCleaner] Cleaning text...\n",
      "* [TextCleaner] Cleaning text...\n"
     ]
    },
    {
     "name": "stderr",
     "output_type": "stream",
     "text": [
      "1it [00:00, 33.50it/s]\n",
      "1it [00:00, 33.36it/s]\n",
      "1it [00:00, 41.48it/s]\n",
      "1it [00:00, 34.77it/s]\n",
      "1it [00:00, 41.90it/s]\n",
      "1it [00:00, 36.69it/s]\n",
      "1it [00:00, 36.84it/s]\n",
      "0it [00:00, ?it/s]"
     ]
    },
    {
     "name": "stdout",
     "output_type": "stream",
     "text": [
      "* [TextCleaner] Cleaning text...\n",
      "* [TextCleaner] Cleaning text...\n",
      "* [TextCleaner] Cleaning text...\n",
      "* [TextCleaner] Cleaning text...\n",
      "* [TextCleaner] Cleaning text...\n",
      "* [TextCleaner] Cleaning text...\n",
      "* [TextCleaner] Cleaning text...\n"
     ]
    },
    {
     "name": "stderr",
     "output_type": "stream",
     "text": [
      "1it [00:00, 42.93it/s]\n",
      "1it [00:00, 41.12it/s]\n",
      "1it [00:00, 40.12it/s]\n",
      "1it [00:00, 40.04it/s]\n",
      "1it [00:00, 31.13it/s]\n",
      "1it [00:00, 35.00it/s]\n",
      "1it [00:00, 40.11it/s]\n",
      "0it [00:00, ?it/s]"
     ]
    },
    {
     "name": "stdout",
     "output_type": "stream",
     "text": [
      "* [TextCleaner] Cleaning text...\n",
      "* [TextCleaner] Cleaning text...\n",
      "* [TextCleaner] Cleaning text...\n",
      "* [TextCleaner] Cleaning text...\n",
      "* [TextCleaner] Cleaning text...\n",
      "* [TextCleaner] Cleaning text...\n",
      "* [TextCleaner] Cleaning text...\n"
     ]
    },
    {
     "name": "stderr",
     "output_type": "stream",
     "text": [
      "1it [00:00, 43.87it/s]\n",
      "1it [00:00, 48.56it/s]\n",
      "1it [00:00, 29.91it/s]\n",
      "1it [00:00, 40.65it/s]\n",
      "1it [00:00, 39.36it/s]\n",
      "1it [00:00, 35.42it/s]\n",
      "1it [00:00, 42.83it/s]\n",
      "0it [00:00, ?it/s]"
     ]
    },
    {
     "name": "stdout",
     "output_type": "stream",
     "text": [
      "* [TextCleaner] Cleaning text...\n",
      "* [TextCleaner] Cleaning text...\n",
      "* [TextCleaner] Cleaning text...\n",
      "* [TextCleaner] Cleaning text...\n",
      "* [TextCleaner] Cleaning text...\n",
      "* [TextCleaner] Cleaning text...\n",
      "* [TextCleaner] Cleaning text...\n"
     ]
    },
    {
     "name": "stderr",
     "output_type": "stream",
     "text": [
      "1it [00:00, 48.50it/s]\n",
      "1it [00:00, 40.34it/s]\n",
      "1it [00:00, 29.73it/s]\n",
      "1it [00:00, 34.82it/s]\n",
      "1it [00:00, 31.50it/s]\n",
      "1it [00:00, 34.28it/s]\n",
      "0it [00:00, ?it/s]"
     ]
    },
    {
     "name": "stdout",
     "output_type": "stream",
     "text": [
      "* [TextCleaner] Cleaning text...\n",
      "* [TextCleaner] Cleaning text...\n",
      "* [TextCleaner] Cleaning text...\n",
      "* [TextCleaner] Cleaning text...\n",
      "* [TextCleaner] Cleaning text...\n",
      "* [TextCleaner] Cleaning text...\n"
     ]
    },
    {
     "name": "stderr",
     "output_type": "stream",
     "text": [
      "1it [00:00, 31.31it/s]\n",
      "1it [00:00, 40.17it/s]\n",
      "1it [00:00, 40.28it/s]\n",
      "1it [00:00, 31.83it/s]\n",
      "1it [00:00, 33.77it/s]\n",
      "1it [00:00, 28.25it/s]\n",
      "0it [00:00, ?it/s]"
     ]
    },
    {
     "name": "stdout",
     "output_type": "stream",
     "text": [
      "* [TextCleaner] Cleaning text...\n",
      "* [TextCleaner] Cleaning text...\n",
      "* [TextCleaner] Cleaning text...\n",
      "* [TextCleaner] Cleaning text...\n",
      "* [TextCleaner] Cleaning text...\n",
      "* [TextCleaner] Cleaning text...\n"
     ]
    },
    {
     "name": "stderr",
     "output_type": "stream",
     "text": [
      "1it [00:00, 33.09it/s]\n",
      "1it [00:00, 32.38it/s]\n",
      "1it [00:00, 40.66it/s]\n",
      "1it [00:00, 43.36it/s]\n",
      "1it [00:00, 38.46it/s]\n",
      "1it [00:00, 36.80it/s]\n",
      "1it [00:00, 29.52it/s]\n",
      "0it [00:00, ?it/s]"
     ]
    },
    {
     "name": "stdout",
     "output_type": "stream",
     "text": [
      "* [TextCleaner] Cleaning text...\n",
      "* [TextCleaner] Cleaning text...\n",
      "* [TextCleaner] Cleaning text...\n",
      "* [TextCleaner] Cleaning text...\n",
      "* [TextCleaner] Cleaning text...\n",
      "* [TextCleaner] Cleaning text...\n",
      "* [TextCleaner] Cleaning text...\n"
     ]
    },
    {
     "name": "stderr",
     "output_type": "stream",
     "text": [
      "1it [00:00, 33.07it/s]\n",
      "1it [00:00, 33.96it/s]\n",
      "1it [00:00, 30.12it/s]\n",
      "1it [00:00, 31.13it/s]\n",
      "1it [00:00, 40.05it/s]\n",
      "1it [00:00, 58.82it/s]\n",
      "1it [00:00, 37.28it/s]\n",
      "0it [00:00, ?it/s]"
     ]
    },
    {
     "name": "stdout",
     "output_type": "stream",
     "text": [
      "* [TextCleaner] Cleaning text...\n",
      "* [TextCleaner] Cleaning text...\n",
      "* [TextCleaner] Cleaning text...\n",
      "* [TextCleaner] Cleaning text...\n",
      "* [TextCleaner] Cleaning text...\n",
      "* [TextCleaner] Cleaning text...\n",
      "* [TextCleaner] Cleaning text...\n"
     ]
    },
    {
     "name": "stderr",
     "output_type": "stream",
     "text": [
      "1it [00:00, 31.95it/s]\n",
      "1it [00:00, 30.93it/s]\n",
      "1it [00:00, 29.39it/s]\n",
      "1it [00:00, 32.03it/s]\n",
      "1it [00:00, 33.21it/s]\n",
      "1it [00:00, 36.13it/s]\n",
      "1it [00:00, 136.97it/s]\n",
      "0it [00:00, ?it/s]"
     ]
    },
    {
     "name": "stdout",
     "output_type": "stream",
     "text": [
      "* [TextCleaner] Cleaning text...\n",
      "* [TextCleaner] Cleaning text...\n",
      "* [TextCleaner] Cleaning text...\n",
      "* [TextCleaner] Cleaning text...\n",
      "* [TextCleaner] Cleaning text...\n",
      "* [TextCleaner] Cleaning text...\n",
      "* [TextCleaner] Cleaning text...\n"
     ]
    },
    {
     "name": "stderr",
     "output_type": "stream",
     "text": [
      "1it [00:00, 28.11it/s]\n",
      "1it [00:00, 28.41it/s]\n",
      "1it [00:00, 42.23it/s]\n",
      "1it [00:00, 36.03it/s]\n",
      "1it [00:00, 34.17it/s]\n",
      "1it [00:00, 34.81it/s]\n",
      "1it [00:00, 33.79it/s]"
     ]
    },
    {
     "name": "stdout",
     "output_type": "stream",
     "text": [
      "* [TextCleaner] Cleaning text...\n",
      "* [TextCleaner] Cleaning text...\n",
      "* [TextCleaner] Cleaning text...\n",
      "* [TextCleaner] Cleaning text...\n",
      "* [TextCleaner] Cleaning text...\n",
      "* [TextCleaner] Cleaning text...\n"
     ]
    },
    {
     "name": "stderr",
     "output_type": "stream",
     "text": [
      "\n",
      "1it [00:00, 37.54it/s]\n",
      "1it [00:00, 34.38it/s]\n",
      "1it [00:00, 36.57it/s]\n",
      "1it [00:00, 39.07it/s]\n",
      "1it [00:00, 30.96it/s]\n",
      "1it [00:00, 41.55it/s]\n",
      "1it [00:00, 37.40it/s]\n",
      "0it [00:00, ?it/s]"
     ]
    },
    {
     "name": "stdout",
     "output_type": "stream",
     "text": [
      "* [TextCleaner] Cleaning text...\n",
      "* [TextCleaner] Cleaning text...\n",
      "* [TextCleaner] Cleaning text...\n",
      "* [TextCleaner] Cleaning text...\n",
      "* [TextCleaner] Cleaning text...\n",
      "* [TextCleaner] Cleaning text...\n",
      "* [TextCleaner] Cleaning text...\n",
      "* [TextCleaner] Cleaning text...\n"
     ]
    },
    {
     "name": "stderr",
     "output_type": "stream",
     "text": [
      "1it [00:00, 28.42it/s]\n",
      "1it [00:00, 33.61it/s]\n",
      "1it [00:00, 30.58it/s]\n",
      "1it [00:00, 34.12it/s]\n",
      "1it [00:00, 51.04it/s]\n",
      "1it [00:00, 34.67it/s]\n",
      "1it [00:00, 35.20it/s]\n"
     ]
    },
    {
     "name": "stdout",
     "output_type": "stream",
     "text": [
      "* [TextCleaner] Cleaning text...\n",
      "* [TextCleaner] Cleaning text...\n",
      "* [TextCleaner] Cleaning text...\n",
      "* [TextCleaner] Cleaning text...\n",
      "* [TextCleaner] Cleaning text...\n",
      "* [TextCleaner] Cleaning text...\n"
     ]
    },
    {
     "name": "stderr",
     "output_type": "stream",
     "text": [
      "1it [00:00, 38.25it/s]\n",
      "1it [00:00, 36.69it/s]\n",
      "1it [00:00, 44.00it/s]\n",
      "1it [00:00, 44.75it/s]\n",
      "1it [00:00, 29.74it/s]\n",
      "1it [00:00, 39.16it/s]\n",
      "0it [00:00, ?it/s]"
     ]
    },
    {
     "name": "stdout",
     "output_type": "stream",
     "text": [
      "* [TextCleaner] Cleaning text...\n",
      "* [TextCleaner] Cleaning text...\n",
      "* [TextCleaner] Cleaning text...\n",
      "* [TextCleaner] Cleaning text...\n",
      "* [TextCleaner] Cleaning text...\n",
      "* [TextCleaner] Cleaning text...\n",
      "* [TextCleaner] Cleaning text...\n"
     ]
    },
    {
     "name": "stderr",
     "output_type": "stream",
     "text": [
      "1it [00:00, 41.13it/s]\n",
      "1it [00:00, 42.00it/s]\n",
      "1it [00:00, 42.55it/s]\n",
      "1it [00:00, 35.19it/s]\n",
      "1it [00:00, 29.30it/s]\n",
      "1it [00:00, 41.60it/s]\n",
      "1it [00:00, 37.36it/s]\n",
      "0it [00:00, ?it/s]"
     ]
    },
    {
     "name": "stdout",
     "output_type": "stream",
     "text": [
      "* [TextCleaner] Cleaning text...\n",
      "* [TextCleaner] Cleaning text...\n",
      "* [TextCleaner] Cleaning text...\n",
      "* [TextCleaner] Cleaning text...\n",
      "* [TextCleaner] Cleaning text...\n",
      "* [TextCleaner] Cleaning text...\n",
      "* [TextCleaner] Cleaning text...\n"
     ]
    },
    {
     "name": "stderr",
     "output_type": "stream",
     "text": [
      "1it [00:00, 54.45it/s]\n",
      "1it [00:00, 35.64it/s]\n",
      "1it [00:00, 37.52it/s]\n",
      "1it [00:00, 47.49it/s]\n",
      "1it [00:00, 51.58it/s]\n",
      "1it [00:00, 42.17it/s]\n",
      "1it [00:00, 38.42it/s]\n",
      "0it [00:00, ?it/s]"
     ]
    },
    {
     "name": "stdout",
     "output_type": "stream",
     "text": [
      "* [TextCleaner] Cleaning text...\n",
      "* [TextCleaner] Cleaning text...\n",
      "* [TextCleaner] Cleaning text...\n",
      "* [TextCleaner] Cleaning text...\n",
      "* [TextCleaner] Cleaning text...\n",
      "* [TextCleaner] Cleaning text...\n",
      "* [TextCleaner] Cleaning text...\n"
     ]
    },
    {
     "name": "stderr",
     "output_type": "stream",
     "text": [
      "1it [00:00, 28.35it/s]\n",
      "1it [00:00, 32.14it/s]\n",
      "1it [00:00, 33.39it/s]\n",
      "1it [00:00, 28.76it/s]\n",
      "1it [00:00, 40.58it/s]\n",
      "1it [00:00, 30.09it/s]\n",
      "0it [00:00, ?it/s]"
     ]
    },
    {
     "name": "stdout",
     "output_type": "stream",
     "text": [
      "* [TextCleaner] Cleaning text...\n",
      "* [TextCleaner] Cleaning text...\n",
      "* [TextCleaner] Cleaning text...\n",
      "* [TextCleaner] Cleaning text...\n",
      "* [TextCleaner] Cleaning text...\n",
      "* [TextCleaner] Cleaning text...\n"
     ]
    },
    {
     "name": "stderr",
     "output_type": "stream",
     "text": [
      "1it [00:00, 27.02it/s]\n",
      "1it [00:00, 30.61it/s]\n",
      "1it [00:00, 36.55it/s]\n",
      "1it [00:00, 30.88it/s]\n",
      "1it [00:00, 38.51it/s]\n",
      "1it [00:00, 41.34it/s]\n",
      "1it [00:00, 32.95it/s]"
     ]
    },
    {
     "name": "stdout",
     "output_type": "stream",
     "text": [
      "* [TextCleaner] Cleaning text...\n",
      "* [TextCleaner] Cleaning text...\n",
      "* [TextCleaner] Cleaning text...\n",
      "* [TextCleaner] Cleaning text...\n",
      "* [TextCleaner] Cleaning text...\n",
      "* [TextCleaner] Cleaning text...\n"
     ]
    },
    {
     "name": "stderr",
     "output_type": "stream",
     "text": [
      "\n",
      "1it [00:00, 44.00it/s]\n",
      "1it [00:00, 35.88it/s]\n",
      "1it [00:00, 36.47it/s]\n",
      "1it [00:00, 39.92it/s]\n",
      "1it [00:00, 46.19it/s]\n",
      "1it [00:00, 33.24it/s]\n",
      "0it [00:00, ?it/s]"
     ]
    },
    {
     "name": "stdout",
     "output_type": "stream",
     "text": [
      "* [TextCleaner] Cleaning text...\n",
      "* [TextCleaner] Cleaning text...\n",
      "* [TextCleaner] Cleaning text...\n",
      "* [TextCleaner] Cleaning text...\n",
      "* [TextCleaner] Cleaning text...\n",
      "* [TextCleaner] Cleaning text...\n",
      "* [TextCleaner] Cleaning text...\n"
     ]
    },
    {
     "name": "stderr",
     "output_type": "stream",
     "text": [
      "1it [00:00, 41.35it/s]\n",
      "1it [00:00, 31.02it/s]\n",
      "1it [00:00, 34.39it/s]\n",
      "1it [00:00, 36.42it/s]\n",
      "1it [00:00, 35.17it/s]\n",
      "1it [00:00, 33.24it/s]\n",
      "0it [00:00, ?it/s]"
     ]
    },
    {
     "name": "stdout",
     "output_type": "stream",
     "text": [
      "* [TextCleaner] Cleaning text...\n",
      "* [TextCleaner] Cleaning text...\n",
      "* [TextCleaner] Cleaning text...\n",
      "* [TextCleaner] Cleaning text...\n",
      "* [TextCleaner] Cleaning text...\n",
      "* [TextCleaner] Cleaning text...\n"
     ]
    },
    {
     "name": "stderr",
     "output_type": "stream",
     "text": [
      "1it [00:00, 33.47it/s]\n",
      "1it [00:00, 31.17it/s]\n",
      "1it [00:00, 31.68it/s]\n",
      "1it [00:00, 37.54it/s]\n",
      "1it [00:00, 29.82it/s]\n",
      "1it [00:00, 34.46it/s]\n",
      "1it [00:00, 100.89it/s]\n",
      "0it [00:00, ?it/s]"
     ]
    },
    {
     "name": "stdout",
     "output_type": "stream",
     "text": [
      "* [TextCleaner] Cleaning text...\n",
      "* [TextCleaner] Cleaning text...\n",
      "* [TextCleaner] Cleaning text...\n",
      "* [TextCleaner] Cleaning text...\n",
      "* [TextCleaner] Cleaning text...\n",
      "* [TextCleaner] Cleaning text...\n",
      "* [TextCleaner] Cleaning text...\n"
     ]
    },
    {
     "name": "stderr",
     "output_type": "stream",
     "text": [
      "1it [00:00, 31.64it/s]\n",
      "1it [00:00, 36.83it/s]\n",
      "1it [00:00, 43.97it/s]\n",
      "1it [00:00, 37.64it/s]\n",
      "1it [00:00, 43.65it/s]\n",
      "1it [00:00, 41.03it/s]\n",
      "1it [00:00, 36.29it/s]\n",
      "0it [00:00, ?it/s]"
     ]
    },
    {
     "name": "stdout",
     "output_type": "stream",
     "text": [
      "* [TextCleaner] Cleaning text...\n",
      "* [TextCleaner] Cleaning text...\n",
      "* [TextCleaner] Cleaning text...\n",
      "* [TextCleaner] Cleaning text...\n",
      "* [TextCleaner] Cleaning text...\n",
      "* [TextCleaner] Cleaning text...\n",
      "* [TextCleaner] Cleaning text...\n"
     ]
    },
    {
     "name": "stderr",
     "output_type": "stream",
     "text": [
      "1it [00:00, 28.85it/s]\n",
      "1it [00:00, 32.30it/s]\n",
      "1it [00:00, 36.90it/s]\n",
      "1it [00:00, 30.27it/s]\n",
      "1it [00:00, 26.39it/s]\n",
      "1it [00:00, 36.42it/s]\n",
      "0it [00:00, ?it/s]"
     ]
    },
    {
     "name": "stdout",
     "output_type": "stream",
     "text": [
      "* [TextCleaner] Cleaning text...\n",
      "* [TextCleaner] Cleaning text...\n",
      "* [TextCleaner] Cleaning text...\n",
      "* [TextCleaner] Cleaning text...\n",
      "* [TextCleaner] Cleaning text...\n",
      "* [TextCleaner] Cleaning text...\n"
     ]
    },
    {
     "name": "stderr",
     "output_type": "stream",
     "text": [
      "1it [00:00, 39.74it/s]\n",
      "1it [00:00, 29.87it/s]\n",
      "1it [00:00, 42.38it/s]\n",
      "1it [00:00, 48.95it/s]\n",
      "1it [00:00, 39.55it/s]\n",
      "1it [00:00, 40.88it/s]\n",
      "1it [00:00, 38.04it/s]\n",
      "0it [00:00, ?it/s]"
     ]
    },
    {
     "name": "stdout",
     "output_type": "stream",
     "text": [
      "* [TextCleaner] Cleaning text...\n",
      "* [TextCleaner] Cleaning text...\n",
      "* [TextCleaner] Cleaning text...\n",
      "* [TextCleaner] Cleaning text...\n",
      "* [TextCleaner] Cleaning text...\n",
      "* [TextCleaner] Cleaning text...\n",
      "* [TextCleaner] Cleaning text...\n"
     ]
    },
    {
     "name": "stderr",
     "output_type": "stream",
     "text": [
      "1it [00:00, 40.90it/s]\n",
      "1it [00:00, 35.93it/s]\n",
      "1it [00:00, 30.81it/s]\n",
      "1it [00:00, 26.95it/s]\n",
      "1it [00:00, 35.72it/s]\n",
      "1it [00:00, 38.67it/s]\n",
      "0it [00:00, ?it/s]"
     ]
    },
    {
     "name": "stdout",
     "output_type": "stream",
     "text": [
      "* [TextCleaner] Cleaning text...\n",
      "* [TextCleaner] Cleaning text...\n",
      "* [TextCleaner] Cleaning text...\n",
      "* [TextCleaner] Cleaning text...\n",
      "* [TextCleaner] Cleaning text...\n",
      "* [TextCleaner] Cleaning text...\n"
     ]
    },
    {
     "name": "stderr",
     "output_type": "stream",
     "text": [
      "1it [00:00, 28.31it/s]\n",
      "1it [00:00, 31.16it/s]\n",
      "1it [00:00, 56.92it/s]\n",
      "1it [00:00, 38.31it/s]\n",
      "1it [00:00, 34.89it/s]\n",
      "1it [00:00, 28.32it/s]\n",
      "1it [00:00, 40.80it/s]\n",
      "0it [00:00, ?it/s]"
     ]
    },
    {
     "name": "stdout",
     "output_type": "stream",
     "text": [
      "* [TextCleaner] Cleaning text...\n",
      "* [TextCleaner] Cleaning text...\n",
      "* [TextCleaner] Cleaning text...\n",
      "* [TextCleaner] Cleaning text...\n",
      "* [TextCleaner] Cleaning text...\n",
      "* [TextCleaner] Cleaning text...\n",
      "* [TextCleaner] Cleaning text...\n"
     ]
    },
    {
     "name": "stderr",
     "output_type": "stream",
     "text": [
      "1it [00:00, 35.81it/s]\n",
      "1it [00:00, 27.00it/s]\n",
      "1it [00:00, 33.19it/s]\n",
      "1it [00:00, 39.03it/s]\n",
      "1it [00:00, 49.30it/s]\n",
      "1it [00:00, 43.84it/s]\n",
      "0it [00:00, ?it/s]"
     ]
    },
    {
     "name": "stdout",
     "output_type": "stream",
     "text": [
      "* [TextCleaner] Cleaning text...\n",
      "* [TextCleaner] Cleaning text...\n",
      "* [TextCleaner] Cleaning text...\n",
      "* [TextCleaner] Cleaning text...\n",
      "* [TextCleaner] Cleaning text...\n",
      "* [TextCleaner] Cleaning text...\n"
     ]
    },
    {
     "name": "stderr",
     "output_type": "stream",
     "text": [
      "1it [00:00, 27.87it/s]\n",
      "1it [00:00, 38.69it/s]\n",
      "1it [00:00, 38.29it/s]\n",
      "1it [00:00, 39.71it/s]\n",
      "1it [00:00, 36.21it/s]\n",
      "1it [00:00, 36.04it/s]\n",
      "1it [00:00, 32.14it/s]\n",
      "0it [00:00, ?it/s]"
     ]
    },
    {
     "name": "stdout",
     "output_type": "stream",
     "text": [
      "* [TextCleaner] Cleaning text...\n",
      "* [TextCleaner] Cleaning text...\n",
      "* [TextCleaner] Cleaning text...\n",
      "* [TextCleaner] Cleaning text...\n",
      "* [TextCleaner] Cleaning text...\n",
      "* [TextCleaner] Cleaning text...\n",
      "* [TextCleaner] Cleaning text...\n"
     ]
    },
    {
     "name": "stderr",
     "output_type": "stream",
     "text": [
      "1it [00:00, 38.43it/s]\n",
      "1it [00:00, 36.39it/s]\n",
      "1it [00:00, 42.17it/s]\n",
      "1it [00:00, 37.91it/s]\n",
      "1it [00:00, 28.81it/s]\n",
      "1it [00:00, 43.29it/s]\n",
      "1it [00:00, 39.62it/s]\n",
      "0it [00:00, ?it/s]"
     ]
    },
    {
     "name": "stdout",
     "output_type": "stream",
     "text": [
      "* [TextCleaner] Cleaning text...\n",
      "* [TextCleaner] Cleaning text...\n",
      "* [TextCleaner] Cleaning text...\n",
      "* [TextCleaner] Cleaning text...\n",
      "* [TextCleaner] Cleaning text...\n",
      "* [TextCleaner] Cleaning text...\n",
      "* [TextCleaner] Cleaning text...\n"
     ]
    },
    {
     "name": "stderr",
     "output_type": "stream",
     "text": [
      "1it [00:00, 49.54it/s]\n",
      "1it [00:00, 35.00it/s]\n",
      "1it [00:00, 42.46it/s]\n",
      "1it [00:00, 28.34it/s]\n",
      "1it [00:00, 33.90it/s]\n",
      "1it [00:00, 36.04it/s]\n",
      "0it [00:00, ?it/s]"
     ]
    },
    {
     "name": "stdout",
     "output_type": "stream",
     "text": [
      "* [TextCleaner] Cleaning text...\n",
      "* [TextCleaner] Cleaning text...\n",
      "* [TextCleaner] Cleaning text...\n",
      "* [TextCleaner] Cleaning text...\n",
      "* [TextCleaner] Cleaning text...\n",
      "* [TextCleaner] Cleaning text...\n"
     ]
    },
    {
     "name": "stderr",
     "output_type": "stream",
     "text": [
      "1it [00:00, 30.65it/s]\n",
      "1it [00:00, 33.24it/s]\n",
      "1it [00:00, 32.43it/s]\n",
      "1it [00:00, 35.29it/s]\n",
      "1it [00:00, 33.51it/s]\n",
      "1it [00:00, 31.36it/s]\n",
      "0it [00:00, ?it/s]"
     ]
    },
    {
     "name": "stdout",
     "output_type": "stream",
     "text": [
      "* [TextCleaner] Cleaning text...\n",
      "* [TextCleaner] Cleaning text...\n",
      "* [TextCleaner] Cleaning text...\n",
      "* [TextCleaner] Cleaning text...\n",
      "* [TextCleaner] Cleaning text...\n",
      "* [TextCleaner] Cleaning text...\n"
     ]
    },
    {
     "name": "stderr",
     "output_type": "stream",
     "text": [
      "1it [00:00, 38.68it/s]\n",
      "1it [00:00, 37.77it/s]\n",
      "1it [00:00, 38.80it/s]\n",
      "1it [00:00, 38.85it/s]\n",
      "1it [00:00, 40.11it/s]\n",
      "1it [00:00, 84.11it/s]\n",
      "1it [00:00, 38.09it/s]\n",
      "0it [00:00, ?it/s]"
     ]
    },
    {
     "name": "stdout",
     "output_type": "stream",
     "text": [
      "* [TextCleaner] Cleaning text...\n",
      "* [TextCleaner] Cleaning text...\n",
      "* [TextCleaner] Cleaning text...\n",
      "* [TextCleaner] Cleaning text...\n",
      "* [TextCleaner] Cleaning text...\n",
      "* [TextCleaner] Cleaning text...\n",
      "* [TextCleaner] Cleaning text...\n"
     ]
    },
    {
     "name": "stderr",
     "output_type": "stream",
     "text": [
      "1it [00:00, 32.01it/s]\n",
      "1it [00:00, 36.05it/s]\n",
      "1it [00:00, 35.07it/s]\n",
      "1it [00:00, 34.82it/s]\n",
      "1it [00:00, 47.00it/s]\n",
      "1it [00:00, 36.13it/s]\n",
      "1it [00:00, 40.65it/s]\n",
      "0it [00:00, ?it/s]"
     ]
    },
    {
     "name": "stdout",
     "output_type": "stream",
     "text": [
      "* [TextCleaner] Cleaning text...\n",
      "* [TextCleaner] Cleaning text...\n",
      "* [TextCleaner] Cleaning text...\n",
      "* [TextCleaner] Cleaning text...\n",
      "* [TextCleaner] Cleaning text...\n",
      "* [TextCleaner] Cleaning text...\n",
      "* [TextCleaner] Cleaning text...\n"
     ]
    },
    {
     "name": "stderr",
     "output_type": "stream",
     "text": [
      "1it [00:00, 28.59it/s]\n",
      "1it [00:00, 60.81it/s]\n",
      "1it [00:00, 34.24it/s]\n",
      "1it [00:00, 37.50it/s]\n",
      "1it [00:00, 36.84it/s]\n",
      "1it [00:00, 41.78it/s]\n",
      "1it [00:00, 42.03it/s]\n",
      "0it [00:00, ?it/s]"
     ]
    },
    {
     "name": "stdout",
     "output_type": "stream",
     "text": [
      "* [TextCleaner] Cleaning text...\n",
      "* [TextCleaner] Cleaning text...\n",
      "* [TextCleaner] Cleaning text...\n",
      "* [TextCleaner] Cleaning text...\n",
      "* [TextCleaner] Cleaning text...\n",
      "* [TextCleaner] Cleaning text...\n",
      "* [TextCleaner] Cleaning text...\n"
     ]
    },
    {
     "name": "stderr",
     "output_type": "stream",
     "text": [
      "1it [00:00, 34.86it/s]\n",
      "1it [00:00, 33.35it/s]\n",
      "1it [00:00, 42.73it/s]\n",
      "1it [00:00, 46.69it/s]\n",
      "1it [00:00, 36.51it/s]\n",
      "1it [00:00, 43.96it/s]\n",
      "1it [00:00, 76.71it/s]\n",
      "0it [00:00, ?it/s]"
     ]
    },
    {
     "name": "stdout",
     "output_type": "stream",
     "text": [
      "* [TextCleaner] Cleaning text...\n",
      "* [TextCleaner] Cleaning text...\n",
      "* [TextCleaner] Cleaning text...\n",
      "* [TextCleaner] Cleaning text...\n",
      "* [TextCleaner] Cleaning text...\n",
      "* [TextCleaner] Cleaning text...\n",
      "* [TextCleaner] Cleaning text...\n"
     ]
    },
    {
     "name": "stderr",
     "output_type": "stream",
     "text": [
      "1it [00:00, 30.69it/s]\n",
      "1it [00:00, 117.71it/s]\n",
      "1it [00:00, 35.99it/s]\n",
      "1it [00:00, 32.54it/s]\n",
      "1it [00:00, 29.39it/s]\n",
      "1it [00:00, 32.38it/s]\n",
      "1it [00:00, 35.01it/s]\n",
      "0it [00:00, ?it/s]"
     ]
    },
    {
     "name": "stdout",
     "output_type": "stream",
     "text": [
      "* [TextCleaner] Cleaning text...\n",
      "* [TextCleaner] Cleaning text...\n",
      "* [TextCleaner] Cleaning text...\n",
      "* [TextCleaner] Cleaning text...\n",
      "* [TextCleaner] Cleaning text...\n",
      "* [TextCleaner] Cleaning text...\n",
      "* [TextCleaner] Cleaning text...\n"
     ]
    },
    {
     "name": "stderr",
     "output_type": "stream",
     "text": [
      "1it [00:00, 34.50it/s]\n",
      "1it [00:00, 31.99it/s]\n",
      "1it [00:00, 37.03it/s]\n",
      "1it [00:00, 39.11it/s]\n",
      "1it [00:00, 37.29it/s]\n",
      "1it [00:00, 28.32it/s]\n",
      "0it [00:00, ?it/s]"
     ]
    },
    {
     "name": "stdout",
     "output_type": "stream",
     "text": [
      "* [TextCleaner] Cleaning text...\n",
      "* [TextCleaner] Cleaning text...\n",
      "* [TextCleaner] Cleaning text...\n",
      "* [TextCleaner] Cleaning text...\n",
      "* [TextCleaner] Cleaning text...\n",
      "* [TextCleaner] Cleaning text...\n"
     ]
    },
    {
     "name": "stderr",
     "output_type": "stream",
     "text": [
      "1it [00:00, 39.46it/s]\n",
      "1it [00:00, 53.17it/s]\n",
      "1it [00:00, 34.02it/s]\n",
      "1it [00:00, 82.17it/s]\n",
      "1it [00:00, 47.19it/s]\n",
      "1it [00:00, 46.12it/s]\n",
      "1it [00:00, 46.35it/s]\n",
      "1it [00:00, 33.67it/s]\n",
      "0it [00:00, ?it/s]"
     ]
    },
    {
     "name": "stdout",
     "output_type": "stream",
     "text": [
      "* [TextCleaner] Cleaning text...\n",
      "* [TextCleaner] Cleaning text...\n",
      "* [TextCleaner] Cleaning text...\n",
      "* [TextCleaner] Cleaning text...\n",
      "* [TextCleaner] Cleaning text...\n",
      "* [TextCleaner] Cleaning text...\n",
      "* [TextCleaner] Cleaning text...\n",
      "* [TextCleaner] Cleaning text...\n"
     ]
    },
    {
     "name": "stderr",
     "output_type": "stream",
     "text": [
      "1it [00:00, 31.05it/s]\n",
      "1it [00:00, 31.98it/s]\n",
      "1it [00:00, 36.83it/s]\n",
      "1it [00:00, 35.31it/s]\n",
      "1it [00:00, 34.71it/s]\n",
      "1it [00:00, 39.67it/s]\n",
      "1it [00:00, 34.78it/s]"
     ]
    },
    {
     "name": "stdout",
     "output_type": "stream",
     "text": [
      "* [TextCleaner] Cleaning text...\n",
      "* [TextCleaner] Cleaning text...\n",
      "* [TextCleaner] Cleaning text...\n",
      "* [TextCleaner] Cleaning text...\n",
      "* [TextCleaner] Cleaning text...\n",
      "* [TextCleaner] Cleaning text...\n",
      "* [TextCleaner] Cleaning text..."
     ]
    },
    {
     "name": "stderr",
     "output_type": "stream",
     "text": [
      "\n",
      "1it [00:00, 35.87it/s]\n",
      "1it [00:00, 35.56it/s]\n",
      "1it [00:00, 34.22it/s]\n",
      "1it [00:00, 27.36it/s]\n",
      "1it [00:00, 43.55it/s]\n",
      "1it [00:00, 40.34it/s]"
     ]
    },
    {
     "name": "stdout",
     "output_type": "stream",
     "text": [
      "\n",
      "* [TextCleaner] Cleaning text...\n",
      "* [TextCleaner] Cleaning text...\n",
      "* [TextCleaner] Cleaning text...\n",
      "* [TextCleaner] Cleaning text...\n",
      "* [TextCleaner] Cleaning text...\n",
      "* [TextCleaner] Cleaning text...\n"
     ]
    },
    {
     "name": "stderr",
     "output_type": "stream",
     "text": [
      "\n",
      "1it [00:00, 46.41it/s]\n",
      "1it [00:00, 28.32it/s]\n",
      "1it [00:00, 39.07it/s]\n",
      "1it [00:00, 38.46it/s]\n",
      "1it [00:00, 34.89it/s]\n",
      "1it [00:00, 35.47it/s]\n",
      "0it [00:00, ?it/s]"
     ]
    },
    {
     "name": "stdout",
     "output_type": "stream",
     "text": [
      "* [TextCleaner] Cleaning text...\n",
      "* [TextCleaner] Cleaning text...\n",
      "* [TextCleaner] Cleaning text...\n",
      "* [TextCleaner] Cleaning text...\n",
      "* [TextCleaner] Cleaning text...\n",
      "* [TextCleaner] Cleaning text...\n"
     ]
    },
    {
     "name": "stderr",
     "output_type": "stream",
     "text": [
      "1it [00:00, 37.39it/s]\n",
      "1it [00:00, 51.69it/s]\n",
      "1it [00:00, 32.55it/s]\n",
      "1it [00:00, 29.58it/s]\n",
      "1it [00:00, 28.50it/s]\n",
      "1it [00:00, 33.83it/s]\n",
      "0it [00:00, ?it/s]"
     ]
    },
    {
     "name": "stdout",
     "output_type": "stream",
     "text": [
      "* [TextCleaner] Cleaning text...\n",
      "* [TextCleaner] Cleaning text...\n",
      "* [TextCleaner] Cleaning text...\n",
      "* [TextCleaner] Cleaning text...\n",
      "* [TextCleaner] Cleaning text...\n",
      "* [TextCleaner] Cleaning text...\n"
     ]
    },
    {
     "name": "stderr",
     "output_type": "stream",
     "text": [
      "1it [00:00, 37.60it/s]\n",
      "1it [00:00, 33.16it/s]\n",
      "1it [00:00, 37.59it/s]\n",
      "1it [00:00, 38.41it/s]\n",
      "1it [00:00, 35.68it/s]\n",
      "1it [00:00, 33.17it/s]\n",
      "0it [00:00, ?it/s]"
     ]
    },
    {
     "name": "stdout",
     "output_type": "stream",
     "text": [
      "* [TextCleaner] Cleaning text...\n",
      "* [TextCleaner] Cleaning text...\n",
      "* [TextCleaner] Cleaning text...\n",
      "* [TextCleaner] Cleaning text...\n",
      "* [TextCleaner] Cleaning text...\n",
      "* [TextCleaner] Cleaning text...\n"
     ]
    },
    {
     "name": "stderr",
     "output_type": "stream",
     "text": [
      "1it [00:00, 26.49it/s]\n",
      "1it [00:00, 40.25it/s]\n",
      "1it [00:00, 36.09it/s]\n",
      "1it [00:00, 53.88it/s]\n",
      "1it [00:00, 32.71it/s]\n",
      "1it [00:00, 31.69it/s]\n",
      "1it [00:00, 148.81it/s]\n",
      "0it [00:00, ?it/s]"
     ]
    },
    {
     "name": "stdout",
     "output_type": "stream",
     "text": [
      "* [TextCleaner] Cleaning text...\n",
      "* [TextCleaner] Cleaning text...\n",
      "* [TextCleaner] Cleaning text...\n",
      "* [TextCleaner] Cleaning text...\n",
      "* [TextCleaner] Cleaning text...\n",
      "* [TextCleaner] Cleaning text...\n",
      "* [TextCleaner] Cleaning text...\n"
     ]
    },
    {
     "name": "stderr",
     "output_type": "stream",
     "text": [
      "1it [00:00, 28.88it/s]\n",
      "1it [00:00, 30.07it/s]\n",
      "1it [00:00, 44.96it/s]\n",
      "1it [00:00, 32.29it/s]\n",
      "1it [00:00, 35.18it/s]\n",
      "1it [00:00, 27.03it/s]\n",
      "0it [00:00, ?it/s]"
     ]
    },
    {
     "name": "stdout",
     "output_type": "stream",
     "text": [
      "* [TextCleaner] Cleaning text...\n",
      "* [TextCleaner] Cleaning text...\n",
      "* [TextCleaner] Cleaning text...\n",
      "* [TextCleaner] Cleaning text...\n",
      "* [TextCleaner] Cleaning text...\n",
      "* [TextCleaner] Cleaning text...\n"
     ]
    },
    {
     "name": "stderr",
     "output_type": "stream",
     "text": [
      "1it [00:00, 42.53it/s]\n",
      "1it [00:00, 51.38it/s]\n",
      "1it [00:00, 48.51it/s]\n",
      "1it [00:00, 34.13it/s]\n",
      "1it [00:00, 54.53it/s]\n",
      "1it [00:00, 35.92it/s]\n",
      "1it [00:00, 78.27it/s]\n",
      "1it [00:00, 47.44it/s]\n",
      "0it [00:00, ?it/s]"
     ]
    },
    {
     "name": "stdout",
     "output_type": "stream",
     "text": [
      "* [TextCleaner] Cleaning text...\n",
      "* [TextCleaner] Cleaning text...\n",
      "* [TextCleaner] Cleaning text...\n",
      "* [TextCleaner] Cleaning text...\n",
      "* [TextCleaner] Cleaning text...\n",
      "* [TextCleaner] Cleaning text...\n",
      "* [TextCleaner] Cleaning text...\n",
      "* [TextCleaner] Cleaning text...\n"
     ]
    },
    {
     "name": "stderr",
     "output_type": "stream",
     "text": [
      "1it [00:00, 33.61it/s]\n",
      "1it [00:00, 28.00it/s]\n",
      "1it [00:00, 41.28it/s]\n",
      "1it [00:00, 38.55it/s]\n",
      "1it [00:00, 35.29it/s]\n",
      "1it [00:00, 28.48it/s]\n",
      "1it [00:00, 38.88it/s]"
     ]
    },
    {
     "name": "stdout",
     "output_type": "stream",
     "text": [
      "* [TextCleaner] Cleaning text...\n",
      "* [TextCleaner] Cleaning text...\n",
      "* [TextCleaner] Cleaning text...\n",
      "* [TextCleaner] Cleaning text...\n",
      "* [TextCleaner] Cleaning text...\n",
      "* [TextCleaner] Cleaning text...\n"
     ]
    },
    {
     "name": "stderr",
     "output_type": "stream",
     "text": [
      "\n",
      "1it [00:00, 38.53it/s]\n",
      "1it [00:00, 34.07it/s]\n",
      "1it [00:00, 45.15it/s]\n",
      "1it [00:00, 57.49it/s]\n",
      "1it [00:00, 34.08it/s]\n",
      "1it [00:00, 35.81it/s]\n",
      "1it [00:00, 25.03it/s]\n",
      "0it [00:00, ?it/s]"
     ]
    },
    {
     "name": "stdout",
     "output_type": "stream",
     "text": [
      "* [TextCleaner] Cleaning text...\n",
      "* [TextCleaner] Cleaning text...\n",
      "* [TextCleaner] Cleaning text...\n",
      "* [TextCleaner] Cleaning text...\n",
      "* [TextCleaner] Cleaning text...\n",
      "* [TextCleaner] Cleaning text...\n",
      "* [TextCleaner] Cleaning text...\n",
      "* [TextCleaner] Cleaning text...\n"
     ]
    },
    {
     "name": "stderr",
     "output_type": "stream",
     "text": [
      "1it [00:00, 29.69it/s]\n",
      "1it [00:00, 36.83it/s]\n",
      "1it [00:00, 33.79it/s]\n",
      "1it [00:00, 29.43it/s]\n",
      "1it [00:00, 33.12it/s]\n",
      "1it [00:00, 39.48it/s]\n",
      "1it [00:00, 41.86it/s]\n"
     ]
    },
    {
     "name": "stdout",
     "output_type": "stream",
     "text": [
      "* [TextCleaner] Cleaning text...\n",
      "* [TextCleaner] Cleaning text...\n",
      "* [TextCleaner] Cleaning text...\n",
      "* [TextCleaner] Cleaning text...\n",
      "* [TextCleaner] Cleaning text...\n",
      "* [TextCleaner] Cleaning text...\n",
      "* [TextCleaner] Cleaning text..."
     ]
    },
    {
     "name": "stderr",
     "output_type": "stream",
     "text": [
      "1it [00:00, 36.84it/s]\n",
      "1it [00:00, 34.56it/s]\n",
      "1it [00:00, 33.92it/s]\n",
      "1it [00:00, 35.62it/s]\n",
      "1it [00:00, 31.71it/s]\n",
      "1it [00:00, 40.94it/s]\n",
      "1it [00:00, 47.19it/s]\n",
      "0it [00:00, ?it/s]"
     ]
    },
    {
     "name": "stdout",
     "output_type": "stream",
     "text": [
      "\n",
      "* [TextCleaner] Cleaning text...\n",
      "* [TextCleaner] Cleaning text...\n",
      "* [TextCleaner] Cleaning text...\n",
      "* [TextCleaner] Cleaning text...\n",
      "* [TextCleaner] Cleaning text...\n",
      "* [TextCleaner] Cleaning text...\n",
      "* [TextCleaner] Cleaning text...\n"
     ]
    },
    {
     "name": "stderr",
     "output_type": "stream",
     "text": [
      "1it [00:00, 36.00it/s]\n",
      "1it [00:00, 35.91it/s]\n",
      "1it [00:00, 41.85it/s]\n",
      "1it [00:00, 38.00it/s]\n",
      "1it [00:00, 41.78it/s]\n",
      "1it [00:00, 54.56it/s]\n",
      "1it [00:00, 44.17it/s]\n",
      "1it [00:00, 46.45it/s]\n",
      "0it [00:00, ?it/s]"
     ]
    },
    {
     "name": "stdout",
     "output_type": "stream",
     "text": [
      "* [TextCleaner] Cleaning text...\n",
      "* [TextCleaner] Cleaning text...\n",
      "* [TextCleaner] Cleaning text...\n",
      "* [TextCleaner] Cleaning text...\n",
      "* [TextCleaner] Cleaning text...\n",
      "* [TextCleaner] Cleaning text...\n",
      "* [TextCleaner] Cleaning text...\n",
      "* [TextCleaner] Cleaning text...\n"
     ]
    },
    {
     "name": "stderr",
     "output_type": "stream",
     "text": [
      "1it [00:00, 34.48it/s]\n",
      "1it [00:00, 36.47it/s]\n",
      "1it [00:00, 42.29it/s]\n",
      "1it [00:00, 42.99it/s]\n",
      "1it [00:00, 36.63it/s]\n",
      "1it [00:00, 28.58it/s]\n",
      "1it [00:00, 32.84it/s]"
     ]
    },
    {
     "name": "stdout",
     "output_type": "stream",
     "text": [
      "* [TextCleaner] Cleaning text...\n",
      "* [TextCleaner] Cleaning text...\n",
      "* [TextCleaner] Cleaning text...\n",
      "* [TextCleaner] Cleaning text...\n",
      "* [TextCleaner] Cleaning text...\n",
      "* [TextCleaner] Cleaning text...\n",
      "* [TextCleaner] Cleaning text...\n"
     ]
    },
    {
     "name": "stderr",
     "output_type": "stream",
     "text": [
      "\n",
      "1it [00:00, 49.82it/s]\n",
      "1it [00:00, 30.12it/s]\n",
      "1it [00:00, 30.80it/s]\n",
      "1it [00:00, 46.72it/s]\n",
      "1it [00:00, 72.91it/s]\n",
      "1it [00:00, 36.50it/s]\n",
      "1it [00:00, 54.89it/s]\n",
      "0it [00:00, ?it/s]"
     ]
    },
    {
     "name": "stdout",
     "output_type": "stream",
     "text": [
      "* [TextCleaner] Cleaning text...\n",
      "* [TextCleaner] Cleaning text...\n",
      "* [TextCleaner] Cleaning text...\n",
      "* [TextCleaner] Cleaning text...\n",
      "* [TextCleaner] Cleaning text...\n",
      "* [TextCleaner] Cleaning text...\n",
      "* [TextCleaner] Cleaning text...\n"
     ]
    },
    {
     "name": "stderr",
     "output_type": "stream",
     "text": [
      "1it [00:00, 32.56it/s]\n",
      "1it [00:00, 34.96it/s]\n",
      "1it [00:00, 41.52it/s]\n",
      "1it [00:00, 46.12it/s]\n",
      "1it [00:00, 32.57it/s]\n",
      "1it [00:00, 24.90it/s]\n",
      "1it [00:00, 37.80it/s]\n"
     ]
    },
    {
     "name": "stdout",
     "output_type": "stream",
     "text": [
      "* [TextCleaner] Cleaning text...\n",
      "* [TextCleaner] Cleaning text...\n",
      "* [TextCleaner] Cleaning text...\n",
      "* [TextCleaner] Cleaning text...\n",
      "* [TextCleaner] Cleaning text...\n",
      "* [TextCleaner] Cleaning text...\n"
     ]
    },
    {
     "name": "stderr",
     "output_type": "stream",
     "text": [
      "1it [00:00, 28.92it/s]\n",
      "1it [00:00, 37.90it/s]\n",
      "1it [00:00, 34.49it/s]\n",
      "1it [00:00, 37.10it/s]\n",
      "1it [00:00, 30.78it/s]\n",
      "0it [00:00, ?it/s]"
     ]
    },
    {
     "name": "stdout",
     "output_type": "stream",
     "text": [
      "* [TextCleaner] Cleaning text...\n",
      "* [TextCleaner] Cleaning text...\n",
      "* [TextCleaner] Cleaning text...\n",
      "* [TextCleaner] Cleaning text...\n",
      "* [TextCleaner] Cleaning text...\n",
      "* [TextCleaner] Cleaning text...\n"
     ]
    },
    {
     "name": "stderr",
     "output_type": "stream",
     "text": [
      "1it [00:00, 36.14it/s]\n",
      "1it [00:00, 54.67it/s]\n",
      "1it [00:00, 38.79it/s]\n",
      "1it [00:00, 33.23it/s]\n",
      "1it [00:00, 43.86it/s]\n",
      "1it [00:00, 42.92it/s]\n",
      "1it [00:00, 31.83it/s]\n",
      "0it [00:00, ?it/s]"
     ]
    },
    {
     "name": "stdout",
     "output_type": "stream",
     "text": [
      "* [TextCleaner] Cleaning text...\n",
      "* [TextCleaner] Cleaning text...\n",
      "* [TextCleaner] Cleaning text...\n",
      "* [TextCleaner] Cleaning text...\n",
      "* [TextCleaner] Cleaning text...\n",
      "* [TextCleaner] Cleaning text...\n",
      "* [TextCleaner] Cleaning text...\n"
     ]
    },
    {
     "name": "stderr",
     "output_type": "stream",
     "text": [
      "1it [00:00, 34.53it/s]\n",
      "1it [00:00, 39.61it/s]\n",
      "1it [00:00, 34.91it/s]\n",
      "1it [00:00, 32.90it/s]\n",
      "1it [00:00, 36.21it/s]\n",
      "1it [00:00, 39.81it/s]\n",
      "1it [00:00, 35.37it/s]\n",
      "0it [00:00, ?it/s]"
     ]
    },
    {
     "name": "stdout",
     "output_type": "stream",
     "text": [
      "* [TextCleaner] Cleaning text...\n",
      "* [TextCleaner] Cleaning text...\n",
      "* [TextCleaner] Cleaning text...\n",
      "* [TextCleaner] Cleaning text...\n",
      "* [TextCleaner] Cleaning text...\n",
      "* [TextCleaner] Cleaning text...\n",
      "* [TextCleaner] Cleaning text...\n"
     ]
    },
    {
     "name": "stderr",
     "output_type": "stream",
     "text": [
      "1it [00:00, 33.57it/s]\n",
      "1it [00:00, 39.89it/s]\n",
      "1it [00:00, 36.75it/s]\n",
      "1it [00:00, 44.84it/s]\n",
      "1it [00:00, 42.49it/s]\n",
      "1it [00:00, 41.76it/s]\n",
      "1it [00:00, 40.04it/s]\n",
      "0it [00:00, ?it/s]"
     ]
    },
    {
     "name": "stdout",
     "output_type": "stream",
     "text": [
      "* [TextCleaner] Cleaning text...\n",
      "* [TextCleaner] Cleaning text...\n",
      "* [TextCleaner] Cleaning text...\n",
      "* [TextCleaner] Cleaning text...\n",
      "* [TextCleaner] Cleaning text...\n",
      "* [TextCleaner] Cleaning text...\n",
      "* [TextCleaner] Cleaning text...\n"
     ]
    },
    {
     "name": "stderr",
     "output_type": "stream",
     "text": [
      "1it [00:00, 32.81it/s]\n",
      "1it [00:00, 41.83it/s]\n",
      "1it [00:00, 192.66it/s]\n",
      "1it [00:00, 40.50it/s]\n",
      "1it [00:00, 31.46it/s]\n",
      "1it [00:00, 34.13it/s]\n",
      "1it [00:00, 33.87it/s]\n",
      "0it [00:00, ?it/s]"
     ]
    },
    {
     "name": "stdout",
     "output_type": "stream",
     "text": [
      "* [TextCleaner] Cleaning text...\n",
      "* [TextCleaner] Cleaning text...\n",
      "* [TextCleaner] Cleaning text...\n",
      "* [TextCleaner] Cleaning text...\n",
      "* [TextCleaner] Cleaning text...\n",
      "* [TextCleaner] Cleaning text...\n",
      "* [TextCleaner] Cleaning text...\n"
     ]
    },
    {
     "name": "stderr",
     "output_type": "stream",
     "text": [
      "1it [00:00, 34.85it/s]\n",
      "1it [00:00, 43.05it/s]\n",
      "1it [00:00, 30.73it/s]\n",
      "1it [00:00, 36.94it/s]\n",
      "1it [00:00, 33.04it/s]\n",
      "1it [00:00, 29.40it/s]\n",
      "0it [00:00, ?it/s]"
     ]
    },
    {
     "name": "stdout",
     "output_type": "stream",
     "text": [
      "* [TextCleaner] Cleaning text...\n",
      "* [TextCleaner] Cleaning text...\n",
      "* [TextCleaner] Cleaning text...\n",
      "* [TextCleaner] Cleaning text...\n",
      "* [TextCleaner] Cleaning text...\n",
      "* [TextCleaner] Cleaning text...\n"
     ]
    },
    {
     "name": "stderr",
     "output_type": "stream",
     "text": [
      "1it [00:00, 34.93it/s]\n",
      "1it [00:00, 53.03it/s]\n",
      "1it [00:00, 26.55it/s]\n",
      "1it [00:00, 38.09it/s]\n",
      "1it [00:00, 37.94it/s]\n",
      "1it [00:00, 37.27it/s]\n",
      "1it [00:00, 36.97it/s]\n",
      "0it [00:00, ?it/s]"
     ]
    },
    {
     "name": "stdout",
     "output_type": "stream",
     "text": [
      "* [TextCleaner] Cleaning text...\n",
      "* [TextCleaner] Cleaning text...\n",
      "* [TextCleaner] Cleaning text...\n",
      "* [TextCleaner] Cleaning text...\n",
      "* [TextCleaner] Cleaning text...\n",
      "* [TextCleaner] Cleaning text...\n",
      "* [TextCleaner] Cleaning text...\n"
     ]
    },
    {
     "name": "stderr",
     "output_type": "stream",
     "text": [
      "1it [00:00, 32.89it/s]\n",
      "1it [00:00, 36.61it/s]\n",
      "1it [00:00, 34.15it/s]\n",
      "1it [00:00, 32.65it/s]\n",
      "1it [00:00, 48.31it/s]\n",
      "1it [00:00, 44.52it/s]\n",
      "1it [00:00, 38.88it/s]\n",
      "0it [00:00, ?it/s]"
     ]
    },
    {
     "name": "stdout",
     "output_type": "stream",
     "text": [
      "* [TextCleaner] Cleaning text...\n",
      "* [TextCleaner] Cleaning text...\n",
      "* [TextCleaner] Cleaning text...\n",
      "* [TextCleaner] Cleaning text...\n",
      "* [TextCleaner] Cleaning text...\n",
      "* [TextCleaner] Cleaning text...\n",
      "* [TextCleaner] Cleaning text...\n"
     ]
    },
    {
     "name": "stderr",
     "output_type": "stream",
     "text": [
      "1it [00:00, 53.56it/s]\n",
      "1it [00:00, 52.44it/s]\n",
      "1it [00:00, 33.89it/s]\n",
      "1it [00:00, 33.06it/s]\n",
      "1it [00:00, 53.20it/s]\n",
      "1it [00:00, 26.99it/s]\n",
      "1it [00:00, 33.71it/s]\n",
      "0it [00:00, ?it/s]"
     ]
    },
    {
     "name": "stdout",
     "output_type": "stream",
     "text": [
      "* [TextCleaner] Cleaning text...\n",
      "* [TextCleaner] Cleaning text...\n",
      "* [TextCleaner] Cleaning text...\n",
      "* [TextCleaner] Cleaning text...\n",
      "* [TextCleaner] Cleaning text...\n",
      "* [TextCleaner] Cleaning text...\n",
      "* [TextCleaner] Cleaning text...\n"
     ]
    },
    {
     "name": "stderr",
     "output_type": "stream",
     "text": [
      "1it [00:00, 32.42it/s]\n",
      "1it [00:00, 38.20it/s]\n",
      "1it [00:00, 41.61it/s]\n",
      "1it [00:00, 37.29it/s]\n",
      "1it [00:00, 40.86it/s]\n",
      "1it [00:00, 35.96it/s]\n",
      "1it [00:00, 51.62it/s]\n",
      "1it [00:00, 46.43it/s]"
     ]
    },
    {
     "name": "stdout",
     "output_type": "stream",
     "text": [
      "* [TextCleaner] Cleaning text...\n",
      "* [TextCleaner] Cleaning text...\n",
      "* [TextCleaner] Cleaning text...\n",
      "* [TextCleaner] Cleaning text...\n",
      "* [TextCleaner] Cleaning text...\n",
      "* [TextCleaner] Cleaning text...\n",
      "* [TextCleaner] Cleaning text...\n"
     ]
    },
    {
     "name": "stderr",
     "output_type": "stream",
     "text": [
      "\n",
      "1it [00:00, 27.61it/s]\n",
      "1it [00:00, 38.17it/s]\n",
      "1it [00:00, 25.87it/s]\n",
      "1it [00:00, 37.68it/s]\n",
      "1it [00:00, 34.35it/s]\n",
      "1it [00:00, 89.65it/s]\n"
     ]
    },
    {
     "name": "stdout",
     "output_type": "stream",
     "text": [
      "* [TextCleaner] Cleaning text...\n",
      "* [TextCleaner] Cleaning text...\n",
      "* [TextCleaner] Cleaning text...\n",
      "* [TextCleaner] Cleaning text...\n",
      "* [TextCleaner] Cleaning text...\n",
      "* [TextCleaner] Cleaning text...\n",
      "* [TextCleaner] Cleaning text...\n"
     ]
    },
    {
     "name": "stderr",
     "output_type": "stream",
     "text": [
      "1it [00:00, 47.33it/s]\n",
      "1it [00:00, 54.12it/s]\n",
      "1it [00:00, 35.49it/s]\n",
      "1it [00:00, 40.49it/s]\n",
      "1it [00:00, 31.95it/s]\n",
      "1it [00:00, 92.23it/s]\n",
      "1it [00:00, 40.19it/s]\n",
      "1it [00:00, 45.69it/s]\n",
      "0it [00:00, ?it/s]"
     ]
    },
    {
     "name": "stdout",
     "output_type": "stream",
     "text": [
      "* [TextCleaner] Cleaning text...\n",
      "* [TextCleaner] Cleaning text...\n",
      "* [TextCleaner] Cleaning text...\n",
      "* [TextCleaner] Cleaning text...\n",
      "* [TextCleaner] Cleaning text...\n",
      "* [TextCleaner] Cleaning text...\n",
      "* [TextCleaner] Cleaning text...\n",
      "* [TextCleaner] Cleaning text...\n"
     ]
    },
    {
     "name": "stderr",
     "output_type": "stream",
     "text": [
      "1it [00:00, 36.05it/s]\n",
      "1it [00:00, 52.32it/s]\n",
      "1it [00:00, 30.66it/s]\n",
      "1it [00:00, 37.32it/s]\n",
      "1it [00:00, 27.87it/s]\n",
      "1it [00:00, 37.06it/s]\n",
      "1it [00:00, 37.49it/s]"
     ]
    },
    {
     "name": "stdout",
     "output_type": "stream",
     "text": [
      "* [TextCleaner] Cleaning text...\n",
      "* [TextCleaner] Cleaning text...\n",
      "* [TextCleaner] Cleaning text...\n",
      "* [TextCleaner] Cleaning text...\n",
      "* [TextCleaner] Cleaning text...\n",
      "* [TextCleaner] Cleaning text...\n"
     ]
    },
    {
     "name": "stderr",
     "output_type": "stream",
     "text": [
      "\n",
      "1it [00:00, 32.87it/s]\n",
      "1it [00:00, 38.72it/s]\n",
      "1it [00:00, 40.34it/s]\n",
      "1it [00:00, 45.42it/s]\n",
      "1it [00:00, 33.50it/s]\n",
      "1it [00:00, 34.49it/s]\n",
      "0it [00:00, ?it/s]"
     ]
    },
    {
     "name": "stdout",
     "output_type": "stream",
     "text": [
      "* [TextCleaner] Cleaning text...\n",
      "* [TextCleaner] Cleaning text...\n",
      "* [TextCleaner] Cleaning text...\n",
      "* [TextCleaner] Cleaning text...\n",
      "* [TextCleaner] Cleaning text...\n",
      "* [TextCleaner] Cleaning text...\n",
      "* [TextCleaner] Cleaning text...\n"
     ]
    },
    {
     "name": "stderr",
     "output_type": "stream",
     "text": [
      "1it [00:00, 32.04it/s]\n",
      "1it [00:00, 31.71it/s]\n",
      "1it [00:00, 42.77it/s]\n",
      "1it [00:00, 35.02it/s]\n",
      "1it [00:00, 31.88it/s]\n",
      "1it [00:00, 41.25it/s]\n",
      "1it [00:00, 41.49it/s]\n",
      "0it [00:00, ?it/s]"
     ]
    },
    {
     "name": "stdout",
     "output_type": "stream",
     "text": [
      "* [TextCleaner] Cleaning text...\n",
      "* [TextCleaner] Cleaning text...\n",
      "* [TextCleaner] Cleaning text...\n",
      "* [TextCleaner] Cleaning text...\n",
      "* [TextCleaner] Cleaning text...\n",
      "* [TextCleaner] Cleaning text...\n",
      "* [TextCleaner] Cleaning text...\n"
     ]
    },
    {
     "name": "stderr",
     "output_type": "stream",
     "text": [
      "1it [00:00, 32.17it/s]\n",
      "1it [00:00, 32.81it/s]\n",
      "1it [00:00, 36.67it/s]\n",
      "1it [00:00, 31.55it/s]\n",
      "1it [00:00, 40.16it/s]\n",
      "1it [00:00, 48.36it/s]\n",
      "1it [00:00, 44.72it/s]\n",
      "0it [00:00, ?it/s]"
     ]
    },
    {
     "name": "stdout",
     "output_type": "stream",
     "text": [
      "* [TextCleaner] Cleaning text...\n",
      "* [TextCleaner] Cleaning text...\n",
      "* [TextCleaner] Cleaning text...\n",
      "* [TextCleaner] Cleaning text...\n",
      "* [TextCleaner] Cleaning text...\n",
      "* [TextCleaner] Cleaning text...\n",
      "* [TextCleaner] Cleaning text...\n"
     ]
    },
    {
     "name": "stderr",
     "output_type": "stream",
     "text": [
      "1it [00:00, 27.00it/s]\n",
      "1it [00:00, 68.22it/s]\n",
      "1it [00:00, 72.63it/s]\n",
      "1it [00:00, 41.68it/s]\n",
      "1it [00:00, 41.13it/s]\n",
      "1it [00:00, 36.49it/s]\n",
      "1it [00:00, 34.70it/s]\n",
      "1it [00:00, 33.90it/s]"
     ]
    },
    {
     "name": "stdout",
     "output_type": "stream",
     "text": [
      "* [TextCleaner] Cleaning text...\n",
      "* [TextCleaner] Cleaning text...\n",
      "* [TextCleaner] Cleaning text...\n",
      "* [TextCleaner] Cleaning text...\n",
      "* [TextCleaner] Cleaning text...\n",
      "* [TextCleaner] Cleaning text...\n",
      "* [TextCleaner] Cleaning text...\n",
      "* [TextCleaner] Cleaning text...\n"
     ]
    },
    {
     "name": "stderr",
     "output_type": "stream",
     "text": [
      "\n",
      "1it [00:00, 44.48it/s]\n",
      "1it [00:00, 44.85it/s]\n",
      "1it [00:00, 35.14it/s]\n",
      "1it [00:00, 33.75it/s]\n",
      "1it [00:00, 32.89it/s]\n",
      "1it [00:00, 33.14it/s]\n",
      "1it [00:00, 46.78it/s]\n",
      "0it [00:00, ?it/s]"
     ]
    },
    {
     "name": "stdout",
     "output_type": "stream",
     "text": [
      "* [TextCleaner] Cleaning text...\n",
      "* [TextCleaner] Cleaning text...\n",
      "* [TextCleaner] Cleaning text...\n",
      "* [TextCleaner] Cleaning text...\n",
      "* [TextCleaner] Cleaning text...\n",
      "* [TextCleaner] Cleaning text...\n",
      "* [TextCleaner] Cleaning text...\n"
     ]
    },
    {
     "name": "stderr",
     "output_type": "stream",
     "text": [
      "1it [00:00, 32.43it/s]\n",
      "1it [00:00, 33.17it/s]\n",
      "1it [00:00, 31.05it/s]\n",
      "1it [00:00, 37.59it/s]\n",
      "1it [00:00, 38.25it/s]\n",
      "1it [00:00, 30.53it/s]\n",
      "0it [00:00, ?it/s]"
     ]
    },
    {
     "name": "stdout",
     "output_type": "stream",
     "text": [
      "* [TextCleaner] Cleaning text...\n",
      "* [TextCleaner] Cleaning text...\n",
      "* [TextCleaner] Cleaning text...\n",
      "* [TextCleaner] Cleaning text...\n",
      "* [TextCleaner] Cleaning text...\n",
      "* [TextCleaner] Cleaning text...\n"
     ]
    },
    {
     "name": "stderr",
     "output_type": "stream",
     "text": [
      "1it [00:00, 28.35it/s]\n",
      "1it [00:00, 32.87it/s]\n",
      "1it [00:00, 39.01it/s]\n",
      "1it [00:00, 39.90it/s]\n",
      "1it [00:00, 38.17it/s]\n",
      "1it [00:00, 45.43it/s]\n",
      "1it [00:00, 33.86it/s]\n",
      "0it [00:00, ?it/s]"
     ]
    },
    {
     "name": "stdout",
     "output_type": "stream",
     "text": [
      "* [TextCleaner] Cleaning text...\n",
      "* [TextCleaner] Cleaning text...\n",
      "* [TextCleaner] Cleaning text...\n",
      "* [TextCleaner] Cleaning text...\n",
      "* [TextCleaner] Cleaning text...\n",
      "* [TextCleaner] Cleaning text...\n",
      "* [TextCleaner] Cleaning text...\n"
     ]
    },
    {
     "name": "stderr",
     "output_type": "stream",
     "text": [
      "1it [00:00, 31.88it/s]\n",
      "1it [00:00, 30.37it/s]\n",
      "1it [00:00, 44.96it/s]\n",
      "1it [00:00, 32.10it/s]\n",
      "1it [00:00, 38.02it/s]\n",
      "1it [00:00, 33.30it/s]\n",
      "1it [00:00, 38.64it/s]"
     ]
    },
    {
     "name": "stdout",
     "output_type": "stream",
     "text": [
      "* [TextCleaner] Cleaning text...\n",
      "* [TextCleaner] Cleaning text...\n",
      "* [TextCleaner] Cleaning text...\n",
      "* [TextCleaner] Cleaning text...\n",
      "* [TextCleaner] Cleaning text...\n",
      "* [TextCleaner] Cleaning text...\n"
     ]
    },
    {
     "name": "stderr",
     "output_type": "stream",
     "text": [
      "\n",
      "1it [00:00, 39.61it/s]\n",
      "1it [00:00, 39.74it/s]\n",
      "1it [00:00, 41.05it/s]\n",
      "1it [00:00, 35.04it/s]\n",
      "1it [00:00, 38.62it/s]\n",
      "1it [00:00, 42.29it/s]\n",
      "1it [00:00, 42.19it/s]\n",
      "0it [00:00, ?it/s]"
     ]
    },
    {
     "name": "stdout",
     "output_type": "stream",
     "text": [
      "* [TextCleaner] Cleaning text...\n",
      "* [TextCleaner] Cleaning text...\n",
      "* [TextCleaner] Cleaning text...\n",
      "* [TextCleaner] Cleaning text...\n",
      "* [TextCleaner] Cleaning text...\n",
      "* [TextCleaner] Cleaning text...\n",
      "* [TextCleaner] Cleaning text...\n",
      "* [TextCleaner] Cleaning text...\n"
     ]
    },
    {
     "name": "stderr",
     "output_type": "stream",
     "text": [
      "1it [00:00, 37.49it/s]\n",
      "1it [00:00, 96.32it/s]\n",
      "1it [00:00, 36.33it/s]\n",
      "1it [00:00, 28.46it/s]\n",
      "1it [00:00, 40.08it/s]\n",
      "1it [00:00, 35.98it/s]\n",
      "1it [00:00, 32.89it/s]\n",
      "0it [00:00, ?it/s]"
     ]
    },
    {
     "name": "stdout",
     "output_type": "stream",
     "text": [
      "* [TextCleaner] Cleaning text...\n",
      "* [TextCleaner] Cleaning text...\n",
      "* [TextCleaner] Cleaning text...\n",
      "* [TextCleaner] Cleaning text...\n",
      "* [TextCleaner] Cleaning text...\n",
      "* [TextCleaner] Cleaning text...\n",
      "* [TextCleaner] Cleaning text...\n"
     ]
    },
    {
     "name": "stderr",
     "output_type": "stream",
     "text": [
      "1it [00:00, 34.72it/s]\n",
      "1it [00:00, 38.52it/s]\n",
      "1it [00:00, 38.41it/s]\n",
      "1it [00:00, 41.39it/s]\n",
      "1it [00:00, 35.24it/s]\n",
      "1it [00:00, 51.58it/s]\n",
      "1it [00:00, 39.06it/s]\n",
      "0it [00:00, ?it/s]"
     ]
    },
    {
     "name": "stdout",
     "output_type": "stream",
     "text": [
      "* [TextCleaner] Cleaning text...\n",
      "* [TextCleaner] Cleaning text...\n",
      "* [TextCleaner] Cleaning text...\n",
      "* [TextCleaner] Cleaning text...\n",
      "* [TextCleaner] Cleaning text...\n",
      "* [TextCleaner] Cleaning text...\n",
      "* [TextCleaner] Cleaning text...\n"
     ]
    },
    {
     "name": "stderr",
     "output_type": "stream",
     "text": [
      "1it [00:00, 35.85it/s]\n",
      "1it [00:00, 33.60it/s]\n",
      "1it [00:00, 46.44it/s]\n",
      "1it [00:00, 32.85it/s]\n",
      "1it [00:00, 27.68it/s]\n",
      "1it [00:00, 38.33it/s]\n",
      "0it [00:00, ?it/s]"
     ]
    },
    {
     "name": "stdout",
     "output_type": "stream",
     "text": [
      "* [TextCleaner] Cleaning text...\n",
      "* [TextCleaner] Cleaning text...\n",
      "* [TextCleaner] Cleaning text...\n",
      "* [TextCleaner] Cleaning text...\n",
      "* [TextCleaner] Cleaning text...\n",
      "* [TextCleaner] Cleaning text...\n"
     ]
    },
    {
     "name": "stderr",
     "output_type": "stream",
     "text": [
      "1it [00:00, 28.68it/s]\n",
      "1it [00:00, 262.31it/s]\n",
      "1it [00:00, 32.52it/s]\n",
      "1it [00:00, 33.68it/s]\n",
      "1it [00:00, 34.52it/s]\n",
      "1it [00:00, 35.73it/s]\n",
      "1it [00:00, 41.71it/s]\n",
      "1it [00:00, 43.76it/s]\n",
      "0it [00:00, ?it/s]"
     ]
    },
    {
     "name": "stdout",
     "output_type": "stream",
     "text": [
      "* [TextCleaner] Cleaning text...\n",
      "* [TextCleaner] Cleaning text...\n",
      "* [TextCleaner] Cleaning text...\n",
      "* [TextCleaner] Cleaning text...\n",
      "* [TextCleaner] Cleaning text...\n",
      "* [TextCleaner] Cleaning text...\n",
      "* [TextCleaner] Cleaning text...\n",
      "* [TextCleaner] Cleaning text...\n"
     ]
    },
    {
     "name": "stderr",
     "output_type": "stream",
     "text": [
      "1it [00:00, 36.15it/s]\n",
      "1it [00:00, 55.52it/s]\n",
      "1it [00:00, 31.25it/s]\n",
      "1it [00:00, 38.53it/s]\n",
      "1it [00:00, 45.38it/s]\n",
      "1it [00:00, 34.63it/s]\n",
      "1it [00:00, 41.84it/s]\n",
      "0it [00:00, ?it/s]"
     ]
    },
    {
     "name": "stdout",
     "output_type": "stream",
     "text": [
      "* [TextCleaner] Cleaning text...\n",
      "* [TextCleaner] Cleaning text...\n",
      "* [TextCleaner] Cleaning text...\n",
      "* [TextCleaner] Cleaning text...\n",
      "* [TextCleaner] Cleaning text...\n",
      "* [TextCleaner] Cleaning text...\n",
      "* [TextCleaner] Cleaning text...\n"
     ]
    },
    {
     "name": "stderr",
     "output_type": "stream",
     "text": [
      "1it [00:00, 30.67it/s]\n",
      "1it [00:00, 30.15it/s]\n",
      "1it [00:00, 36.20it/s]\n",
      "1it [00:00, 46.79it/s]\n",
      "1it [00:00, 40.03it/s]\n",
      "1it [00:00, 29.88it/s]\n",
      "1it [00:00, 53.84it/s]\n",
      "0it [00:00, ?it/s]"
     ]
    },
    {
     "name": "stdout",
     "output_type": "stream",
     "text": [
      "* [TextCleaner] Cleaning text...\n",
      "* [TextCleaner] Cleaning text...\n",
      "* [TextCleaner] Cleaning text...\n",
      "* [TextCleaner] Cleaning text...\n",
      "* [TextCleaner] Cleaning text...\n",
      "* [TextCleaner] Cleaning text...\n",
      "* [TextCleaner] Cleaning text...\n"
     ]
    },
    {
     "name": "stderr",
     "output_type": "stream",
     "text": [
      "1it [00:00, 41.60it/s]\n",
      "1it [00:00, 35.38it/s]\n",
      "1it [00:00, 26.87it/s]\n",
      "1it [00:00, 33.97it/s]\n",
      "1it [00:00, 45.59it/s]\n",
      "1it [00:00, 37.38it/s]\n",
      "0it [00:00, ?it/s]"
     ]
    },
    {
     "name": "stdout",
     "output_type": "stream",
     "text": [
      "* [TextCleaner] Cleaning text...\n",
      "* [TextCleaner] Cleaning text...\n",
      "* [TextCleaner] Cleaning text...\n",
      "* [TextCleaner] Cleaning text...\n",
      "* [TextCleaner] Cleaning text...\n",
      "* [TextCleaner] Cleaning text...\n"
     ]
    },
    {
     "name": "stderr",
     "output_type": "stream",
     "text": [
      "1it [00:00, 36.17it/s]\n",
      "1it [00:00, 35.80it/s]\n",
      "1it [00:00, 44.01it/s]\n",
      "1it [00:00, 36.19it/s]\n",
      "1it [00:00, 34.57it/s]\n",
      "1it [00:00, 44.04it/s]\n",
      "1it [00:00, 37.21it/s]\n",
      "0it [00:00, ?it/s]"
     ]
    },
    {
     "name": "stdout",
     "output_type": "stream",
     "text": [
      "* [TextCleaner] Cleaning text...\n",
      "* [TextCleaner] Cleaning text...\n",
      "* [TextCleaner] Cleaning text...\n",
      "* [TextCleaner] Cleaning text...\n",
      "* [TextCleaner] Cleaning text...\n",
      "* [TextCleaner] Cleaning text...\n",
      "* [TextCleaner] Cleaning text...\n"
     ]
    },
    {
     "name": "stderr",
     "output_type": "stream",
     "text": [
      "1it [00:00, 31.78it/s]\n",
      "1it [00:00, 36.82it/s]\n",
      "1it [00:00, 40.95it/s]\n",
      "1it [00:00, 37.60it/s]\n",
      "1it [00:00, 32.34it/s]\n",
      "1it [00:00, 36.31it/s]\n",
      "1it [00:00, 37.09it/s]\n",
      "0it [00:00, ?it/s]"
     ]
    },
    {
     "name": "stdout",
     "output_type": "stream",
     "text": [
      "* [TextCleaner] Cleaning text...\n",
      "* [TextCleaner] Cleaning text...\n",
      "* [TextCleaner] Cleaning text...\n",
      "* [TextCleaner] Cleaning text...\n",
      "* [TextCleaner] Cleaning text...\n",
      "* [TextCleaner] Cleaning text...\n",
      "* [TextCleaner] Cleaning text...\n"
     ]
    },
    {
     "name": "stderr",
     "output_type": "stream",
     "text": [
      "1it [00:00, 40.10it/s]\n",
      "1it [00:00, 33.02it/s]\n",
      "1it [00:00, 31.58it/s]\n",
      "1it [00:00, 32.43it/s]\n",
      "1it [00:00, 34.04it/s]\n",
      "1it [00:00, 34.33it/s]\n",
      "0it [00:00, ?it/s]"
     ]
    },
    {
     "name": "stdout",
     "output_type": "stream",
     "text": [
      "* [TextCleaner] Cleaning text...\n",
      "* [TextCleaner] Cleaning text...\n",
      "* [TextCleaner] Cleaning text...\n",
      "* [TextCleaner] Cleaning text...\n",
      "* [TextCleaner] Cleaning text...\n",
      "* [TextCleaner] Cleaning text...\n"
     ]
    },
    {
     "name": "stderr",
     "output_type": "stream",
     "text": [
      "1it [00:00, 35.83it/s]\n",
      "1it [00:00, 46.19it/s]\n",
      "1it [00:00, 32.02it/s]\n",
      "1it [00:00, 32.52it/s]\n",
      "1it [00:00, 36.02it/s]\n",
      "1it [00:00, 42.96it/s]\n",
      "1it [00:00, 35.34it/s]\n",
      "0it [00:00, ?it/s]"
     ]
    },
    {
     "name": "stdout",
     "output_type": "stream",
     "text": [
      "* [TextCleaner] Cleaning text...\n",
      "* [TextCleaner] Cleaning text...\n",
      "* [TextCleaner] Cleaning text...\n",
      "* [TextCleaner] Cleaning text...\n",
      "* [TextCleaner] Cleaning text...\n",
      "* [TextCleaner] Cleaning text...\n",
      "* [TextCleaner] Cleaning text...\n"
     ]
    },
    {
     "name": "stderr",
     "output_type": "stream",
     "text": [
      "1it [00:00, 27.96it/s]\n",
      "1it [00:00, 32.34it/s]\n",
      "1it [00:00, 31.38it/s]\n",
      "1it [00:00, 43.60it/s]\n",
      "1it [00:00, 35.27it/s]\n",
      "1it [00:00, 34.90it/s]\n",
      "1it [00:00, 43.99it/s]\n",
      "0it [00:00, ?it/s]"
     ]
    },
    {
     "name": "stdout",
     "output_type": "stream",
     "text": [
      "* [TextCleaner] Cleaning text...\n",
      "* [TextCleaner] Cleaning text...\n",
      "* [TextCleaner] Cleaning text...\n",
      "* [TextCleaner] Cleaning text...\n",
      "* [TextCleaner] Cleaning text...\n",
      "* [TextCleaner] Cleaning text...\n",
      "* [TextCleaner] Cleaning text...\n"
     ]
    },
    {
     "name": "stderr",
     "output_type": "stream",
     "text": [
      "1it [00:00, 28.43it/s]\n",
      "1it [00:00, 54.69it/s]\n",
      "1it [00:00, 30.10it/s]\n",
      "1it [00:00, 34.34it/s]\n",
      "1it [00:00, 37.93it/s]\n",
      "1it [00:00, 30.57it/s]\n",
      "1it [00:00, 36.68it/s]\n",
      "0it [00:00, ?it/s]"
     ]
    },
    {
     "name": "stdout",
     "output_type": "stream",
     "text": [
      "* [TextCleaner] Cleaning text...\n",
      "* [TextCleaner] Cleaning text...\n",
      "* [TextCleaner] Cleaning text...\n",
      "* [TextCleaner] Cleaning text...\n",
      "* [TextCleaner] Cleaning text...\n",
      "* [TextCleaner] Cleaning text...\n",
      "* [TextCleaner] Cleaning text...\n"
     ]
    },
    {
     "name": "stderr",
     "output_type": "stream",
     "text": [
      "1it [00:00, 35.22it/s]\n",
      "1it [00:00, 32.45it/s]\n",
      "1it [00:00, 36.67it/s]\n",
      "1it [00:00, 31.85it/s]\n",
      "1it [00:00, 40.31it/s]\n",
      "1it [00:00, 39.14it/s]\n",
      "1it [00:00, 36.60it/s]\n",
      "0it [00:00, ?it/s]"
     ]
    },
    {
     "name": "stdout",
     "output_type": "stream",
     "text": [
      "* [TextCleaner] Cleaning text...\n",
      "* [TextCleaner] Cleaning text...\n",
      "* [TextCleaner] Cleaning text...\n",
      "* [TextCleaner] Cleaning text...\n",
      "* [TextCleaner] Cleaning text...\n",
      "* [TextCleaner] Cleaning text...\n",
      "* [TextCleaner] Cleaning text...\n"
     ]
    },
    {
     "name": "stderr",
     "output_type": "stream",
     "text": [
      "1it [00:00, 31.60it/s]\n",
      "1it [00:00, 45.81it/s]\n",
      "1it [00:00, 41.76it/s]\n",
      "1it [00:00, 37.65it/s]\n",
      "1it [00:00, 36.16it/s]\n",
      "1it [00:00, 40.17it/s]\n",
      "1it [00:00, 28.63it/s]\n",
      "0it [00:00, ?it/s]"
     ]
    },
    {
     "name": "stdout",
     "output_type": "stream",
     "text": [
      "* [TextCleaner] Cleaning text...\n",
      "* [TextCleaner] Cleaning text...\n",
      "* [TextCleaner] Cleaning text...\n",
      "* [TextCleaner] Cleaning text...\n",
      "* [TextCleaner] Cleaning text...\n",
      "* [TextCleaner] Cleaning text...\n",
      "* [TextCleaner] Cleaning text...\n"
     ]
    },
    {
     "name": "stderr",
     "output_type": "stream",
     "text": [
      "1it [00:00, 41.33it/s]\n",
      "1it [00:00, 35.94it/s]\n",
      "1it [00:00, 32.44it/s]\n",
      "1it [00:00, 37.54it/s]\n",
      "1it [00:00, 46.01it/s]\n",
      "1it [00:00, 43.56it/s]\n",
      "1it [00:00, 35.33it/s]\n",
      "0it [00:00, ?it/s]"
     ]
    },
    {
     "name": "stdout",
     "output_type": "stream",
     "text": [
      "* [TextCleaner] Cleaning text...\n",
      "* [TextCleaner] Cleaning text...\n",
      "* [TextCleaner] Cleaning text...\n",
      "* [TextCleaner] Cleaning text...\n",
      "* [TextCleaner] Cleaning text...\n",
      "* [TextCleaner] Cleaning text...\n",
      "* [TextCleaner] Cleaning text...\n"
     ]
    },
    {
     "name": "stderr",
     "output_type": "stream",
     "text": [
      "1it [00:00, 38.11it/s]\n",
      "1it [00:00, 38.21it/s]\n",
      "1it [00:00, 39.74it/s]\n",
      "1it [00:00, 41.96it/s]\n",
      "1it [00:00, 36.37it/s]\n",
      "1it [00:00, 25.36it/s]\n",
      "0it [00:00, ?it/s]"
     ]
    },
    {
     "name": "stdout",
     "output_type": "stream",
     "text": [
      "* [TextCleaner] Cleaning text...\n",
      "* [TextCleaner] Cleaning text...\n",
      "* [TextCleaner] Cleaning text...\n",
      "* [TextCleaner] Cleaning text...\n",
      "* [TextCleaner] Cleaning text...\n",
      "* [TextCleaner] Cleaning text...\n"
     ]
    },
    {
     "name": "stderr",
     "output_type": "stream",
     "text": [
      "1it [00:00, 27.60it/s]\n",
      "1it [00:00, 40.93it/s]\n",
      "1it [00:00, 42.77it/s]\n",
      "1it [00:00, 32.85it/s]\n",
      "1it [00:00, 42.07it/s]\n",
      "1it [00:00, 33.23it/s]\n",
      "1it [00:00, 45.01it/s]"
     ]
    },
    {
     "name": "stdout",
     "output_type": "stream",
     "text": [
      "* [TextCleaner] Cleaning text...\n",
      "* [TextCleaner] Cleaning text...\n",
      "* [TextCleaner] Cleaning text...\n",
      "* [TextCleaner] Cleaning text...\n",
      "* [TextCleaner] Cleaning text...\n",
      "* [TextCleaner] Cleaning text...\n"
     ]
    },
    {
     "name": "stderr",
     "output_type": "stream",
     "text": [
      "\n",
      "1it [00:00, 45.90it/s]\n",
      "1it [00:00, 36.33it/s]\n",
      "1it [00:00, 46.16it/s]\n",
      "1it [00:00, 35.95it/s]\n",
      "1it [00:00, 42.98it/s]\n",
      "1it [00:00, 40.84it/s]\n",
      "1it [00:00, 36.90it/s]\n",
      "0it [00:00, ?it/s]"
     ]
    },
    {
     "name": "stdout",
     "output_type": "stream",
     "text": [
      "* [TextCleaner] Cleaning text...\n",
      "* [TextCleaner] Cleaning text...\n",
      "* [TextCleaner] Cleaning text...\n",
      "* [TextCleaner] Cleaning text...\n",
      "* [TextCleaner] Cleaning text...\n",
      "* [TextCleaner] Cleaning text...\n",
      "* [TextCleaner] Cleaning text...\n",
      "* [TextCleaner] Cleaning text...\n"
     ]
    },
    {
     "name": "stderr",
     "output_type": "stream",
     "text": [
      "1it [00:00, 33.24it/s]\n",
      "1it [00:00, 38.60it/s]\n",
      "1it [00:00, 30.56it/s]\n",
      "1it [00:00, 34.18it/s]\n",
      "1it [00:00, 55.10it/s]\n",
      "1it [00:00, 32.38it/s]\n",
      "1it [00:00, 44.60it/s]\n",
      "0it [00:00, ?it/s]"
     ]
    },
    {
     "name": "stdout",
     "output_type": "stream",
     "text": [
      "* [TextCleaner] Cleaning text...\n",
      "* [TextCleaner] Cleaning text...\n",
      "* [TextCleaner] Cleaning text...\n",
      "* [TextCleaner] Cleaning text...\n",
      "* [TextCleaner] Cleaning text...\n",
      "* [TextCleaner] Cleaning text...\n",
      "* [TextCleaner] Cleaning text...\n"
     ]
    },
    {
     "name": "stderr",
     "output_type": "stream",
     "text": [
      "1it [00:00, 30.50it/s]\n",
      "1it [00:00, 48.62it/s]\n",
      "1it [00:00, 114.38it/s]\n",
      "1it [00:00, 48.50it/s]\n",
      "1it [00:00, 33.00it/s]\n",
      "1it [00:00, 40.00it/s]\n",
      "1it [00:00, 27.34it/s]\n",
      "0it [00:00, ?it/s]"
     ]
    },
    {
     "name": "stdout",
     "output_type": "stream",
     "text": [
      "* [TextCleaner] Cleaning text...\n",
      "* [TextCleaner] Cleaning text...\n",
      "* [TextCleaner] Cleaning text...\n",
      "* [TextCleaner] Cleaning text...\n",
      "* [TextCleaner] Cleaning text...\n",
      "* [TextCleaner] Cleaning text...\n",
      "* [TextCleaner] Cleaning text...\n"
     ]
    },
    {
     "name": "stderr",
     "output_type": "stream",
     "text": [
      "1it [00:00, 35.60it/s]\n",
      "1it [00:00, 29.98it/s]\n",
      "1it [00:00, 43.53it/s]\n",
      "1it [00:00, 37.46it/s]\n",
      "1it [00:00, 36.43it/s]\n",
      "1it [00:00, 30.62it/s]\n",
      "1it [00:00, 49.15it/s]\n",
      "0it [00:00, ?it/s]"
     ]
    },
    {
     "name": "stdout",
     "output_type": "stream",
     "text": [
      "* [TextCleaner] Cleaning text...\n",
      "* [TextCleaner] Cleaning text...\n",
      "* [TextCleaner] Cleaning text...\n",
      "* [TextCleaner] Cleaning text...\n",
      "* [TextCleaner] Cleaning text...\n",
      "* [TextCleaner] Cleaning text...\n",
      "* [TextCleaner] Cleaning text...\n"
     ]
    },
    {
     "name": "stderr",
     "output_type": "stream",
     "text": [
      "1it [00:00, 37.86it/s]\n",
      "1it [00:00, 30.75it/s]\n",
      "1it [00:00, 42.96it/s]\n",
      "1it [00:00, 31.28it/s]\n",
      "1it [00:00, 41.47it/s]\n",
      "1it [00:00, 35.86it/s]\n",
      "1it [00:00, 31.41it/s]\n"
     ]
    },
    {
     "name": "stdout",
     "output_type": "stream",
     "text": [
      "* [TextCleaner] Cleaning text...\n",
      "* [TextCleaner] Cleaning text...\n",
      "* [TextCleaner] Cleaning text...\n",
      "* [TextCleaner] Cleaning text...\n",
      "* [TextCleaner] Cleaning text...\n",
      "* [TextCleaner] Cleaning text...\n"
     ]
    },
    {
     "name": "stderr",
     "output_type": "stream",
     "text": [
      "1it [00:00, 30.43it/s]\n",
      "1it [00:00, 38.92it/s]\n",
      "1it [00:00, 41.48it/s]\n",
      "1it [00:00, 32.14it/s]\n",
      "1it [00:00, 34.20it/s]\n",
      "1it [00:00, 31.49it/s]\n",
      "1it [00:00, 34.07it/s]\n"
     ]
    },
    {
     "name": "stdout",
     "output_type": "stream",
     "text": [
      "* [TextCleaner] Cleaning text...\n",
      "* [TextCleaner] Cleaning text...\n",
      "* [TextCleaner] Cleaning text...\n",
      "* [TextCleaner] Cleaning text...\n",
      "* [TextCleaner] Cleaning text...\n",
      "* [TextCleaner] Cleaning text...\n",
      "* [TextCleaner] Cleaning text...\n"
     ]
    },
    {
     "name": "stderr",
     "output_type": "stream",
     "text": [
      "1it [00:00, 36.81it/s]\n",
      "1it [00:00, 36.67it/s]\n",
      "1it [00:00, 41.91it/s]\n",
      "1it [00:00, 35.04it/s]\n",
      "1it [00:00, 39.50it/s]\n",
      "1it [00:00, 43.02it/s]\n",
      "1it [00:00, 125.62it/s]\n",
      "0it [00:00, ?it/s]"
     ]
    },
    {
     "name": "stdout",
     "output_type": "stream",
     "text": [
      "* [TextCleaner] Cleaning text...\n",
      "* [TextCleaner] Cleaning text...\n",
      "* [TextCleaner] Cleaning text...\n",
      "* [TextCleaner] Cleaning text...\n",
      "* [TextCleaner] Cleaning text...\n",
      "* [TextCleaner] Cleaning text...\n",
      "* [TextCleaner] Cleaning text...\n",
      "* [TextCleaner] Cleaning text...\n"
     ]
    },
    {
     "name": "stderr",
     "output_type": "stream",
     "text": [
      "1it [00:00, 39.43it/s]\n",
      "1it [00:00, 39.62it/s]\n",
      "1it [00:00, 30.39it/s]\n",
      "1it [00:00, 45.14it/s]\n",
      "1it [00:00, 31.01it/s]\n",
      "1it [00:00, 38.40it/s]\n",
      "1it [00:00, 33.41it/s]\n"
     ]
    },
    {
     "name": "stdout",
     "output_type": "stream",
     "text": [
      "* [TextCleaner] Cleaning text...\n",
      "* [TextCleaner] Cleaning text...\n",
      "* [TextCleaner] Cleaning text...\n",
      "* [TextCleaner] Cleaning text...\n",
      "* [TextCleaner] Cleaning text...\n",
      "* [TextCleaner] Cleaning text...\n",
      "* [TextCleaner] Cleaning text...\n"
     ]
    },
    {
     "name": "stderr",
     "output_type": "stream",
     "text": [
      "1it [00:00, 30.24it/s]\n",
      "1it [00:00, 43.51it/s]\n",
      "1it [00:00, 37.46it/s]\n",
      "1it [00:00, 40.19it/s]\n",
      "1it [00:00, 28.23it/s]\n",
      "1it [00:00, 36.93it/s]\n",
      "1it [00:00, 31.75it/s]\n",
      "0it [00:00, ?it/s]"
     ]
    },
    {
     "name": "stdout",
     "output_type": "stream",
     "text": [
      "* [TextCleaner] Cleaning text...\n",
      "* [TextCleaner] Cleaning text...\n",
      "* [TextCleaner] Cleaning text...\n",
      "* [TextCleaner] Cleaning text...\n",
      "* [TextCleaner] Cleaning text...\n",
      "* [TextCleaner] Cleaning text...\n",
      "* [TextCleaner] Cleaning text...\n"
     ]
    },
    {
     "name": "stderr",
     "output_type": "stream",
     "text": [
      "1it [00:00, 30.87it/s]\n",
      "1it [00:00, 42.09it/s]\n",
      "1it [00:00, 37.80it/s]\n",
      "1it [00:00, 36.90it/s]\n",
      "1it [00:00, 30.65it/s]\n",
      "1it [00:00, 32.32it/s]\n",
      "1it [00:00, 42.77it/s]\n",
      "0it [00:00, ?it/s]"
     ]
    },
    {
     "name": "stdout",
     "output_type": "stream",
     "text": [
      "* [TextCleaner] Cleaning text...\n",
      "* [TextCleaner] Cleaning text...\n",
      "* [TextCleaner] Cleaning text...\n",
      "* [TextCleaner] Cleaning text...\n",
      "* [TextCleaner] Cleaning text...\n",
      "* [TextCleaner] Cleaning text...\n",
      "* [TextCleaner] Cleaning text...\n"
     ]
    },
    {
     "name": "stderr",
     "output_type": "stream",
     "text": [
      "1it [00:00, 30.94it/s]\n",
      "1it [00:00, 42.72it/s]\n",
      "1it [00:00, 31.70it/s]\n",
      "1it [00:00, 42.20it/s]\n",
      "1it [00:00, 32.27it/s]\n",
      "1it [00:00, 42.88it/s]\n",
      "1it [00:00, 28.61it/s]\n",
      "0it [00:00, ?it/s]"
     ]
    },
    {
     "name": "stdout",
     "output_type": "stream",
     "text": [
      "* [TextCleaner] Cleaning text...\n",
      "* [TextCleaner] Cleaning text...\n",
      "* [TextCleaner] Cleaning text...\n",
      "* [TextCleaner] Cleaning text...\n",
      "* [TextCleaner] Cleaning text...\n",
      "* [TextCleaner] Cleaning text...\n",
      "* [TextCleaner] Cleaning text...\n"
     ]
    },
    {
     "name": "stderr",
     "output_type": "stream",
     "text": [
      "1it [00:00, 35.97it/s]\n",
      "1it [00:00, 39.19it/s]\n",
      "1it [00:00, 35.85it/s]\n",
      "1it [00:00, 30.90it/s]\n",
      "1it [00:00, 42.67it/s]\n",
      "1it [00:00, 43.27it/s]\n",
      "1it [00:00, 29.05it/s]\n",
      "0it [00:00, ?it/s]"
     ]
    },
    {
     "name": "stdout",
     "output_type": "stream",
     "text": [
      "* [TextCleaner] Cleaning text...\n",
      "* [TextCleaner] Cleaning text...\n",
      "* [TextCleaner] Cleaning text...\n",
      "* [TextCleaner] Cleaning text...\n",
      "* [TextCleaner] Cleaning text...\n",
      "* [TextCleaner] Cleaning text...\n",
      "* [TextCleaner] Cleaning text...\n"
     ]
    },
    {
     "name": "stderr",
     "output_type": "stream",
     "text": [
      "1it [00:00, 43.22it/s]\n",
      "1it [00:00, 36.57it/s]\n",
      "1it [00:00, 30.39it/s]\n",
      "1it [00:00, 36.96it/s]\n",
      "1it [00:00, 72.31it/s]\n",
      "1it [00:00, 39.16it/s]\n",
      "1it [00:00, 39.59it/s]\n",
      "0it [00:00, ?it/s]"
     ]
    },
    {
     "name": "stdout",
     "output_type": "stream",
     "text": [
      "* [TextCleaner] Cleaning text...\n",
      "* [TextCleaner] Cleaning text...\n",
      "* [TextCleaner] Cleaning text...\n",
      "* [TextCleaner] Cleaning text...\n",
      "* [TextCleaner] Cleaning text...\n",
      "* [TextCleaner] Cleaning text...\n",
      "* [TextCleaner] Cleaning text...\n"
     ]
    },
    {
     "name": "stderr",
     "output_type": "stream",
     "text": [
      "1it [00:00, 32.37it/s]\n",
      "1it [00:00, 40.81it/s]\n",
      "1it [00:00, 35.42it/s]\n",
      "1it [00:00, 40.14it/s]\n",
      "1it [00:00, 37.93it/s]\n",
      "1it [00:00, 41.09it/s]\n",
      "1it [00:00, 34.91it/s]\n",
      "0it [00:00, ?it/s]"
     ]
    },
    {
     "name": "stdout",
     "output_type": "stream",
     "text": [
      "* [TextCleaner] Cleaning text...\n",
      "* [TextCleaner] Cleaning text...\n",
      "* [TextCleaner] Cleaning text...\n",
      "* [TextCleaner] Cleaning text...\n",
      "* [TextCleaner] Cleaning text...\n",
      "* [TextCleaner] Cleaning text...\n",
      "* [TextCleaner] Cleaning text...\n"
     ]
    },
    {
     "name": "stderr",
     "output_type": "stream",
     "text": [
      "1it [00:00, 40.26it/s]\n",
      "1it [00:00, 35.22it/s]\n",
      "1it [00:00, 34.09it/s]\n",
      "1it [00:00, 36.94it/s]\n",
      "1it [00:00, 42.85it/s]\n",
      "1it [00:00, 38.02it/s]\n",
      "1it [00:00, 31.76it/s]\n",
      "0it [00:00, ?it/s]"
     ]
    },
    {
     "name": "stdout",
     "output_type": "stream",
     "text": [
      "* [TextCleaner] Cleaning text...\n",
      "* [TextCleaner] Cleaning text...\n",
      "* [TextCleaner] Cleaning text...\n",
      "* [TextCleaner] Cleaning text...\n",
      "* [TextCleaner] Cleaning text...\n",
      "* [TextCleaner] Cleaning text...\n",
      "* [TextCleaner] Cleaning text...\n"
     ]
    },
    {
     "name": "stderr",
     "output_type": "stream",
     "text": [
      "1it [00:00, 37.93it/s]\n",
      "1it [00:00, 33.03it/s]\n",
      "1it [00:00, 40.82it/s]\n",
      "1it [00:00, 27.91it/s]\n",
      "1it [00:00, 35.55it/s]\n",
      "1it [00:00, 49.06it/s]\n",
      "1it [00:00, 34.90it/s]\n"
     ]
    },
    {
     "name": "stdout",
     "output_type": "stream",
     "text": [
      "* [TextCleaner] Cleaning text...\n",
      "* [TextCleaner] Cleaning text...\n",
      "* [TextCleaner] Cleaning text...\n",
      "* [TextCleaner] Cleaning text...\n",
      "* [TextCleaner] Cleaning text...\n",
      "* [TextCleaner] Cleaning text...\n"
     ]
    },
    {
     "name": "stderr",
     "output_type": "stream",
     "text": [
      "1it [00:00, 40.95it/s]\n",
      "1it [00:00, 35.87it/s]\n",
      "1it [00:00, 31.51it/s]\n",
      "1it [00:00, 36.14it/s]\n",
      "1it [00:00, 30.08it/s]\n",
      "1it [00:00, 30.37it/s]\n",
      "0it [00:00, ?it/s]"
     ]
    },
    {
     "name": "stdout",
     "output_type": "stream",
     "text": [
      "* [TextCleaner] Cleaning text...\n",
      "* [TextCleaner] Cleaning text...\n",
      "* [TextCleaner] Cleaning text...\n",
      "* [TextCleaner] Cleaning text...\n",
      "* [TextCleaner] Cleaning text...\n",
      "* [TextCleaner] Cleaning text...\n",
      "* [TextCleaner] Cleaning text...\n"
     ]
    },
    {
     "name": "stderr",
     "output_type": "stream",
     "text": [
      "1it [00:00, 42.72it/s]\n",
      "1it [00:00, 31.27it/s]\n",
      "1it [00:00, 77.30it/s]\n",
      "1it [00:00, 34.48it/s]\n",
      "1it [00:00, 40.97it/s]\n",
      "1it [00:00, 45.19it/s]\n",
      "1it [00:00, 36.07it/s]\n",
      "1it [00:00, 82.07it/s]\n",
      "0it [00:00, ?it/s]"
     ]
    },
    {
     "name": "stdout",
     "output_type": "stream",
     "text": [
      "* [TextCleaner] Cleaning text...\n",
      "* [TextCleaner] Cleaning text...\n",
      "* [TextCleaner] Cleaning text...\n",
      "* [TextCleaner] Cleaning text...\n",
      "* [TextCleaner] Cleaning text...\n",
      "* [TextCleaner] Cleaning text...\n",
      "* [TextCleaner] Cleaning text...\n",
      "* [TextCleaner] Cleaning text...\n"
     ]
    },
    {
     "name": "stderr",
     "output_type": "stream",
     "text": [
      "1it [00:00, 36.19it/s]\n",
      "1it [00:00, 47.06it/s]\n",
      "1it [00:00, 38.16it/s]\n",
      "1it [00:00, 35.69it/s]\n",
      "1it [00:00, 36.16it/s]\n",
      "1it [00:00, 41.92it/s]\n",
      "1it [00:00, 47.84it/s]\n",
      "0it [00:00, ?it/s]"
     ]
    },
    {
     "name": "stdout",
     "output_type": "stream",
     "text": [
      "* [TextCleaner] Cleaning text...\n",
      "* [TextCleaner] Cleaning text...\n",
      "* [TextCleaner] Cleaning text...\n",
      "* [TextCleaner] Cleaning text...\n",
      "* [TextCleaner] Cleaning text...\n",
      "* [TextCleaner] Cleaning text...\n",
      "* [TextCleaner] Cleaning text...\n"
     ]
    },
    {
     "name": "stderr",
     "output_type": "stream",
     "text": [
      "1it [00:00, 31.06it/s]\n",
      "1it [00:00, 58.81it/s]\n",
      "1it [00:00, 42.64it/s]\n",
      "1it [00:00, 52.68it/s]\n",
      "1it [00:00, 34.88it/s]\n",
      "1it [00:00, 34.37it/s]\n",
      "1it [00:00, 29.05it/s]\n",
      "0it [00:00, ?it/s]"
     ]
    },
    {
     "name": "stdout",
     "output_type": "stream",
     "text": [
      "* [TextCleaner] Cleaning text...\n",
      "* [TextCleaner] Cleaning text...\n",
      "* [TextCleaner] Cleaning text...\n",
      "* [TextCleaner] Cleaning text...\n",
      "* [TextCleaner] Cleaning text...\n",
      "* [TextCleaner] Cleaning text...\n",
      "* [TextCleaner] Cleaning text...\n"
     ]
    },
    {
     "name": "stderr",
     "output_type": "stream",
     "text": [
      "1it [00:00, 36.29it/s]\n",
      "1it [00:00, 33.94it/s]\n",
      "1it [00:00, 35.87it/s]\n",
      "1it [00:00, 36.03it/s]\n",
      "1it [00:00, 38.10it/s]\n",
      "1it [00:00, 39.76it/s]\n",
      "1it [00:00, 42.62it/s]\n",
      "0it [00:00, ?it/s]"
     ]
    },
    {
     "name": "stdout",
     "output_type": "stream",
     "text": [
      "* [TextCleaner] Cleaning text...\n",
      "* [TextCleaner] Cleaning text...\n",
      "* [TextCleaner] Cleaning text...\n",
      "* [TextCleaner] Cleaning text...\n",
      "* [TextCleaner] Cleaning text...\n",
      "* [TextCleaner] Cleaning text...\n",
      "* [TextCleaner] Cleaning text...\n"
     ]
    },
    {
     "name": "stderr",
     "output_type": "stream",
     "text": [
      "1it [00:00, 45.89it/s]\n",
      "1it [00:00, 35.57it/s]\n",
      "1it [00:00, 35.59it/s]\n",
      "1it [00:00, 36.97it/s]\n",
      "1it [00:00, 25.95it/s]\n",
      "1it [00:00, 40.10it/s]\n",
      "0it [00:00, ?it/s]"
     ]
    },
    {
     "name": "stdout",
     "output_type": "stream",
     "text": [
      "* [TextCleaner] Cleaning text...\n",
      "* [TextCleaner] Cleaning text...\n",
      "* [TextCleaner] Cleaning text...\n",
      "* [TextCleaner] Cleaning text...\n",
      "* [TextCleaner] Cleaning text...\n",
      "* [TextCleaner] Cleaning text...\n"
     ]
    },
    {
     "name": "stderr",
     "output_type": "stream",
     "text": [
      "1it [00:00, 26.71it/s]\n",
      "1it [00:00, 39.57it/s]\n",
      "1it [00:00, 54.49it/s]\n",
      "1it [00:00, 29.59it/s]\n",
      "1it [00:00, 41.27it/s]\n",
      "1it [00:00, 45.92it/s]\n",
      "1it [00:00, 25.98it/s]\n",
      "0it [00:00, ?it/s]"
     ]
    },
    {
     "name": "stdout",
     "output_type": "stream",
     "text": [
      "* [TextCleaner] Cleaning text...\n",
      "* [TextCleaner] Cleaning text...\n",
      "* [TextCleaner] Cleaning text...\n",
      "* [TextCleaner] Cleaning text...\n",
      "* [TextCleaner] Cleaning text...\n",
      "* [TextCleaner] Cleaning text...\n",
      "* [TextCleaner] Cleaning text...\n"
     ]
    },
    {
     "name": "stderr",
     "output_type": "stream",
     "text": [
      "1it [00:00, 36.37it/s]\n",
      "1it [00:00, 31.72it/s]\n",
      "1it [00:00, 53.11it/s]\n",
      "1it [00:00, 35.86it/s]\n",
      "1it [00:00, 30.77it/s]\n",
      "1it [00:00, 33.34it/s]\n",
      "1it [00:00, 41.45it/s]\n",
      "0it [00:00, ?it/s]"
     ]
    },
    {
     "name": "stdout",
     "output_type": "stream",
     "text": [
      "* [TextCleaner] Cleaning text...\n",
      "* [TextCleaner] Cleaning text...\n",
      "* [TextCleaner] Cleaning text...\n",
      "* [TextCleaner] Cleaning text...\n",
      "* [TextCleaner] Cleaning text...\n",
      "* [TextCleaner] Cleaning text...\n",
      "* [TextCleaner] Cleaning text...\n"
     ]
    },
    {
     "name": "stderr",
     "output_type": "stream",
     "text": [
      "1it [00:00, 40.66it/s]\n",
      "1it [00:00, 35.74it/s]\n",
      "1it [00:00, 30.86it/s]\n",
      "1it [00:00, 34.73it/s]\n",
      "1it [00:00, 27.31it/s]\n",
      "1it [00:00, 42.74it/s]\n",
      "0it [00:00, ?it/s]"
     ]
    },
    {
     "name": "stdout",
     "output_type": "stream",
     "text": [
      "* [TextCleaner] Cleaning text...\n",
      "* [TextCleaner] Cleaning text...\n",
      "* [TextCleaner] Cleaning text...\n",
      "* [TextCleaner] Cleaning text...\n",
      "* [TextCleaner] Cleaning text...\n",
      "* [TextCleaner] Cleaning text...\n"
     ]
    },
    {
     "name": "stderr",
     "output_type": "stream",
     "text": [
      "1it [00:00, 29.77it/s]\n",
      "1it [00:00, 27.22it/s]\n",
      "1it [00:00, 31.82it/s]\n",
      "1it [00:00, 33.91it/s]\n",
      "1it [00:00, 36.86it/s]\n",
      "1it [00:00, 34.71it/s]\n",
      "0it [00:00, ?it/s]"
     ]
    },
    {
     "name": "stdout",
     "output_type": "stream",
     "text": [
      "* [TextCleaner] Cleaning text...\n",
      "* [TextCleaner] Cleaning text...\n",
      "* [TextCleaner] Cleaning text...\n",
      "* [TextCleaner] Cleaning text...\n",
      "* [TextCleaner] Cleaning text...\n",
      "* [TextCleaner] Cleaning text...\n"
     ]
    },
    {
     "name": "stderr",
     "output_type": "stream",
     "text": [
      "1it [00:00, 44.39it/s]\n",
      "1it [00:00, 36.14it/s]\n",
      "1it [00:00, 34.98it/s]\n",
      "1it [00:00, 33.29it/s]\n",
      "1it [00:00, 39.46it/s]\n",
      "1it [00:00, 39.83it/s]\n",
      "1it [00:00, 35.26it/s]\n",
      "0it [00:00, ?it/s]"
     ]
    },
    {
     "name": "stdout",
     "output_type": "stream",
     "text": [
      "* [TextCleaner] Cleaning text...\n",
      "* [TextCleaner] Cleaning text...\n",
      "* [TextCleaner] Cleaning text...\n",
      "* [TextCleaner] Cleaning text...\n",
      "* [TextCleaner] Cleaning text...\n",
      "* [TextCleaner] Cleaning text...\n",
      "* [TextCleaner] Cleaning text...\n"
     ]
    },
    {
     "name": "stderr",
     "output_type": "stream",
     "text": [
      "1it [00:00, 42.49it/s]\n",
      "1it [00:00, 44.84it/s]\n",
      "1it [00:00, 34.72it/s]\n",
      "1it [00:00, 29.82it/s]\n",
      "1it [00:00, 40.90it/s]\n",
      "1it [00:00, 36.74it/s]\n",
      "1it [00:00, 35.08it/s]\n",
      "0it [00:00, ?it/s]"
     ]
    },
    {
     "name": "stdout",
     "output_type": "stream",
     "text": [
      "* [TextCleaner] Cleaning text...\n",
      "* [TextCleaner] Cleaning text...\n",
      "* [TextCleaner] Cleaning text...\n",
      "* [TextCleaner] Cleaning text...\n",
      "* [TextCleaner] Cleaning text...\n",
      "* [TextCleaner] Cleaning text...\n",
      "* [TextCleaner] Cleaning text...\n"
     ]
    },
    {
     "name": "stderr",
     "output_type": "stream",
     "text": [
      "1it [00:00, 31.81it/s]\n",
      "1it [00:00, 39.78it/s]\n",
      "1it [00:00, 31.72it/s]\n",
      "1it [00:00, 48.20it/s]\n",
      "1it [00:00, 39.41it/s]\n",
      "1it [00:00, 40.31it/s]\n",
      "1it [00:00, 33.91it/s]\n",
      "0it [00:00, ?it/s]"
     ]
    },
    {
     "name": "stdout",
     "output_type": "stream",
     "text": [
      "* [TextCleaner] Cleaning text...\n",
      "* [TextCleaner] Cleaning text...\n",
      "* [TextCleaner] Cleaning text...\n",
      "* [TextCleaner] Cleaning text...\n",
      "* [TextCleaner] Cleaning text...\n",
      "* [TextCleaner] Cleaning text...\n",
      "* [TextCleaner] Cleaning text...\n"
     ]
    },
    {
     "name": "stderr",
     "output_type": "stream",
     "text": [
      "1it [00:00, 37.00it/s]\n",
      "1it [00:00, 38.36it/s]\n",
      "1it [00:00, 36.20it/s]\n",
      "1it [00:00, 33.73it/s]\n",
      "1it [00:00, 41.26it/s]\n",
      "1it [00:00, 39.97it/s]\n",
      "1it [00:00, 36.99it/s]\n",
      "0it [00:00, ?it/s]"
     ]
    },
    {
     "name": "stdout",
     "output_type": "stream",
     "text": [
      "* [TextCleaner] Cleaning text...\n",
      "* [TextCleaner] Cleaning text...\n",
      "* [TextCleaner] Cleaning text...\n",
      "* [TextCleaner] Cleaning text...\n",
      "* [TextCleaner] Cleaning text...\n",
      "* [TextCleaner] Cleaning text...\n",
      "* [TextCleaner] Cleaning text...\n"
     ]
    },
    {
     "name": "stderr",
     "output_type": "stream",
     "text": [
      "1it [00:00, 29.05it/s]\n",
      "1it [00:00, 36.60it/s]\n",
      "1it [00:00, 33.39it/s]\n",
      "1it [00:00, 39.17it/s]\n",
      "1it [00:00, 40.83it/s]\n",
      "1it [00:00, 43.49it/s]\n",
      "1it [00:00, 37.15it/s]\n",
      "0it [00:00, ?it/s]"
     ]
    },
    {
     "name": "stdout",
     "output_type": "stream",
     "text": [
      "* [TextCleaner] Cleaning text...\n",
      "* [TextCleaner] Cleaning text...\n",
      "* [TextCleaner] Cleaning text...\n",
      "* [TextCleaner] Cleaning text...\n",
      "* [TextCleaner] Cleaning text...\n",
      "* [TextCleaner] Cleaning text...\n",
      "* [TextCleaner] Cleaning text...\n"
     ]
    },
    {
     "name": "stderr",
     "output_type": "stream",
     "text": [
      "1it [00:00, 39.31it/s]\n",
      "1it [00:00, 39.99it/s]\n",
      "1it [00:00, 32.72it/s]\n",
      "1it [00:00, 45.57it/s]\n",
      "1it [00:00, 41.66it/s]\n",
      "1it [00:00, 41.72it/s]\n",
      "1it [00:00, 35.17it/s]\n",
      "0it [00:00, ?it/s]"
     ]
    },
    {
     "name": "stdout",
     "output_type": "stream",
     "text": [
      "* [TextCleaner] Cleaning text...\n",
      "* [TextCleaner] Cleaning text...\n",
      "* [TextCleaner] Cleaning text...\n",
      "* [TextCleaner] Cleaning text...\n",
      "* [TextCleaner] Cleaning text...\n",
      "* [TextCleaner] Cleaning text...\n",
      "* [TextCleaner] Cleaning text...\n"
     ]
    },
    {
     "name": "stderr",
     "output_type": "stream",
     "text": [
      "1it [00:00, 34.26it/s]\n",
      "1it [00:00, 37.03it/s]\n",
      "1it [00:00, 30.82it/s]\n",
      "1it [00:00, 40.81it/s]\n",
      "1it [00:00, 33.40it/s]\n",
      "1it [00:00, 44.33it/s]\n",
      "1it [00:00, 39.90it/s]\n",
      "0it [00:00, ?it/s]"
     ]
    },
    {
     "name": "stdout",
     "output_type": "stream",
     "text": [
      "* [TextCleaner] Cleaning text...\n",
      "* [TextCleaner] Cleaning text...\n",
      "* [TextCleaner] Cleaning text...\n",
      "* [TextCleaner] Cleaning text...\n",
      "* [TextCleaner] Cleaning text...\n",
      "* [TextCleaner] Cleaning text...\n",
      "* [TextCleaner] Cleaning text...\n"
     ]
    },
    {
     "name": "stderr",
     "output_type": "stream",
     "text": [
      "1it [00:00, 33.94it/s]\n",
      "1it [00:00, 40.63it/s]\n",
      "1it [00:00, 34.70it/s]\n",
      "1it [00:00, 37.50it/s]\n",
      "1it [00:00, 29.22it/s]\n",
      "1it [00:00, 36.40it/s]\n",
      "1it [00:00, 36.43it/s]\n",
      "0it [00:00, ?it/s]"
     ]
    },
    {
     "name": "stdout",
     "output_type": "stream",
     "text": [
      "* [TextCleaner] Cleaning text...\n",
      "* [TextCleaner] Cleaning text...\n",
      "* [TextCleaner] Cleaning text...\n",
      "* [TextCleaner] Cleaning text...\n",
      "* [TextCleaner] Cleaning text...\n",
      "* [TextCleaner] Cleaning text...\n",
      "* [TextCleaner] Cleaning text...\n"
     ]
    },
    {
     "name": "stderr",
     "output_type": "stream",
     "text": [
      "1it [00:00, 31.68it/s]\n",
      "1it [00:00, 40.92it/s]\n",
      "1it [00:00, 40.86it/s]\n",
      "1it [00:00, 40.78it/s]\n",
      "1it [00:00, 33.60it/s]\n",
      "1it [00:00, 39.83it/s]\n",
      "1it [00:00, 34.08it/s]\n",
      "0it [00:00, ?it/s]"
     ]
    },
    {
     "name": "stdout",
     "output_type": "stream",
     "text": [
      "* [TextCleaner] Cleaning text...\n",
      "* [TextCleaner] Cleaning text...\n",
      "* [TextCleaner] Cleaning text...\n",
      "* [TextCleaner] Cleaning text...\n",
      "* [TextCleaner] Cleaning text...\n",
      "* [TextCleaner] Cleaning text...\n",
      "* [TextCleaner] Cleaning text...\n"
     ]
    },
    {
     "name": "stderr",
     "output_type": "stream",
     "text": [
      "1it [00:00, 32.46it/s]\n",
      "1it [00:00, 39.73it/s]\n",
      "1it [00:00, 44.53it/s]\n",
      "1it [00:00, 35.94it/s]\n",
      "1it [00:00, 39.78it/s]\n",
      "1it [00:00, 26.37it/s]\n",
      "1it [00:00, 36.73it/s]\n",
      "0it [00:00, ?it/s]"
     ]
    },
    {
     "name": "stdout",
     "output_type": "stream",
     "text": [
      "* [TextCleaner] Cleaning text...\n",
      "* [TextCleaner] Cleaning text...\n",
      "* [TextCleaner] Cleaning text...\n",
      "* [TextCleaner] Cleaning text...\n",
      "* [TextCleaner] Cleaning text...\n",
      "* [TextCleaner] Cleaning text...\n",
      "* [TextCleaner] Cleaning text...\n"
     ]
    },
    {
     "name": "stderr",
     "output_type": "stream",
     "text": [
      "1it [00:00, 29.04it/s]\n",
      "1it [00:00, 39.89it/s]\n",
      "1it [00:00, 33.07it/s]\n",
      "1it [00:00, 30.60it/s]\n",
      "1it [00:00, 34.66it/s]\n",
      "1it [00:00, 31.54it/s]\n",
      "0it [00:00, ?it/s]"
     ]
    },
    {
     "name": "stdout",
     "output_type": "stream",
     "text": [
      "* [TextCleaner] Cleaning text...\n",
      "* [TextCleaner] Cleaning text...\n",
      "* [TextCleaner] Cleaning text...\n",
      "* [TextCleaner] Cleaning text...\n",
      "* [TextCleaner] Cleaning text...\n",
      "* [TextCleaner] Cleaning text...\n"
     ]
    },
    {
     "name": "stderr",
     "output_type": "stream",
     "text": [
      "1it [00:00, 30.79it/s]\n",
      "1it [00:00, 28.49it/s]\n",
      "1it [00:00, 29.16it/s]\n",
      "1it [00:00, 36.30it/s]\n",
      "1it [00:00, 39.26it/s]\n",
      "1it [00:00, 29.75it/s]\n",
      "0it [00:00, ?it/s]"
     ]
    },
    {
     "name": "stdout",
     "output_type": "stream",
     "text": [
      "* [TextCleaner] Cleaning text...\n",
      "* [TextCleaner] Cleaning text...\n",
      "* [TextCleaner] Cleaning text...\n",
      "* [TextCleaner] Cleaning text...\n",
      "* [TextCleaner] Cleaning text...\n",
      "* [TextCleaner] Cleaning text...\n"
     ]
    },
    {
     "name": "stderr",
     "output_type": "stream",
     "text": [
      "1it [00:00, 35.59it/s]\n",
      "1it [00:00, 43.69it/s]\n",
      "1it [00:00, 30.29it/s]\n",
      "1it [00:00, 78.56it/s]\n",
      "1it [00:00, 47.34it/s]\n",
      "1it [00:00, 39.53it/s]\n",
      "1it [00:00, 27.82it/s]\n",
      "0it [00:00, ?it/s]"
     ]
    },
    {
     "name": "stdout",
     "output_type": "stream",
     "text": [
      "* [TextCleaner] Cleaning text...\n",
      "* [TextCleaner] Cleaning text...\n",
      "* [TextCleaner] Cleaning text...\n",
      "* [TextCleaner] Cleaning text...\n",
      "* [TextCleaner] Cleaning text...\n",
      "* [TextCleaner] Cleaning text...\n",
      "* [TextCleaner] Cleaning text...\n"
     ]
    },
    {
     "name": "stderr",
     "output_type": "stream",
     "text": [
      "1it [00:00, 36.59it/s]\n",
      "1it [00:00, 32.39it/s]\n",
      "1it [00:00, 31.79it/s]\n",
      "1it [00:00, 40.51it/s]\n",
      "1it [00:00, 35.74it/s]\n",
      "1it [00:00, 37.66it/s]\n",
      "1it [00:00, 30.21it/s]"
     ]
    },
    {
     "name": "stdout",
     "output_type": "stream",
     "text": [
      "* [TextCleaner] Cleaning text...\n",
      "* [TextCleaner] Cleaning text...\n",
      "* [TextCleaner] Cleaning text...\n",
      "* [TextCleaner] Cleaning text...\n",
      "* [TextCleaner] Cleaning text...\n",
      "* [TextCleaner] Cleaning text...\n"
     ]
    },
    {
     "name": "stderr",
     "output_type": "stream",
     "text": [
      "\n",
      "1it [00:00, 33.22it/s]\n",
      "1it [00:00, 33.39it/s]\n",
      "1it [00:00, 34.30it/s]\n",
      "1it [00:00, 35.70it/s]\n",
      "1it [00:00, 30.22it/s]\n",
      "1it [00:00, 38.08it/s]\n",
      "0it [00:00, ?it/s]"
     ]
    },
    {
     "name": "stdout",
     "output_type": "stream",
     "text": [
      "* [TextCleaner] Cleaning text...\n",
      "* [TextCleaner] Cleaning text...\n",
      "* [TextCleaner] Cleaning text...\n",
      "* [TextCleaner] Cleaning text...\n",
      "* [TextCleaner] Cleaning text...\n",
      "* [TextCleaner] Cleaning text...\n",
      "* [TextCleaner] Cleaning text...\n"
     ]
    },
    {
     "name": "stderr",
     "output_type": "stream",
     "text": [
      "1it [00:00, 28.82it/s]\n",
      "1it [00:00, 31.91it/s]\n",
      "1it [00:00, 33.49it/s]\n",
      "1it [00:00, 32.02it/s]\n",
      "1it [00:00, 40.11it/s]\n",
      "1it [00:00, 44.01it/s]\n",
      "1it [00:00, 36.13it/s]\n",
      "0it [00:00, ?it/s]"
     ]
    },
    {
     "name": "stdout",
     "output_type": "stream",
     "text": [
      "* [TextCleaner] Cleaning text...\n",
      "* [TextCleaner] Cleaning text...\n",
      "* [TextCleaner] Cleaning text...\n",
      "* [TextCleaner] Cleaning text...\n",
      "* [TextCleaner] Cleaning text...\n",
      "* [TextCleaner] Cleaning text...\n",
      "* [TextCleaner] Cleaning text...\n"
     ]
    },
    {
     "name": "stderr",
     "output_type": "stream",
     "text": [
      "1it [00:00, 36.60it/s]\n",
      "1it [00:00, 43.38it/s]\n",
      "1it [00:00, 61.13it/s]\n",
      "1it [00:00, 39.81it/s]\n",
      "1it [00:00, 36.97it/s]\n",
      "1it [00:00, 39.54it/s]\n",
      "1it [00:00, 36.61it/s]\n",
      "1it [00:00, 38.31it/s]"
     ]
    },
    {
     "name": "stdout",
     "output_type": "stream",
     "text": [
      "* [TextCleaner] Cleaning text...\n",
      "* [TextCleaner] Cleaning text...\n",
      "* [TextCleaner] Cleaning text...\n",
      "* [TextCleaner] Cleaning text...\n",
      "* [TextCleaner] Cleaning text...\n",
      "* [TextCleaner] Cleaning text...\n",
      "* [TextCleaner] Cleaning text...\n"
     ]
    },
    {
     "name": "stderr",
     "output_type": "stream",
     "text": [
      "\n",
      "1it [00:00, 33.93it/s]\n",
      "1it [00:00, 36.24it/s]\n",
      "1it [00:00, 45.10it/s]\n",
      "1it [00:00, 39.27it/s]\n",
      "1it [00:00, 35.07it/s]\n",
      "1it [00:00, 37.37it/s]\n",
      "0it [00:00, ?it/s]"
     ]
    },
    {
     "name": "stdout",
     "output_type": "stream",
     "text": [
      "* [TextCleaner] Cleaning text...\n",
      "* [TextCleaner] Cleaning text...\n",
      "* [TextCleaner] Cleaning text...\n",
      "* [TextCleaner] Cleaning text...\n",
      "* [TextCleaner] Cleaning text...\n",
      "* [TextCleaner] Cleaning text...\n",
      "* [TextCleaner] Cleaning text...\n"
     ]
    },
    {
     "name": "stderr",
     "output_type": "stream",
     "text": [
      "1it [00:00, 42.55it/s]\n",
      "1it [00:00, 33.36it/s]\n",
      "1it [00:00, 33.67it/s]\n",
      "1it [00:00, 34.06it/s]\n",
      "1it [00:00, 30.96it/s]\n",
      "1it [00:00, 44.49it/s]\n",
      "1it [00:00, 35.71it/s]"
     ]
    },
    {
     "name": "stdout",
     "output_type": "stream",
     "text": [
      "* [TextCleaner] Cleaning text...\n",
      "* [TextCleaner] Cleaning text...\n",
      "* [TextCleaner] Cleaning text...\n",
      "* [TextCleaner] Cleaning text...\n",
      "* [TextCleaner] Cleaning text...\n",
      "* [TextCleaner] Cleaning text...\n"
     ]
    },
    {
     "name": "stderr",
     "output_type": "stream",
     "text": [
      "\n",
      "1it [00:00, 44.00it/s]\n",
      "1it [00:00, 34.42it/s]\n",
      "1it [00:00, 35.01it/s]\n",
      "1it [00:00, 42.17it/s]\n",
      "1it [00:00, 101.67it/s]\n",
      "1it [00:00, 37.14it/s]\n",
      "1it [00:00, 39.08it/s]\n",
      "0it [00:00, ?it/s]"
     ]
    },
    {
     "name": "stdout",
     "output_type": "stream",
     "text": [
      "* [TextCleaner] Cleaning text...\n",
      "* [TextCleaner] Cleaning text...\n",
      "* [TextCleaner] Cleaning text...\n",
      "* [TextCleaner] Cleaning text...\n",
      "* [TextCleaner] Cleaning text...\n",
      "* [TextCleaner] Cleaning text...\n",
      "* [TextCleaner] Cleaning text...\n",
      "* [TextCleaner] Cleaning text...\n"
     ]
    },
    {
     "name": "stderr",
     "output_type": "stream",
     "text": [
      "1it [00:00, 30.39it/s]\n",
      "1it [00:00, 36.90it/s]\n",
      "1it [00:00, 30.91it/s]\n",
      "1it [00:00, 36.64it/s]\n",
      "1it [00:00, 41.24it/s]\n",
      "1it [00:00, 34.08it/s]\n",
      "1it [00:00, 37.31it/s]\n",
      "0it [00:00, ?it/s]"
     ]
    },
    {
     "name": "stdout",
     "output_type": "stream",
     "text": [
      "* [TextCleaner] Cleaning text...\n",
      "* [TextCleaner] Cleaning text...\n",
      "* [TextCleaner] Cleaning text...\n",
      "* [TextCleaner] Cleaning text...\n",
      "* [TextCleaner] Cleaning text...\n",
      "* [TextCleaner] Cleaning text...\n",
      "* [TextCleaner] Cleaning text...\n"
     ]
    },
    {
     "name": "stderr",
     "output_type": "stream",
     "text": [
      "1it [00:00, 43.18it/s]\n",
      "1it [00:00, 34.82it/s]\n",
      "1it [00:00, 42.86it/s]\n",
      "1it [00:00, 34.36it/s]\n",
      "1it [00:00, 36.82it/s]\n",
      "1it [00:00, 30.75it/s]\n",
      "1it [00:00, 41.03it/s]\n"
     ]
    },
    {
     "name": "stdout",
     "output_type": "stream",
     "text": [
      "* [TextCleaner] Cleaning text...\n",
      "* [TextCleaner] Cleaning text...\n",
      "* [TextCleaner] Cleaning text...\n",
      "* [TextCleaner] Cleaning text...\n",
      "* [TextCleaner] Cleaning text...\n",
      "* [TextCleaner] Cleaning text...\n",
      "* [TextCleaner] Cleaning text...\n"
     ]
    },
    {
     "name": "stderr",
     "output_type": "stream",
     "text": [
      "1it [00:00, 42.52it/s]\n",
      "1it [00:00, 32.35it/s]\n",
      "1it [00:00, 36.92it/s]\n",
      "1it [00:00, 28.18it/s]\n",
      "1it [00:00, 29.00it/s]\n",
      "1it [00:00, 38.29it/s]\n",
      "0it [00:00, ?it/s]"
     ]
    },
    {
     "name": "stdout",
     "output_type": "stream",
     "text": [
      "* [TextCleaner] Cleaning text...\n",
      "* [TextCleaner] Cleaning text...\n",
      "* [TextCleaner] Cleaning text...\n",
      "* [TextCleaner] Cleaning text...\n",
      "* [TextCleaner] Cleaning text...\n",
      "* [TextCleaner] Cleaning text...\n"
     ]
    },
    {
     "name": "stderr",
     "output_type": "stream",
     "text": [
      "1it [00:00, 37.42it/s]\n",
      "1it [00:00, 38.80it/s]\n",
      "1it [00:00, 30.07it/s]\n",
      "1it [00:00, 33.32it/s]\n",
      "1it [00:00, 35.04it/s]\n",
      "1it [00:00, 42.50it/s]\n",
      "1it [00:00, 36.41it/s]\n",
      "0it [00:00, ?it/s]"
     ]
    },
    {
     "name": "stdout",
     "output_type": "stream",
     "text": [
      "* [TextCleaner] Cleaning text...\n",
      "* [TextCleaner] Cleaning text...\n",
      "* [TextCleaner] Cleaning text...\n",
      "* [TextCleaner] Cleaning text...\n",
      "* [TextCleaner] Cleaning text...\n",
      "* [TextCleaner] Cleaning text...\n",
      "* [TextCleaner] Cleaning text...\n"
     ]
    },
    {
     "name": "stderr",
     "output_type": "stream",
     "text": [
      "1it [00:00, 41.57it/s]\n",
      "1it [00:00, 32.76it/s]\n",
      "1it [00:00, 36.59it/s]\n",
      "1it [00:00, 38.90it/s]\n",
      "1it [00:00, 53.86it/s]\n",
      "1it [00:00, 40.03it/s]\n",
      "1it [00:00, 33.85it/s]\n",
      "0it [00:00, ?it/s]"
     ]
    },
    {
     "name": "stdout",
     "output_type": "stream",
     "text": [
      "* [TextCleaner] Cleaning text...\n",
      "* [TextCleaner] Cleaning text...\n",
      "* [TextCleaner] Cleaning text...\n",
      "* [TextCleaner] Cleaning text...\n",
      "* [TextCleaner] Cleaning text...\n",
      "* [TextCleaner] Cleaning text...\n",
      "* [TextCleaner] Cleaning text...\n"
     ]
    },
    {
     "name": "stderr",
     "output_type": "stream",
     "text": [
      "1it [00:00, 33.81it/s]\n",
      "1it [00:00, 38.67it/s]\n",
      "1it [00:00, 34.19it/s]\n",
      "1it [00:00, 34.71it/s]\n",
      "1it [00:00, 49.85it/s]\n",
      "1it [00:00, 37.74it/s]\n",
      "1it [00:00, 32.63it/s]\n",
      "0it [00:00, ?it/s]"
     ]
    },
    {
     "name": "stdout",
     "output_type": "stream",
     "text": [
      "* [TextCleaner] Cleaning text...\n",
      "* [TextCleaner] Cleaning text...\n",
      "* [TextCleaner] Cleaning text...\n",
      "* [TextCleaner] Cleaning text...\n",
      "* [TextCleaner] Cleaning text...\n",
      "* [TextCleaner] Cleaning text...\n",
      "* [TextCleaner] Cleaning text...\n"
     ]
    },
    {
     "name": "stderr",
     "output_type": "stream",
     "text": [
      "1it [00:00, 33.27it/s]\n",
      "1it [00:00, 35.72it/s]\n",
      "1it [00:00, 29.43it/s]\n",
      "1it [00:00, 43.65it/s]\n",
      "1it [00:00, 34.70it/s]\n",
      "1it [00:00, 39.97it/s]\n",
      "1it [00:00, 42.89it/s]\n",
      "0it [00:00, ?it/s]"
     ]
    },
    {
     "name": "stdout",
     "output_type": "stream",
     "text": [
      "* [TextCleaner] Cleaning text...\n",
      "* [TextCleaner] Cleaning text...\n",
      "* [TextCleaner] Cleaning text...\n",
      "* [TextCleaner] Cleaning text...\n",
      "* [TextCleaner] Cleaning text...\n",
      "* [TextCleaner] Cleaning text...\n",
      "* [TextCleaner] Cleaning text...\n"
     ]
    },
    {
     "name": "stderr",
     "output_type": "stream",
     "text": [
      "1it [00:00, 34.15it/s]\n",
      "1it [00:00, 35.23it/s]\n",
      "1it [00:00, 40.06it/s]\n",
      "1it [00:00, 40.54it/s]\n",
      "1it [00:00, 43.02it/s]\n",
      "1it [00:00, 32.93it/s]\n",
      "1it [00:00, 33.99it/s]\n",
      "0it [00:00, ?it/s]"
     ]
    },
    {
     "name": "stdout",
     "output_type": "stream",
     "text": [
      "* [TextCleaner] Cleaning text...\n",
      "* [TextCleaner] Cleaning text...\n",
      "* [TextCleaner] Cleaning text...\n",
      "* [TextCleaner] Cleaning text...\n",
      "* [TextCleaner] Cleaning text...\n",
      "* [TextCleaner] Cleaning text...\n",
      "* [TextCleaner] Cleaning text...\n"
     ]
    },
    {
     "name": "stderr",
     "output_type": "stream",
     "text": [
      "1it [00:00, 37.88it/s]\n",
      "1it [00:00, 37.72it/s]\n",
      "1it [00:00, 35.95it/s]\n",
      "1it [00:00, 35.53it/s]\n",
      "1it [00:00, 30.88it/s]\n",
      "1it [00:00, 36.29it/s]\n",
      "1it [00:00, 41.75it/s]\n",
      "0it [00:00, ?it/s]"
     ]
    },
    {
     "name": "stdout",
     "output_type": "stream",
     "text": [
      "* [TextCleaner] Cleaning text...\n",
      "* [TextCleaner] Cleaning text...\n",
      "* [TextCleaner] Cleaning text...\n",
      "* [TextCleaner] Cleaning text...\n",
      "* [TextCleaner] Cleaning text...\n",
      "* [TextCleaner] Cleaning text...\n",
      "* [TextCleaner] Cleaning text...\n"
     ]
    },
    {
     "name": "stderr",
     "output_type": "stream",
     "text": [
      "1it [00:00, 33.23it/s]\n",
      "1it [00:00, 37.27it/s]\n",
      "1it [00:00, 38.55it/s]\n",
      "1it [00:00, 42.54it/s]\n",
      "1it [00:00, 34.44it/s]\n",
      "1it [00:00, 33.07it/s]\n",
      "1it [00:00, 38.31it/s]\n",
      "0it [00:00, ?it/s]"
     ]
    },
    {
     "name": "stdout",
     "output_type": "stream",
     "text": [
      "* [TextCleaner] Cleaning text...\n",
      "* [TextCleaner] Cleaning text...\n",
      "* [TextCleaner] Cleaning text...\n",
      "* [TextCleaner] Cleaning text...\n",
      "* [TextCleaner] Cleaning text...\n",
      "* [TextCleaner] Cleaning text...\n",
      "* [TextCleaner] Cleaning text...\n"
     ]
    },
    {
     "name": "stderr",
     "output_type": "stream",
     "text": [
      "1it [00:00, 44.25it/s]\n",
      "1it [00:00, 41.29it/s]\n",
      "1it [00:00, 32.29it/s]\n",
      "1it [00:00, 37.51it/s]\n",
      "1it [00:00, 38.65it/s]\n",
      "1it [00:00, 31.57it/s]\n",
      "1it [00:00, 38.10it/s]\n",
      "0it [00:00, ?it/s]"
     ]
    },
    {
     "name": "stdout",
     "output_type": "stream",
     "text": [
      "* [TextCleaner] Cleaning text...\n",
      "* [TextCleaner] Cleaning text...\n",
      "* [TextCleaner] Cleaning text...\n",
      "* [TextCleaner] Cleaning text...\n",
      "* [TextCleaner] Cleaning text...\n",
      "* [TextCleaner] Cleaning text...\n",
      "* [TextCleaner] Cleaning text...\n"
     ]
    },
    {
     "name": "stderr",
     "output_type": "stream",
     "text": [
      "1it [00:00, 32.57it/s]\n",
      "1it [00:00, 34.03it/s]\n",
      "1it [00:00, 51.98it/s]\n",
      "1it [00:00, 40.03it/s]\n",
      "1it [00:00, 35.24it/s]\n",
      "1it [00:00, 39.12it/s]\n",
      "1it [00:00, 37.02it/s]\n",
      "0it [00:00, ?it/s]"
     ]
    },
    {
     "name": "stdout",
     "output_type": "stream",
     "text": [
      "* [TextCleaner] Cleaning text...\n",
      "* [TextCleaner] Cleaning text...\n",
      "* [TextCleaner] Cleaning text...\n",
      "* [TextCleaner] Cleaning text...\n",
      "* [TextCleaner] Cleaning text...\n",
      "* [TextCleaner] Cleaning text...\n",
      "* [TextCleaner] Cleaning text...\n"
     ]
    },
    {
     "name": "stderr",
     "output_type": "stream",
     "text": [
      "1it [00:00, 40.88it/s]\n",
      "1it [00:00, 32.10it/s]\n",
      "1it [00:00, 37.79it/s]\n",
      "1it [00:00, 40.54it/s]\n",
      "1it [00:00, 39.70it/s]\n",
      "1it [00:00, 37.89it/s]\n",
      "1it [00:00, 29.99it/s]\n",
      "0it [00:00, ?it/s]"
     ]
    },
    {
     "name": "stdout",
     "output_type": "stream",
     "text": [
      "* [TextCleaner] Cleaning text...\n",
      "* [TextCleaner] Cleaning text...\n",
      "* [TextCleaner] Cleaning text...\n",
      "* [TextCleaner] Cleaning text...\n",
      "* [TextCleaner] Cleaning text...\n",
      "* [TextCleaner] Cleaning text...\n",
      "* [TextCleaner] Cleaning text...\n"
     ]
    },
    {
     "name": "stderr",
     "output_type": "stream",
     "text": [
      "1it [00:00, 34.08it/s]\n",
      "1it [00:00, 46.68it/s]\n",
      "1it [00:00, 37.45it/s]\n",
      "1it [00:00, 37.85it/s]\n",
      "1it [00:00, 44.04it/s]\n",
      "1it [00:00, 36.16it/s]\n",
      "1it [00:00, 43.19it/s]\n",
      "0it [00:00, ?it/s]"
     ]
    },
    {
     "name": "stdout",
     "output_type": "stream",
     "text": [
      "* [TextCleaner] Cleaning text...\n",
      "* [TextCleaner] Cleaning text...\n",
      "* [TextCleaner] Cleaning text...\n",
      "* [TextCleaner] Cleaning text...\n",
      "* [TextCleaner] Cleaning text...\n",
      "* [TextCleaner] Cleaning text...\n",
      "* [TextCleaner] Cleaning text...\n"
     ]
    },
    {
     "name": "stderr",
     "output_type": "stream",
     "text": [
      "1it [00:00, 43.21it/s]\n",
      "1it [00:00, 55.62it/s]\n",
      "1it [00:00, 31.61it/s]\n",
      "1it [00:00, 47.35it/s]\n",
      "1it [00:00, 46.64it/s]\n",
      "1it [00:00, 39.39it/s]\n",
      "1it [00:00, 36.08it/s]\n",
      "0it [00:00, ?it/s]"
     ]
    },
    {
     "name": "stdout",
     "output_type": "stream",
     "text": [
      "* [TextCleaner] Cleaning text...\n",
      "* [TextCleaner] Cleaning text...\n",
      "* [TextCleaner] Cleaning text...\n",
      "* [TextCleaner] Cleaning text...\n",
      "* [TextCleaner] Cleaning text...\n",
      "* [TextCleaner] Cleaning text...\n",
      "* [TextCleaner] Cleaning text...\n"
     ]
    },
    {
     "name": "stderr",
     "output_type": "stream",
     "text": [
      "1it [00:00, 38.53it/s]\n",
      "1it [00:00, 37.09it/s]\n",
      "1it [00:00, 37.69it/s]\n",
      "1it [00:00, 37.19it/s]\n",
      "1it [00:00, 41.84it/s]\n",
      "1it [00:00, 40.91it/s]\n",
      "1it [00:00, 48.18it/s]\n",
      "0it [00:00, ?it/s]"
     ]
    },
    {
     "name": "stdout",
     "output_type": "stream",
     "text": [
      "* [TextCleaner] Cleaning text...\n",
      "* [TextCleaner] Cleaning text...\n",
      "* [TextCleaner] Cleaning text...\n",
      "* [TextCleaner] Cleaning text...\n",
      "* [TextCleaner] Cleaning text...\n",
      "* [TextCleaner] Cleaning text...\n",
      "* [TextCleaner] Cleaning text...\n"
     ]
    },
    {
     "name": "stderr",
     "output_type": "stream",
     "text": [
      "1it [00:00, 39.50it/s]\n",
      "1it [00:00, 34.75it/s]\n",
      "1it [00:00, 35.25it/s]\n",
      "1it [00:00, 35.01it/s]\n",
      "1it [00:00, 40.02it/s]\n",
      "1it [00:00, 31.65it/s]\n",
      "1it [00:00, 43.43it/s]\n",
      "0it [00:00, ?it/s]"
     ]
    },
    {
     "name": "stdout",
     "output_type": "stream",
     "text": [
      "* [TextCleaner] Cleaning text...\n",
      "* [TextCleaner] Cleaning text...\n",
      "* [TextCleaner] Cleaning text...\n",
      "* [TextCleaner] Cleaning text...\n",
      "* [TextCleaner] Cleaning text...\n",
      "* [TextCleaner] Cleaning text...\n",
      "* [TextCleaner] Cleaning text...\n"
     ]
    },
    {
     "name": "stderr",
     "output_type": "stream",
     "text": [
      "1it [00:00, 99.37it/s]\n",
      "1it [00:00, 36.11it/s]\n",
      "1it [00:00, 40.95it/s]\n",
      "1it [00:00, 36.58it/s]\n",
      "1it [00:00, 39.07it/s]\n",
      "1it [00:00, 35.34it/s]\n",
      "1it [00:00, 30.68it/s]\n",
      "0it [00:00, ?it/s]"
     ]
    },
    {
     "name": "stdout",
     "output_type": "stream",
     "text": [
      "* [TextCleaner] Cleaning text...\n",
      "* [TextCleaner] Cleaning text...\n",
      "* [TextCleaner] Cleaning text...\n",
      "* [TextCleaner] Cleaning text...\n",
      "* [TextCleaner] Cleaning text...\n",
      "* [TextCleaner] Cleaning text...\n",
      "* [TextCleaner] Cleaning text...\n"
     ]
    },
    {
     "name": "stderr",
     "output_type": "stream",
     "text": [
      "1it [00:00, 26.36it/s]\n",
      "1it [00:00, 35.42it/s]\n",
      "1it [00:00, 44.35it/s]\n",
      "1it [00:00, 42.11it/s]\n",
      "1it [00:00, 29.12it/s]\n",
      "1it [00:00, 32.44it/s]\n",
      "1it [00:00, 45.45it/s]\n",
      "0it [00:00, ?it/s]"
     ]
    },
    {
     "name": "stdout",
     "output_type": "stream",
     "text": [
      "* [TextCleaner] Cleaning text...\n",
      "* [TextCleaner] Cleaning text...\n",
      "* [TextCleaner] Cleaning text...\n",
      "* [TextCleaner] Cleaning text...\n",
      "* [TextCleaner] Cleaning text...\n",
      "* [TextCleaner] Cleaning text...\n",
      "* [TextCleaner] Cleaning text...\n"
     ]
    },
    {
     "name": "stderr",
     "output_type": "stream",
     "text": [
      "1it [00:00, 35.27it/s]\n",
      "1it [00:00, 57.71it/s]\n",
      "1it [00:00, 39.51it/s]\n",
      "1it [00:00, 32.95it/s]\n",
      "1it [00:00, 39.06it/s]\n",
      "1it [00:00, 36.40it/s]\n",
      "1it [00:00, 41.22it/s]\n",
      "0it [00:00, ?it/s]"
     ]
    },
    {
     "name": "stdout",
     "output_type": "stream",
     "text": [
      "* [TextCleaner] Cleaning text...\n",
      "* [TextCleaner] Cleaning text...\n",
      "* [TextCleaner] Cleaning text...\n",
      "* [TextCleaner] Cleaning text...\n",
      "* [TextCleaner] Cleaning text...\n",
      "* [TextCleaner] Cleaning text...\n",
      "* [TextCleaner] Cleaning text...\n"
     ]
    },
    {
     "name": "stderr",
     "output_type": "stream",
     "text": [
      "1it [00:00, 37.74it/s]\n",
      "1it [00:00, 46.36it/s]\n",
      "1it [00:00, 29.39it/s]\n",
      "1it [00:00, 41.45it/s]\n",
      "1it [00:00, 35.67it/s]\n",
      "1it [00:00, 31.12it/s]\n",
      "1it [00:00, 42.89it/s]\n",
      "0it [00:00, ?it/s]"
     ]
    },
    {
     "name": "stdout",
     "output_type": "stream",
     "text": [
      "* [TextCleaner] Cleaning text...\n",
      "* [TextCleaner] Cleaning text...\n",
      "* [TextCleaner] Cleaning text...\n",
      "* [TextCleaner] Cleaning text...\n",
      "* [TextCleaner] Cleaning text...\n",
      "* [TextCleaner] Cleaning text...\n",
      "* [TextCleaner] Cleaning text...\n"
     ]
    },
    {
     "name": "stderr",
     "output_type": "stream",
     "text": [
      "1it [00:00, 41.95it/s]\n",
      "1it [00:00, 41.68it/s]\n",
      "1it [00:00, 39.01it/s]\n",
      "1it [00:00, 31.86it/s]\n",
      "1it [00:00, 33.50it/s]\n",
      "1it [00:00, 45.10it/s]\n",
      "1it [00:00, 40.95it/s]\n",
      "0it [00:00, ?it/s]"
     ]
    },
    {
     "name": "stdout",
     "output_type": "stream",
     "text": [
      "* [TextCleaner] Cleaning text...\n",
      "* [TextCleaner] Cleaning text...\n",
      "* [TextCleaner] Cleaning text...\n",
      "* [TextCleaner] Cleaning text...\n",
      "* [TextCleaner] Cleaning text...\n",
      "* [TextCleaner] Cleaning text...\n",
      "* [TextCleaner] Cleaning text...\n"
     ]
    },
    {
     "name": "stderr",
     "output_type": "stream",
     "text": [
      "1it [00:00, 45.76it/s]\n",
      "1it [00:00, 50.09it/s]\n",
      "1it [00:00, 51.14it/s]\n",
      "1it [00:00, 50.70it/s]\n",
      "1it [00:00, 39.54it/s]\n",
      "1it [00:00, 37.80it/s]\n",
      "1it [00:00, 36.51it/s]\n",
      "1it [00:00, 33.77it/s]"
     ]
    },
    {
     "name": "stdout",
     "output_type": "stream",
     "text": [
      "* [TextCleaner] Cleaning text...\n",
      "* [TextCleaner] Cleaning text...\n",
      "* [TextCleaner] Cleaning text...\n",
      "* [TextCleaner] Cleaning text...\n",
      "* [TextCleaner] Cleaning text...\n",
      "* [TextCleaner] Cleaning text...\n",
      "* [TextCleaner] Cleaning text...\n"
     ]
    },
    {
     "name": "stderr",
     "output_type": "stream",
     "text": [
      "\n",
      "1it [00:00, 33.83it/s]\n",
      "1it [00:00, 38.57it/s]\n",
      "1it [00:00, 39.72it/s]\n",
      "1it [00:00, 35.82it/s]\n",
      "1it [00:00, 38.67it/s]\n",
      "1it [00:00, 43.43it/s]\n",
      "0it [00:00, ?it/s]"
     ]
    },
    {
     "name": "stdout",
     "output_type": "stream",
     "text": [
      "* [TextCleaner] Cleaning text...\n",
      "* [TextCleaner] Cleaning text...\n",
      "* [TextCleaner] Cleaning text...\n",
      "* [TextCleaner] Cleaning text...\n",
      "* [TextCleaner] Cleaning text...\n",
      "* [TextCleaner] Cleaning text...\n",
      "* [TextCleaner] Cleaning text...\n"
     ]
    },
    {
     "name": "stderr",
     "output_type": "stream",
     "text": [
      "1it [00:00, 35.57it/s]\n",
      "1it [00:00, 40.27it/s]\n",
      "1it [00:00, 39.52it/s]\n",
      "1it [00:00, 35.82it/s]\n",
      "1it [00:00, 39.04it/s]\n",
      "1it [00:00, 27.92it/s]\n",
      "1it [00:00, 32.37it/s]\n"
     ]
    },
    {
     "name": "stdout",
     "output_type": "stream",
     "text": [
      "* [TextCleaner] Cleaning text...\n",
      "* [TextCleaner] Cleaning text...\n",
      "* [TextCleaner] Cleaning text...\n",
      "* [TextCleaner] Cleaning text...\n",
      "* [TextCleaner] Cleaning text...\n",
      "* [TextCleaner] Cleaning text...\n"
     ]
    },
    {
     "name": "stderr",
     "output_type": "stream",
     "text": [
      "1it [00:00, 36.77it/s]\n",
      "1it [00:00, 40.46it/s]\n",
      "1it [00:00, 35.04it/s]\n",
      "1it [00:00, 40.33it/s]\n",
      "1it [00:00, 32.00it/s]\n",
      "1it [00:00, 37.56it/s]\n",
      "1it [00:00, 41.41it/s]\n",
      "0it [00:00, ?it/s]"
     ]
    },
    {
     "name": "stdout",
     "output_type": "stream",
     "text": [
      "* [TextCleaner] Cleaning text...\n",
      "* [TextCleaner] Cleaning text...\n",
      "* [TextCleaner] Cleaning text...\n",
      "* [TextCleaner] Cleaning text...\n",
      "* [TextCleaner] Cleaning text...\n",
      "* [TextCleaner] Cleaning text...\n",
      "* [TextCleaner] Cleaning text...\n",
      "* [TextCleaner] Cleaning text...\n"
     ]
    },
    {
     "name": "stderr",
     "output_type": "stream",
     "text": [
      "1it [00:00, 45.90it/s]\n",
      "1it [00:00, 38.32it/s]\n",
      "1it [00:00, 29.76it/s]\n",
      "1it [00:00, 44.32it/s]\n",
      "1it [00:00, 41.79it/s]\n",
      "1it [00:00, 47.49it/s]\n",
      "1it [00:00, 36.14it/s]\n",
      "0it [00:00, ?it/s]"
     ]
    },
    {
     "name": "stdout",
     "output_type": "stream",
     "text": [
      "* [TextCleaner] Cleaning text...\n",
      "* [TextCleaner] Cleaning text...\n",
      "* [TextCleaner] Cleaning text...\n",
      "* [TextCleaner] Cleaning text...\n",
      "* [TextCleaner] Cleaning text...\n",
      "* [TextCleaner] Cleaning text...\n",
      "* [TextCleaner] Cleaning text...\n"
     ]
    },
    {
     "name": "stderr",
     "output_type": "stream",
     "text": [
      "1it [00:00, 53.58it/s]\n",
      "1it [00:00, 31.34it/s]\n",
      "1it [00:00, 39.94it/s]\n",
      "1it [00:00, 37.78it/s]\n",
      "1it [00:00, 34.83it/s]\n",
      "1it [00:00, 58.74it/s]\n",
      "1it [00:00, 46.37it/s]\n",
      "0it [00:00, ?it/s]"
     ]
    },
    {
     "name": "stdout",
     "output_type": "stream",
     "text": [
      "* [TextCleaner] Cleaning text...\n",
      "* [TextCleaner] Cleaning text...\n",
      "* [TextCleaner] Cleaning text...\n",
      "* [TextCleaner] Cleaning text...\n",
      "* [TextCleaner] Cleaning text...\n",
      "* [TextCleaner] Cleaning text...\n",
      "* [TextCleaner] Cleaning text...\n"
     ]
    },
    {
     "name": "stderr",
     "output_type": "stream",
     "text": [
      "1it [00:00, 44.42it/s]\n",
      "1it [00:00, 33.46it/s]\n",
      "1it [00:00, 40.71it/s]\n",
      "1it [00:00, 42.43it/s]\n",
      "1it [00:00, 50.10it/s]\n",
      "1it [00:00, 41.78it/s]\n",
      "1it [00:00, 26.23it/s]\n",
      "0it [00:00, ?it/s]"
     ]
    },
    {
     "name": "stdout",
     "output_type": "stream",
     "text": [
      "* [TextCleaner] Cleaning text...\n",
      "* [TextCleaner] Cleaning text...\n",
      "* [TextCleaner] Cleaning text...\n",
      "* [TextCleaner] Cleaning text...\n",
      "* [TextCleaner] Cleaning text...\n",
      "* [TextCleaner] Cleaning text...\n",
      "* [TextCleaner] Cleaning text...\n"
     ]
    },
    {
     "name": "stderr",
     "output_type": "stream",
     "text": [
      "1it [00:00, 35.91it/s]\n",
      "1it [00:00, 36.44it/s]\n",
      "1it [00:00, 38.86it/s]\n",
      "1it [00:00, 34.53it/s]\n",
      "1it [00:00, 39.39it/s]\n",
      "1it [00:00, 36.24it/s]\n",
      "1it [00:00, 42.28it/s]\n",
      "0it [00:00, ?it/s]"
     ]
    },
    {
     "name": "stdout",
     "output_type": "stream",
     "text": [
      "* [TextCleaner] Cleaning text...\n",
      "* [TextCleaner] Cleaning text...\n",
      "* [TextCleaner] Cleaning text...\n",
      "* [TextCleaner] Cleaning text...\n",
      "* [TextCleaner] Cleaning text...\n",
      "* [TextCleaner] Cleaning text...\n",
      "* [TextCleaner] Cleaning text...\n"
     ]
    },
    {
     "name": "stderr",
     "output_type": "stream",
     "text": [
      "1it [00:00, 37.86it/s]\n",
      "1it [00:00, 49.19it/s]\n",
      "1it [00:00, 37.74it/s]\n",
      "1it [00:00, 36.88it/s]\n",
      "1it [00:00, 40.04it/s]\n",
      "1it [00:00, 36.15it/s]\n",
      "1it [00:00, 60.07it/s]\n",
      "1it [00:00, 44.09it/s]"
     ]
    },
    {
     "name": "stdout",
     "output_type": "stream",
     "text": [
      "* [TextCleaner] Cleaning text...\n",
      "* [TextCleaner] Cleaning text...\n",
      "* [TextCleaner] Cleaning text...\n",
      "* [TextCleaner] Cleaning text...\n",
      "* [TextCleaner] Cleaning text...\n",
      "* [TextCleaner] Cleaning text...\n",
      "* [TextCleaner] Cleaning text...\n"
     ]
    },
    {
     "name": "stderr",
     "output_type": "stream",
     "text": [
      "\n",
      "1it [00:00, 34.33it/s]\n",
      "1it [00:00, 27.38it/s]\n",
      "1it [00:00, 38.35it/s]\n",
      "1it [00:00, 39.97it/s]\n",
      "1it [00:00, 34.44it/s]\n",
      "1it [00:00, 42.40it/s]\n",
      "0it [00:00, ?it/s]"
     ]
    },
    {
     "name": "stdout",
     "output_type": "stream",
     "text": [
      "* [TextCleaner] Cleaning text...\n",
      "* [TextCleaner] Cleaning text...\n",
      "* [TextCleaner] Cleaning text...\n",
      "* [TextCleaner] Cleaning text...\n",
      "* [TextCleaner] Cleaning text...\n",
      "* [TextCleaner] Cleaning text...\n",
      "* [TextCleaner] Cleaning text...\n"
     ]
    },
    {
     "name": "stderr",
     "output_type": "stream",
     "text": [
      "1it [00:00, 34.49it/s]\n",
      "1it [00:00, 29.59it/s]\n",
      "1it [00:00, 38.95it/s]\n",
      "1it [00:00, 31.20it/s]\n",
      "1it [00:00, 41.36it/s]\n",
      "1it [00:00, 43.53it/s]\n",
      "0it [00:00, ?it/s]"
     ]
    },
    {
     "name": "stdout",
     "output_type": "stream",
     "text": [
      "* [TextCleaner] Cleaning text...\n",
      "* [TextCleaner] Cleaning text...\n",
      "* [TextCleaner] Cleaning text...\n",
      "* [TextCleaner] Cleaning text...\n",
      "* [TextCleaner] Cleaning text...\n",
      "* [TextCleaner] Cleaning text...\n"
     ]
    },
    {
     "name": "stderr",
     "output_type": "stream",
     "text": [
      "1it [00:00, 28.27it/s]\n",
      "1it [00:00, 40.21it/s]\n",
      "1it [00:00, 45.34it/s]\n",
      "1it [00:00, 28.96it/s]\n",
      "1it [00:00, 43.24it/s]\n",
      "1it [00:00, 55.76it/s]\n",
      "1it [00:00, 42.68it/s]\n",
      "0it [00:00, ?it/s]"
     ]
    },
    {
     "name": "stdout",
     "output_type": "stream",
     "text": [
      "* [TextCleaner] Cleaning text...\n",
      "* [TextCleaner] Cleaning text...\n",
      "* [TextCleaner] Cleaning text...\n",
      "* [TextCleaner] Cleaning text...\n",
      "* [TextCleaner] Cleaning text...\n",
      "* [TextCleaner] Cleaning text...\n",
      "* [TextCleaner] Cleaning text...\n"
     ]
    },
    {
     "name": "stderr",
     "output_type": "stream",
     "text": [
      "1it [00:00, 33.94it/s]\n",
      "1it [00:00, 45.91it/s]\n",
      "1it [00:00, 56.26it/s]\n",
      "1it [00:00, 36.60it/s]\n",
      "1it [00:00, 40.42it/s]\n",
      "1it [00:00, 42.43it/s]\n",
      "1it [00:00, 39.53it/s]\n",
      "0it [00:00, ?it/s]"
     ]
    },
    {
     "name": "stdout",
     "output_type": "stream",
     "text": [
      "* [TextCleaner] Cleaning text...\n",
      "* [TextCleaner] Cleaning text...\n",
      "* [TextCleaner] Cleaning text...\n",
      "* [TextCleaner] Cleaning text...\n",
      "* [TextCleaner] Cleaning text...\n",
      "* [TextCleaner] Cleaning text...\n",
      "* [TextCleaner] Cleaning text...\n"
     ]
    },
    {
     "name": "stderr",
     "output_type": "stream",
     "text": [
      "1it [00:00, 36.68it/s]\n",
      "1it [00:00, 38.14it/s]\n",
      "1it [00:00, 45.24it/s]\n",
      "1it [00:00, 31.78it/s]\n",
      "1it [00:00, 41.36it/s]\n",
      "1it [00:00, 49.01it/s]\n",
      "1it [00:00, 39.05it/s]\n",
      "0it [00:00, ?it/s]"
     ]
    },
    {
     "name": "stdout",
     "output_type": "stream",
     "text": [
      "* [TextCleaner] Cleaning text...\n",
      "* [TextCleaner] Cleaning text...\n",
      "* [TextCleaner] Cleaning text...\n",
      "* [TextCleaner] Cleaning text...\n",
      "* [TextCleaner] Cleaning text...\n",
      "* [TextCleaner] Cleaning text...\n",
      "* [TextCleaner] Cleaning text...\n"
     ]
    },
    {
     "name": "stderr",
     "output_type": "stream",
     "text": [
      "1it [00:00, 43.00it/s]\n",
      "1it [00:00, 47.56it/s]\n",
      "1it [00:00, 34.84it/s]\n",
      "1it [00:00, 38.82it/s]\n",
      "1it [00:00, 32.57it/s]\n",
      "1it [00:00, 40.96it/s]\n",
      "1it [00:00, 43.34it/s]\n",
      "0it [00:00, ?it/s]"
     ]
    },
    {
     "name": "stdout",
     "output_type": "stream",
     "text": [
      "* [TextCleaner] Cleaning text...\n",
      "* [TextCleaner] Cleaning text...\n",
      "* [TextCleaner] Cleaning text...\n",
      "* [TextCleaner] Cleaning text...\n",
      "* [TextCleaner] Cleaning text...\n",
      "* [TextCleaner] Cleaning text...\n",
      "* [TextCleaner] Cleaning text...\n"
     ]
    },
    {
     "name": "stderr",
     "output_type": "stream",
     "text": [
      "1it [00:00, 37.65it/s]\n",
      "1it [00:00, 42.15it/s]\n",
      "1it [00:00, 41.99it/s]\n",
      "1it [00:00, 32.80it/s]\n",
      "1it [00:00, 42.17it/s]\n",
      "1it [00:00, 40.17it/s]\n",
      "1it [00:00, 35.07it/s]\n",
      "0it [00:00, ?it/s]"
     ]
    },
    {
     "name": "stdout",
     "output_type": "stream",
     "text": [
      "* [TextCleaner] Cleaning text...\n",
      "* [TextCleaner] Cleaning text...\n",
      "* [TextCleaner] Cleaning text...\n",
      "* [TextCleaner] Cleaning text...\n",
      "* [TextCleaner] Cleaning text...\n",
      "* [TextCleaner] Cleaning text...\n",
      "* [TextCleaner] Cleaning text...\n"
     ]
    },
    {
     "name": "stderr",
     "output_type": "stream",
     "text": [
      "1it [00:00, 41.63it/s]\n",
      "1it [00:00, 50.23it/s]\n",
      "1it [00:00, 37.13it/s]\n",
      "1it [00:00, 36.47it/s]\n",
      "1it [00:00, 35.24it/s]\n",
      "1it [00:00, 29.31it/s]\n",
      "1it [00:00, 40.04it/s]\n",
      "0it [00:00, ?it/s]"
     ]
    },
    {
     "name": "stdout",
     "output_type": "stream",
     "text": [
      "* [TextCleaner] Cleaning text...\n",
      "* [TextCleaner] Cleaning text...\n",
      "* [TextCleaner] Cleaning text...\n",
      "* [TextCleaner] Cleaning text...\n",
      "* [TextCleaner] Cleaning text...\n",
      "* [TextCleaner] Cleaning text...\n",
      "* [TextCleaner] Cleaning text...\n"
     ]
    },
    {
     "name": "stderr",
     "output_type": "stream",
     "text": [
      "1it [00:00, 38.48it/s]\n",
      "1it [00:00, 43.45it/s]\n",
      "1it [00:00, 53.29it/s]\n",
      "1it [00:00, 36.23it/s]\n",
      "1it [00:00, 30.78it/s]\n",
      "1it [00:00, 36.95it/s]\n",
      "1it [00:00, 37.63it/s]\n",
      "0it [00:00, ?it/s]"
     ]
    },
    {
     "name": "stdout",
     "output_type": "stream",
     "text": [
      "* [TextCleaner] Cleaning text...\n",
      "* [TextCleaner] Cleaning text...\n",
      "* [TextCleaner] Cleaning text...\n",
      "* [TextCleaner] Cleaning text...\n",
      "* [TextCleaner] Cleaning text...\n",
      "* [TextCleaner] Cleaning text...\n",
      "* [TextCleaner] Cleaning text...\n"
     ]
    },
    {
     "name": "stderr",
     "output_type": "stream",
     "text": [
      "1it [00:00, 44.82it/s]\n",
      "1it [00:00, 52.78it/s]\n",
      "1it [00:00, 36.79it/s]\n",
      "1it [00:00, 38.69it/s]\n",
      "1it [00:00, 43.42it/s]\n",
      "1it [00:00, 28.20it/s]\n",
      "1it [00:00, 43.85it/s]\n",
      "0it [00:00, ?it/s]"
     ]
    },
    {
     "name": "stdout",
     "output_type": "stream",
     "text": [
      "* [TextCleaner] Cleaning text...\n",
      "* [TextCleaner] Cleaning text...\n",
      "* [TextCleaner] Cleaning text...\n",
      "* [TextCleaner] Cleaning text...\n",
      "* [TextCleaner] Cleaning text...\n",
      "* [TextCleaner] Cleaning text...\n",
      "* [TextCleaner] Cleaning text...\n"
     ]
    },
    {
     "name": "stderr",
     "output_type": "stream",
     "text": [
      "1it [00:00, 31.05it/s]\n",
      "1it [00:00, 36.38it/s]\n",
      "1it [00:00, 44.16it/s]\n",
      "1it [00:00, 43.87it/s]\n",
      "1it [00:00, 36.35it/s]\n",
      "1it [00:00, 77.23it/s]\n",
      "1it [00:00, 39.17it/s]\n",
      "1it [00:00, 38.16it/s]\n"
     ]
    },
    {
     "name": "stdout",
     "output_type": "stream",
     "text": [
      "* [TextCleaner] Cleaning text...\n",
      "* [TextCleaner] Cleaning text...\n",
      "* [TextCleaner] Cleaning text...\n",
      "* [TextCleaner] Cleaning text...\n",
      "* [TextCleaner] Cleaning text...\n",
      "* [TextCleaner] Cleaning text...\n",
      "* [TextCleaner] Cleaning text...\n"
     ]
    },
    {
     "name": "stderr",
     "output_type": "stream",
     "text": [
      "1it [00:00, 32.25it/s]\n",
      "1it [00:00, 37.72it/s]\n",
      "1it [00:00, 34.78it/s]\n",
      "1it [00:00, 40.82it/s]\n",
      "1it [00:00, 34.29it/s]\n",
      "1it [00:00, 53.46it/s]\n",
      "1it [00:00, 40.25it/s]\n",
      "0it [00:00, ?it/s]"
     ]
    },
    {
     "name": "stdout",
     "output_type": "stream",
     "text": [
      "* [TextCleaner] Cleaning text...\n",
      "* [TextCleaner] Cleaning text...\n",
      "* [TextCleaner] Cleaning text...\n",
      "* [TextCleaner] Cleaning text...\n",
      "* [TextCleaner] Cleaning text...\n",
      "* [TextCleaner] Cleaning text...\n",
      "* [TextCleaner] Cleaning text...\n",
      "* [TextCleaner] Cleaning text...\n"
     ]
    },
    {
     "name": "stderr",
     "output_type": "stream",
     "text": [
      "1it [00:00, 27.99it/s]\n",
      "1it [00:00, 37.47it/s]\n",
      "1it [00:00, 56.24it/s]\n",
      "1it [00:00, 38.53it/s]\n",
      "1it [00:00, 40.44it/s]\n",
      "1it [00:00, 44.85it/s]\n",
      "1it [00:00, 36.51it/s]\n",
      "0it [00:00, ?it/s]"
     ]
    },
    {
     "name": "stdout",
     "output_type": "stream",
     "text": [
      "* [TextCleaner] Cleaning text...\n",
      "* [TextCleaner] Cleaning text...\n",
      "* [TextCleaner] Cleaning text...\n",
      "* [TextCleaner] Cleaning text...\n",
      "* [TextCleaner] Cleaning text...\n",
      "* [TextCleaner] Cleaning text...\n",
      "* [TextCleaner] Cleaning text...\n"
     ]
    },
    {
     "name": "stderr",
     "output_type": "stream",
     "text": [
      "1it [00:00, 37.21it/s]\n",
      "1it [00:00, 38.71it/s]\n",
      "1it [00:00, 33.40it/s]\n",
      "1it [00:00, 35.91it/s]\n",
      "1it [00:00, 36.56it/s]\n",
      "1it [00:00, 38.80it/s]\n",
      "1it [00:00, 50.94it/s]\n",
      "0it [00:00, ?it/s]"
     ]
    },
    {
     "name": "stdout",
     "output_type": "stream",
     "text": [
      "* [TextCleaner] Cleaning text...\n",
      "* [TextCleaner] Cleaning text...\n",
      "* [TextCleaner] Cleaning text...\n",
      "* [TextCleaner] Cleaning text...\n",
      "* [TextCleaner] Cleaning text...\n",
      "* [TextCleaner] Cleaning text...\n",
      "* [TextCleaner] Cleaning text...\n"
     ]
    },
    {
     "name": "stderr",
     "output_type": "stream",
     "text": [
      "1it [00:00, 31.63it/s]\n",
      "1it [00:00, 38.26it/s]\n",
      "1it [00:00, 39.07it/s]\n",
      "1it [00:00, 35.65it/s]\n",
      "1it [00:00, 37.41it/s]\n",
      "1it [00:00, 39.75it/s]\n",
      "1it [00:00, 36.30it/s]\n",
      "0it [00:00, ?it/s]"
     ]
    },
    {
     "name": "stdout",
     "output_type": "stream",
     "text": [
      "* [TextCleaner] Cleaning text...\n",
      "* [TextCleaner] Cleaning text...\n",
      "* [TextCleaner] Cleaning text...\n",
      "* [TextCleaner] Cleaning text...\n",
      "* [TextCleaner] Cleaning text...\n",
      "* [TextCleaner] Cleaning text...\n",
      "* [TextCleaner] Cleaning text...\n"
     ]
    },
    {
     "name": "stderr",
     "output_type": "stream",
     "text": [
      "1it [00:00, 40.22it/s]\n",
      "1it [00:00, 40.82it/s]\n",
      "1it [00:00, 38.19it/s]\n",
      "1it [00:00, 35.07it/s]\n",
      "1it [00:00, 43.31it/s]\n",
      "1it [00:00, 37.80it/s]\n",
      "1it [00:00, 35.61it/s]\n",
      "0it [00:00, ?it/s]"
     ]
    },
    {
     "name": "stdout",
     "output_type": "stream",
     "text": [
      "* [TextCleaner] Cleaning text...\n",
      "* [TextCleaner] Cleaning text...\n",
      "* [TextCleaner] Cleaning text...\n",
      "* [TextCleaner] Cleaning text...\n",
      "* [TextCleaner] Cleaning text...\n",
      "* [TextCleaner] Cleaning text...\n",
      "* [TextCleaner] Cleaning text...\n"
     ]
    },
    {
     "name": "stderr",
     "output_type": "stream",
     "text": [
      "1it [00:00, 36.26it/s]\n",
      "1it [00:00, 28.80it/s]\n",
      "1it [00:00, 38.21it/s]\n",
      "1it [00:00, 33.34it/s]\n",
      "1it [00:00, 39.54it/s]\n",
      "1it [00:00, 36.26it/s]\n",
      "1it [00:00, 44.52it/s]\n"
     ]
    },
    {
     "name": "stdout",
     "output_type": "stream",
     "text": [
      "* [TextCleaner] Cleaning text...\n",
      "* [TextCleaner] Cleaning text...\n",
      "* [TextCleaner] Cleaning text...\n",
      "* [TextCleaner] Cleaning text...\n",
      "* [TextCleaner] Cleaning text...\n",
      "* [TextCleaner] Cleaning text...\n"
     ]
    },
    {
     "name": "stderr",
     "output_type": "stream",
     "text": [
      "1it [00:00, 30.73it/s]\n",
      "1it [00:00, 34.73it/s]\n",
      "1it [00:00, 35.13it/s]\n",
      "1it [00:00, 29.23it/s]\n",
      "1it [00:00, 36.63it/s]\n",
      "1it [00:00, 36.84it/s]\n",
      "1it [00:00, 44.63it/s]\n",
      "0it [00:00, ?it/s]"
     ]
    },
    {
     "name": "stdout",
     "output_type": "stream",
     "text": [
      "* [TextCleaner] Cleaning text...\n",
      "* [TextCleaner] Cleaning text...\n",
      "* [TextCleaner] Cleaning text...\n",
      "* [TextCleaner] Cleaning text...\n",
      "* [TextCleaner] Cleaning text...\n",
      "* [TextCleaner] Cleaning text...\n",
      "* [TextCleaner] Cleaning text...\n",
      "* [TextCleaner] Cleaning text...\n"
     ]
    },
    {
     "name": "stderr",
     "output_type": "stream",
     "text": [
      "1it [00:00, 31.71it/s]\n",
      "1it [00:00, 28.63it/s]\n",
      "1it [00:00, 48.37it/s]\n",
      "1it [00:00, 32.55it/s]\n",
      "1it [00:00, 47.41it/s]\n",
      "1it [00:00, 35.83it/s]\n",
      "1it [00:00, 38.05it/s]\n",
      "0it [00:00, ?it/s]"
     ]
    },
    {
     "name": "stdout",
     "output_type": "stream",
     "text": [
      "* [TextCleaner] Cleaning text...\n",
      "* [TextCleaner] Cleaning text...\n",
      "* [TextCleaner] Cleaning text...\n",
      "* [TextCleaner] Cleaning text...\n",
      "* [TextCleaner] Cleaning text...\n",
      "* [TextCleaner] Cleaning text...\n",
      "* [TextCleaner] Cleaning text...\n"
     ]
    },
    {
     "name": "stderr",
     "output_type": "stream",
     "text": [
      "1it [00:00, 31.78it/s]\n",
      "1it [00:00, 45.57it/s]\n",
      "1it [00:00, 43.72it/s]\n",
      "1it [00:00, 35.18it/s]\n",
      "1it [00:00, 29.24it/s]\n",
      "1it [00:00, 44.65it/s]\n",
      "1it [00:00, 41.96it/s]\n",
      "0it [00:00, ?it/s]"
     ]
    },
    {
     "name": "stdout",
     "output_type": "stream",
     "text": [
      "* [TextCleaner] Cleaning text...\n",
      "* [TextCleaner] Cleaning text...\n",
      "* [TextCleaner] Cleaning text...\n",
      "* [TextCleaner] Cleaning text...\n",
      "* [TextCleaner] Cleaning text...\n",
      "* [TextCleaner] Cleaning text...\n",
      "* [TextCleaner] Cleaning text...\n"
     ]
    },
    {
     "name": "stderr",
     "output_type": "stream",
     "text": [
      "1it [00:00, 34.91it/s]\n",
      "1it [00:00, 41.23it/s]\n",
      "1it [00:00, 34.43it/s]\n",
      "1it [00:00, 48.97it/s]\n",
      "1it [00:00, 35.75it/s]\n",
      "1it [00:00, 38.41it/s]\n",
      "1it [00:00, 40.78it/s]\n",
      "0it [00:00, ?it/s]"
     ]
    },
    {
     "name": "stdout",
     "output_type": "stream",
     "text": [
      "* [TextCleaner] Cleaning text...\n",
      "* [TextCleaner] Cleaning text...\n",
      "* [TextCleaner] Cleaning text...\n",
      "* [TextCleaner] Cleaning text...\n",
      "* [TextCleaner] Cleaning text...\n",
      "* [TextCleaner] Cleaning text...\n",
      "* [TextCleaner] Cleaning text...\n"
     ]
    },
    {
     "name": "stderr",
     "output_type": "stream",
     "text": [
      "1it [00:00, 45.06it/s]\n",
      "1it [00:00, 38.90it/s]\n",
      "1it [00:00, 36.12it/s]\n",
      "1it [00:00, 30.43it/s]\n",
      "1it [00:00, 35.09it/s]\n",
      "1it [00:00, 49.15it/s]\n",
      "1it [00:00, 42.80it/s]\n",
      "0it [00:00, ?it/s]"
     ]
    },
    {
     "name": "stdout",
     "output_type": "stream",
     "text": [
      "* [TextCleaner] Cleaning text...\n",
      "* [TextCleaner] Cleaning text...\n",
      "* [TextCleaner] Cleaning text...\n",
      "* [TextCleaner] Cleaning text...\n",
      "* [TextCleaner] Cleaning text...\n",
      "* [TextCleaner] Cleaning text...\n",
      "* [TextCleaner] Cleaning text...\n"
     ]
    },
    {
     "name": "stderr",
     "output_type": "stream",
     "text": [
      "1it [00:00, 42.78it/s]\n",
      "1it [00:00, 32.75it/s]\n",
      "1it [00:00, 37.15it/s]\n",
      "1it [00:00, 43.54it/s]\n",
      "1it [00:00, 39.00it/s]\n",
      "1it [00:00, 36.76it/s]\n",
      "1it [00:00, 37.71it/s]\n",
      "0it [00:00, ?it/s]"
     ]
    },
    {
     "name": "stdout",
     "output_type": "stream",
     "text": [
      "* [TextCleaner] Cleaning text...\n",
      "* [TextCleaner] Cleaning text...\n",
      "* [TextCleaner] Cleaning text...\n",
      "* [TextCleaner] Cleaning text...\n",
      "* [TextCleaner] Cleaning text...\n",
      "* [TextCleaner] Cleaning text...\n",
      "* [TextCleaner] Cleaning text...\n"
     ]
    },
    {
     "name": "stderr",
     "output_type": "stream",
     "text": [
      "1it [00:00, 29.46it/s]\n",
      "1it [00:00, 35.79it/s]\n",
      "1it [00:00, 36.47it/s]\n",
      "1it [00:00, 32.46it/s]\n",
      "1it [00:00, 42.48it/s]\n",
      "1it [00:00, 50.54it/s]\n",
      "1it [00:00, 33.74it/s]\n",
      "0it [00:00, ?it/s]"
     ]
    },
    {
     "name": "stdout",
     "output_type": "stream",
     "text": [
      "* [TextCleaner] Cleaning text...\n",
      "* [TextCleaner] Cleaning text...\n",
      "* [TextCleaner] Cleaning text...\n",
      "* [TextCleaner] Cleaning text...\n",
      "* [TextCleaner] Cleaning text...\n",
      "* [TextCleaner] Cleaning text...\n",
      "* [TextCleaner] Cleaning text...\n"
     ]
    },
    {
     "name": "stderr",
     "output_type": "stream",
     "text": [
      "1it [00:00, 41.44it/s]\n",
      "1it [00:00, 36.87it/s]\n",
      "1it [00:00, 38.97it/s]\n",
      "1it [00:00, 34.78it/s]\n",
      "1it [00:00, 34.00it/s]\n",
      "1it [00:00, 42.22it/s]\n",
      "1it [00:00, 34.69it/s]\n",
      "0it [00:00, ?it/s]"
     ]
    },
    {
     "name": "stdout",
     "output_type": "stream",
     "text": [
      "* [TextCleaner] Cleaning text...\n",
      "* [TextCleaner] Cleaning text...\n",
      "* [TextCleaner] Cleaning text...\n",
      "* [TextCleaner] Cleaning text...\n",
      "* [TextCleaner] Cleaning text...\n",
      "* [TextCleaner] Cleaning text...\n",
      "* [TextCleaner] Cleaning text...\n"
     ]
    },
    {
     "name": "stderr",
     "output_type": "stream",
     "text": [
      "1it [00:00, 36.64it/s]\n",
      "1it [00:00, 34.83it/s]\n",
      "1it [00:00, 30.64it/s]\n",
      "1it [00:00, 32.92it/s]\n",
      "1it [00:00, 24.24it/s]\n",
      "1it [00:00, 35.64it/s]\n",
      "0it [00:00, ?it/s]"
     ]
    },
    {
     "name": "stdout",
     "output_type": "stream",
     "text": [
      "* [TextCleaner] Cleaning text...\n",
      "* [TextCleaner] Cleaning text...\n",
      "* [TextCleaner] Cleaning text...\n",
      "* [TextCleaner] Cleaning text...\n",
      "* [TextCleaner] Cleaning text...\n",
      "* [TextCleaner] Cleaning text...\n"
     ]
    },
    {
     "name": "stderr",
     "output_type": "stream",
     "text": [
      "1it [00:00, 37.56it/s]\n",
      "1it [00:00, 40.65it/s]\n",
      "1it [00:00, 41.18it/s]\n",
      "1it [00:00, 39.99it/s]\n",
      "1it [00:00, 40.92it/s]\n",
      "1it [00:00, 36.02it/s]\n",
      "1it [00:00, 48.49it/s]\n",
      "0it [00:00, ?it/s]"
     ]
    },
    {
     "name": "stdout",
     "output_type": "stream",
     "text": [
      "* [TextCleaner] Cleaning text...\n",
      "* [TextCleaner] Cleaning text...\n",
      "* [TextCleaner] Cleaning text...\n",
      "* [TextCleaner] Cleaning text...\n",
      "* [TextCleaner] Cleaning text...\n",
      "* [TextCleaner] Cleaning text...\n",
      "* [TextCleaner] Cleaning text...\n"
     ]
    },
    {
     "name": "stderr",
     "output_type": "stream",
     "text": [
      "1it [00:00, 43.95it/s]\n",
      "1it [00:00, 44.10it/s]\n",
      "1it [00:00, 41.04it/s]\n",
      "1it [00:00, 38.89it/s]\n",
      "1it [00:00, 41.50it/s]\n",
      "1it [00:00, 39.18it/s]\n",
      "1it [00:00, 52.88it/s]\n",
      "1it [00:00, 38.71it/s]\n"
     ]
    },
    {
     "name": "stdout",
     "output_type": "stream",
     "text": [
      "* [TextCleaner] Cleaning text...\n",
      "* [TextCleaner] Cleaning text...\n",
      "* [TextCleaner] Cleaning text...\n",
      "* [TextCleaner] Cleaning text...\n",
      "* [TextCleaner] Cleaning text...\n",
      "* [TextCleaner] Cleaning text...\n",
      "* [TextCleaner] Cleaning text...\n",
      "* [TextCleaner] Cleaning text..."
     ]
    },
    {
     "name": "stderr",
     "output_type": "stream",
     "text": [
      "1it [00:00, 42.68it/s]\n",
      "1it [00:00, 34.50it/s]\n",
      "1it [00:00, 35.02it/s]\n",
      "1it [00:00, 37.25it/s]\n",
      "1it [00:00, 41.49it/s]\n",
      "1it [00:00, 42.12it/s]\n",
      "0it [00:00, ?it/s]"
     ]
    },
    {
     "name": "stdout",
     "output_type": "stream",
     "text": [
      "\n",
      "* [TextCleaner] Cleaning text...\n",
      "* [TextCleaner] Cleaning text...\n",
      "* [TextCleaner] Cleaning text...\n",
      "* [TextCleaner] Cleaning text...\n",
      "* [TextCleaner] Cleaning text...\n",
      "* [TextCleaner] Cleaning text...\n"
     ]
    },
    {
     "name": "stderr",
     "output_type": "stream",
     "text": [
      "1it [00:00, 34.21it/s]\n",
      "1it [00:00, 44.29it/s]\n",
      "1it [00:00, 35.58it/s]\n",
      "1it [00:00, 40.84it/s]\n",
      "1it [00:00, 39.37it/s]\n",
      "1it [00:00, 35.74it/s]\n",
      "1it [00:00, 39.31it/s]\n",
      "0it [00:00, ?it/s]"
     ]
    },
    {
     "name": "stdout",
     "output_type": "stream",
     "text": [
      "* [TextCleaner] Cleaning text...\n",
      "* [TextCleaner] Cleaning text...\n",
      "* [TextCleaner] Cleaning text...\n",
      "* [TextCleaner] Cleaning text...\n",
      "* [TextCleaner] Cleaning text...\n",
      "* [TextCleaner] Cleaning text...\n",
      "* [TextCleaner] Cleaning text...\n"
     ]
    },
    {
     "name": "stderr",
     "output_type": "stream",
     "text": [
      "1it [00:00, 45.51it/s]\n",
      "1it [00:00, 42.02it/s]\n",
      "1it [00:00, 33.86it/s]\n",
      "1it [00:00, 30.14it/s]\n",
      "1it [00:00, 33.76it/s]\n",
      "1it [00:00, 29.67it/s]\n",
      "1it [00:00, 55.35it/s]\n",
      "0it [00:00, ?it/s]"
     ]
    },
    {
     "name": "stdout",
     "output_type": "stream",
     "text": [
      "* [TextCleaner] Cleaning text...\n",
      "* [TextCleaner] Cleaning text...\n",
      "* [TextCleaner] Cleaning text...\n",
      "* [TextCleaner] Cleaning text...\n",
      "* [TextCleaner] Cleaning text...\n",
      "* [TextCleaner] Cleaning text...\n",
      "* [TextCleaner] Cleaning text...\n"
     ]
    },
    {
     "name": "stderr",
     "output_type": "stream",
     "text": [
      "1it [00:00, 50.70it/s]\n",
      "1it [00:00, 43.71it/s]\n",
      "1it [00:00, 42.62it/s]\n",
      "1it [00:00, 36.90it/s]\n",
      "1it [00:00, 36.14it/s]\n",
      "1it [00:00, 33.84it/s]\n",
      "1it [00:00, 38.34it/s]\n",
      "0it [00:00, ?it/s]"
     ]
    },
    {
     "name": "stdout",
     "output_type": "stream",
     "text": [
      "* [TextCleaner] Cleaning text...\n",
      "* [TextCleaner] Cleaning text...\n",
      "* [TextCleaner] Cleaning text...\n",
      "* [TextCleaner] Cleaning text...\n",
      "* [TextCleaner] Cleaning text...\n",
      "* [TextCleaner] Cleaning text...\n",
      "* [TextCleaner] Cleaning text...\n"
     ]
    },
    {
     "name": "stderr",
     "output_type": "stream",
     "text": [
      "1it [00:00, 36.59it/s]\n",
      "1it [00:00, 36.09it/s]\n",
      "1it [00:00, 39.77it/s]\n",
      "1it [00:00, 39.13it/s]\n",
      "1it [00:00, 33.43it/s]\n",
      "1it [00:00, 47.32it/s]\n",
      "1it [00:00, 34.44it/s]\n",
      "0it [00:00, ?it/s]"
     ]
    },
    {
     "name": "stdout",
     "output_type": "stream",
     "text": [
      "* [TextCleaner] Cleaning text...\n",
      "* [TextCleaner] Cleaning text...\n",
      "* [TextCleaner] Cleaning text...\n",
      "* [TextCleaner] Cleaning text...\n",
      "* [TextCleaner] Cleaning text...\n",
      "* [TextCleaner] Cleaning text...\n",
      "* [TextCleaner] Cleaning text...\n"
     ]
    },
    {
     "name": "stderr",
     "output_type": "stream",
     "text": [
      "1it [00:00, 31.54it/s]\n",
      "1it [00:00, 33.01it/s]\n",
      "1it [00:00, 44.06it/s]\n",
      "1it [00:00, 38.33it/s]\n",
      "1it [00:00, 40.43it/s]\n",
      "1it [00:00, 40.38it/s]\n",
      "1it [00:00, 29.42it/s]\n",
      "0it [00:00, ?it/s]"
     ]
    },
    {
     "name": "stdout",
     "output_type": "stream",
     "text": [
      "* [TextCleaner] Cleaning text...\n",
      "* [TextCleaner] Cleaning text...\n",
      "* [TextCleaner] Cleaning text...\n",
      "* [TextCleaner] Cleaning text...\n",
      "* [TextCleaner] Cleaning text...\n",
      "* [TextCleaner] Cleaning text...\n",
      "* [TextCleaner] Cleaning text...\n"
     ]
    },
    {
     "name": "stderr",
     "output_type": "stream",
     "text": [
      "1it [00:00, 40.02it/s]\n",
      "1it [00:00, 34.00it/s]\n",
      "1it [00:00, 29.71it/s]\n",
      "1it [00:00, 40.80it/s]\n",
      "1it [00:00, 33.40it/s]\n",
      "1it [00:00, 34.31it/s]\n",
      "0it [00:00, ?it/s]"
     ]
    },
    {
     "name": "stdout",
     "output_type": "stream",
     "text": [
      "* [TextCleaner] Cleaning text...\n",
      "* [TextCleaner] Cleaning text...\n",
      "* [TextCleaner] Cleaning text...\n",
      "* [TextCleaner] Cleaning text...\n",
      "* [TextCleaner] Cleaning text...\n",
      "* [TextCleaner] Cleaning text...\n"
     ]
    },
    {
     "name": "stderr",
     "output_type": "stream",
     "text": [
      "1it [00:00, 27.95it/s]\n",
      "1it [00:00, 35.97it/s]\n",
      "1it [00:00, 36.42it/s]\n",
      "1it [00:00, 33.81it/s]\n",
      "1it [00:00, 56.14it/s]\n",
      "1it [00:00, 45.16it/s]\n",
      "1it [00:00, 36.79it/s]\n",
      "0it [00:00, ?it/s]"
     ]
    },
    {
     "name": "stdout",
     "output_type": "stream",
     "text": [
      "* [TextCleaner] Cleaning text...\n",
      "* [TextCleaner] Cleaning text...\n",
      "* [TextCleaner] Cleaning text...\n",
      "* [TextCleaner] Cleaning text...\n",
      "* [TextCleaner] Cleaning text...\n",
      "* [TextCleaner] Cleaning text...\n",
      "* [TextCleaner] Cleaning text...\n"
     ]
    },
    {
     "name": "stderr",
     "output_type": "stream",
     "text": [
      "1it [00:00, 36.80it/s]\n",
      "1it [00:00, 40.29it/s]\n",
      "1it [00:00, 37.74it/s]\n",
      "1it [00:00, 38.10it/s]\n",
      "1it [00:00, 41.66it/s]\n",
      "1it [00:00, 36.79it/s]\n",
      "1it [00:00, 31.85it/s]\n",
      "0it [00:00, ?it/s]"
     ]
    },
    {
     "name": "stdout",
     "output_type": "stream",
     "text": [
      "* [TextCleaner] Cleaning text...\n",
      "* [TextCleaner] Cleaning text...\n",
      "* [TextCleaner] Cleaning text...\n",
      "* [TextCleaner] Cleaning text...\n",
      "* [TextCleaner] Cleaning text...\n",
      "* [TextCleaner] Cleaning text...\n",
      "* [TextCleaner] Cleaning text...\n"
     ]
    },
    {
     "name": "stderr",
     "output_type": "stream",
     "text": [
      "1it [00:00, 44.05it/s]\n",
      "1it [00:00, 45.03it/s]\n",
      "1it [00:00, 37.72it/s]\n",
      "1it [00:00, 45.34it/s]\n",
      "1it [00:00, 39.98it/s]\n",
      "1it [00:00, 41.33it/s]\n",
      "1it [00:00, 47.35it/s]\n",
      "0it [00:00, ?it/s]"
     ]
    },
    {
     "name": "stdout",
     "output_type": "stream",
     "text": [
      "* [TextCleaner] Cleaning text...\n",
      "* [TextCleaner] Cleaning text...\n",
      "* [TextCleaner] Cleaning text...\n",
      "* [TextCleaner] Cleaning text...\n",
      "* [TextCleaner] Cleaning text...\n",
      "* [TextCleaner] Cleaning text...\n",
      "* [TextCleaner] Cleaning text...\n"
     ]
    },
    {
     "name": "stderr",
     "output_type": "stream",
     "text": [
      "1it [00:00, 32.36it/s]\n",
      "1it [00:00, 35.43it/s]\n",
      "1it [00:00, 37.64it/s]\n",
      "1it [00:00, 39.10it/s]\n",
      "1it [00:00, 40.88it/s]\n",
      "1it [00:00, 34.17it/s]\n",
      "1it [00:00, 54.32it/s]\n",
      "0it [00:00, ?it/s]"
     ]
    },
    {
     "name": "stdout",
     "output_type": "stream",
     "text": [
      "* [TextCleaner] Cleaning text...\n",
      "* [TextCleaner] Cleaning text...\n",
      "* [TextCleaner] Cleaning text...\n",
      "* [TextCleaner] Cleaning text...\n",
      "* [TextCleaner] Cleaning text...\n",
      "* [TextCleaner] Cleaning text...\n",
      "* [TextCleaner] Cleaning text...\n"
     ]
    },
    {
     "name": "stderr",
     "output_type": "stream",
     "text": [
      "1it [00:00, 40.65it/s]\n",
      "1it [00:00, 35.22it/s]\n",
      "1it [00:00, 36.44it/s]\n",
      "1it [00:00, 37.46it/s]\n",
      "1it [00:00, 45.13it/s]\n",
      "1it [00:00, 48.23it/s]\n",
      "1it [00:00, 37.85it/s]\n",
      "0it [00:00, ?it/s]"
     ]
    },
    {
     "name": "stdout",
     "output_type": "stream",
     "text": [
      "* [TextCleaner] Cleaning text...\n",
      "* [TextCleaner] Cleaning text...\n",
      "* [TextCleaner] Cleaning text...\n",
      "* [TextCleaner] Cleaning text...\n",
      "* [TextCleaner] Cleaning text...\n",
      "* [TextCleaner] Cleaning text...\n",
      "* [TextCleaner] Cleaning text...\n"
     ]
    },
    {
     "name": "stderr",
     "output_type": "stream",
     "text": [
      "1it [00:00, 36.31it/s]\n",
      "1it [00:00, 108.56it/s]\n",
      "1it [00:00, 44.74it/s]\n",
      "1it [00:00, 47.69it/s]\n",
      "1it [00:00, 40.24it/s]\n",
      "1it [00:00, 49.77it/s]\n",
      "1it [00:00, 36.77it/s]\n",
      "1it [00:00, 39.33it/s]\n",
      "0it [00:00, ?it/s]"
     ]
    },
    {
     "name": "stdout",
     "output_type": "stream",
     "text": [
      "* [TextCleaner] Cleaning text...\n",
      "* [TextCleaner] Cleaning text...\n",
      "* [TextCleaner] Cleaning text...\n",
      "* [TextCleaner] Cleaning text...\n",
      "* [TextCleaner] Cleaning text...\n",
      "* [TextCleaner] Cleaning text...\n",
      "* [TextCleaner] Cleaning text...\n",
      "* [TextCleaner] Cleaning text...\n"
     ]
    },
    {
     "name": "stderr",
     "output_type": "stream",
     "text": [
      "1it [00:00, 41.73it/s]\n",
      "1it [00:00, 192.41it/s]\n",
      "1it [00:00, 35.33it/s]\n",
      "1it [00:00, 33.10it/s]\n",
      "1it [00:00, 42.83it/s]\n",
      "1it [00:00, 38.03it/s]\n",
      "1it [00:00, 36.66it/s]\n",
      "0it [00:00, ?it/s]"
     ]
    },
    {
     "name": "stdout",
     "output_type": "stream",
     "text": [
      "* [TextCleaner] Cleaning text...\n",
      "* [TextCleaner] Cleaning text...\n",
      "* [TextCleaner] Cleaning text...\n",
      "* [TextCleaner] Cleaning text...\n",
      "* [TextCleaner] Cleaning text...\n",
      "* [TextCleaner] Cleaning text...\n",
      "* [TextCleaner] Cleaning text...\n"
     ]
    },
    {
     "name": "stderr",
     "output_type": "stream",
     "text": [
      "1it [00:00, 25.25it/s]\n",
      "1it [00:00, 48.57it/s]\n",
      "1it [00:00, 38.96it/s]\n",
      "1it [00:00, 44.98it/s]\n",
      "1it [00:00, 37.67it/s]\n",
      "1it [00:00, 42.07it/s]\n",
      "1it [00:00, 41.70it/s]\n",
      "1it [00:00, 42.47it/s]"
     ]
    },
    {
     "name": "stdout",
     "output_type": "stream",
     "text": [
      "* [TextCleaner] Cleaning text...\n",
      "* [TextCleaner] Cleaning text...\n",
      "* [TextCleaner] Cleaning text...\n",
      "* [TextCleaner] Cleaning text...\n",
      "* [TextCleaner] Cleaning text...\n",
      "* [TextCleaner] Cleaning text...\n",
      "* [TextCleaner] Cleaning text...\n"
     ]
    },
    {
     "name": "stderr",
     "output_type": "stream",
     "text": [
      "\n",
      "1it [00:00, 30.39it/s]\n",
      "1it [00:00, 35.65it/s]\n",
      "1it [00:00, 50.48it/s]\n",
      "1it [00:00, 35.68it/s]\n",
      "1it [00:00, 39.74it/s]\n",
      "1it [00:00, 86.87it/s]\n",
      "0it [00:00, ?it/s]"
     ]
    },
    {
     "name": "stdout",
     "output_type": "stream",
     "text": [
      "* [TextCleaner] Cleaning text...\n",
      "* [TextCleaner] Cleaning text...\n",
      "* [TextCleaner] Cleaning text...\n",
      "* [TextCleaner] Cleaning text...\n",
      "* [TextCleaner] Cleaning text...\n",
      "* [TextCleaner] Cleaning text...\n",
      "* [TextCleaner] Cleaning text...\n"
     ]
    },
    {
     "name": "stderr",
     "output_type": "stream",
     "text": [
      "1it [00:00, 35.13it/s]\n",
      "1it [00:00, 125.95it/s]\n",
      "1it [00:00, 45.04it/s]\n",
      "1it [00:00, 64.00it/s]\n",
      "1it [00:00, 39.30it/s]\n",
      "1it [00:00, 31.29it/s]\n",
      "1it [00:00, 36.46it/s]\n",
      "1it [00:00, 50.26it/s]\n",
      "0it [00:00, ?it/s]"
     ]
    },
    {
     "name": "stdout",
     "output_type": "stream",
     "text": [
      "* [TextCleaner] Cleaning text...\n",
      "* [TextCleaner] Cleaning text...\n",
      "* [TextCleaner] Cleaning text...\n",
      "* [TextCleaner] Cleaning text...\n",
      "* [TextCleaner] Cleaning text...\n",
      "* [TextCleaner] Cleaning text...\n",
      "* [TextCleaner] Cleaning text...\n",
      "* [TextCleaner] Cleaning text...\n"
     ]
    },
    {
     "name": "stderr",
     "output_type": "stream",
     "text": [
      "1it [00:00, 35.48it/s]\n",
      "1it [00:00, 64.23it/s]\n",
      "1it [00:00, 44.72it/s]\n",
      "1it [00:00, 80.13it/s]\n",
      "1it [00:00, 48.59it/s]\n",
      "1it [00:00, 39.56it/s]\n",
      "1it [00:00, 38.58it/s]\n",
      "1it [00:00, 34.50it/s]\n",
      "0it [00:00, ?it/s]"
     ]
    },
    {
     "name": "stdout",
     "output_type": "stream",
     "text": [
      "* [TextCleaner] Cleaning text...\n",
      "* [TextCleaner] Cleaning text...\n",
      "* [TextCleaner] Cleaning text...\n",
      "* [TextCleaner] Cleaning text...\n",
      "* [TextCleaner] Cleaning text...\n",
      "* [TextCleaner] Cleaning text...\n",
      "* [TextCleaner] Cleaning text...\n",
      "* [TextCleaner] Cleaning text...\n"
     ]
    },
    {
     "name": "stderr",
     "output_type": "stream",
     "text": [
      "1it [00:00, 39.83it/s]\n",
      "1it [00:00, 39.03it/s]\n",
      "1it [00:00, 42.68it/s]\n",
      "1it [00:00, 30.23it/s]\n",
      "1it [00:00, 54.16it/s]\n",
      "1it [00:00, 31.52it/s]\n",
      "1it [00:00, 32.16it/s]\n",
      "0it [00:00, ?it/s]"
     ]
    },
    {
     "name": "stdout",
     "output_type": "stream",
     "text": [
      "* [TextCleaner] Cleaning text...\n",
      "* [TextCleaner] Cleaning text...\n",
      "* [TextCleaner] Cleaning text...\n",
      "* [TextCleaner] Cleaning text...\n",
      "* [TextCleaner] Cleaning text...\n",
      "* [TextCleaner] Cleaning text...\n",
      "* [TextCleaner] Cleaning text...\n"
     ]
    },
    {
     "name": "stderr",
     "output_type": "stream",
     "text": [
      "1it [00:00, 43.58it/s]\n",
      "1it [00:00, 44.70it/s]\n",
      "1it [00:00, 27.61it/s]\n",
      "1it [00:00, 41.78it/s]\n",
      "1it [00:00, 39.16it/s]\n",
      "1it [00:00, 34.40it/s]\n",
      "1it [00:00, 44.12it/s]\n",
      "0it [00:00, ?it/s]"
     ]
    },
    {
     "name": "stdout",
     "output_type": "stream",
     "text": [
      "* [TextCleaner] Cleaning text...\n",
      "* [TextCleaner] Cleaning text...\n",
      "* [TextCleaner] Cleaning text...\n",
      "* [TextCleaner] Cleaning text...\n",
      "* [TextCleaner] Cleaning text...\n",
      "* [TextCleaner] Cleaning text...\n",
      "* [TextCleaner] Cleaning text...\n"
     ]
    },
    {
     "name": "stderr",
     "output_type": "stream",
     "text": [
      "1it [00:00, 39.47it/s]\n",
      "1it [00:00, 46.62it/s]\n",
      "1it [00:00, 33.53it/s]\n",
      "1it [00:00, 37.41it/s]\n",
      "1it [00:00, 32.00it/s]\n",
      "1it [00:00, 40.20it/s]\n",
      "1it [00:00, 43.13it/s]\n",
      "0it [00:00, ?it/s]"
     ]
    },
    {
     "name": "stdout",
     "output_type": "stream",
     "text": [
      "* [TextCleaner] Cleaning text...\n",
      "* [TextCleaner] Cleaning text...\n",
      "* [TextCleaner] Cleaning text...\n",
      "* [TextCleaner] Cleaning text...\n",
      "* [TextCleaner] Cleaning text...\n",
      "* [TextCleaner] Cleaning text...\n",
      "* [TextCleaner] Cleaning text...\n"
     ]
    },
    {
     "name": "stderr",
     "output_type": "stream",
     "text": [
      "1it [00:00, 46.71it/s]\n",
      "1it [00:00, 37.88it/s]\n",
      "1it [00:00, 37.11it/s]\n",
      "1it [00:00, 44.54it/s]\n",
      "1it [00:00, 44.53it/s]\n",
      "1it [00:00, 41.31it/s]\n",
      "1it [00:00, 33.90it/s]\n",
      "0it [00:00, ?it/s]"
     ]
    },
    {
     "name": "stdout",
     "output_type": "stream",
     "text": [
      "* [TextCleaner] Cleaning text...\n",
      "* [TextCleaner] Cleaning text...\n",
      "* [TextCleaner] Cleaning text...\n",
      "* [TextCleaner] Cleaning text...\n",
      "* [TextCleaner] Cleaning text...\n",
      "* [TextCleaner] Cleaning text...\n",
      "* [TextCleaner] Cleaning text...\n"
     ]
    },
    {
     "name": "stderr",
     "output_type": "stream",
     "text": [
      "1it [00:00, 35.60it/s]\n",
      "1it [00:00, 41.99it/s]\n",
      "1it [00:00, 35.82it/s]\n",
      "1it [00:00, 33.62it/s]\n",
      "1it [00:00, 31.04it/s]\n",
      "1it [00:00, 35.69it/s]\n",
      "1it [00:00, 35.01it/s]"
     ]
    },
    {
     "name": "stdout",
     "output_type": "stream",
     "text": [
      "* [TextCleaner] Cleaning text...\n",
      "* [TextCleaner] Cleaning text...\n",
      "* [TextCleaner] Cleaning text...\n",
      "* [TextCleaner] Cleaning text...\n",
      "* [TextCleaner] Cleaning text...\n",
      "* [TextCleaner] Cleaning text...\n"
     ]
    },
    {
     "name": "stderr",
     "output_type": "stream",
     "text": [
      "\n",
      "1it [00:00, 38.89it/s]\n",
      "1it [00:00, 75.75it/s]\n",
      "1it [00:00, 46.33it/s]\n",
      "1it [00:00, 37.51it/s]\n",
      "1it [00:00, 33.24it/s]\n",
      "1it [00:00, 37.82it/s]\n",
      "0it [00:00, ?it/s]"
     ]
    },
    {
     "name": "stdout",
     "output_type": "stream",
     "text": [
      "* [TextCleaner] Cleaning text...\n",
      "* [TextCleaner] Cleaning text...\n",
      "* [TextCleaner] Cleaning text...\n",
      "* [TextCleaner] Cleaning text...\n",
      "* [TextCleaner] Cleaning text...\n",
      "* [TextCleaner] Cleaning text...\n",
      "* [TextCleaner] Cleaning text...\n"
     ]
    },
    {
     "name": "stderr",
     "output_type": "stream",
     "text": [
      "1it [00:00, 35.12it/s]\n",
      "1it [00:00, 36.00it/s]\n",
      "1it [00:00, 47.67it/s]\n",
      "1it [00:00, 35.59it/s]\n",
      "1it [00:00, 31.57it/s]\n",
      "1it [00:00, 34.69it/s]\n",
      "1it [00:00, 41.73it/s]\n",
      "0it [00:00, ?it/s]"
     ]
    },
    {
     "name": "stdout",
     "output_type": "stream",
     "text": [
      "* [TextCleaner] Cleaning text...\n",
      "* [TextCleaner] Cleaning text...\n",
      "* [TextCleaner] Cleaning text...\n",
      "* [TextCleaner] Cleaning text...\n",
      "* [TextCleaner] Cleaning text...\n",
      "* [TextCleaner] Cleaning text...\n",
      "* [TextCleaner] Cleaning text...\n"
     ]
    },
    {
     "name": "stderr",
     "output_type": "stream",
     "text": [
      "1it [00:00, 30.26it/s]\n",
      "1it [00:00, 44.74it/s]\n",
      "1it [00:00, 37.83it/s]\n",
      "1it [00:00, 36.27it/s]\n",
      "1it [00:00, 37.63it/s]\n",
      "1it [00:00, 38.64it/s]\n",
      "1it [00:00, 32.34it/s]\n",
      "0it [00:00, ?it/s]"
     ]
    },
    {
     "name": "stdout",
     "output_type": "stream",
     "text": [
      "* [TextCleaner] Cleaning text...\n",
      "* [TextCleaner] Cleaning text...\n",
      "* [TextCleaner] Cleaning text...\n",
      "* [TextCleaner] Cleaning text...\n",
      "* [TextCleaner] Cleaning text...\n",
      "* [TextCleaner] Cleaning text...\n",
      "* [TextCleaner] Cleaning text...\n"
     ]
    },
    {
     "name": "stderr",
     "output_type": "stream",
     "text": [
      "1it [00:00, 41.07it/s]\n",
      "1it [00:00, 37.27it/s]\n",
      "1it [00:00, 39.72it/s]\n",
      "1it [00:00, 35.19it/s]\n",
      "1it [00:00, 36.76it/s]\n",
      "1it [00:00, 54.12it/s]\n",
      "1it [00:00, 38.24it/s]\n",
      "0it [00:00, ?it/s]"
     ]
    },
    {
     "name": "stdout",
     "output_type": "stream",
     "text": [
      "* [TextCleaner] Cleaning text...\n",
      "* [TextCleaner] Cleaning text...\n",
      "* [TextCleaner] Cleaning text...\n",
      "* [TextCleaner] Cleaning text...\n",
      "* [TextCleaner] Cleaning text...\n",
      "* [TextCleaner] Cleaning text...\n",
      "* [TextCleaner] Cleaning text...\n"
     ]
    },
    {
     "name": "stderr",
     "output_type": "stream",
     "text": [
      "1it [00:00, 33.25it/s]\n",
      "1it [00:00, 36.49it/s]\n",
      "1it [00:00, 34.22it/s]\n",
      "1it [00:00, 36.41it/s]\n",
      "1it [00:00, 32.91it/s]\n",
      "1it [00:00, 44.50it/s]\n",
      "1it [00:00, 37.08it/s]\n",
      "0it [00:00, ?it/s]"
     ]
    },
    {
     "name": "stdout",
     "output_type": "stream",
     "text": [
      "* [TextCleaner] Cleaning text...\n",
      "* [TextCleaner] Cleaning text...\n",
      "* [TextCleaner] Cleaning text...\n",
      "* [TextCleaner] Cleaning text...\n",
      "* [TextCleaner] Cleaning text...\n",
      "* [TextCleaner] Cleaning text...\n",
      "* [TextCleaner] Cleaning text...\n"
     ]
    },
    {
     "name": "stderr",
     "output_type": "stream",
     "text": [
      "1it [00:00, 44.88it/s]\n",
      "1it [00:00, 45.52it/s]\n",
      "1it [00:00, 40.35it/s]\n",
      "1it [00:00, 60.89it/s]\n",
      "1it [00:00, 38.20it/s]\n",
      "1it [00:00, 43.87it/s]\n",
      "1it [00:00, 38.12it/s]\n",
      "1it [00:00, 39.86it/s]\n",
      "0it [00:00, ?it/s]"
     ]
    },
    {
     "name": "stdout",
     "output_type": "stream",
     "text": [
      "* [TextCleaner] Cleaning text...\n",
      "* [TextCleaner] Cleaning text...\n",
      "* [TextCleaner] Cleaning text...\n",
      "* [TextCleaner] Cleaning text...\n",
      "* [TextCleaner] Cleaning text...\n",
      "* [TextCleaner] Cleaning text...\n",
      "* [TextCleaner] Cleaning text...\n",
      "* [TextCleaner] Cleaning text...\n"
     ]
    },
    {
     "name": "stderr",
     "output_type": "stream",
     "text": [
      "1it [00:00, 48.67it/s]\n",
      "1it [00:00, 40.97it/s]\n",
      "1it [00:00, 44.20it/s]\n",
      "1it [00:00, 36.63it/s]\n",
      "1it [00:00, 45.31it/s]\n",
      "1it [00:00, 34.37it/s]\n",
      "1it [00:00, 43.81it/s]\n",
      "0it [00:00, ?it/s]"
     ]
    },
    {
     "name": "stdout",
     "output_type": "stream",
     "text": [
      "* [TextCleaner] Cleaning text...\n",
      "* [TextCleaner] Cleaning text...\n",
      "* [TextCleaner] Cleaning text...\n",
      "* [TextCleaner] Cleaning text...\n",
      "* [TextCleaner] Cleaning text...\n",
      "* [TextCleaner] Cleaning text...\n",
      "* [TextCleaner] Cleaning text...\n"
     ]
    },
    {
     "name": "stderr",
     "output_type": "stream",
     "text": [
      "1it [00:00, 45.03it/s]\n",
      "1it [00:00, 41.38it/s]\n",
      "1it [00:00, 34.76it/s]\n",
      "1it [00:00, 52.75it/s]\n",
      "1it [00:00, 46.84it/s]\n",
      "1it [00:00, 49.04it/s]\n",
      "1it [00:00, 44.44it/s]\n",
      "1it [00:00, 41.05it/s]\n",
      "0it [00:00, ?it/s]"
     ]
    },
    {
     "name": "stdout",
     "output_type": "stream",
     "text": [
      "* [TextCleaner] Cleaning text...\n",
      "* [TextCleaner] Cleaning text...\n",
      "* [TextCleaner] Cleaning text...\n",
      "* [TextCleaner] Cleaning text...\n",
      "* [TextCleaner] Cleaning text...\n",
      "* [TextCleaner] Cleaning text...\n",
      "* [TextCleaner] Cleaning text...\n",
      "* [TextCleaner] Cleaning text...\n"
     ]
    },
    {
     "name": "stderr",
     "output_type": "stream",
     "text": [
      "1it [00:00, 33.45it/s]\n",
      "1it [00:00, 35.66it/s]\n",
      "1it [00:00, 38.28it/s]\n",
      "1it [00:00, 35.93it/s]\n",
      "1it [00:00, 34.89it/s]\n",
      "1it [00:00, 48.01it/s]\n",
      "1it [00:00, 37.87it/s]\n",
      "0it [00:00, ?it/s]"
     ]
    },
    {
     "name": "stdout",
     "output_type": "stream",
     "text": [
      "* [TextCleaner] Cleaning text...\n",
      "* [TextCleaner] Cleaning text...\n",
      "* [TextCleaner] Cleaning text...\n",
      "* [TextCleaner] Cleaning text...\n",
      "* [TextCleaner] Cleaning text...\n",
      "* [TextCleaner] Cleaning text...\n",
      "* [TextCleaner] Cleaning text...\n"
     ]
    },
    {
     "name": "stderr",
     "output_type": "stream",
     "text": [
      "1it [00:00, 27.30it/s]\n",
      "1it [00:00, 32.08it/s]\n",
      "1it [00:00, 37.74it/s]\n",
      "1it [00:00, 36.07it/s]\n",
      "1it [00:00, 37.09it/s]\n",
      "1it [00:00, 44.76it/s]\n",
      "1it [00:00, 48.64it/s]\n",
      "0it [00:00, ?it/s]"
     ]
    },
    {
     "name": "stdout",
     "output_type": "stream",
     "text": [
      "* [TextCleaner] Cleaning text...\n",
      "* [TextCleaner] Cleaning text...\n",
      "* [TextCleaner] Cleaning text...\n",
      "* [TextCleaner] Cleaning text...\n",
      "* [TextCleaner] Cleaning text...\n",
      "* [TextCleaner] Cleaning text...\n",
      "* [TextCleaner] Cleaning text...\n"
     ]
    },
    {
     "name": "stderr",
     "output_type": "stream",
     "text": [
      "1it [00:00, 30.74it/s]\n",
      "1it [00:00, 37.46it/s]\n",
      "1it [00:00, 38.74it/s]\n",
      "1it [00:00, 30.78it/s]\n",
      "1it [00:00, 39.75it/s]\n",
      "1it [00:00, 39.88it/s]\n",
      "1it [00:00, 41.80it/s]\n",
      "0it [00:00, ?it/s]"
     ]
    },
    {
     "name": "stdout",
     "output_type": "stream",
     "text": [
      "* [TextCleaner] Cleaning text...\n",
      "* [TextCleaner] Cleaning text...\n",
      "* [TextCleaner] Cleaning text...\n",
      "* [TextCleaner] Cleaning text...\n",
      "* [TextCleaner] Cleaning text...\n",
      "* [TextCleaner] Cleaning text...\n",
      "* [TextCleaner] Cleaning text...\n"
     ]
    },
    {
     "name": "stderr",
     "output_type": "stream",
     "text": [
      "1it [00:00, 39.39it/s]\n",
      "1it [00:00, 39.69it/s]\n",
      "1it [00:00, 37.76it/s]\n",
      "1it [00:00, 28.34it/s]\n",
      "1it [00:00, 53.49it/s]\n",
      "1it [00:00, 130.01it/s]\n",
      "1it [00:00, 41.89it/s]\n",
      "1it [00:00, 38.57it/s]\n",
      "0it [00:00, ?it/s]"
     ]
    },
    {
     "name": "stdout",
     "output_type": "stream",
     "text": [
      "* [TextCleaner] Cleaning text...\n",
      "* [TextCleaner] Cleaning text...\n",
      "* [TextCleaner] Cleaning text...\n",
      "* [TextCleaner] Cleaning text...\n",
      "* [TextCleaner] Cleaning text...\n",
      "* [TextCleaner] Cleaning text...\n",
      "* [TextCleaner] Cleaning text...\n",
      "* [TextCleaner] Cleaning text...\n"
     ]
    },
    {
     "name": "stderr",
     "output_type": "stream",
     "text": [
      "1it [00:00, 37.27it/s]\n",
      "1it [00:00, 84.81it/s]\n",
      "1it [00:00, 36.33it/s]\n",
      "1it [00:00, 38.68it/s]\n",
      "1it [00:00, 39.43it/s]\n",
      "1it [00:00, 46.20it/s]\n",
      "1it [00:00, 43.46it/s]\n",
      "1it [00:00, 42.08it/s]\n",
      "0it [00:00, ?it/s]"
     ]
    },
    {
     "name": "stdout",
     "output_type": "stream",
     "text": [
      "* [TextCleaner] Cleaning text...\n",
      "* [TextCleaner] Cleaning text...\n",
      "* [TextCleaner] Cleaning text...\n",
      "* [TextCleaner] Cleaning text...\n",
      "* [TextCleaner] Cleaning text...\n",
      "* [TextCleaner] Cleaning text...\n",
      "* [TextCleaner] Cleaning text...\n",
      "* [TextCleaner] Cleaning text...\n"
     ]
    },
    {
     "name": "stderr",
     "output_type": "stream",
     "text": [
      "1it [00:00, 36.97it/s]\n",
      "1it [00:00, 36.95it/s]\n",
      "1it [00:00, 35.09it/s]\n",
      "1it [00:00, 34.25it/s]\n",
      "1it [00:00, 37.28it/s]\n",
      "1it [00:00, 51.22it/s]\n",
      "1it [00:00, 36.61it/s]\n",
      "0it [00:00, ?it/s]"
     ]
    },
    {
     "name": "stdout",
     "output_type": "stream",
     "text": [
      "* [TextCleaner] Cleaning text...\n",
      "* [TextCleaner] Cleaning text...\n",
      "* [TextCleaner] Cleaning text...\n",
      "* [TextCleaner] Cleaning text...\n",
      "* [TextCleaner] Cleaning text...\n",
      "* [TextCleaner] Cleaning text...\n",
      "* [TextCleaner] Cleaning text...\n"
     ]
    },
    {
     "name": "stderr",
     "output_type": "stream",
     "text": [
      "1it [00:00, 42.67it/s]\n",
      "1it [00:00, 37.32it/s]\n",
      "1it [00:00, 46.19it/s]\n",
      "1it [00:00, 40.86it/s]\n",
      "1it [00:00, 36.87it/s]\n",
      "1it [00:00, 39.53it/s]\n",
      "1it [00:00, 35.27it/s]\n",
      "0it [00:00, ?it/s]"
     ]
    },
    {
     "name": "stdout",
     "output_type": "stream",
     "text": [
      "* [TextCleaner] Cleaning text...\n",
      "* [TextCleaner] Cleaning text...\n",
      "* [TextCleaner] Cleaning text...\n",
      "* [TextCleaner] Cleaning text...\n",
      "* [TextCleaner] Cleaning text...\n",
      "* [TextCleaner] Cleaning text...\n",
      "* [TextCleaner] Cleaning text...\n"
     ]
    },
    {
     "name": "stderr",
     "output_type": "stream",
     "text": [
      "1it [00:00, 38.94it/s]\n",
      "1it [00:00, 208.08it/s]\n",
      "1it [00:00, 46.51it/s]\n",
      "1it [00:00, 37.13it/s]\n",
      "1it [00:00, 65.65it/s]\n",
      "1it [00:00, 43.90it/s]\n",
      "1it [00:00, 44.91it/s]\n",
      "1it [00:00, 33.21it/s]\n",
      "0it [00:00, ?it/s]"
     ]
    },
    {
     "name": "stdout",
     "output_type": "stream",
     "text": [
      "* [TextCleaner] Cleaning text...\n",
      "* [TextCleaner] Cleaning text...\n",
      "* [TextCleaner] Cleaning text...\n",
      "* [TextCleaner] Cleaning text...\n",
      "* [TextCleaner] Cleaning text...\n",
      "* [TextCleaner] Cleaning text...\n",
      "* [TextCleaner] Cleaning text...\n",
      "* [TextCleaner] Cleaning text...\n"
     ]
    },
    {
     "name": "stderr",
     "output_type": "stream",
     "text": [
      "1it [00:00, 36.08it/s]\n",
      "1it [00:00, 38.42it/s]\n",
      "1it [00:00, 45.64it/s]\n",
      "1it [00:00, 33.22it/s]\n",
      "1it [00:00, 38.99it/s]\n",
      "1it [00:00, 37.48it/s]\n",
      "1it [00:00, 43.06it/s]\n",
      "0it [00:00, ?it/s]"
     ]
    },
    {
     "name": "stdout",
     "output_type": "stream",
     "text": [
      "* [TextCleaner] Cleaning text...\n",
      "* [TextCleaner] Cleaning text...\n",
      "* [TextCleaner] Cleaning text...\n",
      "* [TextCleaner] Cleaning text...\n",
      "* [TextCleaner] Cleaning text...\n",
      "* [TextCleaner] Cleaning text...\n",
      "* [TextCleaner] Cleaning text...\n"
     ]
    },
    {
     "name": "stderr",
     "output_type": "stream",
     "text": [
      "1it [00:00, 33.99it/s]\n",
      "1it [00:00, 42.52it/s]\n",
      "1it [00:00, 30.93it/s]\n",
      "1it [00:00, 35.50it/s]\n",
      "1it [00:00, 31.36it/s]\n",
      "1it [00:00, 37.74it/s]\n",
      "1it [00:00, 73.97it/s]\n",
      "0it [00:00, ?it/s]"
     ]
    },
    {
     "name": "stdout",
     "output_type": "stream",
     "text": [
      "* [TextCleaner] Cleaning text...\n",
      "* [TextCleaner] Cleaning text...\n",
      "* [TextCleaner] Cleaning text...\n",
      "* [TextCleaner] Cleaning text...\n",
      "* [TextCleaner] Cleaning text...\n",
      "* [TextCleaner] Cleaning text...\n",
      "* [TextCleaner] Cleaning text...\n"
     ]
    },
    {
     "name": "stderr",
     "output_type": "stream",
     "text": [
      "1it [00:00, 33.62it/s]\n",
      "1it [00:00, 36.60it/s]\n",
      "1it [00:00, 85.33it/s]\n",
      "1it [00:00, 41.37it/s]\n",
      "1it [00:00, 49.53it/s]\n",
      "1it [00:00, 43.29it/s]\n",
      "1it [00:00, 38.53it/s]\n",
      "1it [00:00, 36.35it/s]\n",
      "0it [00:00, ?it/s]"
     ]
    },
    {
     "name": "stdout",
     "output_type": "stream",
     "text": [
      "* [TextCleaner] Cleaning text...\n",
      "* [TextCleaner] Cleaning text...\n",
      "* [TextCleaner] Cleaning text...\n",
      "* [TextCleaner] Cleaning text...\n",
      "* [TextCleaner] Cleaning text...\n",
      "* [TextCleaner] Cleaning text...\n",
      "* [TextCleaner] Cleaning text...\n",
      "* [TextCleaner] Cleaning text...\n"
     ]
    },
    {
     "name": "stderr",
     "output_type": "stream",
     "text": [
      "1it [00:00, 69.68it/s]\n",
      "1it [00:00, 28.62it/s]\n",
      "1it [00:00, 32.16it/s]\n",
      "1it [00:00, 37.47it/s]\n",
      "1it [00:00, 53.83it/s]\n",
      "1it [00:00, 36.92it/s]\n",
      "1it [00:00, 32.31it/s]\n",
      "0it [00:00, ?it/s]"
     ]
    },
    {
     "name": "stdout",
     "output_type": "stream",
     "text": [
      "* [TextCleaner] Cleaning text...\n",
      "* [TextCleaner] Cleaning text...\n",
      "* [TextCleaner] Cleaning text...\n",
      "* [TextCleaner] Cleaning text...\n",
      "* [TextCleaner] Cleaning text...\n",
      "* [TextCleaner] Cleaning text...\n",
      "* [TextCleaner] Cleaning text...\n"
     ]
    },
    {
     "name": "stderr",
     "output_type": "stream",
     "text": [
      "1it [00:00, 47.76it/s]\n",
      "1it [00:00, 85.53it/s]\n",
      "1it [00:00, 38.18it/s]\n",
      "1it [00:00, 37.29it/s]\n",
      "1it [00:00, 38.20it/s]\n",
      "1it [00:00, 37.74it/s]\n",
      "1it [00:00, 29.42it/s]\n",
      "0it [00:00, ?it/s]"
     ]
    },
    {
     "name": "stdout",
     "output_type": "stream",
     "text": [
      "* [TextCleaner] Cleaning text...\n",
      "* [TextCleaner] Cleaning text...\n",
      "* [TextCleaner] Cleaning text...\n",
      "* [TextCleaner] Cleaning text...\n",
      "* [TextCleaner] Cleaning text...\n",
      "* [TextCleaner] Cleaning text...\n",
      "* [TextCleaner] Cleaning text...\n"
     ]
    },
    {
     "name": "stderr",
     "output_type": "stream",
     "text": [
      "1it [00:00, 44.23it/s]\n",
      "1it [00:00, 26.61it/s]\n",
      "1it [00:00, 43.92it/s]\n",
      "1it [00:00, 35.09it/s]\n",
      "1it [00:00, 37.93it/s]\n",
      "1it [00:00, 45.42it/s]\n",
      "1it [00:00, 31.02it/s]\n"
     ]
    },
    {
     "name": "stdout",
     "output_type": "stream",
     "text": [
      "* [TextCleaner] Cleaning text...\n",
      "* [TextCleaner] Cleaning text...\n",
      "* [TextCleaner] Cleaning text...\n",
      "* [TextCleaner] Cleaning text...\n",
      "* [TextCleaner] Cleaning text...\n",
      "* [TextCleaner] Cleaning text...\n",
      "* [TextCleaner] Cleaning text...\n"
     ]
    },
    {
     "name": "stderr",
     "output_type": "stream",
     "text": [
      "1it [00:00, 36.78it/s]\n",
      "1it [00:00, 34.60it/s]\n",
      "1it [00:00, 38.31it/s]\n",
      "1it [00:00, 36.30it/s]\n",
      "1it [00:00, 38.02it/s]\n",
      "1it [00:00, 50.38it/s]\n",
      "1it [00:00, 37.59it/s]\n",
      "0it [00:00, ?it/s]"
     ]
    },
    {
     "name": "stdout",
     "output_type": "stream",
     "text": [
      "* [TextCleaner] Cleaning text...\n",
      "* [TextCleaner] Cleaning text...\n",
      "* [TextCleaner] Cleaning text...\n",
      "* [TextCleaner] Cleaning text...\n",
      "* [TextCleaner] Cleaning text...\n",
      "* [TextCleaner] Cleaning text...\n",
      "* [TextCleaner] Cleaning text...\n"
     ]
    },
    {
     "name": "stderr",
     "output_type": "stream",
     "text": [
      "1it [00:00, 42.78it/s]\n",
      "1it [00:00, 39.60it/s]\n",
      "1it [00:00, 46.96it/s]\n",
      "1it [00:00, 36.98it/s]\n",
      "1it [00:00, 45.90it/s]\n",
      "1it [00:00, 40.05it/s]\n",
      "1it [00:00, 31.44it/s]\n",
      "0it [00:00, ?it/s]"
     ]
    },
    {
     "name": "stdout",
     "output_type": "stream",
     "text": [
      "* [TextCleaner] Cleaning text...\n",
      "* [TextCleaner] Cleaning text...\n",
      "* [TextCleaner] Cleaning text...\n",
      "* [TextCleaner] Cleaning text...\n",
      "* [TextCleaner] Cleaning text...\n",
      "* [TextCleaner] Cleaning text...\n",
      "* [TextCleaner] Cleaning text...\n"
     ]
    },
    {
     "name": "stderr",
     "output_type": "stream",
     "text": [
      "1it [00:00, 31.11it/s]\n",
      "1it [00:00, 42.05it/s]\n",
      "1it [00:00, 35.68it/s]\n",
      "1it [00:00, 32.81it/s]\n",
      "1it [00:00, 36.97it/s]\n",
      "1it [00:00, 43.59it/s]\n",
      "1it [00:00, 35.85it/s]\n",
      "0it [00:00, ?it/s]"
     ]
    },
    {
     "name": "stdout",
     "output_type": "stream",
     "text": [
      "* [TextCleaner] Cleaning text...\n",
      "* [TextCleaner] Cleaning text...\n",
      "* [TextCleaner] Cleaning text...\n",
      "* [TextCleaner] Cleaning text...\n",
      "* [TextCleaner] Cleaning text...\n",
      "* [TextCleaner] Cleaning text...\n",
      "* [TextCleaner] Cleaning text...\n"
     ]
    },
    {
     "name": "stderr",
     "output_type": "stream",
     "text": [
      "1it [00:00, 42.06it/s]\n",
      "1it [00:00, 43.78it/s]\n",
      "1it [00:00, 33.10it/s]\n",
      "1it [00:00, 33.29it/s]\n",
      "1it [00:00, 36.26it/s]\n",
      "1it [00:00, 40.29it/s]\n",
      "1it [00:00, 37.38it/s]\n",
      "0it [00:00, ?it/s]"
     ]
    },
    {
     "name": "stdout",
     "output_type": "stream",
     "text": [
      "* [TextCleaner] Cleaning text...\n",
      "* [TextCleaner] Cleaning text...\n",
      "* [TextCleaner] Cleaning text...\n",
      "* [TextCleaner] Cleaning text...\n",
      "* [TextCleaner] Cleaning text...\n",
      "* [TextCleaner] Cleaning text...\n",
      "* [TextCleaner] Cleaning text...\n"
     ]
    },
    {
     "name": "stderr",
     "output_type": "stream",
     "text": [
      "1it [00:00, 29.35it/s]\n",
      "1it [00:00, 35.65it/s]\n",
      "1it [00:00, 35.36it/s]\n",
      "1it [00:00, 39.79it/s]\n",
      "0it [00:00, ?it/s]"
     ]
    },
    {
     "name": "stdout",
     "output_type": "stream",
     "text": [
      "* [TextCleaner] Cleaning text...\n",
      "* [TextCleaner] Cleaning text...\n",
      "* [TextCleaner] Cleaning text...\n",
      "* [TextCleaner] Cleaning text...\n"
     ]
    },
    {
     "name": "stderr",
     "output_type": "stream",
     "text": [
      "1it [00:00, 33.72it/s]\n",
      "1it [00:00, 38.40it/s]\n",
      "1it [00:00, 47.65it/s]\n",
      "1it [00:00, 40.85it/s]\n",
      "1it [00:00, 31.77it/s]\n",
      "1it [00:00, 38.33it/s]\n",
      "1it [00:00, 33.55it/s]\n",
      "0it [00:00, ?it/s]"
     ]
    },
    {
     "name": "stdout",
     "output_type": "stream",
     "text": [
      "* [TextCleaner] Cleaning text...\n",
      "* [TextCleaner] Cleaning text...\n",
      "* [TextCleaner] Cleaning text...\n",
      "* [TextCleaner] Cleaning text...\n",
      "* [TextCleaner] Cleaning text...\n",
      "* [TextCleaner] Cleaning text...\n",
      "* [TextCleaner] Cleaning text...\n"
     ]
    },
    {
     "name": "stderr",
     "output_type": "stream",
     "text": [
      "1it [00:00, 33.51it/s]\n",
      "1it [00:00, 37.67it/s]\n",
      "1it [00:00, 44.03it/s]\n",
      "1it [00:00, 38.77it/s]\n",
      "1it [00:00, 134.65it/s]\n",
      "1it [00:00, 39.41it/s]\n",
      "1it [00:00, 30.75it/s]\n",
      "1it [00:00, 37.95it/s]"
     ]
    },
    {
     "name": "stdout",
     "output_type": "stream",
     "text": [
      "* [TextCleaner] Cleaning text...\n",
      "* [TextCleaner] Cleaning text...\n",
      "* [TextCleaner] Cleaning text...\n",
      "* [TextCleaner] Cleaning text...\n",
      "* [TextCleaner] Cleaning text...\n",
      "* [TextCleaner] Cleaning text...\n",
      "* [TextCleaner] Cleaning text...\n"
     ]
    },
    {
     "name": "stderr",
     "output_type": "stream",
     "text": [
      "\n",
      "1it [00:00, 51.09it/s]\n",
      "1it [00:00, 36.52it/s]\n",
      "1it [00:00, 33.35it/s]\n",
      "1it [00:00, 33.91it/s]\n",
      "1it [00:00, 37.14it/s]\n",
      "1it [00:00, 32.86it/s]\n",
      "0it [00:00, ?it/s]"
     ]
    },
    {
     "name": "stdout",
     "output_type": "stream",
     "text": [
      "* [TextCleaner] Cleaning text...\n",
      "* [TextCleaner] Cleaning text...\n",
      "* [TextCleaner] Cleaning text...\n",
      "* [TextCleaner] Cleaning text...\n",
      "* [TextCleaner] Cleaning text...\n",
      "* [TextCleaner] Cleaning text...\n",
      "* [TextCleaner] Cleaning text...\n"
     ]
    },
    {
     "name": "stderr",
     "output_type": "stream",
     "text": [
      "1it [00:00, 28.20it/s]\n",
      "1it [00:00, 33.06it/s]\n",
      "1it [00:00, 39.07it/s]\n",
      "1it [00:00, 37.17it/s]\n",
      "1it [00:00, 79.96it/s]\n",
      "1it [00:00, 42.19it/s]\n",
      "1it [00:00, 39.92it/s]\n",
      "1it [00:00, 41.43it/s]\n",
      "0it [00:00, ?it/s]"
     ]
    },
    {
     "name": "stdout",
     "output_type": "stream",
     "text": [
      "* [TextCleaner] Cleaning text...\n",
      "* [TextCleaner] Cleaning text...\n",
      "* [TextCleaner] Cleaning text...\n",
      "* [TextCleaner] Cleaning text...\n",
      "* [TextCleaner] Cleaning text...\n",
      "* [TextCleaner] Cleaning text...\n",
      "* [TextCleaner] Cleaning text...\n",
      "* [TextCleaner] Cleaning text...\n"
     ]
    },
    {
     "name": "stderr",
     "output_type": "stream",
     "text": [
      "1it [00:00, 35.25it/s]\n",
      "1it [00:00, 33.35it/s]\n",
      "1it [00:00, 37.50it/s]\n",
      "1it [00:00, 33.85it/s]\n",
      "1it [00:00, 37.84it/s]\n",
      "1it [00:00, 31.75it/s]\n",
      "1it [00:00, 52.01it/s]\n"
     ]
    },
    {
     "name": "stdout",
     "output_type": "stream",
     "text": [
      "* [TextCleaner] Cleaning text...\n",
      "* [TextCleaner] Cleaning text...\n",
      "* [TextCleaner] Cleaning text...\n",
      "* [TextCleaner] Cleaning text...\n",
      "* [TextCleaner] Cleaning text...\n",
      "* [TextCleaner] Cleaning text...\n",
      "* [TextCleaner] Cleaning text...\n"
     ]
    },
    {
     "name": "stderr",
     "output_type": "stream",
     "text": [
      "1it [00:00, 41.07it/s]\n",
      "1it [00:00, 36.70it/s]\n",
      "1it [00:00, 36.40it/s]\n",
      "1it [00:00, 47.28it/s]\n",
      "1it [00:00, 40.74it/s]\n",
      "1it [00:00, 54.59it/s]\n",
      "1it [00:00, 47.43it/s]\n",
      "1it [00:00, 44.15it/s]\n",
      "0it [00:00, ?it/s]"
     ]
    },
    {
     "name": "stdout",
     "output_type": "stream",
     "text": [
      "* [TextCleaner] Cleaning text...\n",
      "* [TextCleaner] Cleaning text...\n",
      "* [TextCleaner] Cleaning text...\n",
      "* [TextCleaner] Cleaning text...\n",
      "* [TextCleaner] Cleaning text...\n",
      "* [TextCleaner] Cleaning text...\n",
      "* [TextCleaner] Cleaning text...\n",
      "* [TextCleaner] Cleaning text...\n"
     ]
    },
    {
     "name": "stderr",
     "output_type": "stream",
     "text": [
      "1it [00:00, 46.68it/s]\n",
      "1it [00:00, 32.38it/s]\n",
      "1it [00:00, 35.89it/s]\n",
      "1it [00:00, 45.51it/s]\n",
      "1it [00:00, 35.02it/s]\n",
      "1it [00:00, 38.05it/s]\n",
      "1it [00:00, 46.41it/s]\n",
      "0it [00:00, ?it/s]"
     ]
    },
    {
     "name": "stdout",
     "output_type": "stream",
     "text": [
      "* [TextCleaner] Cleaning text...\n",
      "* [TextCleaner] Cleaning text...\n",
      "* [TextCleaner] Cleaning text...\n",
      "* [TextCleaner] Cleaning text...\n",
      "* [TextCleaner] Cleaning text...\n",
      "* [TextCleaner] Cleaning text...\n",
      "* [TextCleaner] Cleaning text...\n"
     ]
    },
    {
     "name": "stderr",
     "output_type": "stream",
     "text": [
      "1it [00:00, 34.22it/s]\n",
      "1it [00:00, 36.12it/s]\n",
      "1it [00:00, 31.80it/s]\n",
      "1it [00:00, 34.38it/s]\n",
      "1it [00:00, 33.57it/s]\n",
      "1it [00:00, 38.13it/s]\n",
      "1it [00:00, 40.51it/s]\n",
      "0it [00:00, ?it/s]"
     ]
    },
    {
     "name": "stdout",
     "output_type": "stream",
     "text": [
      "* [TextCleaner] Cleaning text...\n",
      "* [TextCleaner] Cleaning text...\n",
      "* [TextCleaner] Cleaning text...\n",
      "* [TextCleaner] Cleaning text...\n",
      "* [TextCleaner] Cleaning text...\n",
      "* [TextCleaner] Cleaning text...\n",
      "* [TextCleaner] Cleaning text...\n"
     ]
    },
    {
     "name": "stderr",
     "output_type": "stream",
     "text": [
      "1it [00:00, 35.23it/s]\n",
      "1it [00:00, 44.11it/s]\n",
      "1it [00:00, 42.11it/s]\n",
      "1it [00:00, 125.93it/s]\n",
      "1it [00:00, 39.75it/s]\n",
      "1it [00:00, 38.76it/s]\n",
      "1it [00:00, 33.00it/s]\n",
      "1it [00:00, 39.83it/s]\n",
      "0it [00:00, ?it/s]"
     ]
    },
    {
     "name": "stdout",
     "output_type": "stream",
     "text": [
      "* [TextCleaner] Cleaning text...\n",
      "* [TextCleaner] Cleaning text...\n",
      "* [TextCleaner] Cleaning text...\n",
      "* [TextCleaner] Cleaning text...\n",
      "* [TextCleaner] Cleaning text...\n",
      "* [TextCleaner] Cleaning text...\n",
      "* [TextCleaner] Cleaning text...\n",
      "* [TextCleaner] Cleaning text...\n"
     ]
    },
    {
     "name": "stderr",
     "output_type": "stream",
     "text": [
      "1it [00:00, 37.01it/s]\n",
      "1it [00:00, 43.85it/s]\n",
      "1it [00:00, 50.91it/s]\n",
      "1it [00:00, 52.08it/s]\n",
      "1it [00:00, 42.56it/s]\n",
      "1it [00:00, 36.99it/s]\n",
      "1it [00:00, 36.31it/s]\n",
      "1it [00:00, 40.25it/s]\n",
      "0it [00:00, ?it/s]"
     ]
    },
    {
     "name": "stdout",
     "output_type": "stream",
     "text": [
      "* [TextCleaner] Cleaning text...\n",
      "* [TextCleaner] Cleaning text...\n",
      "* [TextCleaner] Cleaning text...\n",
      "* [TextCleaner] Cleaning text...\n",
      "* [TextCleaner] Cleaning text...\n",
      "* [TextCleaner] Cleaning text...\n",
      "* [TextCleaner] Cleaning text...\n",
      "* [TextCleaner] Cleaning text...\n"
     ]
    },
    {
     "name": "stderr",
     "output_type": "stream",
     "text": [
      "1it [00:00, 32.80it/s]\n",
      "1it [00:00, 45.06it/s]\n",
      "1it [00:00, 162.12it/s]\n",
      "1it [00:00, 34.63it/s]\n",
      "1it [00:00, 52.59it/s]\n",
      "1it [00:00, 34.86it/s]\n",
      "1it [00:00, 44.62it/s]\n",
      "1it [00:00, 34.00it/s]\n",
      "0it [00:00, ?it/s]"
     ]
    },
    {
     "name": "stdout",
     "output_type": "stream",
     "text": [
      "* [TextCleaner] Cleaning text...\n",
      "* [TextCleaner] Cleaning text...\n",
      "* [TextCleaner] Cleaning text...\n",
      "* [TextCleaner] Cleaning text...\n",
      "* [TextCleaner] Cleaning text...\n",
      "* [TextCleaner] Cleaning text...\n",
      "* [TextCleaner] Cleaning text...\n",
      "* [TextCleaner] Cleaning text...\n"
     ]
    },
    {
     "name": "stderr",
     "output_type": "stream",
     "text": [
      "1it [00:00, 40.16it/s]\n",
      "1it [00:00, 51.12it/s]\n",
      "1it [00:00, 45.14it/s]\n",
      "1it [00:00, 33.09it/s]\n",
      "1it [00:00, 33.09it/s]\n",
      "1it [00:00, 40.48it/s]\n",
      "1it [00:00, 38.28it/s]\n",
      "0it [00:00, ?it/s]"
     ]
    },
    {
     "name": "stdout",
     "output_type": "stream",
     "text": [
      "* [TextCleaner] Cleaning text...\n",
      "* [TextCleaner] Cleaning text...\n",
      "* [TextCleaner] Cleaning text...\n",
      "* [TextCleaner] Cleaning text...\n",
      "* [TextCleaner] Cleaning text...\n",
      "* [TextCleaner] Cleaning text...\n",
      "* [TextCleaner] Cleaning text...\n"
     ]
    },
    {
     "name": "stderr",
     "output_type": "stream",
     "text": [
      "1it [00:00, 45.77it/s]\n",
      "1it [00:00, 38.41it/s]\n",
      "1it [00:00, 35.75it/s]\n",
      "1it [00:00, 42.45it/s]\n",
      "1it [00:00, 34.91it/s]\n",
      "1it [00:00, 40.30it/s]\n",
      "1it [00:00, 38.17it/s]\n",
      "0it [00:00, ?it/s]"
     ]
    },
    {
     "name": "stdout",
     "output_type": "stream",
     "text": [
      "* [TextCleaner] Cleaning text...\n",
      "* [TextCleaner] Cleaning text...\n",
      "* [TextCleaner] Cleaning text...\n",
      "* [TextCleaner] Cleaning text...\n",
      "* [TextCleaner] Cleaning text...\n",
      "* [TextCleaner] Cleaning text...\n",
      "* [TextCleaner] Cleaning text...\n"
     ]
    },
    {
     "name": "stderr",
     "output_type": "stream",
     "text": [
      "1it [00:00, 38.94it/s]\n",
      "1it [00:00, 34.49it/s]\n",
      "1it [00:00, 37.29it/s]\n",
      "1it [00:00, 43.50it/s]\n",
      "1it [00:00, 31.40it/s]\n",
      "1it [00:00, 32.38it/s]\n",
      "0it [00:00, ?it/s]"
     ]
    },
    {
     "name": "stdout",
     "output_type": "stream",
     "text": [
      "* [TextCleaner] Cleaning text...\n",
      "* [TextCleaner] Cleaning text...\n",
      "* [TextCleaner] Cleaning text...\n",
      "* [TextCleaner] Cleaning text...\n",
      "* [TextCleaner] Cleaning text...\n",
      "* [TextCleaner] Cleaning text...\n"
     ]
    },
    {
     "name": "stderr",
     "output_type": "stream",
     "text": [
      "1it [00:00, 30.68it/s]\n",
      "1it [00:00, 58.04it/s]\n",
      "1it [00:00, 38.43it/s]\n",
      "1it [00:00, 34.42it/s]\n",
      "1it [00:00, 31.35it/s]\n",
      "1it [00:00, 52.44it/s]\n",
      "1it [00:00, 36.82it/s]\n",
      "0it [00:00, ?it/s]"
     ]
    },
    {
     "name": "stdout",
     "output_type": "stream",
     "text": [
      "* [TextCleaner] Cleaning text...\n",
      "* [TextCleaner] Cleaning text...\n",
      "* [TextCleaner] Cleaning text...\n",
      "* [TextCleaner] Cleaning text...\n",
      "* [TextCleaner] Cleaning text...\n",
      "* [TextCleaner] Cleaning text...\n",
      "* [TextCleaner] Cleaning text...\n"
     ]
    },
    {
     "name": "stderr",
     "output_type": "stream",
     "text": [
      "1it [00:00, 39.89it/s]\n",
      "1it [00:00, 51.56it/s]\n",
      "1it [00:00, 29.95it/s]\n",
      "1it [00:00, 41.32it/s]\n",
      "1it [00:00, 35.09it/s]\n",
      "1it [00:00, 57.26it/s]\n",
      "1it [00:00, 41.61it/s]\n",
      "0it [00:00, ?it/s]"
     ]
    },
    {
     "name": "stdout",
     "output_type": "stream",
     "text": [
      "* [TextCleaner] Cleaning text...\n",
      "* [TextCleaner] Cleaning text...\n",
      "* [TextCleaner] Cleaning text...\n",
      "* [TextCleaner] Cleaning text...\n",
      "* [TextCleaner] Cleaning text...\n",
      "* [TextCleaner] Cleaning text...\n",
      "* [TextCleaner] Cleaning text...\n"
     ]
    },
    {
     "name": "stderr",
     "output_type": "stream",
     "text": [
      "1it [00:00, 37.00it/s]\n",
      "1it [00:00, 40.24it/s]\n",
      "1it [00:00, 42.59it/s]\n",
      "1it [00:00, 35.14it/s]\n",
      "1it [00:00, 41.64it/s]\n",
      "1it [00:00, 28.46it/s]\n",
      "1it [00:00, 34.28it/s]\n",
      "0it [00:00, ?it/s]"
     ]
    },
    {
     "name": "stdout",
     "output_type": "stream",
     "text": [
      "* [TextCleaner] Cleaning text...\n",
      "* [TextCleaner] Cleaning text...\n",
      "* [TextCleaner] Cleaning text...\n",
      "* [TextCleaner] Cleaning text...\n",
      "* [TextCleaner] Cleaning text...\n",
      "* [TextCleaner] Cleaning text...\n",
      "* [TextCleaner] Cleaning text...\n"
     ]
    },
    {
     "name": "stderr",
     "output_type": "stream",
     "text": [
      "1it [00:00, 27.51it/s]\n",
      "1it [00:00, 34.03it/s]\n",
      "1it [00:00, 32.81it/s]\n",
      "1it [00:00, 40.83it/s]\n",
      "1it [00:00, 49.23it/s]\n",
      "1it [00:00, 38.40it/s]\n",
      "1it [00:00, 38.55it/s]\n",
      "0it [00:00, ?it/s]"
     ]
    },
    {
     "name": "stdout",
     "output_type": "stream",
     "text": [
      "* [TextCleaner] Cleaning text...\n",
      "* [TextCleaner] Cleaning text...\n",
      "* [TextCleaner] Cleaning text...\n",
      "* [TextCleaner] Cleaning text...\n",
      "* [TextCleaner] Cleaning text...\n",
      "* [TextCleaner] Cleaning text...\n",
      "* [TextCleaner] Cleaning text...\n"
     ]
    },
    {
     "name": "stderr",
     "output_type": "stream",
     "text": [
      "1it [00:00, 30.30it/s]\n",
      "1it [00:00, 52.51it/s]\n",
      "1it [00:00, 37.18it/s]\n",
      "1it [00:00, 51.24it/s]\n",
      "1it [00:00, 42.64it/s]\n",
      "1it [00:00, 39.60it/s]\n",
      "1it [00:00, 42.52it/s]\n",
      "0it [00:00, ?it/s]"
     ]
    },
    {
     "name": "stdout",
     "output_type": "stream",
     "text": [
      "* [TextCleaner] Cleaning text...\n",
      "* [TextCleaner] Cleaning text...\n",
      "* [TextCleaner] Cleaning text...\n",
      "* [TextCleaner] Cleaning text...\n",
      "* [TextCleaner] Cleaning text...\n",
      "* [TextCleaner] Cleaning text...\n",
      "* [TextCleaner] Cleaning text...\n"
     ]
    },
    {
     "name": "stderr",
     "output_type": "stream",
     "text": [
      "1it [00:00, 33.78it/s]\n",
      "1it [00:00, 38.76it/s]\n",
      "1it [00:00, 39.43it/s]\n",
      "1it [00:00, 39.27it/s]\n",
      "1it [00:00, 45.94it/s]\n",
      "1it [00:00, 46.78it/s]\n",
      "1it [00:00, 30.53it/s]\n",
      "0it [00:00, ?it/s]"
     ]
    },
    {
     "name": "stdout",
     "output_type": "stream",
     "text": [
      "* [TextCleaner] Cleaning text...\n",
      "* [TextCleaner] Cleaning text...\n",
      "* [TextCleaner] Cleaning text...\n",
      "* [TextCleaner] Cleaning text...\n",
      "* [TextCleaner] Cleaning text...\n",
      "* [TextCleaner] Cleaning text...\n",
      "* [TextCleaner] Cleaning text...\n"
     ]
    },
    {
     "name": "stderr",
     "output_type": "stream",
     "text": [
      "1it [00:00, 48.65it/s]\n",
      "1it [00:00, 34.15it/s]\n",
      "1it [00:00, 39.16it/s]\n",
      "1it [00:00, 42.14it/s]\n",
      "1it [00:00, 31.94it/s]\n",
      "1it [00:00, 37.97it/s]\n",
      "1it [00:00, 35.59it/s]\n",
      "0it [00:00, ?it/s]"
     ]
    },
    {
     "name": "stdout",
     "output_type": "stream",
     "text": [
      "* [TextCleaner] Cleaning text...\n",
      "* [TextCleaner] Cleaning text...\n",
      "* [TextCleaner] Cleaning text...\n",
      "* [TextCleaner] Cleaning text...\n",
      "* [TextCleaner] Cleaning text...\n",
      "* [TextCleaner] Cleaning text...\n",
      "* [TextCleaner] Cleaning text...\n"
     ]
    },
    {
     "name": "stderr",
     "output_type": "stream",
     "text": [
      "1it [00:00, 38.14it/s]\n",
      "1it [00:00, 46.56it/s]\n",
      "1it [00:00, 35.42it/s]\n",
      "1it [00:00, 31.80it/s]\n",
      "1it [00:00, 32.46it/s]\n",
      "1it [00:00, 34.77it/s]\n",
      "0it [00:00, ?it/s]"
     ]
    },
    {
     "name": "stdout",
     "output_type": "stream",
     "text": [
      "* [TextCleaner] Cleaning text...\n",
      "* [TextCleaner] Cleaning text...\n",
      "* [TextCleaner] Cleaning text...\n",
      "* [TextCleaner] Cleaning text...\n",
      "* [TextCleaner] Cleaning text...\n",
      "* [TextCleaner] Cleaning text...\n"
     ]
    },
    {
     "name": "stderr",
     "output_type": "stream",
     "text": [
      "1it [00:00, 34.51it/s]\n",
      "1it [00:00, 41.21it/s]\n",
      "1it [00:00, 36.55it/s]\n",
      "1it [00:00, 45.25it/s]\n",
      "1it [00:00, 34.45it/s]\n",
      "1it [00:00, 32.26it/s]\n",
      "1it [00:00, 37.82it/s]\n",
      "0it [00:00, ?it/s]"
     ]
    },
    {
     "name": "stdout",
     "output_type": "stream",
     "text": [
      "* [TextCleaner] Cleaning text...\n",
      "* [TextCleaner] Cleaning text...\n",
      "* [TextCleaner] Cleaning text...\n",
      "* [TextCleaner] Cleaning text...\n",
      "* [TextCleaner] Cleaning text...\n",
      "* [TextCleaner] Cleaning text...\n",
      "* [TextCleaner] Cleaning text...\n"
     ]
    },
    {
     "name": "stderr",
     "output_type": "stream",
     "text": [
      "1it [00:00, 34.07it/s]\n",
      "1it [00:00, 45.24it/s]\n",
      "1it [00:00, 29.07it/s]\n",
      "1it [00:00, 47.34it/s]\n",
      "1it [00:00, 117.13it/s]\n",
      "1it [00:00, 81.12it/s]\n",
      "1it [00:00, 33.22it/s]\n",
      "1it [00:00, 41.97it/s]\n",
      "0it [00:00, ?it/s]"
     ]
    },
    {
     "name": "stdout",
     "output_type": "stream",
     "text": [
      "* [TextCleaner] Cleaning text...\n",
      "* [TextCleaner] Cleaning text...\n",
      "* [TextCleaner] Cleaning text...\n",
      "* [TextCleaner] Cleaning text...\n",
      "* [TextCleaner] Cleaning text...\n",
      "* [TextCleaner] Cleaning text...\n",
      "* [TextCleaner] Cleaning text...\n",
      "* [TextCleaner] Cleaning text...\n"
     ]
    },
    {
     "name": "stderr",
     "output_type": "stream",
     "text": [
      "1it [00:00, 36.78it/s]\n",
      "1it [00:00, 44.45it/s]\n",
      "1it [00:00, 42.31it/s]\n",
      "1it [00:00, 46.36it/s]\n",
      "1it [00:00, 31.85it/s]\n",
      "1it [00:00, 37.58it/s]\n",
      "1it [00:00, 37.23it/s]\n",
      "0it [00:00, ?it/s]"
     ]
    },
    {
     "name": "stdout",
     "output_type": "stream",
     "text": [
      "* [TextCleaner] Cleaning text...\n",
      "* [TextCleaner] Cleaning text...\n",
      "* [TextCleaner] Cleaning text...\n",
      "* [TextCleaner] Cleaning text...\n",
      "* [TextCleaner] Cleaning text...\n",
      "* [TextCleaner] Cleaning text...\n",
      "* [TextCleaner] Cleaning text...\n"
     ]
    },
    {
     "name": "stderr",
     "output_type": "stream",
     "text": [
      "1it [00:00, 24.56it/s]\n",
      "1it [00:00, 41.49it/s]\n",
      "1it [00:00, 43.68it/s]\n",
      "1it [00:00, 34.10it/s]\n",
      "1it [00:00, 40.77it/s]\n",
      "1it [00:00, 53.39it/s]\n",
      "1it [00:00, 33.23it/s]\n",
      "0it [00:00, ?it/s]"
     ]
    },
    {
     "name": "stdout",
     "output_type": "stream",
     "text": [
      "* [TextCleaner] Cleaning text...\n",
      "* [TextCleaner] Cleaning text...\n",
      "* [TextCleaner] Cleaning text...\n",
      "* [TextCleaner] Cleaning text...\n",
      "* [TextCleaner] Cleaning text...\n",
      "* [TextCleaner] Cleaning text...\n",
      "* [TextCleaner] Cleaning text...\n"
     ]
    },
    {
     "name": "stderr",
     "output_type": "stream",
     "text": [
      "1it [00:00, 32.57it/s]\n",
      "1it [00:00, 40.25it/s]\n",
      "1it [00:00, 37.60it/s]\n",
      "1it [00:00, 34.36it/s]\n",
      "1it [00:00, 40.75it/s]\n",
      "1it [00:00, 33.88it/s]\n",
      "1it [00:00, 46.28it/s]\n",
      "0it [00:00, ?it/s]"
     ]
    },
    {
     "name": "stdout",
     "output_type": "stream",
     "text": [
      "* [TextCleaner] Cleaning text...\n",
      "* [TextCleaner] Cleaning text...\n",
      "* [TextCleaner] Cleaning text...\n",
      "* [TextCleaner] Cleaning text...\n",
      "* [TextCleaner] Cleaning text...\n",
      "* [TextCleaner] Cleaning text...\n",
      "* [TextCleaner] Cleaning text...\n"
     ]
    },
    {
     "name": "stderr",
     "output_type": "stream",
     "text": [
      "1it [00:00, 41.22it/s]\n",
      "1it [00:00, 45.03it/s]\n",
      "1it [00:00, 39.90it/s]\n",
      "1it [00:00, 42.86it/s]\n",
      "1it [00:00, 27.33it/s]\n",
      "1it [00:00, 47.79it/s]\n",
      "1it [00:00, 37.34it/s]\n",
      "0it [00:00, ?it/s]"
     ]
    },
    {
     "name": "stdout",
     "output_type": "stream",
     "text": [
      "* [TextCleaner] Cleaning text...\n",
      "* [TextCleaner] Cleaning text...\n",
      "* [TextCleaner] Cleaning text...\n",
      "* [TextCleaner] Cleaning text...\n",
      "* [TextCleaner] Cleaning text...\n",
      "* [TextCleaner] Cleaning text...\n",
      "* [TextCleaner] Cleaning text...\n"
     ]
    },
    {
     "name": "stderr",
     "output_type": "stream",
     "text": [
      "1it [00:00, 36.15it/s]\n",
      "1it [00:00, 33.30it/s]\n",
      "1it [00:00, 40.45it/s]\n",
      "1it [00:00, 29.71it/s]\n",
      "1it [00:00, 33.04it/s]\n",
      "1it [00:00, 37.29it/s]\n",
      "1it [00:00, 38.59it/s]"
     ]
    },
    {
     "name": "stdout",
     "output_type": "stream",
     "text": [
      "* [TextCleaner] Cleaning text...\n",
      "* [TextCleaner] Cleaning text...\n",
      "* [TextCleaner] Cleaning text...\n",
      "* [TextCleaner] Cleaning text...\n",
      "* [TextCleaner] Cleaning text...\n",
      "* [TextCleaner] Cleaning text...\n"
     ]
    },
    {
     "name": "stderr",
     "output_type": "stream",
     "text": [
      "\n",
      "1it [00:00, 27.95it/s]\n",
      "1it [00:00, 40.72it/s]\n",
      "1it [00:00, 34.31it/s]\n",
      "1it [00:00, 33.16it/s]\n",
      "1it [00:00, 76.27it/s]\n",
      "1it [00:00, 40.38it/s]\n",
      "1it [00:00, 42.81it/s]\n",
      "1it [00:00, 45.30it/s]"
     ]
    },
    {
     "name": "stdout",
     "output_type": "stream",
     "text": [
      "* [TextCleaner] Cleaning text...\n",
      "* [TextCleaner] Cleaning text...\n",
      "* [TextCleaner] Cleaning text...\n",
      "* [TextCleaner] Cleaning text...\n",
      "* [TextCleaner] Cleaning text...\n",
      "* [TextCleaner] Cleaning text...\n",
      "* [TextCleaner] Cleaning text...\n",
      "* [TextCleaner] Cleaning text...\n",
      "* [TextCleaner] Cleaning text..."
     ]
    },
    {
     "name": "stderr",
     "output_type": "stream",
     "text": [
      "\n",
      "1it [00:00, 39.22it/s]\n",
      "1it [00:00, 30.21it/s]\n",
      "1it [00:00, 33.27it/s]\n",
      "1it [00:00, 39.87it/s]\n",
      "1it [00:00, 35.29it/s]\n",
      "1it [00:00, 53.95it/s]\n",
      "1it [00:00, 60.07it/s]\n",
      "0it [00:00, ?it/s]"
     ]
    },
    {
     "name": "stdout",
     "output_type": "stream",
     "text": [
      "\n",
      "* [TextCleaner] Cleaning text...\n",
      "* [TextCleaner] Cleaning text...\n",
      "* [TextCleaner] Cleaning text...\n",
      "* [TextCleaner] Cleaning text...\n",
      "* [TextCleaner] Cleaning text...\n",
      "* [TextCleaner] Cleaning text...\n",
      "* [TextCleaner] Cleaning text...\n"
     ]
    },
    {
     "name": "stderr",
     "output_type": "stream",
     "text": [
      "1it [00:00, 35.63it/s]\n",
      "1it [00:00, 33.39it/s]\n",
      "1it [00:00, 38.71it/s]\n",
      "1it [00:00, 42.64it/s]\n",
      "1it [00:00, 39.34it/s]\n",
      "1it [00:00, 37.76it/s]\n",
      "1it [00:00, 47.19it/s]\n",
      "0it [00:00, ?it/s]"
     ]
    },
    {
     "name": "stdout",
     "output_type": "stream",
     "text": [
      "* [TextCleaner] Cleaning text...\n",
      "* [TextCleaner] Cleaning text...\n",
      "* [TextCleaner] Cleaning text...\n",
      "* [TextCleaner] Cleaning text...\n",
      "* [TextCleaner] Cleaning text...\n",
      "* [TextCleaner] Cleaning text...\n",
      "* [TextCleaner] Cleaning text...\n"
     ]
    },
    {
     "name": "stderr",
     "output_type": "stream",
     "text": [
      "1it [00:00, 39.30it/s]\n",
      "1it [00:00, 45.63it/s]\n",
      "1it [00:00, 32.53it/s]\n",
      "1it [00:00, 34.01it/s]\n",
      "1it [00:00, 34.79it/s]\n",
      "1it [00:00, 39.40it/s]\n",
      "1it [00:00, 33.59it/s]\n",
      "0it [00:00, ?it/s]"
     ]
    },
    {
     "name": "stdout",
     "output_type": "stream",
     "text": [
      "* [TextCleaner] Cleaning text...\n",
      "* [TextCleaner] Cleaning text...\n",
      "* [TextCleaner] Cleaning text...\n",
      "* [TextCleaner] Cleaning text...\n",
      "* [TextCleaner] Cleaning text...\n",
      "* [TextCleaner] Cleaning text...\n",
      "* [TextCleaner] Cleaning text...\n"
     ]
    },
    {
     "name": "stderr",
     "output_type": "stream",
     "text": [
      "1it [00:00, 32.03it/s]\n",
      "1it [00:00, 44.64it/s]\n",
      "1it [00:00, 34.14it/s]\n",
      "1it [00:00, 38.27it/s]\n",
      "1it [00:00, 31.26it/s]\n",
      "1it [00:00, 51.23it/s]\n",
      "1it [00:00, 43.96it/s]\n",
      "0it [00:00, ?it/s]"
     ]
    },
    {
     "name": "stdout",
     "output_type": "stream",
     "text": [
      "* [TextCleaner] Cleaning text...\n",
      "* [TextCleaner] Cleaning text...\n",
      "* [TextCleaner] Cleaning text...\n",
      "* [TextCleaner] Cleaning text...\n",
      "* [TextCleaner] Cleaning text...\n",
      "* [TextCleaner] Cleaning text...\n",
      "* [TextCleaner] Cleaning text...\n"
     ]
    },
    {
     "name": "stderr",
     "output_type": "stream",
     "text": [
      "1it [00:00, 35.12it/s]\n",
      "1it [00:00, 41.48it/s]\n",
      "1it [00:00, 39.38it/s]\n",
      "1it [00:00, 35.82it/s]\n",
      "1it [00:00, 45.20it/s]\n",
      "1it [00:00, 46.18it/s]\n",
      "1it [00:00, 39.76it/s]\n",
      "1it [00:00, 48.94it/s]"
     ]
    },
    {
     "name": "stdout",
     "output_type": "stream",
     "text": [
      "* [TextCleaner] Cleaning text...\n",
      "* [TextCleaner] Cleaning text...\n",
      "* [TextCleaner] Cleaning text...\n",
      "* [TextCleaner] Cleaning text...\n",
      "* [TextCleaner] Cleaning text...\n",
      "* [TextCleaner] Cleaning text...\n",
      "* [TextCleaner] Cleaning text...\n"
     ]
    },
    {
     "name": "stderr",
     "output_type": "stream",
     "text": [
      "\n",
      "1it [00:00, 37.50it/s]\n",
      "1it [00:00, 42.85it/s]\n",
      "1it [00:00, 39.94it/s]\n",
      "1it [00:00, 31.51it/s]\n",
      "1it [00:00, 32.25it/s]\n",
      "1it [00:00, 36.91it/s]\n",
      "1it [00:00, 43.97it/s]\n",
      "0it [00:00, ?it/s]"
     ]
    },
    {
     "name": "stdout",
     "output_type": "stream",
     "text": [
      "* [TextCleaner] Cleaning text...\n",
      "* [TextCleaner] Cleaning text...\n",
      "* [TextCleaner] Cleaning text...\n",
      "* [TextCleaner] Cleaning text...\n",
      "* [TextCleaner] Cleaning text...\n",
      "* [TextCleaner] Cleaning text...\n",
      "* [TextCleaner] Cleaning text...\n",
      "* [TextCleaner] Cleaning text...\n"
     ]
    },
    {
     "name": "stderr",
     "output_type": "stream",
     "text": [
      "1it [00:00, 32.29it/s]\n",
      "1it [00:00, 37.28it/s]\n",
      "1it [00:00, 38.42it/s]\n",
      "1it [00:00, 36.53it/s]\n",
      "1it [00:00, 41.26it/s]\n",
      "1it [00:00, 41.55it/s]\n",
      "1it [00:00, 36.37it/s]\n",
      "0it [00:00, ?it/s]"
     ]
    },
    {
     "name": "stdout",
     "output_type": "stream",
     "text": [
      "* [TextCleaner] Cleaning text...\n",
      "* [TextCleaner] Cleaning text...\n",
      "* [TextCleaner] Cleaning text...\n",
      "* [TextCleaner] Cleaning text...\n",
      "* [TextCleaner] Cleaning text...\n",
      "* [TextCleaner] Cleaning text...\n",
      "* [TextCleaner] Cleaning text...\n"
     ]
    },
    {
     "name": "stderr",
     "output_type": "stream",
     "text": [
      "1it [00:00, 28.19it/s]\n",
      "1it [00:00, 39.10it/s]\n",
      "1it [00:00, 39.36it/s]\n",
      "1it [00:00, 29.11it/s]\n",
      "1it [00:00, 72.12it/s]\n",
      "1it [00:00, 37.64it/s]\n",
      "1it [00:00, 31.68it/s]\n",
      "0it [00:00, ?it/s]"
     ]
    },
    {
     "name": "stdout",
     "output_type": "stream",
     "text": [
      "* [TextCleaner] Cleaning text...\n",
      "* [TextCleaner] Cleaning text...\n",
      "* [TextCleaner] Cleaning text...\n",
      "* [TextCleaner] Cleaning text...\n",
      "* [TextCleaner] Cleaning text...\n",
      "* [TextCleaner] Cleaning text...\n",
      "* [TextCleaner] Cleaning text...\n"
     ]
    },
    {
     "name": "stderr",
     "output_type": "stream",
     "text": [
      "1it [00:00, 36.97it/s]\n",
      "1it [00:00, 46.14it/s]\n",
      "1it [00:00, 37.68it/s]\n",
      "1it [00:00, 40.79it/s]\n",
      "1it [00:00, 38.02it/s]\n",
      "1it [00:00, 40.20it/s]\n",
      "1it [00:00, 29.21it/s]\n",
      "0it [00:00, ?it/s]"
     ]
    },
    {
     "name": "stdout",
     "output_type": "stream",
     "text": [
      "* [TextCleaner] Cleaning text...\n",
      "* [TextCleaner] Cleaning text...\n",
      "* [TextCleaner] Cleaning text...\n",
      "* [TextCleaner] Cleaning text...\n",
      "* [TextCleaner] Cleaning text...\n",
      "* [TextCleaner] Cleaning text...\n",
      "* [TextCleaner] Cleaning text...\n"
     ]
    },
    {
     "name": "stderr",
     "output_type": "stream",
     "text": [
      "1it [00:00, 37.56it/s]\n",
      "1it [00:00, 35.38it/s]\n",
      "1it [00:00, 36.20it/s]\n",
      "1it [00:00, 32.80it/s]\n",
      "1it [00:00, 38.68it/s]\n",
      "1it [00:00, 43.63it/s]\n",
      "1it [00:00, 31.57it/s]\n",
      "0it [00:00, ?it/s]"
     ]
    },
    {
     "name": "stdout",
     "output_type": "stream",
     "text": [
      "* [TextCleaner] Cleaning text...\n",
      "* [TextCleaner] Cleaning text...\n",
      "* [TextCleaner] Cleaning text...\n",
      "* [TextCleaner] Cleaning text...\n",
      "* [TextCleaner] Cleaning text...\n",
      "* [TextCleaner] Cleaning text...\n",
      "* [TextCleaner] Cleaning text...\n"
     ]
    },
    {
     "name": "stderr",
     "output_type": "stream",
     "text": [
      "1it [00:00, 38.30it/s]\n",
      "1it [00:00, 35.57it/s]\n",
      "1it [00:00, 41.96it/s]\n",
      "1it [00:00, 37.16it/s]\n",
      "1it [00:00, 29.78it/s]\n",
      "1it [00:00, 40.79it/s]\n",
      "1it [00:00, 32.50it/s]\n",
      "0it [00:00, ?it/s]"
     ]
    },
    {
     "name": "stdout",
     "output_type": "stream",
     "text": [
      "* [TextCleaner] Cleaning text...\n",
      "* [TextCleaner] Cleaning text...\n",
      "* [TextCleaner] Cleaning text...\n",
      "* [TextCleaner] Cleaning text...\n",
      "* [TextCleaner] Cleaning text...\n",
      "* [TextCleaner] Cleaning text...\n",
      "* [TextCleaner] Cleaning text...\n"
     ]
    },
    {
     "name": "stderr",
     "output_type": "stream",
     "text": [
      "1it [00:00, 34.00it/s]\n",
      "1it [00:00, 50.90it/s]\n",
      "1it [00:00, 43.32it/s]\n",
      "1it [00:00, 33.97it/s]\n",
      "1it [00:00, 43.03it/s]\n",
      "1it [00:00, 33.83it/s]\n",
      "1it [00:00, 33.64it/s]\n",
      "0it [00:00, ?it/s]"
     ]
    },
    {
     "name": "stdout",
     "output_type": "stream",
     "text": [
      "* [TextCleaner] Cleaning text...\n",
      "* [TextCleaner] Cleaning text...\n",
      "* [TextCleaner] Cleaning text...\n",
      "* [TextCleaner] Cleaning text...\n",
      "* [TextCleaner] Cleaning text...\n",
      "* [TextCleaner] Cleaning text...\n",
      "* [TextCleaner] Cleaning text...\n"
     ]
    },
    {
     "name": "stderr",
     "output_type": "stream",
     "text": [
      "1it [00:00, 36.49it/s]\n",
      "1it [00:00, 40.13it/s]\n",
      "1it [00:00, 40.29it/s]\n",
      "1it [00:00, 268.06it/s]\n",
      "1it [00:00, 36.08it/s]\n",
      "1it [00:00, 37.81it/s]\n",
      "1it [00:00, 47.80it/s]\n",
      "1it [00:00, 49.79it/s]\n",
      "0it [00:00, ?it/s]"
     ]
    },
    {
     "name": "stdout",
     "output_type": "stream",
     "text": [
      "* [TextCleaner] Cleaning text...\n",
      "* [TextCleaner] Cleaning text...\n",
      "* [TextCleaner] Cleaning text...\n",
      "* [TextCleaner] Cleaning text...\n",
      "* [TextCleaner] Cleaning text...\n",
      "* [TextCleaner] Cleaning text...\n",
      "* [TextCleaner] Cleaning text...\n",
      "* [TextCleaner] Cleaning text...\n"
     ]
    },
    {
     "name": "stderr",
     "output_type": "stream",
     "text": [
      "1it [00:00, 34.67it/s]\n",
      "1it [00:00, 47.01it/s]\n",
      "1it [00:00, 34.50it/s]\n",
      "1it [00:00, 32.93it/s]\n",
      "1it [00:00, 34.22it/s]\n",
      "1it [00:00, 42.65it/s]\n",
      "1it [00:00, 107.08it/s]\n",
      "1it [00:00, 102.60it/s]\n",
      "0it [00:00, ?it/s]"
     ]
    },
    {
     "name": "stdout",
     "output_type": "stream",
     "text": [
      "* [TextCleaner] Cleaning text...\n",
      "* [TextCleaner] Cleaning text...\n",
      "* [TextCleaner] Cleaning text...\n",
      "* [TextCleaner] Cleaning text...\n",
      "* [TextCleaner] Cleaning text...\n",
      "* [TextCleaner] Cleaning text...\n",
      "* [TextCleaner] Cleaning text...\n",
      "* [TextCleaner] Cleaning text...\n"
     ]
    },
    {
     "name": "stderr",
     "output_type": "stream",
     "text": [
      "1it [00:00, 34.17it/s]\n",
      "1it [00:00, 33.98it/s]\n",
      "1it [00:00, 30.49it/s]\n",
      "1it [00:00, 38.87it/s]\n",
      "1it [00:00, 48.74it/s]\n",
      "1it [00:00, 42.74it/s]\n",
      "1it [00:00, 36.41it/s]\n",
      "0it [00:00, ?it/s]"
     ]
    },
    {
     "name": "stdout",
     "output_type": "stream",
     "text": [
      "* [TextCleaner] Cleaning text...\n",
      "* [TextCleaner] Cleaning text...\n",
      "* [TextCleaner] Cleaning text...\n",
      "* [TextCleaner] Cleaning text...\n",
      "* [TextCleaner] Cleaning text...\n",
      "* [TextCleaner] Cleaning text...\n",
      "* [TextCleaner] Cleaning text...\n"
     ]
    },
    {
     "name": "stderr",
     "output_type": "stream",
     "text": [
      "1it [00:00, 31.08it/s]\n",
      "1it [00:00, 44.85it/s]\n",
      "1it [00:00, 50.17it/s]\n",
      "1it [00:00, 34.24it/s]\n",
      "1it [00:00, 47.08it/s]\n",
      "1it [00:00, 34.89it/s]\n",
      "1it [00:00, 29.15it/s]\n",
      "0it [00:00, ?it/s]"
     ]
    },
    {
     "name": "stdout",
     "output_type": "stream",
     "text": [
      "* [TextCleaner] Cleaning text...\n",
      "* [TextCleaner] Cleaning text...\n",
      "* [TextCleaner] Cleaning text...\n",
      "* [TextCleaner] Cleaning text...\n",
      "* [TextCleaner] Cleaning text...\n",
      "* [TextCleaner] Cleaning text...\n",
      "* [TextCleaner] Cleaning text...\n"
     ]
    },
    {
     "name": "stderr",
     "output_type": "stream",
     "text": [
      "1it [00:00, 41.71it/s]\n",
      "1it [00:00, 35.29it/s]\n",
      "1it [00:00, 38.24it/s]\n",
      "1it [00:00, 41.46it/s]\n",
      "1it [00:00, 30.42it/s]\n",
      "1it [00:00, 41.55it/s]\n",
      "1it [00:00, 30.12it/s]\n"
     ]
    },
    {
     "name": "stdout",
     "output_type": "stream",
     "text": [
      "* [TextCleaner] Cleaning text...\n",
      "* [TextCleaner] Cleaning text...\n",
      "* [TextCleaner] Cleaning text...\n",
      "* [TextCleaner] Cleaning text...\n",
      "* [TextCleaner] Cleaning text...\n",
      "* [TextCleaner] Cleaning text...\n"
     ]
    },
    {
     "name": "stderr",
     "output_type": "stream",
     "text": [
      "1it [00:00, 38.92it/s]\n",
      "1it [00:00, 39.59it/s]\n",
      "1it [00:00, 32.52it/s]\n",
      "1it [00:00, 42.47it/s]\n",
      "1it [00:00, 28.31it/s]\n",
      "1it [00:00, 41.75it/s]\n",
      "1it [00:00, 31.84it/s]"
     ]
    },
    {
     "name": "stdout",
     "output_type": "stream",
     "text": [
      "* [TextCleaner] Cleaning text...\n",
      "* [TextCleaner] Cleaning text...\n",
      "* [TextCleaner] Cleaning text...\n",
      "* [TextCleaner] Cleaning text...\n",
      "* [TextCleaner] Cleaning text...\n",
      "* [TextCleaner] Cleaning text...\n",
      "* [TextCleaner] Cleaning text...\n"
     ]
    },
    {
     "name": "stderr",
     "output_type": "stream",
     "text": [
      "\n",
      "1it [00:00, 35.56it/s]\n",
      "1it [00:00, 54.46it/s]\n",
      "1it [00:00, 44.06it/s]\n",
      "1it [00:00, 42.63it/s]\n",
      "1it [00:00, 43.13it/s]\n",
      "1it [00:00, 31.89it/s]\n",
      "1it [00:00, 40.36it/s]\n",
      "1it [00:00, 37.04it/s]"
     ]
    },
    {
     "name": "stdout",
     "output_type": "stream",
     "text": [
      "* [TextCleaner] Cleaning text...\n",
      "* [TextCleaner] Cleaning text...\n",
      "* [TextCleaner] Cleaning text...\n",
      "* [TextCleaner] Cleaning text...\n",
      "* [TextCleaner] Cleaning text...\n",
      "* [TextCleaner] Cleaning text...\n",
      "* [TextCleaner] Cleaning text...\n",
      "* [TextCleaner] Cleaning text...\n"
     ]
    },
    {
     "name": "stderr",
     "output_type": "stream",
     "text": [
      "\n",
      "1it [00:00, 30.07it/s]\n",
      "1it [00:00, 36.88it/s]\n",
      "1it [00:00, 34.24it/s]\n",
      "1it [00:00, 44.88it/s]\n",
      "1it [00:00, 36.74it/s]\n",
      "1it [00:00, 40.04it/s]\n",
      "1it [00:00, 32.07it/s]\n",
      "0it [00:00, ?it/s]"
     ]
    },
    {
     "name": "stdout",
     "output_type": "stream",
     "text": [
      "* [TextCleaner] Cleaning text...\n",
      "* [TextCleaner] Cleaning text...\n",
      "* [TextCleaner] Cleaning text...\n",
      "* [TextCleaner] Cleaning text...\n",
      "* [TextCleaner] Cleaning text...\n",
      "* [TextCleaner] Cleaning text...\n",
      "* [TextCleaner] Cleaning text...\n",
      "* [TextCleaner] Cleaning text...\n"
     ]
    },
    {
     "name": "stderr",
     "output_type": "stream",
     "text": [
      "1it [00:00, 27.56it/s]\n",
      "1it [00:00, 42.62it/s]\n",
      "1it [00:00, 43.87it/s]\n",
      "1it [00:00, 32.41it/s]\n",
      "1it [00:00, 28.54it/s]\n",
      "1it [00:00, 31.75it/s]\n",
      "0it [00:00, ?it/s]"
     ]
    },
    {
     "name": "stdout",
     "output_type": "stream",
     "text": [
      "* [TextCleaner] Cleaning text...\n",
      "* [TextCleaner] Cleaning text...\n",
      "* [TextCleaner] Cleaning text...\n",
      "* [TextCleaner] Cleaning text...\n",
      "* [TextCleaner] Cleaning text...\n",
      "* [TextCleaner] Cleaning text...\n"
     ]
    },
    {
     "name": "stderr",
     "output_type": "stream",
     "text": [
      "1it [00:00, 32.55it/s]\n",
      "1it [00:00, 91.07it/s]\n",
      "1it [00:00, 37.95it/s]\n",
      "1it [00:00, 34.09it/s]\n",
      "1it [00:00, 47.16it/s]\n",
      "1it [00:00, 35.33it/s]\n",
      "1it [00:00, 31.23it/s]\n",
      "0it [00:00, ?it/s]"
     ]
    },
    {
     "name": "stdout",
     "output_type": "stream",
     "text": [
      "* [TextCleaner] Cleaning text...\n",
      "* [TextCleaner] Cleaning text...\n",
      "* [TextCleaner] Cleaning text...\n",
      "* [TextCleaner] Cleaning text...\n",
      "* [TextCleaner] Cleaning text...\n",
      "* [TextCleaner] Cleaning text...\n",
      "* [TextCleaner] Cleaning text...\n"
     ]
    },
    {
     "name": "stderr",
     "output_type": "stream",
     "text": [
      "1it [00:00, 35.41it/s]\n",
      "1it [00:00, 39.00it/s]\n",
      "1it [00:00, 39.83it/s]\n",
      "1it [00:00, 36.16it/s]\n",
      "1it [00:00, 36.92it/s]\n",
      "1it [00:00, 42.94it/s]\n",
      "1it [00:00, 36.66it/s]\n",
      "0it [00:00, ?it/s]"
     ]
    },
    {
     "name": "stdout",
     "output_type": "stream",
     "text": [
      "* [TextCleaner] Cleaning text...\n",
      "* [TextCleaner] Cleaning text...\n",
      "* [TextCleaner] Cleaning text...\n",
      "* [TextCleaner] Cleaning text...\n",
      "* [TextCleaner] Cleaning text...\n",
      "* [TextCleaner] Cleaning text...\n",
      "* [TextCleaner] Cleaning text...\n"
     ]
    },
    {
     "name": "stderr",
     "output_type": "stream",
     "text": [
      "1it [00:00, 32.42it/s]\n",
      "1it [00:00, 40.17it/s]\n",
      "1it [00:00, 39.72it/s]\n",
      "1it [00:00, 31.72it/s]\n",
      "1it [00:00, 37.90it/s]\n",
      "1it [00:00, 35.19it/s]\n",
      "1it [00:00, 28.90it/s]"
     ]
    },
    {
     "name": "stdout",
     "output_type": "stream",
     "text": [
      "* [TextCleaner] Cleaning text...\n",
      "* [TextCleaner] Cleaning text...\n",
      "* [TextCleaner] Cleaning text...\n",
      "* [TextCleaner] Cleaning text...\n",
      "* [TextCleaner] Cleaning text...\n",
      "* [TextCleaner] Cleaning text...\n"
     ]
    },
    {
     "name": "stderr",
     "output_type": "stream",
     "text": [
      "\n",
      "1it [00:00, 36.15it/s]\n",
      "1it [00:00, 34.40it/s]\n",
      "1it [00:00, 51.50it/s]\n",
      "1it [00:00, 34.91it/s]\n",
      "1it [00:00, 33.07it/s]\n",
      "1it [00:00, 30.86it/s]\n",
      "1it [00:00, 44.98it/s]\n",
      "0it [00:00, ?it/s]"
     ]
    },
    {
     "name": "stdout",
     "output_type": "stream",
     "text": [
      "* [TextCleaner] Cleaning text...\n",
      "* [TextCleaner] Cleaning text...\n",
      "* [TextCleaner] Cleaning text...\n",
      "* [TextCleaner] Cleaning text...\n",
      "* [TextCleaner] Cleaning text...\n",
      "* [TextCleaner] Cleaning text...\n",
      "* [TextCleaner] Cleaning text...\n",
      "* [TextCleaner] Cleaning text...\n"
     ]
    },
    {
     "name": "stderr",
     "output_type": "stream",
     "text": [
      "1it [00:00, 37.12it/s]\n",
      "1it [00:00, 33.27it/s]\n",
      "1it [00:00, 34.10it/s]\n",
      "1it [00:00, 43.92it/s]\n",
      "1it [00:00, 36.28it/s]\n",
      "1it [00:00, 42.83it/s]\n",
      "1it [00:00, 33.74it/s]\n",
      "0it [00:00, ?it/s]"
     ]
    },
    {
     "name": "stdout",
     "output_type": "stream",
     "text": [
      "* [TextCleaner] Cleaning text...\n",
      "* [TextCleaner] Cleaning text...\n",
      "* [TextCleaner] Cleaning text...\n",
      "* [TextCleaner] Cleaning text...\n",
      "* [TextCleaner] Cleaning text...\n",
      "* [TextCleaner] Cleaning text...\n",
      "* [TextCleaner] Cleaning text...\n"
     ]
    },
    {
     "name": "stderr",
     "output_type": "stream",
     "text": [
      "1it [00:00, 75.17it/s]\n",
      "1it [00:00, 48.64it/s]\n",
      "1it [00:00, 33.39it/s]\n",
      "1it [00:00, 28.91it/s]\n",
      "1it [00:00, 39.07it/s]\n",
      "1it [00:00, 33.10it/s]\n",
      "1it [00:00, 36.88it/s]"
     ]
    },
    {
     "name": "stdout",
     "output_type": "stream",
     "text": [
      "* [TextCleaner] Cleaning text...\n",
      "* [TextCleaner] Cleaning text...\n",
      "* [TextCleaner] Cleaning text...\n",
      "* [TextCleaner] Cleaning text...\n",
      "* [TextCleaner] Cleaning text...\n",
      "* [TextCleaner] Cleaning text...\n"
     ]
    },
    {
     "name": "stderr",
     "output_type": "stream",
     "text": [
      "\n",
      "1it [00:00, 45.56it/s]\n",
      "1it [00:00, 38.17it/s]\n",
      "1it [00:00, 49.05it/s]\n",
      "1it [00:00, 35.32it/s]\n",
      "1it [00:00, 47.43it/s]\n",
      "1it [00:00, 36.58it/s]\n",
      "1it [00:00, 41.26it/s]\n",
      "0it [00:00, ?it/s]"
     ]
    },
    {
     "name": "stdout",
     "output_type": "stream",
     "text": [
      "* [TextCleaner] Cleaning text...\n",
      "* [TextCleaner] Cleaning text...\n",
      "* [TextCleaner] Cleaning text...\n",
      "* [TextCleaner] Cleaning text...\n",
      "* [TextCleaner] Cleaning text...\n",
      "* [TextCleaner] Cleaning text...\n",
      "* [TextCleaner] Cleaning text...\n",
      "* [TextCleaner] Cleaning text...\n"
     ]
    },
    {
     "name": "stderr",
     "output_type": "stream",
     "text": [
      "1it [00:00, 36.99it/s]\n",
      "1it [00:00, 62.91it/s]\n",
      "1it [00:00, 33.62it/s]\n",
      "1it [00:00, 38.51it/s]\n",
      "1it [00:00, 30.05it/s]\n",
      "1it [00:00, 39.89it/s]\n",
      "1it [00:00, 50.56it/s]\n",
      "0it [00:00, ?it/s]"
     ]
    },
    {
     "name": "stdout",
     "output_type": "stream",
     "text": [
      "* [TextCleaner] Cleaning text...\n",
      "* [TextCleaner] Cleaning text...\n",
      "* [TextCleaner] Cleaning text...\n",
      "* [TextCleaner] Cleaning text...\n",
      "* [TextCleaner] Cleaning text...\n",
      "* [TextCleaner] Cleaning text...\n",
      "* [TextCleaner] Cleaning text...\n"
     ]
    },
    {
     "name": "stderr",
     "output_type": "stream",
     "text": [
      "1it [00:00, 45.77it/s]\n",
      "1it [00:00, 39.17it/s]\n",
      "1it [00:00, 33.85it/s]\n",
      "1it [00:00, 41.09it/s]\n",
      "1it [00:00, 45.66it/s]\n",
      "1it [00:00, 33.15it/s]\n",
      "1it [00:00, 28.60it/s]\n",
      "0it [00:00, ?it/s]"
     ]
    },
    {
     "name": "stdout",
     "output_type": "stream",
     "text": [
      "* [TextCleaner] Cleaning text...\n",
      "* [TextCleaner] Cleaning text...\n",
      "* [TextCleaner] Cleaning text...\n",
      "* [TextCleaner] Cleaning text...\n",
      "* [TextCleaner] Cleaning text...\n",
      "* [TextCleaner] Cleaning text...\n",
      "* [TextCleaner] Cleaning text...\n"
     ]
    },
    {
     "name": "stderr",
     "output_type": "stream",
     "text": [
      "1it [00:00, 45.30it/s]\n",
      "1it [00:00, 36.12it/s]\n",
      "1it [00:00, 33.37it/s]\n",
      "1it [00:00, 39.75it/s]\n",
      "1it [00:00, 36.01it/s]\n",
      "1it [00:00, 37.73it/s]\n",
      "1it [00:00, 34.63it/s]"
     ]
    },
    {
     "name": "stdout",
     "output_type": "stream",
     "text": [
      "* [TextCleaner] Cleaning text...\n",
      "* [TextCleaner] Cleaning text...\n",
      "* [TextCleaner] Cleaning text...\n",
      "* [TextCleaner] Cleaning text...\n",
      "* [TextCleaner] Cleaning text...\n",
      "* [TextCleaner] Cleaning text...\n"
     ]
    },
    {
     "name": "stderr",
     "output_type": "stream",
     "text": [
      "\n",
      "1it [00:00, 41.38it/s]\n",
      "1it [00:00, 39.10it/s]\n",
      "1it [00:00, 57.80it/s]\n",
      "1it [00:00, 37.83it/s]\n",
      "1it [00:00, 31.94it/s]\n",
      "1it [00:00, 39.50it/s]\n",
      "0it [00:00, ?it/s]"
     ]
    },
    {
     "name": "stdout",
     "output_type": "stream",
     "text": [
      "* [TextCleaner] Cleaning text...\n",
      "* [TextCleaner] Cleaning text...\n",
      "* [TextCleaner] Cleaning text...\n",
      "* [TextCleaner] Cleaning text...\n",
      "* [TextCleaner] Cleaning text...\n",
      "* [TextCleaner] Cleaning text...\n",
      "* [TextCleaner] Cleaning text...\n"
     ]
    },
    {
     "name": "stderr",
     "output_type": "stream",
     "text": [
      "1it [00:00, 38.96it/s]\n",
      "1it [00:00, 48.43it/s]\n",
      "1it [00:00, 33.68it/s]\n",
      "1it [00:00, 40.47it/s]\n",
      "1it [00:00, 34.96it/s]\n",
      "1it [00:00, 40.41it/s]\n",
      "1it [00:00, 29.10it/s]\n",
      "0it [00:00, ?it/s]"
     ]
    },
    {
     "name": "stdout",
     "output_type": "stream",
     "text": [
      "* [TextCleaner] Cleaning text...\n",
      "* [TextCleaner] Cleaning text...\n",
      "* [TextCleaner] Cleaning text...\n",
      "* [TextCleaner] Cleaning text...\n",
      "* [TextCleaner] Cleaning text...\n",
      "* [TextCleaner] Cleaning text...\n",
      "* [TextCleaner] Cleaning text...\n"
     ]
    },
    {
     "name": "stderr",
     "output_type": "stream",
     "text": [
      "1it [00:00, 32.27it/s]\n",
      "1it [00:00, 38.31it/s]\n",
      "1it [00:00, 34.10it/s]\n",
      "1it [00:00, 43.21it/s]\n",
      "1it [00:00, 34.70it/s]\n",
      "1it [00:00, 33.87it/s]\n",
      "1it [00:00, 35.47it/s]\n",
      "0it [00:00, ?it/s]"
     ]
    },
    {
     "name": "stdout",
     "output_type": "stream",
     "text": [
      "* [TextCleaner] Cleaning text...\n",
      "* [TextCleaner] Cleaning text...\n",
      "* [TextCleaner] Cleaning text...\n",
      "* [TextCleaner] Cleaning text...\n",
      "* [TextCleaner] Cleaning text...\n",
      "* [TextCleaner] Cleaning text...\n",
      "* [TextCleaner] Cleaning text...\n"
     ]
    },
    {
     "name": "stderr",
     "output_type": "stream",
     "text": [
      "1it [00:00, 35.84it/s]\n",
      "1it [00:00, 55.46it/s]\n",
      "1it [00:00, 33.05it/s]\n",
      "1it [00:00, 37.03it/s]\n",
      "1it [00:00, 51.15it/s]\n",
      "1it [00:00, 31.53it/s]\n",
      "1it [00:00, 41.19it/s]\n",
      "0it [00:00, ?it/s]"
     ]
    },
    {
     "name": "stdout",
     "output_type": "stream",
     "text": [
      "* [TextCleaner] Cleaning text...\n",
      "* [TextCleaner] Cleaning text...\n",
      "* [TextCleaner] Cleaning text...\n",
      "* [TextCleaner] Cleaning text...\n",
      "* [TextCleaner] Cleaning text...\n",
      "* [TextCleaner] Cleaning text...\n",
      "* [TextCleaner] Cleaning text...\n"
     ]
    },
    {
     "name": "stderr",
     "output_type": "stream",
     "text": [
      "1it [00:00, 49.54it/s]\n",
      "1it [00:00, 35.93it/s]\n",
      "1it [00:00, 41.06it/s]\n",
      "1it [00:00, 39.46it/s]\n",
      "1it [00:00, 34.82it/s]\n",
      "1it [00:00, 44.98it/s]\n",
      "1it [00:00, 36.13it/s]\n",
      "0it [00:00, ?it/s]"
     ]
    },
    {
     "name": "stdout",
     "output_type": "stream",
     "text": [
      "* [TextCleaner] Cleaning text...\n",
      "* [TextCleaner] Cleaning text...\n",
      "* [TextCleaner] Cleaning text...\n",
      "* [TextCleaner] Cleaning text...\n",
      "* [TextCleaner] Cleaning text...\n",
      "* [TextCleaner] Cleaning text...\n",
      "* [TextCleaner] Cleaning text...\n"
     ]
    },
    {
     "name": "stderr",
     "output_type": "stream",
     "text": [
      "1it [00:00, 41.88it/s]\n",
      "1it [00:00, 75.20it/s]\n",
      "1it [00:00, 43.30it/s]\n",
      "1it [00:00, 31.51it/s]\n",
      "1it [00:00, 41.37it/s]\n",
      "1it [00:00, 36.64it/s]\n",
      "1it [00:00, 44.81it/s]\n",
      "1it [00:00, 53.56it/s]\n",
      "0it [00:00, ?it/s]"
     ]
    },
    {
     "name": "stdout",
     "output_type": "stream",
     "text": [
      "* [TextCleaner] Cleaning text...\n",
      "* [TextCleaner] Cleaning text...\n",
      "* [TextCleaner] Cleaning text...\n",
      "* [TextCleaner] Cleaning text...\n",
      "* [TextCleaner] Cleaning text...\n",
      "* [TextCleaner] Cleaning text...\n",
      "* [TextCleaner] Cleaning text...\n",
      "* [TextCleaner] Cleaning text...\n"
     ]
    },
    {
     "name": "stderr",
     "output_type": "stream",
     "text": [
      "1it [00:00, 29.07it/s]\n",
      "1it [00:00, 46.85it/s]\n",
      "1it [00:00, 29.86it/s]\n",
      "1it [00:00, 36.68it/s]\n",
      "1it [00:00, 76.58it/s]\n",
      "1it [00:00, 38.44it/s]\n",
      "1it [00:00, 48.81it/s]\n",
      "1it [00:00, 48.05it/s]\n",
      "0it [00:00, ?it/s]"
     ]
    },
    {
     "name": "stdout",
     "output_type": "stream",
     "text": [
      "* [TextCleaner] Cleaning text...\n",
      "* [TextCleaner] Cleaning text...\n",
      "* [TextCleaner] Cleaning text...\n",
      "* [TextCleaner] Cleaning text...\n",
      "* [TextCleaner] Cleaning text...\n",
      "* [TextCleaner] Cleaning text...\n",
      "* [TextCleaner] Cleaning text...\n",
      "* [TextCleaner] Cleaning text...\n"
     ]
    },
    {
     "name": "stderr",
     "output_type": "stream",
     "text": [
      "1it [00:00, 33.35it/s]\n",
      "1it [00:00, 33.66it/s]\n",
      "1it [00:00, 41.61it/s]\n",
      "1it [00:00, 32.94it/s]\n",
      "1it [00:00, 40.27it/s]\n",
      "1it [00:00, 35.03it/s]\n",
      "1it [00:00, 40.50it/s]\n",
      "0it [00:00, ?it/s]"
     ]
    },
    {
     "name": "stdout",
     "output_type": "stream",
     "text": [
      "* [TextCleaner] Cleaning text...\n",
      "* [TextCleaner] Cleaning text...\n",
      "* [TextCleaner] Cleaning text...\n",
      "* [TextCleaner] Cleaning text...\n",
      "* [TextCleaner] Cleaning text...\n",
      "* [TextCleaner] Cleaning text...\n",
      "* [TextCleaner] Cleaning text...\n"
     ]
    },
    {
     "name": "stderr",
     "output_type": "stream",
     "text": [
      "1it [00:00, 36.84it/s]\n",
      "1it [00:00, 34.75it/s]\n",
      "1it [00:00, 31.46it/s]\n",
      "1it [00:00, 41.22it/s]\n",
      "1it [00:00, 36.47it/s]\n",
      "1it [00:00, 30.04it/s]\n",
      "0it [00:00, ?it/s]"
     ]
    },
    {
     "name": "stdout",
     "output_type": "stream",
     "text": [
      "* [TextCleaner] Cleaning text...\n",
      "* [TextCleaner] Cleaning text...\n",
      "* [TextCleaner] Cleaning text...\n",
      "* [TextCleaner] Cleaning text...\n",
      "* [TextCleaner] Cleaning text...\n",
      "* [TextCleaner] Cleaning text...\n"
     ]
    },
    {
     "name": "stderr",
     "output_type": "stream",
     "text": [
      "1it [00:00, 33.24it/s]\n",
      "1it [00:00, 34.82it/s]\n",
      "1it [00:00, 35.54it/s]\n",
      "1it [00:00, 48.76it/s]\n",
      "1it [00:00, 43.38it/s]\n",
      "1it [00:00, 40.81it/s]\n",
      "1it [00:00, 35.53it/s]\n",
      "0it [00:00, ?it/s]"
     ]
    },
    {
     "name": "stdout",
     "output_type": "stream",
     "text": [
      "* [TextCleaner] Cleaning text...\n",
      "* [TextCleaner] Cleaning text...\n",
      "* [TextCleaner] Cleaning text...\n",
      "* [TextCleaner] Cleaning text...\n",
      "* [TextCleaner] Cleaning text...\n",
      "* [TextCleaner] Cleaning text...\n",
      "* [TextCleaner] Cleaning text...\n"
     ]
    },
    {
     "name": "stderr",
     "output_type": "stream",
     "text": [
      "1it [00:00, 35.14it/s]\n",
      "1it [00:00, 35.12it/s]\n",
      "1it [00:00, 43.03it/s]\n",
      "1it [00:00, 41.43it/s]\n",
      "1it [00:00, 28.49it/s]\n",
      "1it [00:00, 34.90it/s]\n",
      "1it [00:00, 37.18it/s]\n",
      "0it [00:00, ?it/s]"
     ]
    },
    {
     "name": "stdout",
     "output_type": "stream",
     "text": [
      "* [TextCleaner] Cleaning text...\n",
      "* [TextCleaner] Cleaning text...\n",
      "* [TextCleaner] Cleaning text...\n",
      "* [TextCleaner] Cleaning text...\n",
      "* [TextCleaner] Cleaning text...\n",
      "* [TextCleaner] Cleaning text...\n",
      "* [TextCleaner] Cleaning text...\n"
     ]
    },
    {
     "name": "stderr",
     "output_type": "stream",
     "text": [
      "1it [00:00, 35.08it/s]\n",
      "1it [00:00, 37.93it/s]\n",
      "1it [00:00, 34.08it/s]\n",
      "1it [00:00, 39.88it/s]\n",
      "1it [00:00, 38.08it/s]\n",
      "1it [00:00, 31.81it/s]\n",
      "1it [00:00, 42.04it/s]\n",
      "0it [00:00, ?it/s]"
     ]
    },
    {
     "name": "stdout",
     "output_type": "stream",
     "text": [
      "* [TextCleaner] Cleaning text...\n",
      "* [TextCleaner] Cleaning text...\n",
      "* [TextCleaner] Cleaning text...\n",
      "* [TextCleaner] Cleaning text...\n",
      "* [TextCleaner] Cleaning text...\n",
      "* [TextCleaner] Cleaning text...\n",
      "* [TextCleaner] Cleaning text...\n"
     ]
    },
    {
     "name": "stderr",
     "output_type": "stream",
     "text": [
      "1it [00:00, 38.92it/s]\n",
      "1it [00:00, 28.40it/s]\n",
      "1it [00:00, 38.14it/s]\n",
      "1it [00:00, 30.34it/s]\n",
      "1it [00:00, 35.66it/s]\n",
      "1it [00:00, 37.73it/s]\n",
      "1it [00:00, 314.32it/s]\n",
      "0it [00:00, ?it/s]"
     ]
    },
    {
     "name": "stdout",
     "output_type": "stream",
     "text": [
      "* [TextCleaner] Cleaning text...\n",
      "* [TextCleaner] Cleaning text...\n",
      "* [TextCleaner] Cleaning text...\n",
      "* [TextCleaner] Cleaning text...\n",
      "* [TextCleaner] Cleaning text...\n",
      "* [TextCleaner] Cleaning text...\n",
      "* [TextCleaner] Cleaning text...\n"
     ]
    },
    {
     "name": "stderr",
     "output_type": "stream",
     "text": [
      "1it [00:00, 33.21it/s]\n",
      "1it [00:00, 33.32it/s]\n",
      "1it [00:00, 36.62it/s]\n",
      "1it [00:00, 38.16it/s]\n",
      "1it [00:00, 35.64it/s]\n",
      "1it [00:00, 36.08it/s]\n",
      "1it [00:00, 35.56it/s]\n",
      "0it [00:00, ?it/s]"
     ]
    },
    {
     "name": "stdout",
     "output_type": "stream",
     "text": [
      "* [TextCleaner] Cleaning text...\n",
      "* [TextCleaner] Cleaning text...\n",
      "* [TextCleaner] Cleaning text...\n",
      "* [TextCleaner] Cleaning text...\n",
      "* [TextCleaner] Cleaning text...\n",
      "* [TextCleaner] Cleaning text...\n",
      "* [TextCleaner] Cleaning text...\n"
     ]
    },
    {
     "name": "stderr",
     "output_type": "stream",
     "text": [
      "1it [00:00, 40.98it/s]\n",
      "1it [00:00, 31.65it/s]\n",
      "1it [00:00, 44.90it/s]\n",
      "1it [00:00, 37.32it/s]\n",
      "1it [00:00, 40.72it/s]\n",
      "1it [00:00, 39.99it/s]\n",
      "1it [00:00, 41.72it/s]\n",
      "0it [00:00, ?it/s]"
     ]
    },
    {
     "name": "stdout",
     "output_type": "stream",
     "text": [
      "* [TextCleaner] Cleaning text...\n",
      "* [TextCleaner] Cleaning text...\n",
      "* [TextCleaner] Cleaning text...\n",
      "* [TextCleaner] Cleaning text...\n",
      "* [TextCleaner] Cleaning text...\n",
      "* [TextCleaner] Cleaning text...\n",
      "* [TextCleaner] Cleaning text...\n"
     ]
    },
    {
     "name": "stderr",
     "output_type": "stream",
     "text": [
      "1it [00:00, 35.02it/s]\n",
      "1it [00:00, 32.31it/s]\n",
      "1it [00:00, 39.66it/s]\n",
      "1it [00:00, 35.86it/s]\n",
      "1it [00:00, 51.24it/s]\n",
      "1it [00:00, 36.01it/s]\n",
      "1it [00:00, 35.50it/s]\n",
      "0it [00:00, ?it/s]"
     ]
    },
    {
     "name": "stdout",
     "output_type": "stream",
     "text": [
      "* [TextCleaner] Cleaning text...\n",
      "* [TextCleaner] Cleaning text...\n",
      "* [TextCleaner] Cleaning text...\n",
      "* [TextCleaner] Cleaning text...\n",
      "* [TextCleaner] Cleaning text...\n",
      "* [TextCleaner] Cleaning text...\n",
      "* [TextCleaner] Cleaning text...\n"
     ]
    },
    {
     "name": "stderr",
     "output_type": "stream",
     "text": [
      "1it [00:00, 40.36it/s]\n",
      "1it [00:00, 41.25it/s]\n",
      "1it [00:00, 33.46it/s]\n",
      "1it [00:00, 32.48it/s]\n",
      "1it [00:00, 31.77it/s]\n",
      "1it [00:00, 34.44it/s]\n",
      "1it [00:00, 42.02it/s]\n"
     ]
    },
    {
     "name": "stdout",
     "output_type": "stream",
     "text": [
      "* [TextCleaner] Cleaning text...\n",
      "* [TextCleaner] Cleaning text...\n",
      "* [TextCleaner] Cleaning text...\n",
      "* [TextCleaner] Cleaning text...\n",
      "* [TextCleaner] Cleaning text...\n",
      "* [TextCleaner] Cleaning text...\n",
      "* [TextCleaner] Cleaning text...\n"
     ]
    },
    {
     "name": "stderr",
     "output_type": "stream",
     "text": [
      "1it [00:00, 45.12it/s]\n",
      "1it [00:00, 41.38it/s]\n",
      "1it [00:00, 36.46it/s]\n",
      "1it [00:00, 31.62it/s]\n",
      "1it [00:00, 32.34it/s]\n",
      "1it [00:00, 35.65it/s]\n",
      "1it [00:00, 37.44it/s]"
     ]
    },
    {
     "name": "stdout",
     "output_type": "stream",
     "text": [
      "* [TextCleaner] Cleaning text...\n",
      "* [TextCleaner] Cleaning text...\n",
      "* [TextCleaner] Cleaning text...\n",
      "* [TextCleaner] Cleaning text...\n",
      "* [TextCleaner] Cleaning text...\n",
      "* [TextCleaner] Cleaning text...\n"
     ]
    },
    {
     "name": "stderr",
     "output_type": "stream",
     "text": [
      "\n",
      "1it [00:00, 30.07it/s]\n",
      "1it [00:00, 54.81it/s]\n",
      "1it [00:00, 38.13it/s]\n",
      "1it [00:00, 38.77it/s]\n",
      "1it [00:00, 51.31it/s]\n",
      "1it [00:00, 38.60it/s]\n",
      "0it [00:00, ?it/s]"
     ]
    },
    {
     "name": "stdout",
     "output_type": "stream",
     "text": [
      "* [TextCleaner] Cleaning text...\n",
      "* [TextCleaner] Cleaning text...\n",
      "* [TextCleaner] Cleaning text...\n",
      "* [TextCleaner] Cleaning text...\n",
      "* [TextCleaner] Cleaning text...\n",
      "* [TextCleaner] Cleaning text...\n",
      "* [TextCleaner] Cleaning text...\n"
     ]
    },
    {
     "name": "stderr",
     "output_type": "stream",
     "text": [
      "1it [00:00, 44.71it/s]\n",
      "1it [00:00, 37.61it/s]\n",
      "1it [00:00, 36.16it/s]\n",
      "1it [00:00, 41.21it/s]\n",
      "1it [00:00, 39.66it/s]\n",
      "1it [00:00, 40.15it/s]\n",
      "1it [00:00, 36.41it/s]\n",
      "0it [00:00, ?it/s]"
     ]
    },
    {
     "name": "stdout",
     "output_type": "stream",
     "text": [
      "* [TextCleaner] Cleaning text...\n",
      "* [TextCleaner] Cleaning text...\n",
      "* [TextCleaner] Cleaning text...\n",
      "* [TextCleaner] Cleaning text...\n",
      "* [TextCleaner] Cleaning text...\n",
      "* [TextCleaner] Cleaning text...\n",
      "* [TextCleaner] Cleaning text...\n"
     ]
    },
    {
     "name": "stderr",
     "output_type": "stream",
     "text": [
      "1it [00:00, 36.82it/s]\n",
      "1it [00:00, 35.13it/s]\n",
      "1it [00:00, 36.79it/s]\n",
      "1it [00:00, 45.13it/s]\n",
      "1it [00:00, 43.89it/s]\n",
      "1it [00:00, 36.70it/s]\n",
      "1it [00:00, 38.46it/s]\n",
      "0it [00:00, ?it/s]"
     ]
    },
    {
     "name": "stdout",
     "output_type": "stream",
     "text": [
      "* [TextCleaner] Cleaning text...\n",
      "* [TextCleaner] Cleaning text...\n",
      "* [TextCleaner] Cleaning text...\n",
      "* [TextCleaner] Cleaning text...\n",
      "* [TextCleaner] Cleaning text...\n",
      "* [TextCleaner] Cleaning text...\n",
      "* [TextCleaner] Cleaning text...\n"
     ]
    },
    {
     "name": "stderr",
     "output_type": "stream",
     "text": [
      "1it [00:00, 41.74it/s]\n",
      "1it [00:00, 31.70it/s]\n",
      "1it [00:00, 37.53it/s]\n",
      "1it [00:00, 33.40it/s]\n",
      "1it [00:00, 36.51it/s]\n",
      "1it [00:00, 32.76it/s]\n",
      "0it [00:00, ?it/s]"
     ]
    },
    {
     "name": "stdout",
     "output_type": "stream",
     "text": [
      "* [TextCleaner] Cleaning text...\n",
      "* [TextCleaner] Cleaning text...\n",
      "* [TextCleaner] Cleaning text...\n",
      "* [TextCleaner] Cleaning text...\n",
      "* [TextCleaner] Cleaning text...\n",
      "* [TextCleaner] Cleaning text...\n"
     ]
    },
    {
     "name": "stderr",
     "output_type": "stream",
     "text": [
      "1it [00:00, 35.52it/s]\n",
      "1it [00:00, 44.12it/s]\n",
      "1it [00:00, 39.24it/s]\n",
      "1it [00:00, 46.97it/s]\n",
      "1it [00:00, 33.63it/s]\n",
      "1it [00:00, 32.72it/s]\n",
      "1it [00:00, 39.95it/s]\n",
      "0it [00:00, ?it/s]"
     ]
    },
    {
     "name": "stdout",
     "output_type": "stream",
     "text": [
      "* [TextCleaner] Cleaning text...\n",
      "* [TextCleaner] Cleaning text...\n",
      "* [TextCleaner] Cleaning text...\n",
      "* [TextCleaner] Cleaning text...\n",
      "* [TextCleaner] Cleaning text...\n",
      "* [TextCleaner] Cleaning text...\n",
      "* [TextCleaner] Cleaning text...\n"
     ]
    },
    {
     "name": "stderr",
     "output_type": "stream",
     "text": [
      "1it [00:00, 35.13it/s]\n",
      "1it [00:00, 33.57it/s]\n",
      "1it [00:00, 38.04it/s]\n",
      "1it [00:00, 50.58it/s]\n",
      "1it [00:00, 38.31it/s]\n",
      "1it [00:00, 46.70it/s]\n",
      "1it [00:00, 42.38it/s]\n",
      "0it [00:00, ?it/s]"
     ]
    },
    {
     "name": "stdout",
     "output_type": "stream",
     "text": [
      "* [TextCleaner] Cleaning text...\n",
      "* [TextCleaner] Cleaning text...\n",
      "* [TextCleaner] Cleaning text...\n",
      "* [TextCleaner] Cleaning text...\n",
      "* [TextCleaner] Cleaning text...\n",
      "* [TextCleaner] Cleaning text...\n",
      "* [TextCleaner] Cleaning text...\n"
     ]
    },
    {
     "name": "stderr",
     "output_type": "stream",
     "text": [
      "1it [00:00, 45.64it/s]\n",
      "1it [00:00, 46.97it/s]\n",
      "1it [00:00, 37.18it/s]\n",
      "1it [00:00, 36.23it/s]\n",
      "1it [00:00, 41.96it/s]\n",
      "1it [00:00, 38.51it/s]\n",
      "1it [00:00, 40.92it/s]\n",
      "0it [00:00, ?it/s]"
     ]
    },
    {
     "name": "stdout",
     "output_type": "stream",
     "text": [
      "* [TextCleaner] Cleaning text...\n",
      "* [TextCleaner] Cleaning text...\n",
      "* [TextCleaner] Cleaning text...\n",
      "* [TextCleaner] Cleaning text...\n",
      "* [TextCleaner] Cleaning text...\n",
      "* [TextCleaner] Cleaning text...\n",
      "* [TextCleaner] Cleaning text...\n"
     ]
    },
    {
     "name": "stderr",
     "output_type": "stream",
     "text": [
      "1it [00:00, 44.70it/s]\n",
      "1it [00:00, 36.02it/s]\n",
      "1it [00:00, 48.82it/s]\n",
      "1it [00:00, 47.08it/s]\n",
      "1it [00:00, 33.46it/s]\n",
      "1it [00:00, 32.16it/s]\n",
      "1it [00:00, 41.54it/s]\n",
      "0it [00:00, ?it/s]"
     ]
    },
    {
     "name": "stdout",
     "output_type": "stream",
     "text": [
      "* [TextCleaner] Cleaning text...\n",
      "* [TextCleaner] Cleaning text...\n",
      "* [TextCleaner] Cleaning text...\n",
      "* [TextCleaner] Cleaning text...\n",
      "* [TextCleaner] Cleaning text...\n",
      "* [TextCleaner] Cleaning text...\n",
      "* [TextCleaner] Cleaning text...\n"
     ]
    },
    {
     "name": "stderr",
     "output_type": "stream",
     "text": [
      "1it [00:00, 39.93it/s]\n",
      "1it [00:00, 30.40it/s]\n",
      "1it [00:00, 34.07it/s]\n",
      "1it [00:00, 49.91it/s]\n",
      "1it [00:00, 35.99it/s]\n",
      "1it [00:00, 46.24it/s]\n",
      "1it [00:00, 37.30it/s]\n",
      "0it [00:00, ?it/s]"
     ]
    },
    {
     "name": "stdout",
     "output_type": "stream",
     "text": [
      "* [TextCleaner] Cleaning text...\n",
      "* [TextCleaner] Cleaning text...\n",
      "* [TextCleaner] Cleaning text...\n",
      "* [TextCleaner] Cleaning text...\n",
      "* [TextCleaner] Cleaning text...\n",
      "* [TextCleaner] Cleaning text...\n",
      "* [TextCleaner] Cleaning text...\n"
     ]
    },
    {
     "name": "stderr",
     "output_type": "stream",
     "text": [
      "1it [00:00, 37.19it/s]\n",
      "1it [00:00, 39.99it/s]\n",
      "1it [00:00, 34.93it/s]\n",
      "1it [00:00, 43.39it/s]\n",
      "1it [00:00, 82.60it/s]\n",
      "1it [00:00, 34.97it/s]\n",
      "1it [00:00, 36.79it/s]\n",
      "1it [00:00, 44.23it/s]"
     ]
    },
    {
     "name": "stdout",
     "output_type": "stream",
     "text": [
      "* [TextCleaner] Cleaning text...\n",
      "* [TextCleaner] Cleaning text...\n",
      "* [TextCleaner] Cleaning text...\n",
      "* [TextCleaner] Cleaning text...\n",
      "* [TextCleaner] Cleaning text...\n",
      "* [TextCleaner] Cleaning text...\n",
      "* [TextCleaner] Cleaning text...\n"
     ]
    },
    {
     "name": "stderr",
     "output_type": "stream",
     "text": [
      "\n",
      "1it [00:00, 54.09it/s]\n",
      "1it [00:00, 82.16it/s]\n",
      "1it [00:00, 48.34it/s]\n",
      "1it [00:00, 33.76it/s]\n",
      "1it [00:00, 38.71it/s]\n",
      "1it [00:00, 37.65it/s]\n",
      "1it [00:00, 35.54it/s]\n",
      "0it [00:00, ?it/s]"
     ]
    },
    {
     "name": "stdout",
     "output_type": "stream",
     "text": [
      "* [TextCleaner] Cleaning text...\n",
      "* [TextCleaner] Cleaning text...\n",
      "* [TextCleaner] Cleaning text...\n",
      "* [TextCleaner] Cleaning text...\n",
      "* [TextCleaner] Cleaning text...\n",
      "* [TextCleaner] Cleaning text...\n",
      "* [TextCleaner] Cleaning text...\n",
      "* [TextCleaner] Cleaning text...\n"
     ]
    },
    {
     "name": "stderr",
     "output_type": "stream",
     "text": [
      "1it [00:00, 32.11it/s]\n",
      "1it [00:00, 32.59it/s]\n",
      "1it [00:00, 39.39it/s]\n",
      "1it [00:00, 36.20it/s]\n",
      "1it [00:00, 37.35it/s]\n",
      "1it [00:00, 49.32it/s]\n",
      "1it [00:00, 33.14it/s]\n",
      "0it [00:00, ?it/s]"
     ]
    },
    {
     "name": "stdout",
     "output_type": "stream",
     "text": [
      "* [TextCleaner] Cleaning text...\n",
      "* [TextCleaner] Cleaning text...\n",
      "* [TextCleaner] Cleaning text...\n",
      "* [TextCleaner] Cleaning text...\n",
      "* [TextCleaner] Cleaning text...\n",
      "* [TextCleaner] Cleaning text...\n",
      "* [TextCleaner] Cleaning text...\n"
     ]
    },
    {
     "name": "stderr",
     "output_type": "stream",
     "text": [
      "1it [00:00, 41.90it/s]\n",
      "1it [00:00, 40.23it/s]\n",
      "1it [00:00, 37.65it/s]\n",
      "1it [00:00, 43.09it/s]\n",
      "1it [00:00, 44.01it/s]\n",
      "1it [00:00, 38.57it/s]\n",
      "1it [00:00, 42.45it/s]\n",
      "1it [00:00, 45.89it/s]"
     ]
    },
    {
     "name": "stdout",
     "output_type": "stream",
     "text": [
      "* [TextCleaner] Cleaning text...\n",
      "* [TextCleaner] Cleaning text...\n",
      "* [TextCleaner] Cleaning text...\n",
      "* [TextCleaner] Cleaning text...\n",
      "* [TextCleaner] Cleaning text...\n",
      "* [TextCleaner] Cleaning text...\n",
      "* [TextCleaner] Cleaning text...\n"
     ]
    },
    {
     "name": "stderr",
     "output_type": "stream",
     "text": [
      "\n",
      "1it [00:00, 36.15it/s]\n",
      "1it [00:00, 36.11it/s]\n",
      "1it [00:00, 41.46it/s]\n",
      "1it [00:00, 41.56it/s]\n",
      "1it [00:00, 33.58it/s]\n",
      "1it [00:00, 38.84it/s]\n",
      "0it [00:00, ?it/s]"
     ]
    },
    {
     "name": "stdout",
     "output_type": "stream",
     "text": [
      "* [TextCleaner] Cleaning text...\n",
      "* [TextCleaner] Cleaning text...\n",
      "* [TextCleaner] Cleaning text...\n",
      "* [TextCleaner] Cleaning text...\n",
      "* [TextCleaner] Cleaning text...\n",
      "* [TextCleaner] Cleaning text...\n",
      "* [TextCleaner] Cleaning text...\n"
     ]
    },
    {
     "name": "stderr",
     "output_type": "stream",
     "text": [
      "1it [00:00, 34.24it/s]\n",
      "1it [00:00, 34.36it/s]\n",
      "1it [00:00, 39.25it/s]\n",
      "1it [00:00, 46.83it/s]\n",
      "1it [00:00, 40.83it/s]\n",
      "1it [00:00, 43.84it/s]\n",
      "1it [00:00, 30.19it/s]\n",
      "0it [00:00, ?it/s]"
     ]
    },
    {
     "name": "stdout",
     "output_type": "stream",
     "text": [
      "* [TextCleaner] Cleaning text...\n",
      "* [TextCleaner] Cleaning text...\n",
      "* [TextCleaner] Cleaning text...\n",
      "* [TextCleaner] Cleaning text...\n",
      "* [TextCleaner] Cleaning text...\n",
      "* [TextCleaner] Cleaning text...\n",
      "* [TextCleaner] Cleaning text...\n"
     ]
    },
    {
     "name": "stderr",
     "output_type": "stream",
     "text": [
      "1it [00:00, 35.82it/s]\n",
      "1it [00:00, 39.25it/s]\n",
      "1it [00:00, 33.03it/s]\n",
      "1it [00:00, 45.17it/s]\n",
      "1it [00:00, 43.75it/s]\n",
      "1it [00:00, 37.76it/s]\n",
      "1it [00:00, 36.77it/s]\n",
      "0it [00:00, ?it/s]"
     ]
    },
    {
     "name": "stdout",
     "output_type": "stream",
     "text": [
      "* [TextCleaner] Cleaning text...\n",
      "* [TextCleaner] Cleaning text...\n",
      "* [TextCleaner] Cleaning text...\n",
      "* [TextCleaner] Cleaning text...\n",
      "* [TextCleaner] Cleaning text...\n",
      "* [TextCleaner] Cleaning text...\n",
      "* [TextCleaner] Cleaning text...\n"
     ]
    },
    {
     "name": "stderr",
     "output_type": "stream",
     "text": [
      "1it [00:00, 38.57it/s]\n",
      "1it [00:00, 26.38it/s]\n",
      "1it [00:00, 36.09it/s]\n",
      "1it [00:00, 36.04it/s]\n",
      "1it [00:00, 41.05it/s]\n",
      "1it [00:00, 28.85it/s]\n",
      "0it [00:00, ?it/s]"
     ]
    },
    {
     "name": "stdout",
     "output_type": "stream",
     "text": [
      "* [TextCleaner] Cleaning text...\n",
      "* [TextCleaner] Cleaning text...\n",
      "* [TextCleaner] Cleaning text...\n",
      "* [TextCleaner] Cleaning text...\n",
      "* [TextCleaner] Cleaning text...\n",
      "* [TextCleaner] Cleaning text...\n"
     ]
    },
    {
     "name": "stderr",
     "output_type": "stream",
     "text": [
      "1it [00:00, 47.75it/s]\n",
      "1it [00:00, 46.93it/s]\n",
      "1it [00:00, 50.53it/s]\n",
      "1it [00:00, 35.71it/s]\n",
      "1it [00:00, 30.94it/s]\n",
      "1it [00:00, 32.42it/s]\n",
      "1it [00:00, 37.47it/s]\n",
      "0it [00:00, ?it/s]"
     ]
    },
    {
     "name": "stdout",
     "output_type": "stream",
     "text": [
      "* [TextCleaner] Cleaning text...\n",
      "* [TextCleaner] Cleaning text...\n",
      "* [TextCleaner] Cleaning text...\n",
      "* [TextCleaner] Cleaning text...\n",
      "* [TextCleaner] Cleaning text...\n",
      "* [TextCleaner] Cleaning text...\n",
      "* [TextCleaner] Cleaning text...\n"
     ]
    },
    {
     "name": "stderr",
     "output_type": "stream",
     "text": [
      "1it [00:00, 39.30it/s]\n",
      "1it [00:00, 32.04it/s]\n",
      "1it [00:00, 46.51it/s]\n",
      "1it [00:00, 34.71it/s]\n",
      "1it [00:00, 50.54it/s]\n",
      "1it [00:00, 28.35it/s]\n",
      "1it [00:00, 36.11it/s]\n",
      "0it [00:00, ?it/s]"
     ]
    },
    {
     "name": "stdout",
     "output_type": "stream",
     "text": [
      "* [TextCleaner] Cleaning text...\n",
      "* [TextCleaner] Cleaning text...\n",
      "* [TextCleaner] Cleaning text...\n",
      "* [TextCleaner] Cleaning text...\n",
      "* [TextCleaner] Cleaning text...\n",
      "* [TextCleaner] Cleaning text...\n",
      "* [TextCleaner] Cleaning text...\n"
     ]
    },
    {
     "name": "stderr",
     "output_type": "stream",
     "text": [
      "1it [00:00, 30.78it/s]\n",
      "1it [00:00, 30.48it/s]\n",
      "1it [00:00, 32.24it/s]\n",
      "1it [00:00, 33.89it/s]\n",
      "1it [00:00, 48.57it/s]\n",
      "1it [00:00, 31.06it/s]\n",
      "0it [00:00, ?it/s]"
     ]
    },
    {
     "name": "stdout",
     "output_type": "stream",
     "text": [
      "* [TextCleaner] Cleaning text...\n",
      "* [TextCleaner] Cleaning text...\n",
      "* [TextCleaner] Cleaning text...\n",
      "* [TextCleaner] Cleaning text...\n",
      "* [TextCleaner] Cleaning text...\n",
      "* [TextCleaner] Cleaning text...\n"
     ]
    },
    {
     "name": "stderr",
     "output_type": "stream",
     "text": [
      "1it [00:00, 34.98it/s]\n",
      "1it [00:00, 31.46it/s]\n",
      "1it [00:00, 50.18it/s]\n",
      "1it [00:00, 48.03it/s]\n",
      "1it [00:00, 30.65it/s]\n",
      "1it [00:00, 36.16it/s]\n",
      "1it [00:00, 32.41it/s]\n",
      "0it [00:00, ?it/s]"
     ]
    },
    {
     "name": "stdout",
     "output_type": "stream",
     "text": [
      "* [TextCleaner] Cleaning text...\n",
      "* [TextCleaner] Cleaning text...\n",
      "* [TextCleaner] Cleaning text...\n",
      "* [TextCleaner] Cleaning text...\n",
      "* [TextCleaner] Cleaning text...\n",
      "* [TextCleaner] Cleaning text...\n",
      "* [TextCleaner] Cleaning text...\n"
     ]
    },
    {
     "name": "stderr",
     "output_type": "stream",
     "text": [
      "1it [00:00, 32.98it/s]\n",
      "1it [00:00, 40.12it/s]\n",
      "1it [00:00, 47.56it/s]\n",
      "1it [00:00, 31.64it/s]\n",
      "1it [00:00, 33.11it/s]\n",
      "1it [00:00, 43.57it/s]\n",
      "1it [00:00, 35.81it/s]\n",
      "0it [00:00, ?it/s]"
     ]
    },
    {
     "name": "stdout",
     "output_type": "stream",
     "text": [
      "* [TextCleaner] Cleaning text...\n",
      "* [TextCleaner] Cleaning text...\n",
      "* [TextCleaner] Cleaning text...\n",
      "* [TextCleaner] Cleaning text...\n",
      "* [TextCleaner] Cleaning text...\n",
      "* [TextCleaner] Cleaning text...\n",
      "* [TextCleaner] Cleaning text...\n"
     ]
    },
    {
     "name": "stderr",
     "output_type": "stream",
     "text": [
      "1it [00:00, 33.35it/s]\n",
      "1it [00:00, 32.35it/s]\n",
      "1it [00:00, 40.37it/s]\n",
      "1it [00:00, 43.20it/s]\n",
      "1it [00:00, 37.46it/s]\n",
      "1it [00:00, 34.45it/s]\n",
      "1it [00:00, 45.89it/s]\n",
      "0it [00:00, ?it/s]"
     ]
    },
    {
     "name": "stdout",
     "output_type": "stream",
     "text": [
      "* [TextCleaner] Cleaning text...\n",
      "* [TextCleaner] Cleaning text...\n",
      "* [TextCleaner] Cleaning text...\n",
      "* [TextCleaner] Cleaning text...\n",
      "* [TextCleaner] Cleaning text...\n",
      "* [TextCleaner] Cleaning text...\n",
      "* [TextCleaner] Cleaning text...\n"
     ]
    },
    {
     "name": "stderr",
     "output_type": "stream",
     "text": [
      "1it [00:00, 42.32it/s]\n",
      "1it [00:00, 42.40it/s]\n",
      "1it [00:00, 40.08it/s]\n",
      "1it [00:00, 40.27it/s]\n",
      "1it [00:00, 34.76it/s]\n",
      "1it [00:00, 30.95it/s]\n",
      "1it [00:00, 31.69it/s]\n",
      "0it [00:00, ?it/s]"
     ]
    },
    {
     "name": "stdout",
     "output_type": "stream",
     "text": [
      "* [TextCleaner] Cleaning text...\n",
      "* [TextCleaner] Cleaning text...\n",
      "* [TextCleaner] Cleaning text...\n",
      "* [TextCleaner] Cleaning text...\n",
      "* [TextCleaner] Cleaning text...\n",
      "* [TextCleaner] Cleaning text...\n",
      "* [TextCleaner] Cleaning text...\n"
     ]
    },
    {
     "name": "stderr",
     "output_type": "stream",
     "text": [
      "1it [00:00, 28.21it/s]\n",
      "1it [00:00, 38.33it/s]\n",
      "1it [00:00, 33.54it/s]\n",
      "1it [00:00, 31.79it/s]\n",
      "1it [00:00, 31.95it/s]\n",
      "1it [00:00, 41.86it/s]\n",
      "1it [00:00, 35.20it/s]\n"
     ]
    },
    {
     "name": "stdout",
     "output_type": "stream",
     "text": [
      "* [TextCleaner] Cleaning text...\n",
      "* [TextCleaner] Cleaning text...\n",
      "* [TextCleaner] Cleaning text...\n",
      "* [TextCleaner] Cleaning text...\n",
      "* [TextCleaner] Cleaning text...\n",
      "* [TextCleaner] Cleaning text...\n",
      "* [TextCleaner] Cleaning text..."
     ]
    },
    {
     "name": "stderr",
     "output_type": "stream",
     "text": [
      "1it [00:00, 40.64it/s]\n",
      "1it [00:00, 32.93it/s]\n",
      "1it [00:00, 44.23it/s]\n",
      "1it [00:00, 40.82it/s]\n",
      "1it [00:00, 37.82it/s]\n",
      "1it [00:00, 35.59it/s]\n",
      "1it [00:00, 69.17it/s]\n",
      "0it [00:00, ?it/s]"
     ]
    },
    {
     "name": "stdout",
     "output_type": "stream",
     "text": [
      "\n",
      "* [TextCleaner] Cleaning text...\n",
      "* [TextCleaner] Cleaning text...\n",
      "* [TextCleaner] Cleaning text...\n",
      "* [TextCleaner] Cleaning text...\n",
      "* [TextCleaner] Cleaning text...\n",
      "* [TextCleaner] Cleaning text...\n",
      "* [TextCleaner] Cleaning text...\n"
     ]
    },
    {
     "name": "stderr",
     "output_type": "stream",
     "text": [
      "1it [00:00, 38.90it/s]\n",
      "1it [00:00, 37.16it/s]\n",
      "1it [00:00, 43.45it/s]\n",
      "1it [00:00, 39.38it/s]\n",
      "1it [00:00, 29.03it/s]\n",
      "1it [00:00, 38.05it/s]\n",
      "1it [00:00, 35.51it/s]\n",
      "0it [00:00, ?it/s]"
     ]
    },
    {
     "name": "stdout",
     "output_type": "stream",
     "text": [
      "* [TextCleaner] Cleaning text...\n",
      "* [TextCleaner] Cleaning text...\n",
      "* [TextCleaner] Cleaning text...\n",
      "* [TextCleaner] Cleaning text...\n",
      "* [TextCleaner] Cleaning text...\n",
      "* [TextCleaner] Cleaning text...\n",
      "* [TextCleaner] Cleaning text...\n"
     ]
    },
    {
     "name": "stderr",
     "output_type": "stream",
     "text": [
      "1it [00:00, 43.06it/s]\n",
      "1it [00:00, 35.28it/s]\n",
      "1it [00:00, 44.55it/s]\n",
      "1it [00:00, 36.19it/s]\n",
      "1it [00:00, 32.27it/s]\n",
      "1it [00:00, 39.74it/s]\n",
      "1it [00:00, 40.14it/s]\n",
      "0it [00:00, ?it/s]"
     ]
    },
    {
     "name": "stdout",
     "output_type": "stream",
     "text": [
      "* [TextCleaner] Cleaning text...\n",
      "* [TextCleaner] Cleaning text...\n",
      "* [TextCleaner] Cleaning text...\n",
      "* [TextCleaner] Cleaning text...\n",
      "* [TextCleaner] Cleaning text...\n",
      "* [TextCleaner] Cleaning text...\n",
      "* [TextCleaner] Cleaning text...\n"
     ]
    },
    {
     "name": "stderr",
     "output_type": "stream",
     "text": [
      "1it [00:00, 37.75it/s]\n",
      "1it [00:00, 31.07it/s]\n",
      "1it [00:00, 34.97it/s]\n",
      "1it [00:00, 42.78it/s]\n",
      "1it [00:00, 38.05it/s]\n",
      "1it [00:00, 44.96it/s]\n",
      "1it [00:00, 48.61it/s]\n",
      "0it [00:00, ?it/s]"
     ]
    },
    {
     "name": "stdout",
     "output_type": "stream",
     "text": [
      "* [TextCleaner] Cleaning text...\n",
      "* [TextCleaner] Cleaning text...\n",
      "* [TextCleaner] Cleaning text...\n",
      "* [TextCleaner] Cleaning text...\n",
      "* [TextCleaner] Cleaning text...\n",
      "* [TextCleaner] Cleaning text...\n",
      "* [TextCleaner] Cleaning text...\n"
     ]
    },
    {
     "name": "stderr",
     "output_type": "stream",
     "text": [
      "1it [00:00, 35.60it/s]\n",
      "1it [00:00, 40.08it/s]\n",
      "1it [00:00, 39.40it/s]\n",
      "1it [00:00, 34.10it/s]\n",
      "1it [00:00, 41.30it/s]\n",
      "1it [00:00, 40.56it/s]\n",
      "1it [00:00, 37.97it/s]\n",
      "0it [00:00, ?it/s]"
     ]
    },
    {
     "name": "stdout",
     "output_type": "stream",
     "text": [
      "* [TextCleaner] Cleaning text...\n",
      "* [TextCleaner] Cleaning text...\n",
      "* [TextCleaner] Cleaning text...\n",
      "* [TextCleaner] Cleaning text...\n",
      "* [TextCleaner] Cleaning text...\n",
      "* [TextCleaner] Cleaning text...\n",
      "* [TextCleaner] Cleaning text...\n"
     ]
    },
    {
     "name": "stderr",
     "output_type": "stream",
     "text": [
      "1it [00:00, 32.38it/s]\n",
      "1it [00:00, 34.41it/s]\n",
      "1it [00:00, 55.20it/s]\n",
      "1it [00:00, 30.63it/s]\n",
      "1it [00:00, 41.12it/s]\n",
      "1it [00:00, 32.51it/s]\n",
      "1it [00:00, 37.95it/s]\n",
      "0it [00:00, ?it/s]"
     ]
    },
    {
     "name": "stdout",
     "output_type": "stream",
     "text": [
      "* [TextCleaner] Cleaning text...\n",
      "* [TextCleaner] Cleaning text...\n",
      "* [TextCleaner] Cleaning text...\n",
      "* [TextCleaner] Cleaning text...\n",
      "* [TextCleaner] Cleaning text...\n",
      "* [TextCleaner] Cleaning text...\n",
      "* [TextCleaner] Cleaning text...\n"
     ]
    },
    {
     "name": "stderr",
     "output_type": "stream",
     "text": [
      "1it [00:00, 36.58it/s]\n",
      "1it [00:00, 30.96it/s]\n",
      "1it [00:00, 36.71it/s]\n",
      "1it [00:00, 32.09it/s]\n",
      "1it [00:00, 41.15it/s]\n",
      "1it [00:00, 39.23it/s]\n",
      "1it [00:00, 44.94it/s]\n",
      "0it [00:00, ?it/s]"
     ]
    },
    {
     "name": "stdout",
     "output_type": "stream",
     "text": [
      "* [TextCleaner] Cleaning text...\n",
      "* [TextCleaner] Cleaning text...\n",
      "* [TextCleaner] Cleaning text...\n",
      "* [TextCleaner] Cleaning text...\n",
      "* [TextCleaner] Cleaning text...\n",
      "* [TextCleaner] Cleaning text...\n",
      "* [TextCleaner] Cleaning text...\n"
     ]
    },
    {
     "name": "stderr",
     "output_type": "stream",
     "text": [
      "1it [00:00, 36.84it/s]\n",
      "1it [00:00, 35.08it/s]\n",
      "1it [00:00, 39.22it/s]\n",
      "1it [00:00, 36.61it/s]\n",
      "1it [00:00, 31.73it/s]\n",
      "1it [00:00, 41.30it/s]\n",
      "1it [00:00, 44.41it/s]\n",
      "0it [00:00, ?it/s]"
     ]
    },
    {
     "name": "stdout",
     "output_type": "stream",
     "text": [
      "* [TextCleaner] Cleaning text...\n",
      "* [TextCleaner] Cleaning text...\n",
      "* [TextCleaner] Cleaning text...\n",
      "* [TextCleaner] Cleaning text...\n",
      "* [TextCleaner] Cleaning text...\n",
      "* [TextCleaner] Cleaning text...\n",
      "* [TextCleaner] Cleaning text...\n"
     ]
    },
    {
     "name": "stderr",
     "output_type": "stream",
     "text": [
      "1it [00:00, 41.26it/s]\n",
      "1it [00:00, 36.29it/s]\n",
      "1it [00:00, 108.39it/s]\n",
      "1it [00:00, 34.72it/s]\n",
      "1it [00:00, 41.02it/s]\n",
      "1it [00:00, 38.82it/s]\n",
      "1it [00:00, 38.12it/s]\n",
      "0it [00:00, ?it/s]"
     ]
    },
    {
     "name": "stdout",
     "output_type": "stream",
     "text": [
      "* [TextCleaner] Cleaning text...\n",
      "* [TextCleaner] Cleaning text...\n",
      "* [TextCleaner] Cleaning text...\n",
      "* [TextCleaner] Cleaning text...\n",
      "* [TextCleaner] Cleaning text...\n",
      "* [TextCleaner] Cleaning text...\n",
      "* [TextCleaner] Cleaning text...\n"
     ]
    },
    {
     "name": "stderr",
     "output_type": "stream",
     "text": [
      "1it [00:00, 35.65it/s]\n",
      "1it [00:00, 46.14it/s]\n",
      "1it [00:00, 35.07it/s]\n",
      "1it [00:00, 49.19it/s]\n",
      "1it [00:00, 34.85it/s]\n",
      "1it [00:00, 37.16it/s]\n",
      "1it [00:00, 43.47it/s]\n",
      "0it [00:00, ?it/s]"
     ]
    },
    {
     "name": "stdout",
     "output_type": "stream",
     "text": [
      "* [TextCleaner] Cleaning text...\n",
      "* [TextCleaner] Cleaning text...\n",
      "* [TextCleaner] Cleaning text...\n",
      "* [TextCleaner] Cleaning text...\n",
      "* [TextCleaner] Cleaning text...\n",
      "* [TextCleaner] Cleaning text...\n",
      "* [TextCleaner] Cleaning text...\n"
     ]
    },
    {
     "name": "stderr",
     "output_type": "stream",
     "text": [
      "1it [00:00, 30.23it/s]\n",
      "1it [00:00, 42.06it/s]\n",
      "1it [00:00, 35.10it/s]\n",
      "1it [00:00, 39.99it/s]\n",
      "1it [00:00, 48.07it/s]\n",
      "1it [00:00, 53.56it/s]\n",
      "1it [00:00, 34.27it/s]\n",
      "0it [00:00, ?it/s]"
     ]
    },
    {
     "name": "stdout",
     "output_type": "stream",
     "text": [
      "* [TextCleaner] Cleaning text...\n",
      "* [TextCleaner] Cleaning text...\n",
      "* [TextCleaner] Cleaning text...\n",
      "* [TextCleaner] Cleaning text...\n",
      "* [TextCleaner] Cleaning text...\n",
      "* [TextCleaner] Cleaning text...\n",
      "* [TextCleaner] Cleaning text...\n"
     ]
    },
    {
     "name": "stderr",
     "output_type": "stream",
     "text": [
      "1it [00:00, 28.85it/s]\n",
      "1it [00:00, 40.45it/s]\n",
      "1it [00:00, 44.30it/s]\n",
      "1it [00:00, 42.69it/s]\n",
      "1it [00:00, 41.40it/s]\n",
      "1it [00:00, 39.31it/s]\n",
      "1it [00:00, 34.59it/s]\n",
      "1it [00:00, 48.37it/s]\n"
     ]
    },
    {
     "name": "stdout",
     "output_type": "stream",
     "text": [
      "* [TextCleaner] Cleaning text...\n",
      "* [TextCleaner] Cleaning text...\n",
      "* [TextCleaner] Cleaning text...\n",
      "* [TextCleaner] Cleaning text...\n",
      "* [TextCleaner] Cleaning text...\n",
      "* [TextCleaner] Cleaning text...\n",
      "* [TextCleaner] Cleaning text...\n"
     ]
    },
    {
     "name": "stderr",
     "output_type": "stream",
     "text": [
      "1it [00:00, 39.27it/s]\n",
      "1it [00:00, 48.05it/s]\n",
      "1it [00:00, 35.46it/s]\n",
      "1it [00:00, 33.63it/s]\n",
      "1it [00:00, 39.97it/s]\n",
      "1it [00:00, 40.31it/s]\n",
      "1it [00:00, 36.73it/s]\n",
      "0it [00:00, ?it/s]"
     ]
    },
    {
     "name": "stdout",
     "output_type": "stream",
     "text": [
      "* [TextCleaner] Cleaning text...\n",
      "* [TextCleaner] Cleaning text...\n",
      "* [TextCleaner] Cleaning text...\n",
      "* [TextCleaner] Cleaning text...\n",
      "* [TextCleaner] Cleaning text...\n",
      "* [TextCleaner] Cleaning text...\n",
      "* [TextCleaner] Cleaning text...\n",
      "* [TextCleaner] Cleaning text...\n"
     ]
    },
    {
     "name": "stderr",
     "output_type": "stream",
     "text": [
      "1it [00:00, 40.81it/s]\n",
      "1it [00:00, 36.73it/s]\n",
      "1it [00:00, 33.34it/s]\n",
      "1it [00:00, 44.93it/s]\n",
      "1it [00:00, 37.17it/s]\n",
      "1it [00:00, 33.85it/s]\n",
      "1it [00:00, 51.89it/s]\n",
      "0it [00:00, ?it/s]"
     ]
    },
    {
     "name": "stdout",
     "output_type": "stream",
     "text": [
      "* [TextCleaner] Cleaning text...\n",
      "* [TextCleaner] Cleaning text...\n",
      "* [TextCleaner] Cleaning text...\n",
      "* [TextCleaner] Cleaning text...\n",
      "* [TextCleaner] Cleaning text...\n",
      "* [TextCleaner] Cleaning text...\n",
      "* [TextCleaner] Cleaning text...\n"
     ]
    },
    {
     "name": "stderr",
     "output_type": "stream",
     "text": [
      "1it [00:00, 33.61it/s]\n",
      "1it [00:00, 40.82it/s]\n",
      "1it [00:00, 35.53it/s]\n",
      "1it [00:00, 35.38it/s]\n",
      "1it [00:00, 39.39it/s]\n",
      "1it [00:00, 43.14it/s]\n",
      "1it [00:00, 30.26it/s]\n",
      "0it [00:00, ?it/s]"
     ]
    },
    {
     "name": "stdout",
     "output_type": "stream",
     "text": [
      "* [TextCleaner] Cleaning text...\n",
      "* [TextCleaner] Cleaning text...\n",
      "* [TextCleaner] Cleaning text...\n",
      "* [TextCleaner] Cleaning text...\n",
      "* [TextCleaner] Cleaning text...\n",
      "* [TextCleaner] Cleaning text...\n",
      "* [TextCleaner] Cleaning text...\n"
     ]
    },
    {
     "name": "stderr",
     "output_type": "stream",
     "text": [
      "1it [00:00, 30.91it/s]\n",
      "1it [00:00, 38.63it/s]\n",
      "1it [00:00, 33.61it/s]\n",
      "1it [00:00, 29.64it/s]\n",
      "1it [00:00, 37.76it/s]\n",
      "1it [00:00, 38.03it/s]\n",
      "1it [00:00, 36.97it/s]\n"
     ]
    },
    {
     "name": "stdout",
     "output_type": "stream",
     "text": [
      "* [TextCleaner] Cleaning text...\n",
      "* [TextCleaner] Cleaning text...\n",
      "* [TextCleaner] Cleaning text...\n",
      "* [TextCleaner] Cleaning text...\n",
      "* [TextCleaner] Cleaning text...\n",
      "* [TextCleaner] Cleaning text...\n"
     ]
    },
    {
     "name": "stderr",
     "output_type": "stream",
     "text": [
      "1it [00:00, 37.84it/s]\n",
      "1it [00:00, 44.42it/s]\n",
      "1it [00:00, 43.52it/s]\n",
      "1it [00:00, 41.60it/s]\n",
      "1it [00:00, 35.56it/s]\n",
      "1it [00:00, 42.96it/s]\n",
      "1it [00:00, 75.61it/s]\n",
      "1it [00:00, 43.40it/s]\n",
      "0it [00:00, ?it/s]"
     ]
    },
    {
     "name": "stdout",
     "output_type": "stream",
     "text": [
      "* [TextCleaner] Cleaning text...\n",
      "* [TextCleaner] Cleaning text...\n",
      "* [TextCleaner] Cleaning text...\n",
      "* [TextCleaner] Cleaning text...\n",
      "* [TextCleaner] Cleaning text...\n",
      "* [TextCleaner] Cleaning text...\n",
      "* [TextCleaner] Cleaning text...\n",
      "* [TextCleaner] Cleaning text...\n",
      "* [TextCleaner] Cleaning text...\n"
     ]
    },
    {
     "name": "stderr",
     "output_type": "stream",
     "text": [
      "1it [00:00, 41.94it/s]\n",
      "1it [00:00, 31.32it/s]\n",
      "1it [00:00, 38.84it/s]\n",
      "1it [00:00, 44.42it/s]\n",
      "1it [00:00, 32.04it/s]\n",
      "1it [00:00, 34.78it/s]\n",
      "1it [00:00, 38.52it/s]\n"
     ]
    },
    {
     "name": "stdout",
     "output_type": "stream",
     "text": [
      "* [TextCleaner] Cleaning text...\n",
      "* [TextCleaner] Cleaning text...\n",
      "* [TextCleaner] Cleaning text...\n",
      "* [TextCleaner] Cleaning text...\n",
      "* [TextCleaner] Cleaning text...\n",
      "* [TextCleaner] Cleaning text...\n",
      "* [TextCleaner] Cleaning text..."
     ]
    },
    {
     "name": "stderr",
     "output_type": "stream",
     "text": [
      "1it [00:00, 35.41it/s]\n",
      "1it [00:00, 27.93it/s]\n",
      "1it [00:00, 39.77it/s]\n",
      "1it [00:00, 35.89it/s]\n",
      "1it [00:00, 37.22it/s]\n",
      "0it [00:00, ?it/s]"
     ]
    },
    {
     "name": "stdout",
     "output_type": "stream",
     "text": [
      "\n",
      "* [TextCleaner] Cleaning text...\n",
      "* [TextCleaner] Cleaning text...\n",
      "* [TextCleaner] Cleaning text...\n",
      "* [TextCleaner] Cleaning text...\n",
      "* [TextCleaner] Cleaning text...\n"
     ]
    },
    {
     "name": "stderr",
     "output_type": "stream",
     "text": [
      "1it [00:00, 28.03it/s]\n",
      "1it [00:00, 28.85it/s]\n",
      "1it [00:00, 37.13it/s]\n",
      "1it [00:00, 27.43it/s]\n",
      "1it [00:00, 34.91it/s]\n",
      "1it [00:00, 34.51it/s]\n",
      "0it [00:00, ?it/s]"
     ]
    },
    {
     "name": "stdout",
     "output_type": "stream",
     "text": [
      "* [TextCleaner] Cleaning text...\n",
      "* [TextCleaner] Cleaning text...\n",
      "* [TextCleaner] Cleaning text...\n",
      "* [TextCleaner] Cleaning text...\n",
      "* [TextCleaner] Cleaning text...\n",
      "* [TextCleaner] Cleaning text...\n"
     ]
    },
    {
     "name": "stderr",
     "output_type": "stream",
     "text": [
      "1it [00:00, 39.18it/s]\n",
      "1it [00:00, 38.26it/s]\n",
      "1it [00:00, 37.61it/s]\n",
      "1it [00:00, 37.12it/s]\n",
      "1it [00:00, 33.35it/s]\n",
      "1it [00:00, 30.47it/s]\n",
      "1it [00:00, 41.96it/s]"
     ]
    },
    {
     "name": "stdout",
     "output_type": "stream",
     "text": [
      "* [TextCleaner] Cleaning text...\n",
      "* [TextCleaner] Cleaning text...\n",
      "* [TextCleaner] Cleaning text...\n",
      "* [TextCleaner] Cleaning text...\n",
      "* [TextCleaner] Cleaning text...\n",
      "* [TextCleaner] Cleaning text...\n"
     ]
    },
    {
     "name": "stderr",
     "output_type": "stream",
     "text": [
      "\n",
      "1it [00:00, 45.26it/s]\n",
      "1it [00:00, 50.40it/s]\n",
      "1it [00:00, 34.11it/s]\n",
      "1it [00:00, 37.48it/s]\n",
      "1it [00:00, 34.93it/s]\n",
      "1it [00:00, 41.10it/s]\n",
      "1it [00:00, 31.89it/s]\n",
      "0it [00:00, ?it/s]"
     ]
    },
    {
     "name": "stdout",
     "output_type": "stream",
     "text": [
      "* [TextCleaner] Cleaning text...\n",
      "* [TextCleaner] Cleaning text...\n",
      "* [TextCleaner] Cleaning text...\n",
      "* [TextCleaner] Cleaning text...\n",
      "* [TextCleaner] Cleaning text...\n",
      "* [TextCleaner] Cleaning text...\n",
      "* [TextCleaner] Cleaning text...\n",
      "* [TextCleaner] Cleaning text...\n"
     ]
    },
    {
     "name": "stderr",
     "output_type": "stream",
     "text": [
      "1it [00:00, 42.71it/s]\n",
      "1it [00:00, 35.61it/s]\n",
      "1it [00:00, 38.24it/s]\n",
      "1it [00:00, 44.20it/s]\n",
      "1it [00:00, 50.69it/s]\n",
      "1it [00:00, 48.50it/s]\n",
      "1it [00:00, 39.69it/s]\n",
      "1it [00:00, 39.49it/s]\n"
     ]
    },
    {
     "name": "stdout",
     "output_type": "stream",
     "text": [
      "* [TextCleaner] Cleaning text...\n",
      "* [TextCleaner] Cleaning text...\n",
      "* [TextCleaner] Cleaning text...\n",
      "* [TextCleaner] Cleaning text...\n",
      "* [TextCleaner] Cleaning text...\n",
      "* [TextCleaner] Cleaning text...\n",
      "* [TextCleaner] Cleaning text...\n"
     ]
    },
    {
     "name": "stderr",
     "output_type": "stream",
     "text": [
      "1it [00:00, 39.48it/s]\n",
      "1it [00:00, 34.44it/s]\n",
      "1it [00:00, 63.74it/s]\n",
      "1it [00:00, 36.67it/s]\n",
      "1it [00:00, 35.50it/s]\n",
      "1it [00:00, 45.59it/s]\n",
      "0it [00:00, ?it/s]"
     ]
    },
    {
     "name": "stdout",
     "output_type": "stream",
     "text": [
      "* [TextCleaner] Cleaning text...\n",
      "* [TextCleaner] Cleaning text...\n",
      "* [TextCleaner] Cleaning text...\n",
      "* [TextCleaner] Cleaning text...\n",
      "* [TextCleaner] Cleaning text...\n",
      "* [TextCleaner] Cleaning text...\n",
      "* [TextCleaner] Cleaning text...\n"
     ]
    },
    {
     "name": "stderr",
     "output_type": "stream",
     "text": [
      "1it [00:00, 36.30it/s]\n",
      "1it [00:00, 40.82it/s]\n",
      "1it [00:00, 42.66it/s]\n",
      "1it [00:00, 37.51it/s]\n",
      "1it [00:00, 43.88it/s]\n",
      "1it [00:00, 38.67it/s]\n",
      "1it [00:00, 36.30it/s]\n",
      "0it [00:00, ?it/s]"
     ]
    },
    {
     "name": "stdout",
     "output_type": "stream",
     "text": [
      "* [TextCleaner] Cleaning text...\n",
      "* [TextCleaner] Cleaning text...\n",
      "* [TextCleaner] Cleaning text...\n",
      "* [TextCleaner] Cleaning text...\n",
      "* [TextCleaner] Cleaning text...\n",
      "* [TextCleaner] Cleaning text...\n",
      "* [TextCleaner] Cleaning text...\n"
     ]
    },
    {
     "name": "stderr",
     "output_type": "stream",
     "text": [
      "1it [00:00, 35.15it/s]\n",
      "1it [00:00, 37.57it/s]\n",
      "1it [00:00, 37.18it/s]\n",
      "1it [00:00, 52.33it/s]\n",
      "1it [00:00, 38.26it/s]\n",
      "1it [00:00, 43.49it/s]\n",
      "1it [00:00, 41.80it/s]\n",
      "1it [00:00, 47.64it/s]"
     ]
    },
    {
     "name": "stdout",
     "output_type": "stream",
     "text": [
      "* [TextCleaner] Cleaning text...\n",
      "* [TextCleaner] Cleaning text...\n",
      "* [TextCleaner] Cleaning text...\n",
      "* [TextCleaner] Cleaning text...\n",
      "* [TextCleaner] Cleaning text...\n",
      "* [TextCleaner] Cleaning text...\n",
      "* [TextCleaner] Cleaning text...\n"
     ]
    },
    {
     "name": "stderr",
     "output_type": "stream",
     "text": [
      "\n",
      "1it [00:00, 37.14it/s]\n",
      "1it [00:00, 35.97it/s]\n",
      "1it [00:00, 42.42it/s]\n",
      "1it [00:00, 27.94it/s]\n",
      "1it [00:00, 34.22it/s]\n",
      "1it [00:00, 34.34it/s]\n",
      "0it [00:00, ?it/s]"
     ]
    },
    {
     "name": "stdout",
     "output_type": "stream",
     "text": [
      "* [TextCleaner] Cleaning text...\n",
      "* [TextCleaner] Cleaning text...\n",
      "* [TextCleaner] Cleaning text...\n",
      "* [TextCleaner] Cleaning text...\n",
      "* [TextCleaner] Cleaning text...\n",
      "* [TextCleaner] Cleaning text...\n",
      "* [TextCleaner] Cleaning text...\n"
     ]
    },
    {
     "name": "stderr",
     "output_type": "stream",
     "text": [
      "1it [00:00, 34.40it/s]\n",
      "1it [00:00, 36.39it/s]\n",
      "1it [00:00, 40.33it/s]\n",
      "1it [00:00, 32.64it/s]\n",
      "1it [00:00, 45.14it/s]\n",
      "1it [00:00, 35.61it/s]\n",
      "1it [00:00, 32.88it/s]\n",
      "0it [00:00, ?it/s]"
     ]
    },
    {
     "name": "stdout",
     "output_type": "stream",
     "text": [
      "* [TextCleaner] Cleaning text...\n",
      "* [TextCleaner] Cleaning text...\n",
      "* [TextCleaner] Cleaning text...\n",
      "* [TextCleaner] Cleaning text...\n",
      "* [TextCleaner] Cleaning text...\n",
      "* [TextCleaner] Cleaning text...\n",
      "* [TextCleaner] Cleaning text...\n"
     ]
    },
    {
     "name": "stderr",
     "output_type": "stream",
     "text": [
      "1it [00:00, 30.17it/s]\n",
      "1it [00:00, 33.03it/s]\n",
      "1it [00:00, 43.11it/s]\n",
      "1it [00:00, 42.21it/s]\n",
      "1it [00:00, 31.84it/s]\n",
      "1it [00:00, 29.43it/s]\n",
      "1it [00:00, 40.26it/s]\n"
     ]
    },
    {
     "name": "stdout",
     "output_type": "stream",
     "text": [
      "* [TextCleaner] Cleaning text...\n",
      "* [TextCleaner] Cleaning text...\n",
      "* [TextCleaner] Cleaning text...\n",
      "* [TextCleaner] Cleaning text...\n",
      "* [TextCleaner] Cleaning text...\n",
      "* [TextCleaner] Cleaning text...\n",
      "* [TextCleaner] Cleaning text...\n"
     ]
    },
    {
     "name": "stderr",
     "output_type": "stream",
     "text": [
      "1it [00:00, 35.00it/s]\n",
      "1it [00:00, 32.00it/s]\n",
      "1it [00:00, 40.79it/s]\n",
      "1it [00:00, 33.55it/s]\n",
      "1it [00:00, 39.17it/s]\n",
      "1it [00:00, 29.82it/s]\n",
      "0it [00:00, ?it/s]"
     ]
    },
    {
     "name": "stdout",
     "output_type": "stream",
     "text": [
      "* [TextCleaner] Cleaning text...\n",
      "* [TextCleaner] Cleaning text...\n",
      "* [TextCleaner] Cleaning text...\n",
      "* [TextCleaner] Cleaning text...\n",
      "* [TextCleaner] Cleaning text...\n",
      "* [TextCleaner] Cleaning text...\n"
     ]
    },
    {
     "name": "stderr",
     "output_type": "stream",
     "text": [
      "1it [00:00, 31.39it/s]\n",
      "1it [00:00, 40.71it/s]\n",
      "1it [00:00, 40.03it/s]\n",
      "1it [00:00, 40.41it/s]\n",
      "1it [00:00, 47.46it/s]\n",
      "1it [00:00, 36.43it/s]\n",
      "1it [00:00, 44.51it/s]\n",
      "0it [00:00, ?it/s]"
     ]
    },
    {
     "name": "stdout",
     "output_type": "stream",
     "text": [
      "* [TextCleaner] Cleaning text...\n",
      "* [TextCleaner] Cleaning text...\n",
      "* [TextCleaner] Cleaning text...\n",
      "* [TextCleaner] Cleaning text...\n",
      "* [TextCleaner] Cleaning text...\n",
      "* [TextCleaner] Cleaning text...\n",
      "* [TextCleaner] Cleaning text...\n"
     ]
    },
    {
     "name": "stderr",
     "output_type": "stream",
     "text": [
      "1it [00:00, 36.71it/s]\n",
      "1it [00:00, 29.90it/s]\n",
      "1it [00:00, 55.96it/s]\n",
      "1it [00:00, 36.40it/s]\n",
      "1it [00:00, 42.76it/s]\n",
      "1it [00:00, 38.69it/s]\n",
      "1it [00:00, 44.92it/s]\n",
      "0it [00:00, ?it/s]"
     ]
    },
    {
     "name": "stdout",
     "output_type": "stream",
     "text": [
      "* [TextCleaner] Cleaning text...\n",
      "* [TextCleaner] Cleaning text...\n",
      "* [TextCleaner] Cleaning text...\n",
      "* [TextCleaner] Cleaning text...\n",
      "* [TextCleaner] Cleaning text...\n",
      "* [TextCleaner] Cleaning text...\n",
      "* [TextCleaner] Cleaning text...\n"
     ]
    },
    {
     "name": "stderr",
     "output_type": "stream",
     "text": [
      "1it [00:00, 30.11it/s]\n",
      "1it [00:00, 41.34it/s]\n",
      "1it [00:00, 33.69it/s]\n",
      "1it [00:00, 35.30it/s]\n",
      "1it [00:00, 32.81it/s]\n",
      "1it [00:00, 32.18it/s]\n",
      "1it [00:00, 36.75it/s]"
     ]
    },
    {
     "name": "stdout",
     "output_type": "stream",
     "text": [
      "* [TextCleaner] Cleaning text...\n",
      "* [TextCleaner] Cleaning text...\n",
      "* [TextCleaner] Cleaning text...\n",
      "* [TextCleaner] Cleaning text...\n",
      "* [TextCleaner] Cleaning text...\n",
      "* [TextCleaner] Cleaning text...\n"
     ]
    },
    {
     "name": "stderr",
     "output_type": "stream",
     "text": [
      "\n",
      "1it [00:00, 50.32it/s]\n",
      "1it [00:00, 35.23it/s]\n",
      "1it [00:00, 52.48it/s]\n",
      "1it [00:00, 32.58it/s]\n",
      "1it [00:00, 31.75it/s]\n",
      "1it [00:00, 37.27it/s]\n",
      "0it [00:00, ?it/s]"
     ]
    },
    {
     "name": "stdout",
     "output_type": "stream",
     "text": [
      "* [TextCleaner] Cleaning text...\n",
      "* [TextCleaner] Cleaning text...\n",
      "* [TextCleaner] Cleaning text...\n",
      "* [TextCleaner] Cleaning text...\n",
      "* [TextCleaner] Cleaning text...\n",
      "* [TextCleaner] Cleaning text...\n",
      "* [TextCleaner] Cleaning text...\n"
     ]
    },
    {
     "name": "stderr",
     "output_type": "stream",
     "text": [
      "1it [00:00, 41.22it/s]\n",
      "1it [00:00, 40.12it/s]\n",
      "1it [00:00, 45.11it/s]\n",
      "1it [00:00, 51.12it/s]\n",
      "1it [00:00, 59.16it/s]\n",
      "1it [00:00, 42.28it/s]\n",
      "1it [00:00, 37.40it/s]\n",
      "1it [00:00, 41.67it/s]\n",
      "0it [00:00, ?it/s]"
     ]
    },
    {
     "name": "stdout",
     "output_type": "stream",
     "text": [
      "* [TextCleaner] Cleaning text...\n",
      "* [TextCleaner] Cleaning text...\n",
      "* [TextCleaner] Cleaning text...\n",
      "* [TextCleaner] Cleaning text...\n",
      "* [TextCleaner] Cleaning text...\n",
      "* [TextCleaner] Cleaning text...\n",
      "* [TextCleaner] Cleaning text...\n",
      "* [TextCleaner] Cleaning text...\n"
     ]
    },
    {
     "name": "stderr",
     "output_type": "stream",
     "text": [
      "1it [00:00, 39.64it/s]\n",
      "1it [00:00, 36.94it/s]\n",
      "1it [00:00, 34.54it/s]\n",
      "1it [00:00, 39.47it/s]\n",
      "1it [00:00, 38.39it/s]\n",
      "1it [00:00, 40.88it/s]\n",
      "1it [00:00, 42.36it/s]\n",
      "0it [00:00, ?it/s]"
     ]
    },
    {
     "name": "stdout",
     "output_type": "stream",
     "text": [
      "* [TextCleaner] Cleaning text...\n",
      "* [TextCleaner] Cleaning text...\n",
      "* [TextCleaner] Cleaning text...\n",
      "* [TextCleaner] Cleaning text...\n",
      "* [TextCleaner] Cleaning text...\n",
      "* [TextCleaner] Cleaning text...\n",
      "* [TextCleaner] Cleaning text...\n"
     ]
    },
    {
     "name": "stderr",
     "output_type": "stream",
     "text": [
      "1it [00:00, 43.25it/s]\n",
      "1it [00:00, 38.56it/s]\n",
      "1it [00:00, 39.81it/s]\n",
      "1it [00:00, 43.17it/s]\n",
      "1it [00:00, 39.96it/s]\n",
      "1it [00:00, 37.85it/s]\n",
      "1it [00:00, 34.62it/s]\n",
      "0it [00:00, ?it/s]"
     ]
    },
    {
     "name": "stdout",
     "output_type": "stream",
     "text": [
      "* [TextCleaner] Cleaning text...\n",
      "* [TextCleaner] Cleaning text...\n",
      "* [TextCleaner] Cleaning text...\n",
      "* [TextCleaner] Cleaning text...\n",
      "* [TextCleaner] Cleaning text...\n",
      "* [TextCleaner] Cleaning text...\n",
      "* [TextCleaner] Cleaning text...\n"
     ]
    },
    {
     "name": "stderr",
     "output_type": "stream",
     "text": [
      "1it [00:00, 28.81it/s]\n",
      "1it [00:00, 35.54it/s]\n",
      "1it [00:00, 32.67it/s]\n",
      "1it [00:00, 82.54it/s]\n",
      "1it [00:00, 30.32it/s]\n",
      "1it [00:00, 41.78it/s]\n",
      "1it [00:00, 28.13it/s]\n",
      "0it [00:00, ?it/s]"
     ]
    },
    {
     "name": "stdout",
     "output_type": "stream",
     "text": [
      "* [TextCleaner] Cleaning text...\n",
      "* [TextCleaner] Cleaning text...\n",
      "* [TextCleaner] Cleaning text...\n",
      "* [TextCleaner] Cleaning text...\n",
      "* [TextCleaner] Cleaning text...\n",
      "* [TextCleaner] Cleaning text...\n",
      "* [TextCleaner] Cleaning text...\n"
     ]
    },
    {
     "name": "stderr",
     "output_type": "stream",
     "text": [
      "1it [00:00, 40.27it/s]\n",
      "1it [00:00, 56.03it/s]\n",
      "1it [00:00, 39.18it/s]\n",
      "1it [00:00, 42.60it/s]\n",
      "1it [00:00, 33.81it/s]\n",
      "1it [00:00, 36.80it/s]\n",
      "1it [00:00, 35.92it/s]\n",
      "0it [00:00, ?it/s]"
     ]
    },
    {
     "name": "stdout",
     "output_type": "stream",
     "text": [
      "* [TextCleaner] Cleaning text...\n",
      "* [TextCleaner] Cleaning text...\n",
      "* [TextCleaner] Cleaning text...\n",
      "* [TextCleaner] Cleaning text...\n",
      "* [TextCleaner] Cleaning text...\n",
      "* [TextCleaner] Cleaning text...\n",
      "* [TextCleaner] Cleaning text...\n"
     ]
    },
    {
     "name": "stderr",
     "output_type": "stream",
     "text": [
      "1it [00:00, 34.63it/s]\n",
      "1it [00:00, 37.71it/s]\n",
      "1it [00:00, 32.27it/s]\n",
      "1it [00:00, 37.77it/s]\n",
      "1it [00:00, 33.43it/s]\n",
      "1it [00:00, 44.94it/s]\n",
      "1it [00:00, 40.86it/s]\n",
      "0it [00:00, ?it/s]"
     ]
    },
    {
     "name": "stdout",
     "output_type": "stream",
     "text": [
      "* [TextCleaner] Cleaning text...\n",
      "* [TextCleaner] Cleaning text...\n",
      "* [TextCleaner] Cleaning text...\n",
      "* [TextCleaner] Cleaning text...\n",
      "* [TextCleaner] Cleaning text...\n",
      "* [TextCleaner] Cleaning text...\n",
      "* [TextCleaner] Cleaning text...\n"
     ]
    },
    {
     "name": "stderr",
     "output_type": "stream",
     "text": [
      "1it [00:00, 40.71it/s]\n",
      "1it [00:00, 30.84it/s]\n",
      "1it [00:00, 51.47it/s]\n",
      "1it [00:00, 55.98it/s]\n",
      "1it [00:00, 50.81it/s]\n",
      "1it [00:00, 43.50it/s]\n",
      "1it [00:00, 49.43it/s]\n",
      "1it [00:00, 43.37it/s]\n",
      "0it [00:00, ?it/s]"
     ]
    },
    {
     "name": "stdout",
     "output_type": "stream",
     "text": [
      "* [TextCleaner] Cleaning text...\n",
      "* [TextCleaner] Cleaning text...\n",
      "* [TextCleaner] Cleaning text...\n",
      "* [TextCleaner] Cleaning text...\n",
      "* [TextCleaner] Cleaning text...\n",
      "* [TextCleaner] Cleaning text...\n",
      "* [TextCleaner] Cleaning text...\n",
      "* [TextCleaner] Cleaning text...\n"
     ]
    },
    {
     "name": "stderr",
     "output_type": "stream",
     "text": [
      "1it [00:00, 32.34it/s]\n",
      "1it [00:00, 38.79it/s]\n",
      "1it [00:00, 55.40it/s]\n",
      "1it [00:00, 38.73it/s]\n",
      "1it [00:00, 31.88it/s]\n",
      "1it [00:00, 44.65it/s]\n",
      "1it [00:00, 56.45it/s]\n",
      "1it [00:00, 42.41it/s]\n",
      "0it [00:00, ?it/s]"
     ]
    },
    {
     "name": "stdout",
     "output_type": "stream",
     "text": [
      "* [TextCleaner] Cleaning text...\n",
      "* [TextCleaner] Cleaning text...\n",
      "* [TextCleaner] Cleaning text...\n",
      "* [TextCleaner] Cleaning text...\n",
      "* [TextCleaner] Cleaning text...\n",
      "* [TextCleaner] Cleaning text...\n",
      "* [TextCleaner] Cleaning text...\n",
      "* [TextCleaner] Cleaning text...\n"
     ]
    },
    {
     "name": "stderr",
     "output_type": "stream",
     "text": [
      "1it [00:00, 53.01it/s]\n",
      "1it [00:00, 38.91it/s]\n",
      "1it [00:00, 50.35it/s]\n",
      "1it [00:00, 30.57it/s]\n",
      "1it [00:00, 44.44it/s]\n",
      "1it [00:00, 38.19it/s]\n",
      "1it [00:00, 35.58it/s]\n",
      "0it [00:00, ?it/s]"
     ]
    },
    {
     "name": "stdout",
     "output_type": "stream",
     "text": [
      "* [TextCleaner] Cleaning text...\n",
      "* [TextCleaner] Cleaning text...\n",
      "* [TextCleaner] Cleaning text...\n",
      "* [TextCleaner] Cleaning text...\n",
      "* [TextCleaner] Cleaning text...\n",
      "* [TextCleaner] Cleaning text...\n",
      "* [TextCleaner] Cleaning text...\n"
     ]
    },
    {
     "name": "stderr",
     "output_type": "stream",
     "text": [
      "1it [00:00, 33.01it/s]\n",
      "1it [00:00, 37.44it/s]\n",
      "1it [00:00, 40.27it/s]\n",
      "1it [00:00, 47.18it/s]\n",
      "1it [00:00, 59.48it/s]\n",
      "1it [00:00, 47.75it/s]\n",
      "1it [00:00, 38.51it/s]\n",
      "0it [00:00, ?it/s]"
     ]
    },
    {
     "name": "stdout",
     "output_type": "stream",
     "text": [
      "* [TextCleaner] Cleaning text...\n",
      "* [TextCleaner] Cleaning text...\n",
      "* [TextCleaner] Cleaning text...\n",
      "* [TextCleaner] Cleaning text...\n",
      "* [TextCleaner] Cleaning text...\n",
      "* [TextCleaner] Cleaning text...\n",
      "* [TextCleaner] Cleaning text...\n"
     ]
    },
    {
     "name": "stderr",
     "output_type": "stream",
     "text": [
      "1it [00:00, 30.50it/s]\n",
      "1it [00:00, 42.73it/s]\n",
      "1it [00:00, 38.43it/s]\n",
      "1it [00:00, 33.93it/s]\n",
      "1it [00:00, 35.43it/s]\n",
      "1it [00:00, 43.44it/s]\n",
      "1it [00:00, 31.35it/s]\n",
      "0it [00:00, ?it/s]"
     ]
    },
    {
     "name": "stdout",
     "output_type": "stream",
     "text": [
      "* [TextCleaner] Cleaning text...\n",
      "* [TextCleaner] Cleaning text...\n",
      "* [TextCleaner] Cleaning text...\n",
      "* [TextCleaner] Cleaning text...\n",
      "* [TextCleaner] Cleaning text...\n",
      "* [TextCleaner] Cleaning text...\n",
      "* [TextCleaner] Cleaning text...\n"
     ]
    },
    {
     "name": "stderr",
     "output_type": "stream",
     "text": [
      "1it [00:00, 66.66it/s]\n",
      "1it [00:00, 33.04it/s]\n",
      "1it [00:00, 43.90it/s]\n",
      "1it [00:00, 40.46it/s]\n",
      "1it [00:00, 41.51it/s]\n",
      "1it [00:00, 41.20it/s]\n",
      "1it [00:00, 36.56it/s]\n",
      "0it [00:00, ?it/s]"
     ]
    },
    {
     "name": "stdout",
     "output_type": "stream",
     "text": [
      "* [TextCleaner] Cleaning text...\n",
      "* [TextCleaner] Cleaning text...\n",
      "* [TextCleaner] Cleaning text...\n",
      "* [TextCleaner] Cleaning text...\n",
      "* [TextCleaner] Cleaning text...\n",
      "* [TextCleaner] Cleaning text...\n",
      "* [TextCleaner] Cleaning text...\n"
     ]
    },
    {
     "name": "stderr",
     "output_type": "stream",
     "text": [
      "1it [00:00, 42.08it/s]\n",
      "1it [00:00, 40.40it/s]\n",
      "1it [00:00, 32.80it/s]\n",
      "1it [00:00, 43.14it/s]\n",
      "1it [00:00, 38.47it/s]\n",
      "1it [00:00, 55.28it/s]\n",
      "1it [00:00, 36.61it/s]\n",
      "0it [00:00, ?it/s]"
     ]
    },
    {
     "name": "stdout",
     "output_type": "stream",
     "text": [
      "* [TextCleaner] Cleaning text...\n",
      "* [TextCleaner] Cleaning text...\n",
      "* [TextCleaner] Cleaning text...\n",
      "* [TextCleaner] Cleaning text...\n",
      "* [TextCleaner] Cleaning text...\n",
      "* [TextCleaner] Cleaning text...\n",
      "* [TextCleaner] Cleaning text...\n"
     ]
    },
    {
     "name": "stderr",
     "output_type": "stream",
     "text": [
      "1it [00:00, 34.96it/s]\n",
      "1it [00:00, 39.31it/s]\n",
      "1it [00:00, 46.63it/s]\n",
      "1it [00:00, 43.55it/s]\n",
      "1it [00:00, 50.14it/s]\n",
      "1it [00:00, 38.58it/s]\n",
      "1it [00:00, 44.51it/s]\n",
      "1it [00:00, 41.61it/s]\n",
      "0it [00:00, ?it/s]"
     ]
    },
    {
     "name": "stdout",
     "output_type": "stream",
     "text": [
      "* [TextCleaner] Cleaning text...\n",
      "* [TextCleaner] Cleaning text...\n",
      "* [TextCleaner] Cleaning text...\n",
      "* [TextCleaner] Cleaning text...\n",
      "* [TextCleaner] Cleaning text...\n",
      "* [TextCleaner] Cleaning text...\n",
      "* [TextCleaner] Cleaning text...\n",
      "* [TextCleaner] Cleaning text...\n"
     ]
    },
    {
     "name": "stderr",
     "output_type": "stream",
     "text": [
      "1it [00:00, 34.76it/s]\n",
      "1it [00:00, 30.08it/s]\n",
      "1it [00:00, 37.80it/s]\n",
      "1it [00:00, 30.71it/s]\n",
      "1it [00:00, 38.62it/s]\n",
      "1it [00:00, 43.70it/s]\n",
      "1it [00:00, 36.85it/s]"
     ]
    },
    {
     "name": "stdout",
     "output_type": "stream",
     "text": [
      "* [TextCleaner] Cleaning text...\n",
      "* [TextCleaner] Cleaning text...\n",
      "* [TextCleaner] Cleaning text...\n",
      "* [TextCleaner] Cleaning text...\n",
      "* [TextCleaner] Cleaning text...\n",
      "* [TextCleaner] Cleaning text...\n"
     ]
    },
    {
     "name": "stderr",
     "output_type": "stream",
     "text": [
      "\n",
      "1it [00:00, 33.95it/s]\n",
      "1it [00:00, 38.63it/s]\n",
      "1it [00:00, 33.61it/s]\n",
      "1it [00:00, 36.07it/s]\n",
      "1it [00:00, 36.91it/s]\n",
      "0it [00:00, ?it/s]"
     ]
    },
    {
     "name": "stdout",
     "output_type": "stream",
     "text": [
      "* [TextCleaner] Cleaning text...\n",
      "* [TextCleaner] Cleaning text...\n",
      "* [TextCleaner] Cleaning text...\n",
      "* [TextCleaner] Cleaning text...\n",
      "* [TextCleaner] Cleaning text...\n",
      "* [TextCleaner] Cleaning text...\n"
     ]
    },
    {
     "name": "stderr",
     "output_type": "stream",
     "text": [
      "1it [00:00, 31.34it/s]\n",
      "1it [00:00, 28.77it/s]\n",
      "1it [00:00, 34.02it/s]\n",
      "1it [00:00, 31.83it/s]\n",
      "0it [00:00, ?it/s]"
     ]
    },
    {
     "name": "stdout",
     "output_type": "stream",
     "text": [
      "* [TextCleaner] Cleaning text...\n",
      "* [TextCleaner] Cleaning text...\n",
      "* [TextCleaner] Cleaning text...\n",
      "* [TextCleaner] Cleaning text...\n"
     ]
    },
    {
     "name": "stderr",
     "output_type": "stream",
     "text": [
      "1it [00:00, 46.63it/s]\n",
      "1it [00:00, 39.90it/s]\n",
      "1it [00:00, 29.93it/s]\n",
      "1it [00:00, 47.45it/s]\n",
      "1it [00:00, 35.73it/s]\n",
      "1it [00:00, 35.10it/s]\n",
      "1it [00:00, 37.65it/s]\n",
      "0it [00:00, ?it/s]"
     ]
    },
    {
     "name": "stdout",
     "output_type": "stream",
     "text": [
      "* [TextCleaner] Cleaning text...\n",
      "* [TextCleaner] Cleaning text...\n",
      "* [TextCleaner] Cleaning text...\n",
      "* [TextCleaner] Cleaning text...\n",
      "* [TextCleaner] Cleaning text...\n",
      "* [TextCleaner] Cleaning text...\n",
      "* [TextCleaner] Cleaning text...\n"
     ]
    },
    {
     "name": "stderr",
     "output_type": "stream",
     "text": [
      "1it [00:00, 42.12it/s]\n",
      "1it [00:00, 37.64it/s]\n",
      "1it [00:00, 37.35it/s]\n",
      "1it [00:00, 42.38it/s]\n",
      "1it [00:00, 35.06it/s]\n",
      "1it [00:00, 32.43it/s]\n",
      "1it [00:00, 41.93it/s]\n",
      "0it [00:00, ?it/s]"
     ]
    },
    {
     "name": "stdout",
     "output_type": "stream",
     "text": [
      "* [TextCleaner] Cleaning text...\n",
      "* [TextCleaner] Cleaning text...\n",
      "* [TextCleaner] Cleaning text...\n",
      "* [TextCleaner] Cleaning text...\n",
      "* [TextCleaner] Cleaning text...\n",
      "* [TextCleaner] Cleaning text...\n",
      "* [TextCleaner] Cleaning text...\n"
     ]
    },
    {
     "name": "stderr",
     "output_type": "stream",
     "text": [
      "1it [00:00, 42.15it/s]\n",
      "1it [00:00, 35.97it/s]\n",
      "1it [00:00, 38.82it/s]\n",
      "1it [00:00, 34.40it/s]\n",
      "1it [00:00, 39.36it/s]\n",
      "1it [00:00, 36.77it/s]\n",
      "1it [00:00, 36.40it/s]\n",
      "0it [00:00, ?it/s]"
     ]
    },
    {
     "name": "stdout",
     "output_type": "stream",
     "text": [
      "* [TextCleaner] Cleaning text...\n",
      "* [TextCleaner] Cleaning text...\n",
      "* [TextCleaner] Cleaning text...\n",
      "* [TextCleaner] Cleaning text...\n",
      "* [TextCleaner] Cleaning text...\n",
      "* [TextCleaner] Cleaning text...\n",
      "* [TextCleaner] Cleaning text...\n"
     ]
    },
    {
     "name": "stderr",
     "output_type": "stream",
     "text": [
      "1it [00:00, 36.69it/s]\n",
      "1it [00:00, 34.63it/s]\n",
      "1it [00:00, 44.83it/s]\n",
      "1it [00:00, 34.53it/s]\n",
      "1it [00:00, 36.87it/s]\n",
      "1it [00:00, 40.17it/s]\n",
      "1it [00:00, 45.14it/s]\n",
      "0it [00:00, ?it/s]"
     ]
    },
    {
     "name": "stdout",
     "output_type": "stream",
     "text": [
      "* [TextCleaner] Cleaning text...\n",
      "* [TextCleaner] Cleaning text...\n",
      "* [TextCleaner] Cleaning text...\n",
      "* [TextCleaner] Cleaning text...\n",
      "* [TextCleaner] Cleaning text...\n",
      "* [TextCleaner] Cleaning text...\n",
      "* [TextCleaner] Cleaning text...\n"
     ]
    },
    {
     "name": "stderr",
     "output_type": "stream",
     "text": [
      "1it [00:00, 39.47it/s]\n",
      "1it [00:00, 25.44it/s]\n",
      "1it [00:00, 39.33it/s]\n",
      "1it [00:00, 37.14it/s]\n",
      "1it [00:00, 40.55it/s]\n",
      "1it [00:00, 35.18it/s]\n",
      "1it [00:00, 45.68it/s]"
     ]
    },
    {
     "name": "stdout",
     "output_type": "stream",
     "text": [
      "* [TextCleaner] Cleaning text...\n",
      "* [TextCleaner] Cleaning text...\n",
      "* [TextCleaner] Cleaning text...\n",
      "* [TextCleaner] Cleaning text...\n",
      "* [TextCleaner] Cleaning text...\n",
      "* [TextCleaner] Cleaning text...\n"
     ]
    },
    {
     "name": "stderr",
     "output_type": "stream",
     "text": [
      "\n",
      "1it [00:00, 37.07it/s]\n",
      "1it [00:00, 38.77it/s]\n",
      "1it [00:00, 42.84it/s]\n",
      "1it [00:00, 36.52it/s]\n",
      "1it [00:00, 33.84it/s]\n",
      "1it [00:00, 32.22it/s]\n",
      "1it [00:00, 48.02it/s]\n",
      "0it [00:00, ?it/s]"
     ]
    },
    {
     "name": "stdout",
     "output_type": "stream",
     "text": [
      "* [TextCleaner] Cleaning text...\n",
      "* [TextCleaner] Cleaning text...\n",
      "* [TextCleaner] Cleaning text...\n",
      "* [TextCleaner] Cleaning text...\n",
      "* [TextCleaner] Cleaning text...\n",
      "* [TextCleaner] Cleaning text...\n",
      "* [TextCleaner] Cleaning text...\n",
      "* [TextCleaner] Cleaning text...\n"
     ]
    },
    {
     "name": "stderr",
     "output_type": "stream",
     "text": [
      "1it [00:00, 36.71it/s]\n",
      "1it [00:00, 45.42it/s]\n",
      "1it [00:00, 41.52it/s]\n",
      "1it [00:00, 39.48it/s]\n",
      "1it [00:00, 37.72it/s]\n",
      "1it [00:00, 40.19it/s]\n",
      "1it [00:00, 66.93it/s]\n",
      "1it [00:00, 39.20it/s]\n",
      "0it [00:00, ?it/s]"
     ]
    },
    {
     "name": "stdout",
     "output_type": "stream",
     "text": [
      "* [TextCleaner] Cleaning text...\n",
      "* [TextCleaner] Cleaning text...\n",
      "* [TextCleaner] Cleaning text...\n",
      "* [TextCleaner] Cleaning text...\n",
      "* [TextCleaner] Cleaning text...\n",
      "* [TextCleaner] Cleaning text...\n",
      "* [TextCleaner] Cleaning text...\n",
      "* [TextCleaner] Cleaning text...\n"
     ]
    },
    {
     "name": "stderr",
     "output_type": "stream",
     "text": [
      "1it [00:00, 30.20it/s]\n",
      "1it [00:00, 35.81it/s]\n",
      "1it [00:00, 35.53it/s]\n",
      "1it [00:00, 30.48it/s]\n",
      "1it [00:00, 31.62it/s]\n",
      "1it [00:00, 36.69it/s]\n",
      "0it [00:00, ?it/s]"
     ]
    },
    {
     "name": "stdout",
     "output_type": "stream",
     "text": [
      "* [TextCleaner] Cleaning text...\n",
      "* [TextCleaner] Cleaning text...\n",
      "* [TextCleaner] Cleaning text...\n",
      "* [TextCleaner] Cleaning text...\n",
      "* [TextCleaner] Cleaning text...\n",
      "* [TextCleaner] Cleaning text...\n"
     ]
    },
    {
     "name": "stderr",
     "output_type": "stream",
     "text": [
      "1it [00:00, 35.91it/s]\n",
      "1it [00:00, 31.69it/s]\n",
      "1it [00:00, 33.84it/s]\n",
      "1it [00:00, 38.11it/s]\n",
      "1it [00:00, 59.80it/s]\n",
      "1it [00:00, 37.75it/s]\n",
      "1it [00:00, 41.52it/s]\n",
      "0it [00:00, ?it/s]"
     ]
    },
    {
     "name": "stdout",
     "output_type": "stream",
     "text": [
      "* [TextCleaner] Cleaning text...\n",
      "* [TextCleaner] Cleaning text...\n",
      "* [TextCleaner] Cleaning text...\n",
      "* [TextCleaner] Cleaning text...\n",
      "* [TextCleaner] Cleaning text...\n",
      "* [TextCleaner] Cleaning text...\n",
      "* [TextCleaner] Cleaning text...\n"
     ]
    },
    {
     "name": "stderr",
     "output_type": "stream",
     "text": [
      "1it [00:00, 37.61it/s]\n",
      "1it [00:00, 28.87it/s]\n",
      "1it [00:00, 30.37it/s]\n",
      "1it [00:00, 40.73it/s]\n",
      "1it [00:00, 37.28it/s]\n",
      "1it [00:00, 34.58it/s]\n",
      "1it [00:00, 43.47it/s]"
     ]
    },
    {
     "name": "stdout",
     "output_type": "stream",
     "text": [
      "* [TextCleaner] Cleaning text...\n",
      "* [TextCleaner] Cleaning text...\n",
      "* [TextCleaner] Cleaning text...\n",
      "* [TextCleaner] Cleaning text...\n",
      "* [TextCleaner] Cleaning text...\n",
      "* [TextCleaner] Cleaning text...\n"
     ]
    },
    {
     "name": "stderr",
     "output_type": "stream",
     "text": [
      "\n",
      "1it [00:00, 33.96it/s]\n",
      "1it [00:00, 33.21it/s]\n",
      "1it [00:00, 33.37it/s]\n",
      "1it [00:00, 37.04it/s]\n",
      "1it [00:00, 39.73it/s]\n",
      "0it [00:00, ?it/s]"
     ]
    },
    {
     "name": "stdout",
     "output_type": "stream",
     "text": [
      "* [TextCleaner] Cleaning text...\n",
      "* [TextCleaner] Cleaning text...\n",
      "* [TextCleaner] Cleaning text...\n",
      "* [TextCleaner] Cleaning text...\n",
      "* [TextCleaner] Cleaning text...\n",
      "* [TextCleaner] Cleaning text...\n"
     ]
    },
    {
     "name": "stderr",
     "output_type": "stream",
     "text": [
      "1it [00:00, 33.22it/s]\n",
      "1it [00:00, 36.40it/s]\n",
      "1it [00:00, 35.20it/s]\n",
      "1it [00:00, 34.47it/s]\n",
      "1it [00:00, 30.60it/s]\n",
      "1it [00:00, 38.21it/s]\n",
      "0it [00:00, ?it/s]"
     ]
    },
    {
     "name": "stdout",
     "output_type": "stream",
     "text": [
      "* [TextCleaner] Cleaning text...\n",
      "* [TextCleaner] Cleaning text...\n",
      "* [TextCleaner] Cleaning text...\n",
      "* [TextCleaner] Cleaning text...\n",
      "* [TextCleaner] Cleaning text...\n",
      "* [TextCleaner] Cleaning text...\n"
     ]
    },
    {
     "name": "stderr",
     "output_type": "stream",
     "text": [
      "1it [00:00, 30.91it/s]\n",
      "1it [00:00, 39.58it/s]\n",
      "1it [00:00, 39.46it/s]\n",
      "1it [00:00, 29.26it/s]\n",
      "1it [00:00, 36.47it/s]\n",
      "1it [00:00, 34.02it/s]\n",
      "1it [00:00, 38.68it/s]\n",
      "0it [00:00, ?it/s]"
     ]
    },
    {
     "name": "stdout",
     "output_type": "stream",
     "text": [
      "* [TextCleaner] Cleaning text...\n",
      "* [TextCleaner] Cleaning text...\n",
      "* [TextCleaner] Cleaning text...\n",
      "* [TextCleaner] Cleaning text...\n",
      "* [TextCleaner] Cleaning text...\n",
      "* [TextCleaner] Cleaning text...\n",
      "* [TextCleaner] Cleaning text...\n"
     ]
    },
    {
     "name": "stderr",
     "output_type": "stream",
     "text": [
      "1it [00:00, 35.63it/s]\n",
      "1it [00:00, 46.26it/s]\n",
      "1it [00:00, 204.40it/s]\n",
      "1it [00:00, 43.17it/s]\n",
      "1it [00:00, 42.48it/s]\n",
      "1it [00:00, 28.47it/s]\n",
      "1it [00:00, 41.90it/s]\n",
      "1it [00:00, 45.29it/s]\n",
      "0it [00:00, ?it/s]"
     ]
    },
    {
     "name": "stdout",
     "output_type": "stream",
     "text": [
      "* [TextCleaner] Cleaning text...\n",
      "* [TextCleaner] Cleaning text...\n",
      "* [TextCleaner] Cleaning text...\n",
      "* [TextCleaner] Cleaning text...\n",
      "* [TextCleaner] Cleaning text...\n",
      "* [TextCleaner] Cleaning text...\n",
      "* [TextCleaner] Cleaning text...\n",
      "* [TextCleaner] Cleaning text...\n"
     ]
    },
    {
     "name": "stderr",
     "output_type": "stream",
     "text": [
      "1it [00:00, 30.51it/s]\n",
      "1it [00:00, 36.45it/s]\n",
      "1it [00:00, 38.54it/s]\n",
      "1it [00:00, 34.29it/s]\n",
      "1it [00:00, 39.46it/s]\n",
      "1it [00:00, 42.52it/s]\n",
      "1it [00:00, 36.17it/s]\n",
      "0it [00:00, ?it/s]"
     ]
    },
    {
     "name": "stdout",
     "output_type": "stream",
     "text": [
      "* [TextCleaner] Cleaning text...\n",
      "* [TextCleaner] Cleaning text...\n",
      "* [TextCleaner] Cleaning text...\n",
      "* [TextCleaner] Cleaning text...\n",
      "* [TextCleaner] Cleaning text...\n",
      "* [TextCleaner] Cleaning text...\n",
      "* [TextCleaner] Cleaning text...\n"
     ]
    },
    {
     "name": "stderr",
     "output_type": "stream",
     "text": [
      "1it [00:00, 29.77it/s]\n",
      "1it [00:00, 41.25it/s]\n",
      "1it [00:00, 45.06it/s]\n",
      "1it [00:00, 50.40it/s]\n",
      "1it [00:00, 40.30it/s]\n",
      "1it [00:00, 33.18it/s]\n",
      "1it [00:00, 35.76it/s]\n",
      "0it [00:00, ?it/s]"
     ]
    },
    {
     "name": "stdout",
     "output_type": "stream",
     "text": [
      "* [TextCleaner] Cleaning text...\n",
      "* [TextCleaner] Cleaning text...\n",
      "* [TextCleaner] Cleaning text...\n",
      "* [TextCleaner] Cleaning text...\n",
      "* [TextCleaner] Cleaning text...\n",
      "* [TextCleaner] Cleaning text...\n",
      "* [TextCleaner] Cleaning text...\n"
     ]
    },
    {
     "name": "stderr",
     "output_type": "stream",
     "text": [
      "1it [00:00, 29.22it/s]\n",
      "1it [00:00, 42.61it/s]\n",
      "1it [00:00, 44.43it/s]\n",
      "1it [00:00, 40.11it/s]\n",
      "1it [00:00, 36.42it/s]\n",
      "1it [00:00, 30.03it/s]\n",
      "1it [00:00, 36.22it/s]\n",
      "0it [00:00, ?it/s]"
     ]
    },
    {
     "name": "stdout",
     "output_type": "stream",
     "text": [
      "* [TextCleaner] Cleaning text...\n",
      "* [TextCleaner] Cleaning text...\n",
      "* [TextCleaner] Cleaning text...\n",
      "* [TextCleaner] Cleaning text...\n",
      "* [TextCleaner] Cleaning text...\n",
      "* [TextCleaner] Cleaning text...\n",
      "* [TextCleaner] Cleaning text...\n"
     ]
    },
    {
     "name": "stderr",
     "output_type": "stream",
     "text": [
      "1it [00:00, 35.35it/s]\n",
      "1it [00:00, 45.05it/s]\n",
      "1it [00:00, 38.78it/s]\n",
      "1it [00:00, 49.01it/s]\n",
      "1it [00:00, 30.76it/s]\n",
      "1it [00:00, 43.83it/s]\n",
      "1it [00:00, 39.67it/s]\n",
      "0it [00:00, ?it/s]"
     ]
    },
    {
     "name": "stdout",
     "output_type": "stream",
     "text": [
      "* [TextCleaner] Cleaning text...\n",
      "* [TextCleaner] Cleaning text...\n",
      "* [TextCleaner] Cleaning text...\n",
      "* [TextCleaner] Cleaning text...\n",
      "* [TextCleaner] Cleaning text...\n",
      "* [TextCleaner] Cleaning text...\n",
      "* [TextCleaner] Cleaning text...\n"
     ]
    },
    {
     "name": "stderr",
     "output_type": "stream",
     "text": [
      "1it [00:00, 37.92it/s]\n",
      "1it [00:00, 32.21it/s]\n",
      "1it [00:00, 40.37it/s]\n",
      "1it [00:00, 29.16it/s]\n",
      "1it [00:00, 33.15it/s]\n",
      "1it [00:00, 35.14it/s]\n",
      "0it [00:00, ?it/s]"
     ]
    },
    {
     "name": "stdout",
     "output_type": "stream",
     "text": [
      "* [TextCleaner] Cleaning text...\n",
      "* [TextCleaner] Cleaning text...\n",
      "* [TextCleaner] Cleaning text...\n",
      "* [TextCleaner] Cleaning text...\n",
      "* [TextCleaner] Cleaning text...\n",
      "* [TextCleaner] Cleaning text...\n"
     ]
    },
    {
     "name": "stderr",
     "output_type": "stream",
     "text": [
      "1it [00:00, 33.41it/s]\n",
      "1it [00:00, 31.69it/s]\n",
      "1it [00:00, 41.26it/s]\n",
      "1it [00:00, 198.78it/s]\n",
      "1it [00:00, 40.76it/s]\n",
      "1it [00:00, 36.16it/s]\n",
      "1it [00:00, 27.86it/s]\n",
      "0it [00:00, ?it/s]"
     ]
    },
    {
     "name": "stdout",
     "output_type": "stream",
     "text": [
      "* [TextCleaner] Cleaning text...\n",
      "* [TextCleaner] Cleaning text...\n",
      "* [TextCleaner] Cleaning text...\n",
      "* [TextCleaner] Cleaning text...\n",
      "* [TextCleaner] Cleaning text...\n",
      "* [TextCleaner] Cleaning text...\n",
      "* [TextCleaner] Cleaning text...\n"
     ]
    },
    {
     "name": "stderr",
     "output_type": "stream",
     "text": [
      "1it [00:00, 42.48it/s]\n",
      "1it [00:00, 75.98it/s]\n",
      "1it [00:00, 32.53it/s]\n",
      "1it [00:00, 35.86it/s]\n",
      "1it [00:00, 35.29it/s]\n",
      "1it [00:00, 35.63it/s]\n",
      "1it [00:00, 32.79it/s]\n",
      "0it [00:00, ?it/s]"
     ]
    },
    {
     "name": "stdout",
     "output_type": "stream",
     "text": [
      "* [TextCleaner] Cleaning text...\n",
      "* [TextCleaner] Cleaning text...\n",
      "* [TextCleaner] Cleaning text...\n",
      "* [TextCleaner] Cleaning text...\n",
      "* [TextCleaner] Cleaning text...\n",
      "* [TextCleaner] Cleaning text...\n",
      "* [TextCleaner] Cleaning text...\n"
     ]
    },
    {
     "name": "stderr",
     "output_type": "stream",
     "text": [
      "1it [00:00, 33.71it/s]\n",
      "1it [00:00, 43.51it/s]\n",
      "1it [00:00, 41.28it/s]\n",
      "1it [00:00, 33.90it/s]\n",
      "1it [00:00, 31.60it/s]\n",
      "1it [00:00, 30.99it/s]\n",
      "1it [00:00, 36.21it/s]\n"
     ]
    },
    {
     "name": "stdout",
     "output_type": "stream",
     "text": [
      "* [TextCleaner] Cleaning text...\n",
      "* [TextCleaner] Cleaning text...\n",
      "* [TextCleaner] Cleaning text...\n",
      "* [TextCleaner] Cleaning text...\n",
      "* [TextCleaner] Cleaning text...\n",
      "* [TextCleaner] Cleaning text...\n"
     ]
    },
    {
     "name": "stderr",
     "output_type": "stream",
     "text": [
      "1it [00:00, 36.66it/s]\n",
      "1it [00:00, 42.07it/s]\n",
      "1it [00:00, 39.87it/s]\n",
      "1it [00:00, 38.59it/s]\n",
      "1it [00:00, 154.20it/s]\n",
      "1it [00:00, 40.94it/s]\n",
      "1it [00:00, 45.60it/s]\n",
      "1it [00:00, 33.03it/s]\n",
      "0it [00:00, ?it/s]"
     ]
    },
    {
     "name": "stdout",
     "output_type": "stream",
     "text": [
      "* [TextCleaner] Cleaning text...\n",
      "* [TextCleaner] Cleaning text...\n",
      "* [TextCleaner] Cleaning text...\n",
      "* [TextCleaner] Cleaning text...\n",
      "* [TextCleaner] Cleaning text...\n",
      "* [TextCleaner] Cleaning text...\n",
      "* [TextCleaner] Cleaning text...\n",
      "* [TextCleaner] Cleaning text...\n",
      "* [TextCleaner] Cleaning text...\n"
     ]
    },
    {
     "name": "stderr",
     "output_type": "stream",
     "text": [
      "1it [00:00, 44.82it/s]\n",
      "1it [00:00, 45.58it/s]\n",
      "1it [00:00, 76.61it/s]\n",
      "1it [00:00, 45.14it/s]\n",
      "1it [00:00, 40.82it/s]\n",
      "1it [00:00, 38.76it/s]\n",
      "1it [00:00, 36.49it/s]\n",
      "1it [00:00, 35.74it/s]\n",
      "0it [00:00, ?it/s]"
     ]
    },
    {
     "name": "stdout",
     "output_type": "stream",
     "text": [
      "* [TextCleaner] Cleaning text...\n",
      "* [TextCleaner] Cleaning text...\n",
      "* [TextCleaner] Cleaning text...\n",
      "* [TextCleaner] Cleaning text...\n",
      "* [TextCleaner] Cleaning text...\n",
      "* [TextCleaner] Cleaning text...\n",
      "* [TextCleaner] Cleaning text...\n",
      "* [TextCleaner] Cleaning text...\n"
     ]
    },
    {
     "name": "stderr",
     "output_type": "stream",
     "text": [
      "1it [00:00, 29.22it/s]\n",
      "1it [00:00, 32.62it/s]\n",
      "1it [00:00, 32.87it/s]\n",
      "1it [00:00, 35.75it/s]\n",
      "1it [00:00, 39.18it/s]\n",
      "1it [00:00, 37.25it/s]\n",
      "1it [00:00, 42.63it/s]\n",
      "0it [00:00, ?it/s]"
     ]
    },
    {
     "name": "stdout",
     "output_type": "stream",
     "text": [
      "* [TextCleaner] Cleaning text...\n",
      "* [TextCleaner] Cleaning text...\n",
      "* [TextCleaner] Cleaning text...\n",
      "* [TextCleaner] Cleaning text...\n",
      "* [TextCleaner] Cleaning text...\n",
      "* [TextCleaner] Cleaning text...\n",
      "* [TextCleaner] Cleaning text...\n"
     ]
    },
    {
     "name": "stderr",
     "output_type": "stream",
     "text": [
      "1it [00:00, 34.24it/s]\n",
      "1it [00:00, 39.68it/s]\n",
      "1it [00:00, 33.95it/s]\n",
      "1it [00:00, 48.32it/s]\n",
      "1it [00:00, 41.53it/s]\n",
      "1it [00:00, 49.08it/s]\n",
      "1it [00:00, 37.85it/s]\n",
      "0it [00:00, ?it/s]"
     ]
    },
    {
     "name": "stdout",
     "output_type": "stream",
     "text": [
      "* [TextCleaner] Cleaning text...\n",
      "* [TextCleaner] Cleaning text...\n",
      "* [TextCleaner] Cleaning text...\n",
      "* [TextCleaner] Cleaning text...\n",
      "* [TextCleaner] Cleaning text...\n",
      "* [TextCleaner] Cleaning text...\n",
      "* [TextCleaner] Cleaning text...\n"
     ]
    },
    {
     "name": "stderr",
     "output_type": "stream",
     "text": [
      "1it [00:00, 31.26it/s]\n",
      "1it [00:00, 36.53it/s]\n",
      "1it [00:00, 33.54it/s]\n",
      "1it [00:00, 42.81it/s]\n",
      "1it [00:00, 33.02it/s]\n",
      "1it [00:00, 31.69it/s]\n",
      "1it [00:00, 36.95it/s]\n",
      "0it [00:00, ?it/s]"
     ]
    },
    {
     "name": "stdout",
     "output_type": "stream",
     "text": [
      "* [TextCleaner] Cleaning text...\n",
      "* [TextCleaner] Cleaning text...\n",
      "* [TextCleaner] Cleaning text...\n",
      "* [TextCleaner] Cleaning text...\n",
      "* [TextCleaner] Cleaning text...\n",
      "* [TextCleaner] Cleaning text...\n",
      "* [TextCleaner] Cleaning text...\n"
     ]
    },
    {
     "name": "stderr",
     "output_type": "stream",
     "text": [
      "1it [00:00, 43.75it/s]\n",
      "1it [00:00, 33.71it/s]\n",
      "1it [00:00, 30.03it/s]\n",
      "1it [00:00, 33.71it/s]\n",
      "1it [00:00, 31.80it/s]\n",
      "1it [00:00, 36.32it/s]\n",
      "0it [00:00, ?it/s]"
     ]
    },
    {
     "name": "stdout",
     "output_type": "stream",
     "text": [
      "* [TextCleaner] Cleaning text...\n",
      "* [TextCleaner] Cleaning text...\n",
      "* [TextCleaner] Cleaning text...\n",
      "* [TextCleaner] Cleaning text...\n",
      "* [TextCleaner] Cleaning text...\n",
      "* [TextCleaner] Cleaning text...\n"
     ]
    },
    {
     "name": "stderr",
     "output_type": "stream",
     "text": [
      "1it [00:00, 36.43it/s]\n",
      "1it [00:00, 37.81it/s]\n",
      "1it [00:00, 35.84it/s]\n",
      "1it [00:00, 42.67it/s]\n",
      "1it [00:00, 32.07it/s]\n",
      "1it [00:00, 37.25it/s]\n",
      "1it [00:00, 35.89it/s]\n"
     ]
    },
    {
     "name": "stdout",
     "output_type": "stream",
     "text": [
      "* [TextCleaner] Cleaning text...\n",
      "* [TextCleaner] Cleaning text...\n",
      "* [TextCleaner] Cleaning text...\n",
      "* [TextCleaner] Cleaning text...\n",
      "* [TextCleaner] Cleaning text...\n",
      "* [TextCleaner] Cleaning text...\n"
     ]
    },
    {
     "name": "stderr",
     "output_type": "stream",
     "text": [
      "1it [00:00, 27.06it/s]\n",
      "1it [00:00, 30.89it/s]\n",
      "1it [00:00, 37.19it/s]\n",
      "1it [00:00, 43.17it/s]\n",
      "1it [00:00, 42.84it/s]\n",
      "1it [00:00, 30.97it/s]\n",
      "1it [00:00, 32.57it/s]\n",
      "0it [00:00, ?it/s]"
     ]
    },
    {
     "name": "stdout",
     "output_type": "stream",
     "text": [
      "* [TextCleaner] Cleaning text...\n",
      "* [TextCleaner] Cleaning text...\n",
      "* [TextCleaner] Cleaning text...\n",
      "* [TextCleaner] Cleaning text...\n",
      "* [TextCleaner] Cleaning text...\n",
      "* [TextCleaner] Cleaning text...\n",
      "* [TextCleaner] Cleaning text...\n",
      "* [TextCleaner] Cleaning text...\n"
     ]
    },
    {
     "name": "stderr",
     "output_type": "stream",
     "text": [
      "1it [00:00, 36.71it/s]\n",
      "1it [00:00, 49.18it/s]\n",
      "1it [00:00, 45.00it/s]\n",
      "1it [00:00, 37.37it/s]\n",
      "1it [00:00, 46.71it/s]\n",
      "1it [00:00, 52.17it/s]\n",
      "1it [00:00, 41.68it/s]\n",
      "1it [00:00, 32.89it/s]\n",
      "0it [00:00, ?it/s]"
     ]
    },
    {
     "name": "stdout",
     "output_type": "stream",
     "text": [
      "* [TextCleaner] Cleaning text...\n",
      "* [TextCleaner] Cleaning text...\n",
      "* [TextCleaner] Cleaning text...\n",
      "* [TextCleaner] Cleaning text...\n",
      "* [TextCleaner] Cleaning text...\n",
      "* [TextCleaner] Cleaning text...\n",
      "* [TextCleaner] Cleaning text...\n",
      "* [TextCleaner] Cleaning text...\n"
     ]
    },
    {
     "name": "stderr",
     "output_type": "stream",
     "text": [
      "1it [00:00, 51.23it/s]\n",
      "1it [00:00, 37.26it/s]\n",
      "1it [00:00, 33.47it/s]\n",
      "1it [00:00, 37.08it/s]\n",
      "1it [00:00, 36.26it/s]\n",
      "1it [00:00, 41.65it/s]\n",
      "1it [00:00, 45.04it/s]\n",
      "0it [00:00, ?it/s]"
     ]
    },
    {
     "name": "stdout",
     "output_type": "stream",
     "text": [
      "* [TextCleaner] Cleaning text...\n",
      "* [TextCleaner] Cleaning text...\n",
      "* [TextCleaner] Cleaning text...\n",
      "* [TextCleaner] Cleaning text...\n",
      "* [TextCleaner] Cleaning text...\n",
      "* [TextCleaner] Cleaning text...\n",
      "* [TextCleaner] Cleaning text...\n"
     ]
    },
    {
     "name": "stderr",
     "output_type": "stream",
     "text": [
      "1it [00:00, 44.01it/s]\n",
      "1it [00:00, 34.82it/s]\n",
      "1it [00:00, 41.85it/s]\n",
      "1it [00:00, 46.61it/s]\n",
      "1it [00:00, 43.72it/s]\n",
      "1it [00:00, 41.87it/s]\n",
      "1it [00:00, 35.89it/s]\n",
      "0it [00:00, ?it/s]"
     ]
    },
    {
     "name": "stdout",
     "output_type": "stream",
     "text": [
      "* [TextCleaner] Cleaning text...\n",
      "* [TextCleaner] Cleaning text...\n",
      "* [TextCleaner] Cleaning text...\n",
      "* [TextCleaner] Cleaning text...\n",
      "* [TextCleaner] Cleaning text...\n",
      "* [TextCleaner] Cleaning text...\n",
      "* [TextCleaner] Cleaning text...\n"
     ]
    },
    {
     "name": "stderr",
     "output_type": "stream",
     "text": [
      "1it [00:00, 34.33it/s]\n",
      "1it [00:00, 34.38it/s]\n",
      "1it [00:00, 35.42it/s]\n",
      "1it [00:00, 41.51it/s]\n",
      "1it [00:00, 52.31it/s]\n",
      "1it [00:00, 26.94it/s]\n",
      "1it [00:00, 31.43it/s]\n"
     ]
    },
    {
     "name": "stdout",
     "output_type": "stream",
     "text": [
      "* [TextCleaner] Cleaning text...\n",
      "* [TextCleaner] Cleaning text...\n",
      "* [TextCleaner] Cleaning text...\n",
      "* [TextCleaner] Cleaning text...\n",
      "* [TextCleaner] Cleaning text...\n",
      "* [TextCleaner] Cleaning text...\n"
     ]
    },
    {
     "name": "stderr",
     "output_type": "stream",
     "text": [
      "1it [00:00, 40.96it/s]\n",
      "1it [00:00, 42.49it/s]\n",
      "1it [00:00, 38.65it/s]\n",
      "1it [00:00, 33.41it/s]\n",
      "1it [00:00, 250.17it/s]\n",
      "1it [00:00, 41.12it/s]\n",
      "1it [00:00, 36.91it/s]\n",
      "1it [00:00, 44.08it/s]\n",
      "0it [00:00, ?it/s]"
     ]
    },
    {
     "name": "stdout",
     "output_type": "stream",
     "text": [
      "* [TextCleaner] Cleaning text...\n",
      "* [TextCleaner] Cleaning text...\n",
      "* [TextCleaner] Cleaning text...\n",
      "* [TextCleaner] Cleaning text...\n",
      "* [TextCleaner] Cleaning text...\n",
      "* [TextCleaner] Cleaning text...\n",
      "* [TextCleaner] Cleaning text...\n",
      "* [TextCleaner] Cleaning text...\n",
      "* [TextCleaner] Cleaning text...\n"
     ]
    },
    {
     "name": "stderr",
     "output_type": "stream",
     "text": [
      "1it [00:00, 44.38it/s]\n",
      "1it [00:00, 35.75it/s]\n",
      "1it [00:00, 43.85it/s]\n",
      "1it [00:00, 32.00it/s]\n",
      "1it [00:00, 36.16it/s]\n",
      "1it [00:00, 39.15it/s]\n",
      "1it [00:00, 36.63it/s]\n",
      "0it [00:00, ?it/s]"
     ]
    },
    {
     "name": "stdout",
     "output_type": "stream",
     "text": [
      "* [TextCleaner] Cleaning text...\n",
      "* [TextCleaner] Cleaning text...\n",
      "* [TextCleaner] Cleaning text...\n",
      "* [TextCleaner] Cleaning text...\n",
      "* [TextCleaner] Cleaning text...\n",
      "* [TextCleaner] Cleaning text...\n",
      "* [TextCleaner] Cleaning text...\n"
     ]
    },
    {
     "name": "stderr",
     "output_type": "stream",
     "text": [
      "1it [00:00, 32.95it/s]\n",
      "1it [00:00, 38.30it/s]\n",
      "1it [00:00, 36.67it/s]\n",
      "1it [00:00, 28.27it/s]\n",
      "1it [00:00, 32.76it/s]\n",
      "1it [00:00, 36.85it/s]\n",
      "1it [00:00, 49.27it/s]\n"
     ]
    },
    {
     "name": "stdout",
     "output_type": "stream",
     "text": [
      "* [TextCleaner] Cleaning text...\n",
      "* [TextCleaner] Cleaning text...\n",
      "* [TextCleaner] Cleaning text...\n",
      "* [TextCleaner] Cleaning text...\n",
      "* [TextCleaner] Cleaning text...\n",
      "* [TextCleaner] Cleaning text...\n"
     ]
    },
    {
     "name": "stderr",
     "output_type": "stream",
     "text": [
      "1it [00:00, 45.90it/s]\n",
      "1it [00:00, 35.66it/s]\n",
      "1it [00:00, 34.69it/s]\n",
      "1it [00:00, 43.74it/s]\n",
      "1it [00:00, 40.07it/s]\n",
      "1it [00:00, 40.44it/s]\n",
      "1it [00:00, 32.63it/s]\n",
      "0it [00:00, ?it/s]"
     ]
    },
    {
     "name": "stdout",
     "output_type": "stream",
     "text": [
      "* [TextCleaner] Cleaning text...\n",
      "* [TextCleaner] Cleaning text...\n",
      "* [TextCleaner] Cleaning text...\n",
      "* [TextCleaner] Cleaning text...\n",
      "* [TextCleaner] Cleaning text...\n",
      "* [TextCleaner] Cleaning text...\n",
      "* [TextCleaner] Cleaning text...\n",
      "* [TextCleaner] Cleaning text...\n"
     ]
    },
    {
     "name": "stderr",
     "output_type": "stream",
     "text": [
      "1it [00:00, 38.70it/s]\n",
      "1it [00:00, 43.96it/s]\n",
      "1it [00:00, 46.04it/s]\n",
      "1it [00:00, 60.64it/s]\n",
      "1it [00:00, 39.28it/s]\n",
      "1it [00:00, 40.71it/s]\n",
      "1it [00:00, 41.94it/s]\n",
      "1it [00:00, 34.14it/s]\n",
      "0it [00:00, ?it/s]"
     ]
    },
    {
     "name": "stdout",
     "output_type": "stream",
     "text": [
      "* [TextCleaner] Cleaning text...\n",
      "* [TextCleaner] Cleaning text...\n",
      "* [TextCleaner] Cleaning text...\n",
      "* [TextCleaner] Cleaning text...\n",
      "* [TextCleaner] Cleaning text...\n",
      "* [TextCleaner] Cleaning text...\n",
      "* [TextCleaner] Cleaning text...\n",
      "* [TextCleaner] Cleaning text...\n"
     ]
    },
    {
     "name": "stderr",
     "output_type": "stream",
     "text": [
      "1it [00:00, 40.97it/s]\n",
      "1it [00:00, 30.57it/s]\n",
      "1it [00:00, 79.52it/s]\n",
      "1it [00:00, 40.27it/s]\n",
      "1it [00:00, 32.58it/s]\n",
      "1it [00:00, 34.93it/s]\n",
      "1it [00:00, 39.58it/s]\n",
      "0it [00:00, ?it/s]"
     ]
    },
    {
     "name": "stdout",
     "output_type": "stream",
     "text": [
      "* [TextCleaner] Cleaning text...\n",
      "* [TextCleaner] Cleaning text...\n",
      "* [TextCleaner] Cleaning text...\n",
      "* [TextCleaner] Cleaning text...\n",
      "* [TextCleaner] Cleaning text...\n",
      "* [TextCleaner] Cleaning text...\n",
      "* [TextCleaner] Cleaning text...\n"
     ]
    },
    {
     "name": "stderr",
     "output_type": "stream",
     "text": [
      "1it [00:00, 32.80it/s]\n",
      "1it [00:00, 35.81it/s]\n",
      "1it [00:00, 31.59it/s]\n",
      "1it [00:00, 27.78it/s]\n",
      "1it [00:00, 35.32it/s]\n",
      "1it [00:00, 57.41it/s]\n",
      "1it [00:00, 37.70it/s]"
     ]
    },
    {
     "name": "stdout",
     "output_type": "stream",
     "text": [
      "* [TextCleaner] Cleaning text...\n",
      "* [TextCleaner] Cleaning text...\n",
      "* [TextCleaner] Cleaning text...\n",
      "* [TextCleaner] Cleaning text...\n",
      "* [TextCleaner] Cleaning text...\n",
      "* [TextCleaner] Cleaning text...\n"
     ]
    },
    {
     "name": "stderr",
     "output_type": "stream",
     "text": [
      "\n",
      "1it [00:00, 43.00it/s]\n",
      "1it [00:00, 33.90it/s]\n",
      "1it [00:00, 41.34it/s]\n",
      "1it [00:00, 35.04it/s]\n",
      "1it [00:00, 45.03it/s]\n",
      "1it [00:00, 46.75it/s]\n",
      "1it [00:00, 35.69it/s]\n",
      "0it [00:00, ?it/s]"
     ]
    },
    {
     "name": "stdout",
     "output_type": "stream",
     "text": [
      "* [TextCleaner] Cleaning text...\n",
      "* [TextCleaner] Cleaning text...\n",
      "* [TextCleaner] Cleaning text...\n",
      "* [TextCleaner] Cleaning text...\n",
      "* [TextCleaner] Cleaning text...\n",
      "* [TextCleaner] Cleaning text...\n",
      "* [TextCleaner] Cleaning text...\n",
      "* [TextCleaner] Cleaning text...\n"
     ]
    },
    {
     "name": "stderr",
     "output_type": "stream",
     "text": [
      "1it [00:00, 34.63it/s]\n",
      "1it [00:00, 34.99it/s]\n",
      "1it [00:00, 41.47it/s]\n",
      "1it [00:00, 32.29it/s]\n",
      "1it [00:00, 32.80it/s]\n",
      "1it [00:00, 48.95it/s]\n",
      "1it [00:00, 37.42it/s]\n",
      "0it [00:00, ?it/s]"
     ]
    },
    {
     "name": "stdout",
     "output_type": "stream",
     "text": [
      "* [TextCleaner] Cleaning text...\n",
      "* [TextCleaner] Cleaning text...\n",
      "* [TextCleaner] Cleaning text...\n",
      "* [TextCleaner] Cleaning text...\n",
      "* [TextCleaner] Cleaning text...\n",
      "* [TextCleaner] Cleaning text...\n",
      "* [TextCleaner] Cleaning text...\n"
     ]
    },
    {
     "name": "stderr",
     "output_type": "stream",
     "text": [
      "1it [00:00, 46.35it/s]\n",
      "1it [00:00, 41.97it/s]\n",
      "1it [00:00, 41.89it/s]\n",
      "1it [00:00, 40.62it/s]\n",
      "1it [00:00, 51.28it/s]\n",
      "1it [00:00, 33.19it/s]\n",
      "1it [00:00, 73.94it/s]\n",
      "1it [00:00, 49.85it/s]\n",
      "0it [00:00, ?it/s]"
     ]
    },
    {
     "name": "stdout",
     "output_type": "stream",
     "text": [
      "* [TextCleaner] Cleaning text...\n",
      "* [TextCleaner] Cleaning text...\n",
      "* [TextCleaner] Cleaning text...\n",
      "* [TextCleaner] Cleaning text...\n",
      "* [TextCleaner] Cleaning text...\n",
      "* [TextCleaner] Cleaning text...\n",
      "* [TextCleaner] Cleaning text...\n",
      "* [TextCleaner] Cleaning text...\n"
     ]
    },
    {
     "name": "stderr",
     "output_type": "stream",
     "text": [
      "1it [00:00, 30.41it/s]\n",
      "1it [00:00, 35.12it/s]\n",
      "1it [00:00, 39.61it/s]\n",
      "1it [00:00, 34.85it/s]\n",
      "1it [00:00, 33.91it/s]\n",
      "1it [00:00, 34.37it/s]\n",
      "1it [00:00, 34.85it/s]\n"
     ]
    },
    {
     "name": "stdout",
     "output_type": "stream",
     "text": [
      "* [TextCleaner] Cleaning text...\n",
      "* [TextCleaner] Cleaning text...\n",
      "* [TextCleaner] Cleaning text...\n",
      "* [TextCleaner] Cleaning text...\n",
      "* [TextCleaner] Cleaning text...\n",
      "* [TextCleaner] Cleaning text...\n",
      "* [TextCleaner] Cleaning text...\n"
     ]
    },
    {
     "name": "stderr",
     "output_type": "stream",
     "text": [
      "1it [00:00, 35.73it/s]\n",
      "1it [00:00, 40.75it/s]\n",
      "1it [00:00, 43.20it/s]\n",
      "1it [00:00, 32.05it/s]\n",
      "1it [00:00, 30.25it/s]\n",
      "1it [00:00, 37.19it/s]\n",
      "1it [00:00, 45.93it/s]\n",
      "0it [00:00, ?it/s]"
     ]
    },
    {
     "name": "stdout",
     "output_type": "stream",
     "text": [
      "* [TextCleaner] Cleaning text...\n",
      "* [TextCleaner] Cleaning text...\n",
      "* [TextCleaner] Cleaning text...\n",
      "* [TextCleaner] Cleaning text...\n",
      "* [TextCleaner] Cleaning text...\n",
      "* [TextCleaner] Cleaning text...\n",
      "* [TextCleaner] Cleaning text...\n"
     ]
    },
    {
     "name": "stderr",
     "output_type": "stream",
     "text": [
      "1it [00:00, 39.07it/s]\n",
      "1it [00:00, 39.73it/s]\n",
      "1it [00:00, 48.82it/s]\n",
      "1it [00:00, 30.58it/s]\n",
      "1it [00:00, 38.14it/s]\n",
      "1it [00:00, 37.01it/s]\n",
      "1it [00:00, 45.42it/s]\n",
      "0it [00:00, ?it/s]"
     ]
    },
    {
     "name": "stdout",
     "output_type": "stream",
     "text": [
      "* [TextCleaner] Cleaning text...\n",
      "* [TextCleaner] Cleaning text...\n",
      "* [TextCleaner] Cleaning text...\n",
      "* [TextCleaner] Cleaning text...\n",
      "* [TextCleaner] Cleaning text...\n",
      "* [TextCleaner] Cleaning text...\n",
      "* [TextCleaner] Cleaning text...\n"
     ]
    },
    {
     "name": "stderr",
     "output_type": "stream",
     "text": [
      "1it [00:00, 33.88it/s]\n",
      "1it [00:00, 34.28it/s]\n",
      "1it [00:00, 41.30it/s]\n",
      "1it [00:00, 41.89it/s]\n",
      "1it [00:00, 34.54it/s]\n",
      "1it [00:00, 33.09it/s]\n",
      "1it [00:00, 38.24it/s]\n",
      "0it [00:00, ?it/s]"
     ]
    },
    {
     "name": "stdout",
     "output_type": "stream",
     "text": [
      "* [TextCleaner] Cleaning text...\n",
      "* [TextCleaner] Cleaning text...\n",
      "* [TextCleaner] Cleaning text...\n",
      "* [TextCleaner] Cleaning text...\n",
      "* [TextCleaner] Cleaning text...\n",
      "* [TextCleaner] Cleaning text...\n",
      "* [TextCleaner] Cleaning text...\n"
     ]
    },
    {
     "name": "stderr",
     "output_type": "stream",
     "text": [
      "1it [00:00, 40.58it/s]\n",
      "1it [00:00, 54.83it/s]\n",
      "1it [00:00, 35.19it/s]\n",
      "1it [00:00, 39.23it/s]\n",
      "1it [00:00, 44.98it/s]\n",
      "1it [00:00, 38.86it/s]\n",
      "1it [00:00, 45.42it/s]\n",
      "1it [00:00, 44.79it/s]\n",
      "0it [00:00, ?it/s]"
     ]
    },
    {
     "name": "stdout",
     "output_type": "stream",
     "text": [
      "* [TextCleaner] Cleaning text...\n",
      "* [TextCleaner] Cleaning text...\n",
      "* [TextCleaner] Cleaning text...\n",
      "* [TextCleaner] Cleaning text...\n",
      "* [TextCleaner] Cleaning text...\n",
      "* [TextCleaner] Cleaning text...\n",
      "* [TextCleaner] Cleaning text...\n",
      "* [TextCleaner] Cleaning text...\n"
     ]
    },
    {
     "name": "stderr",
     "output_type": "stream",
     "text": [
      "1it [00:00, 34.14it/s]\n",
      "1it [00:00, 38.20it/s]\n",
      "1it [00:00, 49.58it/s]\n",
      "1it [00:00, 34.59it/s]\n",
      "1it [00:00, 39.16it/s]\n",
      "1it [00:00, 36.44it/s]\n",
      "1it [00:00, 28.92it/s]\n",
      "0it [00:00, ?it/s]"
     ]
    },
    {
     "name": "stdout",
     "output_type": "stream",
     "text": [
      "* [TextCleaner] Cleaning text...\n",
      "* [TextCleaner] Cleaning text...\n",
      "* [TextCleaner] Cleaning text...\n",
      "* [TextCleaner] Cleaning text...\n",
      "* [TextCleaner] Cleaning text...\n",
      "* [TextCleaner] Cleaning text...\n",
      "* [TextCleaner] Cleaning text...\n"
     ]
    },
    {
     "name": "stderr",
     "output_type": "stream",
     "text": [
      "1it [00:00, 29.80it/s]\n",
      "1it [00:00, 42.02it/s]\n",
      "1it [00:00, 36.02it/s]\n",
      "1it [00:00, 34.83it/s]\n",
      "1it [00:00, 50.95it/s]\n",
      "1it [00:00, 36.51it/s]\n",
      "1it [00:00, 37.88it/s]\n",
      "0it [00:00, ?it/s]"
     ]
    },
    {
     "name": "stdout",
     "output_type": "stream",
     "text": [
      "* [TextCleaner] Cleaning text...\n",
      "* [TextCleaner] Cleaning text...\n",
      "* [TextCleaner] Cleaning text...\n",
      "* [TextCleaner] Cleaning text...\n",
      "* [TextCleaner] Cleaning text...\n",
      "* [TextCleaner] Cleaning text...\n",
      "* [TextCleaner] Cleaning text...\n"
     ]
    },
    {
     "name": "stderr",
     "output_type": "stream",
     "text": [
      "1it [00:00, 33.71it/s]\n",
      "1it [00:00, 31.45it/s]\n",
      "1it [00:00, 34.86it/s]\n",
      "1it [00:00, 37.32it/s]\n",
      "1it [00:00, 38.24it/s]\n",
      "1it [00:00, 36.93it/s]\n",
      "0it [00:00, ?it/s]"
     ]
    },
    {
     "name": "stdout",
     "output_type": "stream",
     "text": [
      "* [TextCleaner] Cleaning text...\n",
      "* [TextCleaner] Cleaning text...\n",
      "* [TextCleaner] Cleaning text...\n",
      "* [TextCleaner] Cleaning text...\n",
      "* [TextCleaner] Cleaning text...\n",
      "* [TextCleaner] Cleaning text...\n"
     ]
    },
    {
     "name": "stderr",
     "output_type": "stream",
     "text": [
      "1it [00:00, 34.46it/s]\n",
      "1it [00:00, 32.97it/s]\n",
      "1it [00:00, 48.25it/s]\n",
      "1it [00:00, 44.48it/s]\n"
     ]
    },
    {
     "name": "stdout",
     "output_type": "stream",
     "text": [
      "* [TextCleaner] Cleaning text...\n",
      "* [TextCleaner] Cleaning text...\n",
      "* [TextCleaner] Cleaning text...\n"
     ]
    }
   ],
   "source": [
    "X_train = vectorizer.fit_transform(data_train)"
   ]
  },
  {
   "cell_type": "code",
   "execution_count": 13,
   "metadata": {},
   "outputs": [
    {
     "name": "stderr",
     "output_type": "stream",
     "text": [
      "1it [00:00, 31.56it/s]\n",
      "1it [00:00, 41.17it/s]\n",
      "1it [00:00, 32.16it/s]\n",
      "1it [00:00, 49.15it/s]\n",
      "1it [00:00, 31.46it/s]\n",
      "1it [00:00, 37.28it/s]\n",
      "0it [00:00, ?it/s]"
     ]
    },
    {
     "name": "stdout",
     "output_type": "stream",
     "text": [
      "* [TextCleaner] Cleaning text...\n",
      "* [TextCleaner] Cleaning text...\n",
      "* [TextCleaner] Cleaning text...\n",
      "* [TextCleaner] Cleaning text...\n",
      "* [TextCleaner] Cleaning text...\n",
      "* [TextCleaner] Cleaning text...\n",
      "* [TextCleaner] Cleaning text...\n"
     ]
    },
    {
     "name": "stderr",
     "output_type": "stream",
     "text": [
      "1it [00:00, 34.69it/s]\n",
      "1it [00:00, 47.65it/s]\n",
      "1it [00:00, 42.58it/s]\n",
      "1it [00:00, 73.86it/s]\n",
      "1it [00:00, 32.98it/s]\n",
      "1it [00:00, 30.86it/s]\n",
      "1it [00:00, 40.82it/s]\n",
      "1it [00:00, 47.78it/s]\n",
      "0it [00:00, ?it/s]"
     ]
    },
    {
     "name": "stdout",
     "output_type": "stream",
     "text": [
      "* [TextCleaner] Cleaning text...\n",
      "* [TextCleaner] Cleaning text...\n",
      "* [TextCleaner] Cleaning text...\n",
      "* [TextCleaner] Cleaning text...\n",
      "* [TextCleaner] Cleaning text...\n",
      "* [TextCleaner] Cleaning text...\n",
      "* [TextCleaner] Cleaning text...\n",
      "* [TextCleaner] Cleaning text...\n"
     ]
    },
    {
     "name": "stderr",
     "output_type": "stream",
     "text": [
      "1it [00:00, 42.21it/s]\n",
      "1it [00:00, 40.50it/s]\n",
      "1it [00:00, 33.46it/s]\n",
      "1it [00:00, 36.49it/s]\n",
      "1it [00:00, 32.52it/s]\n",
      "1it [00:00, 40.08it/s]\n",
      "0it [00:00, ?it/s]"
     ]
    },
    {
     "name": "stdout",
     "output_type": "stream",
     "text": [
      "* [TextCleaner] Cleaning text...\n",
      "* [TextCleaner] Cleaning text...\n",
      "* [TextCleaner] Cleaning text...\n",
      "* [TextCleaner] Cleaning text...\n",
      "* [TextCleaner] Cleaning text...\n",
      "* [TextCleaner] Cleaning text...\n"
     ]
    },
    {
     "name": "stderr",
     "output_type": "stream",
     "text": [
      "1it [00:00, 31.80it/s]\n",
      "1it [00:00, 38.48it/s]\n",
      "1it [00:00, 37.70it/s]\n",
      "1it [00:00, 45.94it/s]\n",
      "1it [00:00, 32.22it/s]\n",
      "1it [00:00, 36.95it/s]\n",
      "1it [00:00, 30.89it/s]\n",
      "0it [00:00, ?it/s]"
     ]
    },
    {
     "name": "stdout",
     "output_type": "stream",
     "text": [
      "* [TextCleaner] Cleaning text...\n",
      "* [TextCleaner] Cleaning text...\n",
      "* [TextCleaner] Cleaning text...\n",
      "* [TextCleaner] Cleaning text...\n",
      "* [TextCleaner] Cleaning text...\n",
      "* [TextCleaner] Cleaning text...\n",
      "* [TextCleaner] Cleaning text...\n"
     ]
    },
    {
     "name": "stderr",
     "output_type": "stream",
     "text": [
      "1it [00:00, 43.75it/s]\n",
      "1it [00:00, 31.68it/s]\n",
      "1it [00:00, 36.76it/s]\n",
      "1it [00:00, 36.01it/s]\n",
      "1it [00:00, 40.50it/s]\n",
      "1it [00:00, 38.67it/s]\n",
      "1it [00:00, 33.67it/s]"
     ]
    },
    {
     "name": "stdout",
     "output_type": "stream",
     "text": [
      "* [TextCleaner] Cleaning text...\n",
      "* [TextCleaner] Cleaning text...\n",
      "* [TextCleaner] Cleaning text...\n",
      "* [TextCleaner] Cleaning text...\n",
      "* [TextCleaner] Cleaning text...\n",
      "* [TextCleaner] Cleaning text...\n",
      "* [TextCleaner] Cleaning text...\n"
     ]
    },
    {
     "name": "stderr",
     "output_type": "stream",
     "text": [
      "\n",
      "1it [00:00, 23.27it/s]\n",
      "1it [00:00, 38.77it/s]\n",
      "1it [00:00, 38.50it/s]\n",
      "1it [00:00, 28.07it/s]\n",
      "1it [00:00, 41.34it/s]\n",
      "0it [00:00, ?it/s]"
     ]
    },
    {
     "name": "stdout",
     "output_type": "stream",
     "text": [
      "* [TextCleaner] Cleaning text...\n",
      "* [TextCleaner] Cleaning text...\n",
      "* [TextCleaner] Cleaning text...\n",
      "* [TextCleaner] Cleaning text...\n",
      "* [TextCleaner] Cleaning text...\n"
     ]
    },
    {
     "name": "stderr",
     "output_type": "stream",
     "text": [
      "1it [00:00, 42.75it/s]\n",
      "1it [00:00, 46.04it/s]\n",
      "1it [00:00, 44.98it/s]\n",
      "1it [00:00, 43.45it/s]\n",
      "1it [00:00, 35.45it/s]\n",
      "1it [00:00, 44.79it/s]\n",
      "1it [00:00, 36.47it/s]\n",
      "0it [00:00, ?it/s]"
     ]
    },
    {
     "name": "stdout",
     "output_type": "stream",
     "text": [
      "* [TextCleaner] Cleaning text...\n",
      "* [TextCleaner] Cleaning text...\n",
      "* [TextCleaner] Cleaning text...\n",
      "* [TextCleaner] Cleaning text...\n",
      "* [TextCleaner] Cleaning text...\n",
      "* [TextCleaner] Cleaning text...\n",
      "* [TextCleaner] Cleaning text...\n"
     ]
    },
    {
     "name": "stderr",
     "output_type": "stream",
     "text": [
      "1it [00:00, 32.64it/s]\n",
      "1it [00:00, 33.55it/s]\n",
      "1it [00:00, 34.33it/s]\n",
      "1it [00:00, 34.88it/s]\n",
      "1it [00:00, 56.84it/s]\n",
      "1it [00:00, 34.40it/s]\n",
      "1it [00:00, 46.91it/s]\n",
      "0it [00:00, ?it/s]"
     ]
    },
    {
     "name": "stdout",
     "output_type": "stream",
     "text": [
      "* [TextCleaner] Cleaning text...\n",
      "* [TextCleaner] Cleaning text...\n",
      "* [TextCleaner] Cleaning text...\n",
      "* [TextCleaner] Cleaning text...\n",
      "* [TextCleaner] Cleaning text...\n",
      "* [TextCleaner] Cleaning text...\n",
      "* [TextCleaner] Cleaning text...\n"
     ]
    },
    {
     "name": "stderr",
     "output_type": "stream",
     "text": [
      "1it [00:00, 36.37it/s]\n",
      "1it [00:00, 34.06it/s]\n",
      "1it [00:00, 32.90it/s]\n",
      "1it [00:00, 46.40it/s]\n",
      "1it [00:00, 37.97it/s]\n",
      "1it [00:00, 30.85it/s]\n",
      "1it [00:00, 39.29it/s]\n",
      "0it [00:00, ?it/s]"
     ]
    },
    {
     "name": "stdout",
     "output_type": "stream",
     "text": [
      "* [TextCleaner] Cleaning text...\n",
      "* [TextCleaner] Cleaning text...\n",
      "* [TextCleaner] Cleaning text...\n",
      "* [TextCleaner] Cleaning text...\n",
      "* [TextCleaner] Cleaning text...\n",
      "* [TextCleaner] Cleaning text...\n",
      "* [TextCleaner] Cleaning text...\n"
     ]
    },
    {
     "name": "stderr",
     "output_type": "stream",
     "text": [
      "1it [00:00, 36.34it/s]\n",
      "1it [00:00, 36.29it/s]\n",
      "1it [00:00, 44.65it/s]\n",
      "1it [00:00, 45.77it/s]\n",
      "1it [00:00, 29.03it/s]\n",
      "1it [00:00, 42.73it/s]\n",
      "1it [00:00, 36.24it/s]\n",
      "0it [00:00, ?it/s]"
     ]
    },
    {
     "name": "stdout",
     "output_type": "stream",
     "text": [
      "* [TextCleaner] Cleaning text...\n",
      "* [TextCleaner] Cleaning text...\n",
      "* [TextCleaner] Cleaning text...\n",
      "* [TextCleaner] Cleaning text...\n",
      "* [TextCleaner] Cleaning text...\n",
      "* [TextCleaner] Cleaning text...\n",
      "* [TextCleaner] Cleaning text...\n"
     ]
    },
    {
     "name": "stderr",
     "output_type": "stream",
     "text": [
      "1it [00:00, 34.09it/s]\n",
      "1it [00:00, 41.63it/s]\n",
      "1it [00:00, 31.93it/s]\n",
      "1it [00:00, 33.39it/s]\n",
      "1it [00:00, 32.65it/s]\n",
      "1it [00:00, 38.60it/s]\n",
      "1it [00:00, 37.71it/s]"
     ]
    },
    {
     "name": "stdout",
     "output_type": "stream",
     "text": [
      "* [TextCleaner] Cleaning text...\n",
      "* [TextCleaner] Cleaning text...\n",
      "* [TextCleaner] Cleaning text...\n",
      "* [TextCleaner] Cleaning text...\n",
      "* [TextCleaner] Cleaning text...\n",
      "* [TextCleaner] Cleaning text...\n"
     ]
    },
    {
     "name": "stderr",
     "output_type": "stream",
     "text": [
      "\n",
      "1it [00:00, 40.68it/s]\n",
      "1it [00:00, 36.09it/s]\n",
      "1it [00:00, 37.54it/s]\n",
      "1it [00:00, 48.19it/s]\n",
      "1it [00:00, 44.41it/s]\n",
      "1it [00:00, 46.61it/s]\n",
      "1it [00:00, 44.92it/s]\n",
      "0it [00:00, ?it/s]"
     ]
    },
    {
     "name": "stdout",
     "output_type": "stream",
     "text": [
      "* [TextCleaner] Cleaning text...\n",
      "* [TextCleaner] Cleaning text...\n",
      "* [TextCleaner] Cleaning text...\n",
      "* [TextCleaner] Cleaning text...\n",
      "* [TextCleaner] Cleaning text...\n",
      "* [TextCleaner] Cleaning text...\n",
      "* [TextCleaner] Cleaning text...\n",
      "* [TextCleaner] Cleaning text...\n"
     ]
    },
    {
     "name": "stderr",
     "output_type": "stream",
     "text": [
      "1it [00:00, 27.30it/s]\n",
      "1it [00:00, 42.37it/s]\n",
      "1it [00:00, 41.89it/s]\n",
      "1it [00:00, 49.10it/s]\n",
      "1it [00:00, 32.13it/s]\n",
      "1it [00:00, 33.96it/s]\n",
      "1it [00:00, 42.13it/s]\n",
      "0it [00:00, ?it/s]"
     ]
    },
    {
     "name": "stdout",
     "output_type": "stream",
     "text": [
      "* [TextCleaner] Cleaning text...\n",
      "* [TextCleaner] Cleaning text...\n",
      "* [TextCleaner] Cleaning text...\n",
      "* [TextCleaner] Cleaning text...\n",
      "* [TextCleaner] Cleaning text...\n",
      "* [TextCleaner] Cleaning text...\n",
      "* [TextCleaner] Cleaning text...\n"
     ]
    },
    {
     "name": "stderr",
     "output_type": "stream",
     "text": [
      "1it [00:00, 40.88it/s]\n",
      "1it [00:00, 38.45it/s]\n",
      "1it [00:00, 33.13it/s]\n",
      "1it [00:00, 42.06it/s]\n",
      "1it [00:00, 37.52it/s]\n",
      "1it [00:00, 33.67it/s]\n",
      "1it [00:00, 36.68it/s]\n",
      "0it [00:00, ?it/s]"
     ]
    },
    {
     "name": "stdout",
     "output_type": "stream",
     "text": [
      "* [TextCleaner] Cleaning text...\n",
      "* [TextCleaner] Cleaning text...\n",
      "* [TextCleaner] Cleaning text...\n",
      "* [TextCleaner] Cleaning text...\n",
      "* [TextCleaner] Cleaning text...\n",
      "* [TextCleaner] Cleaning text...\n",
      "* [TextCleaner] Cleaning text...\n"
     ]
    },
    {
     "name": "stderr",
     "output_type": "stream",
     "text": [
      "1it [00:00, 39.26it/s]\n",
      "1it [00:00, 33.69it/s]\n",
      "1it [00:00, 38.82it/s]\n",
      "1it [00:00, 43.73it/s]\n",
      "1it [00:00, 32.73it/s]\n",
      "1it [00:00, 30.66it/s]\n",
      "1it [00:00, 41.51it/s]\n",
      "0it [00:00, ?it/s]"
     ]
    },
    {
     "name": "stdout",
     "output_type": "stream",
     "text": [
      "* [TextCleaner] Cleaning text...\n",
      "* [TextCleaner] Cleaning text...\n",
      "* [TextCleaner] Cleaning text...\n",
      "* [TextCleaner] Cleaning text...\n",
      "* [TextCleaner] Cleaning text...\n",
      "* [TextCleaner] Cleaning text...\n",
      "* [TextCleaner] Cleaning text...\n"
     ]
    },
    {
     "name": "stderr",
     "output_type": "stream",
     "text": [
      "1it [00:00, 43.58it/s]\n",
      "1it [00:00, 36.54it/s]\n",
      "1it [00:00, 38.26it/s]\n",
      "1it [00:00, 45.11it/s]\n",
      "1it [00:00, 42.81it/s]\n",
      "1it [00:00, 34.15it/s]\n",
      "1it [00:00, 27.64it/s]\n",
      "0it [00:00, ?it/s]"
     ]
    },
    {
     "name": "stdout",
     "output_type": "stream",
     "text": [
      "* [TextCleaner] Cleaning text...\n",
      "* [TextCleaner] Cleaning text...\n",
      "* [TextCleaner] Cleaning text...\n",
      "* [TextCleaner] Cleaning text...\n",
      "* [TextCleaner] Cleaning text...\n",
      "* [TextCleaner] Cleaning text...\n",
      "* [TextCleaner] Cleaning text...\n"
     ]
    },
    {
     "name": "stderr",
     "output_type": "stream",
     "text": [
      "1it [00:00, 37.81it/s]\n",
      "1it [00:00, 246.13it/s]\n",
      "1it [00:00, 36.58it/s]\n",
      "1it [00:00, 34.47it/s]\n",
      "1it [00:00, 41.19it/s]\n",
      "1it [00:00, 41.03it/s]\n",
      "1it [00:00, 37.29it/s]\n",
      "1it [00:00, 34.09it/s]\n"
     ]
    },
    {
     "name": "stdout",
     "output_type": "stream",
     "text": [
      "* [TextCleaner] Cleaning text...\n",
      "* [TextCleaner] Cleaning text...\n",
      "* [TextCleaner] Cleaning text...\n",
      "* [TextCleaner] Cleaning text...\n",
      "* [TextCleaner] Cleaning text...\n",
      "* [TextCleaner] Cleaning text...\n",
      "* [TextCleaner] Cleaning text...\n"
     ]
    },
    {
     "name": "stderr",
     "output_type": "stream",
     "text": [
      "1it [00:00, 38.39it/s]\n",
      "1it [00:00, 39.15it/s]\n",
      "1it [00:00, 39.10it/s]\n",
      "1it [00:00, 36.84it/s]\n",
      "1it [00:00, 53.90it/s]\n",
      "1it [00:00, 30.76it/s]\n",
      "0it [00:00, ?it/s]"
     ]
    },
    {
     "name": "stdout",
     "output_type": "stream",
     "text": [
      "* [TextCleaner] Cleaning text...\n",
      "* [TextCleaner] Cleaning text...\n",
      "* [TextCleaner] Cleaning text...\n",
      "* [TextCleaner] Cleaning text...\n",
      "* [TextCleaner] Cleaning text...\n",
      "* [TextCleaner] Cleaning text...\n",
      "* [TextCleaner] Cleaning text...\n"
     ]
    },
    {
     "name": "stderr",
     "output_type": "stream",
     "text": [
      "1it [00:00, 46.55it/s]\n",
      "1it [00:00, 32.30it/s]\n",
      "1it [00:00, 37.48it/s]\n",
      "1it [00:00, 33.60it/s]\n",
      "1it [00:00, 30.67it/s]\n",
      "1it [00:00, 37.02it/s]\n",
      "1it [00:00, 43.68it/s]\n"
     ]
    },
    {
     "name": "stdout",
     "output_type": "stream",
     "text": [
      "* [TextCleaner] Cleaning text...\n",
      "* [TextCleaner] Cleaning text...\n",
      "* [TextCleaner] Cleaning text...\n",
      "* [TextCleaner] Cleaning text...\n",
      "* [TextCleaner] Cleaning text...\n",
      "* [TextCleaner] Cleaning text...\n"
     ]
    },
    {
     "name": "stderr",
     "output_type": "stream",
     "text": [
      "1it [00:00, 38.76it/s]\n",
      "1it [00:00, 39.01it/s]\n",
      "1it [00:00, 35.26it/s]\n",
      "1it [00:00, 30.67it/s]\n",
      "1it [00:00, 44.27it/s]\n",
      "1it [00:00, 84.61it/s]\n",
      "0it [00:00, ?it/s]"
     ]
    },
    {
     "name": "stdout",
     "output_type": "stream",
     "text": [
      "* [TextCleaner] Cleaning text...\n",
      "* [TextCleaner] Cleaning text...\n",
      "* [TextCleaner] Cleaning text...\n",
      "* [TextCleaner] Cleaning text...\n",
      "* [TextCleaner] Cleaning text...\n",
      "* [TextCleaner] Cleaning text...\n",
      "* [TextCleaner] Cleaning text...\n"
     ]
    },
    {
     "name": "stderr",
     "output_type": "stream",
     "text": [
      "1it [00:00, 44.48it/s]\n",
      "1it [00:00, 38.19it/s]\n",
      "1it [00:00, 41.09it/s]\n",
      "1it [00:00, 46.77it/s]\n",
      "1it [00:00, 35.10it/s]\n",
      "1it [00:00, 35.00it/s]\n",
      "1it [00:00, 34.42it/s]\n",
      "0it [00:00, ?it/s]"
     ]
    },
    {
     "name": "stdout",
     "output_type": "stream",
     "text": [
      "* [TextCleaner] Cleaning text...\n",
      "* [TextCleaner] Cleaning text...\n",
      "* [TextCleaner] Cleaning text...\n",
      "* [TextCleaner] Cleaning text...\n",
      "* [TextCleaner] Cleaning text...\n",
      "* [TextCleaner] Cleaning text...\n",
      "* [TextCleaner] Cleaning text...\n"
     ]
    },
    {
     "name": "stderr",
     "output_type": "stream",
     "text": [
      "1it [00:00, 42.21it/s]\n",
      "1it [00:00, 30.24it/s]\n",
      "1it [00:00, 34.34it/s]\n",
      "1it [00:00, 36.23it/s]\n",
      "1it [00:00, 33.16it/s]\n",
      "1it [00:00, 41.62it/s]\n",
      "1it [00:00, 86.34it/s]\n",
      "0it [00:00, ?it/s]"
     ]
    },
    {
     "name": "stdout",
     "output_type": "stream",
     "text": [
      "* [TextCleaner] Cleaning text...\n",
      "* [TextCleaner] Cleaning text...\n",
      "* [TextCleaner] Cleaning text...\n",
      "* [TextCleaner] Cleaning text...\n",
      "* [TextCleaner] Cleaning text...\n",
      "* [TextCleaner] Cleaning text...\n",
      "* [TextCleaner] Cleaning text...\n"
     ]
    },
    {
     "name": "stderr",
     "output_type": "stream",
     "text": [
      "1it [00:00, 39.27it/s]\n",
      "1it [00:00, 35.52it/s]\n",
      "1it [00:00, 33.76it/s]\n",
      "1it [00:00, 32.28it/s]\n",
      "1it [00:00, 34.39it/s]\n",
      "1it [00:00, 42.77it/s]\n",
      "1it [00:00, 38.90it/s]\n",
      "0it [00:00, ?it/s]"
     ]
    },
    {
     "name": "stdout",
     "output_type": "stream",
     "text": [
      "* [TextCleaner] Cleaning text...\n",
      "* [TextCleaner] Cleaning text...\n",
      "* [TextCleaner] Cleaning text...\n",
      "* [TextCleaner] Cleaning text...\n",
      "* [TextCleaner] Cleaning text...\n",
      "* [TextCleaner] Cleaning text...\n",
      "* [TextCleaner] Cleaning text...\n"
     ]
    },
    {
     "name": "stderr",
     "output_type": "stream",
     "text": [
      "1it [00:00, 30.06it/s]\n",
      "1it [00:00, 30.21it/s]\n",
      "1it [00:00, 34.98it/s]\n",
      "1it [00:00, 42.10it/s]\n",
      "1it [00:00, 41.17it/s]\n",
      "1it [00:00, 32.27it/s]\n",
      "1it [00:00, 41.41it/s]\n",
      "0it [00:00, ?it/s]"
     ]
    },
    {
     "name": "stdout",
     "output_type": "stream",
     "text": [
      "* [TextCleaner] Cleaning text...\n",
      "* [TextCleaner] Cleaning text...\n",
      "* [TextCleaner] Cleaning text...\n",
      "* [TextCleaner] Cleaning text...\n",
      "* [TextCleaner] Cleaning text...\n",
      "* [TextCleaner] Cleaning text...\n",
      "* [TextCleaner] Cleaning text...\n"
     ]
    },
    {
     "name": "stderr",
     "output_type": "stream",
     "text": [
      "1it [00:00, 45.63it/s]\n",
      "1it [00:00, 33.22it/s]\n",
      "1it [00:00, 36.48it/s]\n",
      "1it [00:00, 32.08it/s]\n",
      "1it [00:00, 38.88it/s]\n",
      "1it [00:00, 35.89it/s]\n",
      "0it [00:00, ?it/s]"
     ]
    },
    {
     "name": "stdout",
     "output_type": "stream",
     "text": [
      "* [TextCleaner] Cleaning text...\n",
      "* [TextCleaner] Cleaning text...\n",
      "* [TextCleaner] Cleaning text...\n",
      "* [TextCleaner] Cleaning text...\n",
      "* [TextCleaner] Cleaning text...\n",
      "* [TextCleaner] Cleaning text...\n"
     ]
    },
    {
     "name": "stderr",
     "output_type": "stream",
     "text": [
      "1it [00:00, 31.67it/s]\n",
      "1it [00:00, 67.49it/s]\n",
      "1it [00:00, 36.32it/s]\n",
      "1it [00:00, 49.33it/s]\n",
      "1it [00:00, 40.96it/s]\n",
      "1it [00:00, 32.14it/s]\n",
      "1it [00:00, 38.01it/s]\n",
      "1it [00:00, 49.35it/s]\n",
      "0it [00:00, ?it/s]"
     ]
    },
    {
     "name": "stdout",
     "output_type": "stream",
     "text": [
      "* [TextCleaner] Cleaning text...\n",
      "* [TextCleaner] Cleaning text...\n",
      "* [TextCleaner] Cleaning text...\n",
      "* [TextCleaner] Cleaning text...\n",
      "* [TextCleaner] Cleaning text...\n",
      "* [TextCleaner] Cleaning text...\n",
      "* [TextCleaner] Cleaning text...\n",
      "* [TextCleaner] Cleaning text...\n"
     ]
    },
    {
     "name": "stderr",
     "output_type": "stream",
     "text": [
      "1it [00:00, 35.78it/s]\n",
      "1it [00:00, 31.19it/s]\n",
      "1it [00:00, 40.73it/s]\n",
      "1it [00:00, 40.19it/s]\n",
      "1it [00:00, 37.46it/s]\n",
      "1it [00:00, 36.10it/s]\n",
      "1it [00:00, 44.51it/s]\n",
      "0it [00:00, ?it/s]"
     ]
    },
    {
     "name": "stdout",
     "output_type": "stream",
     "text": [
      "* [TextCleaner] Cleaning text...\n",
      "* [TextCleaner] Cleaning text...\n",
      "* [TextCleaner] Cleaning text...\n",
      "* [TextCleaner] Cleaning text...\n",
      "* [TextCleaner] Cleaning text...\n",
      "* [TextCleaner] Cleaning text...\n",
      "* [TextCleaner] Cleaning text...\n"
     ]
    },
    {
     "name": "stderr",
     "output_type": "stream",
     "text": [
      "1it [00:00, 38.04it/s]\n",
      "1it [00:00, 37.08it/s]\n",
      "1it [00:00, 35.58it/s]\n",
      "1it [00:00, 44.42it/s]\n",
      "1it [00:00, 39.46it/s]\n",
      "1it [00:00, 39.53it/s]\n",
      "1it [00:00, 37.84it/s]\n",
      "1it [00:00, 92.66it/s]\n",
      "0it [00:00, ?it/s]"
     ]
    },
    {
     "name": "stdout",
     "output_type": "stream",
     "text": [
      "* [TextCleaner] Cleaning text...\n",
      "* [TextCleaner] Cleaning text...\n",
      "* [TextCleaner] Cleaning text...\n",
      "* [TextCleaner] Cleaning text...\n",
      "* [TextCleaner] Cleaning text...\n",
      "* [TextCleaner] Cleaning text...\n",
      "* [TextCleaner] Cleaning text...\n",
      "* [TextCleaner] Cleaning text...\n"
     ]
    },
    {
     "name": "stderr",
     "output_type": "stream",
     "text": [
      "1it [00:00, 26.80it/s]\n",
      "1it [00:00, 48.79it/s]\n",
      "1it [00:00, 39.41it/s]\n",
      "1it [00:00, 36.60it/s]\n",
      "1it [00:00, 37.13it/s]\n",
      "1it [00:00, 51.49it/s]\n",
      "1it [00:00, 42.43it/s]\n",
      "1it [00:00, 48.98it/s]\n",
      "0it [00:00, ?it/s]"
     ]
    },
    {
     "name": "stdout",
     "output_type": "stream",
     "text": [
      "* [TextCleaner] Cleaning text...\n",
      "* [TextCleaner] Cleaning text...\n",
      "* [TextCleaner] Cleaning text...\n",
      "* [TextCleaner] Cleaning text...\n",
      "* [TextCleaner] Cleaning text...\n",
      "* [TextCleaner] Cleaning text...\n",
      "* [TextCleaner] Cleaning text...\n",
      "* [TextCleaner] Cleaning text...\n"
     ]
    },
    {
     "name": "stderr",
     "output_type": "stream",
     "text": [
      "1it [00:00, 34.37it/s]\n",
      "1it [00:00, 32.70it/s]\n",
      "1it [00:00, 54.37it/s]\n",
      "1it [00:00, 39.53it/s]\n",
      "1it [00:00, 37.92it/s]\n",
      "1it [00:00, 43.76it/s]\n",
      "1it [00:00, 30.58it/s]\n",
      "0it [00:00, ?it/s]"
     ]
    },
    {
     "name": "stdout",
     "output_type": "stream",
     "text": [
      "* [TextCleaner] Cleaning text...\n",
      "* [TextCleaner] Cleaning text...\n",
      "* [TextCleaner] Cleaning text...\n",
      "* [TextCleaner] Cleaning text...\n",
      "* [TextCleaner] Cleaning text...\n",
      "* [TextCleaner] Cleaning text...\n",
      "* [TextCleaner] Cleaning text...\n"
     ]
    },
    {
     "name": "stderr",
     "output_type": "stream",
     "text": [
      "1it [00:00, 41.32it/s]\n",
      "1it [00:00, 31.73it/s]\n",
      "1it [00:00, 33.32it/s]\n",
      "1it [00:00, 43.36it/s]\n",
      "1it [00:00, 47.70it/s]\n",
      "1it [00:00, 43.07it/s]\n",
      "1it [00:00, 39.20it/s]\n",
      "0it [00:00, ?it/s]"
     ]
    },
    {
     "name": "stdout",
     "output_type": "stream",
     "text": [
      "* [TextCleaner] Cleaning text...\n",
      "* [TextCleaner] Cleaning text...\n",
      "* [TextCleaner] Cleaning text...\n",
      "* [TextCleaner] Cleaning text...\n",
      "* [TextCleaner] Cleaning text...\n",
      "* [TextCleaner] Cleaning text...\n",
      "* [TextCleaner] Cleaning text...\n"
     ]
    },
    {
     "name": "stderr",
     "output_type": "stream",
     "text": [
      "1it [00:00, 35.01it/s]\n",
      "1it [00:00, 50.09it/s]\n",
      "1it [00:00, 34.39it/s]\n",
      "1it [00:00, 41.93it/s]\n",
      "1it [00:00, 41.19it/s]\n",
      "1it [00:00, 36.05it/s]\n",
      "1it [00:00, 30.33it/s]\n",
      "0it [00:00, ?it/s]"
     ]
    },
    {
     "name": "stdout",
     "output_type": "stream",
     "text": [
      "* [TextCleaner] Cleaning text...\n",
      "* [TextCleaner] Cleaning text...\n",
      "* [TextCleaner] Cleaning text...\n",
      "* [TextCleaner] Cleaning text...\n",
      "* [TextCleaner] Cleaning text...\n",
      "* [TextCleaner] Cleaning text...\n",
      "* [TextCleaner] Cleaning text...\n"
     ]
    },
    {
     "name": "stderr",
     "output_type": "stream",
     "text": [
      "1it [00:00, 44.96it/s]\n",
      "1it [00:00, 32.38it/s]\n",
      "1it [00:00, 39.98it/s]\n",
      "1it [00:00, 40.43it/s]\n",
      "1it [00:00, 34.02it/s]\n",
      "1it [00:00, 43.04it/s]\n",
      "1it [00:00, 29.55it/s]\n",
      "0it [00:00, ?it/s]"
     ]
    },
    {
     "name": "stdout",
     "output_type": "stream",
     "text": [
      "* [TextCleaner] Cleaning text...\n",
      "* [TextCleaner] Cleaning text...\n",
      "* [TextCleaner] Cleaning text...\n",
      "* [TextCleaner] Cleaning text...\n",
      "* [TextCleaner] Cleaning text...\n",
      "* [TextCleaner] Cleaning text...\n",
      "* [TextCleaner] Cleaning text...\n"
     ]
    },
    {
     "name": "stderr",
     "output_type": "stream",
     "text": [
      "1it [00:00, 29.37it/s]\n",
      "1it [00:00, 40.72it/s]\n",
      "1it [00:00, 32.36it/s]\n",
      "1it [00:00, 34.27it/s]\n",
      "1it [00:00, 37.74it/s]\n",
      "1it [00:00, 36.45it/s]\n",
      "1it [00:00, 48.99it/s]\n",
      "0it [00:00, ?it/s]"
     ]
    },
    {
     "name": "stdout",
     "output_type": "stream",
     "text": [
      "* [TextCleaner] Cleaning text...\n",
      "* [TextCleaner] Cleaning text...\n",
      "* [TextCleaner] Cleaning text...\n",
      "* [TextCleaner] Cleaning text...\n",
      "* [TextCleaner] Cleaning text...\n",
      "* [TextCleaner] Cleaning text...\n",
      "* [TextCleaner] Cleaning text...\n"
     ]
    },
    {
     "name": "stderr",
     "output_type": "stream",
     "text": [
      "1it [00:00, 32.30it/s]\n",
      "1it [00:00, 39.20it/s]\n",
      "1it [00:00, 39.81it/s]\n",
      "1it [00:00, 33.79it/s]\n",
      "1it [00:00, 34.50it/s]\n",
      "1it [00:00, 42.61it/s]\n",
      "1it [00:00, 37.90it/s]\n",
      "0it [00:00, ?it/s]"
     ]
    },
    {
     "name": "stdout",
     "output_type": "stream",
     "text": [
      "* [TextCleaner] Cleaning text...\n",
      "* [TextCleaner] Cleaning text...\n",
      "* [TextCleaner] Cleaning text...\n",
      "* [TextCleaner] Cleaning text...\n",
      "* [TextCleaner] Cleaning text...\n",
      "* [TextCleaner] Cleaning text...\n",
      "* [TextCleaner] Cleaning text...\n"
     ]
    },
    {
     "name": "stderr",
     "output_type": "stream",
     "text": [
      "1it [00:00, 24.15it/s]\n",
      "1it [00:00, 38.64it/s]\n",
      "1it [00:00, 41.45it/s]\n",
      "1it [00:00, 33.37it/s]\n",
      "1it [00:00, 37.18it/s]\n",
      "1it [00:00, 35.58it/s]\n",
      "1it [00:00, 35.68it/s]\n",
      "0it [00:00, ?it/s]"
     ]
    },
    {
     "name": "stdout",
     "output_type": "stream",
     "text": [
      "* [TextCleaner] Cleaning text...\n",
      "* [TextCleaner] Cleaning text...\n",
      "* [TextCleaner] Cleaning text...\n",
      "* [TextCleaner] Cleaning text...\n",
      "* [TextCleaner] Cleaning text...\n",
      "* [TextCleaner] Cleaning text...\n",
      "* [TextCleaner] Cleaning text...\n"
     ]
    },
    {
     "name": "stderr",
     "output_type": "stream",
     "text": [
      "1it [00:00, 36.87it/s]\n",
      "1it [00:00, 39.34it/s]\n",
      "1it [00:00, 40.95it/s]\n",
      "1it [00:00, 44.83it/s]\n",
      "1it [00:00, 31.23it/s]\n",
      "1it [00:00, 38.69it/s]\n",
      "1it [00:00, 30.60it/s]\n",
      "0it [00:00, ?it/s]"
     ]
    },
    {
     "name": "stdout",
     "output_type": "stream",
     "text": [
      "* [TextCleaner] Cleaning text...\n",
      "* [TextCleaner] Cleaning text...\n",
      "* [TextCleaner] Cleaning text...\n",
      "* [TextCleaner] Cleaning text...\n",
      "* [TextCleaner] Cleaning text...\n",
      "* [TextCleaner] Cleaning text...\n",
      "* [TextCleaner] Cleaning text...\n"
     ]
    },
    {
     "name": "stderr",
     "output_type": "stream",
     "text": [
      "1it [00:00, 39.87it/s]\n",
      "1it [00:00, 41.35it/s]\n",
      "1it [00:00, 32.08it/s]\n",
      "1it [00:00, 31.89it/s]\n",
      "1it [00:00, 33.51it/s]\n",
      "1it [00:00, 34.24it/s]\n",
      "0it [00:00, ?it/s]"
     ]
    },
    {
     "name": "stdout",
     "output_type": "stream",
     "text": [
      "* [TextCleaner] Cleaning text...\n",
      "* [TextCleaner] Cleaning text...\n",
      "* [TextCleaner] Cleaning text...\n",
      "* [TextCleaner] Cleaning text...\n",
      "* [TextCleaner] Cleaning text...\n",
      "* [TextCleaner] Cleaning text...\n"
     ]
    },
    {
     "name": "stderr",
     "output_type": "stream",
     "text": [
      "1it [00:00, 33.15it/s]\n",
      "1it [00:00, 40.68it/s]\n",
      "1it [00:00, 43.45it/s]\n",
      "1it [00:00, 46.57it/s]\n",
      "1it [00:00, 34.55it/s]\n",
      "1it [00:00, 28.90it/s]\n",
      "1it [00:00, 36.56it/s]\n",
      "0it [00:00, ?it/s]"
     ]
    },
    {
     "name": "stdout",
     "output_type": "stream",
     "text": [
      "* [TextCleaner] Cleaning text...\n",
      "* [TextCleaner] Cleaning text...\n",
      "* [TextCleaner] Cleaning text...\n",
      "* [TextCleaner] Cleaning text...\n",
      "* [TextCleaner] Cleaning text...\n",
      "* [TextCleaner] Cleaning text...\n",
      "* [TextCleaner] Cleaning text...\n"
     ]
    },
    {
     "name": "stderr",
     "output_type": "stream",
     "text": [
      "1it [00:00, 35.83it/s]\n",
      "1it [00:00, 36.36it/s]\n",
      "1it [00:00, 35.17it/s]\n",
      "1it [00:00, 29.15it/s]\n",
      "1it [00:00, 35.80it/s]\n",
      "1it [00:00, 37.56it/s]\n",
      "1it [00:00, 45.66it/s]\n",
      "0it [00:00, ?it/s]"
     ]
    },
    {
     "name": "stdout",
     "output_type": "stream",
     "text": [
      "* [TextCleaner] Cleaning text...\n",
      "* [TextCleaner] Cleaning text...\n",
      "* [TextCleaner] Cleaning text...\n",
      "* [TextCleaner] Cleaning text...\n",
      "* [TextCleaner] Cleaning text...\n",
      "* [TextCleaner] Cleaning text...\n",
      "* [TextCleaner] Cleaning text...\n"
     ]
    },
    {
     "name": "stderr",
     "output_type": "stream",
     "text": [
      "1it [00:00, 33.67it/s]\n",
      "1it [00:00, 49.19it/s]\n",
      "1it [00:00, 31.69it/s]\n",
      "1it [00:00, 39.71it/s]\n",
      "1it [00:00, 51.59it/s]\n",
      "1it [00:00, 53.19it/s]\n",
      "1it [00:00, 33.89it/s]\n",
      "0it [00:00, ?it/s]"
     ]
    },
    {
     "name": "stdout",
     "output_type": "stream",
     "text": [
      "* [TextCleaner] Cleaning text...\n",
      "* [TextCleaner] Cleaning text...\n",
      "* [TextCleaner] Cleaning text...\n",
      "* [TextCleaner] Cleaning text...\n",
      "* [TextCleaner] Cleaning text...\n",
      "* [TextCleaner] Cleaning text...\n",
      "* [TextCleaner] Cleaning text...\n"
     ]
    },
    {
     "name": "stderr",
     "output_type": "stream",
     "text": [
      "1it [00:00, 32.91it/s]\n",
      "1it [00:00, 32.77it/s]\n",
      "1it [00:00, 39.63it/s]\n",
      "1it [00:00, 37.57it/s]\n",
      "1it [00:00, 40.45it/s]\n",
      "1it [00:00, 34.01it/s]\n",
      "1it [00:00, 39.61it/s]\n",
      "0it [00:00, ?it/s]"
     ]
    },
    {
     "name": "stdout",
     "output_type": "stream",
     "text": [
      "* [TextCleaner] Cleaning text...\n",
      "* [TextCleaner] Cleaning text...\n",
      "* [TextCleaner] Cleaning text...\n",
      "* [TextCleaner] Cleaning text...\n",
      "* [TextCleaner] Cleaning text...\n",
      "* [TextCleaner] Cleaning text...\n",
      "* [TextCleaner] Cleaning text...\n"
     ]
    },
    {
     "name": "stderr",
     "output_type": "stream",
     "text": [
      "1it [00:00, 48.68it/s]\n",
      "1it [00:00, 42.75it/s]\n",
      "1it [00:00, 38.32it/s]\n",
      "1it [00:00, 35.78it/s]\n",
      "1it [00:00, 40.10it/s]\n",
      "1it [00:00, 39.72it/s]\n",
      "1it [00:00, 30.72it/s]\n",
      "0it [00:00, ?it/s]"
     ]
    },
    {
     "name": "stdout",
     "output_type": "stream",
     "text": [
      "* [TextCleaner] Cleaning text...\n",
      "* [TextCleaner] Cleaning text...\n",
      "* [TextCleaner] Cleaning text...\n",
      "* [TextCleaner] Cleaning text...\n",
      "* [TextCleaner] Cleaning text...\n",
      "* [TextCleaner] Cleaning text...\n",
      "* [TextCleaner] Cleaning text...\n"
     ]
    },
    {
     "name": "stderr",
     "output_type": "stream",
     "text": [
      "1it [00:00, 44.82it/s]\n",
      "1it [00:00, 45.14it/s]\n",
      "1it [00:00, 31.97it/s]\n",
      "1it [00:00, 39.87it/s]\n",
      "1it [00:00, 30.23it/s]\n",
      "1it [00:00, 43.64it/s]\n",
      "1it [00:00, 28.06it/s]\n"
     ]
    },
    {
     "name": "stdout",
     "output_type": "stream",
     "text": [
      "* [TextCleaner] Cleaning text...\n",
      "* [TextCleaner] Cleaning text...\n",
      "* [TextCleaner] Cleaning text...\n",
      "* [TextCleaner] Cleaning text...\n",
      "* [TextCleaner] Cleaning text...\n",
      "* [TextCleaner] Cleaning text...\n"
     ]
    },
    {
     "name": "stderr",
     "output_type": "stream",
     "text": [
      "1it [00:00, 31.07it/s]\n",
      "1it [00:00, 32.74it/s]\n",
      "1it [00:00, 44.20it/s]\n",
      "1it [00:00, 39.51it/s]\n",
      "1it [00:00, 36.85it/s]\n",
      "1it [00:00, 34.52it/s]\n",
      "1it [00:00, 35.12it/s]\n",
      "0it [00:00, ?it/s]"
     ]
    },
    {
     "name": "stdout",
     "output_type": "stream",
     "text": [
      "* [TextCleaner] Cleaning text...\n",
      "* [TextCleaner] Cleaning text...\n",
      "* [TextCleaner] Cleaning text...\n",
      "* [TextCleaner] Cleaning text...\n",
      "* [TextCleaner] Cleaning text...\n",
      "* [TextCleaner] Cleaning text...\n",
      "* [TextCleaner] Cleaning text...\n",
      "* [TextCleaner] Cleaning text...\n"
     ]
    },
    {
     "name": "stderr",
     "output_type": "stream",
     "text": [
      "1it [00:00, 41.57it/s]\n",
      "1it [00:00, 28.85it/s]\n",
      "1it [00:00, 36.39it/s]\n",
      "1it [00:00, 34.00it/s]\n",
      "1it [00:00, 285.99it/s]\n",
      "1it [00:00, 31.53it/s]\n",
      "1it [00:00, 36.45it/s]\n",
      "0it [00:00, ?it/s]"
     ]
    },
    {
     "name": "stdout",
     "output_type": "stream",
     "text": [
      "* [TextCleaner] Cleaning text...\n",
      "* [TextCleaner] Cleaning text...\n",
      "* [TextCleaner] Cleaning text...\n",
      "* [TextCleaner] Cleaning text...\n",
      "* [TextCleaner] Cleaning text...\n",
      "* [TextCleaner] Cleaning text...\n",
      "* [TextCleaner] Cleaning text...\n"
     ]
    },
    {
     "name": "stderr",
     "output_type": "stream",
     "text": [
      "1it [00:00, 35.15it/s]\n",
      "1it [00:00, 41.80it/s]\n",
      "1it [00:00, 34.85it/s]\n",
      "1it [00:00, 35.87it/s]\n",
      "1it [00:00, 40.02it/s]\n",
      "1it [00:00, 33.80it/s]\n",
      "1it [00:00, 34.61it/s]\n",
      "0it [00:00, ?it/s]"
     ]
    },
    {
     "name": "stdout",
     "output_type": "stream",
     "text": [
      "* [TextCleaner] Cleaning text...\n",
      "* [TextCleaner] Cleaning text...\n",
      "* [TextCleaner] Cleaning text...\n",
      "* [TextCleaner] Cleaning text...\n",
      "* [TextCleaner] Cleaning text...\n",
      "* [TextCleaner] Cleaning text...\n",
      "* [TextCleaner] Cleaning text...\n"
     ]
    },
    {
     "name": "stderr",
     "output_type": "stream",
     "text": [
      "1it [00:00, 37.27it/s]\n",
      "1it [00:00, 32.30it/s]\n",
      "1it [00:00, 39.02it/s]\n",
      "1it [00:00, 30.53it/s]\n",
      "1it [00:00, 30.40it/s]\n",
      "1it [00:00, 36.85it/s]\n",
      "1it [00:00, 46.54it/s]"
     ]
    },
    {
     "name": "stdout",
     "output_type": "stream",
     "text": [
      "* [TextCleaner] Cleaning text...\n",
      "* [TextCleaner] Cleaning text...\n",
      "* [TextCleaner] Cleaning text...\n",
      "* [TextCleaner] Cleaning text...\n",
      "* [TextCleaner] Cleaning text...\n",
      "* [TextCleaner] Cleaning text...\n"
     ]
    },
    {
     "name": "stderr",
     "output_type": "stream",
     "text": [
      "\n",
      "1it [00:00, 36.44it/s]\n",
      "1it [00:00, 31.44it/s]\n",
      "1it [00:00, 35.38it/s]\n",
      "1it [00:00, 37.33it/s]\n",
      "1it [00:00, 33.39it/s]\n",
      "1it [00:00, 47.79it/s]\n",
      "0it [00:00, ?it/s]"
     ]
    },
    {
     "name": "stdout",
     "output_type": "stream",
     "text": [
      "* [TextCleaner] Cleaning text...\n",
      "* [TextCleaner] Cleaning text...\n",
      "* [TextCleaner] Cleaning text...\n",
      "* [TextCleaner] Cleaning text...\n",
      "* [TextCleaner] Cleaning text...\n",
      "* [TextCleaner] Cleaning text...\n",
      "* [TextCleaner] Cleaning text...\n"
     ]
    },
    {
     "name": "stderr",
     "output_type": "stream",
     "text": [
      "1it [00:00, 31.02it/s]\n",
      "1it [00:00, 38.78it/s]\n",
      "1it [00:00, 36.35it/s]\n",
      "1it [00:00, 36.79it/s]\n",
      "1it [00:00, 53.42it/s]\n",
      "1it [00:00, 35.48it/s]\n",
      "1it [00:00, 39.06it/s]\n",
      "0it [00:00, ?it/s]"
     ]
    },
    {
     "name": "stdout",
     "output_type": "stream",
     "text": [
      "* [TextCleaner] Cleaning text...\n",
      "* [TextCleaner] Cleaning text...\n",
      "* [TextCleaner] Cleaning text...\n",
      "* [TextCleaner] Cleaning text...\n",
      "* [TextCleaner] Cleaning text...\n",
      "* [TextCleaner] Cleaning text...\n",
      "* [TextCleaner] Cleaning text...\n"
     ]
    },
    {
     "name": "stderr",
     "output_type": "stream",
     "text": [
      "1it [00:00, 38.49it/s]\n",
      "1it [00:00, 38.10it/s]\n",
      "1it [00:00, 45.54it/s]\n",
      "1it [00:00, 29.75it/s]\n",
      "1it [00:00, 34.63it/s]\n",
      "1it [00:00, 31.19it/s]\n",
      "0it [00:00, ?it/s]"
     ]
    },
    {
     "name": "stdout",
     "output_type": "stream",
     "text": [
      "* [TextCleaner] Cleaning text...\n",
      "* [TextCleaner] Cleaning text...\n",
      "* [TextCleaner] Cleaning text...\n",
      "* [TextCleaner] Cleaning text...\n",
      "* [TextCleaner] Cleaning text...\n",
      "* [TextCleaner] Cleaning text...\n"
     ]
    },
    {
     "name": "stderr",
     "output_type": "stream",
     "text": [
      "1it [00:00, 31.59it/s]\n",
      "1it [00:00, 36.55it/s]\n",
      "1it [00:00, 39.06it/s]\n",
      "1it [00:00, 50.23it/s]\n",
      "1it [00:00, 39.30it/s]\n",
      "1it [00:00, 34.87it/s]\n",
      "1it [00:00, 36.90it/s]\n",
      "0it [00:00, ?it/s]"
     ]
    },
    {
     "name": "stdout",
     "output_type": "stream",
     "text": [
      "* [TextCleaner] Cleaning text...\n",
      "* [TextCleaner] Cleaning text...\n",
      "* [TextCleaner] Cleaning text...\n",
      "* [TextCleaner] Cleaning text...\n",
      "* [TextCleaner] Cleaning text...\n",
      "* [TextCleaner] Cleaning text...\n",
      "* [TextCleaner] Cleaning text...\n"
     ]
    },
    {
     "name": "stderr",
     "output_type": "stream",
     "text": [
      "1it [00:00, 33.92it/s]\n",
      "1it [00:00, 32.18it/s]\n",
      "1it [00:00, 34.73it/s]\n",
      "1it [00:00, 35.33it/s]\n",
      "1it [00:00, 39.57it/s]\n",
      "1it [00:00, 39.99it/s]\n",
      "1it [00:00, 38.28it/s]\n",
      "0it [00:00, ?it/s]"
     ]
    },
    {
     "name": "stdout",
     "output_type": "stream",
     "text": [
      "* [TextCleaner] Cleaning text...\n",
      "* [TextCleaner] Cleaning text...\n",
      "* [TextCleaner] Cleaning text...\n",
      "* [TextCleaner] Cleaning text...\n",
      "* [TextCleaner] Cleaning text...\n",
      "* [TextCleaner] Cleaning text...\n",
      "* [TextCleaner] Cleaning text...\n"
     ]
    },
    {
     "name": "stderr",
     "output_type": "stream",
     "text": [
      "1it [00:00, 40.23it/s]\n",
      "1it [00:00, 41.58it/s]\n",
      "1it [00:00, 35.42it/s]\n",
      "1it [00:00, 44.45it/s]\n",
      "1it [00:00, 33.83it/s]\n",
      "1it [00:00, 109.71it/s]\n",
      "1it [00:00, 34.13it/s]\n",
      "1it [00:00, 45.23it/s]\n"
     ]
    },
    {
     "name": "stdout",
     "output_type": "stream",
     "text": [
      "* [TextCleaner] Cleaning text...\n",
      "* [TextCleaner] Cleaning text...\n",
      "* [TextCleaner] Cleaning text...\n",
      "* [TextCleaner] Cleaning text...\n",
      "* [TextCleaner] Cleaning text...\n",
      "* [TextCleaner] Cleaning text...\n",
      "* [TextCleaner] Cleaning text...\n",
      "* [TextCleaner] Cleaning text...\n"
     ]
    },
    {
     "name": "stderr",
     "output_type": "stream",
     "text": [
      "1it [00:00, 79.49it/s]\n",
      "1it [00:00, 46.20it/s]\n",
      "1it [00:00, 49.66it/s]\n",
      "1it [00:00, 37.01it/s]\n",
      "1it [00:00, 50.63it/s]\n",
      "1it [00:00, 41.82it/s]\n",
      "1it [00:00, 31.93it/s]\n",
      "0it [00:00, ?it/s]"
     ]
    },
    {
     "name": "stdout",
     "output_type": "stream",
     "text": [
      "* [TextCleaner] Cleaning text...\n",
      "* [TextCleaner] Cleaning text...\n",
      "* [TextCleaner] Cleaning text...\n",
      "* [TextCleaner] Cleaning text...\n",
      "* [TextCleaner] Cleaning text...\n",
      "* [TextCleaner] Cleaning text...\n",
      "* [TextCleaner] Cleaning text...\n"
     ]
    },
    {
     "name": "stderr",
     "output_type": "stream",
     "text": [
      "1it [00:00, 33.76it/s]\n",
      "1it [00:00, 45.92it/s]\n",
      "1it [00:00, 28.30it/s]\n",
      "1it [00:00, 33.23it/s]\n",
      "1it [00:00, 42.35it/s]\n",
      "1it [00:00, 32.87it/s]\n",
      "0it [00:00, ?it/s]"
     ]
    },
    {
     "name": "stdout",
     "output_type": "stream",
     "text": [
      "* [TextCleaner] Cleaning text...\n",
      "* [TextCleaner] Cleaning text...\n",
      "* [TextCleaner] Cleaning text...\n",
      "* [TextCleaner] Cleaning text...\n",
      "* [TextCleaner] Cleaning text...\n",
      "* [TextCleaner] Cleaning text...\n"
     ]
    },
    {
     "name": "stderr",
     "output_type": "stream",
     "text": [
      "1it [00:00, 36.31it/s]\n",
      "1it [00:00, 35.43it/s]\n",
      "1it [00:00, 30.46it/s]\n",
      "1it [00:00, 44.17it/s]\n",
      "1it [00:00, 32.01it/s]\n",
      "1it [00:00, 39.35it/s]\n",
      "1it [00:00, 50.70it/s]\n",
      "0it [00:00, ?it/s]"
     ]
    },
    {
     "name": "stdout",
     "output_type": "stream",
     "text": [
      "* [TextCleaner] Cleaning text...\n",
      "* [TextCleaner] Cleaning text...\n",
      "* [TextCleaner] Cleaning text...\n",
      "* [TextCleaner] Cleaning text...\n",
      "* [TextCleaner] Cleaning text...\n",
      "* [TextCleaner] Cleaning text...\n",
      "* [TextCleaner] Cleaning text...\n"
     ]
    },
    {
     "name": "stderr",
     "output_type": "stream",
     "text": [
      "1it [00:00, 40.10it/s]\n",
      "1it [00:00, 28.97it/s]\n",
      "1it [00:00, 33.97it/s]\n",
      "1it [00:00, 42.30it/s]\n",
      "1it [00:00, 40.85it/s]\n",
      "1it [00:00, 44.36it/s]\n",
      "1it [00:00, 38.10it/s]\n",
      "0it [00:00, ?it/s]"
     ]
    },
    {
     "name": "stdout",
     "output_type": "stream",
     "text": [
      "* [TextCleaner] Cleaning text...\n",
      "* [TextCleaner] Cleaning text...\n",
      "* [TextCleaner] Cleaning text...\n",
      "* [TextCleaner] Cleaning text...\n",
      "* [TextCleaner] Cleaning text...\n",
      "* [TextCleaner] Cleaning text...\n",
      "* [TextCleaner] Cleaning text...\n"
     ]
    },
    {
     "name": "stderr",
     "output_type": "stream",
     "text": [
      "1it [00:00, 51.84it/s]\n",
      "1it [00:00, 48.00it/s]\n",
      "1it [00:00, 32.71it/s]\n",
      "1it [00:00, 35.76it/s]\n",
      "1it [00:00, 37.67it/s]\n",
      "1it [00:00, 32.46it/s]\n",
      "1it [00:00, 36.59it/s]\n",
      "0it [00:00, ?it/s]"
     ]
    },
    {
     "name": "stdout",
     "output_type": "stream",
     "text": [
      "* [TextCleaner] Cleaning text...\n",
      "* [TextCleaner] Cleaning text...\n",
      "* [TextCleaner] Cleaning text...\n",
      "* [TextCleaner] Cleaning text...\n",
      "* [TextCleaner] Cleaning text...\n",
      "* [TextCleaner] Cleaning text...\n",
      "* [TextCleaner] Cleaning text...\n"
     ]
    },
    {
     "name": "stderr",
     "output_type": "stream",
     "text": [
      "1it [00:00, 36.19it/s]\n",
      "1it [00:00, 29.58it/s]\n",
      "1it [00:00, 39.77it/s]\n",
      "1it [00:00, 48.58it/s]\n",
      "1it [00:00, 43.02it/s]\n",
      "1it [00:00, 39.07it/s]\n",
      "1it [00:00, 40.98it/s]\n",
      "0it [00:00, ?it/s]"
     ]
    },
    {
     "name": "stdout",
     "output_type": "stream",
     "text": [
      "* [TextCleaner] Cleaning text...\n",
      "* [TextCleaner] Cleaning text...\n",
      "* [TextCleaner] Cleaning text...\n",
      "* [TextCleaner] Cleaning text...\n",
      "* [TextCleaner] Cleaning text...\n",
      "* [TextCleaner] Cleaning text...\n",
      "* [TextCleaner] Cleaning text...\n"
     ]
    },
    {
     "name": "stderr",
     "output_type": "stream",
     "text": [
      "1it [00:00, 38.95it/s]\n",
      "1it [00:00, 37.23it/s]\n",
      "1it [00:00, 43.36it/s]\n",
      "1it [00:00, 37.52it/s]\n",
      "1it [00:00, 33.71it/s]\n",
      "1it [00:00, 44.25it/s]\n",
      "1it [00:00, 43.82it/s]\n",
      "0it [00:00, ?it/s]"
     ]
    },
    {
     "name": "stdout",
     "output_type": "stream",
     "text": [
      "* [TextCleaner] Cleaning text...\n",
      "* [TextCleaner] Cleaning text...\n",
      "* [TextCleaner] Cleaning text...\n",
      "* [TextCleaner] Cleaning text...\n",
      "* [TextCleaner] Cleaning text...\n",
      "* [TextCleaner] Cleaning text...\n",
      "* [TextCleaner] Cleaning text...\n"
     ]
    },
    {
     "name": "stderr",
     "output_type": "stream",
     "text": [
      "1it [00:00, 34.51it/s]\n",
      "1it [00:00, 41.95it/s]\n",
      "1it [00:00, 33.44it/s]\n",
      "1it [00:00, 54.09it/s]\n",
      "1it [00:00, 44.12it/s]\n",
      "1it [00:00, 31.41it/s]\n",
      "1it [00:00, 37.45it/s]\n",
      "0it [00:00, ?it/s]"
     ]
    },
    {
     "name": "stdout",
     "output_type": "stream",
     "text": [
      "* [TextCleaner] Cleaning text...\n",
      "* [TextCleaner] Cleaning text...\n",
      "* [TextCleaner] Cleaning text...\n",
      "* [TextCleaner] Cleaning text...\n",
      "* [TextCleaner] Cleaning text...\n",
      "* [TextCleaner] Cleaning text...\n",
      "* [TextCleaner] Cleaning text...\n"
     ]
    },
    {
     "name": "stderr",
     "output_type": "stream",
     "text": [
      "1it [00:00, 33.28it/s]\n",
      "1it [00:00, 31.42it/s]\n",
      "1it [00:00, 33.27it/s]\n",
      "1it [00:00, 31.55it/s]\n",
      "1it [00:00, 41.01it/s]\n",
      "1it [00:00, 39.64it/s]\n",
      "0it [00:00, ?it/s]"
     ]
    },
    {
     "name": "stdout",
     "output_type": "stream",
     "text": [
      "* [TextCleaner] Cleaning text...\n",
      "* [TextCleaner] Cleaning text...\n",
      "* [TextCleaner] Cleaning text...\n",
      "* [TextCleaner] Cleaning text...\n",
      "* [TextCleaner] Cleaning text...\n",
      "* [TextCleaner] Cleaning text...\n"
     ]
    },
    {
     "name": "stderr",
     "output_type": "stream",
     "text": [
      "1it [00:00, 30.49it/s]\n",
      "1it [00:00, 26.41it/s]\n",
      "1it [00:00, 39.45it/s]\n",
      "1it [00:00, 34.90it/s]\n",
      "1it [00:00, 37.87it/s]\n",
      "1it [00:00, 33.06it/s]\n",
      "0it [00:00, ?it/s]"
     ]
    },
    {
     "name": "stdout",
     "output_type": "stream",
     "text": [
      "* [TextCleaner] Cleaning text...\n",
      "* [TextCleaner] Cleaning text...\n",
      "* [TextCleaner] Cleaning text...\n",
      "* [TextCleaner] Cleaning text...\n",
      "* [TextCleaner] Cleaning text...\n",
      "* [TextCleaner] Cleaning text...\n"
     ]
    },
    {
     "name": "stderr",
     "output_type": "stream",
     "text": [
      "1it [00:00, 39.18it/s]\n",
      "1it [00:00, 35.28it/s]\n",
      "1it [00:00, 31.53it/s]\n",
      "1it [00:00, 53.62it/s]\n",
      "1it [00:00, 35.11it/s]\n",
      "1it [00:00, 32.73it/s]\n",
      "1it [00:00, 32.50it/s]"
     ]
    },
    {
     "name": "stdout",
     "output_type": "stream",
     "text": [
      "* [TextCleaner] Cleaning text...\n",
      "* [TextCleaner] Cleaning text...\n",
      "* [TextCleaner] Cleaning text...\n",
      "* [TextCleaner] Cleaning text...\n",
      "* [TextCleaner] Cleaning text...\n",
      "* [TextCleaner] Cleaning text...\n"
     ]
    },
    {
     "name": "stderr",
     "output_type": "stream",
     "text": [
      "\n",
      "1it [00:00, 53.35it/s]\n",
      "1it [00:00, 33.04it/s]\n",
      "1it [00:00, 94.17it/s]\n",
      "1it [00:00, 44.41it/s]\n",
      "1it [00:00, 50.44it/s]\n",
      "1it [00:00, 29.83it/s]\n",
      "1it [00:00, 34.45it/s]\n",
      "0it [00:00, ?it/s]"
     ]
    },
    {
     "name": "stdout",
     "output_type": "stream",
     "text": [
      "* [TextCleaner] Cleaning text...\n",
      "* [TextCleaner] Cleaning text...\n",
      "* [TextCleaner] Cleaning text...\n",
      "* [TextCleaner] Cleaning text...\n",
      "* [TextCleaner] Cleaning text...\n",
      "* [TextCleaner] Cleaning text...\n",
      "* [TextCleaner] Cleaning text...\n",
      "* [TextCleaner] Cleaning text...\n"
     ]
    },
    {
     "name": "stderr",
     "output_type": "stream",
     "text": [
      "1it [00:00, 29.52it/s]\n",
      "1it [00:00, 51.28it/s]\n",
      "1it [00:00, 38.20it/s]\n",
      "1it [00:00, 37.31it/s]\n",
      "1it [00:00, 32.17it/s]\n",
      "1it [00:00, 38.24it/s]\n",
      "1it [00:00, 31.51it/s]\n",
      "0it [00:00, ?it/s]"
     ]
    },
    {
     "name": "stdout",
     "output_type": "stream",
     "text": [
      "* [TextCleaner] Cleaning text...\n",
      "* [TextCleaner] Cleaning text...\n",
      "* [TextCleaner] Cleaning text...\n",
      "* [TextCleaner] Cleaning text...\n",
      "* [TextCleaner] Cleaning text...\n",
      "* [TextCleaner] Cleaning text...\n",
      "* [TextCleaner] Cleaning text...\n"
     ]
    },
    {
     "name": "stderr",
     "output_type": "stream",
     "text": [
      "1it [00:00, 34.96it/s]\n",
      "1it [00:00, 38.29it/s]\n",
      "1it [00:00, 44.23it/s]\n",
      "1it [00:00, 47.59it/s]\n",
      "1it [00:00, 57.22it/s]\n",
      "1it [00:00, 38.77it/s]\n",
      "1it [00:00, 32.73it/s]\n",
      "1it [00:00, 47.06it/s]\n",
      "0it [00:00, ?it/s]"
     ]
    },
    {
     "name": "stdout",
     "output_type": "stream",
     "text": [
      "* [TextCleaner] Cleaning text...\n",
      "* [TextCleaner] Cleaning text...\n",
      "* [TextCleaner] Cleaning text...\n",
      "* [TextCleaner] Cleaning text...\n",
      "* [TextCleaner] Cleaning text...\n",
      "* [TextCleaner] Cleaning text...\n",
      "* [TextCleaner] Cleaning text...\n",
      "* [TextCleaner] Cleaning text...\n"
     ]
    },
    {
     "name": "stderr",
     "output_type": "stream",
     "text": [
      "1it [00:00, 31.78it/s]\n",
      "1it [00:00, 33.68it/s]\n",
      "1it [00:00, 33.11it/s]\n",
      "1it [00:00, 42.79it/s]\n",
      "1it [00:00, 52.68it/s]\n",
      "1it [00:00, 34.04it/s]\n",
      "1it [00:00, 38.91it/s]\n",
      "0it [00:00, ?it/s]"
     ]
    },
    {
     "name": "stdout",
     "output_type": "stream",
     "text": [
      "* [TextCleaner] Cleaning text...\n",
      "* [TextCleaner] Cleaning text...\n",
      "* [TextCleaner] Cleaning text...\n",
      "* [TextCleaner] Cleaning text...\n",
      "* [TextCleaner] Cleaning text...\n",
      "* [TextCleaner] Cleaning text...\n",
      "* [TextCleaner] Cleaning text...\n"
     ]
    },
    {
     "name": "stderr",
     "output_type": "stream",
     "text": [
      "1it [00:00, 42.32it/s]\n",
      "1it [00:00, 46.64it/s]\n",
      "1it [00:00, 30.75it/s]\n",
      "1it [00:00, 34.22it/s]\n",
      "1it [00:00, 29.52it/s]\n",
      "1it [00:00, 38.35it/s]\n",
      "1it [00:00, 35.73it/s]"
     ]
    },
    {
     "name": "stdout",
     "output_type": "stream",
     "text": [
      "* [TextCleaner] Cleaning text...\n",
      "* [TextCleaner] Cleaning text...\n",
      "* [TextCleaner] Cleaning text...\n",
      "* [TextCleaner] Cleaning text...\n",
      "* [TextCleaner] Cleaning text...\n",
      "* [TextCleaner] Cleaning text...\n"
     ]
    },
    {
     "name": "stderr",
     "output_type": "stream",
     "text": [
      "\n",
      "1it [00:00, 32.02it/s]\n",
      "1it [00:00, 39.93it/s]\n",
      "1it [00:00, 37.22it/s]\n",
      "1it [00:00, 33.38it/s]\n",
      "1it [00:00, 37.90it/s]\n",
      "1it [00:00, 39.76it/s]\n",
      "1it [00:00, 37.31it/s]\n",
      "0it [00:00, ?it/s]"
     ]
    },
    {
     "name": "stdout",
     "output_type": "stream",
     "text": [
      "* [TextCleaner] Cleaning text...\n",
      "* [TextCleaner] Cleaning text...\n",
      "* [TextCleaner] Cleaning text...\n",
      "* [TextCleaner] Cleaning text...\n",
      "* [TextCleaner] Cleaning text...\n",
      "* [TextCleaner] Cleaning text...\n",
      "* [TextCleaner] Cleaning text...\n",
      "* [TextCleaner] Cleaning text...\n"
     ]
    },
    {
     "name": "stderr",
     "output_type": "stream",
     "text": [
      "1it [00:00, 25.94it/s]\n",
      "1it [00:00, 51.28it/s]\n",
      "1it [00:00, 33.16it/s]\n",
      "1it [00:00, 38.58it/s]\n",
      "1it [00:00, 49.24it/s]\n",
      "1it [00:00, 41.73it/s]\n",
      "1it [00:00, 38.91it/s]\n",
      "0it [00:00, ?it/s]"
     ]
    },
    {
     "name": "stdout",
     "output_type": "stream",
     "text": [
      "* [TextCleaner] Cleaning text...\n",
      "* [TextCleaner] Cleaning text...\n",
      "* [TextCleaner] Cleaning text...\n",
      "* [TextCleaner] Cleaning text...\n",
      "* [TextCleaner] Cleaning text...\n",
      "* [TextCleaner] Cleaning text...\n",
      "* [TextCleaner] Cleaning text...\n"
     ]
    },
    {
     "name": "stderr",
     "output_type": "stream",
     "text": [
      "1it [00:00, 39.56it/s]\n",
      "1it [00:00, 37.47it/s]\n",
      "1it [00:00, 41.05it/s]\n",
      "1it [00:00, 42.34it/s]\n",
      "1it [00:00, 36.35it/s]\n",
      "1it [00:00, 53.20it/s]\n",
      "1it [00:00, 36.86it/s]\n",
      "0it [00:00, ?it/s]"
     ]
    },
    {
     "name": "stdout",
     "output_type": "stream",
     "text": [
      "* [TextCleaner] Cleaning text...\n",
      "* [TextCleaner] Cleaning text...\n",
      "* [TextCleaner] Cleaning text...\n",
      "* [TextCleaner] Cleaning text...\n",
      "* [TextCleaner] Cleaning text...\n",
      "* [TextCleaner] Cleaning text...\n",
      "* [TextCleaner] Cleaning text...\n"
     ]
    },
    {
     "name": "stderr",
     "output_type": "stream",
     "text": [
      "1it [00:00, 37.55it/s]\n",
      "1it [00:00, 36.59it/s]\n",
      "1it [00:00, 35.05it/s]\n",
      "1it [00:00, 39.58it/s]\n",
      "1it [00:00, 36.37it/s]\n",
      "1it [00:00, 32.44it/s]\n",
      "1it [00:00, 33.80it/s]"
     ]
    },
    {
     "name": "stdout",
     "output_type": "stream",
     "text": [
      "* [TextCleaner] Cleaning text...\n",
      "* [TextCleaner] Cleaning text...\n",
      "* [TextCleaner] Cleaning text...\n",
      "* [TextCleaner] Cleaning text...\n",
      "* [TextCleaner] Cleaning text...\n",
      "* [TextCleaner] Cleaning text...\n"
     ]
    },
    {
     "name": "stderr",
     "output_type": "stream",
     "text": [
      "\n",
      "1it [00:00, 42.81it/s]\n",
      "1it [00:00, 34.06it/s]\n",
      "1it [00:00, 36.69it/s]\n",
      "1it [00:00, 43.78it/s]\n",
      "1it [00:00, 36.93it/s]\n",
      "1it [00:00, 39.06it/s]\n",
      "0it [00:00, ?it/s]"
     ]
    },
    {
     "name": "stdout",
     "output_type": "stream",
     "text": [
      "* [TextCleaner] Cleaning text...\n",
      "* [TextCleaner] Cleaning text...\n",
      "* [TextCleaner] Cleaning text...\n",
      "* [TextCleaner] Cleaning text...\n",
      "* [TextCleaner] Cleaning text...\n",
      "* [TextCleaner] Cleaning text...\n",
      "* [TextCleaner] Cleaning text...\n"
     ]
    },
    {
     "name": "stderr",
     "output_type": "stream",
     "text": [
      "1it [00:00, 38.97it/s]\n",
      "1it [00:00, 45.37it/s]\n",
      "1it [00:00, 36.19it/s]\n",
      "1it [00:00, 35.63it/s]\n",
      "1it [00:00, 36.11it/s]\n",
      "1it [00:00, 37.97it/s]\n",
      "1it [00:00, 38.29it/s]\n",
      "0it [00:00, ?it/s]"
     ]
    },
    {
     "name": "stdout",
     "output_type": "stream",
     "text": [
      "* [TextCleaner] Cleaning text...\n",
      "* [TextCleaner] Cleaning text...\n",
      "* [TextCleaner] Cleaning text...\n",
      "* [TextCleaner] Cleaning text...\n",
      "* [TextCleaner] Cleaning text...\n",
      "* [TextCleaner] Cleaning text...\n",
      "* [TextCleaner] Cleaning text...\n"
     ]
    },
    {
     "name": "stderr",
     "output_type": "stream",
     "text": [
      "1it [00:00, 41.74it/s]\n",
      "1it [00:00, 41.17it/s]\n",
      "1it [00:00, 43.54it/s]\n",
      "1it [00:00, 34.74it/s]\n",
      "1it [00:00, 30.83it/s]\n",
      "1it [00:00, 48.76it/s]\n",
      "1it [00:00, 37.29it/s]\n",
      "0it [00:00, ?it/s]"
     ]
    },
    {
     "name": "stdout",
     "output_type": "stream",
     "text": [
      "* [TextCleaner] Cleaning text...\n",
      "* [TextCleaner] Cleaning text...\n",
      "* [TextCleaner] Cleaning text...\n",
      "* [TextCleaner] Cleaning text...\n",
      "* [TextCleaner] Cleaning text...\n",
      "* [TextCleaner] Cleaning text...\n",
      "* [TextCleaner] Cleaning text...\n"
     ]
    },
    {
     "name": "stderr",
     "output_type": "stream",
     "text": [
      "1it [00:00, 34.26it/s]\n",
      "1it [00:00, 32.82it/s]\n",
      "1it [00:00, 43.10it/s]\n",
      "1it [00:00, 35.09it/s]\n",
      "1it [00:00, 39.14it/s]\n",
      "1it [00:00, 41.41it/s]\n",
      "1it [00:00, 37.36it/s]\n",
      "0it [00:00, ?it/s]"
     ]
    },
    {
     "name": "stdout",
     "output_type": "stream",
     "text": [
      "* [TextCleaner] Cleaning text...\n",
      "* [TextCleaner] Cleaning text...\n",
      "* [TextCleaner] Cleaning text...\n",
      "* [TextCleaner] Cleaning text...\n",
      "* [TextCleaner] Cleaning text...\n",
      "* [TextCleaner] Cleaning text...\n",
      "* [TextCleaner] Cleaning text...\n"
     ]
    },
    {
     "name": "stderr",
     "output_type": "stream",
     "text": [
      "1it [00:00, 27.14it/s]\n",
      "1it [00:00, 52.56it/s]\n",
      "1it [00:00, 37.60it/s]\n",
      "1it [00:00, 35.20it/s]\n",
      "1it [00:00, 33.52it/s]\n",
      "1it [00:00, 34.18it/s]\n",
      "1it [00:00, 36.86it/s]\n",
      "0it [00:00, ?it/s]"
     ]
    },
    {
     "name": "stdout",
     "output_type": "stream",
     "text": [
      "* [TextCleaner] Cleaning text...\n",
      "* [TextCleaner] Cleaning text...\n",
      "* [TextCleaner] Cleaning text...\n",
      "* [TextCleaner] Cleaning text...\n",
      "* [TextCleaner] Cleaning text...\n",
      "* [TextCleaner] Cleaning text...\n",
      "* [TextCleaner] Cleaning text...\n"
     ]
    },
    {
     "name": "stderr",
     "output_type": "stream",
     "text": [
      "1it [00:00, 34.04it/s]\n",
      "1it [00:00, 43.68it/s]\n",
      "1it [00:00, 32.71it/s]\n",
      "1it [00:00, 41.16it/s]\n",
      "1it [00:00, 29.23it/s]\n",
      "1it [00:00, 37.70it/s]\n",
      "1it [00:00, 50.32it/s]\n",
      "0it [00:00, ?it/s]"
     ]
    },
    {
     "name": "stdout",
     "output_type": "stream",
     "text": [
      "* [TextCleaner] Cleaning text...\n",
      "* [TextCleaner] Cleaning text...\n",
      "* [TextCleaner] Cleaning text...\n",
      "* [TextCleaner] Cleaning text...\n",
      "* [TextCleaner] Cleaning text...\n",
      "* [TextCleaner] Cleaning text...\n",
      "* [TextCleaner] Cleaning text...\n"
     ]
    },
    {
     "name": "stderr",
     "output_type": "stream",
     "text": [
      "1it [00:00, 37.76it/s]\n",
      "1it [00:00, 36.36it/s]\n",
      "1it [00:00, 39.60it/s]\n",
      "1it [00:00, 41.47it/s]\n",
      "1it [00:00, 49.95it/s]\n",
      "1it [00:00, 34.56it/s]\n",
      "1it [00:00, 49.42it/s]\n",
      "0it [00:00, ?it/s]"
     ]
    },
    {
     "name": "stdout",
     "output_type": "stream",
     "text": [
      "* [TextCleaner] Cleaning text...\n",
      "* [TextCleaner] Cleaning text...\n",
      "* [TextCleaner] Cleaning text...\n",
      "* [TextCleaner] Cleaning text...\n",
      "* [TextCleaner] Cleaning text...\n",
      "* [TextCleaner] Cleaning text...\n",
      "* [TextCleaner] Cleaning text...\n"
     ]
    },
    {
     "name": "stderr",
     "output_type": "stream",
     "text": [
      "1it [00:00, 35.01it/s]\n",
      "1it [00:00, 36.83it/s]\n",
      "1it [00:00, 47.20it/s]\n",
      "1it [00:00, 35.42it/s]\n",
      "1it [00:00, 46.52it/s]\n",
      "1it [00:00, 37.56it/s]\n",
      "1it [00:00, 32.31it/s]\n",
      "0it [00:00, ?it/s]"
     ]
    },
    {
     "name": "stdout",
     "output_type": "stream",
     "text": [
      "* [TextCleaner] Cleaning text...\n",
      "* [TextCleaner] Cleaning text...\n",
      "* [TextCleaner] Cleaning text...\n",
      "* [TextCleaner] Cleaning text...\n",
      "* [TextCleaner] Cleaning text...\n",
      "* [TextCleaner] Cleaning text...\n",
      "* [TextCleaner] Cleaning text...\n"
     ]
    },
    {
     "name": "stderr",
     "output_type": "stream",
     "text": [
      "1it [00:00, 36.64it/s]\n",
      "1it [00:00, 46.37it/s]\n",
      "1it [00:00, 41.49it/s]\n",
      "1it [00:00, 48.41it/s]\n",
      "1it [00:00, 28.97it/s]\n",
      "1it [00:00, 33.97it/s]\n",
      "1it [00:00, 33.93it/s]\n",
      "0it [00:00, ?it/s]"
     ]
    },
    {
     "name": "stdout",
     "output_type": "stream",
     "text": [
      "* [TextCleaner] Cleaning text...\n",
      "* [TextCleaner] Cleaning text...\n",
      "* [TextCleaner] Cleaning text...\n",
      "* [TextCleaner] Cleaning text...\n",
      "* [TextCleaner] Cleaning text...\n",
      "* [TextCleaner] Cleaning text...\n",
      "* [TextCleaner] Cleaning text...\n"
     ]
    },
    {
     "name": "stderr",
     "output_type": "stream",
     "text": [
      "1it [00:00, 24.92it/s]\n",
      "1it [00:00, 21.44it/s]\n",
      "1it [00:00, 24.06it/s]\n",
      "1it [00:00, 23.45it/s]\n",
      "0it [00:00, ?it/s]"
     ]
    },
    {
     "name": "stdout",
     "output_type": "stream",
     "text": [
      "* [TextCleaner] Cleaning text...\n",
      "* [TextCleaner] Cleaning text...\n",
      "* [TextCleaner] Cleaning text...\n",
      "* [TextCleaner] Cleaning text...\n"
     ]
    },
    {
     "name": "stderr",
     "output_type": "stream",
     "text": [
      "1it [00:00, 18.11it/s]\n",
      "1it [00:00, 23.12it/s]\n",
      "1it [00:00, 22.39it/s]\n",
      "1it [00:00, 21.95it/s]\n",
      "1it [00:00, 73.21it/s]\n",
      "0it [00:00, ?it/s]"
     ]
    },
    {
     "name": "stdout",
     "output_type": "stream",
     "text": [
      "* [TextCleaner] Cleaning text...\n",
      "* [TextCleaner] Cleaning text...\n",
      "* [TextCleaner] Cleaning text...\n",
      "* [TextCleaner] Cleaning text...\n",
      "* [TextCleaner] Cleaning text...\n"
     ]
    },
    {
     "name": "stderr",
     "output_type": "stream",
     "text": [
      "1it [00:00, 26.71it/s]\n",
      "1it [00:00, 38.43it/s]\n",
      "1it [00:00, 27.77it/s]\n",
      "1it [00:00, 30.33it/s]\n",
      "1it [00:00, 25.76it/s]\n",
      "1it [00:00, 31.87it/s]\n",
      "0it [00:00, ?it/s]"
     ]
    },
    {
     "name": "stdout",
     "output_type": "stream",
     "text": [
      "* [TextCleaner] Cleaning text...\n",
      "* [TextCleaner] Cleaning text...\n",
      "* [TextCleaner] Cleaning text...\n",
      "* [TextCleaner] Cleaning text...\n",
      "* [TextCleaner] Cleaning text...\n",
      "* [TextCleaner] Cleaning text...\n"
     ]
    },
    {
     "name": "stderr",
     "output_type": "stream",
     "text": [
      "1it [00:00, 28.67it/s]\n",
      "1it [00:00, 31.36it/s]\n",
      "1it [00:00, 33.11it/s]\n",
      "1it [00:00, 29.32it/s]\n",
      "1it [00:00, 27.63it/s]\n",
      "1it [00:00, 27.44it/s]\n"
     ]
    },
    {
     "name": "stdout",
     "output_type": "stream",
     "text": [
      "* [TextCleaner] Cleaning text...\n",
      "* [TextCleaner] Cleaning text...\n",
      "* [TextCleaner] Cleaning text...\n",
      "* [TextCleaner] Cleaning text...\n",
      "* [TextCleaner] Cleaning text...\n"
     ]
    },
    {
     "name": "stderr",
     "output_type": "stream",
     "text": [
      "1it [00:00, 24.33it/s]\n",
      "1it [00:00, 26.46it/s]\n",
      "1it [00:00, 28.48it/s]\n",
      "1it [00:00, 25.57it/s]\n",
      "1it [00:00, 27.34it/s]\n",
      "0it [00:00, ?it/s]"
     ]
    },
    {
     "name": "stdout",
     "output_type": "stream",
     "text": [
      "* [TextCleaner] Cleaning text...\n",
      "* [TextCleaner] Cleaning text...\n",
      "* [TextCleaner] Cleaning text...\n",
      "* [TextCleaner] Cleaning text...\n",
      "* [TextCleaner] Cleaning text...\n",
      "* [TextCleaner] Cleaning text...\n"
     ]
    },
    {
     "name": "stderr",
     "output_type": "stream",
     "text": [
      "1it [00:00, 20.41it/s]\n",
      "1it [00:00, 29.62it/s]\n",
      "1it [00:00, 36.32it/s]\n",
      "1it [00:00, 36.40it/s]\n",
      "1it [00:00, 30.88it/s]\n",
      "1it [00:00, 28.72it/s]\n",
      "0it [00:00, ?it/s]"
     ]
    },
    {
     "name": "stdout",
     "output_type": "stream",
     "text": [
      "* [TextCleaner] Cleaning text...\n",
      "* [TextCleaner] Cleaning text...\n",
      "* [TextCleaner] Cleaning text...\n",
      "* [TextCleaner] Cleaning text...\n",
      "* [TextCleaner] Cleaning text...\n",
      "* [TextCleaner] Cleaning text...\n"
     ]
    },
    {
     "name": "stderr",
     "output_type": "stream",
     "text": [
      "1it [00:00, 28.01it/s]\n",
      "1it [00:00, 31.37it/s]\n",
      "1it [00:00, 48.37it/s]\n",
      "1it [00:00, 38.54it/s]\n",
      "1it [00:00, 28.94it/s]\n",
      "1it [00:00, 47.24it/s]\n",
      "1it [00:00, 43.50it/s]\n",
      "0it [00:00, ?it/s]"
     ]
    },
    {
     "name": "stdout",
     "output_type": "stream",
     "text": [
      "* [TextCleaner] Cleaning text...\n",
      "* [TextCleaner] Cleaning text...\n",
      "* [TextCleaner] Cleaning text...\n",
      "* [TextCleaner] Cleaning text...\n",
      "* [TextCleaner] Cleaning text...\n",
      "* [TextCleaner] Cleaning text...\n",
      "* [TextCleaner] Cleaning text...\n"
     ]
    },
    {
     "name": "stderr",
     "output_type": "stream",
     "text": [
      "1it [00:00, 34.11it/s]\n",
      "1it [00:00, 38.72it/s]\n",
      "1it [00:00, 31.39it/s]\n",
      "1it [00:00, 38.73it/s]\n",
      "1it [00:00, 44.38it/s]\n",
      "1it [00:00, 34.87it/s]\n",
      "1it [00:00, 30.55it/s]"
     ]
    },
    {
     "name": "stdout",
     "output_type": "stream",
     "text": [
      "* [TextCleaner] Cleaning text...\n",
      "* [TextCleaner] Cleaning text...\n",
      "* [TextCleaner] Cleaning text...\n",
      "* [TextCleaner] Cleaning text...\n",
      "* [TextCleaner] Cleaning text...\n",
      "* [TextCleaner] Cleaning text...\n"
     ]
    },
    {
     "name": "stderr",
     "output_type": "stream",
     "text": [
      "\n",
      "1it [00:00, 38.83it/s]\n",
      "1it [00:00, 39.31it/s]\n",
      "1it [00:00, 36.51it/s]\n",
      "1it [00:00, 41.62it/s]\n",
      "1it [00:00, 50.17it/s]\n",
      "1it [00:00, 45.53it/s]\n",
      "1it [00:00, 38.32it/s]\n",
      "0it [00:00, ?it/s]"
     ]
    },
    {
     "name": "stdout",
     "output_type": "stream",
     "text": [
      "* [TextCleaner] Cleaning text...\n",
      "* [TextCleaner] Cleaning text...\n",
      "* [TextCleaner] Cleaning text...\n",
      "* [TextCleaner] Cleaning text...\n",
      "* [TextCleaner] Cleaning text...\n",
      "* [TextCleaner] Cleaning text...\n",
      "* [TextCleaner] Cleaning text...\n",
      "* [TextCleaner] Cleaning text...\n"
     ]
    },
    {
     "name": "stderr",
     "output_type": "stream",
     "text": [
      "1it [00:00, 37.40it/s]\n",
      "1it [00:00, 45.22it/s]\n",
      "1it [00:00, 34.30it/s]\n",
      "1it [00:00, 40.32it/s]\n",
      "1it [00:00, 40.34it/s]\n",
      "1it [00:00, 34.59it/s]\n",
      "1it [00:00, 41.61it/s]\n",
      "0it [00:00, ?it/s]"
     ]
    },
    {
     "name": "stdout",
     "output_type": "stream",
     "text": [
      "* [TextCleaner] Cleaning text...\n",
      "* [TextCleaner] Cleaning text...\n",
      "* [TextCleaner] Cleaning text...\n",
      "* [TextCleaner] Cleaning text...\n",
      "* [TextCleaner] Cleaning text...\n",
      "* [TextCleaner] Cleaning text...\n",
      "* [TextCleaner] Cleaning text...\n"
     ]
    },
    {
     "name": "stderr",
     "output_type": "stream",
     "text": [
      "1it [00:00, 36.47it/s]\n",
      "1it [00:00, 42.54it/s]\n",
      "1it [00:00, 33.92it/s]\n",
      "1it [00:00, 30.29it/s]\n",
      "1it [00:00, 33.05it/s]\n",
      "1it [00:00, 58.40it/s]\n",
      "1it [00:00, 84.78it/s]\n",
      "0it [00:00, ?it/s]"
     ]
    },
    {
     "name": "stdout",
     "output_type": "stream",
     "text": [
      "* [TextCleaner] Cleaning text...\n",
      "* [TextCleaner] Cleaning text...\n",
      "* [TextCleaner] Cleaning text...\n",
      "* [TextCleaner] Cleaning text...\n",
      "* [TextCleaner] Cleaning text...\n",
      "* [TextCleaner] Cleaning text...\n",
      "* [TextCleaner] Cleaning text...\n"
     ]
    },
    {
     "name": "stderr",
     "output_type": "stream",
     "text": [
      "1it [00:00, 33.54it/s]\n",
      "1it [00:00, 32.36it/s]\n",
      "1it [00:00, 38.87it/s]\n",
      "1it [00:00, 46.62it/s]\n",
      "1it [00:00, 31.33it/s]\n",
      "1it [00:00, 39.73it/s]\n",
      "1it [00:00, 44.61it/s]\n",
      "0it [00:00, ?it/s]"
     ]
    },
    {
     "name": "stdout",
     "output_type": "stream",
     "text": [
      "* [TextCleaner] Cleaning text...\n",
      "* [TextCleaner] Cleaning text...\n",
      "* [TextCleaner] Cleaning text...\n",
      "* [TextCleaner] Cleaning text...\n",
      "* [TextCleaner] Cleaning text...\n",
      "* [TextCleaner] Cleaning text...\n",
      "* [TextCleaner] Cleaning text...\n"
     ]
    },
    {
     "name": "stderr",
     "output_type": "stream",
     "text": [
      "1it [00:00, 35.19it/s]\n",
      "1it [00:00, 42.67it/s]\n",
      "1it [00:00, 49.98it/s]\n",
      "1it [00:00, 38.57it/s]\n",
      "1it [00:00, 41.24it/s]\n",
      "1it [00:00, 37.98it/s]\n",
      "1it [00:00, 40.33it/s]\n",
      "1it [00:00, 48.29it/s]\n"
     ]
    },
    {
     "name": "stdout",
     "output_type": "stream",
     "text": [
      "* [TextCleaner] Cleaning text...\n",
      "* [TextCleaner] Cleaning text...\n",
      "* [TextCleaner] Cleaning text...\n",
      "* [TextCleaner] Cleaning text...\n",
      "* [TextCleaner] Cleaning text...\n",
      "* [TextCleaner] Cleaning text...\n",
      "* [TextCleaner] Cleaning text...\n"
     ]
    },
    {
     "name": "stderr",
     "output_type": "stream",
     "text": [
      "1it [00:00, 33.53it/s]\n",
      "1it [00:00, 36.18it/s]\n",
      "1it [00:00, 31.04it/s]\n",
      "1it [00:00, 37.93it/s]\n",
      "1it [00:00, 47.21it/s]\n",
      "1it [00:00, 38.27it/s]\n",
      "1it [00:00, 44.32it/s]\n",
      "0it [00:00, ?it/s]"
     ]
    },
    {
     "name": "stdout",
     "output_type": "stream",
     "text": [
      "* [TextCleaner] Cleaning text...\n",
      "* [TextCleaner] Cleaning text...\n",
      "* [TextCleaner] Cleaning text...\n",
      "* [TextCleaner] Cleaning text...\n",
      "* [TextCleaner] Cleaning text...\n",
      "* [TextCleaner] Cleaning text...\n",
      "* [TextCleaner] Cleaning text...\n",
      "* [TextCleaner] Cleaning text...\n"
     ]
    },
    {
     "name": "stderr",
     "output_type": "stream",
     "text": [
      "1it [00:00, 52.62it/s]\n",
      "1it [00:00, 38.31it/s]\n",
      "1it [00:00, 39.60it/s]\n",
      "1it [00:00, 46.99it/s]\n",
      "1it [00:00, 25.55it/s]\n",
      "1it [00:00, 37.62it/s]\n",
      "1it [00:00, 32.66it/s]\n",
      "0it [00:00, ?it/s]"
     ]
    },
    {
     "name": "stdout",
     "output_type": "stream",
     "text": [
      "* [TextCleaner] Cleaning text...\n",
      "* [TextCleaner] Cleaning text...\n",
      "* [TextCleaner] Cleaning text...\n",
      "* [TextCleaner] Cleaning text...\n",
      "* [TextCleaner] Cleaning text...\n",
      "* [TextCleaner] Cleaning text...\n",
      "* [TextCleaner] Cleaning text...\n"
     ]
    },
    {
     "name": "stderr",
     "output_type": "stream",
     "text": [
      "1it [00:00, 29.42it/s]\n",
      "1it [00:00, 38.52it/s]\n",
      "1it [00:00, 45.80it/s]\n",
      "1it [00:00, 30.50it/s]\n",
      "1it [00:00, 32.85it/s]\n",
      "1it [00:00, 47.29it/s]\n",
      "1it [00:00, 35.74it/s]\n",
      "0it [00:00, ?it/s]"
     ]
    },
    {
     "name": "stdout",
     "output_type": "stream",
     "text": [
      "* [TextCleaner] Cleaning text...\n",
      "* [TextCleaner] Cleaning text...\n",
      "* [TextCleaner] Cleaning text...\n",
      "* [TextCleaner] Cleaning text...\n",
      "* [TextCleaner] Cleaning text...\n",
      "* [TextCleaner] Cleaning text...\n",
      "* [TextCleaner] Cleaning text...\n"
     ]
    },
    {
     "name": "stderr",
     "output_type": "stream",
     "text": [
      "1it [00:00, 36.04it/s]\n",
      "1it [00:00, 37.85it/s]\n",
      "1it [00:00, 57.91it/s]\n",
      "1it [00:00, 33.79it/s]\n",
      "1it [00:00, 30.01it/s]\n",
      "1it [00:00, 43.81it/s]\n",
      "1it [00:00, 41.72it/s]\n",
      "0it [00:00, ?it/s]"
     ]
    },
    {
     "name": "stdout",
     "output_type": "stream",
     "text": [
      "* [TextCleaner] Cleaning text...\n",
      "* [TextCleaner] Cleaning text...\n",
      "* [TextCleaner] Cleaning text...\n",
      "* [TextCleaner] Cleaning text...\n",
      "* [TextCleaner] Cleaning text...\n",
      "* [TextCleaner] Cleaning text...\n",
      "* [TextCleaner] Cleaning text...\n"
     ]
    },
    {
     "name": "stderr",
     "output_type": "stream",
     "text": [
      "1it [00:00, 51.24it/s]\n",
      "1it [00:00, 35.46it/s]\n",
      "1it [00:00, 36.18it/s]\n",
      "1it [00:00, 34.01it/s]\n",
      "1it [00:00, 31.48it/s]\n",
      "1it [00:00, 36.78it/s]\n",
      "0it [00:00, ?it/s]"
     ]
    },
    {
     "name": "stdout",
     "output_type": "stream",
     "text": [
      "* [TextCleaner] Cleaning text...\n",
      "* [TextCleaner] Cleaning text...\n",
      "* [TextCleaner] Cleaning text...\n",
      "* [TextCleaner] Cleaning text...\n",
      "* [TextCleaner] Cleaning text...\n",
      "* [TextCleaner] Cleaning text...\n"
     ]
    },
    {
     "name": "stderr",
     "output_type": "stream",
     "text": [
      "1it [00:00, 32.14it/s]\n",
      "1it [00:00, 40.10it/s]\n",
      "1it [00:00, 47.65it/s]\n",
      "1it [00:00, 32.17it/s]\n",
      "1it [00:00, 34.30it/s]\n",
      "1it [00:00, 47.67it/s]\n",
      "1it [00:00, 43.81it/s]\n",
      "0it [00:00, ?it/s]"
     ]
    },
    {
     "name": "stdout",
     "output_type": "stream",
     "text": [
      "* [TextCleaner] Cleaning text...\n",
      "* [TextCleaner] Cleaning text...\n",
      "* [TextCleaner] Cleaning text...\n",
      "* [TextCleaner] Cleaning text...\n",
      "* [TextCleaner] Cleaning text...\n",
      "* [TextCleaner] Cleaning text...\n",
      "* [TextCleaner] Cleaning text...\n"
     ]
    },
    {
     "name": "stderr",
     "output_type": "stream",
     "text": [
      "1it [00:00, 38.08it/s]\n",
      "1it [00:00, 34.48it/s]\n",
      "1it [00:00, 42.60it/s]\n",
      "1it [00:00, 39.55it/s]\n",
      "1it [00:00, 40.08it/s]\n",
      "1it [00:00, 44.08it/s]\n",
      "1it [00:00, 35.77it/s]\n",
      "0it [00:00, ?it/s]"
     ]
    },
    {
     "name": "stdout",
     "output_type": "stream",
     "text": [
      "* [TextCleaner] Cleaning text...\n",
      "* [TextCleaner] Cleaning text...\n",
      "* [TextCleaner] Cleaning text...\n",
      "* [TextCleaner] Cleaning text...\n",
      "* [TextCleaner] Cleaning text...\n",
      "* [TextCleaner] Cleaning text...\n",
      "* [TextCleaner] Cleaning text...\n"
     ]
    },
    {
     "name": "stderr",
     "output_type": "stream",
     "text": [
      "1it [00:00, 30.31it/s]\n",
      "1it [00:00, 31.18it/s]\n",
      "1it [00:00, 31.34it/s]\n",
      "1it [00:00, 40.44it/s]\n",
      "0it [00:00, ?it/s]"
     ]
    },
    {
     "name": "stdout",
     "output_type": "stream",
     "text": [
      "* [TextCleaner] Cleaning text...\n",
      "* [TextCleaner] Cleaning text...\n",
      "* [TextCleaner] Cleaning text...\n",
      "* [TextCleaner] Cleaning text...\n"
     ]
    },
    {
     "name": "stderr",
     "output_type": "stream",
     "text": [
      "1it [00:00, 32.29it/s]\n",
      "1it [00:00, 37.44it/s]\n",
      "1it [00:00, 50.93it/s]\n",
      "1it [00:00, 38.44it/s]\n",
      "1it [00:00, 37.75it/s]\n",
      "1it [00:00, 36.64it/s]\n",
      "1it [00:00, 33.20it/s]\n",
      "0it [00:00, ?it/s]"
     ]
    },
    {
     "name": "stdout",
     "output_type": "stream",
     "text": [
      "* [TextCleaner] Cleaning text...\n",
      "* [TextCleaner] Cleaning text...\n",
      "* [TextCleaner] Cleaning text...\n",
      "* [TextCleaner] Cleaning text...\n",
      "* [TextCleaner] Cleaning text...\n",
      "* [TextCleaner] Cleaning text...\n",
      "* [TextCleaner] Cleaning text...\n"
     ]
    },
    {
     "name": "stderr",
     "output_type": "stream",
     "text": [
      "1it [00:00, 32.75it/s]\n",
      "1it [00:00, 52.65it/s]\n",
      "1it [00:00, 34.87it/s]\n",
      "1it [00:00, 35.57it/s]\n",
      "1it [00:00, 57.53it/s]\n",
      "1it [00:00, 32.73it/s]\n",
      "1it [00:00, 42.36it/s]\n",
      "0it [00:00, ?it/s]"
     ]
    },
    {
     "name": "stdout",
     "output_type": "stream",
     "text": [
      "* [TextCleaner] Cleaning text...\n",
      "* [TextCleaner] Cleaning text...\n",
      "* [TextCleaner] Cleaning text...\n",
      "* [TextCleaner] Cleaning text...\n",
      "* [TextCleaner] Cleaning text...\n",
      "* [TextCleaner] Cleaning text...\n",
      "* [TextCleaner] Cleaning text...\n"
     ]
    },
    {
     "name": "stderr",
     "output_type": "stream",
     "text": [
      "1it [00:00, 28.36it/s]\n",
      "1it [00:00, 34.38it/s]\n",
      "1it [00:00, 39.01it/s]\n",
      "1it [00:00, 31.88it/s]\n",
      "1it [00:00, 37.46it/s]\n",
      "1it [00:00, 35.25it/s]\n",
      "0it [00:00, ?it/s]"
     ]
    },
    {
     "name": "stdout",
     "output_type": "stream",
     "text": [
      "* [TextCleaner] Cleaning text...\n",
      "* [TextCleaner] Cleaning text...\n",
      "* [TextCleaner] Cleaning text...\n",
      "* [TextCleaner] Cleaning text...\n",
      "* [TextCleaner] Cleaning text...\n",
      "* [TextCleaner] Cleaning text...\n"
     ]
    },
    {
     "name": "stderr",
     "output_type": "stream",
     "text": [
      "1it [00:00, 28.15it/s]\n",
      "1it [00:00, 37.08it/s]\n",
      "1it [00:00, 46.26it/s]\n",
      "1it [00:00, 36.86it/s]\n",
      "1it [00:00, 33.51it/s]\n",
      "1it [00:00, 32.58it/s]\n",
      "1it [00:00, 38.22it/s]\n",
      "0it [00:00, ?it/s]"
     ]
    },
    {
     "name": "stdout",
     "output_type": "stream",
     "text": [
      "* [TextCleaner] Cleaning text...\n",
      "* [TextCleaner] Cleaning text...\n",
      "* [TextCleaner] Cleaning text...\n",
      "* [TextCleaner] Cleaning text...\n",
      "* [TextCleaner] Cleaning text...\n",
      "* [TextCleaner] Cleaning text...\n",
      "* [TextCleaner] Cleaning text...\n"
     ]
    },
    {
     "name": "stderr",
     "output_type": "stream",
     "text": [
      "1it [00:00, 34.52it/s]\n",
      "1it [00:00, 40.99it/s]\n",
      "1it [00:00, 43.24it/s]\n",
      "1it [00:00, 48.86it/s]\n",
      "1it [00:00, 37.86it/s]\n",
      "1it [00:00, 41.67it/s]\n",
      "1it [00:00, 37.92it/s]\n",
      "0it [00:00, ?it/s]"
     ]
    },
    {
     "name": "stdout",
     "output_type": "stream",
     "text": [
      "* [TextCleaner] Cleaning text...\n",
      "* [TextCleaner] Cleaning text...\n",
      "* [TextCleaner] Cleaning text...\n",
      "* [TextCleaner] Cleaning text...\n",
      "* [TextCleaner] Cleaning text...\n",
      "* [TextCleaner] Cleaning text...\n",
      "* [TextCleaner] Cleaning text...\n"
     ]
    },
    {
     "name": "stderr",
     "output_type": "stream",
     "text": [
      "1it [00:00, 37.31it/s]\n",
      "1it [00:00, 34.47it/s]\n",
      "1it [00:00, 36.80it/s]\n",
      "1it [00:00, 39.05it/s]\n",
      "1it [00:00, 39.10it/s]\n",
      "1it [00:00, 32.67it/s]\n",
      "1it [00:00, 48.26it/s]\n",
      "0it [00:00, ?it/s]"
     ]
    },
    {
     "name": "stdout",
     "output_type": "stream",
     "text": [
      "* [TextCleaner] Cleaning text...\n",
      "* [TextCleaner] Cleaning text...\n",
      "* [TextCleaner] Cleaning text...\n",
      "* [TextCleaner] Cleaning text...\n",
      "* [TextCleaner] Cleaning text...\n",
      "* [TextCleaner] Cleaning text...\n",
      "* [TextCleaner] Cleaning text...\n"
     ]
    },
    {
     "name": "stderr",
     "output_type": "stream",
     "text": [
      "1it [00:00, 39.22it/s]\n",
      "1it [00:00, 38.64it/s]\n",
      "1it [00:00, 44.70it/s]\n",
      "1it [00:00, 37.32it/s]\n",
      "1it [00:00, 38.35it/s]\n",
      "1it [00:00, 30.29it/s]\n",
      "1it [00:00, 30.70it/s]\n",
      "0it [00:00, ?it/s]"
     ]
    },
    {
     "name": "stdout",
     "output_type": "stream",
     "text": [
      "* [TextCleaner] Cleaning text...\n",
      "* [TextCleaner] Cleaning text...\n",
      "* [TextCleaner] Cleaning text...\n",
      "* [TextCleaner] Cleaning text...\n",
      "* [TextCleaner] Cleaning text...\n",
      "* [TextCleaner] Cleaning text...\n",
      "* [TextCleaner] Cleaning text...\n"
     ]
    },
    {
     "name": "stderr",
     "output_type": "stream",
     "text": [
      "1it [00:00, 33.06it/s]\n",
      "1it [00:00, 40.01it/s]\n",
      "1it [00:00, 47.04it/s]\n",
      "1it [00:00, 40.28it/s]\n",
      "1it [00:00, 35.98it/s]\n",
      "1it [00:00, 39.81it/s]\n",
      "1it [00:00, 37.61it/s]\n",
      "0it [00:00, ?it/s]"
     ]
    },
    {
     "name": "stdout",
     "output_type": "stream",
     "text": [
      "* [TextCleaner] Cleaning text...\n",
      "* [TextCleaner] Cleaning text...\n",
      "* [TextCleaner] Cleaning text...\n",
      "* [TextCleaner] Cleaning text...\n",
      "* [TextCleaner] Cleaning text...\n",
      "* [TextCleaner] Cleaning text...\n",
      "* [TextCleaner] Cleaning text...\n"
     ]
    },
    {
     "name": "stderr",
     "output_type": "stream",
     "text": [
      "1it [00:00, 39.97it/s]\n",
      "1it [00:00, 35.98it/s]\n",
      "1it [00:00, 43.37it/s]\n",
      "1it [00:00, 43.13it/s]\n",
      "1it [00:00, 89.19it/s]\n",
      "1it [00:00, 39.54it/s]\n",
      "1it [00:00, 40.37it/s]\n",
      "1it [00:00, 33.62it/s]"
     ]
    },
    {
     "name": "stdout",
     "output_type": "stream",
     "text": [
      "* [TextCleaner] Cleaning text...\n",
      "* [TextCleaner] Cleaning text...\n",
      "* [TextCleaner] Cleaning text...\n",
      "* [TextCleaner] Cleaning text...\n",
      "* [TextCleaner] Cleaning text...\n",
      "* [TextCleaner] Cleaning text...\n",
      "* [TextCleaner] Cleaning text...\n"
     ]
    },
    {
     "name": "stderr",
     "output_type": "stream",
     "text": [
      "\n",
      "1it [00:00, 37.36it/s]\n",
      "1it [00:00, 51.21it/s]\n",
      "1it [00:00, 34.25it/s]\n",
      "1it [00:00, 23.14it/s]\n",
      "1it [00:00, 34.55it/s]\n",
      "1it [00:00, 30.14it/s]\n",
      "0it [00:00, ?it/s]"
     ]
    },
    {
     "name": "stdout",
     "output_type": "stream",
     "text": [
      "* [TextCleaner] Cleaning text...\n",
      "* [TextCleaner] Cleaning text...\n",
      "* [TextCleaner] Cleaning text...\n",
      "* [TextCleaner] Cleaning text...\n",
      "* [TextCleaner] Cleaning text...\n",
      "* [TextCleaner] Cleaning text...\n",
      "* [TextCleaner] Cleaning text...\n"
     ]
    },
    {
     "name": "stderr",
     "output_type": "stream",
     "text": [
      "1it [00:00, 41.44it/s]\n",
      "1it [00:00, 41.31it/s]\n",
      "1it [00:00, 39.82it/s]\n",
      "1it [00:00, 28.05it/s]\n",
      "1it [00:00, 32.81it/s]\n",
      "1it [00:00, 33.40it/s]\n",
      "1it [00:00, 36.66it/s]"
     ]
    },
    {
     "name": "stdout",
     "output_type": "stream",
     "text": [
      "* [TextCleaner] Cleaning text...\n",
      "* [TextCleaner] Cleaning text...\n",
      "* [TextCleaner] Cleaning text...\n",
      "* [TextCleaner] Cleaning text...\n",
      "* [TextCleaner] Cleaning text...\n",
      "* [TextCleaner] Cleaning text...\n"
     ]
    },
    {
     "name": "stderr",
     "output_type": "stream",
     "text": [
      "\n",
      "1it [00:00, 47.23it/s]\n",
      "1it [00:00, 41.31it/s]\n",
      "1it [00:00, 61.29it/s]\n",
      "1it [00:00, 37.79it/s]\n",
      "1it [00:00, 41.16it/s]\n",
      "1it [00:00, 38.25it/s]\n",
      "1it [00:00, 29.35it/s]\n",
      "0it [00:00, ?it/s]"
     ]
    },
    {
     "name": "stdout",
     "output_type": "stream",
     "text": [
      "* [TextCleaner] Cleaning text...\n",
      "* [TextCleaner] Cleaning text...\n",
      "* [TextCleaner] Cleaning text...\n",
      "* [TextCleaner] Cleaning text...\n",
      "* [TextCleaner] Cleaning text...\n",
      "* [TextCleaner] Cleaning text...\n",
      "* [TextCleaner] Cleaning text...\n",
      "* [TextCleaner] Cleaning text...\n"
     ]
    },
    {
     "name": "stderr",
     "output_type": "stream",
     "text": [
      "1it [00:00, 32.68it/s]\n",
      "1it [00:00, 39.09it/s]\n",
      "1it [00:00, 32.88it/s]\n",
      "1it [00:00, 53.41it/s]\n",
      "1it [00:00, 35.78it/s]\n",
      "1it [00:00, 33.31it/s]\n",
      "1it [00:00, 37.15it/s]\n",
      "0it [00:00, ?it/s]"
     ]
    },
    {
     "name": "stdout",
     "output_type": "stream",
     "text": [
      "* [TextCleaner] Cleaning text...\n",
      "* [TextCleaner] Cleaning text...\n",
      "* [TextCleaner] Cleaning text...\n",
      "* [TextCleaner] Cleaning text...\n",
      "* [TextCleaner] Cleaning text...\n",
      "* [TextCleaner] Cleaning text...\n",
      "* [TextCleaner] Cleaning text...\n"
     ]
    },
    {
     "name": "stderr",
     "output_type": "stream",
     "text": [
      "1it [00:00, 40.88it/s]\n",
      "1it [00:00, 164.63it/s]\n",
      "1it [00:00, 49.70it/s]\n",
      "1it [00:00, 38.84it/s]\n",
      "1it [00:00, 36.00it/s]\n",
      "1it [00:00, 37.15it/s]\n",
      "1it [00:00, 47.56it/s]\n",
      "1it [00:00, 49.46it/s]\n",
      "0it [00:00, ?it/s]"
     ]
    },
    {
     "name": "stdout",
     "output_type": "stream",
     "text": [
      "* [TextCleaner] Cleaning text...\n",
      "* [TextCleaner] Cleaning text...\n",
      "* [TextCleaner] Cleaning text...\n",
      "* [TextCleaner] Cleaning text...\n",
      "* [TextCleaner] Cleaning text...\n",
      "* [TextCleaner] Cleaning text...\n",
      "* [TextCleaner] Cleaning text...\n",
      "* [TextCleaner] Cleaning text...\n"
     ]
    },
    {
     "name": "stderr",
     "output_type": "stream",
     "text": [
      "1it [00:00, 38.47it/s]\n",
      "1it [00:00, 35.11it/s]\n",
      "1it [00:00, 32.42it/s]\n",
      "1it [00:00, 31.28it/s]\n",
      "1it [00:00, 37.15it/s]\n",
      "1it [00:00, 30.26it/s]\n",
      "0it [00:00, ?it/s]"
     ]
    },
    {
     "name": "stdout",
     "output_type": "stream",
     "text": [
      "* [TextCleaner] Cleaning text...\n",
      "* [TextCleaner] Cleaning text...\n",
      "* [TextCleaner] Cleaning text...\n",
      "* [TextCleaner] Cleaning text...\n",
      "* [TextCleaner] Cleaning text...\n",
      "* [TextCleaner] Cleaning text...\n"
     ]
    },
    {
     "name": "stderr",
     "output_type": "stream",
     "text": [
      "1it [00:00, 34.38it/s]\n",
      "1it [00:00, 31.93it/s]\n",
      "1it [00:00, 33.58it/s]\n",
      "1it [00:00, 40.69it/s]\n",
      "1it [00:00, 30.51it/s]\n",
      "1it [00:00, 35.57it/s]\n",
      "0it [00:00, ?it/s]"
     ]
    },
    {
     "name": "stdout",
     "output_type": "stream",
     "text": [
      "* [TextCleaner] Cleaning text...\n",
      "* [TextCleaner] Cleaning text...\n",
      "* [TextCleaner] Cleaning text...\n",
      "* [TextCleaner] Cleaning text...\n",
      "* [TextCleaner] Cleaning text...\n",
      "* [TextCleaner] Cleaning text...\n"
     ]
    },
    {
     "name": "stderr",
     "output_type": "stream",
     "text": [
      "1it [00:00, 30.10it/s]\n",
      "1it [00:00, 40.67it/s]\n",
      "1it [00:00, 35.93it/s]\n",
      "1it [00:00, 35.38it/s]\n",
      "1it [00:00, 44.83it/s]\n",
      "1it [00:00, 41.98it/s]\n",
      "1it [00:00, 35.81it/s]\n",
      "0it [00:00, ?it/s]"
     ]
    },
    {
     "name": "stdout",
     "output_type": "stream",
     "text": [
      "* [TextCleaner] Cleaning text...\n",
      "* [TextCleaner] Cleaning text...\n",
      "* [TextCleaner] Cleaning text...\n",
      "* [TextCleaner] Cleaning text...\n",
      "* [TextCleaner] Cleaning text...\n",
      "* [TextCleaner] Cleaning text...\n",
      "* [TextCleaner] Cleaning text...\n"
     ]
    },
    {
     "name": "stderr",
     "output_type": "stream",
     "text": [
      "1it [00:00, 27.51it/s]\n",
      "1it [00:00, 32.33it/s]\n",
      "1it [00:00, 32.28it/s]\n",
      "1it [00:00, 44.57it/s]\n",
      "1it [00:00, 40.09it/s]\n",
      "1it [00:00, 38.66it/s]\n",
      "1it [00:00, 36.66it/s]\n",
      "0it [00:00, ?it/s]"
     ]
    },
    {
     "name": "stdout",
     "output_type": "stream",
     "text": [
      "* [TextCleaner] Cleaning text...\n",
      "* [TextCleaner] Cleaning text...\n",
      "* [TextCleaner] Cleaning text...\n",
      "* [TextCleaner] Cleaning text...\n",
      "* [TextCleaner] Cleaning text...\n",
      "* [TextCleaner] Cleaning text...\n",
      "* [TextCleaner] Cleaning text...\n"
     ]
    },
    {
     "name": "stderr",
     "output_type": "stream",
     "text": [
      "1it [00:00, 39.76it/s]\n",
      "1it [00:00, 41.78it/s]\n",
      "1it [00:00, 33.88it/s]\n",
      "1it [00:00, 36.55it/s]\n",
      "1it [00:00, 40.48it/s]\n",
      "1it [00:00, 45.85it/s]\n",
      "1it [00:00, 36.91it/s]\n",
      "0it [00:00, ?it/s]"
     ]
    },
    {
     "name": "stdout",
     "output_type": "stream",
     "text": [
      "* [TextCleaner] Cleaning text...\n",
      "* [TextCleaner] Cleaning text...\n",
      "* [TextCleaner] Cleaning text...\n",
      "* [TextCleaner] Cleaning text...\n",
      "* [TextCleaner] Cleaning text...\n",
      "* [TextCleaner] Cleaning text...\n",
      "* [TextCleaner] Cleaning text...\n"
     ]
    },
    {
     "name": "stderr",
     "output_type": "stream",
     "text": [
      "1it [00:00, 34.44it/s]\n",
      "1it [00:00, 40.45it/s]\n",
      "1it [00:00, 32.02it/s]\n",
      "1it [00:00, 35.31it/s]\n",
      "1it [00:00, 40.63it/s]\n",
      "1it [00:00, 38.22it/s]\n",
      "1it [00:00, 28.35it/s]\n"
     ]
    },
    {
     "name": "stdout",
     "output_type": "stream",
     "text": [
      "* [TextCleaner] Cleaning text...\n",
      "* [TextCleaner] Cleaning text...\n",
      "* [TextCleaner] Cleaning text...\n",
      "* [TextCleaner] Cleaning text...\n",
      "* [TextCleaner] Cleaning text...\n",
      "* [TextCleaner] Cleaning text...\n"
     ]
    },
    {
     "name": "stderr",
     "output_type": "stream",
     "text": [
      "1it [00:00, 41.48it/s]\n",
      "1it [00:00, 43.23it/s]\n",
      "1it [00:00, 40.59it/s]\n",
      "1it [00:00, 34.51it/s]\n",
      "1it [00:00, 34.10it/s]\n",
      "1it [00:00, 30.08it/s]\n",
      "1it [00:00, 36.95it/s]\n",
      "0it [00:00, ?it/s]"
     ]
    },
    {
     "name": "stdout",
     "output_type": "stream",
     "text": [
      "* [TextCleaner] Cleaning text...\n",
      "* [TextCleaner] Cleaning text...\n",
      "* [TextCleaner] Cleaning text...\n",
      "* [TextCleaner] Cleaning text...\n",
      "* [TextCleaner] Cleaning text...\n",
      "* [TextCleaner] Cleaning text...\n",
      "* [TextCleaner] Cleaning text...\n",
      "* [TextCleaner] Cleaning text...\n"
     ]
    },
    {
     "name": "stderr",
     "output_type": "stream",
     "text": [
      "1it [00:00, 38.82it/s]\n",
      "1it [00:00, 36.03it/s]\n",
      "1it [00:00, 39.88it/s]\n",
      "1it [00:00, 45.00it/s]\n",
      "1it [00:00, 30.24it/s]\n",
      "1it [00:00, 38.50it/s]\n",
      "1it [00:00, 40.16it/s]\n",
      "0it [00:00, ?it/s]"
     ]
    },
    {
     "name": "stdout",
     "output_type": "stream",
     "text": [
      "* [TextCleaner] Cleaning text...\n",
      "* [TextCleaner] Cleaning text...\n",
      "* [TextCleaner] Cleaning text...\n",
      "* [TextCleaner] Cleaning text...\n",
      "* [TextCleaner] Cleaning text...\n",
      "* [TextCleaner] Cleaning text...\n",
      "* [TextCleaner] Cleaning text...\n"
     ]
    },
    {
     "name": "stderr",
     "output_type": "stream",
     "text": [
      "1it [00:00, 35.41it/s]\n",
      "1it [00:00, 40.31it/s]\n",
      "1it [00:00, 29.91it/s]\n",
      "1it [00:00, 35.41it/s]\n",
      "1it [00:00, 36.58it/s]\n",
      "1it [00:00, 36.63it/s]\n",
      "0it [00:00, ?it/s]"
     ]
    },
    {
     "name": "stdout",
     "output_type": "stream",
     "text": [
      "* [TextCleaner] Cleaning text...\n",
      "* [TextCleaner] Cleaning text...\n",
      "* [TextCleaner] Cleaning text...\n",
      "* [TextCleaner] Cleaning text...\n",
      "* [TextCleaner] Cleaning text...\n",
      "* [TextCleaner] Cleaning text...\n"
     ]
    },
    {
     "name": "stderr",
     "output_type": "stream",
     "text": [
      "1it [00:00, 29.12it/s]\n",
      "1it [00:00, 36.60it/s]\n",
      "1it [00:00, 38.61it/s]\n",
      "1it [00:00, 34.23it/s]\n",
      "1it [00:00, 41.18it/s]\n",
      "1it [00:00, 31.99it/s]\n",
      "1it [00:00, 33.05it/s]\n"
     ]
    },
    {
     "name": "stdout",
     "output_type": "stream",
     "text": [
      "* [TextCleaner] Cleaning text...\n",
      "* [TextCleaner] Cleaning text...\n",
      "* [TextCleaner] Cleaning text...\n",
      "* [TextCleaner] Cleaning text...\n",
      "* [TextCleaner] Cleaning text...\n",
      "* [TextCleaner] Cleaning text...\n"
     ]
    },
    {
     "name": "stderr",
     "output_type": "stream",
     "text": [
      "1it [00:00, 36.97it/s]\n",
      "1it [00:00, 47.62it/s]\n",
      "1it [00:00, 44.16it/s]\n",
      "1it [00:00, 31.96it/s]\n",
      "1it [00:00, 40.05it/s]\n",
      "1it [00:00, 43.16it/s]\n",
      "1it [00:00, 36.60it/s]\n",
      "0it [00:00, ?it/s]"
     ]
    },
    {
     "name": "stdout",
     "output_type": "stream",
     "text": [
      "* [TextCleaner] Cleaning text...\n",
      "* [TextCleaner] Cleaning text...\n",
      "* [TextCleaner] Cleaning text...\n",
      "* [TextCleaner] Cleaning text...\n",
      "* [TextCleaner] Cleaning text...\n",
      "* [TextCleaner] Cleaning text...\n",
      "* [TextCleaner] Cleaning text...\n",
      "* [TextCleaner] Cleaning text...\n"
     ]
    },
    {
     "name": "stderr",
     "output_type": "stream",
     "text": [
      "1it [00:00, 29.55it/s]\n",
      "1it [00:00, 32.82it/s]\n",
      "1it [00:00, 30.61it/s]\n",
      "1it [00:00, 56.28it/s]\n",
      "1it [00:00, 36.97it/s]\n",
      "1it [00:00, 31.15it/s]\n",
      "1it [00:00, 39.67it/s]\n",
      "0it [00:00, ?it/s]"
     ]
    },
    {
     "name": "stdout",
     "output_type": "stream",
     "text": [
      "* [TextCleaner] Cleaning text...\n",
      "* [TextCleaner] Cleaning text...\n",
      "* [TextCleaner] Cleaning text...\n",
      "* [TextCleaner] Cleaning text...\n",
      "* [TextCleaner] Cleaning text...\n",
      "* [TextCleaner] Cleaning text...\n",
      "* [TextCleaner] Cleaning text...\n"
     ]
    },
    {
     "name": "stderr",
     "output_type": "stream",
     "text": [
      "1it [00:00, 40.06it/s]\n",
      "1it [00:00, 38.54it/s]\n",
      "1it [00:00, 37.73it/s]\n",
      "1it [00:00, 31.62it/s]\n",
      "1it [00:00, 32.93it/s]\n",
      "1it [00:00, 30.59it/s]\n",
      "0it [00:00, ?it/s]"
     ]
    },
    {
     "name": "stdout",
     "output_type": "stream",
     "text": [
      "* [TextCleaner] Cleaning text...\n",
      "* [TextCleaner] Cleaning text...\n",
      "* [TextCleaner] Cleaning text...\n",
      "* [TextCleaner] Cleaning text...\n",
      "* [TextCleaner] Cleaning text...\n",
      "* [TextCleaner] Cleaning text...\n"
     ]
    },
    {
     "name": "stderr",
     "output_type": "stream",
     "text": [
      "1it [00:00, 41.28it/s]\n",
      "1it [00:00, 41.50it/s]\n",
      "1it [00:00, 36.43it/s]\n",
      "1it [00:00, 41.11it/s]\n",
      "1it [00:00, 41.09it/s]\n",
      "1it [00:00, 37.87it/s]\n",
      "1it [00:00, 33.97it/s]\n",
      "0it [00:00, ?it/s]"
     ]
    },
    {
     "name": "stdout",
     "output_type": "stream",
     "text": [
      "* [TextCleaner] Cleaning text...\n",
      "* [TextCleaner] Cleaning text...\n",
      "* [TextCleaner] Cleaning text...\n",
      "* [TextCleaner] Cleaning text...\n",
      "* [TextCleaner] Cleaning text...\n",
      "* [TextCleaner] Cleaning text...\n",
      "* [TextCleaner] Cleaning text...\n"
     ]
    },
    {
     "name": "stderr",
     "output_type": "stream",
     "text": [
      "1it [00:00, 48.69it/s]\n",
      "1it [00:00, 31.86it/s]\n",
      "1it [00:00, 35.03it/s]\n",
      "1it [00:00, 30.50it/s]\n",
      "1it [00:00, 48.06it/s]\n",
      "1it [00:00, 51.99it/s]\n",
      "1it [00:00, 32.28it/s]\n",
      "0it [00:00, ?it/s]"
     ]
    },
    {
     "name": "stdout",
     "output_type": "stream",
     "text": [
      "* [TextCleaner] Cleaning text...\n",
      "* [TextCleaner] Cleaning text...\n",
      "* [TextCleaner] Cleaning text...\n",
      "* [TextCleaner] Cleaning text...\n",
      "* [TextCleaner] Cleaning text...\n",
      "* [TextCleaner] Cleaning text...\n",
      "* [TextCleaner] Cleaning text...\n"
     ]
    },
    {
     "name": "stderr",
     "output_type": "stream",
     "text": [
      "1it [00:00, 41.88it/s]\n",
      "1it [00:00, 36.07it/s]\n",
      "1it [00:00, 51.28it/s]\n",
      "1it [00:00, 46.64it/s]\n",
      "1it [00:00, 40.73it/s]\n",
      "1it [00:00, 34.16it/s]\n",
      "1it [00:00, 45.47it/s]\n",
      "1it [00:00, 41.95it/s]"
     ]
    },
    {
     "name": "stdout",
     "output_type": "stream",
     "text": [
      "* [TextCleaner] Cleaning text...\n",
      "* [TextCleaner] Cleaning text...\n",
      "* [TextCleaner] Cleaning text...\n",
      "* [TextCleaner] Cleaning text...\n",
      "* [TextCleaner] Cleaning text...\n",
      "* [TextCleaner] Cleaning text...\n",
      "* [TextCleaner] Cleaning text...\n"
     ]
    },
    {
     "name": "stderr",
     "output_type": "stream",
     "text": [
      "\n",
      "1it [00:00, 32.95it/s]\n",
      "1it [00:00, 35.67it/s]\n",
      "1it [00:00, 39.47it/s]\n",
      "1it [00:00, 30.79it/s]\n",
      "1it [00:00, 27.87it/s]\n",
      "0it [00:00, ?it/s]"
     ]
    },
    {
     "name": "stdout",
     "output_type": "stream",
     "text": [
      "* [TextCleaner] Cleaning text...\n",
      "* [TextCleaner] Cleaning text...\n",
      "* [TextCleaner] Cleaning text...\n",
      "* [TextCleaner] Cleaning text...\n",
      "* [TextCleaner] Cleaning text...\n",
      "* [TextCleaner] Cleaning text...\n"
     ]
    },
    {
     "name": "stderr",
     "output_type": "stream",
     "text": [
      "1it [00:00, 34.10it/s]\n",
      "1it [00:00, 36.65it/s]\n",
      "1it [00:00, 36.23it/s]\n",
      "1it [00:00, 41.34it/s]\n",
      "1it [00:00, 40.46it/s]\n",
      "1it [00:00, 35.99it/s]\n",
      "1it [00:00, 41.31it/s]\n",
      "0it [00:00, ?it/s]"
     ]
    },
    {
     "name": "stdout",
     "output_type": "stream",
     "text": [
      "* [TextCleaner] Cleaning text...\n",
      "* [TextCleaner] Cleaning text...\n",
      "* [TextCleaner] Cleaning text...\n",
      "* [TextCleaner] Cleaning text...\n",
      "* [TextCleaner] Cleaning text...\n",
      "* [TextCleaner] Cleaning text...\n",
      "* [TextCleaner] Cleaning text...\n"
     ]
    },
    {
     "name": "stderr",
     "output_type": "stream",
     "text": [
      "1it [00:00, 38.44it/s]\n",
      "1it [00:00, 34.90it/s]\n",
      "1it [00:00, 50.55it/s]\n",
      "1it [00:00, 37.38it/s]\n",
      "1it [00:00, 38.02it/s]\n",
      "1it [00:00, 29.52it/s]\n",
      "1it [00:00, 40.43it/s]\n",
      "0it [00:00, ?it/s]"
     ]
    },
    {
     "name": "stdout",
     "output_type": "stream",
     "text": [
      "* [TextCleaner] Cleaning text...\n",
      "* [TextCleaner] Cleaning text...\n",
      "* [TextCleaner] Cleaning text...\n",
      "* [TextCleaner] Cleaning text...\n",
      "* [TextCleaner] Cleaning text...\n",
      "* [TextCleaner] Cleaning text...\n",
      "* [TextCleaner] Cleaning text...\n"
     ]
    },
    {
     "name": "stderr",
     "output_type": "stream",
     "text": [
      "1it [00:00, 28.97it/s]\n",
      "1it [00:00, 33.06it/s]\n",
      "1it [00:00, 47.81it/s]\n",
      "1it [00:00, 44.64it/s]\n",
      "1it [00:00, 53.82it/s]\n",
      "1it [00:00, 30.61it/s]\n",
      "1it [00:00, 33.35it/s]\n",
      "0it [00:00, ?it/s]"
     ]
    },
    {
     "name": "stdout",
     "output_type": "stream",
     "text": [
      "* [TextCleaner] Cleaning text...\n",
      "* [TextCleaner] Cleaning text...\n",
      "* [TextCleaner] Cleaning text...\n",
      "* [TextCleaner] Cleaning text...\n",
      "* [TextCleaner] Cleaning text...\n",
      "* [TextCleaner] Cleaning text...\n",
      "* [TextCleaner] Cleaning text...\n"
     ]
    },
    {
     "name": "stderr",
     "output_type": "stream",
     "text": [
      "1it [00:00, 44.31it/s]\n",
      "1it [00:00, 41.14it/s]\n",
      "1it [00:00, 33.75it/s]\n",
      "1it [00:00, 31.68it/s]\n",
      "1it [00:00, 32.26it/s]\n",
      "1it [00:00, 38.05it/s]\n",
      "0it [00:00, ?it/s]"
     ]
    },
    {
     "name": "stdout",
     "output_type": "stream",
     "text": [
      "* [TextCleaner] Cleaning text...\n",
      "* [TextCleaner] Cleaning text...\n",
      "* [TextCleaner] Cleaning text...\n",
      "* [TextCleaner] Cleaning text...\n",
      "* [TextCleaner] Cleaning text...\n",
      "* [TextCleaner] Cleaning text...\n"
     ]
    },
    {
     "name": "stderr",
     "output_type": "stream",
     "text": [
      "1it [00:00, 31.39it/s]\n",
      "1it [00:00, 35.37it/s]\n",
      "1it [00:00, 32.52it/s]\n",
      "1it [00:00, 40.33it/s]\n",
      "1it [00:00, 38.36it/s]\n",
      "1it [00:00, 55.82it/s]\n",
      "1it [00:00, 37.99it/s]\n",
      "0it [00:00, ?it/s]"
     ]
    },
    {
     "name": "stdout",
     "output_type": "stream",
     "text": [
      "* [TextCleaner] Cleaning text...\n",
      "* [TextCleaner] Cleaning text...\n",
      "* [TextCleaner] Cleaning text...\n",
      "* [TextCleaner] Cleaning text...\n",
      "* [TextCleaner] Cleaning text...\n",
      "* [TextCleaner] Cleaning text...\n",
      "* [TextCleaner] Cleaning text...\n"
     ]
    },
    {
     "name": "stderr",
     "output_type": "stream",
     "text": [
      "1it [00:00, 43.27it/s]\n",
      "1it [00:00, 36.91it/s]\n",
      "1it [00:00, 45.36it/s]\n",
      "1it [00:00, 35.10it/s]\n",
      "1it [00:00, 44.52it/s]\n",
      "1it [00:00, 35.82it/s]\n",
      "1it [00:00, 33.64it/s]\n",
      "0it [00:00, ?it/s]"
     ]
    },
    {
     "name": "stdout",
     "output_type": "stream",
     "text": [
      "* [TextCleaner] Cleaning text...\n",
      "* [TextCleaner] Cleaning text...\n",
      "* [TextCleaner] Cleaning text...\n",
      "* [TextCleaner] Cleaning text...\n",
      "* [TextCleaner] Cleaning text...\n",
      "* [TextCleaner] Cleaning text...\n",
      "* [TextCleaner] Cleaning text...\n"
     ]
    },
    {
     "name": "stderr",
     "output_type": "stream",
     "text": [
      "1it [00:00, 35.67it/s]\n",
      "1it [00:00, 34.06it/s]\n",
      "1it [00:00, 39.06it/s]\n",
      "1it [00:00, 82.32it/s]\n",
      "1it [00:00, 48.83it/s]\n",
      "1it [00:00, 30.08it/s]\n",
      "1it [00:00, 32.64it/s]\n",
      "0it [00:00, ?it/s]"
     ]
    },
    {
     "name": "stdout",
     "output_type": "stream",
     "text": [
      "* [TextCleaner] Cleaning text...\n",
      "* [TextCleaner] Cleaning text...\n",
      "* [TextCleaner] Cleaning text...\n",
      "* [TextCleaner] Cleaning text...\n",
      "* [TextCleaner] Cleaning text...\n",
      "* [TextCleaner] Cleaning text...\n",
      "* [TextCleaner] Cleaning text...\n"
     ]
    },
    {
     "name": "stderr",
     "output_type": "stream",
     "text": [
      "1it [00:00, 36.95it/s]\n",
      "1it [00:00, 31.62it/s]\n",
      "1it [00:00, 38.07it/s]\n",
      "1it [00:00, 44.88it/s]\n",
      "1it [00:00, 28.20it/s]\n",
      "1it [00:00, 42.81it/s]\n",
      "1it [00:00, 38.00it/s]\n",
      "0it [00:00, ?it/s]"
     ]
    },
    {
     "name": "stdout",
     "output_type": "stream",
     "text": [
      "* [TextCleaner] Cleaning text...\n",
      "* [TextCleaner] Cleaning text...\n",
      "* [TextCleaner] Cleaning text...\n",
      "* [TextCleaner] Cleaning text...\n",
      "* [TextCleaner] Cleaning text...\n",
      "* [TextCleaner] Cleaning text...\n",
      "* [TextCleaner] Cleaning text...\n"
     ]
    },
    {
     "name": "stderr",
     "output_type": "stream",
     "text": [
      "1it [00:00, 36.17it/s]\n",
      "1it [00:00, 38.71it/s]\n",
      "1it [00:00, 39.45it/s]\n",
      "1it [00:00, 36.10it/s]\n",
      "1it [00:00, 38.19it/s]\n",
      "1it [00:00, 37.35it/s]\n",
      "1it [00:00, 37.69it/s]\n",
      "0it [00:00, ?it/s]"
     ]
    },
    {
     "name": "stdout",
     "output_type": "stream",
     "text": [
      "* [TextCleaner] Cleaning text...\n",
      "* [TextCleaner] Cleaning text...\n",
      "* [TextCleaner] Cleaning text...\n",
      "* [TextCleaner] Cleaning text...\n",
      "* [TextCleaner] Cleaning text...\n",
      "* [TextCleaner] Cleaning text...\n",
      "* [TextCleaner] Cleaning text...\n"
     ]
    },
    {
     "name": "stderr",
     "output_type": "stream",
     "text": [
      "1it [00:00, 36.41it/s]\n",
      "1it [00:00, 40.75it/s]\n",
      "1it [00:00, 34.38it/s]\n",
      "1it [00:00, 39.65it/s]\n",
      "1it [00:00, 49.18it/s]\n",
      "1it [00:00, 32.20it/s]\n",
      "1it [00:00, 29.00it/s]\n",
      "0it [00:00, ?it/s]"
     ]
    },
    {
     "name": "stdout",
     "output_type": "stream",
     "text": [
      "* [TextCleaner] Cleaning text...\n",
      "* [TextCleaner] Cleaning text...\n",
      "* [TextCleaner] Cleaning text...\n",
      "* [TextCleaner] Cleaning text...\n",
      "* [TextCleaner] Cleaning text...\n",
      "* [TextCleaner] Cleaning text...\n",
      "* [TextCleaner] Cleaning text...\n"
     ]
    },
    {
     "name": "stderr",
     "output_type": "stream",
     "text": [
      "1it [00:00, 31.00it/s]\n",
      "1it [00:00, 58.94it/s]\n",
      "1it [00:00, 42.79it/s]\n",
      "1it [00:00, 35.45it/s]\n",
      "1it [00:00, 29.15it/s]\n",
      "1it [00:00, 31.09it/s]\n",
      "1it [00:00, 42.50it/s]\n",
      "0it [00:00, ?it/s]"
     ]
    },
    {
     "name": "stdout",
     "output_type": "stream",
     "text": [
      "* [TextCleaner] Cleaning text...\n",
      "* [TextCleaner] Cleaning text...\n",
      "* [TextCleaner] Cleaning text...\n",
      "* [TextCleaner] Cleaning text...\n",
      "* [TextCleaner] Cleaning text...\n",
      "* [TextCleaner] Cleaning text...\n",
      "* [TextCleaner] Cleaning text...\n"
     ]
    },
    {
     "name": "stderr",
     "output_type": "stream",
     "text": [
      "1it [00:00, 105.08it/s]\n",
      "1it [00:00, 50.74it/s]\n",
      "1it [00:00, 44.46it/s]\n",
      "1it [00:00, 37.62it/s]\n",
      "1it [00:00, 34.87it/s]\n",
      "1it [00:00, 29.02it/s]\n",
      "1it [00:00, 28.14it/s]\n",
      "0it [00:00, ?it/s]"
     ]
    },
    {
     "name": "stdout",
     "output_type": "stream",
     "text": [
      "* [TextCleaner] Cleaning text...\n",
      "* [TextCleaner] Cleaning text...\n",
      "* [TextCleaner] Cleaning text...\n",
      "* [TextCleaner] Cleaning text...\n",
      "* [TextCleaner] Cleaning text...\n",
      "* [TextCleaner] Cleaning text...\n",
      "* [TextCleaner] Cleaning text...\n"
     ]
    },
    {
     "name": "stderr",
     "output_type": "stream",
     "text": [
      "1it [00:00, 33.89it/s]\n",
      "1it [00:00, 46.80it/s]\n",
      "1it [00:00, 53.50it/s]\n",
      "1it [00:00, 33.17it/s]\n",
      "1it [00:00, 33.76it/s]\n",
      "1it [00:00, 35.10it/s]\n",
      "1it [00:00, 37.54it/s]\n",
      "0it [00:00, ?it/s]"
     ]
    },
    {
     "name": "stdout",
     "output_type": "stream",
     "text": [
      "* [TextCleaner] Cleaning text...\n",
      "* [TextCleaner] Cleaning text...\n",
      "* [TextCleaner] Cleaning text...\n",
      "* [TextCleaner] Cleaning text...\n",
      "* [TextCleaner] Cleaning text...\n",
      "* [TextCleaner] Cleaning text...\n",
      "* [TextCleaner] Cleaning text...\n"
     ]
    },
    {
     "name": "stderr",
     "output_type": "stream",
     "text": [
      "1it [00:00, 40.20it/s]\n",
      "1it [00:00, 35.13it/s]\n",
      "1it [00:00, 38.04it/s]\n",
      "1it [00:00, 34.95it/s]\n",
      "1it [00:00, 38.22it/s]\n",
      "1it [00:00, 41.83it/s]\n",
      "1it [00:00, 34.16it/s]\n",
      "0it [00:00, ?it/s]"
     ]
    },
    {
     "name": "stdout",
     "output_type": "stream",
     "text": [
      "* [TextCleaner] Cleaning text...\n",
      "* [TextCleaner] Cleaning text...\n",
      "* [TextCleaner] Cleaning text...\n",
      "* [TextCleaner] Cleaning text...\n",
      "* [TextCleaner] Cleaning text...\n",
      "* [TextCleaner] Cleaning text...\n",
      "* [TextCleaner] Cleaning text...\n"
     ]
    },
    {
     "name": "stderr",
     "output_type": "stream",
     "text": [
      "1it [00:00, 36.67it/s]\n",
      "1it [00:00, 32.61it/s]\n",
      "1it [00:00, 38.25it/s]\n",
      "1it [00:00, 68.66it/s]\n",
      "1it [00:00, 75.25it/s]\n",
      "1it [00:00, 44.30it/s]\n",
      "1it [00:00, 29.72it/s]\n",
      "0it [00:00, ?it/s]"
     ]
    },
    {
     "name": "stdout",
     "output_type": "stream",
     "text": [
      "* [TextCleaner] Cleaning text...\n",
      "* [TextCleaner] Cleaning text...\n",
      "* [TextCleaner] Cleaning text...\n",
      "* [TextCleaner] Cleaning text...\n",
      "* [TextCleaner] Cleaning text...\n",
      "* [TextCleaner] Cleaning text...\n",
      "* [TextCleaner] Cleaning text...\n"
     ]
    },
    {
     "name": "stderr",
     "output_type": "stream",
     "text": [
      "1it [00:00, 32.72it/s]\n",
      "1it [00:00, 42.67it/s]\n",
      "1it [00:00, 45.56it/s]\n",
      "1it [00:00, 40.40it/s]\n",
      "1it [00:00, 31.29it/s]\n",
      "1it [00:00, 31.24it/s]\n",
      "1it [00:00, 102.60it/s]\n",
      "1it [00:00, 44.63it/s]"
     ]
    },
    {
     "name": "stdout",
     "output_type": "stream",
     "text": [
      "* [TextCleaner] Cleaning text...\n",
      "* [TextCleaner] Cleaning text...\n",
      "* [TextCleaner] Cleaning text...\n",
      "* [TextCleaner] Cleaning text...\n",
      "* [TextCleaner] Cleaning text...\n",
      "* [TextCleaner] Cleaning text...\n",
      "* [TextCleaner] Cleaning text...\n"
     ]
    },
    {
     "name": "stderr",
     "output_type": "stream",
     "text": [
      "\n",
      "1it [00:00, 35.61it/s]\n",
      "1it [00:00, 36.11it/s]\n",
      "1it [00:00, 36.77it/s]\n",
      "1it [00:00, 34.49it/s]\n",
      "1it [00:00, 40.71it/s]\n",
      "1it [00:00, 43.76it/s]\n",
      "1it [00:00, 39.95it/s]\n",
      "0it [00:00, ?it/s]"
     ]
    },
    {
     "name": "stdout",
     "output_type": "stream",
     "text": [
      "* [TextCleaner] Cleaning text...\n",
      "* [TextCleaner] Cleaning text...\n",
      "* [TextCleaner] Cleaning text...\n",
      "* [TextCleaner] Cleaning text...\n",
      "* [TextCleaner] Cleaning text...\n",
      "* [TextCleaner] Cleaning text...\n",
      "* [TextCleaner] Cleaning text...\n",
      "* [TextCleaner] Cleaning text...\n"
     ]
    },
    {
     "name": "stderr",
     "output_type": "stream",
     "text": [
      "1it [00:00, 33.11it/s]\n",
      "1it [00:00, 45.46it/s]\n",
      "1it [00:00, 52.66it/s]\n",
      "1it [00:00, 54.10it/s]\n",
      "1it [00:00, 37.52it/s]\n",
      "1it [00:00, 36.97it/s]\n",
      "1it [00:00, 41.54it/s]\n",
      "1it [00:00, 34.02it/s]\n"
     ]
    },
    {
     "name": "stdout",
     "output_type": "stream",
     "text": [
      "* [TextCleaner] Cleaning text...\n",
      "* [TextCleaner] Cleaning text...\n",
      "* [TextCleaner] Cleaning text...\n",
      "* [TextCleaner] Cleaning text...\n",
      "* [TextCleaner] Cleaning text...\n",
      "* [TextCleaner] Cleaning text...\n",
      "* [TextCleaner] Cleaning text...\n",
      "* [TextCleaner] Cleaning text...\n"
     ]
    },
    {
     "name": "stderr",
     "output_type": "stream",
     "text": [
      "1it [00:00, 48.02it/s]\n",
      "1it [00:00, 41.64it/s]\n",
      "1it [00:00, 33.57it/s]\n",
      "1it [00:00, 42.51it/s]\n",
      "1it [00:00, 33.87it/s]\n",
      "1it [00:00, 34.35it/s]\n",
      "1it [00:00, 34.40it/s]\n"
     ]
    },
    {
     "name": "stdout",
     "output_type": "stream",
     "text": [
      "* [TextCleaner] Cleaning text...\n",
      "* [TextCleaner] Cleaning text...\n",
      "* [TextCleaner] Cleaning text...\n",
      "* [TextCleaner] Cleaning text...\n",
      "* [TextCleaner] Cleaning text...\n",
      "* [TextCleaner] Cleaning text...\n",
      "* [TextCleaner] Cleaning text...\n"
     ]
    },
    {
     "name": "stderr",
     "output_type": "stream",
     "text": [
      "1it [00:00, 35.38it/s]\n",
      "1it [00:00, 42.49it/s]\n",
      "1it [00:00, 35.28it/s]\n",
      "1it [00:00, 38.26it/s]\n",
      "1it [00:00, 31.13it/s]\n",
      "1it [00:00, 39.89it/s]\n",
      "1it [00:00, 31.66it/s]\n",
      "0it [00:00, ?it/s]"
     ]
    },
    {
     "name": "stdout",
     "output_type": "stream",
     "text": [
      "* [TextCleaner] Cleaning text...\n",
      "* [TextCleaner] Cleaning text...\n",
      "* [TextCleaner] Cleaning text...\n",
      "* [TextCleaner] Cleaning text...\n",
      "* [TextCleaner] Cleaning text...\n",
      "* [TextCleaner] Cleaning text...\n",
      "* [TextCleaner] Cleaning text...\n"
     ]
    },
    {
     "name": "stderr",
     "output_type": "stream",
     "text": [
      "1it [00:00, 34.53it/s]\n",
      "1it [00:00, 55.85it/s]\n",
      "1it [00:00, 41.61it/s]\n",
      "1it [00:00, 32.30it/s]\n",
      "1it [00:00, 33.31it/s]\n",
      "1it [00:00, 35.08it/s]\n",
      "1it [00:00, 33.50it/s]\n",
      "0it [00:00, ?it/s]"
     ]
    },
    {
     "name": "stdout",
     "output_type": "stream",
     "text": [
      "* [TextCleaner] Cleaning text...\n",
      "* [TextCleaner] Cleaning text...\n",
      "* [TextCleaner] Cleaning text...\n",
      "* [TextCleaner] Cleaning text...\n",
      "* [TextCleaner] Cleaning text...\n",
      "* [TextCleaner] Cleaning text...\n",
      "* [TextCleaner] Cleaning text...\n"
     ]
    },
    {
     "name": "stderr",
     "output_type": "stream",
     "text": [
      "1it [00:00, 45.39it/s]\n",
      "1it [00:00, 36.90it/s]\n",
      "1it [00:00, 38.21it/s]\n",
      "1it [00:00, 38.94it/s]\n",
      "1it [00:00, 36.98it/s]\n",
      "1it [00:00, 35.81it/s]\n",
      "1it [00:00, 32.14it/s]"
     ]
    },
    {
     "name": "stdout",
     "output_type": "stream",
     "text": [
      "* [TextCleaner] Cleaning text...\n",
      "* [TextCleaner] Cleaning text...\n",
      "* [TextCleaner] Cleaning text...\n",
      "* [TextCleaner] Cleaning text...\n",
      "* [TextCleaner] Cleaning text...\n",
      "* [TextCleaner] Cleaning text...\n"
     ]
    },
    {
     "name": "stderr",
     "output_type": "stream",
     "text": [
      "\n",
      "1it [00:00, 35.51it/s]\n",
      "1it [00:00, 35.97it/s]\n",
      "1it [00:00, 46.36it/s]\n",
      "1it [00:00, 30.44it/s]\n",
      "1it [00:00, 37.96it/s]\n",
      "1it [00:00, 42.53it/s]\n",
      "1it [00:00, 37.82it/s]\n",
      "0it [00:00, ?it/s]"
     ]
    },
    {
     "name": "stdout",
     "output_type": "stream",
     "text": [
      "* [TextCleaner] Cleaning text...\n",
      "* [TextCleaner] Cleaning text...\n",
      "* [TextCleaner] Cleaning text...\n",
      "* [TextCleaner] Cleaning text...\n",
      "* [TextCleaner] Cleaning text...\n",
      "* [TextCleaner] Cleaning text...\n",
      "* [TextCleaner] Cleaning text...\n",
      "* [TextCleaner] Cleaning text...\n"
     ]
    },
    {
     "name": "stderr",
     "output_type": "stream",
     "text": [
      "1it [00:00, 36.96it/s]\n",
      "1it [00:00, 48.56it/s]\n",
      "1it [00:00, 41.12it/s]\n",
      "1it [00:00, 33.90it/s]\n",
      "1it [00:00, 33.03it/s]\n",
      "1it [00:00, 44.24it/s]\n",
      "1it [00:00, 34.63it/s]\n",
      "0it [00:00, ?it/s]"
     ]
    },
    {
     "name": "stdout",
     "output_type": "stream",
     "text": [
      "* [TextCleaner] Cleaning text...\n",
      "* [TextCleaner] Cleaning text...\n",
      "* [TextCleaner] Cleaning text...\n",
      "* [TextCleaner] Cleaning text...\n",
      "* [TextCleaner] Cleaning text...\n",
      "* [TextCleaner] Cleaning text...\n",
      "* [TextCleaner] Cleaning text...\n"
     ]
    },
    {
     "name": "stderr",
     "output_type": "stream",
     "text": [
      "1it [00:00, 42.29it/s]\n",
      "1it [00:00, 38.44it/s]\n",
      "1it [00:00, 51.09it/s]\n",
      "1it [00:00, 49.31it/s]\n",
      "1it [00:00, 36.85it/s]\n",
      "1it [00:00, 34.03it/s]\n",
      "1it [00:00, 33.11it/s]\n",
      "0it [00:00, ?it/s]"
     ]
    },
    {
     "name": "stdout",
     "output_type": "stream",
     "text": [
      "* [TextCleaner] Cleaning text...\n",
      "* [TextCleaner] Cleaning text...\n",
      "* [TextCleaner] Cleaning text...\n",
      "* [TextCleaner] Cleaning text...\n",
      "* [TextCleaner] Cleaning text...\n",
      "* [TextCleaner] Cleaning text...\n",
      "* [TextCleaner] Cleaning text...\n"
     ]
    },
    {
     "name": "stderr",
     "output_type": "stream",
     "text": [
      "1it [00:00, 35.66it/s]\n",
      "1it [00:00, 37.18it/s]\n",
      "1it [00:00, 40.07it/s]\n",
      "1it [00:00, 36.95it/s]\n",
      "1it [00:00, 44.55it/s]\n",
      "1it [00:00, 41.14it/s]\n",
      "1it [00:00, 35.38it/s]\n",
      "0it [00:00, ?it/s]"
     ]
    },
    {
     "name": "stdout",
     "output_type": "stream",
     "text": [
      "* [TextCleaner] Cleaning text...\n",
      "* [TextCleaner] Cleaning text...\n",
      "* [TextCleaner] Cleaning text...\n",
      "* [TextCleaner] Cleaning text...\n",
      "* [TextCleaner] Cleaning text...\n",
      "* [TextCleaner] Cleaning text...\n",
      "* [TextCleaner] Cleaning text...\n"
     ]
    },
    {
     "name": "stderr",
     "output_type": "stream",
     "text": [
      "1it [00:00, 34.28it/s]\n",
      "1it [00:00, 28.33it/s]\n",
      "1it [00:00, 34.29it/s]\n",
      "1it [00:00, 33.42it/s]\n",
      "1it [00:00, 39.60it/s]\n",
      "1it [00:00, 47.70it/s]\n",
      "1it [00:00, 32.76it/s]"
     ]
    },
    {
     "name": "stdout",
     "output_type": "stream",
     "text": [
      "* [TextCleaner] Cleaning text...\n",
      "* [TextCleaner] Cleaning text...\n",
      "* [TextCleaner] Cleaning text...\n",
      "* [TextCleaner] Cleaning text...\n",
      "* [TextCleaner] Cleaning text...\n",
      "* [TextCleaner] Cleaning text...\n"
     ]
    },
    {
     "name": "stderr",
     "output_type": "stream",
     "text": [
      "\n",
      "1it [00:00, 53.40it/s]\n",
      "1it [00:00, 36.92it/s]\n",
      "1it [00:00, 33.93it/s]\n",
      "1it [00:00, 33.61it/s]\n",
      "1it [00:00, 35.55it/s]\n",
      "1it [00:00, 37.43it/s]\n",
      "0it [00:00, ?it/s]"
     ]
    },
    {
     "name": "stdout",
     "output_type": "stream",
     "text": [
      "* [TextCleaner] Cleaning text...\n",
      "* [TextCleaner] Cleaning text...\n",
      "* [TextCleaner] Cleaning text...\n",
      "* [TextCleaner] Cleaning text...\n",
      "* [TextCleaner] Cleaning text...\n",
      "* [TextCleaner] Cleaning text...\n",
      "* [TextCleaner] Cleaning text...\n"
     ]
    },
    {
     "name": "stderr",
     "output_type": "stream",
     "text": [
      "1it [00:00, 46.09it/s]\n",
      "1it [00:00, 32.16it/s]\n",
      "1it [00:00, 39.41it/s]\n",
      "1it [00:00, 37.11it/s]\n",
      "1it [00:00, 32.37it/s]\n",
      "1it [00:00, 28.86it/s]\n",
      "1it [00:00, 51.66it/s]\n",
      "0it [00:00, ?it/s]"
     ]
    },
    {
     "name": "stdout",
     "output_type": "stream",
     "text": [
      "* [TextCleaner] Cleaning text...\n",
      "* [TextCleaner] Cleaning text...\n",
      "* [TextCleaner] Cleaning text...\n",
      "* [TextCleaner] Cleaning text...\n",
      "* [TextCleaner] Cleaning text...\n",
      "* [TextCleaner] Cleaning text...\n",
      "* [TextCleaner] Cleaning text...\n"
     ]
    },
    {
     "name": "stderr",
     "output_type": "stream",
     "text": [
      "1it [00:00, 36.06it/s]\n",
      "1it [00:00, 48.82it/s]\n",
      "1it [00:00, 40.56it/s]\n",
      "1it [00:00, 46.05it/s]\n",
      "1it [00:00, 39.11it/s]\n",
      "1it [00:00, 30.59it/s]\n",
      "1it [00:00, 38.37it/s]\n",
      "0it [00:00, ?it/s]"
     ]
    },
    {
     "name": "stdout",
     "output_type": "stream",
     "text": [
      "* [TextCleaner] Cleaning text...\n",
      "* [TextCleaner] Cleaning text...\n",
      "* [TextCleaner] Cleaning text...\n",
      "* [TextCleaner] Cleaning text...\n",
      "* [TextCleaner] Cleaning text...\n",
      "* [TextCleaner] Cleaning text...\n",
      "* [TextCleaner] Cleaning text...\n"
     ]
    },
    {
     "name": "stderr",
     "output_type": "stream",
     "text": [
      "1it [00:00, 35.21it/s]\n",
      "1it [00:00, 41.21it/s]\n",
      "1it [00:00, 43.02it/s]\n",
      "1it [00:00, 41.87it/s]\n",
      "1it [00:00, 37.96it/s]\n",
      "1it [00:00, 37.96it/s]\n",
      "1it [00:00, 38.07it/s]\n",
      "0it [00:00, ?it/s]"
     ]
    },
    {
     "name": "stdout",
     "output_type": "stream",
     "text": [
      "* [TextCleaner] Cleaning text...\n",
      "* [TextCleaner] Cleaning text...\n",
      "* [TextCleaner] Cleaning text...\n",
      "* [TextCleaner] Cleaning text...\n",
      "* [TextCleaner] Cleaning text...\n",
      "* [TextCleaner] Cleaning text...\n",
      "* [TextCleaner] Cleaning text...\n"
     ]
    },
    {
     "name": "stderr",
     "output_type": "stream",
     "text": [
      "1it [00:00, 30.97it/s]\n",
      "1it [00:00, 34.62it/s]\n",
      "1it [00:00, 31.10it/s]\n",
      "1it [00:00, 37.46it/s]\n",
      "1it [00:00, 32.30it/s]\n",
      "1it [00:00, 41.22it/s]\n",
      "1it [00:00, 40.80it/s]\n",
      "0it [00:00, ?it/s]"
     ]
    },
    {
     "name": "stdout",
     "output_type": "stream",
     "text": [
      "* [TextCleaner] Cleaning text...\n",
      "* [TextCleaner] Cleaning text...\n",
      "* [TextCleaner] Cleaning text...\n",
      "* [TextCleaner] Cleaning text...\n",
      "* [TextCleaner] Cleaning text...\n",
      "* [TextCleaner] Cleaning text...\n",
      "* [TextCleaner] Cleaning text...\n"
     ]
    },
    {
     "name": "stderr",
     "output_type": "stream",
     "text": [
      "1it [00:00, 38.26it/s]\n",
      "1it [00:00, 52.02it/s]\n",
      "1it [00:00, 38.06it/s]\n",
      "1it [00:00, 37.79it/s]\n",
      "1it [00:00, 34.56it/s]\n",
      "1it [00:00, 38.51it/s]\n",
      "1it [00:00, 36.21it/s]\n",
      "0it [00:00, ?it/s]"
     ]
    },
    {
     "name": "stdout",
     "output_type": "stream",
     "text": [
      "* [TextCleaner] Cleaning text...\n",
      "* [TextCleaner] Cleaning text...\n",
      "* [TextCleaner] Cleaning text...\n",
      "* [TextCleaner] Cleaning text...\n",
      "* [TextCleaner] Cleaning text...\n",
      "* [TextCleaner] Cleaning text...\n",
      "* [TextCleaner] Cleaning text...\n"
     ]
    },
    {
     "name": "stderr",
     "output_type": "stream",
     "text": [
      "1it [00:00, 35.37it/s]\n",
      "1it [00:00, 26.67it/s]\n",
      "1it [00:00, 35.98it/s]\n",
      "1it [00:00, 47.39it/s]\n",
      "1it [00:00, 50.45it/s]\n",
      "1it [00:00, 38.58it/s]\n",
      "1it [00:00, 38.26it/s]\n",
      "0it [00:00, ?it/s]"
     ]
    },
    {
     "name": "stdout",
     "output_type": "stream",
     "text": [
      "* [TextCleaner] Cleaning text...\n",
      "* [TextCleaner] Cleaning text...\n",
      "* [TextCleaner] Cleaning text...\n",
      "* [TextCleaner] Cleaning text...\n",
      "* [TextCleaner] Cleaning text...\n",
      "* [TextCleaner] Cleaning text...\n",
      "* [TextCleaner] Cleaning text...\n"
     ]
    },
    {
     "name": "stderr",
     "output_type": "stream",
     "text": [
      "1it [00:00, 41.34it/s]\n",
      "1it [00:00, 32.39it/s]\n",
      "1it [00:00, 42.36it/s]\n",
      "1it [00:00, 42.64it/s]\n",
      "1it [00:00, 39.07it/s]\n",
      "1it [00:00, 38.76it/s]\n",
      "1it [00:00, 33.88it/s]\n",
      "0it [00:00, ?it/s]"
     ]
    },
    {
     "name": "stdout",
     "output_type": "stream",
     "text": [
      "* [TextCleaner] Cleaning text...\n",
      "* [TextCleaner] Cleaning text...\n",
      "* [TextCleaner] Cleaning text...\n",
      "* [TextCleaner] Cleaning text...\n",
      "* [TextCleaner] Cleaning text...\n",
      "* [TextCleaner] Cleaning text...\n",
      "* [TextCleaner] Cleaning text...\n"
     ]
    },
    {
     "name": "stderr",
     "output_type": "stream",
     "text": [
      "1it [00:00, 49.48it/s]\n",
      "1it [00:00, 31.51it/s]\n",
      "1it [00:00, 109.18it/s]\n",
      "1it [00:00, 36.54it/s]\n",
      "1it [00:00, 33.85it/s]\n",
      "1it [00:00, 34.20it/s]\n",
      "1it [00:00, 40.81it/s]\n",
      "0it [00:00, ?it/s]"
     ]
    },
    {
     "name": "stdout",
     "output_type": "stream",
     "text": [
      "* [TextCleaner] Cleaning text...\n",
      "* [TextCleaner] Cleaning text...\n",
      "* [TextCleaner] Cleaning text...\n",
      "* [TextCleaner] Cleaning text...\n",
      "* [TextCleaner] Cleaning text...\n",
      "* [TextCleaner] Cleaning text...\n",
      "* [TextCleaner] Cleaning text...\n"
     ]
    },
    {
     "name": "stderr",
     "output_type": "stream",
     "text": [
      "1it [00:00, 37.49it/s]\n",
      "1it [00:00, 40.06it/s]\n",
      "1it [00:00, 44.29it/s]\n",
      "1it [00:00, 37.77it/s]\n",
      "1it [00:00, 36.65it/s]\n",
      "1it [00:00, 28.33it/s]\n",
      "1it [00:00, 40.52it/s]\n",
      "0it [00:00, ?it/s]"
     ]
    },
    {
     "name": "stdout",
     "output_type": "stream",
     "text": [
      "* [TextCleaner] Cleaning text...\n",
      "* [TextCleaner] Cleaning text...\n",
      "* [TextCleaner] Cleaning text...\n",
      "* [TextCleaner] Cleaning text...\n",
      "* [TextCleaner] Cleaning text...\n",
      "* [TextCleaner] Cleaning text...\n",
      "* [TextCleaner] Cleaning text...\n"
     ]
    },
    {
     "name": "stderr",
     "output_type": "stream",
     "text": [
      "1it [00:00, 31.95it/s]\n",
      "1it [00:00, 40.55it/s]\n",
      "1it [00:00, 25.00it/s]\n",
      "1it [00:00, 27.50it/s]\n",
      "1it [00:00, 33.62it/s]\n",
      "1it [00:00, 34.58it/s]\n",
      "0it [00:00, ?it/s]"
     ]
    },
    {
     "name": "stdout",
     "output_type": "stream",
     "text": [
      "* [TextCleaner] Cleaning text...\n",
      "* [TextCleaner] Cleaning text...\n",
      "* [TextCleaner] Cleaning text...\n",
      "* [TextCleaner] Cleaning text...\n",
      "* [TextCleaner] Cleaning text...\n",
      "* [TextCleaner] Cleaning text...\n"
     ]
    },
    {
     "name": "stderr",
     "output_type": "stream",
     "text": [
      "1it [00:00, 34.95it/s]\n",
      "1it [00:00, 36.04it/s]\n",
      "1it [00:00, 35.41it/s]\n",
      "1it [00:00, 45.35it/s]\n",
      "1it [00:00, 34.46it/s]\n",
      "1it [00:00, 55.72it/s]\n",
      "1it [00:00, 50.59it/s]\n",
      "0it [00:00, ?it/s]"
     ]
    },
    {
     "name": "stdout",
     "output_type": "stream",
     "text": [
      "* [TextCleaner] Cleaning text...\n",
      "* [TextCleaner] Cleaning text...\n",
      "* [TextCleaner] Cleaning text...\n",
      "* [TextCleaner] Cleaning text...\n",
      "* [TextCleaner] Cleaning text...\n",
      "* [TextCleaner] Cleaning text...\n",
      "* [TextCleaner] Cleaning text...\n"
     ]
    },
    {
     "name": "stderr",
     "output_type": "stream",
     "text": [
      "1it [00:00, 34.93it/s]\n",
      "1it [00:00, 38.93it/s]\n",
      "1it [00:00, 36.20it/s]\n",
      "1it [00:00, 40.22it/s]\n",
      "1it [00:00, 46.95it/s]\n",
      "1it [00:00, 50.28it/s]\n",
      "1it [00:00, 34.45it/s]\n",
      "1it [00:00, 63.47it/s]\n",
      "0it [00:00, ?it/s]"
     ]
    },
    {
     "name": "stdout",
     "output_type": "stream",
     "text": [
      "* [TextCleaner] Cleaning text...\n",
      "* [TextCleaner] Cleaning text...\n",
      "* [TextCleaner] Cleaning text...\n",
      "* [TextCleaner] Cleaning text...\n",
      "* [TextCleaner] Cleaning text...\n",
      "* [TextCleaner] Cleaning text...\n",
      "* [TextCleaner] Cleaning text...\n",
      "* [TextCleaner] Cleaning text...\n"
     ]
    },
    {
     "name": "stderr",
     "output_type": "stream",
     "text": [
      "1it [00:00, 38.93it/s]\n",
      "1it [00:00, 42.79it/s]\n",
      "1it [00:00, 41.55it/s]\n",
      "1it [00:00, 40.37it/s]\n",
      "1it [00:00, 48.74it/s]\n",
      "1it [00:00, 45.33it/s]\n",
      "1it [00:00, 38.51it/s]\n",
      "1it [00:00, 38.24it/s]"
     ]
    },
    {
     "name": "stdout",
     "output_type": "stream",
     "text": [
      "* [TextCleaner] Cleaning text...\n",
      "* [TextCleaner] Cleaning text...\n",
      "* [TextCleaner] Cleaning text...\n",
      "* [TextCleaner] Cleaning text...\n",
      "* [TextCleaner] Cleaning text...\n",
      "* [TextCleaner] Cleaning text...\n",
      "* [TextCleaner] Cleaning text...\n"
     ]
    },
    {
     "name": "stderr",
     "output_type": "stream",
     "text": [
      "\n",
      "1it [00:00, 37.13it/s]\n",
      "1it [00:00, 33.45it/s]\n",
      "1it [00:00, 38.79it/s]\n",
      "1it [00:00, 49.16it/s]\n",
      "1it [00:00, 44.99it/s]\n",
      "1it [00:00, 54.33it/s]\n",
      "1it [00:00, 29.04it/s]\n",
      "0it [00:00, ?it/s]"
     ]
    },
    {
     "name": "stdout",
     "output_type": "stream",
     "text": [
      "* [TextCleaner] Cleaning text...\n",
      "* [TextCleaner] Cleaning text...\n",
      "* [TextCleaner] Cleaning text...\n",
      "* [TextCleaner] Cleaning text...\n",
      "* [TextCleaner] Cleaning text...\n",
      "* [TextCleaner] Cleaning text...\n",
      "* [TextCleaner] Cleaning text...\n",
      "* [TextCleaner] Cleaning text...\n"
     ]
    },
    {
     "name": "stderr",
     "output_type": "stream",
     "text": [
      "1it [00:00, 34.48it/s]\n",
      "1it [00:00, 39.82it/s]\n",
      "1it [00:00, 62.94it/s]\n",
      "1it [00:00, 29.08it/s]\n",
      "1it [00:00, 29.13it/s]\n",
      "1it [00:00, 45.22it/s]\n",
      "1it [00:00, 38.02it/s]\n",
      "0it [00:00, ?it/s]"
     ]
    },
    {
     "name": "stdout",
     "output_type": "stream",
     "text": [
      "* [TextCleaner] Cleaning text...\n",
      "* [TextCleaner] Cleaning text...\n",
      "* [TextCleaner] Cleaning text...\n",
      "* [TextCleaner] Cleaning text...\n",
      "* [TextCleaner] Cleaning text...\n",
      "* [TextCleaner] Cleaning text...\n",
      "* [TextCleaner] Cleaning text...\n"
     ]
    },
    {
     "name": "stderr",
     "output_type": "stream",
     "text": [
      "1it [00:00, 27.01it/s]\n",
      "1it [00:00, 47.70it/s]\n",
      "1it [00:00, 40.90it/s]\n",
      "1it [00:00, 36.16it/s]\n",
      "1it [00:00, 38.50it/s]\n",
      "1it [00:00, 41.49it/s]\n",
      "1it [00:00, 35.38it/s]\n",
      "0it [00:00, ?it/s]"
     ]
    },
    {
     "name": "stdout",
     "output_type": "stream",
     "text": [
      "* [TextCleaner] Cleaning text...\n",
      "* [TextCleaner] Cleaning text...\n",
      "* [TextCleaner] Cleaning text...\n",
      "* [TextCleaner] Cleaning text...\n",
      "* [TextCleaner] Cleaning text...\n",
      "* [TextCleaner] Cleaning text...\n",
      "* [TextCleaner] Cleaning text...\n"
     ]
    },
    {
     "name": "stderr",
     "output_type": "stream",
     "text": [
      "1it [00:00, 30.62it/s]\n",
      "1it [00:00, 39.01it/s]\n",
      "1it [00:00, 39.31it/s]\n",
      "1it [00:00, 37.86it/s]\n",
      "1it [00:00, 33.72it/s]\n",
      "1it [00:00, 38.06it/s]\n",
      "1it [00:00, 29.82it/s]\n"
     ]
    },
    {
     "name": "stdout",
     "output_type": "stream",
     "text": [
      "* [TextCleaner] Cleaning text...\n",
      "* [TextCleaner] Cleaning text...\n",
      "* [TextCleaner] Cleaning text...\n",
      "* [TextCleaner] Cleaning text...\n",
      "* [TextCleaner] Cleaning text...\n",
      "* [TextCleaner] Cleaning text...\n"
     ]
    },
    {
     "name": "stderr",
     "output_type": "stream",
     "text": [
      "1it [00:00, 35.03it/s]\n",
      "1it [00:00, 38.52it/s]\n",
      "1it [00:00, 39.96it/s]\n",
      "1it [00:00, 42.57it/s]\n",
      "1it [00:00, 42.15it/s]\n",
      "1it [00:00, 42.74it/s]\n",
      "0it [00:00, ?it/s]"
     ]
    },
    {
     "name": "stdout",
     "output_type": "stream",
     "text": [
      "* [TextCleaner] Cleaning text...\n",
      "* [TextCleaner] Cleaning text...\n",
      "* [TextCleaner] Cleaning text...\n",
      "* [TextCleaner] Cleaning text...\n",
      "* [TextCleaner] Cleaning text...\n",
      "* [TextCleaner] Cleaning text...\n",
      "* [TextCleaner] Cleaning text...\n"
     ]
    },
    {
     "name": "stderr",
     "output_type": "stream",
     "text": [
      "1it [00:00, 37.53it/s]\n",
      "1it [00:00, 33.65it/s]\n",
      "1it [00:00, 32.37it/s]\n",
      "1it [00:00, 41.26it/s]\n",
      "1it [00:00, 58.69it/s]\n",
      "1it [00:00, 39.66it/s]\n",
      "1it [00:00, 46.56it/s]\n",
      "0it [00:00, ?it/s]"
     ]
    },
    {
     "name": "stdout",
     "output_type": "stream",
     "text": [
      "* [TextCleaner] Cleaning text...\n",
      "* [TextCleaner] Cleaning text...\n",
      "* [TextCleaner] Cleaning text...\n",
      "* [TextCleaner] Cleaning text...\n",
      "* [TextCleaner] Cleaning text...\n",
      "* [TextCleaner] Cleaning text...\n",
      "* [TextCleaner] Cleaning text...\n"
     ]
    },
    {
     "name": "stderr",
     "output_type": "stream",
     "text": [
      "1it [00:00, 30.49it/s]\n",
      "1it [00:00, 27.40it/s]\n",
      "1it [00:00, 42.81it/s]\n",
      "1it [00:00, 97.89it/s]\n",
      "1it [00:00, 39.48it/s]\n",
      "1it [00:00, 54.65it/s]\n",
      "1it [00:00, 41.46it/s]\n",
      "1it [00:00, 208.68it/s]\n",
      "0it [00:00, ?it/s]"
     ]
    },
    {
     "name": "stdout",
     "output_type": "stream",
     "text": [
      "* [TextCleaner] Cleaning text...\n",
      "* [TextCleaner] Cleaning text...\n",
      "* [TextCleaner] Cleaning text...\n",
      "* [TextCleaner] Cleaning text...\n",
      "* [TextCleaner] Cleaning text...\n",
      "* [TextCleaner] Cleaning text...\n",
      "* [TextCleaner] Cleaning text...\n",
      "* [TextCleaner] Cleaning text...\n"
     ]
    },
    {
     "name": "stderr",
     "output_type": "stream",
     "text": [
      "1it [00:00, 38.92it/s]\n",
      "1it [00:00, 37.61it/s]\n",
      "1it [00:00, 35.84it/s]\n",
      "1it [00:00, 34.66it/s]\n",
      "1it [00:00, 31.39it/s]\n",
      "1it [00:00, 37.62it/s]\n",
      "1it [00:00, 40.45it/s]\n",
      "0it [00:00, ?it/s]"
     ]
    },
    {
     "name": "stdout",
     "output_type": "stream",
     "text": [
      "* [TextCleaner] Cleaning text...\n",
      "* [TextCleaner] Cleaning text...\n",
      "* [TextCleaner] Cleaning text...\n",
      "* [TextCleaner] Cleaning text...\n",
      "* [TextCleaner] Cleaning text...\n",
      "* [TextCleaner] Cleaning text...\n",
      "* [TextCleaner] Cleaning text...\n"
     ]
    },
    {
     "name": "stderr",
     "output_type": "stream",
     "text": [
      "1it [00:00, 26.98it/s]\n",
      "1it [00:00, 32.78it/s]\n",
      "1it [00:00, 37.95it/s]\n",
      "1it [00:00, 35.41it/s]\n",
      "1it [00:00, 68.96it/s]\n",
      "1it [00:00, 33.91it/s]\n",
      "1it [00:00, 37.13it/s]\n",
      "0it [00:00, ?it/s]"
     ]
    },
    {
     "name": "stdout",
     "output_type": "stream",
     "text": [
      "* [TextCleaner] Cleaning text...\n",
      "* [TextCleaner] Cleaning text...\n",
      "* [TextCleaner] Cleaning text...\n",
      "* [TextCleaner] Cleaning text...\n",
      "* [TextCleaner] Cleaning text...\n",
      "* [TextCleaner] Cleaning text...\n",
      "* [TextCleaner] Cleaning text...\n"
     ]
    },
    {
     "name": "stderr",
     "output_type": "stream",
     "text": [
      "1it [00:00, 42.38it/s]\n",
      "1it [00:00, 34.40it/s]\n",
      "1it [00:00, 38.44it/s]\n",
      "1it [00:00, 38.76it/s]\n",
      "1it [00:00, 38.08it/s]\n",
      "1it [00:00, 31.84it/s]\n",
      "1it [00:00, 45.55it/s]\n",
      "0it [00:00, ?it/s]"
     ]
    },
    {
     "name": "stdout",
     "output_type": "stream",
     "text": [
      "* [TextCleaner] Cleaning text...\n",
      "* [TextCleaner] Cleaning text...\n",
      "* [TextCleaner] Cleaning text...\n",
      "* [TextCleaner] Cleaning text...\n",
      "* [TextCleaner] Cleaning text...\n",
      "* [TextCleaner] Cleaning text...\n",
      "* [TextCleaner] Cleaning text...\n"
     ]
    },
    {
     "name": "stderr",
     "output_type": "stream",
     "text": [
      "1it [00:00, 30.10it/s]\n",
      "1it [00:00, 62.50it/s]\n",
      "1it [00:00, 28.49it/s]\n",
      "1it [00:00, 34.11it/s]\n",
      "1it [00:00, 21.10it/s]\n",
      "1it [00:00, 38.94it/s]\n",
      "0it [00:00, ?it/s]"
     ]
    },
    {
     "name": "stdout",
     "output_type": "stream",
     "text": [
      "* [TextCleaner] Cleaning text...\n",
      "* [TextCleaner] Cleaning text...\n",
      "* [TextCleaner] Cleaning text...\n",
      "* [TextCleaner] Cleaning text...\n",
      "* [TextCleaner] Cleaning text...\n",
      "* [TextCleaner] Cleaning text...\n"
     ]
    },
    {
     "name": "stderr",
     "output_type": "stream",
     "text": [
      "1it [00:00, 42.64it/s]\n",
      "1it [00:00, 38.49it/s]\n",
      "1it [00:00, 32.01it/s]\n",
      "1it [00:00, 37.23it/s]\n",
      "1it [00:00, 42.00it/s]\n",
      "1it [00:00, 38.09it/s]\n",
      "1it [00:00, 58.66it/s]\n",
      "0it [00:00, ?it/s]"
     ]
    },
    {
     "name": "stdout",
     "output_type": "stream",
     "text": [
      "* [TextCleaner] Cleaning text...\n",
      "* [TextCleaner] Cleaning text...\n",
      "* [TextCleaner] Cleaning text...\n",
      "* [TextCleaner] Cleaning text...\n",
      "* [TextCleaner] Cleaning text...\n",
      "* [TextCleaner] Cleaning text...\n",
      "* [TextCleaner] Cleaning text...\n"
     ]
    },
    {
     "name": "stderr",
     "output_type": "stream",
     "text": [
      "1it [00:00, 37.31it/s]\n",
      "1it [00:00, 42.55it/s]\n",
      "1it [00:00, 42.65it/s]\n",
      "1it [00:00, 36.09it/s]\n",
      "1it [00:00, 38.51it/s]\n",
      "1it [00:00, 32.75it/s]\n",
      "1it [00:00, 34.44it/s]\n",
      "0it [00:00, ?it/s]"
     ]
    },
    {
     "name": "stdout",
     "output_type": "stream",
     "text": [
      "* [TextCleaner] Cleaning text...\n",
      "* [TextCleaner] Cleaning text...\n",
      "* [TextCleaner] Cleaning text...\n",
      "* [TextCleaner] Cleaning text...\n",
      "* [TextCleaner] Cleaning text...\n",
      "* [TextCleaner] Cleaning text...\n",
      "* [TextCleaner] Cleaning text...\n"
     ]
    },
    {
     "name": "stderr",
     "output_type": "stream",
     "text": [
      "1it [00:00, 50.66it/s]\n",
      "1it [00:00, 37.59it/s]\n",
      "1it [00:00, 35.61it/s]\n",
      "1it [00:00, 48.14it/s]\n",
      "1it [00:00, 46.26it/s]\n",
      "1it [00:00, 46.18it/s]\n",
      "1it [00:00, 41.02it/s]\n",
      "1it [00:00, 43.83it/s]\n"
     ]
    },
    {
     "name": "stdout",
     "output_type": "stream",
     "text": [
      "* [TextCleaner] Cleaning text...\n",
      "* [TextCleaner] Cleaning text...\n",
      "* [TextCleaner] Cleaning text...\n",
      "* [TextCleaner] Cleaning text...\n",
      "* [TextCleaner] Cleaning text...\n",
      "* [TextCleaner] Cleaning text...\n",
      "* [TextCleaner] Cleaning text...\n"
     ]
    },
    {
     "name": "stderr",
     "output_type": "stream",
     "text": [
      "1it [00:00, 41.97it/s]\n",
      "1it [00:00, 47.16it/s]\n",
      "1it [00:00, 42.58it/s]\n",
      "1it [00:00, 49.37it/s]\n",
      "1it [00:00, 42.10it/s]\n",
      "1it [00:00, 35.79it/s]\n",
      "0it [00:00, ?it/s]"
     ]
    },
    {
     "name": "stdout",
     "output_type": "stream",
     "text": [
      "* [TextCleaner] Cleaning text...\n",
      "* [TextCleaner] Cleaning text...\n",
      "* [TextCleaner] Cleaning text...\n",
      "* [TextCleaner] Cleaning text...\n",
      "* [TextCleaner] Cleaning text...\n",
      "* [TextCleaner] Cleaning text...\n",
      "* [TextCleaner] Cleaning text...\n"
     ]
    },
    {
     "name": "stderr",
     "output_type": "stream",
     "text": [
      "1it [00:00, 26.36it/s]\n",
      "1it [00:00, 37.76it/s]\n",
      "1it [00:00, 28.23it/s]\n",
      "1it [00:00, 33.85it/s]\n",
      "1it [00:00, 42.49it/s]\n",
      "1it [00:00, 40.16it/s]\n",
      "0it [00:00, ?it/s]"
     ]
    },
    {
     "name": "stdout",
     "output_type": "stream",
     "text": [
      "* [TextCleaner] Cleaning text...\n",
      "* [TextCleaner] Cleaning text...\n",
      "* [TextCleaner] Cleaning text...\n",
      "* [TextCleaner] Cleaning text...\n",
      "* [TextCleaner] Cleaning text...\n",
      "* [TextCleaner] Cleaning text...\n"
     ]
    },
    {
     "name": "stderr",
     "output_type": "stream",
     "text": [
      "1it [00:00, 30.48it/s]\n",
      "1it [00:00, 40.33it/s]\n",
      "1it [00:00, 60.21it/s]\n",
      "1it [00:00, 34.30it/s]\n",
      "1it [00:00, 55.29it/s]\n",
      "1it [00:00, 44.61it/s]\n",
      "1it [00:00, 35.85it/s]\n",
      "1it [00:00, 39.35it/s]\n",
      "0it [00:00, ?it/s]"
     ]
    },
    {
     "name": "stdout",
     "output_type": "stream",
     "text": [
      "* [TextCleaner] Cleaning text...\n",
      "* [TextCleaner] Cleaning text...\n",
      "* [TextCleaner] Cleaning text...\n",
      "* [TextCleaner] Cleaning text...\n",
      "* [TextCleaner] Cleaning text...\n",
      "* [TextCleaner] Cleaning text...\n",
      "* [TextCleaner] Cleaning text...\n",
      "* [TextCleaner] Cleaning text...\n"
     ]
    },
    {
     "name": "stderr",
     "output_type": "stream",
     "text": [
      "1it [00:00, 35.42it/s]\n",
      "1it [00:00, 46.31it/s]\n",
      "1it [00:00, 34.80it/s]\n",
      "1it [00:00, 27.04it/s]\n",
      "1it [00:00, 40.54it/s]\n",
      "1it [00:00, 35.56it/s]\n",
      "1it [00:00, 36.44it/s]\n"
     ]
    },
    {
     "name": "stdout",
     "output_type": "stream",
     "text": [
      "* [TextCleaner] Cleaning text...\n",
      "* [TextCleaner] Cleaning text...\n",
      "* [TextCleaner] Cleaning text...\n",
      "* [TextCleaner] Cleaning text...\n",
      "* [TextCleaner] Cleaning text...\n",
      "* [TextCleaner] Cleaning text...\n",
      "* [TextCleaner] Cleaning text...\n"
     ]
    },
    {
     "name": "stderr",
     "output_type": "stream",
     "text": [
      "1it [00:00, 34.49it/s]\n",
      "1it [00:00, 35.30it/s]\n",
      "1it [00:00, 47.60it/s]\n",
      "1it [00:00, 34.73it/s]\n",
      "1it [00:00, 47.35it/s]\n",
      "1it [00:00, 28.80it/s]\n",
      "1it [00:00, 35.06it/s]\n",
      "0it [00:00, ?it/s]"
     ]
    },
    {
     "name": "stdout",
     "output_type": "stream",
     "text": [
      "* [TextCleaner] Cleaning text...\n",
      "* [TextCleaner] Cleaning text...\n",
      "* [TextCleaner] Cleaning text...\n",
      "* [TextCleaner] Cleaning text...\n",
      "* [TextCleaner] Cleaning text...\n",
      "* [TextCleaner] Cleaning text...\n",
      "* [TextCleaner] Cleaning text...\n"
     ]
    },
    {
     "name": "stderr",
     "output_type": "stream",
     "text": [
      "1it [00:00, 39.65it/s]\n",
      "1it [00:00, 42.54it/s]\n",
      "1it [00:00, 175.57it/s]\n",
      "1it [00:00, 58.60it/s]\n",
      "1it [00:00, 43.34it/s]\n",
      "1it [00:00, 27.44it/s]\n",
      "1it [00:00, 34.85it/s]\n",
      "1it [00:00, 32.92it/s]\n"
     ]
    },
    {
     "name": "stdout",
     "output_type": "stream",
     "text": [
      "* [TextCleaner] Cleaning text...\n",
      "* [TextCleaner] Cleaning text...\n",
      "* [TextCleaner] Cleaning text...\n",
      "* [TextCleaner] Cleaning text...\n",
      "* [TextCleaner] Cleaning text...\n",
      "* [TextCleaner] Cleaning text...\n",
      "* [TextCleaner] Cleaning text...\n"
     ]
    },
    {
     "name": "stderr",
     "output_type": "stream",
     "text": [
      "1it [00:00, 35.90it/s]\n",
      "1it [00:00, 33.17it/s]\n",
      "1it [00:00, 34.10it/s]\n",
      "1it [00:00, 35.89it/s]\n",
      "1it [00:00, 40.12it/s]\n",
      "1it [00:00, 42.94it/s]\n",
      "0it [00:00, ?it/s]"
     ]
    },
    {
     "name": "stdout",
     "output_type": "stream",
     "text": [
      "* [TextCleaner] Cleaning text...\n",
      "* [TextCleaner] Cleaning text...\n",
      "* [TextCleaner] Cleaning text...\n",
      "* [TextCleaner] Cleaning text...\n",
      "* [TextCleaner] Cleaning text...\n",
      "* [TextCleaner] Cleaning text...\n",
      "* [TextCleaner] Cleaning text...\n"
     ]
    },
    {
     "name": "stderr",
     "output_type": "stream",
     "text": [
      "1it [00:00, 35.73it/s]\n",
      "1it [00:00, 38.47it/s]\n",
      "1it [00:00, 51.14it/s]\n",
      "1it [00:00, 34.21it/s]\n",
      "1it [00:00, 23.80it/s]\n",
      "1it [00:00, 36.94it/s]\n",
      "0it [00:00, ?it/s]"
     ]
    },
    {
     "name": "stdout",
     "output_type": "stream",
     "text": [
      "* [TextCleaner] Cleaning text...\n",
      "* [TextCleaner] Cleaning text...\n",
      "* [TextCleaner] Cleaning text...\n",
      "* [TextCleaner] Cleaning text...\n",
      "* [TextCleaner] Cleaning text...\n",
      "* [TextCleaner] Cleaning text...\n"
     ]
    },
    {
     "name": "stderr",
     "output_type": "stream",
     "text": [
      "1it [00:00, 26.56it/s]\n",
      "1it [00:00, 32.36it/s]\n",
      "1it [00:00, 37.72it/s]\n",
      "1it [00:00, 45.41it/s]\n",
      "1it [00:00, 41.10it/s]\n",
      "1it [00:00, 61.10it/s]\n",
      "1it [00:00, 43.72it/s]\n",
      "1it [00:00, 38.64it/s]"
     ]
    },
    {
     "name": "stdout",
     "output_type": "stream",
     "text": [
      "* [TextCleaner] Cleaning text...\n",
      "* [TextCleaner] Cleaning text...\n",
      "* [TextCleaner] Cleaning text...\n",
      "* [TextCleaner] Cleaning text...\n",
      "* [TextCleaner] Cleaning text...\n",
      "* [TextCleaner] Cleaning text...\n",
      "* [TextCleaner] Cleaning text...\n"
     ]
    },
    {
     "name": "stderr",
     "output_type": "stream",
     "text": [
      "\n",
      "1it [00:00, 37.52it/s]\n",
      "1it [00:00, 36.24it/s]\n",
      "1it [00:00, 41.43it/s]\n",
      "1it [00:00, 36.63it/s]\n",
      "1it [00:00, 38.04it/s]\n",
      "1it [00:00, 35.74it/s]\n",
      "0it [00:00, ?it/s]"
     ]
    },
    {
     "name": "stdout",
     "output_type": "stream",
     "text": [
      "* [TextCleaner] Cleaning text...\n",
      "* [TextCleaner] Cleaning text...\n",
      "* [TextCleaner] Cleaning text...\n",
      "* [TextCleaner] Cleaning text...\n",
      "* [TextCleaner] Cleaning text...\n",
      "* [TextCleaner] Cleaning text...\n",
      "* [TextCleaner] Cleaning text...\n"
     ]
    },
    {
     "name": "stderr",
     "output_type": "stream",
     "text": [
      "1it [00:00, 35.05it/s]\n",
      "1it [00:00, 40.84it/s]\n",
      "1it [00:00, 34.15it/s]\n",
      "1it [00:00, 45.28it/s]\n",
      "1it [00:00, 34.54it/s]\n",
      "1it [00:00, 31.79it/s]\n",
      "1it [00:00, 43.99it/s]\n",
      "0it [00:00, ?it/s]"
     ]
    },
    {
     "name": "stdout",
     "output_type": "stream",
     "text": [
      "* [TextCleaner] Cleaning text...\n",
      "* [TextCleaner] Cleaning text...\n",
      "* [TextCleaner] Cleaning text...\n",
      "* [TextCleaner] Cleaning text...\n",
      "* [TextCleaner] Cleaning text...\n",
      "* [TextCleaner] Cleaning text...\n",
      "* [TextCleaner] Cleaning text...\n"
     ]
    },
    {
     "name": "stderr",
     "output_type": "stream",
     "text": [
      "1it [00:00, 38.09it/s]\n",
      "1it [00:00, 35.25it/s]\n",
      "1it [00:00, 34.36it/s]\n",
      "1it [00:00, 31.03it/s]\n",
      "1it [00:00, 38.50it/s]\n",
      "1it [00:00, 30.54it/s]\n",
      "0it [00:00, ?it/s]"
     ]
    },
    {
     "name": "stdout",
     "output_type": "stream",
     "text": [
      "* [TextCleaner] Cleaning text...\n",
      "* [TextCleaner] Cleaning text...\n",
      "* [TextCleaner] Cleaning text...\n",
      "* [TextCleaner] Cleaning text...\n",
      "* [TextCleaner] Cleaning text...\n",
      "* [TextCleaner] Cleaning text...\n"
     ]
    },
    {
     "name": "stderr",
     "output_type": "stream",
     "text": [
      "1it [00:00, 38.32it/s]\n",
      "1it [00:00, 33.10it/s]\n",
      "1it [00:00, 38.33it/s]\n",
      "1it [00:00, 118.84it/s]\n",
      "1it [00:00, 54.62it/s]\n",
      "1it [00:00, 36.21it/s]\n",
      "1it [00:00, 38.82it/s]\n",
      "1it [00:00, 33.10it/s]\n"
     ]
    },
    {
     "name": "stdout",
     "output_type": "stream",
     "text": [
      "* [TextCleaner] Cleaning text...\n",
      "* [TextCleaner] Cleaning text...\n",
      "* [TextCleaner] Cleaning text...\n",
      "* [TextCleaner] Cleaning text...\n",
      "* [TextCleaner] Cleaning text...\n",
      "* [TextCleaner] Cleaning text...\n",
      "* [TextCleaner] Cleaning text...\n"
     ]
    },
    {
     "name": "stderr",
     "output_type": "stream",
     "text": [
      "1it [00:00, 35.29it/s]\n",
      "1it [00:00, 36.60it/s]\n",
      "1it [00:00, 24.98it/s]\n",
      "1it [00:00, 42.23it/s]\n",
      "1it [00:00, 37.15it/s]\n",
      "0it [00:00, ?it/s]"
     ]
    },
    {
     "name": "stdout",
     "output_type": "stream",
     "text": [
      "* [TextCleaner] Cleaning text...\n",
      "* [TextCleaner] Cleaning text...\n",
      "* [TextCleaner] Cleaning text...\n",
      "* [TextCleaner] Cleaning text...\n",
      "* [TextCleaner] Cleaning text...\n",
      "* [TextCleaner] Cleaning text...\n"
     ]
    },
    {
     "name": "stderr",
     "output_type": "stream",
     "text": [
      "1it [00:00, 28.52it/s]\n",
      "1it [00:00, 42.22it/s]\n",
      "1it [00:00, 36.57it/s]\n",
      "1it [00:00, 36.77it/s]\n",
      "1it [00:00, 37.44it/s]\n",
      "1it [00:00, 44.38it/s]\n",
      "1it [00:00, 70.88it/s]\n",
      "1it [00:00, 64.08it/s]\n",
      "0it [00:00, ?it/s]"
     ]
    },
    {
     "name": "stdout",
     "output_type": "stream",
     "text": [
      "* [TextCleaner] Cleaning text...\n",
      "* [TextCleaner] Cleaning text...\n",
      "* [TextCleaner] Cleaning text...\n",
      "* [TextCleaner] Cleaning text...\n",
      "* [TextCleaner] Cleaning text...\n",
      "* [TextCleaner] Cleaning text...\n",
      "* [TextCleaner] Cleaning text...\n",
      "* [TextCleaner] Cleaning text...\n"
     ]
    },
    {
     "name": "stderr",
     "output_type": "stream",
     "text": [
      "1it [00:00, 38.73it/s]\n",
      "1it [00:00, 39.18it/s]\n",
      "1it [00:00, 53.17it/s]\n",
      "1it [00:00, 45.28it/s]\n",
      "1it [00:00, 39.94it/s]\n",
      "1it [00:00, 41.33it/s]\n",
      "1it [00:00, 32.19it/s]\n",
      "0it [00:00, ?it/s]"
     ]
    },
    {
     "name": "stdout",
     "output_type": "stream",
     "text": [
      "* [TextCleaner] Cleaning text...\n",
      "* [TextCleaner] Cleaning text...\n",
      "* [TextCleaner] Cleaning text...\n",
      "* [TextCleaner] Cleaning text...\n",
      "* [TextCleaner] Cleaning text...\n",
      "* [TextCleaner] Cleaning text...\n",
      "* [TextCleaner] Cleaning text...\n"
     ]
    },
    {
     "name": "stderr",
     "output_type": "stream",
     "text": [
      "1it [00:00, 37.37it/s]\n",
      "1it [00:00, 36.65it/s]\n",
      "1it [00:00, 35.58it/s]\n",
      "1it [00:00, 47.74it/s]\n",
      "1it [00:00, 36.91it/s]\n",
      "1it [00:00, 34.03it/s]\n",
      "1it [00:00, 52.40it/s]\n",
      "0it [00:00, ?it/s]"
     ]
    },
    {
     "name": "stdout",
     "output_type": "stream",
     "text": [
      "* [TextCleaner] Cleaning text...\n",
      "* [TextCleaner] Cleaning text...\n",
      "* [TextCleaner] Cleaning text...\n",
      "* [TextCleaner] Cleaning text...\n",
      "* [TextCleaner] Cleaning text...\n",
      "* [TextCleaner] Cleaning text...\n",
      "* [TextCleaner] Cleaning text...\n"
     ]
    },
    {
     "name": "stderr",
     "output_type": "stream",
     "text": [
      "1it [00:00, 31.68it/s]\n",
      "1it [00:00, 40.33it/s]\n",
      "1it [00:00, 28.87it/s]\n",
      "1it [00:00, 37.03it/s]\n",
      "1it [00:00, 31.41it/s]\n",
      "1it [00:00, 42.29it/s]\n",
      "0it [00:00, ?it/s]"
     ]
    },
    {
     "name": "stdout",
     "output_type": "stream",
     "text": [
      "* [TextCleaner] Cleaning text...\n",
      "* [TextCleaner] Cleaning text...\n",
      "* [TextCleaner] Cleaning text...\n",
      "* [TextCleaner] Cleaning text...\n",
      "* [TextCleaner] Cleaning text...\n",
      "* [TextCleaner] Cleaning text...\n"
     ]
    },
    {
     "name": "stderr",
     "output_type": "stream",
     "text": [
      "1it [00:00, 33.68it/s]\n",
      "1it [00:00, 40.75it/s]\n",
      "1it [00:00, 47.79it/s]\n",
      "1it [00:00, 32.52it/s]\n",
      "1it [00:00, 43.72it/s]\n",
      "1it [00:00, 48.21it/s]\n",
      "1it [00:00, 42.54it/s]\n",
      "0it [00:00, ?it/s]"
     ]
    },
    {
     "name": "stdout",
     "output_type": "stream",
     "text": [
      "* [TextCleaner] Cleaning text...\n",
      "* [TextCleaner] Cleaning text...\n",
      "* [TextCleaner] Cleaning text...\n",
      "* [TextCleaner] Cleaning text...\n",
      "* [TextCleaner] Cleaning text...\n",
      "* [TextCleaner] Cleaning text...\n",
      "* [TextCleaner] Cleaning text...\n"
     ]
    },
    {
     "name": "stderr",
     "output_type": "stream",
     "text": [
      "1it [00:00, 32.49it/s]\n",
      "1it [00:00, 29.89it/s]\n",
      "1it [00:00, 41.98it/s]\n",
      "1it [00:00, 127.34it/s]\n",
      "1it [00:00, 45.67it/s]\n",
      "1it [00:00, 39.57it/s]\n",
      "1it [00:00, 40.94it/s]\n",
      "0it [00:00, ?it/s]"
     ]
    },
    {
     "name": "stdout",
     "output_type": "stream",
     "text": [
      "* [TextCleaner] Cleaning text...\n",
      "* [TextCleaner] Cleaning text...\n",
      "* [TextCleaner] Cleaning text...\n",
      "* [TextCleaner] Cleaning text...\n",
      "* [TextCleaner] Cleaning text...\n",
      "* [TextCleaner] Cleaning text...\n",
      "* [TextCleaner] Cleaning text...\n"
     ]
    },
    {
     "name": "stderr",
     "output_type": "stream",
     "text": [
      "1it [00:00, 32.81it/s]\n",
      "1it [00:00, 29.89it/s]\n",
      "1it [00:00, 44.63it/s]\n",
      "1it [00:00, 36.34it/s]\n",
      "1it [00:00, 49.10it/s]\n",
      "1it [00:00, 41.63it/s]\n",
      "1it [00:00, 27.83it/s]\n",
      "0it [00:00, ?it/s]"
     ]
    },
    {
     "name": "stdout",
     "output_type": "stream",
     "text": [
      "* [TextCleaner] Cleaning text...\n",
      "* [TextCleaner] Cleaning text...\n",
      "* [TextCleaner] Cleaning text...\n",
      "* [TextCleaner] Cleaning text...\n",
      "* [TextCleaner] Cleaning text...\n",
      "* [TextCleaner] Cleaning text...\n",
      "* [TextCleaner] Cleaning text...\n"
     ]
    },
    {
     "name": "stderr",
     "output_type": "stream",
     "text": [
      "1it [00:00, 34.18it/s]\n",
      "1it [00:00, 34.29it/s]\n",
      "1it [00:00, 32.42it/s]\n",
      "1it [00:00, 42.94it/s]\n",
      "1it [00:00, 41.62it/s]\n",
      "1it [00:00, 31.57it/s]\n",
      "0it [00:00, ?it/s]"
     ]
    },
    {
     "name": "stdout",
     "output_type": "stream",
     "text": [
      "* [TextCleaner] Cleaning text...\n",
      "* [TextCleaner] Cleaning text...\n",
      "* [TextCleaner] Cleaning text...\n",
      "* [TextCleaner] Cleaning text...\n",
      "* [TextCleaner] Cleaning text...\n",
      "* [TextCleaner] Cleaning text...\n"
     ]
    },
    {
     "name": "stderr",
     "output_type": "stream",
     "text": [
      "1it [00:00, 27.74it/s]\n",
      "1it [00:00, 32.63it/s]\n",
      "1it [00:00, 32.44it/s]\n",
      "1it [00:00, 32.62it/s]\n",
      "1it [00:00, 35.61it/s]\n",
      "1it [00:00, 44.92it/s]\n",
      "1it [00:00, 35.84it/s]"
     ]
    },
    {
     "name": "stdout",
     "output_type": "stream",
     "text": [
      "* [TextCleaner] Cleaning text...\n",
      "* [TextCleaner] Cleaning text...\n",
      "* [TextCleaner] Cleaning text...\n",
      "* [TextCleaner] Cleaning text...\n",
      "* [TextCleaner] Cleaning text...\n",
      "* [TextCleaner] Cleaning text...\n"
     ]
    },
    {
     "name": "stderr",
     "output_type": "stream",
     "text": [
      "\n",
      "1it [00:00, 35.25it/s]\n",
      "1it [00:00, 64.70it/s]\n",
      "1it [00:00, 35.89it/s]\n",
      "1it [00:00, 40.00it/s]\n",
      "1it [00:00, 37.95it/s]\n",
      "1it [00:00, 34.17it/s]\n",
      "1it [00:00, 48.90it/s]\n",
      "0it [00:00, ?it/s]"
     ]
    },
    {
     "name": "stdout",
     "output_type": "stream",
     "text": [
      "* [TextCleaner] Cleaning text...\n",
      "* [TextCleaner] Cleaning text...\n",
      "* [TextCleaner] Cleaning text...\n",
      "* [TextCleaner] Cleaning text...\n",
      "* [TextCleaner] Cleaning text...\n",
      "* [TextCleaner] Cleaning text...\n",
      "* [TextCleaner] Cleaning text...\n",
      "* [TextCleaner] Cleaning text...\n"
     ]
    },
    {
     "name": "stderr",
     "output_type": "stream",
     "text": [
      "1it [00:00, 36.09it/s]\n",
      "1it [00:00, 37.28it/s]\n",
      "1it [00:00, 41.68it/s]\n",
      "1it [00:00, 34.91it/s]\n",
      "1it [00:00, 30.89it/s]\n",
      "1it [00:00, 34.00it/s]\n",
      "1it [00:00, 37.61it/s]\n",
      "0it [00:00, ?it/s]"
     ]
    },
    {
     "name": "stdout",
     "output_type": "stream",
     "text": [
      "* [TextCleaner] Cleaning text...\n",
      "* [TextCleaner] Cleaning text...\n",
      "* [TextCleaner] Cleaning text...\n",
      "* [TextCleaner] Cleaning text...\n",
      "* [TextCleaner] Cleaning text...\n",
      "* [TextCleaner] Cleaning text...\n",
      "* [TextCleaner] Cleaning text...\n"
     ]
    },
    {
     "name": "stderr",
     "output_type": "stream",
     "text": [
      "1it [00:00, 34.06it/s]\n",
      "1it [00:00, 40.48it/s]\n",
      "1it [00:00, 45.25it/s]\n",
      "1it [00:00, 42.05it/s]\n",
      "1it [00:00, 36.28it/s]\n",
      "1it [00:00, 31.77it/s]\n",
      "1it [00:00, 34.70it/s]\n",
      "0it [00:00, ?it/s]"
     ]
    },
    {
     "name": "stdout",
     "output_type": "stream",
     "text": [
      "* [TextCleaner] Cleaning text...\n",
      "* [TextCleaner] Cleaning text...\n",
      "* [TextCleaner] Cleaning text...\n",
      "* [TextCleaner] Cleaning text...\n",
      "* [TextCleaner] Cleaning text...\n",
      "* [TextCleaner] Cleaning text...\n",
      "* [TextCleaner] Cleaning text...\n"
     ]
    },
    {
     "name": "stderr",
     "output_type": "stream",
     "text": [
      "1it [00:00, 40.52it/s]\n",
      "1it [00:00, 38.30it/s]\n",
      "1it [00:00, 48.73it/s]\n",
      "1it [00:00, 39.90it/s]\n",
      "1it [00:00, 36.72it/s]\n",
      "1it [00:00, 42.11it/s]\n",
      "1it [00:00, 59.35it/s]\n",
      "1it [00:00, 33.43it/s]"
     ]
    },
    {
     "name": "stdout",
     "output_type": "stream",
     "text": [
      "* [TextCleaner] Cleaning text...\n",
      "* [TextCleaner] Cleaning text...\n",
      "* [TextCleaner] Cleaning text...\n",
      "* [TextCleaner] Cleaning text...\n",
      "* [TextCleaner] Cleaning text...\n",
      "* [TextCleaner] Cleaning text...\n",
      "* [TextCleaner] Cleaning text...\n"
     ]
    },
    {
     "name": "stderr",
     "output_type": "stream",
     "text": [
      "\n",
      "1it [00:00, 36.95it/s]\n",
      "1it [00:00, 33.42it/s]\n",
      "1it [00:00, 41.03it/s]\n",
      "1it [00:00, 34.52it/s]\n",
      "1it [00:00, 39.80it/s]\n",
      "1it [00:00, 49.41it/s]\n",
      "0it [00:00, ?it/s]"
     ]
    },
    {
     "name": "stdout",
     "output_type": "stream",
     "text": [
      "* [TextCleaner] Cleaning text...\n",
      "* [TextCleaner] Cleaning text...\n",
      "* [TextCleaner] Cleaning text...\n",
      "* [TextCleaner] Cleaning text...\n",
      "* [TextCleaner] Cleaning text...\n",
      "* [TextCleaner] Cleaning text...\n",
      "* [TextCleaner] Cleaning text...\n"
     ]
    },
    {
     "name": "stderr",
     "output_type": "stream",
     "text": [
      "1it [00:00, 34.23it/s]\n",
      "1it [00:00, 41.94it/s]\n",
      "1it [00:00, 45.08it/s]\n",
      "1it [00:00, 36.28it/s]\n",
      "1it [00:00, 38.42it/s]\n",
      "1it [00:00, 37.84it/s]\n",
      "1it [00:00, 38.30it/s]\n",
      "0it [00:00, ?it/s]"
     ]
    },
    {
     "name": "stdout",
     "output_type": "stream",
     "text": [
      "* [TextCleaner] Cleaning text...\n",
      "* [TextCleaner] Cleaning text...\n",
      "* [TextCleaner] Cleaning text...\n",
      "* [TextCleaner] Cleaning text...\n",
      "* [TextCleaner] Cleaning text...\n",
      "* [TextCleaner] Cleaning text...\n",
      "* [TextCleaner] Cleaning text...\n"
     ]
    },
    {
     "name": "stderr",
     "output_type": "stream",
     "text": [
      "1it [00:00, 35.26it/s]\n",
      "1it [00:00, 56.18it/s]\n",
      "1it [00:00, 46.68it/s]\n",
      "1it [00:00, 40.21it/s]\n",
      "1it [00:00, 39.47it/s]\n",
      "1it [00:00, 42.80it/s]\n",
      "1it [00:00, 42.85it/s]\n",
      "1it [00:00, 46.50it/s]\n",
      "0it [00:00, ?it/s]"
     ]
    },
    {
     "name": "stdout",
     "output_type": "stream",
     "text": [
      "* [TextCleaner] Cleaning text...\n",
      "* [TextCleaner] Cleaning text...\n",
      "* [TextCleaner] Cleaning text...\n",
      "* [TextCleaner] Cleaning text...\n",
      "* [TextCleaner] Cleaning text...\n",
      "* [TextCleaner] Cleaning text...\n",
      "* [TextCleaner] Cleaning text...\n",
      "* [TextCleaner] Cleaning text...\n"
     ]
    },
    {
     "name": "stderr",
     "output_type": "stream",
     "text": [
      "1it [00:00, 31.07it/s]\n",
      "1it [00:00, 35.43it/s]\n",
      "1it [00:00, 41.37it/s]\n",
      "1it [00:00, 37.85it/s]\n",
      "1it [00:00, 45.79it/s]\n",
      "1it [00:00, 37.86it/s]\n",
      "1it [00:00, 37.47it/s]\n",
      "0it [00:00, ?it/s]"
     ]
    },
    {
     "name": "stdout",
     "output_type": "stream",
     "text": [
      "* [TextCleaner] Cleaning text...\n",
      "* [TextCleaner] Cleaning text...\n",
      "* [TextCleaner] Cleaning text...\n",
      "* [TextCleaner] Cleaning text...\n",
      "* [TextCleaner] Cleaning text...\n",
      "* [TextCleaner] Cleaning text...\n",
      "* [TextCleaner] Cleaning text...\n"
     ]
    },
    {
     "name": "stderr",
     "output_type": "stream",
     "text": [
      "1it [00:00, 37.52it/s]\n",
      "1it [00:00, 41.50it/s]\n",
      "1it [00:00, 26.68it/s]\n",
      "1it [00:00, 38.22it/s]\n",
      "1it [00:00, 37.92it/s]\n",
      "1it [00:00, 40.10it/s]\n",
      "1it [00:00, 37.07it/s]\n",
      "0it [00:00, ?it/s]"
     ]
    },
    {
     "name": "stdout",
     "output_type": "stream",
     "text": [
      "* [TextCleaner] Cleaning text...\n",
      "* [TextCleaner] Cleaning text...\n",
      "* [TextCleaner] Cleaning text...\n",
      "* [TextCleaner] Cleaning text...\n",
      "* [TextCleaner] Cleaning text...\n",
      "* [TextCleaner] Cleaning text...\n",
      "* [TextCleaner] Cleaning text...\n"
     ]
    },
    {
     "name": "stderr",
     "output_type": "stream",
     "text": [
      "1it [00:00, 45.81it/s]\n",
      "1it [00:00, 42.24it/s]\n",
      "1it [00:00, 40.25it/s]\n",
      "1it [00:00, 34.62it/s]\n",
      "1it [00:00, 45.29it/s]\n",
      "1it [00:00, 37.25it/s]\n",
      "1it [00:00, 45.14it/s]\n",
      "0it [00:00, ?it/s]"
     ]
    },
    {
     "name": "stdout",
     "output_type": "stream",
     "text": [
      "* [TextCleaner] Cleaning text...\n",
      "* [TextCleaner] Cleaning text...\n",
      "* [TextCleaner] Cleaning text...\n",
      "* [TextCleaner] Cleaning text...\n",
      "* [TextCleaner] Cleaning text...\n",
      "* [TextCleaner] Cleaning text...\n",
      "* [TextCleaner] Cleaning text...\n"
     ]
    },
    {
     "name": "stderr",
     "output_type": "stream",
     "text": [
      "1it [00:00, 35.88it/s]\n",
      "1it [00:00, 36.63it/s]\n",
      "1it [00:00, 29.17it/s]\n",
      "1it [00:00, 24.22it/s]\n",
      "1it [00:00, 38.90it/s]\n",
      "1it [00:00, 34.63it/s]\n",
      "0it [00:00, ?it/s]"
     ]
    },
    {
     "name": "stdout",
     "output_type": "stream",
     "text": [
      "* [TextCleaner] Cleaning text...\n",
      "* [TextCleaner] Cleaning text...\n",
      "* [TextCleaner] Cleaning text...\n",
      "* [TextCleaner] Cleaning text...\n",
      "* [TextCleaner] Cleaning text...\n",
      "* [TextCleaner] Cleaning text...\n"
     ]
    },
    {
     "name": "stderr",
     "output_type": "stream",
     "text": [
      "1it [00:00, 36.22it/s]\n",
      "1it [00:00, 32.58it/s]\n",
      "1it [00:00, 40.51it/s]\n",
      "1it [00:00, 36.50it/s]\n",
      "1it [00:00, 29.80it/s]\n",
      "1it [00:00, 38.88it/s]\n",
      "0it [00:00, ?it/s]"
     ]
    },
    {
     "name": "stdout",
     "output_type": "stream",
     "text": [
      "* [TextCleaner] Cleaning text...\n",
      "* [TextCleaner] Cleaning text...\n",
      "* [TextCleaner] Cleaning text...\n",
      "* [TextCleaner] Cleaning text...\n",
      "* [TextCleaner] Cleaning text...\n",
      "* [TextCleaner] Cleaning text...\n"
     ]
    },
    {
     "name": "stderr",
     "output_type": "stream",
     "text": [
      "1it [00:00, 29.39it/s]\n",
      "1it [00:00, 32.59it/s]\n",
      "1it [00:00, 32.65it/s]\n",
      "1it [00:00, 33.79it/s]\n",
      "1it [00:00, 32.79it/s]\n",
      "1it [00:00, 46.81it/s]\n",
      "0it [00:00, ?it/s]"
     ]
    },
    {
     "name": "stdout",
     "output_type": "stream",
     "text": [
      "* [TextCleaner] Cleaning text...\n",
      "* [TextCleaner] Cleaning text...\n",
      "* [TextCleaner] Cleaning text...\n",
      "* [TextCleaner] Cleaning text...\n",
      "* [TextCleaner] Cleaning text...\n",
      "* [TextCleaner] Cleaning text...\n"
     ]
    },
    {
     "name": "stderr",
     "output_type": "stream",
     "text": [
      "1it [00:00, 33.87it/s]\n",
      "1it [00:00, 27.12it/s]\n",
      "1it [00:00, 27.87it/s]\n",
      "1it [00:00, 27.99it/s]\n",
      "1it [00:00, 23.10it/s]\n",
      "0it [00:00, ?it/s]"
     ]
    },
    {
     "name": "stdout",
     "output_type": "stream",
     "text": [
      "* [TextCleaner] Cleaning text...\n",
      "* [TextCleaner] Cleaning text...\n",
      "* [TextCleaner] Cleaning text...\n",
      "* [TextCleaner] Cleaning text...\n",
      "* [TextCleaner] Cleaning text...\n"
     ]
    },
    {
     "name": "stderr",
     "output_type": "stream",
     "text": [
      "1it [00:00, 26.87it/s]\n",
      "1it [00:00, 26.26it/s]\n",
      "1it [00:00, 24.21it/s]\n",
      "1it [00:00, 27.91it/s]\n",
      "1it [00:00, 30.45it/s]\n",
      "0it [00:00, ?it/s]"
     ]
    },
    {
     "name": "stdout",
     "output_type": "stream",
     "text": [
      "* [TextCleaner] Cleaning text...\n",
      "* [TextCleaner] Cleaning text...\n",
      "* [TextCleaner] Cleaning text...\n",
      "* [TextCleaner] Cleaning text...\n",
      "* [TextCleaner] Cleaning text...\n"
     ]
    },
    {
     "name": "stderr",
     "output_type": "stream",
     "text": [
      "1it [00:00, 26.12it/s]\n",
      "1it [00:00, 26.76it/s]\n",
      "1it [00:00, 29.45it/s]\n",
      "1it [00:00, 29.76it/s]\n",
      "1it [00:00, 45.02it/s]\n",
      "1it [00:00, 33.16it/s]\n",
      "0it [00:00, ?it/s]"
     ]
    },
    {
     "name": "stdout",
     "output_type": "stream",
     "text": [
      "* [TextCleaner] Cleaning text...\n",
      "* [TextCleaner] Cleaning text...\n",
      "* [TextCleaner] Cleaning text...\n",
      "* [TextCleaner] Cleaning text...\n",
      "* [TextCleaner] Cleaning text...\n",
      "* [TextCleaner] Cleaning text...\n"
     ]
    },
    {
     "name": "stderr",
     "output_type": "stream",
     "text": [
      "1it [00:00, 41.21it/s]\n",
      "1it [00:00, 35.32it/s]\n",
      "1it [00:00, 29.37it/s]\n",
      "1it [00:00, 78.60it/s]\n",
      "1it [00:00, 47.39it/s]\n",
      "1it [00:00, 53.52it/s]\n",
      "1it [00:00, 45.74it/s]"
     ]
    },
    {
     "name": "stdout",
     "output_type": "stream",
     "text": [
      "* [TextCleaner] Cleaning text...\n",
      "* [TextCleaner] Cleaning text...\n",
      "* [TextCleaner] Cleaning text...\n",
      "* [TextCleaner] Cleaning text...\n",
      "* [TextCleaner] Cleaning text...\n",
      "* [TextCleaner] Cleaning text...\n"
     ]
    },
    {
     "name": "stderr",
     "output_type": "stream",
     "text": [
      "\n"
     ]
    }
   ],
   "source": [
    "X_test = vectorizer.transform(data_test)"
   ]
  },
  {
   "cell_type": "code",
   "execution_count": 14,
   "metadata": {
    "scrolled": true
   },
   "outputs": [
    {
     "name": "stdout",
     "output_type": "stream",
     "text": [
      "(3672, 10000) (1574, 10000)\n"
     ]
    }
   ],
   "source": [
    "print(X_train.shape, X_test.shape)"
   ]
  },
  {
   "cell_type": "markdown",
   "metadata": {},
   "source": [
    "### Encode label to binary"
   ]
  },
  {
   "cell_type": "code",
   "execution_count": 15,
   "metadata": {},
   "outputs": [
    {
     "data": {
      "text/plain": [
       "LabelEncoder()"
      ]
     },
     "execution_count": 15,
     "metadata": {},
     "output_type": "execute_result"
    }
   ],
   "source": [
    "label_encoder = LabelEncoder()\n",
    "label_encoder.fit(target)"
   ]
  },
  {
   "cell_type": "code",
   "execution_count": 16,
   "metadata": {
    "collapsed": true
   },
   "outputs": [],
   "source": [
    "y_train = label_encoder.transform(target_train)\n",
    "y_test = label_encoder.transform(target_test)"
   ]
  },
  {
   "cell_type": "code",
   "execution_count": 17,
   "metadata": {},
   "outputs": [
    {
     "name": "stdout",
     "output_type": "stream",
     "text": [
      "(3672,) (1574,)\n"
     ]
    }
   ],
   "source": [
    "print(y_train.shape, y_test.shape)"
   ]
  },
  {
   "cell_type": "markdown",
   "metadata": {},
   "source": [
    "### Try random forest model"
   ]
  },
  {
   "cell_type": "code",
   "execution_count": 18,
   "metadata": {
    "collapsed": true
   },
   "outputs": [],
   "source": [
    "from sklearn.ensemble import RandomForestClassifier"
   ]
  },
  {
   "cell_type": "code",
   "execution_count": 19,
   "metadata": {},
   "outputs": [
    {
     "name": "stdout",
     "output_type": "stream",
     "text": [
      "train time: 0.035s\n"
     ]
    }
   ],
   "source": [
    "t0 = time()\n",
    "\n",
    "clf = RandomForestClassifier(max_depth=2, random_state=0)\n",
    "clf.fit(X_train, y_train)\n",
    "\n",
    "train_time = time() - t0\n",
    "print(\"train time: %0.3fs\" % train_time)"
   ]
  },
  {
   "cell_type": "markdown",
   "metadata": {},
   "source": [
    "### Test random forest performance"
   ]
  },
  {
   "cell_type": "code",
   "execution_count": 20,
   "metadata": {},
   "outputs": [
    {
     "name": "stdout",
     "output_type": "stream",
     "text": [
      "test time:  0.011s\n"
     ]
    }
   ],
   "source": [
    "t0 = time()\n",
    "\n",
    "y_pred = clf.predict(X_test)\n",
    "\n",
    "test_time = time() - t0\n",
    "print(\"test time:  %0.3fs\" % test_time)"
   ]
  },
  {
   "cell_type": "code",
   "execution_count": 21,
   "metadata": {},
   "outputs": [
    {
     "name": "stdout",
     "output_type": "stream",
     "text": [
      "accuracy:   0.621\n"
     ]
    }
   ],
   "source": [
    "score = metrics.accuracy_score(y_test, y_pred)\n",
    "print(\"accuracy:   %0.3f\" % score)"
   ]
  },
  {
   "cell_type": "markdown",
   "metadata": {},
   "source": [
    "### Show feature importance from random forest model"
   ]
  },
  {
   "cell_type": "code",
   "execution_count": 22,
   "metadata": {
    "scrolled": true
   },
   "outputs": [
    {
     "name": "stdout",
     "output_type": "stream",
     "text": [
      "i: 0 | feature id: 9233 | feature name: tripadvisor | score: 0.07284662560408801\n",
      "i: 1 | feature id: 7078 | feature name: power | score: 0.06763337283208773\n",
      "i: 2 | feature id: 1525 | feature name: candid | score: 0.06461820635066193\n",
      "i: 3 | feature id: 5167 | feature name: letter | score: 0.05439122887536293\n",
      "i: 4 | feature id: 909 | feature name: bath | score: 0.054147164034578435\n",
      "i: 5 | feature id: 7264 | feature name: province | score: 0.05363794810288679\n",
      "i: 6 | feature id: 4924 | feature name: knowledge | score: 0.052973588996935994\n",
      "i: 7 | feature id: 1510 | feature name: camp | score: 0.04813203852328278\n",
      "i: 8 | feature id: 9197 | feature name: transport | score: 0.04680400603511104\n",
      "i: 9 | feature id: 2405 | feature name: del | score: 0.046365421846464076\n",
      "i: 10 | feature id: 3649 | feature name: give | score: 0.04612281463087471\n",
      "i: 11 | feature id: 7036 | feature name: port | score: 0.04560877112463707\n",
      "i: 12 | feature id: 5050 | feature name: landmark | score: 0.04180247169930423\n",
      "i: 13 | feature id: 8744 | feature name: suggest | score: 0.03981838424730957\n",
      "i: 14 | feature id: 5297 | feature name: log | score: 0.03860514544443127\n",
      "i: 15 | feature id: 5048 | feature name: land | score: 0.03656879199008458\n",
      "i: 16 | feature id: 5599 | feature name: match | score: 0.034673659870244684\n",
      "i: 17 | feature id: 3478 | feature name: ft | score: 0.028187431651040817\n",
      "i: 18 | feature id: 8099 | feature name: sell | score: 0.024966166850366647\n",
      "i: 19 | feature id: 1786 | feature name: christian | score: 0.01920352549888061\n",
      "i: 20 | feature id: 8593 | feature name: st | score: 0.019131946553521715\n",
      "i: 21 | feature id: 7630 | feature name: research | score: 0.013262816032285935\n",
      "i: 22 | feature id: 2399 | feature name: definitive | score: 0.01139352226558473\n",
      "i: 23 | feature id: 847 | feature name: banker | score: 0.009793259907028621\n",
      "i: 24 | feature id: 5149 | feature name: leningrad | score: 0.008021427842390263\n",
      "i: 25 | feature id: 2329 | feature name: das | score: 0.0074004603175456245\n",
      "i: 26 | feature id: 3724 | feature name: grammar | score: 0.007194361998297249\n",
      "i: 27 | feature id: 7682 | feature name: review | score: 0.0060344517181119975\n",
      "i: 28 | feature id: 2353 | feature name: dead | score: 0.0006609891565999236\n",
      "i: 29 | feature id: 3329 | feature name: fitna | score: 0.0\n"
     ]
    }
   ],
   "source": [
    "feature_names = vectorizer.get_feature_names()\n",
    "feature_importances = clf.feature_importances_\n",
    "indices = np.argsort(feature_importances)[::-1]\n",
    "id2word = {i:feature_name for i, feature_name in enumerate(feature_names) }\n",
    "\n",
    "for i in range(30):\n",
    "    print('i: {} | feature id: {} | feature name: {} | score: {}'.format(i, indices[i], id2word[indices[i]], feature_importances[indices[i]]))"
   ]
  },
  {
   "cell_type": "markdown",
   "metadata": {},
   "source": [
    "### Try neural net"
   ]
  },
  {
   "cell_type": "code",
   "execution_count": 23,
   "metadata": {},
   "outputs": [
    {
     "name": "stderr",
     "output_type": "stream",
     "text": [
      "Using TensorFlow backend.\n"
     ]
    }
   ],
   "source": [
    "from keras.models import Sequential\n",
    "from keras.layers import InputLayer, Dense, Dropout, Activation, Flatten\n",
    "from keras.layers import Convolution1D\n",
    "from keras.layers.pooling import AveragePooling1D, GlobalAveragePooling1D, MaxPooling1D, GlobalMaxPooling1D\n",
    "from keras.layers.normalization import BatchNormalization\n",
    "from keras.callbacks import EarlyStopping"
   ]
  },
  {
   "cell_type": "code",
   "execution_count": 28,
   "metadata": {
    "collapsed": true
   },
   "outputs": [],
   "source": [
    "num_feature = X_train.shape[1]\n",
    "model = Sequential()\n",
    "\n",
    "model.add(InputLayer(input_shape=(num_feature,)))\n",
    "\n",
    "model.add(Dense(128))\n",
    "model.add(Dropout(0.5))\n",
    "model.add(Activation('relu'))\n",
    "\n",
    "model.add(Dense(1))\n",
    "model.add(Activation('sigmoid'))"
   ]
  },
  {
   "cell_type": "code",
   "execution_count": 29,
   "metadata": {},
   "outputs": [
    {
     "name": "stdout",
     "output_type": "stream",
     "text": [
      "_________________________________________________________________\n",
      "Layer (type)                 Output Shape              Param #   \n",
      "=================================================================\n",
      "input_2 (InputLayer)         (None, 10000)             0         \n",
      "_________________________________________________________________\n",
      "dense_3 (Dense)              (None, 128)               1280128   \n",
      "_________________________________________________________________\n",
      "dropout_2 (Dropout)          (None, 128)               0         \n",
      "_________________________________________________________________\n",
      "activation_3 (Activation)    (None, 128)               0         \n",
      "_________________________________________________________________\n",
      "dense_4 (Dense)              (None, 1)                 129       \n",
      "_________________________________________________________________\n",
      "activation_4 (Activation)    (None, 1)                 0         \n",
      "=================================================================\n",
      "Total params: 1,280,257\n",
      "Trainable params: 1,280,257\n",
      "Non-trainable params: 0\n",
      "_________________________________________________________________\n"
     ]
    }
   ],
   "source": [
    "model.summary()"
   ]
  },
  {
   "cell_type": "markdown",
   "metadata": {},
   "source": [
    "### Train neural net"
   ]
  },
  {
   "cell_type": "code",
   "execution_count": 36,
   "metadata": {
    "scrolled": true
   },
   "outputs": [
    {
     "name": "stdout",
     "output_type": "stream",
     "text": [
      "Train on 2460 samples, validate on 1212 samples\n",
      "Epoch 1/100\n",
      "2460/2460 [==============================] - 2s - loss: 0.6483 - acc: 0.6146 - val_loss: 0.6099 - val_acc: 0.6221\n",
      "Epoch 2/100\n",
      "2460/2460 [==============================] - 2s - loss: 0.5122 - acc: 0.7772 - val_loss: 0.4932 - val_acc: 0.7929\n",
      "Epoch 3/100\n",
      "2460/2460 [==============================] - 2s - loss: 0.3448 - acc: 0.8911 - val_loss: 0.4352 - val_acc: 0.8284\n",
      "Epoch 4/100\n",
      "2460/2460 [==============================] - 2s - loss: 0.2399 - acc: 0.9207 - val_loss: 0.4201 - val_acc: 0.8342\n",
      "Epoch 5/100\n",
      "2460/2460 [==============================] - 2s - loss: 0.1768 - acc: 0.9435 - val_loss: 0.4290 - val_acc: 0.8366\n",
      "Epoch 6/100\n",
      "2460/2460 [==============================] - 2s - loss: 0.1382 - acc: 0.9516 - val_loss: 0.4367 - val_acc: 0.8243\n",
      "Epoch 7/100\n",
      "2460/2460 [==============================] - 2s - loss: 0.1184 - acc: 0.9577 - val_loss: 0.4569 - val_acc: 0.8226\n",
      "Epoch 8/100\n",
      "2460/2460 [==============================] - 2s - loss: 0.1058 - acc: 0.9565 - val_loss: 0.4833 - val_acc: 0.8201\n",
      "Epoch 9/100\n",
      "2460/2460 [==============================] - 2s - loss: 0.1012 - acc: 0.9573 - val_loss: 0.4870 - val_acc: 0.8210\n",
      "Epoch 10/100\n",
      "2460/2460 [==============================] - 2s - loss: 0.0911 - acc: 0.9577 - val_loss: 0.5030 - val_acc: 0.8177\n"
     ]
    },
    {
     "data": {
      "text/plain": [
       "<keras.callbacks.History at 0x7f3d3a5b1630>"
      ]
     },
     "execution_count": 36,
     "metadata": {},
     "output_type": "execute_result"
    }
   ],
   "source": [
    "early_stopping = EarlyStopping(monitor='val_loss', patience=5)\n",
    "\n",
    "model.compile(loss='binary_crossentropy',\n",
    "              optimizer='adam',\n",
    "              metrics=['accuracy'])\n",
    "\n",
    "# model.fit(X_train.toarray(), y_train, validation_split=0.33, epochs=100, callbacks=[early_stopping])\n",
    "model.fit(X_train.toarray(), y_train, validation_split=0.33, epochs=100, callbacks=[early_stopping])"
   ]
  },
  {
   "cell_type": "markdown",
   "metadata": {},
   "source": [
    "### Test neural net\n",
    "We have significant perfomance boost!"
   ]
  },
  {
   "cell_type": "code",
   "execution_count": 38,
   "metadata": {},
   "outputs": [
    {
     "name": "stdout",
     "output_type": "stream",
     "text": [
      "1574/1574 [==============================] - 0s\n",
      "accuracy:   0.812\n"
     ]
    }
   ],
   "source": [
    "score = model.evaluate(X_test.toarray(), y_test, batch_size=X_test.shape[0])[1]\n",
    "print(\"accuracy:   %0.3f\" % score)"
   ]
  },
  {
   "cell_type": "code",
   "execution_count": null,
   "metadata": {
    "collapsed": true
   },
   "outputs": [],
   "source": []
  }
 ],
 "metadata": {
  "kernelspec": {
   "display_name": "Python 3",
   "language": "python",
   "name": "python3"
  },
  "language_info": {
   "codemirror_mode": {
    "name": "ipython",
    "version": 3
   },
   "file_extension": ".py",
   "mimetype": "text/x-python",
   "name": "python",
   "nbconvert_exporter": "python",
   "pygments_lexer": "ipython3",
   "version": "3.4.3"
  }
 },
 "nbformat": 4,
 "nbformat_minor": 2
}
