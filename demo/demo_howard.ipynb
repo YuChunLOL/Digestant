{
 "cells": [
  {
   "cell_type": "markdown",
   "metadata": {},
   "source": [
    "### Import packages"
   ]
  },
  {
   "cell_type": "code",
   "execution_count": 1,
   "metadata": {
    "collapsed": true
   },
   "outputs": [],
   "source": [
    "import sys\n",
    "sys.path.append('../data_helpers/')\n",
    "sys.path.append('../statistics/')\n",
    "sys.path.append('../preprocess')\n",
    "sys.path.append('../cluster/')"
   ]
  },
  {
   "cell_type": "code",
   "execution_count": 2,
   "metadata": {
    "collapsed": false
   },
   "outputs": [
    {
     "name": "stderr",
     "output_type": "stream",
     "text": [
      "/Users/Howard/anaconda/envs/digestant/lib/python3.6/site-packages/nltk/twitter/__init__.py:20: UserWarning: The twython library has not been installed. Some functionality from the twitter package will not be available.\n",
      "  warnings.warn(\"The twython library has not been installed. \"\n"
     ]
    }
   ],
   "source": [
    "from twitter_data_helper import TwitterDataHelper\n",
    "from reddit_data_helper import RedditDataHelper\n",
    "from data_aggregator import DataAggregator\n",
    "from statistics_aggregator import StatisticsAggregator\n",
    "from text_cleaner import TextCleaner\n",
    "from lda_cluster import LDACluster\n",
    "from data_enhancer import DataOrganizer, SummarizeNER"
   ]
  },
  {
   "cell_type": "code",
   "execution_count": 3,
   "metadata": {
    "collapsed": false
   },
   "outputs": [],
   "source": [
    "import numpy as np\n",
    "import pandas as pd\n",
    "import json\n",
    "import pickle\n",
    "from time import time, sleep\n",
    "from tqdm import tqdm"
   ]
  },
  {
   "cell_type": "code",
   "execution_count": 4,
   "metadata": {
    "collapsed": false
   },
   "outputs": [
    {
     "name": "stdout",
     "output_type": "stream",
     "text": [
      "* [TextCleaner] Initializing...\n",
      "* [TextCleaner] Loading SpaCy \"en_core_web_md\" corpus...\n",
      "* [TextCleaner] Loading stopwords...\n",
      "* [TextCleaner] Loading sentinent words...\n",
      "--------------------------------------------------------------------------------------------------------------------\n"
     ]
    }
   ],
   "source": [
    "try:\n",
    "    if text_cleaner:\n",
    "        pass\n",
    "except:\n",
    "    from text_cleaner import TextCleaner\n",
    "    text_cleaner = TextCleaner(filter_sentiment_words=True)"
   ]
  },
  {
   "cell_type": "code",
   "execution_count": 5,
   "metadata": {
    "collapsed": true
   },
   "outputs": [],
   "source": [
    "from gensim.corpora import Dictionary"
   ]
  },
  {
   "cell_type": "markdown",
   "metadata": {},
   "source": [
    "### Get data"
   ]
  },
  {
   "cell_type": "code",
   "execution_count": 6,
   "metadata": {
    "collapsed": true
   },
   "outputs": [],
   "source": [
    "data_helper = DataAggregator()\n",
    "date_range = ['2017-08-25']\n",
    "df = data_helper.get_data(date_range=date_range)"
   ]
  },
  {
   "cell_type": "code",
   "execution_count": 7,
   "metadata": {
    "collapsed": false
   },
   "outputs": [
    {
     "data": {
      "text/plain": [
       "reddit    78\n",
       "Name: source, dtype: int64"
      ]
     },
     "execution_count": 7,
     "metadata": {},
     "output_type": "execute_result"
    }
   ],
   "source": [
    "df['source'].value_counts()"
   ]
  },
  {
   "cell_type": "code",
   "execution_count": 8,
   "metadata": {
    "collapsed": false,
    "scrolled": true
   },
   "outputs": [
    {
     "data": {
      "text/html": [
       "<div>\n",
       "<style>\n",
       "    .dataframe thead tr:only-child th {\n",
       "        text-align: right;\n",
       "    }\n",
       "\n",
       "    .dataframe thead th {\n",
       "        text-align: left;\n",
       "    }\n",
       "\n",
       "    .dataframe tbody tr th {\n",
       "        vertical-align: top;\n",
       "    }\n",
       "</style>\n",
       "<table border=\"1\" class=\"dataframe\">\n",
       "  <thead>\n",
       "    <tr style=\"text-align: right;\">\n",
       "      <th></th>\n",
       "      <th>source</th>\n",
       "      <th>created_at</th>\n",
       "      <th>author</th>\n",
       "      <th>text</th>\n",
       "      <th>url</th>\n",
       "    </tr>\n",
       "  </thead>\n",
       "  <tbody>\n",
       "    <tr>\n",
       "      <th>0</th>\n",
       "      <td>reddit</td>\n",
       "      <td>2017-08-25</td>\n",
       "      <td>MachineLearning | coolio777</td>\n",
       "      <td>[D] What value does Machine Learning have to a...</td>\n",
       "      <td>https://www.reddit.com/r/MachineLearning/comme...</td>\n",
       "    </tr>\n",
       "    <tr>\n",
       "      <th>1</th>\n",
       "      <td>reddit</td>\n",
       "      <td>2017-08-25</td>\n",
       "      <td>dataisbeautiful | snkn179</td>\n",
       "      <td>Variations in word usage throughout Australia</td>\n",
       "      <td>https://lingroadshow.com/resources/englishes-i...</td>\n",
       "    </tr>\n",
       "    <tr>\n",
       "      <th>2</th>\n",
       "      <td>reddit</td>\n",
       "      <td>2017-08-25</td>\n",
       "      <td>dataisbeautiful | AllSignalNoNoise</td>\n",
       "      <td>Flagship Smartphones Compared as of 05/2017 [OC]</td>\n",
       "      <td>https://public.tableau.com/shared/Z8SP5D8FJ?:d...</td>\n",
       "    </tr>\n",
       "    <tr>\n",
       "      <th>3</th>\n",
       "      <td>reddit</td>\n",
       "      <td>2017-08-25</td>\n",
       "      <td>dataisbeautiful | jeffreylancaster</td>\n",
       "      <td>An Interactive Game of Thrones Narrative Chart...</td>\n",
       "      <td>https://jeffreylancaster.github.io/game-of-thr...</td>\n",
       "    </tr>\n",
       "    <tr>\n",
       "      <th>4</th>\n",
       "      <td>reddit</td>\n",
       "      <td>2017-08-25</td>\n",
       "      <td>datascience | kuno83</td>\n",
       "      <td>Livestream at 6:30pm PDT: Using Scattertext an...</td>\n",
       "      <td>https://livestream.com/metis/events/7617460</td>\n",
       "    </tr>\n",
       "    <tr>\n",
       "      <th>5</th>\n",
       "      <td>reddit</td>\n",
       "      <td>2017-08-25</td>\n",
       "      <td>MachineLearning | ov3rsight</td>\n",
       "      <td>[D] Should I take a Machine Learning course in...</td>\n",
       "      <td>https://www.reddit.com/r/MachineLearning/comme...</td>\n",
       "    </tr>\n",
       "    <tr>\n",
       "      <th>6</th>\n",
       "      <td>reddit</td>\n",
       "      <td>2017-08-25</td>\n",
       "      <td>datascience | maxmoo</td>\n",
       "      <td>Are Data Scientists at Facebook really Data An...</td>\n",
       "      <td>https://www.reddit.com/r/datascience/comments/...</td>\n",
       "    </tr>\n",
       "    <tr>\n",
       "      <th>7</th>\n",
       "      <td>reddit</td>\n",
       "      <td>2017-08-25</td>\n",
       "      <td>dataisbeautiful | myDataTraining</td>\n",
       "      <td>\"Definitive\" Ranking of All Comics Adaptations...</td>\n",
       "      <td>https://public.tableau.com/views/DefinitiveRan...</td>\n",
       "    </tr>\n",
       "    <tr>\n",
       "      <th>8</th>\n",
       "      <td>reddit</td>\n",
       "      <td>2017-08-25</td>\n",
       "      <td>dataisbeautiful | MrGreyMan</td>\n",
       "      <td>Watch Hurricane Harvey in Real Time using WindMap</td>\n",
       "      <td>https://earth.nullschool.net/#current/wind/sur...</td>\n",
       "    </tr>\n",
       "    <tr>\n",
       "      <th>9</th>\n",
       "      <td>reddit</td>\n",
       "      <td>2017-08-25</td>\n",
       "      <td>dataisbeautiful | TarekVilela</td>\n",
       "      <td>17 groups, 10 pictures and guessing ages [OC]</td>\n",
       "      <td>https://i.redd.it/ke6cj0u00shz.png</td>\n",
       "    </tr>\n",
       "    <tr>\n",
       "      <th>10</th>\n",
       "      <td>reddit</td>\n",
       "      <td>2017-08-25</td>\n",
       "      <td>BigDataJobs | OCDevRec</td>\n",
       "      <td>[HIRING] MDM Customer Data Hub Architect - Fre...</td>\n",
       "      <td>https://www.reddit.com/r/BigDataJobs/comments/...</td>\n",
       "    </tr>\n",
       "    <tr>\n",
       "      <th>11</th>\n",
       "      <td>reddit</td>\n",
       "      <td>2017-08-25</td>\n",
       "      <td>MachineLearning | scottauds</td>\n",
       "      <td>[P] Analyzing Google Trends Data in R</td>\n",
       "      <td>https://www.displayr.com/extracting-google-tre...</td>\n",
       "    </tr>\n",
       "    <tr>\n",
       "      <th>12</th>\n",
       "      <td>reddit</td>\n",
       "      <td>2017-08-25</td>\n",
       "      <td>MachineLearning | yazriel0</td>\n",
       "      <td>[D] \"Learning to Navigate in Complex Environme...</td>\n",
       "      <td>https://www.reddit.com/r/MachineLearning/comme...</td>\n",
       "    </tr>\n",
       "    <tr>\n",
       "      <th>13</th>\n",
       "      <td>reddit</td>\n",
       "      <td>2017-08-25</td>\n",
       "      <td>dataisbeautiful | greatgooglymoogly143</td>\n",
       "      <td>desire for children still the norm</td>\n",
       "      <td>http://www.gallup.com/poll/164618/desire-child...</td>\n",
       "    </tr>\n",
       "    <tr>\n",
       "      <th>14</th>\n",
       "      <td>reddit</td>\n",
       "      <td>2017-08-25</td>\n",
       "      <td>MLjobs | djodom</td>\n",
       "      <td>Boulder AI: Hiring CV/ML/Embedded Engineer Bou...</td>\n",
       "      <td>https://www.reddit.com/r/MLjobs/comments/6vump...</td>\n",
       "    </tr>\n",
       "    <tr>\n",
       "      <th>15</th>\n",
       "      <td>reddit</td>\n",
       "      <td>2017-08-25</td>\n",
       "      <td>dataisbeautiful | hammertime84</td>\n",
       "      <td>Global Extreme Weather Costs [OC]</td>\n",
       "      <td>http://blog.cityprojections.com/2017/08/how-mu...</td>\n",
       "    </tr>\n",
       "    <tr>\n",
       "      <th>16</th>\n",
       "      <td>reddit</td>\n",
       "      <td>2017-08-25</td>\n",
       "      <td>datascience | adamrossnelson</td>\n",
       "      <td>Gifts That Data Scientists Give?</td>\n",
       "      <td>https://www.reddit.com/r/datascience/comments/...</td>\n",
       "    </tr>\n",
       "    <tr>\n",
       "      <th>17</th>\n",
       "      <td>reddit</td>\n",
       "      <td>2017-08-25</td>\n",
       "      <td>dataisbeautiful | northca</td>\n",
       "      <td>Size of US states by their economy and color c...</td>\n",
       "      <td>https://howmuch.net/articles/the-current-state...</td>\n",
       "    </tr>\n",
       "    <tr>\n",
       "      <th>18</th>\n",
       "      <td>reddit</td>\n",
       "      <td>2017-08-25</td>\n",
       "      <td>learnmachinelearning | real_pinocchio</td>\n",
       "      <td>How is it possible for the loss to converge bu...</td>\n",
       "      <td>https://www.quora.com/unanswered/How-is-it-pos...</td>\n",
       "    </tr>\n",
       "    <tr>\n",
       "      <th>19</th>\n",
       "      <td>reddit</td>\n",
       "      <td>2017-08-25</td>\n",
       "      <td>dataisbeautiful | dylantherabbit2016</td>\n",
       "      <td>Confederate monuments vs high school nonattain...</td>\n",
       "      <td>https://plot.ly/~1000goalgaming/3/</td>\n",
       "    </tr>\n",
       "    <tr>\n",
       "      <th>20</th>\n",
       "      <td>reddit</td>\n",
       "      <td>2017-08-25</td>\n",
       "      <td>dataisbeautiful | SupaFurry</td>\n",
       "      <td>Popular presidential approval/disapproval trac...</td>\n",
       "      <td>https://i.redd.it/058132cg6rhz.png</td>\n",
       "    </tr>\n",
       "    <tr>\n",
       "      <th>21</th>\n",
       "      <td>reddit</td>\n",
       "      <td>2017-08-25</td>\n",
       "      <td>datascience | garyernestdavis</td>\n",
       "      <td>Getting your hands dirty with data science</td>\n",
       "      <td>http://www.datascience.university/getting-your...</td>\n",
       "    </tr>\n",
       "    <tr>\n",
       "      <th>22</th>\n",
       "      <td>reddit</td>\n",
       "      <td>2017-08-25</td>\n",
       "      <td>dataisbeautiful | circuitloss</td>\n",
       "      <td>The Shape of Happiness: The Relationship Betwe...</td>\n",
       "      <td>https://www.washingtonpost.com/news/wonk/wp/20...</td>\n",
       "    </tr>\n",
       "    <tr>\n",
       "      <th>23</th>\n",
       "      <td>reddit</td>\n",
       "      <td>2017-08-25</td>\n",
       "      <td>learnmachinelearning | shuxuesheng</td>\n",
       "      <td>Detailed derivation of mean field variational ...</td>\n",
       "      <td>https://www.reddit.com/r/learnmachinelearning/...</td>\n",
       "    </tr>\n",
       "    <tr>\n",
       "      <th>24</th>\n",
       "      <td>reddit</td>\n",
       "      <td>2017-08-25</td>\n",
       "      <td>dataisbeautiful | VIII8</td>\n",
       "      <td>Most frequent paths of chess pieces giving mat...</td>\n",
       "      <td>https://i.redd.it/nd26yhalwqhz.png</td>\n",
       "    </tr>\n",
       "    <tr>\n",
       "      <th>25</th>\n",
       "      <td>reddit</td>\n",
       "      <td>2017-08-25</td>\n",
       "      <td>datascience | tmthyjames</td>\n",
       "      <td>SQLCell, A SQL magic command for Jupyter Noteb...</td>\n",
       "      <td>https://www.reddit.com/r/datascience/comments/...</td>\n",
       "    </tr>\n",
       "    <tr>\n",
       "      <th>26</th>\n",
       "      <td>reddit</td>\n",
       "      <td>2017-08-25</td>\n",
       "      <td>deeplearning | ranman96734</td>\n",
       "      <td>Deep Learning with MXNet livecoding on twitch</td>\n",
       "      <td>https://www.twitch.tv/aws</td>\n",
       "    </tr>\n",
       "    <tr>\n",
       "      <th>27</th>\n",
       "      <td>reddit</td>\n",
       "      <td>2017-08-25</td>\n",
       "      <td>dataisbeautiful | DijonPepperberry</td>\n",
       "      <td>Trump Approval Changes Over Time, by Party Ide...</td>\n",
       "      <td>http://imgur.com/a/MtWG0</td>\n",
       "    </tr>\n",
       "    <tr>\n",
       "      <th>28</th>\n",
       "      <td>reddit</td>\n",
       "      <td>2017-08-25</td>\n",
       "      <td>learnmachinelearning | ajexon</td>\n",
       "      <td>Python for Data Science and Machine Learning B...</td>\n",
       "      <td>https://hackernoon.com/python-for-data-science...</td>\n",
       "    </tr>\n",
       "    <tr>\n",
       "      <th>29</th>\n",
       "      <td>reddit</td>\n",
       "      <td>2017-08-25</td>\n",
       "      <td>dataisbeautiful | hinzee</td>\n",
       "      <td>Classroom Participation in Online Classes [OC]</td>\n",
       "      <td>http://nodatesjustdata.com/ParticipationRetent...</td>\n",
       "    </tr>\n",
       "    <tr>\n",
       "      <th>...</th>\n",
       "      <td>...</td>\n",
       "      <td>...</td>\n",
       "      <td>...</td>\n",
       "      <td>...</td>\n",
       "      <td>...</td>\n",
       "    </tr>\n",
       "    <tr>\n",
       "      <th>48</th>\n",
       "      <td>reddit</td>\n",
       "      <td>2017-08-25</td>\n",
       "      <td>MachineLearning | downtownslim</td>\n",
       "      <td>[R] Twin Networks: Using the Future as a Regul...</td>\n",
       "      <td>https://arxiv.org/abs/1708.06742</td>\n",
       "    </tr>\n",
       "    <tr>\n",
       "      <th>49</th>\n",
       "      <td>reddit</td>\n",
       "      <td>2017-08-25</td>\n",
       "      <td>datascience | ababytealeaf</td>\n",
       "      <td>Help! Biostatistics vs Data Science vs Informa...</td>\n",
       "      <td>https://www.reddit.com/r/datascience/comments/...</td>\n",
       "    </tr>\n",
       "    <tr>\n",
       "      <th>50</th>\n",
       "      <td>reddit</td>\n",
       "      <td>2017-08-25</td>\n",
       "      <td>dataisbeautiful | liarnalaporta</td>\n",
       "      <td>There are more than 140 attempts to access por...</td>\n",
       "      <td>https://www.wandera.com/blog/inappropriate-mob...</td>\n",
       "    </tr>\n",
       "    <tr>\n",
       "      <th>51</th>\n",
       "      <td>reddit</td>\n",
       "      <td>2017-08-25</td>\n",
       "      <td>dataisbeautiful | DataVizHokie</td>\n",
       "      <td>Twitter Analysis for #SolarEclipse2017 [OC]</td>\n",
       "      <td>https://public.tableau.com/profile/matt.wheele...</td>\n",
       "    </tr>\n",
       "    <tr>\n",
       "      <th>52</th>\n",
       "      <td>reddit</td>\n",
       "      <td>2017-08-25</td>\n",
       "      <td>MachineLearning | sargasticgujju</td>\n",
       "      <td>[P]Trying to implement Multiple ANFIS system. ...</td>\n",
       "      <td>https://www.reddit.com/r/MachineLearning/comme...</td>\n",
       "    </tr>\n",
       "    <tr>\n",
       "      <th>53</th>\n",
       "      <td>reddit</td>\n",
       "      <td>2017-08-25</td>\n",
       "      <td>BigDataJobs | mihir_kanzariya</td>\n",
       "      <td>How To Sack Top Big Data Jobs</td>\n",
       "      <td>http://www.technewsncareer.com/2017/06/how-to-...</td>\n",
       "    </tr>\n",
       "    <tr>\n",
       "      <th>54</th>\n",
       "      <td>reddit</td>\n",
       "      <td>2017-08-25</td>\n",
       "      <td>dataisbeautiful | ohjerry</td>\n",
       "      <td>Which college football teams are most often ov...</td>\n",
       "      <td>https://fivethirtyeight.com/features/which-col...</td>\n",
       "    </tr>\n",
       "    <tr>\n",
       "      <th>55</th>\n",
       "      <td>reddit</td>\n",
       "      <td>2017-08-25</td>\n",
       "      <td>dataisbeautiful | j_yazman</td>\n",
       "      <td>Examining FiveThirtyEight's Soccer Power Index...</td>\n",
       "      <td>https://i.redd.it/0w9n88wc2phz.png</td>\n",
       "    </tr>\n",
       "    <tr>\n",
       "      <th>56</th>\n",
       "      <td>reddit</td>\n",
       "      <td>2017-08-25</td>\n",
       "      <td>datascience | watchmemaemae</td>\n",
       "      <td>Columbia MS in Applied Analytics</td>\n",
       "      <td>https://www.reddit.com/r/datascience/comments/...</td>\n",
       "    </tr>\n",
       "    <tr>\n",
       "      <th>57</th>\n",
       "      <td>reddit</td>\n",
       "      <td>2017-08-25</td>\n",
       "      <td>dataisbeautiful | sgreen_datascientist</td>\n",
       "      <td>Can Trump control the media with Negative Twee...</td>\n",
       "      <td>http://greenanalytics.us/Data.Stories/Tweet.Tr...</td>\n",
       "    </tr>\n",
       "    <tr>\n",
       "      <th>58</th>\n",
       "      <td>reddit</td>\n",
       "      <td>2017-08-25</td>\n",
       "      <td>dataisbeautiful | MyNameIsStevenE</td>\n",
       "      <td>We analyzed 17 months of Fox &amp; Friends transcr...</td>\n",
       "      <td>https://www.vox.com/2017/8/7/16083122/breakfas...</td>\n",
       "    </tr>\n",
       "    <tr>\n",
       "      <th>59</th>\n",
       "      <td>reddit</td>\n",
       "      <td>2017-08-25</td>\n",
       "      <td>dataisbeautiful | Kiereek</td>\n",
       "      <td>This is How Canada Talks (A Series of Maps)</td>\n",
       "      <td>http://www.the10and3.com/this-is-how-canada-ta...</td>\n",
       "    </tr>\n",
       "    <tr>\n",
       "      <th>60</th>\n",
       "      <td>reddit</td>\n",
       "      <td>2017-08-25</td>\n",
       "      <td>MachineLearning | XalosXandrez</td>\n",
       "      <td>[D] CVPR tutorial on \"Mathematics of Deep Lear...</td>\n",
       "      <td>https://www.youtube.com/watch?v=Mdp9uC3gXUU</td>\n",
       "    </tr>\n",
       "    <tr>\n",
       "      <th>61</th>\n",
       "      <td>reddit</td>\n",
       "      <td>2017-08-25</td>\n",
       "      <td>dataisbeautiful | someguy235</td>\n",
       "      <td>US traffic for the 24 hours around Monday's to...</td>\n",
       "      <td>http://i.imgur.com/YWCA76v.gif</td>\n",
       "    </tr>\n",
       "    <tr>\n",
       "      <th>62</th>\n",
       "      <td>reddit</td>\n",
       "      <td>2017-08-25</td>\n",
       "      <td>LanguageTechnology | not_the_irrelevant</td>\n",
       "      <td>need help with project.</td>\n",
       "      <td>https://www.reddit.com/r/LanguageTechnology/co...</td>\n",
       "    </tr>\n",
       "    <tr>\n",
       "      <th>63</th>\n",
       "      <td>reddit</td>\n",
       "      <td>2017-08-25</td>\n",
       "      <td>dataisbeautiful | GemmaJ123</td>\n",
       "      <td>Mapping the sentiment of tweets during a socce...</td>\n",
       "      <td>https://www.brandwatch.com/blog/react-soccer-d...</td>\n",
       "    </tr>\n",
       "    <tr>\n",
       "      <th>64</th>\n",
       "      <td>reddit</td>\n",
       "      <td>2017-08-25</td>\n",
       "      <td>dataisbeautiful | thistokenusername</td>\n",
       "      <td>Representation of college freshman by racial i...</td>\n",
       "      <td>https://www.nytimes.com/interactive/2017/08/24...</td>\n",
       "    </tr>\n",
       "    <tr>\n",
       "      <th>65</th>\n",
       "      <td>reddit</td>\n",
       "      <td>2017-08-25</td>\n",
       "      <td>dataisbeautiful | OverflowDs</td>\n",
       "      <td>How Much Climate Change Will Cost Each U.S. Co...</td>\n",
       "      <td>http://www.governing.com/topics/transportation...</td>\n",
       "    </tr>\n",
       "    <tr>\n",
       "      <th>66</th>\n",
       "      <td>reddit</td>\n",
       "      <td>2017-08-25</td>\n",
       "      <td>learnmachinelearning | adityac8</td>\n",
       "      <td>Floydhub Documentation- A cloud platform to ru...</td>\n",
       "      <td>https://code4cx.github.io/floydhub-documentati...</td>\n",
       "    </tr>\n",
       "    <tr>\n",
       "      <th>67</th>\n",
       "      <td>reddit</td>\n",
       "      <td>2017-08-25</td>\n",
       "      <td>dataisbeautiful | datashown</td>\n",
       "      <td>Presidents of the United States by Party [OC]</td>\n",
       "      <td>https://i.redd.it/cdv469daeohz.png</td>\n",
       "    </tr>\n",
       "    <tr>\n",
       "      <th>68</th>\n",
       "      <td>reddit</td>\n",
       "      <td>2017-08-25</td>\n",
       "      <td>dataisbeautiful | jimrosenz</td>\n",
       "      <td>US gender wage gap at 10th, 50th and 90th perc...</td>\n",
       "      <td>https://utopiayouarestandinginit.com/2015/10/2...</td>\n",
       "    </tr>\n",
       "    <tr>\n",
       "      <th>69</th>\n",
       "      <td>reddit</td>\n",
       "      <td>2017-08-25</td>\n",
       "      <td>dataisbeautiful | milamiso</td>\n",
       "      <td>How Long Do U.S. Presidents Live? [OC]</td>\n",
       "      <td>http://imgur.com/x6ZntdI</td>\n",
       "    </tr>\n",
       "    <tr>\n",
       "      <th>70</th>\n",
       "      <td>reddit</td>\n",
       "      <td>2017-08-25</td>\n",
       "      <td>dataisbeautiful | TheFlyingMunkey</td>\n",
       "      <td>UK Milk Prices - farmgate price (pence per lit...</td>\n",
       "      <td>https://i.redd.it/vxx2alcu6ohz.png</td>\n",
       "    </tr>\n",
       "    <tr>\n",
       "      <th>71</th>\n",
       "      <td>reddit</td>\n",
       "      <td>2017-08-25</td>\n",
       "      <td>dataisbeautiful | madewulf</td>\n",
       "      <td>Animated world population 1950-2100. [OC]</td>\n",
       "      <td>https://i.redd.it/ga9btbblynhz.gif</td>\n",
       "    </tr>\n",
       "    <tr>\n",
       "      <th>72</th>\n",
       "      <td>reddit</td>\n",
       "      <td>2017-08-25</td>\n",
       "      <td>dataisbeautiful | MilliwaysRestaurant</td>\n",
       "      <td>Irish Leaving Certificate, Simulation of old s...</td>\n",
       "      <td>http://vey.ie/2017/08/23/New-Leaving-Cert.html</td>\n",
       "    </tr>\n",
       "    <tr>\n",
       "      <th>73</th>\n",
       "      <td>reddit</td>\n",
       "      <td>2017-08-25</td>\n",
       "      <td>dataisbeautiful | Tjukanov</td>\n",
       "      <td>All the roads and nothing but the roads [OC]</td>\n",
       "      <td>https://i.redd.it/fziffv2qjnhz.jpg</td>\n",
       "    </tr>\n",
       "    <tr>\n",
       "      <th>74</th>\n",
       "      <td>reddit</td>\n",
       "      <td>2017-08-25</td>\n",
       "      <td>dataisbeautiful | squarecoinman</td>\n",
       "      <td>Karma date for posts submitted to r/gofundme t...</td>\n",
       "      <td>https://i.redd.it/krucrh7ognhz.jpg</td>\n",
       "    </tr>\n",
       "    <tr>\n",
       "      <th>75</th>\n",
       "      <td>reddit</td>\n",
       "      <td>2017-08-25</td>\n",
       "      <td>MachineLearning | erogol</td>\n",
       "      <td>[D] Andrew Ng's \"Structuring a ML Project\" sum...</td>\n",
       "      <td>https://medium.com/@erogol/designing-a-deep-le...</td>\n",
       "    </tr>\n",
       "    <tr>\n",
       "      <th>76</th>\n",
       "      <td>reddit</td>\n",
       "      <td>2017-08-25</td>\n",
       "      <td>dataisbeautiful | moklick</td>\n",
       "      <td>Visualisation of all 2559 direct candidates of...</td>\n",
       "      <td>https://interaktiv.morgenpost.de/kandidaten-bu...</td>\n",
       "    </tr>\n",
       "    <tr>\n",
       "      <th>77</th>\n",
       "      <td>reddit</td>\n",
       "      <td>2017-08-25</td>\n",
       "      <td>CompressiveSensing | compsens</td>\n",
       "      <td>Towards a Deeper Understanding of Training Qua...</td>\n",
       "      <td>http://nuit-blanche.blogspot.com/2017/08/towar...</td>\n",
       "    </tr>\n",
       "  </tbody>\n",
       "</table>\n",
       "<p>78 rows × 5 columns</p>\n",
       "</div>"
      ],
      "text/plain": [
       "    source  created_at                                   author  \\\n",
       "0   reddit  2017-08-25              MachineLearning | coolio777   \n",
       "1   reddit  2017-08-25                dataisbeautiful | snkn179   \n",
       "2   reddit  2017-08-25       dataisbeautiful | AllSignalNoNoise   \n",
       "3   reddit  2017-08-25       dataisbeautiful | jeffreylancaster   \n",
       "4   reddit  2017-08-25                     datascience | kuno83   \n",
       "5   reddit  2017-08-25              MachineLearning | ov3rsight   \n",
       "6   reddit  2017-08-25                     datascience | maxmoo   \n",
       "7   reddit  2017-08-25         dataisbeautiful | myDataTraining   \n",
       "8   reddit  2017-08-25              dataisbeautiful | MrGreyMan   \n",
       "9   reddit  2017-08-25            dataisbeautiful | TarekVilela   \n",
       "10  reddit  2017-08-25                   BigDataJobs | OCDevRec   \n",
       "11  reddit  2017-08-25              MachineLearning | scottauds   \n",
       "12  reddit  2017-08-25               MachineLearning | yazriel0   \n",
       "13  reddit  2017-08-25   dataisbeautiful | greatgooglymoogly143   \n",
       "14  reddit  2017-08-25                          MLjobs | djodom   \n",
       "15  reddit  2017-08-25           dataisbeautiful | hammertime84   \n",
       "16  reddit  2017-08-25             datascience | adamrossnelson   \n",
       "17  reddit  2017-08-25                dataisbeautiful | northca   \n",
       "18  reddit  2017-08-25    learnmachinelearning | real_pinocchio   \n",
       "19  reddit  2017-08-25     dataisbeautiful | dylantherabbit2016   \n",
       "20  reddit  2017-08-25              dataisbeautiful | SupaFurry   \n",
       "21  reddit  2017-08-25            datascience | garyernestdavis   \n",
       "22  reddit  2017-08-25            dataisbeautiful | circuitloss   \n",
       "23  reddit  2017-08-25       learnmachinelearning | shuxuesheng   \n",
       "24  reddit  2017-08-25                  dataisbeautiful | VIII8   \n",
       "25  reddit  2017-08-25                 datascience | tmthyjames   \n",
       "26  reddit  2017-08-25               deeplearning | ranman96734   \n",
       "27  reddit  2017-08-25       dataisbeautiful | DijonPepperberry   \n",
       "28  reddit  2017-08-25            learnmachinelearning | ajexon   \n",
       "29  reddit  2017-08-25                 dataisbeautiful | hinzee   \n",
       "..     ...         ...                                      ...   \n",
       "48  reddit  2017-08-25           MachineLearning | downtownslim   \n",
       "49  reddit  2017-08-25               datascience | ababytealeaf   \n",
       "50  reddit  2017-08-25          dataisbeautiful | liarnalaporta   \n",
       "51  reddit  2017-08-25           dataisbeautiful | DataVizHokie   \n",
       "52  reddit  2017-08-25         MachineLearning | sargasticgujju   \n",
       "53  reddit  2017-08-25            BigDataJobs | mihir_kanzariya   \n",
       "54  reddit  2017-08-25                dataisbeautiful | ohjerry   \n",
       "55  reddit  2017-08-25               dataisbeautiful | j_yazman   \n",
       "56  reddit  2017-08-25              datascience | watchmemaemae   \n",
       "57  reddit  2017-08-25   dataisbeautiful | sgreen_datascientist   \n",
       "58  reddit  2017-08-25        dataisbeautiful | MyNameIsStevenE   \n",
       "59  reddit  2017-08-25                dataisbeautiful | Kiereek   \n",
       "60  reddit  2017-08-25           MachineLearning | XalosXandrez   \n",
       "61  reddit  2017-08-25             dataisbeautiful | someguy235   \n",
       "62  reddit  2017-08-25  LanguageTechnology | not_the_irrelevant   \n",
       "63  reddit  2017-08-25              dataisbeautiful | GemmaJ123   \n",
       "64  reddit  2017-08-25      dataisbeautiful | thistokenusername   \n",
       "65  reddit  2017-08-25             dataisbeautiful | OverflowDs   \n",
       "66  reddit  2017-08-25          learnmachinelearning | adityac8   \n",
       "67  reddit  2017-08-25              dataisbeautiful | datashown   \n",
       "68  reddit  2017-08-25              dataisbeautiful | jimrosenz   \n",
       "69  reddit  2017-08-25               dataisbeautiful | milamiso   \n",
       "70  reddit  2017-08-25        dataisbeautiful | TheFlyingMunkey   \n",
       "71  reddit  2017-08-25               dataisbeautiful | madewulf   \n",
       "72  reddit  2017-08-25    dataisbeautiful | MilliwaysRestaurant   \n",
       "73  reddit  2017-08-25               dataisbeautiful | Tjukanov   \n",
       "74  reddit  2017-08-25          dataisbeautiful | squarecoinman   \n",
       "75  reddit  2017-08-25                 MachineLearning | erogol   \n",
       "76  reddit  2017-08-25                dataisbeautiful | moklick   \n",
       "77  reddit  2017-08-25            CompressiveSensing | compsens   \n",
       "\n",
       "                                                 text  \\\n",
       "0   [D] What value does Machine Learning have to a...   \n",
       "1       Variations in word usage throughout Australia   \n",
       "2    Flagship Smartphones Compared as of 05/2017 [OC]   \n",
       "3   An Interactive Game of Thrones Narrative Chart...   \n",
       "4   Livestream at 6:30pm PDT: Using Scattertext an...   \n",
       "5   [D] Should I take a Machine Learning course in...   \n",
       "6   Are Data Scientists at Facebook really Data An...   \n",
       "7   \"Definitive\" Ranking of All Comics Adaptations...   \n",
       "8   Watch Hurricane Harvey in Real Time using WindMap   \n",
       "9       17 groups, 10 pictures and guessing ages [OC]   \n",
       "10  [HIRING] MDM Customer Data Hub Architect - Fre...   \n",
       "11              [P] Analyzing Google Trends Data in R   \n",
       "12  [D] \"Learning to Navigate in Complex Environme...   \n",
       "13                 desire for children still the norm   \n",
       "14  Boulder AI: Hiring CV/ML/Embedded Engineer Bou...   \n",
       "15                  Global Extreme Weather Costs [OC]   \n",
       "16                   Gifts That Data Scientists Give?   \n",
       "17  Size of US states by their economy and color c...   \n",
       "18  How is it possible for the loss to converge bu...   \n",
       "19  Confederate monuments vs high school nonattain...   \n",
       "20  Popular presidential approval/disapproval trac...   \n",
       "21         Getting your hands dirty with data science   \n",
       "22  The Shape of Happiness: The Relationship Betwe...   \n",
       "23  Detailed derivation of mean field variational ...   \n",
       "24  Most frequent paths of chess pieces giving mat...   \n",
       "25  SQLCell, A SQL magic command for Jupyter Noteb...   \n",
       "26      Deep Learning with MXNet livecoding on twitch   \n",
       "27  Trump Approval Changes Over Time, by Party Ide...   \n",
       "28  Python for Data Science and Machine Learning B...   \n",
       "29     Classroom Participation in Online Classes [OC]   \n",
       "..                                                ...   \n",
       "48  [R] Twin Networks: Using the Future as a Regul...   \n",
       "49  Help! Biostatistics vs Data Science vs Informa...   \n",
       "50  There are more than 140 attempts to access por...   \n",
       "51        Twitter Analysis for #SolarEclipse2017 [OC]   \n",
       "52  [P]Trying to implement Multiple ANFIS system. ...   \n",
       "53                      How To Sack Top Big Data Jobs   \n",
       "54  Which college football teams are most often ov...   \n",
       "55  Examining FiveThirtyEight's Soccer Power Index...   \n",
       "56                   Columbia MS in Applied Analytics   \n",
       "57  Can Trump control the media with Negative Twee...   \n",
       "58  We analyzed 17 months of Fox & Friends transcr...   \n",
       "59        This is How Canada Talks (A Series of Maps)   \n",
       "60  [D] CVPR tutorial on \"Mathematics of Deep Lear...   \n",
       "61  US traffic for the 24 hours around Monday's to...   \n",
       "62                            need help with project.   \n",
       "63  Mapping the sentiment of tweets during a socce...   \n",
       "64  Representation of college freshman by racial i...   \n",
       "65  How Much Climate Change Will Cost Each U.S. Co...   \n",
       "66  Floydhub Documentation- A cloud platform to ru...   \n",
       "67      Presidents of the United States by Party [OC]   \n",
       "68  US gender wage gap at 10th, 50th and 90th perc...   \n",
       "69             How Long Do U.S. Presidents Live? [OC]   \n",
       "70  UK Milk Prices - farmgate price (pence per lit...   \n",
       "71          Animated world population 1950-2100. [OC]   \n",
       "72  Irish Leaving Certificate, Simulation of old s...   \n",
       "73       All the roads and nothing but the roads [OC]   \n",
       "74  Karma date for posts submitted to r/gofundme t...   \n",
       "75  [D] Andrew Ng's \"Structuring a ML Project\" sum...   \n",
       "76  Visualisation of all 2559 direct candidates of...   \n",
       "77  Towards a Deeper Understanding of Training Qua...   \n",
       "\n",
       "                                                  url  \n",
       "0   https://www.reddit.com/r/MachineLearning/comme...  \n",
       "1   https://lingroadshow.com/resources/englishes-i...  \n",
       "2   https://public.tableau.com/shared/Z8SP5D8FJ?:d...  \n",
       "3   https://jeffreylancaster.github.io/game-of-thr...  \n",
       "4         https://livestream.com/metis/events/7617460  \n",
       "5   https://www.reddit.com/r/MachineLearning/comme...  \n",
       "6   https://www.reddit.com/r/datascience/comments/...  \n",
       "7   https://public.tableau.com/views/DefinitiveRan...  \n",
       "8   https://earth.nullschool.net/#current/wind/sur...  \n",
       "9                  https://i.redd.it/ke6cj0u00shz.png  \n",
       "10  https://www.reddit.com/r/BigDataJobs/comments/...  \n",
       "11  https://www.displayr.com/extracting-google-tre...  \n",
       "12  https://www.reddit.com/r/MachineLearning/comme...  \n",
       "13  http://www.gallup.com/poll/164618/desire-child...  \n",
       "14  https://www.reddit.com/r/MLjobs/comments/6vump...  \n",
       "15  http://blog.cityprojections.com/2017/08/how-mu...  \n",
       "16  https://www.reddit.com/r/datascience/comments/...  \n",
       "17  https://howmuch.net/articles/the-current-state...  \n",
       "18  https://www.quora.com/unanswered/How-is-it-pos...  \n",
       "19                 https://plot.ly/~1000goalgaming/3/  \n",
       "20                 https://i.redd.it/058132cg6rhz.png  \n",
       "21  http://www.datascience.university/getting-your...  \n",
       "22  https://www.washingtonpost.com/news/wonk/wp/20...  \n",
       "23  https://www.reddit.com/r/learnmachinelearning/...  \n",
       "24                 https://i.redd.it/nd26yhalwqhz.png  \n",
       "25  https://www.reddit.com/r/datascience/comments/...  \n",
       "26                          https://www.twitch.tv/aws  \n",
       "27                           http://imgur.com/a/MtWG0  \n",
       "28  https://hackernoon.com/python-for-data-science...  \n",
       "29  http://nodatesjustdata.com/ParticipationRetent...  \n",
       "..                                                ...  \n",
       "48                   https://arxiv.org/abs/1708.06742  \n",
       "49  https://www.reddit.com/r/datascience/comments/...  \n",
       "50  https://www.wandera.com/blog/inappropriate-mob...  \n",
       "51  https://public.tableau.com/profile/matt.wheele...  \n",
       "52  https://www.reddit.com/r/MachineLearning/comme...  \n",
       "53  http://www.technewsncareer.com/2017/06/how-to-...  \n",
       "54  https://fivethirtyeight.com/features/which-col...  \n",
       "55                 https://i.redd.it/0w9n88wc2phz.png  \n",
       "56  https://www.reddit.com/r/datascience/comments/...  \n",
       "57  http://greenanalytics.us/Data.Stories/Tweet.Tr...  \n",
       "58  https://www.vox.com/2017/8/7/16083122/breakfas...  \n",
       "59  http://www.the10and3.com/this-is-how-canada-ta...  \n",
       "60        https://www.youtube.com/watch?v=Mdp9uC3gXUU  \n",
       "61                     http://i.imgur.com/YWCA76v.gif  \n",
       "62  https://www.reddit.com/r/LanguageTechnology/co...  \n",
       "63  https://www.brandwatch.com/blog/react-soccer-d...  \n",
       "64  https://www.nytimes.com/interactive/2017/08/24...  \n",
       "65  http://www.governing.com/topics/transportation...  \n",
       "66  https://code4cx.github.io/floydhub-documentati...  \n",
       "67                 https://i.redd.it/cdv469daeohz.png  \n",
       "68  https://utopiayouarestandinginit.com/2015/10/2...  \n",
       "69                           http://imgur.com/x6ZntdI  \n",
       "70                 https://i.redd.it/vxx2alcu6ohz.png  \n",
       "71                 https://i.redd.it/ga9btbblynhz.gif  \n",
       "72     http://vey.ie/2017/08/23/New-Leaving-Cert.html  \n",
       "73                 https://i.redd.it/fziffv2qjnhz.jpg  \n",
       "74                 https://i.redd.it/krucrh7ognhz.jpg  \n",
       "75  https://medium.com/@erogol/designing-a-deep-le...  \n",
       "76  https://interaktiv.morgenpost.de/kandidaten-bu...  \n",
       "77  http://nuit-blanche.blogspot.com/2017/08/towar...  \n",
       "\n",
       "[78 rows x 5 columns]"
      ]
     },
     "execution_count": 8,
     "metadata": {},
     "output_type": "execute_result"
    }
   ],
   "source": [
    "df[['source', 'created_at', 'author', 'text', 'url']]"
   ]
  },
  {
   "cell_type": "markdown",
   "metadata": {},
   "source": [
    "### Clean text"
   ]
  },
  {
   "cell_type": "code",
   "execution_count": 9,
   "metadata": {
    "collapsed": true
   },
   "outputs": [],
   "source": [
    "texts = df['text']"
   ]
  },
  {
   "cell_type": "code",
   "execution_count": 28,
   "metadata": {
    "collapsed": false
   },
   "outputs": [
    {
     "name": "stderr",
     "output_type": "stream",
     "text": [
      "78it [00:00, 980.05it/s]"
     ]
    },
    {
     "name": "stdout",
     "output_type": "stream",
     "text": [
      "* [TextCleaner] Cleaning text...\n"
     ]
    },
    {
     "name": "stderr",
     "output_type": "stream",
     "text": [
      "\n"
     ]
    }
   ],
   "source": [
    "text_cleaner.token_blacklist.append('oc')\n",
    "docs = text_cleaner.clean(texts)"
   ]
  },
  {
   "cell_type": "markdown",
   "metadata": {},
   "source": [
    "### Word Cloud (Show Top K words)\n",
    "- K = vocabulary numbers / 2"
   ]
  },
  {
   "cell_type": "code",
   "execution_count": 29,
   "metadata": {
    "collapsed": false
   },
   "outputs": [],
   "source": [
    "from gensim.corpora import Dictionary\n",
    "vocab = Dictionary(docs)\n",
    "\n",
    "from wordcloud import WordCloud\n",
    "wordcloud = WordCloud(max_words=int(len(vocab)*0.5), background_color='white', width=600, height=300, max_font_size=50).generate(' '.join([' '.join(doc) for doc in docs]))"
   ]
  },
  {
   "cell_type": "code",
   "execution_count": 30,
   "metadata": {
    "collapsed": false
   },
   "outputs": [
    {
     "data": {
      "text/plain": [
       "(-0.5, 599.5, 299.5, -0.5)"
      ]
     },
     "execution_count": 30,
     "metadata": {},
     "output_type": "execute_result"
    },
    {
     "data": {
      "image/png": "[encoded data removed]",
      "text/plain": [
       "<matplotlib.figure.Figure at 0x16afb9240>"
      ]
     },
     "metadata": {},
     "output_type": "display_data"
    }
   ],
   "source": [
    "import matplotlib.pyplot as plt\n",
    "%matplotlib inline\n",
    "\n",
    "plt.imshow(wordcloud, interpolation='bilinear')\n",
    "plt.axis(\"off\")"
   ]
  },
  {
   "cell_type": "markdown",
   "metadata": {},
   "source": [
    "## LDA - Topic Clustering"
   ]
  },
  {
   "cell_type": "code",
   "execution_count": 31,
   "metadata": {
    "collapsed": false,
    "scrolled": true
   },
   "outputs": [
    {
     "name": "stdout",
     "output_type": "stream",
     "text": [
      "* [LDA] Training model...\n"
     ]
    },
    {
     "data": {
      "text/plain": [
       "[(0,\n",
       "  '0.029*\"data\" + 0.021*\"analysis\" + 0.015*\"learning\" + 0.014*\"deep\" + 0.014*\"science\" + 0.013*\"age\" + 0.013*\"help\" + 0.013*\"datum\" + 0.012*\"twitter\" + 0.012*\"day\"'),\n",
       " (1,\n",
       "  '0.028*\"system\" + 0.026*\"data\" + 0.019*\"deep\" + 0.018*\"science\" + 0.017*\"vs\" + 0.017*\"game\" + 0.015*\"analysis\" + 0.015*\"learn\" + 0.015*\"color\" + 0.014*\"mxnet\"'),\n",
       " (2,\n",
       "  '0.022*\"road\" + 0.021*\"data\" + 0.016*\"learning\" + 0.015*\"science\" + 0.015*\"machine\" + 0.014*\"python\" + 0.013*\"game\" + 0.013*\"us\" + 0.013*\"run\" + 0.012*\"system\"'),\n",
       " (3,\n",
       "  '0.022*\"data\" + 0.018*\"deep\" + 0.017*\"vs\" + 0.016*\"networks\" + 0.016*\"neural\" + 0.012*\"learning\" + 0.011*\"science\" + 0.011*\"machine\" + 0.010*\"use\" + 0.010*\"python\"'),\n",
       " (4,\n",
       "  '0.040*\"data\" + 0.018*\"high\" + 0.017*\"give\" + 0.017*\"career\" + 0.017*\"structure\" + 0.017*\"proportion\" + 0.013*\"learning\" + 0.012*\"deep\" + 0.011*\"age\" + 0.011*\"analyze\"'),\n",
       " (5,\n",
       "  '0.025*\"run\" + 0.018*\"vs\" + 0.017*\"ml\" + 0.017*\"state\" + 0.016*\"change\" + 0.016*\"soccer\" + 0.016*\"boulder\" + 0.016*\"map\" + 0.010*\"analyze\" + 0.010*\"datum\"'),\n",
       " (6,\n",
       "  '0.025*\"data\" + 0.016*\"use\" + 0.016*\"analyze\" + 0.015*\"networks\" + 0.015*\"president\" + 0.015*\"day\" + 0.014*\"councils\" + 0.014*\"live\" + 0.014*\"rise\" + 0.014*\"long\"'),\n",
       " (7,\n",
       "  '0.023*\"use\" + 0.020*\"time\" + 0.013*\"python\" + 0.013*\"age\" + 0.013*\"help\" + 0.013*\"us\" + 0.012*\"need\" + 0.012*\"party\" + 0.012*\"draw\" + 0.012*\"poll\"'),\n",
       " (8,\n",
       "  '0.027*\"college\" + 0.018*\"machine\" + 0.015*\"poll\" + 0.015*\"year\" + 0.015*\"learn\" + 0.014*\"freshman\" + 0.014*\"train\" + 0.014*\"identity\" + 0.014*\"factorization\" + 0.014*\"often\"'),\n",
       " (9,\n",
       "  '0.024*\"learning\" + 0.022*\"machine\" + 0.018*\"analytics\" + 0.018*\"norm\" + 0.017*\"tracker\" + 0.017*\"child\" + 0.017*\"probable\" + 0.017*\"desire\" + 0.017*\"reason\" + 0.017*\"still\"')]"
      ]
     },
     "execution_count": 31,
     "metadata": {},
     "output_type": "execute_result"
    }
   ],
   "source": [
    "cluster = LDACluster(num_topics=10)\n",
    "cluster.fit(docs)\n",
    "cluster.model.print_topics()"
   ]
  },
  {
   "cell_type": "markdown",
   "metadata": {},
   "source": [
    "### Topic distribution"
   ]
  },
  {
   "cell_type": "code",
   "execution_count": 14,
   "metadata": {
    "collapsed": false,
    "scrolled": true
   },
   "outputs": [
    {
     "data": {
      "text/plain": [
       "6    15\n",
       "0    11\n",
       "4    10\n",
       "8     9\n",
       "1     8\n",
       "3     7\n",
       "9     6\n",
       "7     5\n",
       "5     4\n",
       "2     3\n",
       "Name: cluster, dtype: int64"
      ]
     },
     "execution_count": 14,
     "metadata": {},
     "output_type": "execute_result"
    }
   ],
   "source": [
    "df['cluster'] = cluster.labels\n",
    "df['cluster'].value_counts()"
   ]
  },
  {
   "cell_type": "markdown",
   "metadata": {
    "collapsed": true
   },
   "source": [
    "### Post type distribution"
   ]
  },
  {
   "cell_type": "code",
   "execution_count": 34,
   "metadata": {
    "collapsed": true
   },
   "outputs": [],
   "source": [
    "stats_helper = StatisticsAggregator(df)\n",
    "sdf = stats_helper.get_stats()"
   ]
  },
  {
   "cell_type": "code",
   "execution_count": 35,
   "metadata": {
    "collapsed": false
   },
   "outputs": [
    {
     "data": {
      "text/plain": [
       "unknown link                          30\n",
       "image                                 15\n",
       "subreddit: /r/datascience              6\n",
       "blog                                   5\n",
       "subreddit: /r/MachineLearning          5\n",
       "subreddit: /r/learnmachinelearning     3\n",
       "code                                   3\n",
       "news                                   2\n",
       "tutorial                               2\n",
       "twitter status                         1\n",
       "social-media                           1\n",
       "subreddit: /r/LanguageTechnology       1\n",
       "paper                                  1\n",
       "subreddit: /r/MLjobs                   1\n",
       "subreddit: /r/BigDataJobs              1\n",
       "subreddit: /r/computervision           1\n",
       "Name: type, dtype: int64"
      ]
     },
     "execution_count": 35,
     "metadata": {},
     "output_type": "execute_result"
    }
   ],
   "source": [
    "sdf['type'].value_counts()"
   ]
  },
  {
   "cell_type": "markdown",
   "metadata": {},
   "source": [
    "### Cross relation between post type and post sentiment"
   ]
  },
  {
   "cell_type": "code",
   "execution_count": 36,
   "metadata": {
    "collapsed": false
   },
   "outputs": [
    {
     "data": {
      "text/html": [
       "<div>\n",
       "<style>\n",
       "    .dataframe thead tr:only-child th {\n",
       "        text-align: right;\n",
       "    }\n",
       "\n",
       "    .dataframe thead th {\n",
       "        text-align: left;\n",
       "    }\n",
       "\n",
       "    .dataframe tbody tr th {\n",
       "        vertical-align: top;\n",
       "    }\n",
       "</style>\n",
       "<table border=\"1\" class=\"dataframe\">\n",
       "  <thead>\n",
       "    <tr style=\"text-align: right;\">\n",
       "      <th>sentiment</th>\n",
       "      <th>neu</th>\n",
       "    </tr>\n",
       "    <tr>\n",
       "      <th>type</th>\n",
       "      <th></th>\n",
       "    </tr>\n",
       "  </thead>\n",
       "  <tbody>\n",
       "    <tr>\n",
       "      <th>blog</th>\n",
       "      <td>5</td>\n",
       "    </tr>\n",
       "    <tr>\n",
       "      <th>code</th>\n",
       "      <td>3</td>\n",
       "    </tr>\n",
       "    <tr>\n",
       "      <th>image</th>\n",
       "      <td>15</td>\n",
       "    </tr>\n",
       "    <tr>\n",
       "      <th>news</th>\n",
       "      <td>2</td>\n",
       "    </tr>\n",
       "    <tr>\n",
       "      <th>paper</th>\n",
       "      <td>1</td>\n",
       "    </tr>\n",
       "    <tr>\n",
       "      <th>social-media</th>\n",
       "      <td>1</td>\n",
       "    </tr>\n",
       "    <tr>\n",
       "      <th>subreddit: /r/BigDataJobs</th>\n",
       "      <td>1</td>\n",
       "    </tr>\n",
       "    <tr>\n",
       "      <th>subreddit: /r/LanguageTechnology</th>\n",
       "      <td>1</td>\n",
       "    </tr>\n",
       "    <tr>\n",
       "      <th>subreddit: /r/MLjobs</th>\n",
       "      <td>1</td>\n",
       "    </tr>\n",
       "    <tr>\n",
       "      <th>subreddit: /r/MachineLearning</th>\n",
       "      <td>5</td>\n",
       "    </tr>\n",
       "    <tr>\n",
       "      <th>subreddit: /r/computervision</th>\n",
       "      <td>1</td>\n",
       "    </tr>\n",
       "    <tr>\n",
       "      <th>subreddit: /r/datascience</th>\n",
       "      <td>6</td>\n",
       "    </tr>\n",
       "    <tr>\n",
       "      <th>subreddit: /r/learnmachinelearning</th>\n",
       "      <td>3</td>\n",
       "    </tr>\n",
       "    <tr>\n",
       "      <th>tutorial</th>\n",
       "      <td>2</td>\n",
       "    </tr>\n",
       "    <tr>\n",
       "      <th>twitter status</th>\n",
       "      <td>1</td>\n",
       "    </tr>\n",
       "    <tr>\n",
       "      <th>unknown link</th>\n",
       "      <td>30</td>\n",
       "    </tr>\n",
       "  </tbody>\n",
       "</table>\n",
       "</div>"
      ],
      "text/plain": [
       "sentiment                           neu\n",
       "type                                   \n",
       "blog                                  5\n",
       "code                                  3\n",
       "image                                15\n",
       "news                                  2\n",
       "paper                                 1\n",
       "social-media                          1\n",
       "subreddit: /r/BigDataJobs             1\n",
       "subreddit: /r/LanguageTechnology      1\n",
       "subreddit: /r/MLjobs                  1\n",
       "subreddit: /r/MachineLearning         5\n",
       "subreddit: /r/computervision          1\n",
       "subreddit: /r/datascience             6\n",
       "subreddit: /r/learnmachinelearning    3\n",
       "tutorial                              2\n",
       "twitter status                        1\n",
       "unknown link                         30"
      ]
     },
     "execution_count": 36,
     "metadata": {},
     "output_type": "execute_result"
    }
   ],
   "source": [
    "pd.crosstab(sdf.type,sdf.sentiment)"
   ]
  },
  {
   "cell_type": "markdown",
   "metadata": {},
   "source": [
    "### Blog"
   ]
  },
  {
   "cell_type": "code",
   "execution_count": 37,
   "metadata": {
    "collapsed": false,
    "scrolled": true
   },
   "outputs": [
    {
     "name": "stdout",
     "output_type": "stream",
     "text": [
      "* Date: 2017-08-25\n",
      "* Text: [D] Andrew Ng's \"Structuring a ML Project\" summary in a diagram\n",
      "* Link: https://medium.com/@erogol/designing-a-deep-learning-project-9b3698aef127\n",
      "------------------------------------------------------------------------------------------\n",
      "* Date: 2017-08-25\n",
      "* Text: There are more than 140 attempts to access porn and other inappropriate content within the average enterprise every single day.\n",
      "* Link: https://www.wandera.com/blog/inappropriate-mobile-activity/\n",
      "------------------------------------------------------------------------------------------\n",
      "* Date: 2017-08-25\n",
      "* Text: Global Extreme Weather Costs [OC]\n",
      "* Link: http://blog.cityprojections.com/2017/08/how-much-does-extreme-weather-currently.html\n",
      "------------------------------------------------------------------------------------------\n",
      "* Date: 2017-08-25\n",
      "* Text: Mapping the sentiment of tweets during a soccer game as goals for each side are scored\n",
      "* Link: https://www.brandwatch.com/blog/react-soccer-data/?utm_source=reddit&utm_medium=react&utm_term=blog&utm_campaign=08_2017_marketing_blog\n",
      "------------------------------------------------------------------------------------------\n",
      "* Date: 2017-08-25\n",
      "* Text: Towards a Deeper Understanding of Training Quantized Neural Networks / BitNet: Bit-Regularized Deep Neural Networks / Deep Binary Reconstruction for Cross-modal Hashing\n",
      "* Link: http://nuit-blanche.blogspot.com/2017/08/towards-deeper-understanding-of.html\n",
      "------------------------------------------------------------------------------------------\n"
     ]
    },
    {
     "name": "stderr",
     "output_type": "stream",
     "text": [
      "/Users/Howard/anaconda/envs/digestant/lib/python3.6/site-packages/ipykernel/__main__.py:1: UserWarning: Boolean Series key will be reindexed to match DataFrame index.\n",
      "  if __name__ == '__main__':\n"
     ]
    }
   ],
   "source": [
    "for i, row in sdf.sort_values('hotness', ascending=False)[sdf['type'] == 'blog'].iterrows():\n",
    "    print('* Date: {}'.format(row['created_at']))\n",
    "    print('* Text: {}'.format(row['text']))\n",
    "    print('* Link: {}'.format(row['url']))\n",
    "    print('-'*90)"
   ]
  },
  {
   "cell_type": "markdown",
   "metadata": {},
   "source": [
    "### Code"
   ]
  },
  {
   "cell_type": "code",
   "execution_count": 38,
   "metadata": {
    "collapsed": false,
    "scrolled": true
   },
   "outputs": [
    {
     "name": "stdout",
     "output_type": "stream",
     "text": [
      "* Date: 2017-08-25\n",
      "* Text: An Interactive Game of Thrones Narrative Chart in d3 (with timeseries dataset) [OC]\n",
      "* Link: https://jeffreylancaster.github.io/game-of-thrones/\n",
      "------------------------------------------------------------------------------------------\n",
      "* Date: 2017-08-25\n",
      "* Text: [P] Factorization Machine PyTorch layer, with cythonized forward/backward passes\n",
      "* Link: https://github.com/jmhessel/fmpytorch\n",
      "------------------------------------------------------------------------------------------\n",
      "* Date: 2017-08-25\n",
      "* Text: Floydhub Documentation- A cloud platform to run various ML models\n",
      "* Link: https://code4cx.github.io/floydhub-documentation.html\n",
      "------------------------------------------------------------------------------------------\n"
     ]
    },
    {
     "name": "stderr",
     "output_type": "stream",
     "text": [
      "/Users/Howard/anaconda/envs/digestant/lib/python3.6/site-packages/ipykernel/__main__.py:1: UserWarning: Boolean Series key will be reindexed to match DataFrame index.\n",
      "  if __name__ == '__main__':\n"
     ]
    }
   ],
   "source": [
    "for i, row in sdf.sort_values('hotness', ascending=False)[sdf['type'] == 'code'].iterrows():\n",
    "    print('* Date: {}'.format(row['created_at']))\n",
    "    print('* Text: {}'.format(row['text']))\n",
    "    print('* Link: {}'.format(row['url']))\n",
    "    print('-'*90)"
   ]
  },
  {
   "cell_type": "markdown",
   "metadata": {},
   "source": [
    "### News"
   ]
  },
  {
   "cell_type": "code",
   "execution_count": 39,
   "metadata": {
    "collapsed": false
   },
   "outputs": [
    {
     "name": "stdout",
     "output_type": "stream",
     "text": [
      "* Date: 2017-08-25\n",
      "* Text: The Shape of Happiness: The Relationship Between Happiness and Age in seven major surveys.\n",
      "* Link: https://www.washingtonpost.com/news/wonk/wp/2017/08/24/under-50-you-still-havent-hit-rock-bottom-happiness-wise/?hpid=hp_hp-more-top-stories-2_happiness-150p%3Ahomepage%2Fstory\n",
      "------------------------------------------------------------------------------------------\n",
      "* Date: 2017-08-25\n",
      "* Text: How To Sack Top Big Data Jobs\n",
      "* Link: http://www.technewsncareer.com/2017/06/how-to-sack-top-big-data-jobs.html\n",
      "------------------------------------------------------------------------------------------\n"
     ]
    },
    {
     "name": "stderr",
     "output_type": "stream",
     "text": [
      "/Users/Howard/anaconda/envs/digestant/lib/python3.6/site-packages/ipykernel/__main__.py:1: UserWarning: Boolean Series key will be reindexed to match DataFrame index.\n",
      "  if __name__ == '__main__':\n"
     ]
    }
   ],
   "source": [
    "for i, row in sdf.sort_values('hotness', ascending=False)[sdf['type'] == 'news'].iterrows():\n",
    "    print('* Date: {}'.format(row['created_at']))\n",
    "    print('* Text: {}'.format(row['text']))\n",
    "    print('* Link: {}'.format(row['url']))\n",
    "    print('-'*90)"
   ]
  },
  {
   "cell_type": "markdown",
   "metadata": {},
   "source": [
    "### Paper"
   ]
  },
  {
   "cell_type": "code",
   "execution_count": 40,
   "metadata": {
    "collapsed": false,
    "scrolled": true
   },
   "outputs": [
    {
     "name": "stdout",
     "output_type": "stream",
     "text": [
      "* Date: 2017-08-25\n",
      "* Text: [R] Twin Networks: Using the Future as a Regularizer\n",
      "* Link: https://arxiv.org/abs/1708.06742\n",
      "------------------------------------------------------------------------------------------\n"
     ]
    },
    {
     "name": "stderr",
     "output_type": "stream",
     "text": [
      "/Users/Howard/anaconda/envs/digestant/lib/python3.6/site-packages/ipykernel/__main__.py:1: UserWarning: Boolean Series key will be reindexed to match DataFrame index.\n",
      "  if __name__ == '__main__':\n"
     ]
    }
   ],
   "source": [
    "for i, row in sdf.sort_values('hotness', ascending=False)[sdf['type'] == 'paper'].iterrows():\n",
    "    print('* Date: {}'.format(row['created_at']))\n",
    "    print('* Text: {}'.format(row['text']))\n",
    "    print('* Link: {}'.format(row['url']))\n",
    "    print('-'*90)"
   ]
  },
  {
   "cell_type": "markdown",
   "metadata": {},
   "source": [
    "### Tutorial"
   ]
  },
  {
   "cell_type": "code",
   "execution_count": 41,
   "metadata": {
    "collapsed": false
   },
   "outputs": [
    {
     "name": "stdout",
     "output_type": "stream",
     "text": [
      "* Date: 2017-08-25\n",
      "* Text: [D] CVPR tutorial on \"Mathematics of Deep Learning\"\n",
      "* Link: https://www.youtube.com/watch?v=Mdp9uC3gXUU\n",
      "------------------------------------------------------------------------------------------\n",
      "* Date: 2017-08-25\n",
      "* Text: Beehexa Csv Database Synchronization\n",
      "* Link: https://www.youtube.com/attribution_link?a=Qe86ReOuTJ0&u=%2Fwatch%3Fv%3DACmINtf8BlA%26feature%3Dshare\n",
      "------------------------------------------------------------------------------------------\n"
     ]
    },
    {
     "name": "stderr",
     "output_type": "stream",
     "text": [
      "/Users/Howard/anaconda/envs/digestant/lib/python3.6/site-packages/ipykernel/__main__.py:1: UserWarning: Boolean Series key will be reindexed to match DataFrame index.\n",
      "  if __name__ == '__main__':\n"
     ]
    }
   ],
   "source": [
    "for i, row in sdf.sort_values('hotness', ascending=False)[sdf['type'] == 'tutorial'].iterrows():\n",
    "    print('* Date: {}'.format(row['created_at']))\n",
    "    print('* Text: {}'.format(row['text']))\n",
    "    print('* Link: {}'.format(row['url']))\n",
    "    print('-'*90)"
   ]
  },
  {
   "cell_type": "markdown",
   "metadata": {},
   "source": [
    "### Image"
   ]
  },
  {
   "cell_type": "code",
   "execution_count": 42,
   "metadata": {
    "collapsed": false,
    "scrolled": true
   },
   "outputs": [
    {
     "name": "stdout",
     "output_type": "stream",
     "text": [
      "* Date: 2017-08-25\n",
      "* Text: Animated world population 1950-2100. [OC]\n",
      "* Link: https://i.redd.it/ga9btbblynhz.gif\n",
      "------------------------------------------------------------------------------------------\n",
      "* Date: 2017-08-25\n",
      "* Text: All the roads and nothing but the roads [OC]\n",
      "* Link: https://i.redd.it/fziffv2qjnhz.jpg\n",
      "------------------------------------------------------------------------------------------\n",
      "* Date: 2017-08-25\n",
      "* Text: Careers with the highest proportion of men and careers with the highest proportion of women [OC]\n",
      "* Link: https://i.redd.it/mlru2wsvpphz.jpg\n",
      "------------------------------------------------------------------------------------------\n",
      "* Date: 2017-08-25\n",
      "* Text: 5 years worth of running data, speed vs distance [OC]\n",
      "* Link: https://i.redd.it/1flqgsg8gqhz.png\n",
      "------------------------------------------------------------------------------------------\n",
      "* Date: 2017-08-25\n",
      "* Text: Air temperature in path of totality during Solar Eclipse in Hartsville, TN [OC]\n",
      "* Link: https://i.redd.it/wzjkyaahlqhz.jpg\n",
      "------------------------------------------------------------------------------------------\n",
      "* Date: 2017-08-25\n",
      "* Text: Most frequent paths of chess pieces giving mate [OC]\n",
      "* Link: https://i.redd.it/nd26yhalwqhz.png\n",
      "------------------------------------------------------------------------------------------\n",
      "* Date: 2017-08-25\n",
      "* Text: Popular presidential approval/disapproval tracking polls - 2017 [OC]\n",
      "* Link: https://i.redd.it/058132cg6rhz.png\n",
      "------------------------------------------------------------------------------------------\n",
      "* Date: 2017-08-25\n",
      "* Text: Presidents of the United States by Party [OC]\n",
      "* Link: https://i.redd.it/cdv469daeohz.png\n",
      "------------------------------------------------------------------------------------------\n",
      "* Date: 2017-08-25\n",
      "* Text: US traffic for the 24 hours around Monday's total solar eclipse [OC]\n",
      "* Link: http://i.imgur.com/YWCA76v.gif\n",
      "------------------------------------------------------------------------------------------\n",
      "* Date: 2017-08-25\n",
      "* Text: Examining FiveThirtyEight's Soccer Power Index Scores [OC]\n",
      "* Link: https://i.redd.it/0w9n88wc2phz.png\n",
      "------------------------------------------------------------------------------------------\n",
      "* Date: 2017-08-25\n",
      "* Text: Interactive map of changes in temperature and humidity while walking around the streets of San Francisco [OC]\n",
      "* Link: https://i.redd.it/zdbj9zw83qhz.gif\n",
      "------------------------------------------------------------------------------------------\n",
      "* Date: 2017-08-25\n",
      "* Text: 17 groups, 10 pictures and guessing ages [OC]\n",
      "* Link: https://i.redd.it/ke6cj0u00shz.png\n",
      "------------------------------------------------------------------------------------------\n",
      "* Date: 2017-08-25\n",
      "* Text: [OC] Knight Tournament Simulator league placement by Age & Ability\n",
      "* Link: https://i.redd.it/wtioj0pc9qhz.jpg\n",
      "------------------------------------------------------------------------------------------\n",
      "* Date: 2017-08-25\n",
      "* Text: UK Milk Prices - farmgate price (pence per litre) since November 1994 [OC]\n",
      "* Link: https://i.redd.it/vxx2alcu6ohz.png\n",
      "------------------------------------------------------------------------------------------\n",
      "* Date: 2017-08-25\n",
      "* Text: Karma date for posts submitted to r/gofundme tools used openoffice exel , open office Draw to export it as a jpeg [OC]\n",
      "* Link: https://i.redd.it/krucrh7ognhz.jpg\n",
      "------------------------------------------------------------------------------------------\n"
     ]
    },
    {
     "name": "stderr",
     "output_type": "stream",
     "text": [
      "/Users/Howard/anaconda/envs/digestant/lib/python3.6/site-packages/ipykernel/__main__.py:1: UserWarning: Boolean Series key will be reindexed to match DataFrame index.\n",
      "  if __name__ == '__main__':\n"
     ]
    }
   ],
   "source": [
    "for i, row in sdf.sort_values('hotness', ascending=False)[sdf['type'] == 'image'].iterrows():\n",
    "    print('* Date: {}'.format(row['created_at']))\n",
    "    print('* Text: {}'.format(row['text']))\n",
    "    print('* Link: {}'.format(row['url']))\n",
    "    print('-'*90)"
   ]
  },
  {
   "cell_type": "markdown",
   "metadata": {},
   "source": [
    "### Sentiment Distribution"
   ]
  },
  {
   "cell_type": "code",
   "execution_count": 43,
   "metadata": {
    "collapsed": false
   },
   "outputs": [
    {
     "data": {
      "text/plain": [
       "neu    78\n",
       "Name: sentiment, dtype: int64"
      ]
     },
     "execution_count": 43,
     "metadata": {},
     "output_type": "execute_result"
    }
   ],
   "source": [
    "sdf['sentiment'].value_counts()"
   ]
  },
  {
   "cell_type": "markdown",
   "metadata": {},
   "source": [
    "### Positive posts"
   ]
  },
  {
   "cell_type": "code",
   "execution_count": 44,
   "metadata": {
    "collapsed": false,
    "scrolled": true
   },
   "outputs": [
    {
     "name": "stderr",
     "output_type": "stream",
     "text": [
      "/Users/Howard/anaconda/envs/digestant/lib/python3.6/site-packages/ipykernel/__main__.py:1: UserWarning: Boolean Series key will be reindexed to match DataFrame index.\n",
      "  if __name__ == '__main__':\n"
     ]
    }
   ],
   "source": [
    "for i, row in sdf.sort_values('hotness', ascending=False)[sdf['sentiment'] == 'pos'].iterrows():\n",
    "    print('* Date: {}'.format(row['created_at']))\n",
    "    print('* Text: {}'.format(row['text']))\n",
    "    print('* Link: {}'.format(row['url']))\n",
    "    print('-'*90)"
   ]
  },
  {
   "cell_type": "markdown",
   "metadata": {},
   "source": [
    "### Negative posts"
   ]
  },
  {
   "cell_type": "code",
   "execution_count": 45,
   "metadata": {
    "collapsed": false,
    "scrolled": true
   },
   "outputs": [
    {
     "name": "stderr",
     "output_type": "stream",
     "text": [
      "/Users/Howard/anaconda/envs/digestant/lib/python3.6/site-packages/ipykernel/__main__.py:1: UserWarning: Boolean Series key will be reindexed to match DataFrame index.\n",
      "  if __name__ == '__main__':\n"
     ]
    }
   ],
   "source": [
    "for i, row in sdf.sort_values('hotness', ascending=False)[sdf['sentiment'] == 'neg'].iterrows():\n",
    "    print('* Date: {}'.format(row['created_at']))\n",
    "    print('* Text: {}'.format(row['text']))\n",
    "    print('* Link: {}'.format(row['url']))\n",
    "    print('-'*90)"
   ]
  },
  {
   "cell_type": "markdown",
   "metadata": {},
   "source": [
    "### All posts ranked by \"hotness\""
   ]
  },
  {
   "cell_type": "code",
   "execution_count": 46,
   "metadata": {
    "collapsed": false,
    "scrolled": true
   },
   "outputs": [
    {
     "name": "stdout",
     "output_type": "stream",
     "text": [
      "* Date: 2017-08-25\n",
      "* Text: Animated world population 1950-2100. [OC]\n",
      "* Link: https://i.redd.it/ga9btbblynhz.gif\n",
      "------------------------------------------------------------------------------------------\n",
      "* Date: 2017-08-25\n",
      "* Text: All the roads and nothing but the roads [OC]\n",
      "* Link: https://i.redd.it/fziffv2qjnhz.jpg\n",
      "------------------------------------------------------------------------------------------\n",
      "* Date: 2017-08-25\n",
      "* Text: Watch Hurricane Harvey in Real Time using WindMap\n",
      "* Link: https://earth.nullschool.net/#current/wind/surface/level/orthographic=-94.26,27.86,2381\n",
      "------------------------------------------------------------------------------------------\n",
      "* Date: 2017-08-25\n",
      "* Text: Size of US states by their economy and color coded by their growth\n",
      "* Link: https://howmuch.net/articles/the-current-state-of-usa-economy\n",
      "------------------------------------------------------------------------------------------\n",
      "* Date: 2017-08-25\n",
      "* Text: Careers with the highest proportion of men and careers with the highest proportion of women [OC]\n",
      "* Link: https://i.redd.it/mlru2wsvpphz.jpg\n",
      "------------------------------------------------------------------------------------------\n",
      "* Date: 2017-08-25\n",
      "* Text: [D] Andrew Ng's \"Structuring a ML Project\" summary in a diagram\n",
      "* Link: https://medium.com/@erogol/designing-a-deep-learning-project-9b3698aef127\n",
      "------------------------------------------------------------------------------------------\n",
      "* Date: 2017-08-25\n",
      "* Text: 5 years worth of running data, speed vs distance [OC]\n",
      "* Link: https://i.redd.it/1flqgsg8gqhz.png\n",
      "------------------------------------------------------------------------------------------\n",
      "* Date: 2017-08-25\n",
      "* Text: Air temperature in path of totality during Solar Eclipse in Hartsville, TN [OC]\n",
      "* Link: https://i.redd.it/wzjkyaahlqhz.jpg\n",
      "------------------------------------------------------------------------------------------\n",
      "* Date: 2017-08-25\n",
      "* Text: Most frequent paths of chess pieces giving mate [OC]\n",
      "* Link: https://i.redd.it/nd26yhalwqhz.png\n",
      "------------------------------------------------------------------------------------------\n",
      "* Date: 2017-08-25\n",
      "* Text: SQLCell, A SQL magic command for Jupyter Notebooks with a UI component.\n",
      "* Link: https://www.reddit.com/r/datascience/comments/6vtfat/sqlcell_a_sql_magic_command_for_jupyter_notebooks/\n",
      "------------------------------------------------------------------------------------------\n",
      "* Date: 2017-08-25\n",
      "* Text: Columbia MS in Applied Analytics\n",
      "* Link: https://www.reddit.com/r/datascience/comments/6vr44r/columbia_ms_in_applied_analytics/\n",
      "------------------------------------------------------------------------------------------\n",
      "* Date: 2017-08-25\n",
      "* Text: Popular presidential approval/disapproval tracking polls - 2017 [OC]\n",
      "* Link: https://i.redd.it/058132cg6rhz.png\n",
      "------------------------------------------------------------------------------------------\n",
      "* Date: 2017-08-25\n",
      "* Text: Are Data Scientists at Facebook really Data Analysts?\n",
      "* Link: https://www.reddit.com/r/datascience/comments/6vv7u2/are_data_scientists_at_facebook_really_data/\n",
      "------------------------------------------------------------------------------------------\n",
      "* Date: 2017-08-25\n",
      "* Text: Presidents of the United States by Party [OC]\n",
      "* Link: https://i.redd.it/cdv469daeohz.png\n",
      "------------------------------------------------------------------------------------------\n",
      "* Date: 2017-08-25\n",
      "* Text: Python for Data Science and Machine Learning Bootcamp\n",
      "* Link: https://hackernoon.com/python-for-data-science-and-machine-learning-bootcamp-ad544288d7a3\n",
      "------------------------------------------------------------------------------------------\n",
      "* Date: 2017-08-25\n",
      "* Text: How Long Do U.S. Presidents Live? [OC]\n",
      "* Link: http://imgur.com/x6ZntdI\n",
      "------------------------------------------------------------------------------------------\n",
      "* Date: 2017-08-25\n",
      "* Text: Variations in word usage throughout Australia\n",
      "* Link: https://lingroadshow.com/resources/englishes-in-australia/vocabulary/mapping-words-around-australia/\n",
      "------------------------------------------------------------------------------------------\n",
      "* Date: 2017-08-25\n",
      "* Text: desire for children still the norm\n",
      "* Link: http://www.gallup.com/poll/164618/desire-children-norm.aspx\n",
      "------------------------------------------------------------------------------------------\n",
      "* Date: 2017-08-25\n",
      "* Text: An Interactive Game of Thrones Narrative Chart in d3 (with timeseries dataset) [OC]\n",
      "* Link: https://jeffreylancaster.github.io/game-of-thrones/\n",
      "------------------------------------------------------------------------------------------\n",
      "* Date: 2017-08-25\n",
      "* Text: US traffic for the 24 hours around Monday's total solar eclipse [OC]\n",
      "* Link: http://i.imgur.com/YWCA76v.gif\n",
      "------------------------------------------------------------------------------------------\n",
      "* Date: 2017-08-25\n",
      "* Text: [D] CVPR tutorial on \"Mathematics of Deep Learning\"\n",
      "* Link: https://www.youtube.com/watch?v=Mdp9uC3gXUU\n",
      "------------------------------------------------------------------------------------------\n",
      "* Date: 2017-08-25\n",
      "* Text: [R] Twin Networks: Using the Future as a Regularizer\n",
      "* Link: https://arxiv.org/abs/1708.06742\n",
      "------------------------------------------------------------------------------------------\n",
      "* Date: 2017-08-25\n",
      "* Text: The Shape of Happiness: The Relationship Between Happiness and Age in seven major surveys.\n",
      "* Link: https://www.washingtonpost.com/news/wonk/wp/2017/08/24/under-50-you-still-havent-hit-rock-bottom-happiness-wise/?hpid=hp_hp-more-top-stories-2_happiness-150p%3Ahomepage%2Fstory\n",
      "------------------------------------------------------------------------------------------\n",
      "* Date: 2017-08-25\n",
      "* Text: Analyzing Top 20k Github Repositories\n",
      "* Link: https://medium.appbase.io/analyzing-20k-github-repositories-af76de21c3fc\n",
      "------------------------------------------------------------------------------------------\n",
      "* Date: 2017-08-25\n",
      "* Text: This is How Canada Talks (A Series of Maps)\n",
      "* Link: http://www.the10and3.com/this-is-how-canada-talks/\n",
      "------------------------------------------------------------------------------------------\n",
      "* Date: 2017-08-25\n",
      "* Text: Game of Throne color analysis. (Scroll down to end of page)\n",
      "* Link: https://www.vox.com/culture/2017/8/24/16162814/game-of-thrones-color-spectrum\n",
      "------------------------------------------------------------------------------------------\n",
      "* Date: 2017-08-25\n",
      "* Text: 365 days of Trump’s claims\n",
      "* Link: https://www.washingtonpost.com/graphics/politics/trump-claims-database/?utm_term=.11ff753fa356\n",
      "------------------------------------------------------------------------------------------\n",
      "* Date: 2017-08-25\n",
      "* Text: [HIRING] MDM Customer Data Hub Architect - Fremont, CA - Contract-to-hire - $90/hour\n",
      "* Link: https://www.reddit.com/r/BigDataJobs/comments/6vuvzc/hiring_mdm_customer_data_hub_architect_fremont_ca/\n",
      "------------------------------------------------------------------------------------------\n",
      "* Date: 2017-08-25\n",
      "* Text: [P] Analyzing Google Trends Data in R\n",
      "* Link: https://www.displayr.com/extracting-google-trends-data-in-r/?utm_source=Reddit&utm_medium=Machine%20Learning&utm_campaign=google%20trends\n",
      "------------------------------------------------------------------------------------------\n",
      "* Date: 2017-08-25\n",
      "* Text: Data Scientist, @conspirator0, looks into Twitter bots and finds interesting results relating to Trump, Russia, and Brexit\n",
      "* Link: https://twitter.com/conspirator0/status/900158823515770880\n",
      "------------------------------------------------------------------------------------------\n",
      "* Date: 2017-08-25\n",
      "* Text: [D] What value does Machine Learning have to areas outside of Analytics?\n",
      "* Link: https://www.reddit.com/r/MachineLearning/comments/6vvna7/d_what_value_does_machine_learning_have_to_areas/\n",
      "------------------------------------------------------------------------------------------\n",
      "* Date: 2017-08-25\n",
      "* Text: We analyzed 17 months of Fox & Friends transcripts. It’s far weirder than state-run media.\n",
      "* Link: https://www.vox.com/2017/8/7/16083122/breakfast-club-fox-and-friends\n",
      "------------------------------------------------------------------------------------------\n",
      "* Date: 2017-08-25\n",
      "* Text: Classroom Participation in Online Classes [OC]\n",
      "* Link: http://nodatesjustdata.com/ParticipationRetention.html\n",
      "------------------------------------------------------------------------------------------\n",
      "* Date: 2017-08-25\n",
      "* Text: Flagship Smartphones Compared as of 05/2017 [OC]\n",
      "* Link: https://public.tableau.com/shared/Z8SP5D8FJ?:display_count=yes\n",
      "------------------------------------------------------------------------------------------\n",
      "* Date: 2017-08-25\n",
      "* Text: Examining FiveThirtyEight's Soccer Power Index Scores [OC]\n",
      "* Link: https://i.redd.it/0w9n88wc2phz.png\n",
      "------------------------------------------------------------------------------------------\n",
      "* Date: 2017-08-25\n",
      "* Text: Trump Approval Changes Over Time, by Party Identification [OC]\n",
      "* Link: http://imgur.com/a/MtWG0\n",
      "------------------------------------------------------------------------------------------\n",
      "* Date: 2017-08-25\n",
      "* Text: Interactive map of changes in temperature and humidity while walking around the streets of San Francisco [OC]\n",
      "* Link: https://i.redd.it/zdbj9zw83qhz.gif\n",
      "------------------------------------------------------------------------------------------\n",
      "* Date: 2017-08-25\n",
      "* Text: Which college football teams are most often overrated in preseason polls? (1997-2016)\n",
      "* Link: https://fivethirtyeight.com/features/which-college-football-teams-are-always-overrated-in-august/\n",
      "------------------------------------------------------------------------------------------\n",
      "* Date: 2017-08-25\n",
      "* Text: Confederate monuments vs high school nonattainment % by state [OC]\n",
      "* Link: https://plot.ly/~1000goalgaming/3/\n",
      "------------------------------------------------------------------------------------------\n",
      "* Date: 2017-08-25\n",
      "* Text: Livestream at 6:30pm PDT: Using Scattertext and the Python NLP Ecosystem for Text Visualization\n",
      "* Link: https://livestream.com/metis/events/7617460\n",
      "------------------------------------------------------------------------------------------\n",
      "* Date: 2017-08-25\n",
      "* Text: [D] Should I take a Machine Learning course in Python or R?\n",
      "* Link: https://www.reddit.com/r/MachineLearning/comments/6vv8vc/d_should_i_take_a_machine_learning_course_in/\n",
      "------------------------------------------------------------------------------------------\n",
      "* Date: 2017-08-25\n",
      "* Text: Getting your hands dirty with data science\n",
      "* Link: http://www.datascience.university/getting-your-hands-dirty-with-data-science/\n",
      "------------------------------------------------------------------------------------------\n",
      "* Date: 2017-08-25\n",
      "* Text: [P] Factorization Machine PyTorch layer, with cythonized forward/backward passes\n",
      "* Link: https://github.com/jmhessel/fmpytorch\n",
      "------------------------------------------------------------------------------------------\n",
      "* Date: 2017-08-25\n",
      "* Text: \"Definitive\" Ranking of All Comics Adaptations Based on Critical Reception and Box Office Run [OC]\n",
      "* Link: https://public.tableau.com/views/DefinitiveRankingofAllComicsAdaptation/VizDash?:embed=y&:display_count=yes&publish=yes\n",
      "------------------------------------------------------------------------------------------\n",
      "* Date: 2017-08-25\n",
      "* Text: 17 groups, 10 pictures and guessing ages [OC]\n",
      "* Link: https://i.redd.it/ke6cj0u00shz.png\n",
      "------------------------------------------------------------------------------------------\n",
      "* Date: 2017-08-25\n",
      "* Text: [D] \"Learning to Navigate in Complex Environments\" - how is the position decoder classifier trained ?\n",
      "* Link: https://www.reddit.com/r/MachineLearning/comments/6vur6n/d_learning_to_navigate_in_complex_environments/\n",
      "------------------------------------------------------------------------------------------\n",
      "* Date: 2017-08-25\n",
      "* Text: There are more than 140 attempts to access porn and other inappropriate content within the average enterprise every single day.\n",
      "* Link: https://www.wandera.com/blog/inappropriate-mobile-activity/\n",
      "------------------------------------------------------------------------------------------\n",
      "* Date: 2017-08-25\n",
      "* Text: Boulder AI: Hiring CV/ML/Embedded Engineer Boulder, CO\n",
      "* Link: https://www.reddit.com/r/MLjobs/comments/6vumpt/boulder_ai_hiring_cvmlembedded_engineer_boulder_co/\n",
      "------------------------------------------------------------------------------------------\n",
      "* Date: 2017-08-25\n",
      "* Text: Global Extreme Weather Costs [OC]\n",
      "* Link: http://blog.cityprojections.com/2017/08/how-much-does-extreme-weather-currently.html\n",
      "------------------------------------------------------------------------------------------\n",
      "* Date: 2017-08-25\n",
      "* Text: Gifts That Data Scientists Give?\n",
      "* Link: https://www.reddit.com/r/datascience/comments/6vujp7/gifts_that_data_scientists_give/\n",
      "------------------------------------------------------------------------------------------\n",
      "* Date: 2017-08-25\n",
      "* Text: Floydhub Documentation- A cloud platform to run various ML models\n",
      "* Link: https://code4cx.github.io/floydhub-documentation.html\n",
      "------------------------------------------------------------------------------------------\n",
      "* Date: 2017-08-25\n",
      "* Text: [OC] Knight Tournament Simulator league placement by Age & Ability\n",
      "* Link: https://i.redd.it/wtioj0pc9qhz.jpg\n",
      "------------------------------------------------------------------------------------------\n",
      "* Date: 2017-08-25\n",
      "* Text: How is it possible for the loss to converge but the gradient norm of the parameters to increase during training in Deep Learning?\n",
      "* Link: https://www.quora.com/unanswered/How-is-it-possible-for-the-loss-to-converge-but-the-gradient-norm-of-the-parameters-to-increase-during-training-in-Deep-Learning\n",
      "------------------------------------------------------------------------------------------\n",
      "* Date: 2017-08-25\n",
      "* Text: The Rise and Fall of Trump's Advisory Councils [OC]\n",
      "* Link: http://imgur.com/a/QLeya\n",
      "------------------------------------------------------------------------------------------\n",
      "* Date: 2017-08-25\n",
      "* Text: Irish Leaving Certificate, Simulation of old system vs new system [OC]\n",
      "* Link: http://vey.ie/2017/08/23/New-Leaving-Cert.html\n",
      "------------------------------------------------------------------------------------------\n",
      "* Date: 2017-08-25\n",
      "* Text: Detailed derivation of mean field variational inference?\n",
      "* Link: https://www.reddit.com/r/learnmachinelearning/comments/6vto1b/detailed_derivation_of_mean_field_variational/\n",
      "------------------------------------------------------------------------------------------\n",
      "* Date: 2017-08-25\n",
      "* Text: Representation of college freshman by racial identity over the years\n",
      "* Link: https://www.nytimes.com/interactive/2017/08/24/us/100000005337043.app.html\n",
      "------------------------------------------------------------------------------------------\n",
      "* Date: 2017-08-25\n",
      "* Text: Deep Learning with MXNet livecoding on twitch\n",
      "* Link: https://www.twitch.tv/aws\n",
      "------------------------------------------------------------------------------------------\n",
      "* Date: 2017-08-25\n",
      "* Text: Data Analysis Course Help\n",
      "* Link: https://www.reddit.com/r/learnmachinelearning/comments/6vt40t/data_analysis_course_help/\n",
      "------------------------------------------------------------------------------------------\n",
      "* Date: 2017-08-25\n",
      "* Text: % of workers working 60+ hours per week in their main job (OECD)\n",
      "* Link: https://www.facebook.com/OECDPublications/photos/a.371495076263018.90215.366003796812146/1456663404412841/?type=3&theater\n",
      "------------------------------------------------------------------------------------------\n",
      "* Date: 2017-08-25\n",
      "* Text: Which conclusion can be drawn from this error curve?\n",
      "* Link: https://www.reddit.com/r/learnmachinelearning/comments/6vt0nr/which_conclusion_can_be_drawn_from_this_error/\n",
      "------------------------------------------------------------------------------------------\n",
      "* Date: 2017-08-25\n",
      "* Text: Twitter Analysis for #SolarEclipse2017 [OC]\n",
      "* Link: https://public.tableau.com/profile/matt.wheeler#!/vizhome/TwitterSolarEclipse2017/SolarEclipse2017\n",
      "------------------------------------------------------------------------------------------\n",
      "* Date: 2017-08-25\n",
      "* Text: How Much Climate Change Will Cost Each U.S. County\n",
      "* Link: http://www.governing.com/topics/transportation-infrastructure/gov-counties-climate-change-damages-economic-effects-map.html\n",
      "------------------------------------------------------------------------------------------\n",
      "* Date: 2017-08-25\n",
      "* Text: [OpenCV] Probable reasons for failure of tracker\n",
      "* Link: https://www.reddit.com/r/computervision/comments/6vsk6s/opencv_probable_reasons_for_failure_of_tracker/\n",
      "------------------------------------------------------------------------------------------\n",
      "* Date: 2017-08-25\n",
      "* Text: US gender wage gap at 10th, 50th and 90th percentile since 1973 [OC]\n",
      "* Link: https://utopiayouarestandinginit.com/2015/10/21/us-gender-wage-gap-at-10th-50th-and-90th-percentile/\n",
      "------------------------------------------------------------------------------------------\n",
      "* Date: 2017-08-25\n",
      "* Text: [P] I would like to add a feature to my model that contains data that is in a tree like structure.\n",
      "* Link: https://www.reddit.com/r/MachineLearning/comments/6vsd58/p_i_would_like_to_add_a_feature_to_my_model_that/\n",
      "------------------------------------------------------------------------------------------\n",
      "* Date: 2017-08-25\n",
      "* Text: UK Milk Prices - farmgate price (pence per litre) since November 1994 [OC]\n",
      "* Link: https://i.redd.it/vxx2alcu6ohz.png\n",
      "------------------------------------------------------------------------------------------\n",
      "* Date: 2017-08-25\n",
      "* Text: need help with project.\n",
      "* Link: https://www.reddit.com/r/LanguageTechnology/comments/6vqnk6/need_help_with_project/\n",
      "------------------------------------------------------------------------------------------\n",
      "* Date: 2017-08-25\n",
      "* Text: Advice on JHU's data science program?\n",
      "* Link: https://www.reddit.com/r/datascience/comments/6vrxif/advice_on_jhus_data_science_program/\n",
      "------------------------------------------------------------------------------------------\n",
      "* Date: 2017-08-25\n",
      "* Text: Beehexa Csv Database Synchronization\n",
      "* Link: https://www.youtube.com/attribution_link?a=Qe86ReOuTJ0&u=%2Fwatch%3Fv%3DACmINtf8BlA%26feature%3Dshare\n",
      "------------------------------------------------------------------------------------------\n",
      "* Date: 2017-08-25\n",
      "* Text: Help! Biostatistics vs Data Science vs Informatics\n",
      "* Link: https://www.reddit.com/r/datascience/comments/6vrtla/help_biostatistics_vs_data_science_vs_informatics/\n",
      "------------------------------------------------------------------------------------------\n",
      "* Date: 2017-08-25\n",
      "* Text: [P]Trying to implement Multiple ANFIS system. Need guidance on best possible approach.\n",
      "* Link: https://www.reddit.com/r/MachineLearning/comments/6vrc6g/ptrying_to_implement_multiple_anfis_system_need/\n",
      "------------------------------------------------------------------------------------------\n",
      "* Date: 2017-08-25\n",
      "* Text: How To Sack Top Big Data Jobs\n",
      "* Link: http://www.technewsncareer.com/2017/06/how-to-sack-top-big-data-jobs.html\n",
      "------------------------------------------------------------------------------------------\n",
      "* Date: 2017-08-25\n",
      "* Text: Visualisation of all 2559 direct candidates of the German federal election [OC]\n",
      "* Link: https://interaktiv.morgenpost.de/kandidaten-bundestagswahl-2017/\n",
      "------------------------------------------------------------------------------------------\n",
      "* Date: 2017-08-25\n",
      "* Text: Can Trump control the media with Negative Tweets? [OC]\n",
      "* Link: http://greenanalytics.us/Data.Stories/Tweet.Trumps/tweet.trumps.html\n",
      "------------------------------------------------------------------------------------------\n",
      "* Date: 2017-08-25\n",
      "* Text: Mapping the sentiment of tweets during a soccer game as goals for each side are scored\n",
      "* Link: https://www.brandwatch.com/blog/react-soccer-data/?utm_source=reddit&utm_medium=react&utm_term=blog&utm_campaign=08_2017_marketing_blog\n",
      "------------------------------------------------------------------------------------------\n",
      "* Date: 2017-08-25\n",
      "* Text: Karma date for posts submitted to r/gofundme tools used openoffice exel , open office Draw to export it as a jpeg [OC]\n",
      "* Link: https://i.redd.it/krucrh7ognhz.jpg\n",
      "------------------------------------------------------------------------------------------\n",
      "* Date: 2017-08-25\n",
      "* Text: Towards a Deeper Understanding of Training Quantized Neural Networks / BitNet: Bit-Regularized Deep Neural Networks / Deep Binary Reconstruction for Cross-modal Hashing\n",
      "* Link: http://nuit-blanche.blogspot.com/2017/08/towards-deeper-understanding-of.html\n",
      "------------------------------------------------------------------------------------------\n"
     ]
    }
   ],
   "source": [
    "for i, row in sdf.sort_values('hotness', ascending=False).iterrows():\n",
    "    print('* Date: {}'.format(row['created_at']))\n",
    "    print('* Text: {}'.format(row['text']))\n",
    "    print('* Link: {}'.format(row['url']))\n",
    "    print('-'*90)"
   ]
  },
  {
   "cell_type": "markdown",
   "metadata": {},
   "source": [
    "## Extract keywords (name entities) from text"
   ]
  },
  {
   "cell_type": "code",
   "execution_count": 47,
   "metadata": {
    "collapsed": false
   },
   "outputs": [],
   "source": [
    "se = SummarizeNER(sdf)"
   ]
  },
  {
   "cell_type": "code",
   "execution_count": 48,
   "metadata": {
    "collapsed": false,
    "scrolled": true
   },
   "outputs": [
    {
     "name": "stdout",
     "output_type": "stream",
     "text": [
      "1 Australia\n",
      "6 Facebook\n",
      "7 Box Office Run OC\n",
      "10 MDM Customer Data Hub\n",
      "11 Google Trends Data\n",
      "14 Boulder AI Hiring CV ML Embedded Engineer Boulder CO\n",
      "15 Global\n",
      "17 US\n",
      "27 Party Identification OC\n",
      "28 Python for Data Science and Machine Learning Bootcamp\n",
      "29 Classroom Participation\n",
      "30 Hartsville TN OC\n",
      "31 Data Analysis Course Help\n",
      "37 Trump\n",
      "38 Trump s Advisory Councils OC\n",
      "39 Analyzing Top\n",
      "41 San Francisco\n",
      "45 Trump Russia\n",
      "49 Data Science vs Informatics\n",
      "55 Soccer Power Index Scores OC\n",
      "56 Columbia MS\n",
      "57 Trump\n",
      "59 Canada\n",
      "61 US\n",
      "67 United States Party\n",
      "68 US\n",
      "70 UK\n",
      "75 Andrew Ng\n"
     ]
    }
   ],
   "source": [
    "for i, phrase in enumerate(se.cleaned_phrases):\n",
    "    if type(phrase) == tuple and phrase != 'N/A':\n",
    "        print(i, phrase[0])"
   ]
  },
  {
   "cell_type": "code",
   "execution_count": null,
   "metadata": {
    "collapsed": true
   },
   "outputs": [],
   "source": []
  }
 ],
 "metadata": {
  "anaconda-cloud": {},
  "kernelspec": {
   "display_name": "Python [conda env:digestant]",
   "language": "python",
   "name": "conda-env-digestant-py"
  },
  "language_info": {
   "codemirror_mode": {
    "name": "ipython",
    "version": 3
   },
   "file_extension": ".py",
   "mimetype": "text/x-python",
   "name": "python",
   "nbconvert_exporter": "python",
   "pygments_lexer": "ipython3",
   "version": "3.6.2"
  }
 },
 "nbformat": 4,
 "nbformat_minor": 2
}
