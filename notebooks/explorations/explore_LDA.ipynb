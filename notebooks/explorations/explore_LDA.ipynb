{
 "cells": [
  {
   "cell_type": "code",
   "execution_count": 1,
   "metadata": {
    "collapsed": true
   },
   "outputs": [],
   "source": [
    "import os\n",
    "import sys\n",
    "import pickle\n",
    "import pandas as pd"
   ]
  },
  {
   "cell_type": "markdown",
   "metadata": {},
   "source": [
    "## Load data"
   ]
  },
  {
   "cell_type": "markdown",
   "metadata": {},
   "source": [
    "### Option1: Load all history data"
   ]
  },
  {
   "cell_type": "code",
   "execution_count": 93,
   "metadata": {
    "collapsed": true
   },
   "outputs": [],
   "source": [
    "all_df = pd.read_pickle('../dataset/twitter_data_11949.pkl')"
   ]
  },
  {
   "cell_type": "code",
   "execution_count": 94,
   "metadata": {},
   "outputs": [
    {
     "data": {
      "text/html": [
       "<div>\n",
       "<style>\n",
       "    .dataframe thead tr:only-child th {\n",
       "        text-align: right;\n",
       "    }\n",
       "\n",
       "    .dataframe thead th {\n",
       "        text-align: left;\n",
       "    }\n",
       "\n",
       "    .dataframe tbody tr th {\n",
       "        vertical-align: top;\n",
       "    }\n",
       "</style>\n",
       "<table border=\"1\" class=\"dataframe\">\n",
       "  <thead>\n",
       "    <tr style=\"text-align: right;\">\n",
       "      <th></th>\n",
       "      <th>source</th>\n",
       "      <th>created_at</th>\n",
       "      <th>author</th>\n",
       "      <th>text</th>\n",
       "      <th>raw_data</th>\n",
       "      <th>url</th>\n",
       "      <th>url_content</th>\n",
       "    </tr>\n",
       "  </thead>\n",
       "  <tbody>\n",
       "    <tr>\n",
       "      <th>0</th>\n",
       "      <td>twitter</td>\n",
       "      <td>2017-03-22 17:11:39</td>\n",
       "      <td>jakewarrentx</td>\n",
       "      <td>Whitepaper on the detection and prevention of ...</td>\n",
       "      <td>Status(contributors=None, lang='en', favorite_...</td>\n",
       "      <td>https://bdataanalytics.biomedcentral.com/artic...</td>\n",
       "      <td>Detection and prediction of insider threats to...</td>\n",
       "    </tr>\n",
       "    <tr>\n",
       "      <th>1</th>\n",
       "      <td>twitter</td>\n",
       "      <td>2017-03-10 20:13:43</td>\n",
       "      <td>jakewarrentx</td>\n",
       "      <td>How Should the U.S. Respond to a Russian Cyber...</td>\n",
       "      <td>Status(contributors=None, lang='en', favorite_...</td>\n",
       "      <td>http://yalejournal.org/article_post/how-should...</td>\n",
       "      <td>How Should the U.S. Respond to a Russian Cyber...</td>\n",
       "    </tr>\n",
       "    <tr>\n",
       "      <th>2</th>\n",
       "      <td>twitter</td>\n",
       "      <td>2016-09-12 17:38:29</td>\n",
       "      <td>jakewarrentx</td>\n",
       "      <td>Looks like #RigEK 178.32.92.122 https://t.co/R...</td>\n",
       "      <td>Status(contributors=None, lang='en', favorite_...</td>\n",
       "      <td>https://twitter.com/BelchSpeak/status/77538644...</td>\n",
       "      <td>Cyber Maui on Twitter Add a location to your T...</td>\n",
       "    </tr>\n",
       "    <tr>\n",
       "      <th>3</th>\n",
       "      <td>twitter</td>\n",
       "      <td>2017-04-24 18:23:44</td>\n",
       "      <td>jakewarrentx</td>\n",
       "      <td>Macron targeted by Fancy Bear https://t.co/IYJ...</td>\n",
       "      <td>Status(contributors=None, lang='en', favorite_...</td>\n",
       "      <td>http://www.silicon.fr/en-marche-macron-cible-p...</td>\n",
       "      <td>En Marche est la cible d’attaques de phishing ...</td>\n",
       "    </tr>\n",
       "    <tr>\n",
       "      <th>4</th>\n",
       "      <td>twitter</td>\n",
       "      <td>2017-06-29 17:39:14</td>\n",
       "      <td>jakewarrentx</td>\n",
       "      <td>Source: https://t.co/hT7gPfm84T https://t.co/u...</td>\n",
       "      <td>Status(contributors=None, lang='en', favorite_...</td>\n",
       "      <td>http://www.dia.mil/Portals/27/Documents/News/M...</td>\n",
       "      <td></td>\n",
       "    </tr>\n",
       "    <tr>\n",
       "      <th>5</th>\n",
       "      <td>twitter</td>\n",
       "      <td>2017-03-09 20:49:09</td>\n",
       "      <td>jakewarrentx</td>\n",
       "      <td>New RAND study on zero days. https://t.co/ztmy...</td>\n",
       "      <td>Status(contributors=None, lang='en', favorite_...</td>\n",
       "      <td>http://www.rand.org/pubs/research_reports/RR17...</td>\n",
       "      <td>Zero Days, Thousands of Nights: The Life and T...</td>\n",
       "    </tr>\n",
       "    <tr>\n",
       "      <th>6</th>\n",
       "      <td>twitter</td>\n",
       "      <td>2017-02-08 21:54:39</td>\n",
       "      <td>jakewarrentx</td>\n",
       "      <td>HackerOne raises $40M in Series C round. https...</td>\n",
       "      <td>Status(contributors=None, lang='en', favorite_...</td>\n",
       "      <td>http://fortune.com/2017/02/08/bug-bounty-hacke...</td>\n",
       "      <td>This $40 Million Investment Shows How ‘Bug Bou...</td>\n",
       "    </tr>\n",
       "    <tr>\n",
       "      <th>7</th>\n",
       "      <td>twitter</td>\n",
       "      <td>2017-02-08 21:37:20</td>\n",
       "      <td>jakewarrentx</td>\n",
       "      <td>Interesting evaluation of core structured anal...</td>\n",
       "      <td>Status(contributors=None, lang='en', favorite_...</td>\n",
       "      <td>http://www.tandfonline.com/doi/full/10.1080/08...</td>\n",
       "      <td>An Evidence-Based Evaluation of 12 Core Struct...</td>\n",
       "    </tr>\n",
       "    <tr>\n",
       "      <th>8</th>\n",
       "      <td>twitter</td>\n",
       "      <td>2017-06-07 21:00:16</td>\n",
       "      <td>jakewarrentx</td>\n",
       "      <td>DoD 2017 China Military Power Report https://t...</td>\n",
       "      <td>Status(contributors=None, lang='en', favorite_...</td>\n",
       "      <td>https://www.defense.gov/Portals/1/Documents/pu...</td>\n",
       "      <td></td>\n",
       "    </tr>\n",
       "    <tr>\n",
       "      <th>9</th>\n",
       "      <td>twitter</td>\n",
       "      <td>2017-05-12 16:24:57</td>\n",
       "      <td>jakewarrentx</td>\n",
       "      <td>Consolidated IOCs &amp;amp; references for the Wan...</td>\n",
       "      <td>Status(contributors=None, lang='en', favorite_...</td>\n",
       "      <td>https://gist.github.com/jakewarren/7b517f66cc0...</td>\n",
       "      <td>WannaCry Information What would you like to do...</td>\n",
       "    </tr>\n",
       "    <tr>\n",
       "      <th>10</th>\n",
       "      <td>twitter</td>\n",
       "      <td>2017-03-20 17:48:44</td>\n",
       "      <td>jakewarrentx</td>\n",
       "      <td>Or they wanted us to know https://t.co/oXCBtI8ziZ</td>\n",
       "      <td>Status(contributors=None, lang='en', favorite_...</td>\n",
       "      <td>https://twitter.com/EamonJavers/status/8438685...</td>\n",
       "      <td>Eamon Javers on Twitter Add a location to your...</td>\n",
       "    </tr>\n",
       "    <tr>\n",
       "      <th>11</th>\n",
       "      <td>twitter</td>\n",
       "      <td>2017-02-03 17:57:26</td>\n",
       "      <td>jakewarrentx</td>\n",
       "      <td>Great analysis of BossTDS https://t.co/43cRNNahTj</td>\n",
       "      <td>Status(contributors=None, lang='en', favorite_...</td>\n",
       "      <td>https://malwarebreakdown.com/2017/02/02/bosstd...</td>\n",
       "      <td>BossTDS and Exploit Kits Download the Appendix...</td>\n",
       "    </tr>\n",
       "    <tr>\n",
       "      <th>12</th>\n",
       "      <td>twitter</td>\n",
       "      <td>2016-12-08 20:22:24</td>\n",
       "      <td>jakewarrentx</td>\n",
       "      <td>useful #malware labeling tool to help consolid...</td>\n",
       "      <td>Status(contributors=None, lang='en', favorite_...</td>\n",
       "      <td>https://github.com/malicialab/avclass</td>\n",
       "      <td>malicialab/avclass: AVClass malware labeling t...</td>\n",
       "    </tr>\n",
       "    <tr>\n",
       "      <th>13</th>\n",
       "      <td>twitter</td>\n",
       "      <td>2017-03-28 19:41:52</td>\n",
       "      <td>jakewarrentx</td>\n",
       "      <td>Russian Media and Disinformation in Ukraine\\nh...</td>\n",
       "      <td>Status(contributors=None, lang='en', favorite_...</td>\n",
       "      <td>https://krypt3ia.wordpress.com/2017/03/28/rule...</td>\n",
       "      <td>RULEAKS: Russian Media and Disinformation in U...</td>\n",
       "    </tr>\n",
       "    <tr>\n",
       "      <th>14</th>\n",
       "      <td>twitter</td>\n",
       "      <td>2017-02-13 23:22:49</td>\n",
       "      <td>jakewarrentx</td>\n",
       "      <td>Russia preparing to ‘cash in’ its military gai...</td>\n",
       "      <td>Status(contributors=None, lang='en', favorite_...</td>\n",
       "      <td>https://iswresearch.blogspot.com/2017/02/ukrai...</td>\n",
       "      <td>ISW Blog: Ukraine Warning Update: Russia prepa...</td>\n",
       "    </tr>\n",
       "    <tr>\n",
       "      <th>15</th>\n",
       "      <td>twitter</td>\n",
       "      <td>2017-03-27 22:18:55</td>\n",
       "      <td>jakewarrentx</td>\n",
       "      <td>counter troll armies is an interesting idea ht...</td>\n",
       "      <td>Status(contributors=None, lang='en', favorite_...</td>\n",
       "      <td>https://medium.com/@thegrugq/american-snoper-6...</td>\n",
       "      <td>American Snoper – the grugq – Medium American ...</td>\n",
       "    </tr>\n",
       "    <tr>\n",
       "      <th>16</th>\n",
       "      <td>twitter</td>\n",
       "      <td>2017-05-18 21:14:53</td>\n",
       "      <td>jakewarrentx</td>\n",
       "      <td>Intersting read on Russian active measures htt...</td>\n",
       "      <td>Status(contributors=None, lang='en', favorite_...</td>\n",
       "      <td>http://time.com/4783932/inside-russia-social-m...</td>\n",
       "      <td>Inside Russia’s Social Media War on America On...</td>\n",
       "    </tr>\n",
       "    <tr>\n",
       "      <th>17</th>\n",
       "      <td>twitter</td>\n",
       "      <td>2017-04-25 20:01:52</td>\n",
       "      <td>jakewarrentx</td>\n",
       "      <td>Wrote a tool implementing the Gmail user enume...</td>\n",
       "      <td>Status(contributors=None, lang='en', favorite_...</td>\n",
       "      <td>https://github.com/jakewarren/gmail_address_ve...</td>\n",
       "      <td>jakewarren/gmail_address_verifier: Checks if a...</td>\n",
       "    </tr>\n",
       "    <tr>\n",
       "      <th>18</th>\n",
       "      <td>twitter</td>\n",
       "      <td>2017-04-20 15:00:06</td>\n",
       "      <td>jakewarrentx</td>\n",
       "      <td>interesting technique https://t.co/gbRTglfqUv</td>\n",
       "      <td>Status(contributors=None, lang='en', favorite_...</td>\n",
       "      <td>https://blog.lukaszolejnik.com/stealing-sensit...</td>\n",
       "      <td>Stealing sensitive browser data with the W3C A...</td>\n",
       "    </tr>\n",
       "    <tr>\n",
       "      <th>19</th>\n",
       "      <td>twitter</td>\n",
       "      <td>2017-05-11 18:12:54</td>\n",
       "      <td>jakewarrentx</td>\n",
       "      <td>DNI 2017 Worldwide Threat Assessment https://t...</td>\n",
       "      <td>Status(contributors=None, lang='en', favorite_...</td>\n",
       "      <td>https://www.dni.gov/files/documents/Newsroom/T...</td>\n",
       "      <td></td>\n",
       "    </tr>\n",
       "    <tr>\n",
       "      <th>20</th>\n",
       "      <td>twitter</td>\n",
       "      <td>2016-12-16 20:29:34</td>\n",
       "      <td>jakewarrentx</td>\n",
       "      <td>Agreed. https://t.co/uxrgP2d3aA</td>\n",
       "      <td>Status(contributors=None, lang='en', favorite_...</td>\n",
       "      <td>https://twitter.com/davevenable/status/8098567...</td>\n",
       "      <td>Dave Venable on Twitter Add a location to your...</td>\n",
       "    </tr>\n",
       "    <tr>\n",
       "      <th>21</th>\n",
       "      <td>twitter</td>\n",
       "      <td>2017-02-09 19:50:34</td>\n",
       "      <td>jakewarrentx</td>\n",
       "      <td>great article on #privacy and #opsec https://t...</td>\n",
       "      <td>Status(contributors=None, lang='en', favorite_...</td>\n",
       "      <td>https://tisiphone.net/2017/02/08/is-digital-pr...</td>\n",
       "      <td>Is Digital Privacy a Privilege Of The Wealthy?...</td>\n",
       "    </tr>\n",
       "    <tr>\n",
       "      <th>22</th>\n",
       "      <td>twitter</td>\n",
       "      <td>2017-02-09 18:17:04</td>\n",
       "      <td>jakewarrentx</td>\n",
       "      <td>#Ticketbleed testing tool. https://t.co/21bFyf...</td>\n",
       "      <td>Status(contributors=None, lang='en', favorite_...</td>\n",
       "      <td>https://gist.github.com/jakewarren/61c7139c937...</td>\n",
       "      <td>ticketbleed.go What would you like to do?\\n\\nE...</td>\n",
       "    </tr>\n",
       "    <tr>\n",
       "      <th>23</th>\n",
       "      <td>twitter</td>\n",
       "      <td>2017-02-09 15:56:51</td>\n",
       "      <td>jakewarrentx</td>\n",
       "      <td>Empow raises $9M https://t.co/tBZC2zDsqf</td>\n",
       "      <td>Status(contributors=None, lang='en', favorite_...</td>\n",
       "      <td>http://www.empownetworks.com/empow-secures-9m-...</td>\n",
       "      <td>empow Secures $9M in Funding Innovative “Secur...</td>\n",
       "    </tr>\n",
       "    <tr>\n",
       "      <th>24</th>\n",
       "      <td>twitter</td>\n",
       "      <td>2017-02-28 16:31:04</td>\n",
       "      <td>jakewarrentx</td>\n",
       "      <td>Nice infographic on spotting fake news https:/...</td>\n",
       "      <td>Status(contributors=None, lang='en', favorite_...</td>\n",
       "      <td>http://www.ifla.org/files/assets/hq/topics/inf...</td>\n",
       "      <td></td>\n",
       "    </tr>\n",
       "    <tr>\n",
       "      <th>25</th>\n",
       "      <td>twitter</td>\n",
       "      <td>2017-07-07 21:17:08</td>\n",
       "      <td>jakewarrentx</td>\n",
       "      <td>Wow. This is the second time in two weeks they...</td>\n",
       "      <td>Status(contributors=None, lang='en', favorite_...</td>\n",
       "      <td>https://twitter.com/chrisdoman/status/88343105...</td>\n",
       "      <td>chris doman on Twitter Add a location to your ...</td>\n",
       "    </tr>\n",
       "    <tr>\n",
       "      <th>26</th>\n",
       "      <td>twitter</td>\n",
       "      <td>2017-02-10 17:06:27</td>\n",
       "      <td>jakewarrentx</td>\n",
       "      <td>TruSTAR raises $5M in Series A round https://t...</td>\n",
       "      <td>Status(contributors=None, lang='en', favorite_...</td>\n",
       "      <td>https://blog.trustar.co/new-funding-round-powe...</td>\n",
       "      <td>New Funding Round: Powering Our Growth – TruST...</td>\n",
       "    </tr>\n",
       "    <tr>\n",
       "      <th>27</th>\n",
       "      <td>twitter</td>\n",
       "      <td>2017-02-10 17:06:09</td>\n",
       "      <td>jakewarrentx</td>\n",
       "      <td>https://t.co/sSDgt57gFe Evident raises $22M in...</td>\n",
       "      <td>Status(contributors=None, lang='en', favorite_...</td>\n",
       "      <td>https://evident.io/press-releases/evident-io-s...</td>\n",
       "      <td>Evident.io Secures $22 Million in Series C Fun...</td>\n",
       "    </tr>\n",
       "    <tr>\n",
       "      <th>28</th>\n",
       "      <td>twitter</td>\n",
       "      <td>2017-01-18 19:36:42</td>\n",
       "      <td>jakewarrentx</td>\n",
       "      <td>Looks like Cassandra is also getting hit by a ...</td>\n",
       "      <td>Status(contributors=None, lang='en', favorite_...</td>\n",
       "      <td>https://www.shodan.io/search?query=your_db_is_...</td>\n",
       "      <td>your_db_is_not_secure</td>\n",
       "    </tr>\n",
       "    <tr>\n",
       "      <th>29</th>\n",
       "      <td>twitter</td>\n",
       "      <td>2017-02-20 17:07:55</td>\n",
       "      <td>jakewarrentx</td>\n",
       "      <td>Has China Been Practicing Preemptive Missile S...</td>\n",
       "      <td>Status(contributors=None, lang='en', favorite_...</td>\n",
       "      <td>https://warontherocks.com/2017/02/has-china-be...</td>\n",
       "      <td>Has China Been Practicing Preemptive Missile S...</td>\n",
       "    </tr>\n",
       "    <tr>\n",
       "      <th>...</th>\n",
       "      <td>...</td>\n",
       "      <td>...</td>\n",
       "      <td>...</td>\n",
       "      <td>...</td>\n",
       "      <td>...</td>\n",
       "      <td>...</td>\n",
       "      <td>...</td>\n",
       "    </tr>\n",
       "    <tr>\n",
       "      <th>11919</th>\n",
       "      <td>twitter</td>\n",
       "      <td>2017-05-27 15:44:29</td>\n",
       "      <td>herrcore</td>\n",
       "      <td>My life right now... https://t.co/wQhXyEvhfT</td>\n",
       "      <td>Status(contributors=None, lang='en', favorite_...</td>\n",
       "      <td>https://twitter.com/nickcano93/status/86820004...</td>\n",
       "      <td>Nick Cano on Twitter Add a location to your Tw...</td>\n",
       "    </tr>\n",
       "    <tr>\n",
       "      <th>11920</th>\n",
       "      <td>twitter</td>\n",
       "      <td>2017-05-31 16:08:24</td>\n",
       "      <td>herrcore</td>\n",
       "      <td>Nice python tool to quickly edit PE sections. ...</td>\n",
       "      <td>Status(contributors=None, lang='en', favorite_...</td>\n",
       "      <td>https://github.com/secretsquirrel/recomposer</td>\n",
       "      <td>secretsquirrel/recomposer: Randomly changes Wi...</td>\n",
       "    </tr>\n",
       "    <tr>\n",
       "      <th>11921</th>\n",
       "      <td>twitter</td>\n",
       "      <td>2017-03-28 23:26:33</td>\n",
       "      <td>herrcore</td>\n",
       "      <td>I made a small python tool for automatically e...</td>\n",
       "      <td>Status(contributors=None, lang='en', favorite_...</td>\n",
       "      <td>https://github.com/herrcore/aplib-ripper</td>\n",
       "      <td>herrcore/aplib-ripper: Use this library to aut...</td>\n",
       "    </tr>\n",
       "    <tr>\n",
       "      <th>11922</th>\n",
       "      <td>twitter</td>\n",
       "      <td>2017-03-28 00:07:35</td>\n",
       "      <td>herrcore</td>\n",
       "      <td>This is how I setup my MacBook for analysis (a...</td>\n",
       "      <td>Status(contributors=None, lang='en', favorite_...</td>\n",
       "      <td>https://github.com/herrcore/mac-dev-setup/tree...</td>\n",
       "      <td>herrcore/mac-dev-setup at 2.0 Mac OS X Dev Set...</td>\n",
       "    </tr>\n",
       "    <tr>\n",
       "      <th>11923</th>\n",
       "      <td>twitter</td>\n",
       "      <td>2017-01-24 21:30:05</td>\n",
       "      <td>herrcore</td>\n",
       "      <td>Just stumbled upon this fantastic #malware ana...</td>\n",
       "      <td>Status(contributors=None, lang='en', favorite_...</td>\n",
       "      <td>https://www.youtube.com/channel/UCVFXrUwuWxNlm...</td>\n",
       "      <td>MalwareAnalysisForHedgehogs This is the second...</td>\n",
       "    </tr>\n",
       "    <tr>\n",
       "      <th>11924</th>\n",
       "      <td>twitter</td>\n",
       "      <td>2016-12-22 15:31:40</td>\n",
       "      <td>herrcore</td>\n",
       "      <td>For everyone travelling this Christmas if you ...</td>\n",
       "      <td>Status(contributors=None, lang='en', favorite_...</td>\n",
       "      <td>https://www.youtube.com/watch?v=MVu4c7dhDRE</td>\n",
       "      <td>Chuck Berry - Run Rudolph Run (1958) Rating is...</td>\n",
       "    </tr>\n",
       "    <tr>\n",
       "      <th>11925</th>\n",
       "      <td>twitter</td>\n",
       "      <td>2017-05-01 02:09:23</td>\n",
       "      <td>herrcore</td>\n",
       "      <td>Punbup the python extraction tool for McAfee ....</td>\n",
       "      <td>Status(contributors=None, lang='en', favorite_...</td>\n",
       "      <td>https://github.com/herrcore/punbup/tree/python3</td>\n",
       "      <td>herrcore/punbup at python3 Python unbup script...</td>\n",
       "    </tr>\n",
       "    <tr>\n",
       "      <th>11926</th>\n",
       "      <td>twitter</td>\n",
       "      <td>2017-01-20 20:14:55</td>\n",
       "      <td>herrcore</td>\n",
       "      <td>Interesting post on (the wrong way lol!) to cl...</td>\n",
       "      <td>Status(contributors=None, lang='en', favorite_...</td>\n",
       "      <td>https://watchmysys.com/blog/2017/01/intel-me-b...</td>\n",
       "      <td>The wrong way to clear a BIOS password I was b...</td>\n",
       "    </tr>\n",
       "    <tr>\n",
       "      <th>11927</th>\n",
       "      <td>twitter</td>\n",
       "      <td>2017-06-17 17:51:11</td>\n",
       "      <td>herrcore</td>\n",
       "      <td>Thorough analysis of #Mamba #Ransomware from ....</td>\n",
       "      <td>Status(contributors=None, lang='en', favorite_...</td>\n",
       "      <td>https://secrary.com/ReversingMalware/Mamba/</td>\n",
       "      <td>Mamba Ransomware (HDDCryptor) 6 minutes read\\n...</td>\n",
       "    </tr>\n",
       "    <tr>\n",
       "      <th>11928</th>\n",
       "      <td>twitter</td>\n",
       "      <td>2017-03-27 16:21:58</td>\n",
       "      <td>herrcore</td>\n",
       "      <td>Fellow #honeypot operators a friend is looking...</td>\n",
       "      <td>Status(contributors=None, lang='en', favorite_...</td>\n",
       "      <td>https://twitter.com/i/web/status/8463968905854...</td>\n",
       "      <td>herrcore on Twitter Add a location to your Twe...</td>\n",
       "    </tr>\n",
       "    <tr>\n",
       "      <th>11929</th>\n",
       "      <td>twitter</td>\n",
       "      <td>2017-02-19 05:55:41</td>\n",
       "      <td>herrcore</td>\n",
       "      <td>New video… Unpacking VB6 Packers Like A BO$$!\\...</td>\n",
       "      <td>Status(contributors=None, lang='en', favorite_...</td>\n",
       "      <td>https://vimeo.com/204733748</td>\n",
       "      <td>Open Analysis Live: Unpacking VB6 Packers Like...</td>\n",
       "    </tr>\n",
       "    <tr>\n",
       "      <th>11930</th>\n",
       "      <td>twitter</td>\n",
       "      <td>2016-12-27 16:37:33</td>\n",
       "      <td>herrcore</td>\n",
       "      <td>Creeping old OpenMalware posts and found this ...</td>\n",
       "      <td>Status(contributors=None, lang='en', favorite_...</td>\n",
       "      <td>https://twitter.com/openmalware/status/3999724...</td>\n",
       "      <td>Open Malware on Twitter Add a location to your...</td>\n",
       "    </tr>\n",
       "    <tr>\n",
       "      <th>11931</th>\n",
       "      <td>twitter</td>\n",
       "      <td>2016-11-28 20:02:11</td>\n",
       "      <td>herrcore</td>\n",
       "      <td>Unofficial ad-free #PornHub app… yup too good ...</td>\n",
       "      <td>Status(contributors=None, lang='en', favorite_...</td>\n",
       "      <td>https://twitter.com/i/web/status/8033281512040...</td>\n",
       "      <td>herrcore on Twitter Add a location to your Twe...</td>\n",
       "    </tr>\n",
       "    <tr>\n",
       "      <th>11932</th>\n",
       "      <td>twitter</td>\n",
       "      <td>2016-11-28 16:18:02</td>\n",
       "      <td>herrcore</td>\n",
       "      <td>Though persistence via:\\n%APPDATA%\\Microsoft\\W...</td>\n",
       "      <td>Status(contributors=None, lang='en', favorite_...</td>\n",
       "      <td>https://twitter.com/i/web/status/8032717423787...</td>\n",
       "      <td>herrcore on Twitter Add a location to your Twe...</td>\n",
       "    </tr>\n",
       "    <tr>\n",
       "      <th>11933</th>\n",
       "      <td>twitter</td>\n",
       "      <td>2017-02-12 16:59:03</td>\n",
       "      <td>herrcore</td>\n",
       "      <td>Inspired by the awesome work from .@hasherezad...</td>\n",
       "      <td>Status(contributors=None, lang='en', favorite_...</td>\n",
       "      <td>https://vimeo.com/oalabs</td>\n",
       "      <td>oalabs</td>\n",
       "    </tr>\n",
       "    <tr>\n",
       "      <th>11934</th>\n",
       "      <td>twitter</td>\n",
       "      <td>2017-03-19 18:16:31</td>\n",
       "      <td>herrcore</td>\n",
       "      <td>Sunday afternoon video: \\n.@seanmw walks throu...</td>\n",
       "      <td>Status(contributors=None, lang='en', favorite_...</td>\n",
       "      <td>https://vimeo.com/208229269</td>\n",
       "      <td>Open Analysis Live: Viewer Submission - Decodi...</td>\n",
       "    </tr>\n",
       "    <tr>\n",
       "      <th>11935</th>\n",
       "      <td>twitter</td>\n",
       "      <td>2017-03-19 16:30:07</td>\n",
       "      <td>herrcore</td>\n",
       "      <td>Reminder if you want an easy way to test #MISP...</td>\n",
       "      <td>Status(contributors=None, lang='en', favorite_...</td>\n",
       "      <td>https://www.circl.lu/services/misp-training-ma...</td>\n",
       "      <td>Malware Information Sharing Platform &amp; Threat ...</td>\n",
       "    </tr>\n",
       "    <tr>\n",
       "      <th>11936</th>\n",
       "      <td>twitter</td>\n",
       "      <td>2017-05-11 18:09:08</td>\n",
       "      <td>herrcore</td>\n",
       "      <td>Do it live! : )) https://t.co/RI0TTu82aM</td>\n",
       "      <td>Status(contributors=None, lang='en', favorite_...</td>\n",
       "      <td>https://twitter.com/seanmw/status/862656336705...</td>\n",
       "      <td>.sean on Twitter Add a location to your Tweets...</td>\n",
       "    </tr>\n",
       "    <tr>\n",
       "      <th>11937</th>\n",
       "      <td>twitter</td>\n",
       "      <td>2017-07-11 15:21:22</td>\n",
       "      <td>herrcore</td>\n",
       "      <td>Nice detailed analysis and an extractor!! http...</td>\n",
       "      <td>Status(contributors=None, lang='en', favorite_...</td>\n",
       "      <td>https://twitter.com/_qaz_qaz/status/8847714833...</td>\n",
       "      <td>Lasha Khasaia on Twitter Add a location to you...</td>\n",
       "    </tr>\n",
       "    <tr>\n",
       "      <th>11938</th>\n",
       "      <td>twitter</td>\n",
       "      <td>2017-07-11 02:59:46</td>\n",
       "      <td>herrcore</td>\n",
       "      <td>The reason I’ve been extra quiet lately… all m...</td>\n",
       "      <td>Status(contributors=None, lang='en', favorite_...</td>\n",
       "      <td>https://twitter.com/i/web/status/8846081234572...</td>\n",
       "      <td>herrcore on Twitter Add a location to your Twe...</td>\n",
       "    </tr>\n",
       "    <tr>\n",
       "      <th>11939</th>\n",
       "      <td>twitter</td>\n",
       "      <td>2017-04-17 11:55:04</td>\n",
       "      <td>herrcore</td>\n",
       "      <td>For everyone waiting on code and unpack reques...</td>\n",
       "      <td>Status(contributors=None, lang='en', favorite_...</td>\n",
       "      <td>https://twitter.com/i/web/status/8539398668576...</td>\n",
       "      <td>herrcore on Twitter Add a location to your Twe...</td>\n",
       "    </tr>\n",
       "    <tr>\n",
       "      <th>11940</th>\n",
       "      <td>twitter</td>\n",
       "      <td>2016-12-14 23:00:35</td>\n",
       "      <td>herrcore</td>\n",
       "      <td>Yeeesh! This doesn’t sound like the place I wa...</td>\n",
       "      <td>Status(contributors=None, lang='en', favorite_...</td>\n",
       "      <td>https://help.evernote.com/hc/en-us/articles/23...</td>\n",
       "      <td>Notice of Privacy Policy Updates (January 2017...</td>\n",
       "    </tr>\n",
       "    <tr>\n",
       "      <th>11941</th>\n",
       "      <td>twitter</td>\n",
       "      <td>2017-03-17 18:03:42</td>\n",
       "      <td>herrcore</td>\n",
       "      <td>This is 🔥🔥🔥 from .@Tal_Liberman.\\nAlso interes...</td>\n",
       "      <td>Status(contributors=None, lang='en', favorite_...</td>\n",
       "      <td>https://securityintelligence.com/dridexs-cold-...</td>\n",
       "      <td>Dridex’s Cold War: Enter AtomBombing IBM X-For...</td>\n",
       "    </tr>\n",
       "    <tr>\n",
       "      <th>11942</th>\n",
       "      <td>twitter</td>\n",
       "      <td>2017-05-30 13:18:36</td>\n",
       "      <td>herrcore</td>\n",
       "      <td>Could it be? The answer to all my COM problems...</td>\n",
       "      <td>Status(contributors=None, lang='en', favorite_...</td>\n",
       "      <td>https://twitter.com/ochsenmeier/status/8695410...</td>\n",
       "      <td>marc ochsenmeier on Twitter Add a location to ...</td>\n",
       "    </tr>\n",
       "    <tr>\n",
       "      <th>11943</th>\n",
       "      <td>twitter</td>\n",
       "      <td>2016-12-28 22:23:10</td>\n",
       "      <td>herrcore</td>\n",
       "      <td>Src for those awesome win32 structs implemente...</td>\n",
       "      <td>Status(contributors=None, lang='en', favorite_...</td>\n",
       "      <td>https://gitlab.com/WithinRafael/anzu/blob/mast...</td>\n",
       "      <td>src/win32.js · master · Rafael Rivera / anzu</td>\n",
       "    </tr>\n",
       "    <tr>\n",
       "      <th>11944</th>\n",
       "      <td>twitter</td>\n",
       "      <td>2016-12-28 03:40:02</td>\n",
       "      <td>herrcore</td>\n",
       "      <td>If you’re building on #Frida check this projec...</td>\n",
       "      <td>Status(contributors=None, lang='en', favorite_...</td>\n",
       "      <td>https://twitter.com/i/web/status/8139526209771...</td>\n",
       "      <td>herrcore on Twitter Add a location to your Twe...</td>\n",
       "    </tr>\n",
       "    <tr>\n",
       "      <th>11945</th>\n",
       "      <td>twitter</td>\n",
       "      <td>2017-02-27 17:18:58</td>\n",
       "      <td>herrcore</td>\n",
       "      <td>Just realized slides are posted for Malware Tr...</td>\n",
       "      <td>Status(contributors=None, lang='en', favorite_...</td>\n",
       "      <td>https://www.countermeasure.ca/documents/2016/p...</td>\n",
       "      <td></td>\n",
       "    </tr>\n",
       "    <tr>\n",
       "      <th>11946</th>\n",
       "      <td>twitter</td>\n",
       "      <td>2017-04-08 17:55:53</td>\n",
       "      <td>herrcore</td>\n",
       "      <td>New tutorial video; how to reverse engineer a ...</td>\n",
       "      <td>Status(contributors=None, lang='en', favorite_...</td>\n",
       "      <td>https://vimeo.com/212352397</td>\n",
       "      <td>Open Analysis Live: Reverse Engineering a DGA ...</td>\n",
       "    </tr>\n",
       "    <tr>\n",
       "      <th>11947</th>\n",
       "      <td>twitter</td>\n",
       "      <td>2017-02-04 18:41:35</td>\n",
       "      <td>herrcore</td>\n",
       "      <td>Haha OMG another one! Height of the #90s filme...</td>\n",
       "      <td>Status(contributors=None, lang='en', favorite_...</td>\n",
       "      <td>https://www.youtube.com/watch?v=jT4ppcqN3Cw</td>\n",
       "      <td>Capital Sound - Higher Love (video clip) Ratin...</td>\n",
       "    </tr>\n",
       "    <tr>\n",
       "      <th>11948</th>\n",
       "      <td>twitter</td>\n",
       "      <td>2017-02-04 18:25:16</td>\n",
       "      <td>herrcore</td>\n",
       "      <td>Another #90s throwback this one from my home t...</td>\n",
       "      <td>Status(contributors=None, lang='en', favorite_...</td>\n",
       "      <td>https://www.youtube.com/watch?v=HSOMa-ckeu0</td>\n",
       "      <td>Capital Sound - In The Night Published on Oct ...</td>\n",
       "    </tr>\n",
       "  </tbody>\n",
       "</table>\n",
       "<p>11949 rows × 7 columns</p>\n",
       "</div>"
      ],
      "text/plain": [
       "        source           created_at        author  \\\n",
       "0      twitter  2017-03-22 17:11:39  jakewarrentx   \n",
       "1      twitter  2017-03-10 20:13:43  jakewarrentx   \n",
       "2      twitter  2016-09-12 17:38:29  jakewarrentx   \n",
       "3      twitter  2017-04-24 18:23:44  jakewarrentx   \n",
       "4      twitter  2017-06-29 17:39:14  jakewarrentx   \n",
       "5      twitter  2017-03-09 20:49:09  jakewarrentx   \n",
       "6      twitter  2017-02-08 21:54:39  jakewarrentx   \n",
       "7      twitter  2017-02-08 21:37:20  jakewarrentx   \n",
       "8      twitter  2017-06-07 21:00:16  jakewarrentx   \n",
       "9      twitter  2017-05-12 16:24:57  jakewarrentx   \n",
       "10     twitter  2017-03-20 17:48:44  jakewarrentx   \n",
       "11     twitter  2017-02-03 17:57:26  jakewarrentx   \n",
       "12     twitter  2016-12-08 20:22:24  jakewarrentx   \n",
       "13     twitter  2017-03-28 19:41:52  jakewarrentx   \n",
       "14     twitter  2017-02-13 23:22:49  jakewarrentx   \n",
       "15     twitter  2017-03-27 22:18:55  jakewarrentx   \n",
       "16     twitter  2017-05-18 21:14:53  jakewarrentx   \n",
       "17     twitter  2017-04-25 20:01:52  jakewarrentx   \n",
       "18     twitter  2017-04-20 15:00:06  jakewarrentx   \n",
       "19     twitter  2017-05-11 18:12:54  jakewarrentx   \n",
       "20     twitter  2016-12-16 20:29:34  jakewarrentx   \n",
       "21     twitter  2017-02-09 19:50:34  jakewarrentx   \n",
       "22     twitter  2017-02-09 18:17:04  jakewarrentx   \n",
       "23     twitter  2017-02-09 15:56:51  jakewarrentx   \n",
       "24     twitter  2017-02-28 16:31:04  jakewarrentx   \n",
       "25     twitter  2017-07-07 21:17:08  jakewarrentx   \n",
       "26     twitter  2017-02-10 17:06:27  jakewarrentx   \n",
       "27     twitter  2017-02-10 17:06:09  jakewarrentx   \n",
       "28     twitter  2017-01-18 19:36:42  jakewarrentx   \n",
       "29     twitter  2017-02-20 17:07:55  jakewarrentx   \n",
       "...        ...                  ...           ...   \n",
       "11919  twitter  2017-05-27 15:44:29      herrcore   \n",
       "11920  twitter  2017-05-31 16:08:24      herrcore   \n",
       "11921  twitter  2017-03-28 23:26:33      herrcore   \n",
       "11922  twitter  2017-03-28 00:07:35      herrcore   \n",
       "11923  twitter  2017-01-24 21:30:05      herrcore   \n",
       "11924  twitter  2016-12-22 15:31:40      herrcore   \n",
       "11925  twitter  2017-05-01 02:09:23      herrcore   \n",
       "11926  twitter  2017-01-20 20:14:55      herrcore   \n",
       "11927  twitter  2017-06-17 17:51:11      herrcore   \n",
       "11928  twitter  2017-03-27 16:21:58      herrcore   \n",
       "11929  twitter  2017-02-19 05:55:41      herrcore   \n",
       "11930  twitter  2016-12-27 16:37:33      herrcore   \n",
       "11931  twitter  2016-11-28 20:02:11      herrcore   \n",
       "11932  twitter  2016-11-28 16:18:02      herrcore   \n",
       "11933  twitter  2017-02-12 16:59:03      herrcore   \n",
       "11934  twitter  2017-03-19 18:16:31      herrcore   \n",
       "11935  twitter  2017-03-19 16:30:07      herrcore   \n",
       "11936  twitter  2017-05-11 18:09:08      herrcore   \n",
       "11937  twitter  2017-07-11 15:21:22      herrcore   \n",
       "11938  twitter  2017-07-11 02:59:46      herrcore   \n",
       "11939  twitter  2017-04-17 11:55:04      herrcore   \n",
       "11940  twitter  2016-12-14 23:00:35      herrcore   \n",
       "11941  twitter  2017-03-17 18:03:42      herrcore   \n",
       "11942  twitter  2017-05-30 13:18:36      herrcore   \n",
       "11943  twitter  2016-12-28 22:23:10      herrcore   \n",
       "11944  twitter  2016-12-28 03:40:02      herrcore   \n",
       "11945  twitter  2017-02-27 17:18:58      herrcore   \n",
       "11946  twitter  2017-04-08 17:55:53      herrcore   \n",
       "11947  twitter  2017-02-04 18:41:35      herrcore   \n",
       "11948  twitter  2017-02-04 18:25:16      herrcore   \n",
       "\n",
       "                                                    text  \\\n",
       "0      Whitepaper on the detection and prevention of ...   \n",
       "1      How Should the U.S. Respond to a Russian Cyber...   \n",
       "2      Looks like #RigEK 178.32.92.122 https://t.co/R...   \n",
       "3      Macron targeted by Fancy Bear https://t.co/IYJ...   \n",
       "4      Source: https://t.co/hT7gPfm84T https://t.co/u...   \n",
       "5      New RAND study on zero days. https://t.co/ztmy...   \n",
       "6      HackerOne raises $40M in Series C round. https...   \n",
       "7      Interesting evaluation of core structured anal...   \n",
       "8      DoD 2017 China Military Power Report https://t...   \n",
       "9      Consolidated IOCs &amp; references for the Wan...   \n",
       "10     Or they wanted us to know https://t.co/oXCBtI8ziZ   \n",
       "11     Great analysis of BossTDS https://t.co/43cRNNahTj   \n",
       "12     useful #malware labeling tool to help consolid...   \n",
       "13     Russian Media and Disinformation in Ukraine\\nh...   \n",
       "14     Russia preparing to ‘cash in’ its military gai...   \n",
       "15     counter troll armies is an interesting idea ht...   \n",
       "16     Intersting read on Russian active measures htt...   \n",
       "17     Wrote a tool implementing the Gmail user enume...   \n",
       "18         interesting technique https://t.co/gbRTglfqUv   \n",
       "19     DNI 2017 Worldwide Threat Assessment https://t...   \n",
       "20                       Agreed. https://t.co/uxrgP2d3aA   \n",
       "21     great article on #privacy and #opsec https://t...   \n",
       "22     #Ticketbleed testing tool. https://t.co/21bFyf...   \n",
       "23              Empow raises $9M https://t.co/tBZC2zDsqf   \n",
       "24     Nice infographic on spotting fake news https:/...   \n",
       "25     Wow. This is the second time in two weeks they...   \n",
       "26     TruSTAR raises $5M in Series A round https://t...   \n",
       "27     https://t.co/sSDgt57gFe Evident raises $22M in...   \n",
       "28     Looks like Cassandra is also getting hit by a ...   \n",
       "29     Has China Been Practicing Preemptive Missile S...   \n",
       "...                                                  ...   \n",
       "11919       My life right now... https://t.co/wQhXyEvhfT   \n",
       "11920  Nice python tool to quickly edit PE sections. ...   \n",
       "11921  I made a small python tool for automatically e...   \n",
       "11922  This is how I setup my MacBook for analysis (a...   \n",
       "11923  Just stumbled upon this fantastic #malware ana...   \n",
       "11924  For everyone travelling this Christmas if you ...   \n",
       "11925  Punbup the python extraction tool for McAfee ....   \n",
       "11926  Interesting post on (the wrong way lol!) to cl...   \n",
       "11927  Thorough analysis of #Mamba #Ransomware from ....   \n",
       "11928  Fellow #honeypot operators a friend is looking...   \n",
       "11929  New video… Unpacking VB6 Packers Like A BO$$!\\...   \n",
       "11930  Creeping old OpenMalware posts and found this ...   \n",
       "11931  Unofficial ad-free #PornHub app… yup too good ...   \n",
       "11932  Though persistence via:\\n%APPDATA%\\Microsoft\\W...   \n",
       "11933  Inspired by the awesome work from .@hasherezad...   \n",
       "11934  Sunday afternoon video: \\n.@seanmw walks throu...   \n",
       "11935  Reminder if you want an easy way to test #MISP...   \n",
       "11936           Do it live! : )) https://t.co/RI0TTu82aM   \n",
       "11937  Nice detailed analysis and an extractor!! http...   \n",
       "11938  The reason I’ve been extra quiet lately… all m...   \n",
       "11939  For everyone waiting on code and unpack reques...   \n",
       "11940  Yeeesh! This doesn’t sound like the place I wa...   \n",
       "11941  This is 🔥🔥🔥 from .@Tal_Liberman.\\nAlso interes...   \n",
       "11942  Could it be? The answer to all my COM problems...   \n",
       "11943  Src for those awesome win32 structs implemente...   \n",
       "11944  If you’re building on #Frida check this projec...   \n",
       "11945  Just realized slides are posted for Malware Tr...   \n",
       "11946  New tutorial video; how to reverse engineer a ...   \n",
       "11947  Haha OMG another one! Height of the #90s filme...   \n",
       "11948  Another #90s throwback this one from my home t...   \n",
       "\n",
       "                                                raw_data  \\\n",
       "0      Status(contributors=None, lang='en', favorite_...   \n",
       "1      Status(contributors=None, lang='en', favorite_...   \n",
       "2      Status(contributors=None, lang='en', favorite_...   \n",
       "3      Status(contributors=None, lang='en', favorite_...   \n",
       "4      Status(contributors=None, lang='en', favorite_...   \n",
       "5      Status(contributors=None, lang='en', favorite_...   \n",
       "6      Status(contributors=None, lang='en', favorite_...   \n",
       "7      Status(contributors=None, lang='en', favorite_...   \n",
       "8      Status(contributors=None, lang='en', favorite_...   \n",
       "9      Status(contributors=None, lang='en', favorite_...   \n",
       "10     Status(contributors=None, lang='en', favorite_...   \n",
       "11     Status(contributors=None, lang='en', favorite_...   \n",
       "12     Status(contributors=None, lang='en', favorite_...   \n",
       "13     Status(contributors=None, lang='en', favorite_...   \n",
       "14     Status(contributors=None, lang='en', favorite_...   \n",
       "15     Status(contributors=None, lang='en', favorite_...   \n",
       "16     Status(contributors=None, lang='en', favorite_...   \n",
       "17     Status(contributors=None, lang='en', favorite_...   \n",
       "18     Status(contributors=None, lang='en', favorite_...   \n",
       "19     Status(contributors=None, lang='en', favorite_...   \n",
       "20     Status(contributors=None, lang='en', favorite_...   \n",
       "21     Status(contributors=None, lang='en', favorite_...   \n",
       "22     Status(contributors=None, lang='en', favorite_...   \n",
       "23     Status(contributors=None, lang='en', favorite_...   \n",
       "24     Status(contributors=None, lang='en', favorite_...   \n",
       "25     Status(contributors=None, lang='en', favorite_...   \n",
       "26     Status(contributors=None, lang='en', favorite_...   \n",
       "27     Status(contributors=None, lang='en', favorite_...   \n",
       "28     Status(contributors=None, lang='en', favorite_...   \n",
       "29     Status(contributors=None, lang='en', favorite_...   \n",
       "...                                                  ...   \n",
       "11919  Status(contributors=None, lang='en', favorite_...   \n",
       "11920  Status(contributors=None, lang='en', favorite_...   \n",
       "11921  Status(contributors=None, lang='en', favorite_...   \n",
       "11922  Status(contributors=None, lang='en', favorite_...   \n",
       "11923  Status(contributors=None, lang='en', favorite_...   \n",
       "11924  Status(contributors=None, lang='en', favorite_...   \n",
       "11925  Status(contributors=None, lang='en', favorite_...   \n",
       "11926  Status(contributors=None, lang='en', favorite_...   \n",
       "11927  Status(contributors=None, lang='en', favorite_...   \n",
       "11928  Status(contributors=None, lang='en', favorite_...   \n",
       "11929  Status(contributors=None, lang='en', favorite_...   \n",
       "11930  Status(contributors=None, lang='en', favorite_...   \n",
       "11931  Status(contributors=None, lang='en', favorite_...   \n",
       "11932  Status(contributors=None, lang='en', favorite_...   \n",
       "11933  Status(contributors=None, lang='en', favorite_...   \n",
       "11934  Status(contributors=None, lang='en', favorite_...   \n",
       "11935  Status(contributors=None, lang='en', favorite_...   \n",
       "11936  Status(contributors=None, lang='en', favorite_...   \n",
       "11937  Status(contributors=None, lang='en', favorite_...   \n",
       "11938  Status(contributors=None, lang='en', favorite_...   \n",
       "11939  Status(contributors=None, lang='en', favorite_...   \n",
       "11940  Status(contributors=None, lang='en', favorite_...   \n",
       "11941  Status(contributors=None, lang='en', favorite_...   \n",
       "11942  Status(contributors=None, lang='en', favorite_...   \n",
       "11943  Status(contributors=None, lang='en', favorite_...   \n",
       "11944  Status(contributors=None, lang='en', favorite_...   \n",
       "11945  Status(contributors=None, lang='en', favorite_...   \n",
       "11946  Status(contributors=None, lang='en', favorite_...   \n",
       "11947  Status(contributors=None, lang='en', favorite_...   \n",
       "11948  Status(contributors=None, lang='en', favorite_...   \n",
       "\n",
       "                                                     url  \\\n",
       "0      https://bdataanalytics.biomedcentral.com/artic...   \n",
       "1      http://yalejournal.org/article_post/how-should...   \n",
       "2      https://twitter.com/BelchSpeak/status/77538644...   \n",
       "3      http://www.silicon.fr/en-marche-macron-cible-p...   \n",
       "4      http://www.dia.mil/Portals/27/Documents/News/M...   \n",
       "5      http://www.rand.org/pubs/research_reports/RR17...   \n",
       "6      http://fortune.com/2017/02/08/bug-bounty-hacke...   \n",
       "7      http://www.tandfonline.com/doi/full/10.1080/08...   \n",
       "8      https://www.defense.gov/Portals/1/Documents/pu...   \n",
       "9      https://gist.github.com/jakewarren/7b517f66cc0...   \n",
       "10     https://twitter.com/EamonJavers/status/8438685...   \n",
       "11     https://malwarebreakdown.com/2017/02/02/bosstd...   \n",
       "12                 https://github.com/malicialab/avclass   \n",
       "13     https://krypt3ia.wordpress.com/2017/03/28/rule...   \n",
       "14     https://iswresearch.blogspot.com/2017/02/ukrai...   \n",
       "15     https://medium.com/@thegrugq/american-snoper-6...   \n",
       "16     http://time.com/4783932/inside-russia-social-m...   \n",
       "17     https://github.com/jakewarren/gmail_address_ve...   \n",
       "18     https://blog.lukaszolejnik.com/stealing-sensit...   \n",
       "19     https://www.dni.gov/files/documents/Newsroom/T...   \n",
       "20     https://twitter.com/davevenable/status/8098567...   \n",
       "21     https://tisiphone.net/2017/02/08/is-digital-pr...   \n",
       "22     https://gist.github.com/jakewarren/61c7139c937...   \n",
       "23     http://www.empownetworks.com/empow-secures-9m-...   \n",
       "24     http://www.ifla.org/files/assets/hq/topics/inf...   \n",
       "25     https://twitter.com/chrisdoman/status/88343105...   \n",
       "26     https://blog.trustar.co/new-funding-round-powe...   \n",
       "27     https://evident.io/press-releases/evident-io-s...   \n",
       "28     https://www.shodan.io/search?query=your_db_is_...   \n",
       "29     https://warontherocks.com/2017/02/has-china-be...   \n",
       "...                                                  ...   \n",
       "11919  https://twitter.com/nickcano93/status/86820004...   \n",
       "11920       https://github.com/secretsquirrel/recomposer   \n",
       "11921           https://github.com/herrcore/aplib-ripper   \n",
       "11922  https://github.com/herrcore/mac-dev-setup/tree...   \n",
       "11923  https://www.youtube.com/channel/UCVFXrUwuWxNlm...   \n",
       "11924        https://www.youtube.com/watch?v=MVu4c7dhDRE   \n",
       "11925    https://github.com/herrcore/punbup/tree/python3   \n",
       "11926  https://watchmysys.com/blog/2017/01/intel-me-b...   \n",
       "11927        https://secrary.com/ReversingMalware/Mamba/   \n",
       "11928  https://twitter.com/i/web/status/8463968905854...   \n",
       "11929                        https://vimeo.com/204733748   \n",
       "11930  https://twitter.com/openmalware/status/3999724...   \n",
       "11931  https://twitter.com/i/web/status/8033281512040...   \n",
       "11932  https://twitter.com/i/web/status/8032717423787...   \n",
       "11933                           https://vimeo.com/oalabs   \n",
       "11934                        https://vimeo.com/208229269   \n",
       "11935  https://www.circl.lu/services/misp-training-ma...   \n",
       "11936  https://twitter.com/seanmw/status/862656336705...   \n",
       "11937  https://twitter.com/_qaz_qaz/status/8847714833...   \n",
       "11938  https://twitter.com/i/web/status/8846081234572...   \n",
       "11939  https://twitter.com/i/web/status/8539398668576...   \n",
       "11940  https://help.evernote.com/hc/en-us/articles/23...   \n",
       "11941  https://securityintelligence.com/dridexs-cold-...   \n",
       "11942  https://twitter.com/ochsenmeier/status/8695410...   \n",
       "11943  https://gitlab.com/WithinRafael/anzu/blob/mast...   \n",
       "11944  https://twitter.com/i/web/status/8139526209771...   \n",
       "11945  https://www.countermeasure.ca/documents/2016/p...   \n",
       "11946                        https://vimeo.com/212352397   \n",
       "11947        https://www.youtube.com/watch?v=jT4ppcqN3Cw   \n",
       "11948        https://www.youtube.com/watch?v=HSOMa-ckeu0   \n",
       "\n",
       "                                             url_content  \n",
       "0      Detection and prediction of insider threats to...  \n",
       "1      How Should the U.S. Respond to a Russian Cyber...  \n",
       "2      Cyber Maui on Twitter Add a location to your T...  \n",
       "3      En Marche est la cible d’attaques de phishing ...  \n",
       "4                                                         \n",
       "5      Zero Days, Thousands of Nights: The Life and T...  \n",
       "6      This $40 Million Investment Shows How ‘Bug Bou...  \n",
       "7      An Evidence-Based Evaluation of 12 Core Struct...  \n",
       "8                                                         \n",
       "9      WannaCry Information What would you like to do...  \n",
       "10     Eamon Javers on Twitter Add a location to your...  \n",
       "11     BossTDS and Exploit Kits Download the Appendix...  \n",
       "12     malicialab/avclass: AVClass malware labeling t...  \n",
       "13     RULEAKS: Russian Media and Disinformation in U...  \n",
       "14     ISW Blog: Ukraine Warning Update: Russia prepa...  \n",
       "15     American Snoper – the grugq – Medium American ...  \n",
       "16     Inside Russia’s Social Media War on America On...  \n",
       "17     jakewarren/gmail_address_verifier: Checks if a...  \n",
       "18     Stealing sensitive browser data with the W3C A...  \n",
       "19                                                        \n",
       "20     Dave Venable on Twitter Add a location to your...  \n",
       "21     Is Digital Privacy a Privilege Of The Wealthy?...  \n",
       "22     ticketbleed.go What would you like to do?\\n\\nE...  \n",
       "23     empow Secures $9M in Funding Innovative “Secur...  \n",
       "24                                                        \n",
       "25     chris doman on Twitter Add a location to your ...  \n",
       "26     New Funding Round: Powering Our Growth – TruST...  \n",
       "27     Evident.io Secures $22 Million in Series C Fun...  \n",
       "28                                 your_db_is_not_secure  \n",
       "29     Has China Been Practicing Preemptive Missile S...  \n",
       "...                                                  ...  \n",
       "11919  Nick Cano on Twitter Add a location to your Tw...  \n",
       "11920  secretsquirrel/recomposer: Randomly changes Wi...  \n",
       "11921  herrcore/aplib-ripper: Use this library to aut...  \n",
       "11922  herrcore/mac-dev-setup at 2.0 Mac OS X Dev Set...  \n",
       "11923  MalwareAnalysisForHedgehogs This is the second...  \n",
       "11924  Chuck Berry - Run Rudolph Run (1958) Rating is...  \n",
       "11925  herrcore/punbup at python3 Python unbup script...  \n",
       "11926  The wrong way to clear a BIOS password I was b...  \n",
       "11927  Mamba Ransomware (HDDCryptor) 6 minutes read\\n...  \n",
       "11928  herrcore on Twitter Add a location to your Twe...  \n",
       "11929  Open Analysis Live: Unpacking VB6 Packers Like...  \n",
       "11930  Open Malware on Twitter Add a location to your...  \n",
       "11931  herrcore on Twitter Add a location to your Twe...  \n",
       "11932  herrcore on Twitter Add a location to your Twe...  \n",
       "11933                                             oalabs  \n",
       "11934  Open Analysis Live: Viewer Submission - Decodi...  \n",
       "11935  Malware Information Sharing Platform & Threat ...  \n",
       "11936  .sean on Twitter Add a location to your Tweets...  \n",
       "11937  Lasha Khasaia on Twitter Add a location to you...  \n",
       "11938  herrcore on Twitter Add a location to your Twe...  \n",
       "11939  herrcore on Twitter Add a location to your Twe...  \n",
       "11940  Notice of Privacy Policy Updates (January 2017...  \n",
       "11941  Dridex’s Cold War: Enter AtomBombing IBM X-For...  \n",
       "11942  marc ochsenmeier on Twitter Add a location to ...  \n",
       "11943       src/win32.js · master · Rafael Rivera / anzu  \n",
       "11944  herrcore on Twitter Add a location to your Twe...  \n",
       "11945                                                     \n",
       "11946  Open Analysis Live: Reverse Engineering a DGA ...  \n",
       "11947  Capital Sound - Higher Love (video clip) Ratin...  \n",
       "11948  Capital Sound - In The Night Published on Oct ...  \n",
       "\n",
       "[11949 rows x 7 columns]"
      ]
     },
     "execution_count": 94,
     "metadata": {},
     "output_type": "execute_result"
    }
   ],
   "source": [
    "all_df"
   ]
  },
  {
   "cell_type": "markdown",
   "metadata": {},
   "source": [
    "### Option2: Only load latest data (but need to download url content in order to perform topic clustering)"
   ]
  },
  {
   "cell_type": "code",
   "execution_count": 2,
   "metadata": {},
   "outputs": [
    {
     "name": "stderr",
     "output_type": "stream",
     "text": [
      "\r",
      "0it [00:00, ?it/s]"
     ]
    },
    {
     "name": "stdout",
     "output_type": "stream",
     "text": [
      "* 502 rows retrieved.\n",
      "* Prepare to download url content for each row...\n",
      "Downloading \"https://sergey-tihon.github.io/Stanford.NLP.NET/\"\n"
     ]
    },
    {
     "name": "stderr",
     "output_type": "stream",
     "text": [
      "\r",
      "1it [00:02,  2.88s/it]"
     ]
    },
    {
     "name": "stdout",
     "output_type": "stream",
     "text": [
      "Downloading \"https://venturebeat.com/2017/07/19/crowdflower-expands-to-help-companies-implement-machine-learning/\"\n"
     ]
    },
    {
     "name": "stderr",
     "output_type": "stream",
     "text": [
      "\r",
      "2it [00:03,  2.08s/it]"
     ]
    },
    {
     "name": "stdout",
     "output_type": "stream",
     "text": [
      "Downloading \"https://twitter.com/i/web/status/889053232055672832\"\n"
     ]
    },
    {
     "name": "stderr",
     "output_type": "stream",
     "text": [
      "\r",
      "3it [00:03,  1.68s/it]"
     ]
    },
    {
     "name": "stdout",
     "output_type": "stream",
     "text": [
      "Downloading \"http://bit.ly/2txgeYE\"\n"
     ]
    },
    {
     "name": "stderr",
     "output_type": "stream",
     "text": [
      "\r",
      "4it [00:05,  1.79s/it]"
     ]
    },
    {
     "name": "stdout",
     "output_type": "stream",
     "text": [
      "Downloading \"http://bit.ly/2mY7XFs\"\n"
     ]
    },
    {
     "name": "stderr",
     "output_type": "stream",
     "text": [
      "\r",
      "5it [00:09,  2.19s/it]"
     ]
    },
    {
     "name": "stdout",
     "output_type": "stream",
     "text": [
      "Downloading \"https://twitter.com/i/web/status/889502699334533145\"\n"
     ]
    },
    {
     "name": "stderr",
     "output_type": "stream",
     "text": [
      "\r",
      "6it [00:09,  1.76s/it]"
     ]
    },
    {
     "name": "stdout",
     "output_type": "stream",
     "text": [
      "Downloading \"http://bit.ly/2tL98Qk\"\n"
     ]
    },
    {
     "name": "stderr",
     "output_type": "stream",
     "text": [
      "\r",
      "7it [00:13,  2.38s/it]"
     ]
    },
    {
     "name": "stdout",
     "output_type": "stream",
     "text": [
      "Downloading \"http://bit.ly/2tpuNOd\"\n"
     ]
    },
    {
     "name": "stderr",
     "output_type": "stream",
     "text": [
      "\r",
      "8it [00:16,  2.58s/it]"
     ]
    },
    {
     "name": "stdout",
     "output_type": "stream",
     "text": [
      "Downloading \"http://bit.ly/2txgeYE\"\n"
     ]
    },
    {
     "name": "stderr",
     "output_type": "stream",
     "text": [
      "\r",
      "9it [00:17,  2.10s/it]"
     ]
    },
    {
     "name": "stdout",
     "output_type": "stream",
     "text": [
      "Downloading \"http://bit.ly/2e7c1Fa\"\n"
     ]
    },
    {
     "name": "stderr",
     "output_type": "stream",
     "text": [
      "\r",
      "10it [00:21,  2.67s/it]"
     ]
    },
    {
     "name": "stdout",
     "output_type": "stream",
     "text": [
      "Downloading \"https://www.ncsc.gov.uk/guidance/password-guidance-simplifying-your-approach\"\n"
     ]
    },
    {
     "name": "stderr",
     "output_type": "stream",
     "text": [
      "\r",
      "11it [00:22,  2.07s/it]"
     ]
    },
    {
     "name": "stdout",
     "output_type": "stream",
     "text": [
      "Downloading \"https://twitter.com/i/web/status/889390960915996672\"\n"
     ]
    },
    {
     "name": "stderr",
     "output_type": "stream",
     "text": [
      "\r",
      "12it [00:23,  1.67s/it]"
     ]
    },
    {
     "name": "stdout",
     "output_type": "stream",
     "text": [
      "Downloading \"https://twitter.com/i/web/status/889689209740468225\"\n"
     ]
    },
    {
     "name": "stderr",
     "output_type": "stream",
     "text": [
      "\r",
      "13it [00:23,  1.40s/it]"
     ]
    },
    {
     "name": "stdout",
     "output_type": "stream",
     "text": [
      "Downloading \"https://deepmind.com/blog/going-beyond-average-reinforcement-learning/\"\n"
     ]
    },
    {
     "name": "stderr",
     "output_type": "stream",
     "text": [
      "\r",
      "14it [00:24,  1.10s/it]"
     ]
    },
    {
     "name": "stdout",
     "output_type": "stream",
     "text": [
      "Downloading \"https://twitter.com/BandaiAmerica/status/889160942336004096\"\n"
     ]
    },
    {
     "name": "stderr",
     "output_type": "stream",
     "text": [
      "\r",
      "15it [00:24,  1.01s/it]"
     ]
    },
    {
     "name": "stdout",
     "output_type": "stream",
     "text": [
      "Downloading \"http://on.digg.com/2tDAAjv\"\n"
     ]
    },
    {
     "name": "stderr",
     "output_type": "stream",
     "text": [
      "\r",
      "16it [00:25,  1.08it/s]"
     ]
    },
    {
     "name": "stdout",
     "output_type": "stream",
     "text": [
      "Downloading \"https://twitter.com/withzombies/status/888495417025056770\"\n"
     ]
    },
    {
     "name": "stderr",
     "output_type": "stream",
     "text": [
      "\r",
      "17it [00:27,  1.04s/it]"
     ]
    },
    {
     "name": "stdout",
     "output_type": "stream",
     "text": [
      "Downloading \"https://twitter.com/bry_campbell/status/889528057425518592\"\n"
     ]
    },
    {
     "name": "stderr",
     "output_type": "stream",
     "text": [
      "\r",
      "18it [00:27,  1.00it/s]"
     ]
    },
    {
     "name": "stdout",
     "output_type": "stream",
     "text": [
      "Downloading \"https://eugene.kaspersky.com/2017/07/21/then-and-now-20-years-in-between-all-uphill/\"\n"
     ]
    },
    {
     "name": "stderr",
     "output_type": "stream",
     "text": [
      "\r",
      "19it [00:28,  1.04it/s]"
     ]
    },
    {
     "name": "stdout",
     "output_type": "stream",
     "text": [
      "Downloading \"http://symc.ly/2eJoFdd\"\n"
     ]
    },
    {
     "name": "stderr",
     "output_type": "stream",
     "text": [
      "\r",
      "20it [00:30,  1.09s/it]"
     ]
    },
    {
     "name": "stdout",
     "output_type": "stream",
     "text": [
      "Downloading \"https://twitter.com/i/web/status/889638338411589632\"\n"
     ]
    },
    {
     "name": "stderr",
     "output_type": "stream",
     "text": [
      "\r",
      "21it [00:30,  1.00it/s]"
     ]
    },
    {
     "name": "stdout",
     "output_type": "stream",
     "text": [
      "Downloading \"https://twitter.com/i/web/status/889264880909504513\"\n"
     ]
    },
    {
     "name": "stderr",
     "output_type": "stream",
     "text": [
      "\r",
      "22it [00:32,  1.23s/it]"
     ]
    },
    {
     "name": "stdout",
     "output_type": "stream",
     "text": [
      "Downloading \"http://symc.ly/2gUVB36\"\n"
     ]
    },
    {
     "name": "stderr",
     "output_type": "stream",
     "text": [
      "\r",
      "23it [00:41,  3.60s/it]"
     ]
    },
    {
     "name": "stdout",
     "output_type": "stream",
     "text": [
      "Downloading \"https://twitter.com/i/web/status/889630789822029825\"\n"
     ]
    },
    {
     "name": "stderr",
     "output_type": "stream",
     "text": [
      "\r",
      "24it [00:42,  2.79s/it]"
     ]
    },
    {
     "name": "stdout",
     "output_type": "stream",
     "text": [
      "Downloading \"https://twitter.com/i/web/status/889621261147676672\"\n"
     ]
    },
    {
     "name": "stderr",
     "output_type": "stream",
     "text": [
      "\r",
      "25it [00:43,  2.17s/it]"
     ]
    },
    {
     "name": "stdout",
     "output_type": "stream",
     "text": [
      "Downloading \"http://symc.ly/2eIO1bm\"\n"
     ]
    },
    {
     "name": "stderr",
     "output_type": "stream",
     "text": [
      "\r",
      "26it [00:52,  4.16s/it]"
     ]
    },
    {
     "name": "stdout",
     "output_type": "stream",
     "text": [
      "Downloading \"http://symc.ly/2gY3MM3\"\n"
     ]
    },
    {
     "name": "stderr",
     "output_type": "stream",
     "text": [
      "\r",
      "27it [01:01,  5.58s/it]"
     ]
    },
    {
     "name": "stdout",
     "output_type": "stream",
     "text": [
      "Downloading \"http://symc.ly/2gXF4eU\"\n"
     ]
    },
    {
     "name": "stderr",
     "output_type": "stream",
     "text": [
      "\r",
      "28it [01:01,  4.06s/it]"
     ]
    },
    {
     "name": "stdout",
     "output_type": "stream",
     "text": [
      "Downloading \"https://twitter.com/i/web/status/889557555915173891\"\n"
     ]
    },
    {
     "name": "stderr",
     "output_type": "stream",
     "text": [
      "\r",
      "29it [01:02,  3.13s/it]"
     ]
    },
    {
     "name": "stdout",
     "output_type": "stream",
     "text": [
      "Downloading \"https://twitter.com/TechRepublic/status/888958123041579010\"\n"
     ]
    },
    {
     "name": "stderr",
     "output_type": "stream",
     "text": [
      "\r",
      "30it [01:03,  2.41s/it]"
     ]
    },
    {
     "name": "stdout",
     "output_type": "stream",
     "text": [
      "Downloading \"https://twitter.com/i/web/status/889504706518802437\"\n"
     ]
    },
    {
     "name": "stderr",
     "output_type": "stream",
     "text": [
      "\r",
      "31it [01:04,  1.91s/it]"
     ]
    },
    {
     "name": "stdout",
     "output_type": "stream",
     "text": [
      "Downloading \"http://symc.ly/2gX5UDG\"\n"
     ]
    },
    {
     "name": "stderr",
     "output_type": "stream",
     "text": [
      "\r",
      "32it [01:13,  4.06s/it]"
     ]
    },
    {
     "name": "stdout",
     "output_type": "stream",
     "text": [
      "Downloading \"https://twitter.com/i/web/status/889523208327766016\"\n"
     ]
    },
    {
     "name": "stderr",
     "output_type": "stream",
     "text": [
      "\r",
      "33it [01:14,  3.11s/it]"
     ]
    },
    {
     "name": "stdout",
     "output_type": "stream",
     "text": [
      "Downloading \"http://malware-traffic-analysis.net/2017/07/23/index.html\"\n"
     ]
    },
    {
     "name": "stderr",
     "output_type": "stream",
     "text": [
      "\r",
      "34it [01:14,  2.32s/it]"
     ]
    },
    {
     "name": "stdout",
     "output_type": "stream",
     "text": [
      "Downloading \"https://www.ic3.gov/default.aspx\"\n"
     ]
    },
    {
     "name": "stderr",
     "output_type": "stream",
     "text": [
      "\r",
      "35it [01:17,  2.53s/it]"
     ]
    },
    {
     "name": "stdout",
     "output_type": "stream",
     "text": [
      "Downloading \"https://twitter.com/i/web/status/888926788994424832\"\n"
     ]
    },
    {
     "name": "stderr",
     "output_type": "stream",
     "text": [
      "\r",
      "36it [01:18,  2.09s/it]"
     ]
    },
    {
     "name": "stdout",
     "output_type": "stream",
     "text": [
      "Downloading \"https://twitter.com/i/web/status/889578034386305026\"\n"
     ]
    },
    {
     "name": "stderr",
     "output_type": "stream",
     "text": [
      "\r",
      "37it [01:19,  1.83s/it]"
     ]
    },
    {
     "name": "stdout",
     "output_type": "stream",
     "text": [
      "Downloading \"https://www.fbi.gov/investigate/violent-crime/art-theft/national-stolen-art-file\"\n"
     ]
    },
    {
     "name": "stderr",
     "output_type": "stream",
     "text": [
      "\r",
      "38it [01:20,  1.51s/it]"
     ]
    },
    {
     "name": "stdout",
     "output_type": "stream",
     "text": [
      "Downloading \"http://fb.me/1ZiXhr52B\"\n"
     ]
    },
    {
     "name": "stderr",
     "output_type": "stream",
     "text": [
      "\r",
      "39it [01:20,  1.13s/it]"
     ]
    },
    {
     "name": "stdout",
     "output_type": "stream",
     "text": [
      "Downloading \"http://fb.me/28Bu7DXVc\"\n"
     ]
    },
    {
     "name": "stderr",
     "output_type": "stream",
     "text": [
      "\r",
      "40it [01:21,  1.11it/s]"
     ]
    },
    {
     "name": "stdout",
     "output_type": "stream",
     "text": [
      "Downloading \"https://twitter.com/anuragranj/status/888991065092440064\"\n"
     ]
    },
    {
     "name": "stderr",
     "output_type": "stream",
     "text": [
      "\r",
      "41it [01:22,  1.14it/s]"
     ]
    },
    {
     "name": "stdout",
     "output_type": "stream",
     "text": [
      "Downloading \"https://twitter.com/i/web/status/889148842314276864\"\n"
     ]
    },
    {
     "name": "stderr",
     "output_type": "stream",
     "text": [
      "\r",
      "42it [01:23,  1.04it/s]"
     ]
    },
    {
     "name": "stdout",
     "output_type": "stream",
     "text": [
      "Downloading \"https://twitter.com/i/web/status/889563742098210820\"\n"
     ]
    },
    {
     "name": "stderr",
     "output_type": "stream",
     "text": [
      "\r",
      "43it [01:24,  1.00s/it]"
     ]
    },
    {
     "name": "stdout",
     "output_type": "stream",
     "text": [
      "Downloading \"https://twitter.com/i/web/status/889535932411543552\"\n"
     ]
    },
    {
     "name": "stderr",
     "output_type": "stream",
     "text": [
      "\r",
      "44it [01:25,  1.02it/s]"
     ]
    },
    {
     "name": "stdout",
     "output_type": "stream",
     "text": [
      "Downloading \"http://bit.ly/2vDFBpJ\"\n"
     ]
    },
    {
     "name": "stderr",
     "output_type": "stream",
     "text": [
      "\r",
      "45it [01:25,  1.19it/s]"
     ]
    },
    {
     "name": "stdout",
     "output_type": "stream",
     "text": [
      "Downloading \"http://bit.ly/2vDcvGF\"\n"
     ]
    },
    {
     "name": "stderr",
     "output_type": "stream",
     "text": [
      "\r",
      "46it [01:26,  1.27it/s]"
     ]
    },
    {
     "name": "stdout",
     "output_type": "stream",
     "text": [
      "Downloading \"http://bit.ly/2vDxERp\"\n"
     ]
    },
    {
     "name": "stderr",
     "output_type": "stream",
     "text": [
      "\r",
      "47it [01:27,  1.38it/s]"
     ]
    },
    {
     "name": "stdout",
     "output_type": "stream",
     "text": [
      "Downloading \"http://bit.ly/2urtGwz\"\n"
     ]
    },
    {
     "name": "stderr",
     "output_type": "stream",
     "text": [
      "\r",
      "48it [01:32,  2.12s/it]"
     ]
    },
    {
     "name": "stdout",
     "output_type": "stream",
     "text": [
      "Downloading \"http://bit.ly/2vzd4Bo\"\n"
     ]
    },
    {
     "name": "stderr",
     "output_type": "stream",
     "text": [
      "\r",
      "49it [01:32,  1.66s/it]"
     ]
    },
    {
     "name": "stdout",
     "output_type": "stream",
     "text": [
      "Downloading \"http://bit.ly/2un6LCj\"\n"
     ]
    },
    {
     "name": "stderr",
     "output_type": "stream",
     "text": [
      "\r",
      "50it [01:33,  1.32s/it]"
     ]
    },
    {
     "name": "stdout",
     "output_type": "stream",
     "text": [
      "Downloading \"http://bit.ly/2ur1fP3\"\n"
     ]
    },
    {
     "name": "stderr",
     "output_type": "stream",
     "text": [
      "\r",
      "51it [01:34,  1.11s/it]"
     ]
    },
    {
     "name": "stdout",
     "output_type": "stream",
     "text": [
      "Downloading \"http://bit.ly/2urjR1w\"\n"
     ]
    },
    {
     "name": "stderr",
     "output_type": "stream",
     "text": [
      "\r",
      "52it [01:34,  1.02it/s]"
     ]
    },
    {
     "name": "stdout",
     "output_type": "stream",
     "text": [
      "Downloading \"http://ubm.io/2vCB5HR\"\n"
     ]
    },
    {
     "name": "stderr",
     "output_type": "stream",
     "text": [
      "\r",
      "53it [01:36,  1.17s/it]"
     ]
    },
    {
     "name": "stdout",
     "output_type": "stream",
     "text": [
      "Downloading \"http://bit.ly/2vCQjwE\"\n"
     ]
    },
    {
     "name": "stderr",
     "output_type": "stream",
     "text": [
      "\r",
      "54it [01:37,  1.00it/s]"
     ]
    },
    {
     "name": "stdout",
     "output_type": "stream",
     "text": [
      "Downloading \"http://Weather.com\"\n"
     ]
    },
    {
     "name": "stderr",
     "output_type": "stream",
     "text": [
      "\r",
      "55it [01:37,  1.10it/s]"
     ]
    },
    {
     "name": "stdout",
     "output_type": "stream",
     "text": [
      "Downloading \"http://bit.ly/2uqJbVz\"\n"
     ]
    },
    {
     "name": "stderr",
     "output_type": "stream",
     "text": [
      "\r",
      "56it [01:38,  1.23it/s]"
     ]
    },
    {
     "name": "stdout",
     "output_type": "stream",
     "text": [
      "Downloading \"http://bit.ly/2uqzI0h\"\n"
     ]
    },
    {
     "name": "stderr",
     "output_type": "stream",
     "text": [
      "\r",
      "57it [01:38,  1.32it/s]"
     ]
    },
    {
     "name": "stdout",
     "output_type": "stream",
     "text": [
      "Downloading \"http://bit.ly/2uqQDQn\"\n"
     ]
    },
    {
     "name": "stderr",
     "output_type": "stream",
     "text": [
      "\r",
      "58it [01:39,  1.41it/s]"
     ]
    },
    {
     "name": "stdout",
     "output_type": "stream",
     "text": [
      "Downloading \"http://bit.ly/2uqqelU\"\n"
     ]
    },
    {
     "name": "stderr",
     "output_type": "stream",
     "text": [
      "\r",
      "59it [01:40,  1.39it/s]"
     ]
    },
    {
     "name": "stdout",
     "output_type": "stream",
     "text": [
      "Article `download()` failed with 404 Client Error: Not Found for url: https://threatpost.com/?p=127002 on URL http://bit.ly/2uqqelU\n",
      "Downloading \"http://bit.ly/2uqPzvV\"\n"
     ]
    },
    {
     "name": "stderr",
     "output_type": "stream",
     "text": [
      "\r",
      "60it [01:41,  1.29it/s]"
     ]
    },
    {
     "name": "stdout",
     "output_type": "stream",
     "text": [
      "You must `download()` an article first!\n",
      "Downloading \"http://bit.ly/2uqp5dP\"\n"
     ]
    },
    {
     "name": "stderr",
     "output_type": "stream",
     "text": [
      "\r",
      "61it [01:41,  1.51it/s]"
     ]
    },
    {
     "name": "stdout",
     "output_type": "stream",
     "text": [
      "Downloading \"http://bit.ly/2uqnRzn\"\n"
     ]
    },
    {
     "name": "stderr",
     "output_type": "stream",
     "text": [
      "\r",
      "62it [01:42,  1.64it/s]"
     ]
    },
    {
     "name": "stdout",
     "output_type": "stream",
     "text": [
      "Downloading \"http://bit.ly/2uqi64F\"\n"
     ]
    },
    {
     "name": "stderr",
     "output_type": "stream",
     "text": [
      "\r",
      "63it [01:42,  1.68it/s]"
     ]
    },
    {
     "name": "stdout",
     "output_type": "stream",
     "text": [
      "You must `download()` an article first!\n",
      "Downloading \"http://bit.ly/2uqLBDt\"\n"
     ]
    },
    {
     "name": "stderr",
     "output_type": "stream",
     "text": [
      "\r",
      "64it [01:43,  1.80it/s]"
     ]
    },
    {
     "name": "stdout",
     "output_type": "stream",
     "text": [
      "Downloading \"http://bit.ly/2vBKZtr\"\n"
     ]
    },
    {
     "name": "stderr",
     "output_type": "stream",
     "text": [
      "\r",
      "65it [01:45,  1.15s/it]"
     ]
    },
    {
     "name": "stdout",
     "output_type": "stream",
     "text": [
      "Downloading \"http://bit.ly/2vBMjwj\"\n"
     ]
    },
    {
     "name": "stderr",
     "output_type": "stream",
     "text": [
      "\r",
      "66it [01:46,  1.04s/it]"
     ]
    },
    {
     "name": "stdout",
     "output_type": "stream",
     "text": [
      "Downloading \"http://bit.ly/2vCiiwu\"\n"
     ]
    },
    {
     "name": "stderr",
     "output_type": "stream",
     "text": [
      "\r",
      "67it [01:47,  1.09it/s]"
     ]
    },
    {
     "name": "stdout",
     "output_type": "stream",
     "text": [
      "Downloading \"http://ubm.io/2vBWa50\"\n"
     ]
    },
    {
     "name": "stderr",
     "output_type": "stream",
     "text": [
      "\r",
      "68it [01:48,  1.22s/it]"
     ]
    },
    {
     "name": "stdout",
     "output_type": "stream",
     "text": [
      "Downloading \"http://bit.ly/2vBxxW9\"\n"
     ]
    },
    {
     "name": "stderr",
     "output_type": "stream",
     "text": [
      "\r",
      "69it [01:55,  2.96s/it]"
     ]
    },
    {
     "name": "stdout",
     "output_type": "stream",
     "text": [
      "Downloading \"http://bit.ly/2vBKcbC\"\n"
     ]
    },
    {
     "name": "stderr",
     "output_type": "stream",
     "text": [
      "\r",
      "70it [01:56,  2.19s/it]"
     ]
    },
    {
     "name": "stdout",
     "output_type": "stream",
     "text": [
      "Downloading \"http://bit.ly/2vBhQP1\"\n"
     ]
    },
    {
     "name": "stderr",
     "output_type": "stream",
     "text": [
      "\r",
      "71it [01:56,  1.65s/it]"
     ]
    },
    {
     "name": "stdout",
     "output_type": "stream",
     "text": [
      "Downloading \"http://bit.ly/2vBORKR\"\n"
     ]
    },
    {
     "name": "stderr",
     "output_type": "stream",
     "text": [
      "\r",
      "72it [01:57,  1.33s/it]"
     ]
    },
    {
     "name": "stdout",
     "output_type": "stream",
     "text": [
      "You must `download()` an article first!\n",
      "Downloading \"http://bit.ly/2vBsRQb\"\n"
     ]
    },
    {
     "name": "stderr",
     "output_type": "stream",
     "text": [
      "\r",
      "73it [01:57,  1.05s/it]"
     ]
    },
    {
     "name": "stdout",
     "output_type": "stream",
     "text": [
      "Downloading \"http://bit.ly/2vBw5Dr\"\n"
     ]
    },
    {
     "name": "stderr",
     "output_type": "stream",
     "text": [
      "\r",
      "74it [01:58,  1.15it/s]"
     ]
    },
    {
     "name": "stdout",
     "output_type": "stream",
     "text": [
      "Downloading \"http://bit.ly/2vBAZQF\"\n"
     ]
    },
    {
     "name": "stderr",
     "output_type": "stream",
     "text": [
      "\r",
      "75it [01:58,  1.36it/s]"
     ]
    },
    {
     "name": "stdout",
     "output_type": "stream",
     "text": [
      "Downloading \"http://bit.ly/2vBV755\"\n"
     ]
    },
    {
     "name": "stderr",
     "output_type": "stream",
     "text": [
      "\r",
      "76it [02:05,  2.72s/it]"
     ]
    },
    {
     "name": "stdout",
     "output_type": "stream",
     "text": [
      "Downloading \"http://bit.ly/2vC6VEO\"\n"
     ]
    },
    {
     "name": "stderr",
     "output_type": "stream",
     "text": [
      "\r",
      "77it [02:13,  4.12s/it]"
     ]
    },
    {
     "name": "stdout",
     "output_type": "stream",
     "text": [
      "Downloading \"http://zd.net/2vBuoWo\"\n"
     ]
    },
    {
     "name": "stderr",
     "output_type": "stream",
     "text": [
      "\r",
      "78it [02:14,  3.10s/it]"
     ]
    },
    {
     "name": "stdout",
     "output_type": "stream",
     "text": [
      "Downloading \"http://bit.ly/2vBc4Nl\"\n"
     ]
    },
    {
     "name": "stderr",
     "output_type": "stream",
     "text": [
      "\r",
      "79it [02:14,  2.32s/it]"
     ]
    },
    {
     "name": "stdout",
     "output_type": "stream",
     "text": [
      "Downloading \"http://bit.ly/2vBmI6z\"\n"
     ]
    },
    {
     "name": "stderr",
     "output_type": "stream",
     "text": [
      "\r",
      "80it [02:15,  2.05s/it]"
     ]
    },
    {
     "name": "stdout",
     "output_type": "stream",
     "text": [
      "Downloading \"http://bit.ly/2vBEt5A\"\n"
     ]
    },
    {
     "name": "stderr",
     "output_type": "stream",
     "text": [
      "\r",
      "81it [02:16,  1.61s/it]"
     ]
    },
    {
     "name": "stdout",
     "output_type": "stream",
     "text": [
      "Downloading \"http://bit.ly/2vBOkbK\"\n"
     ]
    },
    {
     "name": "stderr",
     "output_type": "stream",
     "text": [
      "\r",
      "82it [02:23,  3.17s/it]"
     ]
    },
    {
     "name": "stdout",
     "output_type": "stream",
     "text": [
      "Downloading \"http://bit.ly/2vBsYLu\"\n"
     ]
    },
    {
     "name": "stderr",
     "output_type": "stream",
     "text": [
      "\r",
      "83it [02:25,  2.84s/it]"
     ]
    },
    {
     "name": "stdout",
     "output_type": "stream",
     "text": [
      "Downloading \"http://bit.ly/2vBsRjc\"\n"
     ]
    },
    {
     "name": "stderr",
     "output_type": "stream",
     "text": [
      "\r",
      "84it [02:26,  2.17s/it]"
     ]
    },
    {
     "name": "stdout",
     "output_type": "stream",
     "text": [
      "Downloading \"https://ibm.co/2upyQZH\"\n"
     ]
    },
    {
     "name": "stderr",
     "output_type": "stream",
     "text": [
      "\r",
      "85it [02:27,  2.00s/it]"
     ]
    },
    {
     "name": "stdout",
     "output_type": "stream",
     "text": [
      "Downloading \"http://ubm.io/2upKQuy\"\n"
     ]
    },
    {
     "name": "stderr",
     "output_type": "stream",
     "text": [
      "\r",
      "86it [02:29,  1.96s/it]"
     ]
    },
    {
     "name": "stdout",
     "output_type": "stream",
     "text": [
      "Downloading \"http://ubm.io/2upM4G7\"\n"
     ]
    },
    {
     "name": "stderr",
     "output_type": "stream",
     "text": [
      "\r",
      "87it [02:31,  1.85s/it]"
     ]
    },
    {
     "name": "stdout",
     "output_type": "stream",
     "text": [
      "Downloading \"http://bit.ly/2upLVSZ\"\n"
     ]
    },
    {
     "name": "stderr",
     "output_type": "stream",
     "text": [
      "\r",
      "88it [02:31,  1.56s/it]"
     ]
    },
    {
     "name": "stdout",
     "output_type": "stream",
     "text": [
      "Downloading \"http://bit.ly/2upQ8Gm\"\n"
     ]
    },
    {
     "name": "stderr",
     "output_type": "stream",
     "text": [
      "\r",
      "89it [02:32,  1.22s/it]"
     ]
    },
    {
     "name": "stdout",
     "output_type": "stream",
     "text": [
      "Downloading \"http://bit.ly/2upQf4I\"\n"
     ]
    },
    {
     "name": "stderr",
     "output_type": "stream",
     "text": [
      "\r",
      "90it [02:39,  3.08s/it]"
     ]
    },
    {
     "name": "stdout",
     "output_type": "stream",
     "text": [
      "Downloading \"http://bit.ly/2upU1ea\"\n"
     ]
    },
    {
     "name": "stderr",
     "output_type": "stream",
     "text": [
      "\r",
      "91it [02:40,  2.27s/it]"
     ]
    },
    {
     "name": "stdout",
     "output_type": "stream",
     "text": [
      "Downloading \"http://bit.ly/2upKlk2\"\n"
     ]
    },
    {
     "name": "stderr",
     "output_type": "stream",
     "text": [
      "\r",
      "92it [02:47,  3.63s/it]"
     ]
    },
    {
     "name": "stdout",
     "output_type": "stream",
     "text": [
      "Downloading \"http://bit.ly/2up5zhQ\"\n"
     ]
    },
    {
     "name": "stderr",
     "output_type": "stream",
     "text": [
      "\r",
      "93it [02:47,  2.72s/it]"
     ]
    },
    {
     "name": "stdout",
     "output_type": "stream",
     "text": [
      "Downloading \"http://bit.ly/2upwWZf\"\n"
     ]
    },
    {
     "name": "stderr",
     "output_type": "stream",
     "text": [
      "\r",
      "94it [02:53,  3.65s/it]"
     ]
    },
    {
     "name": "stdout",
     "output_type": "stream",
     "text": [
      "Downloading \"http://bit.ly/2uprd5D\"\n"
     ]
    },
    {
     "name": "stderr",
     "output_type": "stream",
     "text": [
      "\r",
      "95it [02:58,  4.11s/it]"
     ]
    },
    {
     "name": "stdout",
     "output_type": "stream",
     "text": [
      "Downloading \"http://bit.ly/2upz3Mx\"\n"
     ]
    },
    {
     "name": "stderr",
     "output_type": "stream",
     "text": [
      "\r",
      "96it [02:59,  3.28s/it]"
     ]
    },
    {
     "name": "stdout",
     "output_type": "stream",
     "text": [
      "Downloading \"http://bit.ly/2upSKUM\"\n"
     ]
    },
    {
     "name": "stderr",
     "output_type": "stream",
     "text": [
      "\r",
      "97it [03:00,  2.51s/it]"
     ]
    },
    {
     "name": "stdout",
     "output_type": "stream",
     "text": [
      "Downloading \"http://bit.ly/2upwOck\"\n"
     ]
    },
    {
     "name": "stderr",
     "output_type": "stream",
     "text": [
      "\r",
      "98it [03:01,  1.90s/it]"
     ]
    },
    {
     "name": "stdout",
     "output_type": "stream",
     "text": [
      "Downloading \"https://ibm.co/2vAGGhP\"\n"
     ]
    },
    {
     "name": "stderr",
     "output_type": "stream",
     "text": [
      "\r",
      "99it [03:02,  1.75s/it]"
     ]
    },
    {
     "name": "stdout",
     "output_type": "stream",
     "text": [
      "Downloading \"http://bit.ly/2vAO9gP\"\n"
     ]
    },
    {
     "name": "stderr",
     "output_type": "stream",
     "text": [
      "\r",
      "100it [03:03,  1.40s/it]"
     ]
    },
    {
     "name": "stdout",
     "output_type": "stream",
     "text": [
      "Downloading \"http://bit.ly/2vB1wxq\"\n"
     ]
    },
    {
     "name": "stderr",
     "output_type": "stream",
     "text": [
      "\r",
      "101it [03:10,  3.21s/it]"
     ]
    },
    {
     "name": "stdout",
     "output_type": "stream",
     "text": [
      "Downloading \"http://bit.ly/2vAGFKN\"\n"
     ]
    },
    {
     "name": "stderr",
     "output_type": "stream",
     "text": [
      "\r",
      "102it [03:17,  4.36s/it]"
     ]
    },
    {
     "name": "stdout",
     "output_type": "stream",
     "text": [
      "Downloading \"http://bit.ly/2vBkynE\"\n"
     ]
    },
    {
     "name": "stderr",
     "output_type": "stream",
     "text": [
      "\r",
      "103it [03:18,  3.26s/it]"
     ]
    },
    {
     "name": "stdout",
     "output_type": "stream",
     "text": [
      "Downloading \"http://bit.ly/2vB59Ui\"\n"
     ]
    },
    {
     "name": "stderr",
     "output_type": "stream",
     "text": [
      "\r",
      "104it [03:19,  2.56s/it]"
     ]
    },
    {
     "name": "stdout",
     "output_type": "stream",
     "text": [
      "Downloading \"http://bit.ly/2vB2UjA\"\n"
     ]
    },
    {
     "name": "stderr",
     "output_type": "stream",
     "text": [
      "\r",
      "105it [03:19,  1.93s/it]"
     ]
    },
    {
     "name": "stdout",
     "output_type": "stream",
     "text": [
      "Downloading \"http://bit.ly/2vB1NRi\"\n"
     ]
    },
    {
     "name": "stderr",
     "output_type": "stream",
     "text": [
      "\r",
      "106it [03:20,  1.56s/it]"
     ]
    },
    {
     "name": "stdout",
     "output_type": "stream",
     "text": [
      "Downloading \"http://bit.ly/2uplZ9Z\"\n"
     ]
    },
    {
     "name": "stderr",
     "output_type": "stream",
     "text": [
      "\r",
      "107it [03:20,  1.27s/it]"
     ]
    },
    {
     "name": "stdout",
     "output_type": "stream",
     "text": [
      "Downloading \"https://ibm.co/2upg2d7\"\n"
     ]
    },
    {
     "name": "stderr",
     "output_type": "stream",
     "text": [
      "\r",
      "108it [03:22,  1.30s/it]"
     ]
    },
    {
     "name": "stdout",
     "output_type": "stream",
     "text": [
      "Downloading \"http://bit.ly/2upbV0W\"\n"
     ]
    },
    {
     "name": "stderr",
     "output_type": "stream",
     "text": [
      "\r",
      "109it [03:23,  1.12s/it]"
     ]
    },
    {
     "name": "stdout",
     "output_type": "stream",
     "text": [
      "Downloading \"http://bit.ly/2upmD7w\"\n"
     ]
    },
    {
     "name": "stderr",
     "output_type": "stream",
     "text": [
      "\r",
      "110it [03:26,  1.74s/it]"
     ]
    },
    {
     "name": "stdout",
     "output_type": "stream",
     "text": [
      "Downloading \"http://bit.ly/2vAG3ES\"\n"
     ]
    },
    {
     "name": "stderr",
     "output_type": "stream",
     "text": [
      "\r",
      "111it [03:28,  1.77s/it]"
     ]
    },
    {
     "name": "stdout",
     "output_type": "stream",
     "text": [
      "Downloading \"http://bit.ly/2vAHCms\"\n"
     ]
    },
    {
     "name": "stderr",
     "output_type": "stream",
     "text": [
      "\r",
      "112it [03:28,  1.36s/it]"
     ]
    },
    {
     "name": "stdout",
     "output_type": "stream",
     "text": [
      "Downloading \"http://bit.ly/2vAISpD\"\n"
     ]
    },
    {
     "name": "stderr",
     "output_type": "stream",
     "text": [
      "\r",
      "113it [03:29,  1.22s/it]"
     ]
    },
    {
     "name": "stdout",
     "output_type": "stream",
     "text": [
      "Downloading \"http://bit.ly/2vAEozq\"\n"
     ]
    },
    {
     "name": "stderr",
     "output_type": "stream",
     "text": [
      "\r",
      "114it [03:36,  2.94s/it]"
     ]
    },
    {
     "name": "stdout",
     "output_type": "stream",
     "text": [
      "Downloading \"http://bit.ly/2vB12aW\"\n"
     ]
    },
    {
     "name": "stderr",
     "output_type": "stream",
     "text": [
      "\r",
      "115it [03:37,  2.30s/it]"
     ]
    },
    {
     "name": "stdout",
     "output_type": "stream",
     "text": [
      "Downloading \"http://zd.net/2vAaZ8d\"\n"
     ]
    },
    {
     "name": "stderr",
     "output_type": "stream",
     "text": [
      "\r",
      "116it [03:37,  1.84s/it]"
     ]
    },
    {
     "name": "stdout",
     "output_type": "stream",
     "text": [
      "Downloading \"http://bit.ly/2vA2URd\"\n"
     ]
    },
    {
     "name": "stderr",
     "output_type": "stream",
     "text": [
      "\r",
      "117it [03:38,  1.61s/it]"
     ]
    },
    {
     "name": "stdout",
     "output_type": "stream",
     "text": [
      "Downloading \"http://bit.ly/2vAqEVc\"\n"
     ]
    },
    {
     "name": "stderr",
     "output_type": "stream",
     "text": [
      "\r",
      "118it [03:46,  3.35s/it]"
     ]
    },
    {
     "name": "stdout",
     "output_type": "stream",
     "text": [
      "Downloading \"http://bit.ly/2vAwbee\"\n"
     ]
    },
    {
     "name": "stderr",
     "output_type": "stream",
     "text": [
      "\r",
      "119it [03:46,  2.51s/it]"
     ]
    },
    {
     "name": "stdout",
     "output_type": "stream",
     "text": [
      "Downloading \"http://bit.ly/2vArxx3\"\n"
     ]
    },
    {
     "name": "stderr",
     "output_type": "stream",
     "text": [
      "\r",
      "120it [03:47,  1.88s/it]"
     ]
    },
    {
     "name": "stdout",
     "output_type": "stream",
     "text": [
      "Downloading \"http://bit.ly/2vzDy5V\"\n"
     ]
    },
    {
     "name": "stderr",
     "output_type": "stream",
     "text": [
      "\r",
      "121it [03:47,  1.47s/it]"
     ]
    },
    {
     "name": "stdout",
     "output_type": "stream",
     "text": [
      "Downloading \"http://bit.ly/2vzLvrO\"\n"
     ]
    },
    {
     "name": "stderr",
     "output_type": "stream",
     "text": [
      "\r",
      "122it [03:48,  1.17s/it]"
     ]
    },
    {
     "name": "stdout",
     "output_type": "stream",
     "text": [
      "Downloading \"http://arxiv.org/abs/1704.08795\"\n"
     ]
    },
    {
     "name": "stderr",
     "output_type": "stream",
     "text": [
      "\r",
      "123it [03:50,  1.62s/it]"
     ]
    },
    {
     "name": "stdout",
     "output_type": "stream",
     "text": [
      "Downloading \"http://arxiv.org/abs/1707.07265\"\n"
     ]
    },
    {
     "name": "stderr",
     "output_type": "stream",
     "text": [
      "\r",
      "124it [03:52,  1.73s/it]"
     ]
    },
    {
     "name": "stdout",
     "output_type": "stream",
     "text": [
      "Downloading \"http://arxiv.org/abs/1707.07591\"\n"
     ]
    },
    {
     "name": "stderr",
     "output_type": "stream",
     "text": [
      "\r",
      "125it [03:54,  1.76s/it]"
     ]
    },
    {
     "name": "stdout",
     "output_type": "stream",
     "text": [
      "Downloading \"http://arxiv.org/abs/1704.04347\"\n"
     ]
    },
    {
     "name": "stderr",
     "output_type": "stream",
     "text": [
      "\r",
      "126it [03:56,  1.77s/it]"
     ]
    },
    {
     "name": "stdout",
     "output_type": "stream",
     "text": [
      "Downloading \"http://arxiv.org/abs/1707.07554\"\n"
     ]
    },
    {
     "name": "stderr",
     "output_type": "stream",
     "text": [
      "\r",
      "127it [03:58,  1.78s/it]"
     ]
    },
    {
     "name": "stdout",
     "output_type": "stream",
     "text": [
      "Downloading \"http://arxiv.org/abs/1707.07270\"\n"
     ]
    },
    {
     "name": "stderr",
     "output_type": "stream",
     "text": [
      "\r",
      "128it [04:00,  1.92s/it]"
     ]
    },
    {
     "name": "stdout",
     "output_type": "stream",
     "text": [
      "Downloading \"http://arxiv.org/abs/1707.07328\"\n"
     ]
    },
    {
     "name": "stderr",
     "output_type": "stream",
     "text": [
      "\r",
      "129it [04:02,  1.94s/it]"
     ]
    },
    {
     "name": "stdout",
     "output_type": "stream",
     "text": [
      "Downloading \"http://arxiv.org/abs/1707.01176\"\n"
     ]
    },
    {
     "name": "stderr",
     "output_type": "stream",
     "text": [
      "\r",
      "130it [04:04,  1.91s/it]"
     ]
    },
    {
     "name": "stdout",
     "output_type": "stream",
     "text": [
      "Downloading \"http://arxiv.org/abs/1707.00189\"\n"
     ]
    },
    {
     "name": "stderr",
     "output_type": "stream",
     "text": [
      "\r",
      "131it [04:06,  1.91s/it]"
     ]
    },
    {
     "name": "stdout",
     "output_type": "stream",
     "text": [
      "Downloading \"http://arxiv.org/abs/1706.10192\"\n"
     ]
    },
    {
     "name": "stderr",
     "output_type": "stream",
     "text": [
      "\r",
      "132it [04:08,  1.88s/it]"
     ]
    },
    {
     "name": "stdout",
     "output_type": "stream",
     "text": [
      "Downloading \"http://arxiv.org/abs/1706.08746\"\n"
     ]
    },
    {
     "name": "stderr",
     "output_type": "stream",
     "text": [
      "\r",
      "133it [04:10,  1.92s/it]"
     ]
    },
    {
     "name": "stdout",
     "output_type": "stream",
     "text": [
      "Downloading \"http://arxiv.org/abs/1705.00403\"\n"
     ]
    },
    {
     "name": "stderr",
     "output_type": "stream",
     "text": [
      "\r",
      "134it [04:13,  2.42s/it]"
     ]
    },
    {
     "name": "stdout",
     "output_type": "stream",
     "text": [
      "Downloading \"http://arxiv.org/abs/1704.08795\"\n"
     ]
    },
    {
     "name": "stderr",
     "output_type": "stream",
     "text": [
      "\r",
      "135it [04:17,  2.72s/it]"
     ]
    },
    {
     "name": "stdout",
     "output_type": "stream",
     "text": [
      "Downloading \"http://arxiv.org/abs/1704.04920\"\n"
     ]
    },
    {
     "name": "stderr",
     "output_type": "stream",
     "text": [
      "\r",
      "136it [04:19,  2.48s/it]"
     ]
    },
    {
     "name": "stdout",
     "output_type": "stream",
     "text": [
      "Downloading \"http://arxiv.org/abs/1704.04347\"\n"
     ]
    },
    {
     "name": "stderr",
     "output_type": "stream",
     "text": [
      "\r",
      "137it [04:21,  2.36s/it]"
     ]
    },
    {
     "name": "stdout",
     "output_type": "stream",
     "text": [
      "Downloading \"http://arxiv.org/abs/1704.03940\"\n"
     ]
    },
    {
     "name": "stderr",
     "output_type": "stream",
     "text": [
      "\r",
      "138it [04:23,  2.29s/it]"
     ]
    },
    {
     "name": "stdout",
     "output_type": "stream",
     "text": [
      "Downloading \"http://arxiv.org/abs/1704.03084\"\n"
     ]
    },
    {
     "name": "stderr",
     "output_type": "stream",
     "text": [
      "\r",
      "139it [04:25,  2.20s/it]"
     ]
    },
    {
     "name": "stdout",
     "output_type": "stream",
     "text": [
      "Downloading \"http://arxiv.org/abs/1703.07438\"\n"
     ]
    },
    {
     "name": "stderr",
     "output_type": "stream",
     "text": [
      "\r",
      "140it [04:27,  2.12s/it]"
     ]
    },
    {
     "name": "stdout",
     "output_type": "stream",
     "text": [
      "Downloading \"http://arxiv.org/abs/1702.02265\"\n"
     ]
    },
    {
     "name": "stderr",
     "output_type": "stream",
     "text": [
      "\r",
      "141it [04:29,  2.05s/it]"
     ]
    },
    {
     "name": "stdout",
     "output_type": "stream",
     "text": [
      "Downloading \"http://arxiv.org/abs/1702.02098\"\n"
     ]
    },
    {
     "name": "stderr",
     "output_type": "stream",
     "text": [
      "\r",
      "142it [04:31,  2.02s/it]"
     ]
    },
    {
     "name": "stdout",
     "output_type": "stream",
     "text": [
      "Downloading \"http://arxiv.org/abs/1701.02854\"\n"
     ]
    },
    {
     "name": "stderr",
     "output_type": "stream",
     "text": [
      "\r",
      "143it [04:33,  2.05s/it]"
     ]
    },
    {
     "name": "stdout",
     "output_type": "stream",
     "text": [
      "Downloading \"http://arxiv.org/abs/1611.04503\"\n"
     ]
    },
    {
     "name": "stderr",
     "output_type": "stream",
     "text": [
      "\r",
      "144it [04:35,  2.01s/it]"
     ]
    },
    {
     "name": "stdout",
     "output_type": "stream",
     "text": [
      "Downloading \"http://arxiv.org/abs/1611.01587\"\n"
     ]
    },
    {
     "name": "stderr",
     "output_type": "stream",
     "text": [
      "\r",
      "145it [04:37,  1.99s/it]"
     ]
    },
    {
     "name": "stdout",
     "output_type": "stream",
     "text": [
      "Downloading \"http://arxiv.org/abs/1511.02799\"\n"
     ]
    },
    {
     "name": "stderr",
     "output_type": "stream",
     "text": [
      "\r",
      "146it [04:39,  1.97s/it]"
     ]
    },
    {
     "name": "stdout",
     "output_type": "stream",
     "text": [
      "Downloading \"http://arxiv.org/abs/1707.07660\"\n"
     ]
    },
    {
     "name": "stderr",
     "output_type": "stream",
     "text": [
      "\r",
      "147it [04:40,  1.93s/it]"
     ]
    },
    {
     "name": "stdout",
     "output_type": "stream",
     "text": [
      "Downloading \"http://arxiv.org/abs/1707.07631\"\n"
     ]
    },
    {
     "name": "stderr",
     "output_type": "stream",
     "text": [
      "\r",
      "148it [04:43,  2.05s/it]"
     ]
    },
    {
     "name": "stdout",
     "output_type": "stream",
     "text": [
      "Downloading \"http://arxiv.org/abs/1707.07628\"\n"
     ]
    },
    {
     "name": "stderr",
     "output_type": "stream",
     "text": [
      "\r",
      "149it [04:45,  2.03s/it]"
     ]
    },
    {
     "name": "stdout",
     "output_type": "stream",
     "text": [
      "Downloading \"http://arxiv.org/abs/1707.07605\"\n"
     ]
    },
    {
     "name": "stderr",
     "output_type": "stream",
     "text": [
      "\r",
      "150it [04:47,  1.99s/it]"
     ]
    },
    {
     "name": "stdout",
     "output_type": "stream",
     "text": [
      "Downloading \"http://arxiv.org/abs/1707.07601\"\n"
     ]
    },
    {
     "name": "stderr",
     "output_type": "stream",
     "text": [
      "\r",
      "151it [04:49,  2.21s/it]"
     ]
    },
    {
     "name": "stdout",
     "output_type": "stream",
     "text": [
      "Downloading \"http://arxiv.org/abs/1707.07591\"\n"
     ]
    },
    {
     "name": "stderr",
     "output_type": "stream",
     "text": [
      "\r",
      "152it [04:52,  2.23s/it]"
     ]
    },
    {
     "name": "stdout",
     "output_type": "stream",
     "text": [
      "Downloading \"http://arxiv.org/abs/1707.07585\"\n"
     ]
    },
    {
     "name": "stderr",
     "output_type": "stream",
     "text": [
      "\r",
      "153it [04:54,  2.17s/it]"
     ]
    },
    {
     "name": "stdout",
     "output_type": "stream",
     "text": [
      "Downloading \"http://arxiv.org/abs/1707.07568\"\n"
     ]
    },
    {
     "name": "stderr",
     "output_type": "stream",
     "text": [
      "\r",
      "154it [04:56,  2.13s/it]"
     ]
    },
    {
     "name": "stdout",
     "output_type": "stream",
     "text": [
      "Downloading \"http://arxiv.org/abs/1707.07554\"\n"
     ]
    },
    {
     "name": "stderr",
     "output_type": "stream",
     "text": [
      "\r",
      "155it [04:58,  2.08s/it]"
     ]
    },
    {
     "name": "stdout",
     "output_type": "stream",
     "text": [
      "Downloading \"http://arxiv.org/abs/1707.07499\"\n"
     ]
    },
    {
     "name": "stderr",
     "output_type": "stream",
     "text": [
      "\r",
      "156it [05:00,  2.13s/it]"
     ]
    },
    {
     "name": "stdout",
     "output_type": "stream",
     "text": [
      "Downloading \"http://arxiv.org/abs/1707.07469\"\n"
     ]
    },
    {
     "name": "stderr",
     "output_type": "stream",
     "text": [
      "\r",
      "157it [05:02,  2.05s/it]"
     ]
    },
    {
     "name": "stdout",
     "output_type": "stream",
     "text": [
      "Downloading \"http://arxiv.org/abs/1707.07413\"\n"
     ]
    },
    {
     "name": "stderr",
     "output_type": "stream",
     "text": [
      "\r",
      "158it [05:04,  1.99s/it]"
     ]
    },
    {
     "name": "stdout",
     "output_type": "stream",
     "text": [
      "Downloading \"http://arxiv.org/abs/1707.07402\"\n"
     ]
    },
    {
     "name": "stderr",
     "output_type": "stream",
     "text": [
      "\r",
      "159it [05:05,  1.95s/it]"
     ]
    },
    {
     "name": "stdout",
     "output_type": "stream",
     "text": [
      "Downloading \"http://arxiv.org/abs/1707.07344\"\n"
     ]
    },
    {
     "name": "stderr",
     "output_type": "stream",
     "text": [
      "\r",
      "160it [05:07,  1.94s/it]"
     ]
    },
    {
     "name": "stdout",
     "output_type": "stream",
     "text": [
      "Downloading \"http://arxiv.org/abs/1707.07343\"\n"
     ]
    },
    {
     "name": "stderr",
     "output_type": "stream",
     "text": [
      "\r",
      "161it [05:09,  1.93s/it]"
     ]
    },
    {
     "name": "stdout",
     "output_type": "stream",
     "text": [
      "Downloading \"http://arxiv.org/abs/1707.07331\"\n"
     ]
    },
    {
     "name": "stderr",
     "output_type": "stream",
     "text": [
      "\r",
      "162it [05:11,  1.93s/it]"
     ]
    },
    {
     "name": "stdout",
     "output_type": "stream",
     "text": [
      "Downloading \"http://arxiv.org/abs/1707.07328\"\n"
     ]
    },
    {
     "name": "stderr",
     "output_type": "stream",
     "text": [
      "\r",
      "163it [05:13,  1.92s/it]"
     ]
    },
    {
     "name": "stdout",
     "output_type": "stream",
     "text": [
      "Downloading \"http://arxiv.org/abs/1707.07279\"\n"
     ]
    },
    {
     "name": "stderr",
     "output_type": "stream",
     "text": [
      "\r",
      "164it [05:15,  1.91s/it]"
     ]
    },
    {
     "name": "stdout",
     "output_type": "stream",
     "text": [
      "Downloading \"http://arxiv.org/abs/1707.07278\"\n"
     ]
    },
    {
     "name": "stderr",
     "output_type": "stream",
     "text": [
      "\r",
      "165it [05:17,  1.96s/it]"
     ]
    },
    {
     "name": "stdout",
     "output_type": "stream",
     "text": [
      "Downloading \"http://arxiv.org/abs/1707.07273\"\n"
     ]
    },
    {
     "name": "stderr",
     "output_type": "stream",
     "text": [
      "\r",
      "166it [05:19,  1.94s/it]"
     ]
    },
    {
     "name": "stdout",
     "output_type": "stream",
     "text": [
      "Downloading \"http://arxiv.org/abs/1707.07270\"\n"
     ]
    },
    {
     "name": "stderr",
     "output_type": "stream",
     "text": [
      "\r",
      "167it [05:21,  2.06s/it]"
     ]
    },
    {
     "name": "stdout",
     "output_type": "stream",
     "text": [
      "Downloading \"http://arxiv.org/abs/1707.07265\"\n"
     ]
    },
    {
     "name": "stderr",
     "output_type": "stream",
     "text": [
      "\r",
      "168it [05:23,  2.02s/it]"
     ]
    },
    {
     "name": "stdout",
     "output_type": "stream",
     "text": [
      "Downloading \"http://arxiv.org/abs/1707.07250\"\n"
     ]
    },
    {
     "name": "stderr",
     "output_type": "stream",
     "text": [
      "\r",
      "169it [05:25,  2.08s/it]"
     ]
    },
    {
     "name": "stdout",
     "output_type": "stream",
     "text": [
      "Downloading \"http://arxiv.org/abs/1707.07240\"\n"
     ]
    },
    {
     "name": "stderr",
     "output_type": "stream",
     "text": [
      "\r",
      "170it [05:27,  2.03s/it]"
     ]
    },
    {
     "name": "stdout",
     "output_type": "stream",
     "text": [
      "Downloading \"http://arxiv.org/abs/1707.07212\"\n"
     ]
    },
    {
     "name": "stderr",
     "output_type": "stream",
     "text": [
      "\r",
      "171it [05:30,  2.15s/it]"
     ]
    },
    {
     "name": "stdout",
     "output_type": "stream",
     "text": [
      "Downloading \"http://arxiv.org/abs/1707.07191\"\n"
     ]
    },
    {
     "name": "stderr",
     "output_type": "stream",
     "text": [
      "\r",
      "172it [05:32,  2.06s/it]"
     ]
    },
    {
     "name": "stdout",
     "output_type": "stream",
     "text": [
      "Downloading \"http://arxiv.org/abs/1707.07182\"\n"
     ]
    },
    {
     "name": "stderr",
     "output_type": "stream",
     "text": [
      "\r",
      "173it [05:33,  2.01s/it]"
     ]
    },
    {
     "name": "stdout",
     "output_type": "stream",
     "text": [
      "Downloading \"http://arxiv.org/abs/1707.07167\"\n"
     ]
    },
    {
     "name": "stderr",
     "output_type": "stream",
     "text": [
      "\r",
      "174it [05:35,  2.00s/it]"
     ]
    },
    {
     "name": "stdout",
     "output_type": "stream",
     "text": [
      "Downloading \"http://arxiv.org/abs/1707.07129\"\n"
     ]
    },
    {
     "name": "stderr",
     "output_type": "stream",
     "text": [
      "\r",
      "175it [05:38,  2.10s/it]"
     ]
    },
    {
     "name": "stdout",
     "output_type": "stream",
     "text": [
      "Downloading \"http://arxiv.org/abs/1707.07102\"\n"
     ]
    },
    {
     "name": "stderr",
     "output_type": "stream",
     "text": [
      "\r",
      "176it [05:40,  2.03s/it]"
     ]
    },
    {
     "name": "stdout",
     "output_type": "stream",
     "text": [
      "Downloading \"http://arxiv.org/abs/1707.07086\"\n"
     ]
    },
    {
     "name": "stderr",
     "output_type": "stream",
     "text": [
      "\r",
      "177it [05:42,  2.05s/it]"
     ]
    },
    {
     "name": "stdout",
     "output_type": "stream",
     "text": [
      "Downloading \"http://arxiv.org/abs/1707.07066\"\n"
     ]
    },
    {
     "name": "stderr",
     "output_type": "stream",
     "text": [
      "\r",
      "178it [05:44,  1.99s/it]"
     ]
    },
    {
     "name": "stdout",
     "output_type": "stream",
     "text": [
      "Downloading \"http://arxiv.org/abs/1707.07062\"\n"
     ]
    },
    {
     "name": "stderr",
     "output_type": "stream",
     "text": [
      "\r",
      "179it [05:46,  1.98s/it]"
     ]
    },
    {
     "name": "stdout",
     "output_type": "stream",
     "text": [
      "Downloading \"http://arxiv.org/abs/1707.07048\"\n"
     ]
    },
    {
     "name": "stderr",
     "output_type": "stream",
     "text": [
      "\r",
      "180it [05:47,  1.96s/it]"
     ]
    },
    {
     "name": "stdout",
     "output_type": "stream",
     "text": [
      "Downloading \"http://arxiv.org/abs/1707.07045\"\n"
     ]
    },
    {
     "name": "stderr",
     "output_type": "stream",
     "text": [
      "\r",
      "181it [05:50,  1.98s/it]"
     ]
    },
    {
     "name": "stdout",
     "output_type": "stream",
     "text": [
      "Downloading \"http://arxiv.org/abs/1707.06996\"\n"
     ]
    },
    {
     "name": "stderr",
     "output_type": "stream",
     "text": [
      "\r",
      "182it [05:52,  2.13s/it]"
     ]
    },
    {
     "name": "stdout",
     "output_type": "stream",
     "text": [
      "Downloading \"http://arxiv.org/abs/1707.06456\"\n"
     ]
    },
    {
     "name": "stderr",
     "output_type": "stream",
     "text": [
      "\r",
      "183it [05:54,  2.06s/it]"
     ]
    },
    {
     "name": "stdout",
     "output_type": "stream",
     "text": [
      "Downloading \"http://arxiv.org/abs/1707.06299\"\n"
     ]
    },
    {
     "name": "stderr",
     "output_type": "stream",
     "text": [
      "\r",
      "184it [05:56,  2.04s/it]"
     ]
    },
    {
     "name": "stdout",
     "output_type": "stream",
     "text": [
      "Downloading \"http://arxiv.org/abs/1707.06320\"\n"
     ]
    },
    {
     "name": "stderr",
     "output_type": "stream",
     "text": [
      "\r",
      "185it [05:58,  2.01s/it]"
     ]
    },
    {
     "name": "stdout",
     "output_type": "stream",
     "text": [
      "Downloading \"http://arxiv.org/abs/1707.05850\"\n"
     ]
    },
    {
     "name": "stderr",
     "output_type": "stream",
     "text": [
      "\r",
      "186it [06:00,  1.96s/it]"
     ]
    },
    {
     "name": "stdout",
     "output_type": "stream",
     "text": [
      "Downloading \"http://arxiv.org/abs/1707.06357\"\n"
     ]
    },
    {
     "name": "stderr",
     "output_type": "stream",
     "text": [
      "\r",
      "187it [06:01,  1.92s/it]"
     ]
    },
    {
     "name": "stdout",
     "output_type": "stream",
     "text": [
      "Downloading \"http://arxiv.org/abs/1707.05850\"\n"
     ]
    },
    {
     "name": "stderr",
     "output_type": "stream",
     "text": [
      "\r",
      "188it [06:03,  1.89s/it]"
     ]
    },
    {
     "name": "stdout",
     "output_type": "stream",
     "text": [
      "Downloading \"http://arxiv.org/abs/1706.05656\"\n"
     ]
    },
    {
     "name": "stderr",
     "output_type": "stream",
     "text": [
      "\r",
      "189it [06:05,  1.88s/it]"
     ]
    },
    {
     "name": "stdout",
     "output_type": "stream",
     "text": [
      "Downloading \"http://arxiv.org/abs/1704.04520\"\n"
     ]
    },
    {
     "name": "stderr",
     "output_type": "stream",
     "text": [
      "\r",
      "190it [06:07,  1.88s/it]"
     ]
    },
    {
     "name": "stdout",
     "output_type": "stream",
     "text": [
      "Downloading \"http://arxiv.org/abs/1602.08844\"\n"
     ]
    },
    {
     "name": "stderr",
     "output_type": "stream",
     "text": [
      "\r",
      "191it [06:09,  1.86s/it]"
     ]
    },
    {
     "name": "stdout",
     "output_type": "stream",
     "text": [
      "Downloading \"http://arxiv.org/abs/1707.06598\"\n"
     ]
    },
    {
     "name": "stderr",
     "output_type": "stream",
     "text": [
      "\r",
      "192it [06:11,  1.89s/it]"
     ]
    },
    {
     "name": "stdout",
     "output_type": "stream",
     "text": [
      "Downloading \"http://arxiv.org/abs/1707.06588\"\n"
     ]
    },
    {
     "name": "stderr",
     "output_type": "stream",
     "text": [
      "\r",
      "193it [06:13,  1.89s/it]"
     ]
    },
    {
     "name": "stdout",
     "output_type": "stream",
     "text": [
      "Downloading \"http://arxiv.org/abs/1707.06562\"\n"
     ]
    },
    {
     "name": "stderr",
     "output_type": "stream",
     "text": [
      "\r",
      "194it [06:15,  1.88s/it]"
     ]
    },
    {
     "name": "stdout",
     "output_type": "stream",
     "text": [
      "Downloading \"http://arxiv.org/abs/1707.06556\"\n"
     ]
    },
    {
     "name": "stderr",
     "output_type": "stream",
     "text": [
      "\r",
      "195it [06:16,  1.87s/it]"
     ]
    },
    {
     "name": "stdout",
     "output_type": "stream",
     "text": [
      "Downloading \"http://arxiv.org/abs/1707.06527\"\n"
     ]
    },
    {
     "name": "stderr",
     "output_type": "stream",
     "text": [
      "\r",
      "196it [06:18,  1.87s/it]"
     ]
    },
    {
     "name": "stdout",
     "output_type": "stream",
     "text": [
      "Downloading \"http://arxiv.org/abs/1707.06519\"\n"
     ]
    },
    {
     "name": "stderr",
     "output_type": "stream",
     "text": [
      "\r",
      "197it [06:20,  1.85s/it]"
     ]
    },
    {
     "name": "stdout",
     "output_type": "stream",
     "text": [
      "Downloading \"http://arxiv.org/abs/1707.06480\"\n"
     ]
    },
    {
     "name": "stderr",
     "output_type": "stream",
     "text": [
      "\r",
      "198it [06:22,  1.98s/it]"
     ]
    },
    {
     "name": "stdout",
     "output_type": "stream",
     "text": [
      "Downloading \"http://arxiv.org/abs/1707.06355\"\n"
     ]
    },
    {
     "name": "stderr",
     "output_type": "stream",
     "text": [
      "\r",
      "199it [06:24,  1.96s/it]"
     ]
    },
    {
     "name": "stdout",
     "output_type": "stream",
     "text": [
      "Downloading \"http://arxiv.org/abs/1707.06320\"\n"
     ]
    },
    {
     "name": "stderr",
     "output_type": "stream",
     "text": [
      "\r",
      "200it [06:26,  1.93s/it]"
     ]
    },
    {
     "name": "stdout",
     "output_type": "stream",
     "text": [
      "Downloading \"http://arxiv.org/abs/1707.06226\"\n"
     ]
    },
    {
     "name": "stderr",
     "output_type": "stream",
     "text": [
      "\r",
      "201it [06:28,  1.94s/it]"
     ]
    },
    {
     "name": "stdout",
     "output_type": "stream",
     "text": [
      "Downloading \"http://arxiv.org/abs/1602.05875\"\n"
     ]
    },
    {
     "name": "stderr",
     "output_type": "stream",
     "text": [
      "\r",
      "202it [06:30,  1.91s/it]"
     ]
    },
    {
     "name": "stdout",
     "output_type": "stream",
     "text": [
      "Downloading \"http://arxiv.org/abs/1707.06378\"\n"
     ]
    },
    {
     "name": "stderr",
     "output_type": "stream",
     "text": [
      "\r",
      "203it [06:32,  1.92s/it]"
     ]
    },
    {
     "name": "stdout",
     "output_type": "stream",
     "text": [
      "Downloading \"http://arxiv.org/abs/1707.06357\"\n"
     ]
    },
    {
     "name": "stderr",
     "output_type": "stream",
     "text": [
      "\r",
      "204it [06:34,  1.90s/it]"
     ]
    },
    {
     "name": "stdout",
     "output_type": "stream",
     "text": [
      "Downloading \"http://arxiv.org/abs/1707.06341\"\n"
     ]
    },
    {
     "name": "stderr",
     "output_type": "stream",
     "text": [
      "\r",
      "205it [06:36,  1.88s/it]"
     ]
    },
    {
     "name": "stdout",
     "output_type": "stream",
     "text": [
      "Downloading \"http://arxiv.org/abs/1707.06588\"\n"
     ]
    },
    {
     "name": "stderr",
     "output_type": "stream",
     "text": [
      "\r",
      "206it [06:37,  1.87s/it]"
     ]
    },
    {
     "name": "stdout",
     "output_type": "stream",
     "text": [
      "Downloading \"http://arxiv.org/abs/1707.06480\"\n"
     ]
    },
    {
     "name": "stderr",
     "output_type": "stream",
     "text": [
      "\r",
      "207it [06:40,  2.02s/it]"
     ]
    },
    {
     "name": "stdout",
     "output_type": "stream",
     "text": [
      "Downloading \"http://arxiv.org/abs/1706.05656\"\n"
     ]
    },
    {
     "name": "stderr",
     "output_type": "stream",
     "text": [
      "\r",
      "208it [06:42,  1.95s/it]"
     ]
    },
    {
     "name": "stdout",
     "output_type": "stream",
     "text": [
      "Downloading \"http://arxiv.org/abs/1704.04520\"\n"
     ]
    },
    {
     "name": "stderr",
     "output_type": "stream",
     "text": [
      "\r",
      "209it [06:43,  1.94s/it]"
     ]
    },
    {
     "name": "stdout",
     "output_type": "stream",
     "text": [
      "Downloading \"http://arxiv.org/abs/1707.06299\"\n"
     ]
    },
    {
     "name": "stderr",
     "output_type": "stream",
     "text": [
      "\r",
      "210it [06:46,  1.97s/it]"
     ]
    },
    {
     "name": "stdout",
     "output_type": "stream",
     "text": [
      "Downloading \"http://arxiv.org/abs/1707.06265\"\n"
     ]
    },
    {
     "name": "stderr",
     "output_type": "stream",
     "text": [
      "\r",
      "211it [06:48,  2.02s/it]"
     ]
    },
    {
     "name": "stdout",
     "output_type": "stream",
     "text": [
      "Downloading \"http://arxiv.org/abs/1707.06456\"\n"
     ]
    },
    {
     "name": "stderr",
     "output_type": "stream",
     "text": [
      "\r",
      "212it [06:50,  1.99s/it]"
     ]
    },
    {
     "name": "stdout",
     "output_type": "stream",
     "text": [
      "Downloading \"http://arxiv.org/abs/1602.05875\"\n"
     ]
    },
    {
     "name": "stderr",
     "output_type": "stream",
     "text": [
      "\r",
      "213it [06:52,  2.10s/it]"
     ]
    },
    {
     "name": "stdout",
     "output_type": "stream",
     "text": [
      "Downloading \"http://arxiv.org/abs/1707.06588\"\n"
     ]
    },
    {
     "name": "stderr",
     "output_type": "stream",
     "text": [
      "\r",
      "214it [06:54,  2.13s/it]"
     ]
    },
    {
     "name": "stdout",
     "output_type": "stream",
     "text": [
      "Downloading \"http://arxiv.org/abs/1707.06480\"\n"
     ]
    },
    {
     "name": "stderr",
     "output_type": "stream",
     "text": [
      "\r",
      "215it [06:57,  2.28s/it]"
     ]
    },
    {
     "name": "stdout",
     "output_type": "stream",
     "text": [
      "Downloading \"http://arxiv.org/abs/1707.06320\"\n"
     ]
    },
    {
     "name": "stderr",
     "output_type": "stream",
     "text": [
      "\r",
      "216it [06:59,  2.20s/it]"
     ]
    },
    {
     "name": "stdout",
     "output_type": "stream",
     "text": [
      "Downloading \"http://arxiv.org/abs/1707.06226\"\n"
     ]
    },
    {
     "name": "stderr",
     "output_type": "stream",
     "text": [
      "\r",
      "217it [07:01,  2.18s/it]"
     ]
    },
    {
     "name": "stdout",
     "output_type": "stream",
     "text": [
      "Downloading \"http://arxiv.org/abs/1707.05850\"\n"
     ]
    },
    {
     "name": "stderr",
     "output_type": "stream",
     "text": [
      "\r",
      "218it [07:03,  2.14s/it]"
     ]
    },
    {
     "name": "stdout",
     "output_type": "stream",
     "text": [
      "Downloading \"http://arxiv.org/abs/1706.05656\"\n"
     ]
    },
    {
     "name": "stderr",
     "output_type": "stream",
     "text": [
      "\r",
      "219it [07:05,  2.11s/it]"
     ]
    },
    {
     "name": "stdout",
     "output_type": "stream",
     "text": [
      "Downloading \"http://arxiv.org/abs/1602.08844\"\n"
     ]
    },
    {
     "name": "stderr",
     "output_type": "stream",
     "text": [
      "\r",
      "220it [07:07,  2.11s/it]"
     ]
    },
    {
     "name": "stdout",
     "output_type": "stream",
     "text": [
      "Downloading \"http://arxiv.org/abs/1602.05875\"\n"
     ]
    },
    {
     "name": "stderr",
     "output_type": "stream",
     "text": [
      "\r",
      "221it [07:09,  2.09s/it]"
     ]
    },
    {
     "name": "stdout",
     "output_type": "stream",
     "text": [
      "Downloading \"http://arxiv.org/abs/1707.06598\"\n"
     ]
    },
    {
     "name": "stderr",
     "output_type": "stream",
     "text": [
      "\r",
      "222it [07:11,  2.15s/it]"
     ]
    },
    {
     "name": "stdout",
     "output_type": "stream",
     "text": [
      "Downloading \"http://arxiv.org/abs/1707.06562\"\n"
     ]
    },
    {
     "name": "stderr",
     "output_type": "stream",
     "text": [
      "\r",
      "223it [07:14,  2.15s/it]"
     ]
    },
    {
     "name": "stdout",
     "output_type": "stream",
     "text": [
      "Downloading \"http://arxiv.org/abs/1707.06556\"\n"
     ]
    },
    {
     "name": "stderr",
     "output_type": "stream",
     "text": [
      "\r",
      "224it [07:16,  2.14s/it]"
     ]
    },
    {
     "name": "stdout",
     "output_type": "stream",
     "text": [
      "Downloading \"http://arxiv.org/abs/1707.06527\"\n"
     ]
    },
    {
     "name": "stderr",
     "output_type": "stream",
     "text": [
      "\r",
      "225it [07:18,  2.11s/it]"
     ]
    },
    {
     "name": "stdout",
     "output_type": "stream",
     "text": [
      "Downloading \"http://arxiv.org/abs/1707.06519\"\n"
     ]
    },
    {
     "name": "stderr",
     "output_type": "stream",
     "text": [
      "\r",
      "226it [07:21,  2.45s/it]"
     ]
    },
    {
     "name": "stdout",
     "output_type": "stream",
     "text": [
      "Downloading \"http://arxiv.org/abs/1707.06480\"\n"
     ]
    },
    {
     "name": "stderr",
     "output_type": "stream",
     "text": [
      "\r",
      "227it [07:24,  2.74s/it]"
     ]
    },
    {
     "name": "stdout",
     "output_type": "stream",
     "text": [
      "Downloading \"http://arxiv.org/abs/1707.06355\"\n"
     ]
    },
    {
     "name": "stderr",
     "output_type": "stream",
     "text": [
      "\r",
      "228it [07:27,  2.64s/it]"
     ]
    },
    {
     "name": "stdout",
     "output_type": "stream",
     "text": [
      "Downloading \"http://arxiv.org/abs/1707.06320\"\n"
     ]
    },
    {
     "name": "stderr",
     "output_type": "stream",
     "text": [
      "\r",
      "229it [07:29,  2.56s/it]"
     ]
    },
    {
     "name": "stdout",
     "output_type": "stream",
     "text": [
      "Downloading \"http://arxiv.org/abs/1707.06598\"\n"
     ]
    },
    {
     "name": "stderr",
     "output_type": "stream",
     "text": [
      "\r",
      "230it [07:31,  2.40s/it]"
     ]
    },
    {
     "name": "stdout",
     "output_type": "stream",
     "text": [
      "Downloading \"http://arxiv.org/abs/1707.06357\"\n"
     ]
    },
    {
     "name": "stderr",
     "output_type": "stream",
     "text": [
      "\r",
      "231it [07:33,  2.28s/it]"
     ]
    },
    {
     "name": "stdout",
     "output_type": "stream",
     "text": [
      "Downloading \"http://arxiv.org/abs/1707.06378\"\n"
     ]
    },
    {
     "name": "stderr",
     "output_type": "stream",
     "text": [
      "\r",
      "232it [07:35,  2.21s/it]"
     ]
    },
    {
     "name": "stdout",
     "output_type": "stream",
     "text": [
      "Downloading \"http://arxiv.org/abs/1707.06341\"\n"
     ]
    },
    {
     "name": "stderr",
     "output_type": "stream",
     "text": [
      "\r",
      "233it [07:37,  2.17s/it]"
     ]
    },
    {
     "name": "stdout",
     "output_type": "stream",
     "text": [
      "Downloading \"http://arxiv.org/abs/1707.06299\"\n"
     ]
    },
    {
     "name": "stderr",
     "output_type": "stream",
     "text": [
      "\r",
      "234it [07:39,  2.13s/it]"
     ]
    },
    {
     "name": "stdout",
     "output_type": "stream",
     "text": [
      "Downloading \"http://arxiv.org/abs/1707.06341\"\n"
     ]
    },
    {
     "name": "stderr",
     "output_type": "stream",
     "text": [
      "\r",
      "235it [07:41,  2.12s/it]"
     ]
    },
    {
     "name": "stdout",
     "output_type": "stream",
     "text": [
      "Downloading \"http://arxiv.org/abs/1707.06841\"\n"
     ]
    },
    {
     "name": "stderr",
     "output_type": "stream",
     "text": [
      "\r",
      "236it [07:44,  2.10s/it]"
     ]
    },
    {
     "name": "stdout",
     "output_type": "stream",
     "text": [
      "Downloading \"http://arxiv.org/abs/1707.06690\"\n"
     ]
    },
    {
     "name": "stderr",
     "output_type": "stream",
     "text": [
      "\r",
      "237it [07:46,  2.08s/it]"
     ]
    },
    {
     "name": "stdout",
     "output_type": "stream",
     "text": [
      "Downloading \"http://arxiv.org/abs/1707.06939\"\n"
     ]
    },
    {
     "name": "stderr",
     "output_type": "stream",
     "text": [
      "\r",
      "238it [07:48,  2.07s/it]"
     ]
    },
    {
     "name": "stdout",
     "output_type": "stream",
     "text": [
      "Downloading \"http://arxiv.org/abs/1707.01378\"\n"
     ]
    },
    {
     "name": "stderr",
     "output_type": "stream",
     "text": [
      "\r",
      "239it [07:50,  2.08s/it]"
     ]
    },
    {
     "name": "stdout",
     "output_type": "stream",
     "text": [
      "Downloading \"http://arxiv.org/abs/1707.01161\"\n"
     ]
    },
    {
     "name": "stderr",
     "output_type": "stream",
     "text": [
      "\r",
      "240it [07:52,  2.13s/it]"
     ]
    },
    {
     "name": "stdout",
     "output_type": "stream",
     "text": [
      "Downloading \"http://arxiv.org/abs/1706.02256\"\n"
     ]
    },
    {
     "name": "stderr",
     "output_type": "stream",
     "text": [
      "\r",
      "241it [07:54,  2.11s/it]"
     ]
    },
    {
     "name": "stdout",
     "output_type": "stream",
     "text": [
      "Downloading \"http://arxiv.org/abs/1705.09207\"\n"
     ]
    },
    {
     "name": "stderr",
     "output_type": "stream",
     "text": [
      "\r",
      "242it [07:56,  2.03s/it]"
     ]
    },
    {
     "name": "stdout",
     "output_type": "stream",
     "text": [
      "Downloading \"http://arxiv.org/abs/1705.06106\"\n"
     ]
    },
    {
     "name": "stderr",
     "output_type": "stream",
     "text": [
      "\r",
      "243it [07:58,  1.99s/it]"
     ]
    },
    {
     "name": "stdout",
     "output_type": "stream",
     "text": [
      "Downloading \"http://arxiv.org/abs/1705.04044\"\n"
     ]
    },
    {
     "name": "stderr",
     "output_type": "stream",
     "text": [
      "\r",
      "244it [08:00,  1.98s/it]"
     ]
    },
    {
     "name": "stdout",
     "output_type": "stream",
     "text": [
      "Downloading \"http://arxiv.org/abs/1704.04452\"\n"
     ]
    },
    {
     "name": "stderr",
     "output_type": "stream",
     "text": [
      "\r",
      "245it [08:02,  1.93s/it]"
     ]
    },
    {
     "name": "stdout",
     "output_type": "stream",
     "text": [
      "Downloading \"http://arxiv.org/abs/1704.03279\"\n"
     ]
    },
    {
     "name": "stderr",
     "output_type": "stream",
     "text": [
      "\r",
      "246it [08:03,  1.92s/it]"
     ]
    },
    {
     "name": "stdout",
     "output_type": "stream",
     "text": [
      "Downloading \"http://arxiv.org/abs/1704.00559\"\n"
     ]
    },
    {
     "name": "stderr",
     "output_type": "stream",
     "text": [
      "\r",
      "247it [08:05,  1.90s/it]"
     ]
    },
    {
     "name": "stdout",
     "output_type": "stream",
     "text": [
      "Downloading \"http://arxiv.org/abs/1606.07770\"\n"
     ]
    },
    {
     "name": "stderr",
     "output_type": "stream",
     "text": [
      "\r",
      "248it [08:07,  1.91s/it]"
     ]
    },
    {
     "name": "stdout",
     "output_type": "stream",
     "text": [
      "Downloading \"http://arxiv.org/abs/1707.06971\"\n"
     ]
    },
    {
     "name": "stderr",
     "output_type": "stream",
     "text": [
      "\r",
      "249it [08:09,  1.95s/it]"
     ]
    },
    {
     "name": "stdout",
     "output_type": "stream",
     "text": [
      "Downloading \"http://arxiv.org/abs/1707.06961\"\n"
     ]
    },
    {
     "name": "stderr",
     "output_type": "stream",
     "text": [
      "\r",
      "250it [08:12,  2.06s/it]"
     ]
    },
    {
     "name": "stdout",
     "output_type": "stream",
     "text": [
      "Downloading \"http://arxiv.org/abs/1707.06957\"\n"
     ]
    },
    {
     "name": "stderr",
     "output_type": "stream",
     "text": [
      "\r",
      "251it [08:14,  2.07s/it]"
     ]
    },
    {
     "name": "stdout",
     "output_type": "stream",
     "text": [
      "Downloading \"http://arxiv.org/abs/1707.06945\"\n"
     ]
    },
    {
     "name": "stderr",
     "output_type": "stream",
     "text": [
      "\r",
      "252it [08:17,  2.42s/it]"
     ]
    },
    {
     "name": "stdout",
     "output_type": "stream",
     "text": [
      "Downloading \"http://arxiv.org/abs/1707.06939\"\n"
     ]
    },
    {
     "name": "stderr",
     "output_type": "stream",
     "text": [
      "\r",
      "253it [08:19,  2.27s/it]"
     ]
    },
    {
     "name": "stdout",
     "output_type": "stream",
     "text": [
      "Downloading \"http://arxiv.org/abs/1707.06932\"\n"
     ]
    },
    {
     "name": "stderr",
     "output_type": "stream",
     "text": [
      "\r",
      "254it [08:21,  2.16s/it]"
     ]
    },
    {
     "name": "stdout",
     "output_type": "stream",
     "text": [
      "Downloading \"http://arxiv.org/abs/1707.06885\"\n"
     ]
    },
    {
     "name": "stderr",
     "output_type": "stream",
     "text": [
      "\r",
      "255it [08:23,  2.09s/it]"
     ]
    },
    {
     "name": "stdout",
     "output_type": "stream",
     "text": [
      "Downloading \"http://arxiv.org/abs/1707.06878\"\n"
     ]
    },
    {
     "name": "stderr",
     "output_type": "stream",
     "text": [
      "\r",
      "256it [08:25,  2.16s/it]"
     ]
    },
    {
     "name": "stdout",
     "output_type": "stream",
     "text": [
      "Downloading \"http://arxiv.org/abs/1707.06875\"\n"
     ]
    },
    {
     "name": "stderr",
     "output_type": "stream",
     "text": [
      "\r",
      "257it [08:27,  2.08s/it]"
     ]
    },
    {
     "name": "stdout",
     "output_type": "stream",
     "text": [
      "Downloading \"http://arxiv.org/abs/1707.06806\"\n"
     ]
    },
    {
     "name": "stderr",
     "output_type": "stream",
     "text": [
      "\r",
      "258it [08:29,  2.03s/it]"
     ]
    },
    {
     "name": "stdout",
     "output_type": "stream",
     "text": [
      "Downloading \"http://arxiv.org/abs/1707.06799\"\n"
     ]
    },
    {
     "name": "stderr",
     "output_type": "stream",
     "text": [
      "\r",
      "259it [08:31,  2.13s/it]"
     ]
    },
    {
     "name": "stdout",
     "output_type": "stream",
     "text": [
      "Downloading \"http://arxiv.org/abs/1707.06690\"\n"
     ]
    },
    {
     "name": "stderr",
     "output_type": "stream",
     "text": [
      "\r",
      "260it [08:33,  2.05s/it]"
     ]
    },
    {
     "name": "stdout",
     "output_type": "stream",
     "text": [
      "Downloading \"http://arxiv.org/abs/1705.02364\"\n"
     ]
    },
    {
     "name": "stderr",
     "output_type": "stream",
     "text": [
      "\r",
      "261it [08:35,  2.00s/it]"
     ]
    },
    {
     "name": "stdout",
     "output_type": "stream",
     "text": [
      "Downloading \"http://arxiv.org/abs/1612.02706\"\n"
     ]
    },
    {
     "name": "stderr",
     "output_type": "stream",
     "text": [
      "\r",
      "262it [08:37,  1.98s/it]"
     ]
    },
    {
     "name": "stdout",
     "output_type": "stream",
     "text": [
      "Downloading \"http://arxiv.org/abs/1610.06510\"\n"
     ]
    },
    {
     "name": "stderr",
     "output_type": "stream",
     "text": [
      "\r",
      "263it [08:39,  1.97s/it]"
     ]
    },
    {
     "name": "stdout",
     "output_type": "stream",
     "text": [
      "Downloading \"http://arxiv.org/abs/1705.02364\"\n"
     ]
    },
    {
     "name": "stderr",
     "output_type": "stream",
     "text": [
      "\r",
      "264it [08:41,  1.94s/it]"
     ]
    },
    {
     "name": "stdout",
     "output_type": "stream",
     "text": [
      "Downloading \"http://arxiv.org/abs/1707.06341\"\n"
     ]
    },
    {
     "name": "stderr",
     "output_type": "stream",
     "text": [
      "\r",
      "265it [08:42,  1.91s/it]"
     ]
    },
    {
     "name": "stdout",
     "output_type": "stream",
     "text": [
      "Downloading \"http://arxiv.org/abs/1707.06841\"\n"
     ]
    },
    {
     "name": "stderr",
     "output_type": "stream",
     "text": [
      "\r",
      "266it [08:44,  1.90s/it]"
     ]
    },
    {
     "name": "stdout",
     "output_type": "stream",
     "text": [
      "Downloading \"http://arxiv.org/abs/1707.06806\"\n"
     ]
    },
    {
     "name": "stderr",
     "output_type": "stream",
     "text": [
      "\r",
      "267it [08:46,  1.89s/it]"
     ]
    },
    {
     "name": "stdout",
     "output_type": "stream",
     "text": [
      "Downloading \"http://arxiv.org/abs/1707.01378\"\n"
     ]
    },
    {
     "name": "stderr",
     "output_type": "stream",
     "text": [
      "\r",
      "268it [08:48,  1.92s/it]"
     ]
    },
    {
     "name": "stdout",
     "output_type": "stream",
     "text": [
      "Downloading \"http://arxiv.org/abs/1707.01161\"\n"
     ]
    },
    {
     "name": "stderr",
     "output_type": "stream",
     "text": [
      "\r",
      "269it [08:50,  2.00s/it]"
     ]
    },
    {
     "name": "stdout",
     "output_type": "stream",
     "text": [
      "Downloading \"http://arxiv.org/abs/1706.02256\"\n"
     ]
    },
    {
     "name": "stderr",
     "output_type": "stream",
     "text": [
      "\r",
      "270it [08:53,  2.03s/it]"
     ]
    },
    {
     "name": "stdout",
     "output_type": "stream",
     "text": [
      "Downloading \"http://arxiv.org/abs/1705.09207\"\n"
     ]
    },
    {
     "name": "stderr",
     "output_type": "stream",
     "text": [
      "\r",
      "271it [08:55,  2.08s/it]"
     ]
    },
    {
     "name": "stdout",
     "output_type": "stream",
     "text": [
      "Downloading \"http://arxiv.org/abs/1705.06106\"\n"
     ]
    },
    {
     "name": "stderr",
     "output_type": "stream",
     "text": [
      "\r",
      "272it [08:57,  2.09s/it]"
     ]
    },
    {
     "name": "stdout",
     "output_type": "stream",
     "text": [
      "Downloading \"http://arxiv.org/abs/1705.04044\"\n"
     ]
    },
    {
     "name": "stderr",
     "output_type": "stream",
     "text": [
      "\r",
      "273it [08:59,  2.03s/it]"
     ]
    },
    {
     "name": "stdout",
     "output_type": "stream",
     "text": [
      "Downloading \"http://arxiv.org/abs/1705.02364\"\n"
     ]
    },
    {
     "name": "stderr",
     "output_type": "stream",
     "text": [
      "\r",
      "274it [09:01,  1.99s/it]"
     ]
    },
    {
     "name": "stdout",
     "output_type": "stream",
     "text": [
      "Downloading \"http://arxiv.org/abs/1704.04452\"\n"
     ]
    },
    {
     "name": "stderr",
     "output_type": "stream",
     "text": [
      "\r",
      "275it [09:02,  1.96s/it]"
     ]
    },
    {
     "name": "stdout",
     "output_type": "stream",
     "text": [
      "Downloading \"http://arxiv.org/abs/1704.03279\"\n"
     ]
    },
    {
     "name": "stderr",
     "output_type": "stream",
     "text": [
      "\r",
      "276it [09:04,  1.94s/it]"
     ]
    },
    {
     "name": "stdout",
     "output_type": "stream",
     "text": [
      "Downloading \"http://arxiv.org/abs/1704.00559\"\n"
     ]
    },
    {
     "name": "stderr",
     "output_type": "stream",
     "text": [
      "\r",
      "277it [09:06,  1.92s/it]"
     ]
    },
    {
     "name": "stdout",
     "output_type": "stream",
     "text": [
      "Downloading \"http://arxiv.org/abs/1612.02706\"\n"
     ]
    },
    {
     "name": "stderr",
     "output_type": "stream",
     "text": [
      "\r",
      "278it [09:08,  1.89s/it]"
     ]
    },
    {
     "name": "stdout",
     "output_type": "stream",
     "text": [
      "Downloading \"http://arxiv.org/abs/1610.06510\"\n"
     ]
    },
    {
     "name": "stderr",
     "output_type": "stream",
     "text": [
      "\r",
      "279it [09:10,  1.90s/it]"
     ]
    },
    {
     "name": "stdout",
     "output_type": "stream",
     "text": [
      "Downloading \"http://arxiv.org/abs/1606.07770\"\n"
     ]
    },
    {
     "name": "stderr",
     "output_type": "stream",
     "text": [
      "\r",
      "280it [09:12,  1.90s/it]"
     ]
    },
    {
     "name": "stdout",
     "output_type": "stream",
     "text": [
      "Downloading \"http://arxiv.org/abs/1707.06971\"\n"
     ]
    },
    {
     "name": "stderr",
     "output_type": "stream",
     "text": [
      "\r",
      "281it [09:14,  1.89s/it]"
     ]
    },
    {
     "name": "stdout",
     "output_type": "stream",
     "text": [
      "Downloading \"http://arxiv.org/abs/1707.06961\"\n"
     ]
    },
    {
     "name": "stderr",
     "output_type": "stream",
     "text": [
      "\r",
      "282it [09:16,  1.89s/it]"
     ]
    },
    {
     "name": "stdout",
     "output_type": "stream",
     "text": [
      "Downloading \"http://arxiv.org/abs/1707.06957\"\n"
     ]
    },
    {
     "name": "stderr",
     "output_type": "stream",
     "text": [
      "\r",
      "283it [09:18,  1.90s/it]"
     ]
    },
    {
     "name": "stdout",
     "output_type": "stream",
     "text": [
      "Downloading \"http://arxiv.org/abs/1707.06945\"\n"
     ]
    },
    {
     "name": "stderr",
     "output_type": "stream",
     "text": [
      "\r",
      "284it [09:20,  2.03s/it]"
     ]
    },
    {
     "name": "stdout",
     "output_type": "stream",
     "text": [
      "Downloading \"http://arxiv.org/abs/1707.06939\"\n"
     ]
    },
    {
     "name": "stderr",
     "output_type": "stream",
     "text": [
      "\r",
      "285it [09:22,  1.99s/it]"
     ]
    },
    {
     "name": "stdout",
     "output_type": "stream",
     "text": [
      "Downloading \"http://arxiv.org/abs/1707.06932\"\n"
     ]
    },
    {
     "name": "stderr",
     "output_type": "stream",
     "text": [
      "\r",
      "286it [09:24,  1.96s/it]"
     ]
    },
    {
     "name": "stdout",
     "output_type": "stream",
     "text": [
      "Downloading \"http://arxiv.org/abs/1707.06885\"\n"
     ]
    },
    {
     "name": "stderr",
     "output_type": "stream",
     "text": [
      "\r",
      "287it [09:26,  1.95s/it]"
     ]
    },
    {
     "name": "stdout",
     "output_type": "stream",
     "text": [
      "Downloading \"http://arxiv.org/abs/1707.06878\"\n"
     ]
    },
    {
     "name": "stderr",
     "output_type": "stream",
     "text": [
      "\r",
      "288it [09:28,  2.09s/it]"
     ]
    },
    {
     "name": "stdout",
     "output_type": "stream",
     "text": [
      "Downloading \"http://arxiv.org/abs/1707.06875\"\n"
     ]
    },
    {
     "name": "stderr",
     "output_type": "stream",
     "text": [
      "\r",
      "289it [09:30,  2.02s/it]"
     ]
    },
    {
     "name": "stdout",
     "output_type": "stream",
     "text": [
      "Downloading \"http://arxiv.org/abs/1707.06841\"\n"
     ]
    },
    {
     "name": "stderr",
     "output_type": "stream",
     "text": [
      "\r",
      "290it [09:32,  1.96s/it]"
     ]
    },
    {
     "name": "stdout",
     "output_type": "stream",
     "text": [
      "Downloading \"http://arxiv.org/abs/1707.06806\"\n"
     ]
    },
    {
     "name": "stderr",
     "output_type": "stream",
     "text": [
      "\r",
      "291it [09:34,  1.93s/it]"
     ]
    },
    {
     "name": "stdout",
     "output_type": "stream",
     "text": [
      "Downloading \"http://arxiv.org/abs/1707.06799\"\n"
     ]
    },
    {
     "name": "stderr",
     "output_type": "stream",
     "text": [
      "\r",
      "292it [09:36,  2.03s/it]"
     ]
    },
    {
     "name": "stdout",
     "output_type": "stream",
     "text": [
      "Downloading \"http://arxiv.org/abs/1707.06690\"\n"
     ]
    },
    {
     "name": "stderr",
     "output_type": "stream",
     "text": [
      "\r",
      "293it [09:38,  1.97s/it]"
     ]
    },
    {
     "name": "stdout",
     "output_type": "stream",
     "text": [
      "Downloading \"https://blog.malwarebytes.com/malwarebytes-news/2017/07/bye-bye-petya-decryptor-old-versions-released/\"\n"
     ]
    },
    {
     "name": "stderr",
     "output_type": "stream",
     "text": [
      "\r",
      "294it [09:38,  1.54s/it]"
     ]
    },
    {
     "name": "stdout",
     "output_type": "stream",
     "text": [
      "Downloading \"https://www.youtube.com/watch?v=wwsQropG2JA\"\n"
     ]
    },
    {
     "name": "stderr",
     "output_type": "stream",
     "text": [
      "\r",
      "295it [09:39,  1.33s/it]"
     ]
    },
    {
     "name": "stdout",
     "output_type": "stream",
     "text": [
      "Downloading \"http://cvpr2017.thecvf.com/program/main_conference#cvpr2017_awards\"\n"
     ]
    },
    {
     "name": "stderr",
     "output_type": "stream",
     "text": [
      "\r",
      "296it [09:45,  2.76s/it]"
     ]
    },
    {
     "name": "stdout",
     "output_type": "stream",
     "text": [
      "Downloading \"https://blog.threatstop.com/magnitude-ek-whats-shakin\"\n"
     ]
    },
    {
     "name": "stderr",
     "output_type": "stream",
     "text": [
      "\r",
      "297it [09:46,  2.25s/it]"
     ]
    },
    {
     "name": "stdout",
     "output_type": "stream",
     "text": [
      "Downloading \"https://blog.rootshell.be/2017/07/19/sans-isc-bots-searching-keys-config-files/\"\n"
     ]
    },
    {
     "name": "stderr",
     "output_type": "stream",
     "text": [
      "\r",
      "298it [09:48,  2.02s/it]"
     ]
    },
    {
     "name": "stdout",
     "output_type": "stream",
     "text": [
      "Downloading \"https://securityintelligence.com/trickbot-habla-espanol-trojan-widens-its-attack-scope-in-spain-brings-redirection-attacks-to-local-banks/\"\n"
     ]
    },
    {
     "name": "stderr",
     "output_type": "stream",
     "text": [
      "\r",
      "299it [09:49,  1.73s/it]"
     ]
    },
    {
     "name": "stdout",
     "output_type": "stream",
     "text": [
      "Downloading \"http://blog.trendmicro.com/trendlabs-security-intelligence/promediads-malvertising-sundown-pirate-exploit-kit/\"\n"
     ]
    },
    {
     "name": "stderr",
     "output_type": "stream",
     "text": [
      "\r",
      "300it [09:49,  1.40s/it]"
     ]
    },
    {
     "name": "stdout",
     "output_type": "stream",
     "text": [
      "Downloading \"https://www.welivesecurity.com/2017/07/20/citadel-developer-prison-sentence/\"\n"
     ]
    },
    {
     "name": "stderr",
     "output_type": "stream",
     "text": [
      "\r",
      "301it [09:51,  1.31s/it]"
     ]
    },
    {
     "name": "stdout",
     "output_type": "stream",
     "text": [
      "Downloading \"http://resources.infosecinstitute.com/vault-7-data-leak-analyzing-cia-files-released-since-march/\"\n"
     ]
    },
    {
     "name": "stderr",
     "output_type": "stream",
     "text": [
      "\r",
      "302it [09:51,  1.06s/it]"
     ]
    },
    {
     "name": "stdout",
     "output_type": "stream",
     "text": [
      "Downloading \"https://krebsonsecurity.com/2017/07/after-alphabays-demise-customers-flocked-to-dark-market-run-by-dutch-police/\"\n"
     ]
    },
    {
     "name": "stderr",
     "output_type": "stream",
     "text": [
      "\r",
      "303it [09:52,  1.07s/it]"
     ]
    },
    {
     "name": "stdout",
     "output_type": "stream",
     "text": [
      "Downloading \"https://blog.malwarebytes.com/cybercrime/2017/07/terror-ek-actor-experiments-with-url-shortener-fraud/\"\n"
     ]
    },
    {
     "name": "stderr",
     "output_type": "stream",
     "text": [
      "\r",
      "304it [09:53,  1.12it/s]"
     ]
    },
    {
     "name": "stdout",
     "output_type": "stream",
     "text": [
      "Downloading \"https://krebsonsecurity.com/2017/07/exclusive-dutch-cops-on-alphabay-refugees/\"\n"
     ]
    },
    {
     "name": "stderr",
     "output_type": "stream",
     "text": [
      "\r",
      "305it [09:54,  1.03s/it]"
     ]
    },
    {
     "name": "stdout",
     "output_type": "stream",
     "text": [
      "Downloading \"https://www.securityartwork.es/2017/07/21/linux-bew-backdoor-minado-bitcoin/\"\n"
     ]
    },
    {
     "name": "stderr",
     "output_type": "stream",
     "text": [
      "\r",
      "306it [09:57,  1.77s/it]"
     ]
    },
    {
     "name": "stdout",
     "output_type": "stream",
     "text": [
      "Downloading \"https://blog.malwarebytes.com/malwarebytes-news/2017/07/bye-bye-petya-decryptor-old-versions-released/\"\n"
     ]
    },
    {
     "name": "stderr",
     "output_type": "stream",
     "text": [
      "\r",
      "307it [09:58,  1.39s/it]"
     ]
    },
    {
     "name": "stdout",
     "output_type": "stream",
     "text": [
      "Downloading \"https://researchcenter.paloaltonetworks.com/2017/07/unit42-tick-group-continues-attacks/\"\n"
     ]
    },
    {
     "name": "stderr",
     "output_type": "stream",
     "text": [
      "\r",
      "308it [10:00,  1.46s/it]"
     ]
    },
    {
     "name": "stdout",
     "output_type": "stream",
     "text": [
      "Downloading \"https://www.kaggle.com/general/36940\"\n"
     ]
    },
    {
     "name": "stderr",
     "output_type": "stream",
     "text": [
      "\r",
      "309it [10:00,  1.15s/it]"
     ]
    },
    {
     "name": "stdout",
     "output_type": "stream",
     "text": [
      "Downloading \"https://speakerdeck.com/tmylk/pycon-russia-2017-tiematichieskoie-modielirovaniie-dlia-liudiei\"\n"
     ]
    },
    {
     "name": "stderr",
     "output_type": "stream",
     "text": [
      "\r",
      "310it [10:01,  1.03it/s]"
     ]
    },
    {
     "name": "stdout",
     "output_type": "stream",
     "text": [
      "Downloading \"https://twitter.com/i/web/status/889625106330398720\"\n"
     ]
    },
    {
     "name": "stderr",
     "output_type": "stream",
     "text": [
      "\r",
      "311it [10:01,  1.09it/s]"
     ]
    },
    {
     "name": "stdout",
     "output_type": "stream",
     "text": [
      "Downloading \"https://twitter.com/i/web/status/889603016915013632\"\n"
     ]
    },
    {
     "name": "stderr",
     "output_type": "stream",
     "text": [
      "\r",
      "312it [10:02,  1.14it/s]"
     ]
    },
    {
     "name": "stdout",
     "output_type": "stream",
     "text": [
      "Downloading \"https://twitter.com/i/web/status/889526857875558400\"\n"
     ]
    },
    {
     "name": "stderr",
     "output_type": "stream",
     "text": [
      "\r",
      "313it [10:03,  1.18it/s]"
     ]
    },
    {
     "name": "stdout",
     "output_type": "stream",
     "text": [
      "Downloading \"https://twitter.com/i/web/status/889519707191222274\"\n"
     ]
    },
    {
     "name": "stderr",
     "output_type": "stream",
     "text": [
      "\r",
      "314it [10:04,  1.21it/s]"
     ]
    },
    {
     "name": "stdout",
     "output_type": "stream",
     "text": [
      "Downloading \"https://twitter.com/i/web/status/889513510706659328\"\n"
     ]
    },
    {
     "name": "stderr",
     "output_type": "stream",
     "text": [
      "\r",
      "315it [10:04,  1.23it/s]"
     ]
    },
    {
     "name": "stdout",
     "output_type": "stream",
     "text": [
      "Downloading \"https://twitter.com/i/web/status/889470286952898560\"\n"
     ]
    },
    {
     "name": "stderr",
     "output_type": "stream",
     "text": [
      "\r",
      "316it [10:05,  1.20it/s]"
     ]
    },
    {
     "name": "stdout",
     "output_type": "stream",
     "text": [
      "Downloading \"https://twitter.com/i/web/status/889334840331427840\"\n"
     ]
    },
    {
     "name": "stderr",
     "output_type": "stream",
     "text": [
      "\r",
      "317it [10:06,  1.23it/s]"
     ]
    },
    {
     "name": "stdout",
     "output_type": "stream",
     "text": [
      "Downloading \"https://cookingwithfrank.wordpress.com/2012/02/25/test/\"\n"
     ]
    },
    {
     "name": "stderr",
     "output_type": "stream",
     "text": [
      "\r",
      "318it [10:06,  1.44it/s]"
     ]
    },
    {
     "name": "stdout",
     "output_type": "stream",
     "text": [
      "Downloading \"http://tuesday.csail.mit.edu:4242/\"\n"
     ]
    },
    {
     "name": "stderr",
     "output_type": "stream",
     "text": [
      "\r",
      "319it [10:07,  1.64it/s]"
     ]
    },
    {
     "name": "stdout",
     "output_type": "stream",
     "text": [
      "Downloading \"https://news.mit.edu/2017/artificial-intelligence-suggests-recipes-based-on-food-photos-0720\"\n"
     ]
    },
    {
     "name": "stderr",
     "output_type": "stream",
     "text": [
      "\r",
      "320it [10:10,  1.37s/it]"
     ]
    },
    {
     "name": "stdout",
     "output_type": "stream",
     "text": [
      "Downloading \"http://www.firestormforum.org\"\n"
     ]
    },
    {
     "name": "stderr",
     "output_type": "stream",
     "text": [
      "\r",
      "321it [10:11,  1.21s/it]"
     ]
    },
    {
     "name": "stdout",
     "output_type": "stream",
     "text": [
      "Downloading \"https://www.cs.uic.edu/~s/musings/tls13-enterprises/\"\n"
     ]
    },
    {
     "name": "stderr",
     "output_type": "stream",
     "text": [
      "\r",
      "322it [10:11,  1.01it/s]"
     ]
    },
    {
     "name": "stdout",
     "output_type": "stream",
     "text": [
      "Downloading \"https://github.com/dirtbags/pcapdb\"\n"
     ]
    },
    {
     "name": "stderr",
     "output_type": "stream",
     "text": [
      "\r",
      "323it [10:12,  1.08it/s]"
     ]
    },
    {
     "name": "stdout",
     "output_type": "stream",
     "text": [
      "Downloading \"https://blog.malwarebytes.com/malwarebytes-news/2017/07/bye-bye-petya-decryptor-old-versions-released/\"\n"
     ]
    },
    {
     "name": "stderr",
     "output_type": "stream",
     "text": [
      "\r",
      "324it [10:13,  1.24it/s]"
     ]
    },
    {
     "name": "stdout",
     "output_type": "stream",
     "text": [
      "Downloading \"https://github.com/google/pik\"\n"
     ]
    },
    {
     "name": "stderr",
     "output_type": "stream",
     "text": [
      "\r",
      "325it [10:14,  1.18it/s]"
     ]
    },
    {
     "name": "stdout",
     "output_type": "stream",
     "text": [
      "Downloading \"https://www.youtube.com/watch?v=lk2-bgwA0Ro\"\n"
     ]
    },
    {
     "name": "stderr",
     "output_type": "stream",
     "text": [
      "\r",
      "326it [10:15,  1.14it/s]"
     ]
    },
    {
     "name": "stdout",
     "output_type": "stream",
     "text": [
      "Downloading \"https://github.com/G4lB1t/SmoothCriminal\"\n"
     ]
    },
    {
     "name": "stderr",
     "output_type": "stream",
     "text": [
      "\r",
      "327it [10:15,  1.31it/s]"
     ]
    },
    {
     "name": "stdout",
     "output_type": "stream",
     "text": [
      "Downloading \"https://twitter.com/botherder/status/888728181515190273\"\n"
     ]
    },
    {
     "name": "stderr",
     "output_type": "stream",
     "text": [
      "\r",
      "328it [10:17,  1.02it/s]"
     ]
    },
    {
     "name": "stdout",
     "output_type": "stream",
     "text": [
      "Downloading \"https://twitter.com/i/web/status/889115890595266561\"\n"
     ]
    },
    {
     "name": "stderr",
     "output_type": "stream",
     "text": [
      "\r",
      "329it [10:18,  1.07s/it]"
     ]
    },
    {
     "name": "stdout",
     "output_type": "stream",
     "text": [
      "Downloading \"http://paper.seebug.org/357\"\n"
     ]
    },
    {
     "name": "stderr",
     "output_type": "stream",
     "text": [
      "\r",
      "330it [10:37,  6.44s/it]"
     ]
    },
    {
     "name": "stdout",
     "output_type": "stream",
     "text": [
      "Downloading \"http://executemalware.com/?page_id=320\"\n"
     ]
    },
    {
     "name": "stderr",
     "output_type": "stream",
     "text": [
      "\r",
      "331it [10:38,  4.79s/it]"
     ]
    },
    {
     "name": "stdout",
     "output_type": "stream",
     "text": [
      "Downloading \"https://cxsecurity.com\"\n"
     ]
    },
    {
     "name": "stderr",
     "output_type": "stream",
     "text": [
      "\r",
      "332it [10:41,  4.36s/it]"
     ]
    },
    {
     "name": "stdout",
     "output_type": "stream",
     "text": [
      "Downloading \"https://researchcenter.paloaltonetworks.com/2017/07/unit42-malspam-targeting-brazil-continues-evolve/\"\n"
     ]
    },
    {
     "name": "stderr",
     "output_type": "stream",
     "text": [
      "\r",
      "333it [10:43,  3.48s/it]"
     ]
    },
    {
     "name": "stdout",
     "output_type": "stream",
     "text": [
      "Downloading \"https://virustotal.com/en/file/d81664c87bf80982ca01b589b1ada456e02baa48a54d1ea521cef7c07f5f5165/analysis/\"\n"
     ]
    },
    {
     "name": "stderr",
     "output_type": "stream",
     "text": [
      "\r",
      "334it [10:43,  2.62s/it]"
     ]
    },
    {
     "name": "stdout",
     "output_type": "stream",
     "text": [
      "You must `download()` an article first!\n",
      "Downloading \"https://virustotal.com/en/file/e8d08a96c30640094bbd8c674de17544da18594343a506f28f242f55fe0a62bb/analysis/\"\n"
     ]
    },
    {
     "name": "stderr",
     "output_type": "stream",
     "text": [
      "\r",
      "335it [10:44,  2.17s/it]"
     ]
    },
    {
     "name": "stdout",
     "output_type": "stream",
     "text": [
      "Downloading \"https://vimeo.com/225233932\"\n"
     ]
    },
    {
     "name": "stderr",
     "output_type": "stream",
     "text": [
      "\r",
      "336it [10:45,  1.63s/it]"
     ]
    },
    {
     "name": "stdout",
     "output_type": "stream",
     "text": [
      "Downloading \"https://thinkgrowth.org/why-good-people-leave-large-tech-companies-af2b6fea4ee\"\n"
     ]
    },
    {
     "name": "stderr",
     "output_type": "stream",
     "text": [
      "\r",
      "337it [10:46,  1.58s/it]"
     ]
    },
    {
     "name": "stdout",
     "output_type": "stream",
     "text": [
      "Downloading \"https://architecht.io/skymind-ceo-on-the-realities-of-selling-ai-to-enterprises-and-operating-in-asia-f021eefbb35\"\n"
     ]
    },
    {
     "name": "stderr",
     "output_type": "stream",
     "text": [
      "\r",
      "338it [10:48,  1.59s/it]"
     ]
    },
    {
     "name": "stdout",
     "output_type": "stream",
     "text": [
      "Downloading \"https://twitter.com/i/web/status/889530242934505472\"\n"
     ]
    },
    {
     "name": "stderr",
     "output_type": "stream",
     "text": [
      "\r",
      "339it [10:49,  1.47s/it]"
     ]
    },
    {
     "name": "stdout",
     "output_type": "stream",
     "text": [
      "Downloading \"https://twitter.com/i/web/status/889519585891819524\"\n"
     ]
    },
    {
     "name": "stderr",
     "output_type": "stream",
     "text": [
      "\r",
      "340it [10:50,  1.33s/it]"
     ]
    },
    {
     "name": "stdout",
     "output_type": "stream",
     "text": [
      "Downloading \"https://twitter.com/acton/status/869573901428432901\"\n"
     ]
    },
    {
     "name": "stderr",
     "output_type": "stream",
     "text": [
      "\r",
      "341it [10:51,  1.19s/it]"
     ]
    },
    {
     "name": "stdout",
     "output_type": "stream",
     "text": [
      "Downloading \"https://dev.to/0x13a/building-a-php-command-bus\"\n"
     ]
    },
    {
     "name": "stderr",
     "output_type": "stream",
     "text": [
      "343it [10:51,  1.39it/s]"
     ]
    },
    {
     "name": "stdout",
     "output_type": "stream",
     "text": [
      "Downloading \"https://dev.to/ana/never-underestimate-the-power-of-best-practice\"\n",
      "Downloading \"https://twitter.com/i/web/status/889257205572268032\"\n"
     ]
    },
    {
     "name": "stderr",
     "output_type": "stream",
     "text": [
      "\r",
      "344it [10:52,  1.36it/s]"
     ]
    },
    {
     "name": "stdout",
     "output_type": "stream",
     "text": [
      "Downloading \"https://dev.to/aunyks/the-importance-of-open-sourcing-innovation\"\n"
     ]
    },
    {
     "name": "stderr",
     "output_type": "stream",
     "text": [
      "\r",
      "345it [10:53,  1.47it/s]"
     ]
    },
    {
     "name": "stdout",
     "output_type": "stream",
     "text": [
      "Downloading \"https://dev.to/jlhcoder/bad-habits-we-learn-in-school\"\n"
     ]
    },
    {
     "name": "stderr",
     "output_type": "stream",
     "text": [
      "\r",
      "346it [10:53,  1.42it/s]"
     ]
    },
    {
     "name": "stdout",
     "output_type": "stream",
     "text": [
      "Downloading \"https://dev.to/pbeekums/software-systems-will-fail\"\n"
     ]
    },
    {
     "name": "stderr",
     "output_type": "stream",
     "text": [
      "\r",
      "347it [10:54,  1.53it/s]"
     ]
    },
    {
     "name": "stdout",
     "output_type": "stream",
     "text": [
      "Downloading \"https://dev.to/aunyks/i-chose-typescript-for-the-nostalgia\"\n"
     ]
    },
    {
     "name": "stderr",
     "output_type": "stream",
     "text": [
      "\r",
      "348it [10:55,  1.50it/s]"
     ]
    },
    {
     "name": "stdout",
     "output_type": "stream",
     "text": [
      "Downloading \"https://dev.to/_arunsasi/object-oriented-tricks-3-death-by-arguments\"\n"
     ]
    },
    {
     "name": "stderr",
     "output_type": "stream",
     "text": [
      "\r",
      "349it [10:55,  1.56it/s]"
     ]
    },
    {
     "name": "stdout",
     "output_type": "stream",
     "text": [
      "Downloading \"https://dev.to/sparkpost/running-your-first-technical-workshop-the-i-have-no-idea-what-im-doing-edition\"\n"
     ]
    },
    {
     "name": "stderr",
     "output_type": "stream",
     "text": [
      "\r",
      "350it [10:55,  1.96it/s]"
     ]
    },
    {
     "name": "stdout",
     "output_type": "stream",
     "text": [
      "Downloading \"https://dev.to/samueleresca/microservices-architecture-benefits-and-business-value\"\n"
     ]
    },
    {
     "name": "stderr",
     "output_type": "stream",
     "text": [
      "352it [10:56,  2.33it/s]"
     ]
    },
    {
     "name": "stdout",
     "output_type": "stream",
     "text": [
      "Downloading \"https://dev.to/bob/how-do-you-know-your-code-is-bad\"\n",
      "Downloading \"https://dev.to/aditichaudhry92/what-is-ai\"\n"
     ]
    },
    {
     "name": "stderr",
     "output_type": "stream",
     "text": [
      "\r",
      "353it [10:56,  2.84it/s]"
     ]
    },
    {
     "name": "stdout",
     "output_type": "stream",
     "text": [
      "Downloading \"https://dev.to/dmerejkowsky/lessons-learned-from-a-failed-pull-request\"\n"
     ]
    },
    {
     "name": "stderr",
     "output_type": "stream",
     "text": [
      "\r",
      "354it [10:57,  3.01it/s]"
     ]
    },
    {
     "name": "stdout",
     "output_type": "stream",
     "text": [
      "Downloading \"https://dev.to/dimitarnestorov/did-you-know-javascript-has-labels-since-es3\"\n"
     ]
    },
    {
     "name": "stderr",
     "output_type": "stream",
     "text": [
      "\r",
      "355it [10:57,  3.39it/s]"
     ]
    },
    {
     "name": "stdout",
     "output_type": "stream",
     "text": [
      "Downloading \"https://dev.to/samjarman/what-should-be-in-a-coders-toolbox\"\n"
     ]
    },
    {
     "name": "stderr",
     "output_type": "stream",
     "text": [
      "\r",
      "356it [10:57,  3.67it/s]"
     ]
    },
    {
     "name": "stdout",
     "output_type": "stream",
     "text": [
      "Downloading \"https://dev.to/dceddia/learning-react-start-small\"\n"
     ]
    },
    {
     "name": "stderr",
     "output_type": "stream",
     "text": [
      "\r",
      "357it [10:57,  3.75it/s]"
     ]
    },
    {
     "name": "stdout",
     "output_type": "stream",
     "text": [
      "Downloading \"https://dev.to/bitario/starting-a-business-as-a-developer-in-2017\"\n"
     ]
    },
    {
     "name": "stderr",
     "output_type": "stream",
     "text": [
      "\r",
      "358it [10:58,  4.03it/s]"
     ]
    },
    {
     "name": "stdout",
     "output_type": "stream",
     "text": [
      "Downloading \"https://dev.to/klnusbaum/why-im-so-frustrated-withgo\"\n"
     ]
    },
    {
     "name": "stderr",
     "output_type": "stream",
     "text": [
      "\r",
      "359it [10:58,  3.33it/s]"
     ]
    },
    {
     "name": "stdout",
     "output_type": "stream",
     "text": [
      "Downloading \"https://dev.to/anotherdevblog/hacking-in-everyday-life-fun-with-the-sprint-api\"\n"
     ]
    },
    {
     "name": "stderr",
     "output_type": "stream",
     "text": [
      "\r",
      "360it [10:58,  3.20it/s]"
     ]
    },
    {
     "name": "stdout",
     "output_type": "stream",
     "text": [
      "Downloading \"https://dev.to/thepracticaldev/the-7-most-popular-dev-posts-from-the-past-week-7398\"\n"
     ]
    },
    {
     "name": "stderr",
     "output_type": "stream",
     "text": [
      "\r",
      "361it [10:59,  3.50it/s]"
     ]
    },
    {
     "name": "stdout",
     "output_type": "stream",
     "text": [
      "Downloading \"https://dev.to/tamrrat/blogging-driven-learning\"\n"
     ]
    },
    {
     "name": "stderr",
     "output_type": "stream",
     "text": [
      "\r",
      "362it [10:59,  2.62it/s]"
     ]
    },
    {
     "name": "stdout",
     "output_type": "stream",
     "text": [
      "Downloading \"https://dev.to/loderunner/go-i-love-you-but-youre-bringing-me-down\"\n"
     ]
    },
    {
     "name": "stderr",
     "output_type": "stream",
     "text": [
      "\r",
      "363it [11:00,  2.41it/s]"
     ]
    },
    {
     "name": "stdout",
     "output_type": "stream",
     "text": [
      "Downloading \"https://dev.to/clarifai/not-kotdog-using-computer-vision-to-detect-hot-dogs-in-kotlin\"\n"
     ]
    },
    {
     "name": "stderr",
     "output_type": "stream",
     "text": [
      "\r",
      "364it [11:01,  1.57it/s]"
     ]
    },
    {
     "name": "stdout",
     "output_type": "stream",
     "text": [
      "Downloading \"https://dev.to/neilmadden/7-best-practices-for-json-web-tokens\"\n"
     ]
    },
    {
     "name": "stderr",
     "output_type": "stream",
     "text": [
      "\r",
      "365it [11:01,  1.96it/s]"
     ]
    },
    {
     "name": "stdout",
     "output_type": "stream",
     "text": [
      "Downloading \"https://dev.to/vaidehijoshi/counting-linearly-with-counting-sort\"\n"
     ]
    },
    {
     "name": "stderr",
     "output_type": "stream",
     "text": [
      "\r",
      "366it [11:02,  1.89it/s]"
     ]
    },
    {
     "name": "stdout",
     "output_type": "stream",
     "text": [
      "Downloading \"https://dev.to/pencillr/jenkins-pipelines-and-their-dirty-secrets-1\"\n"
     ]
    },
    {
     "name": "stderr",
     "output_type": "stream",
     "text": [
      "\r",
      "367it [11:02,  2.14it/s]"
     ]
    },
    {
     "name": "stdout",
     "output_type": "stream",
     "text": [
      "Downloading \"https://dev.to/hrishio/how-to-use-reactjs-with-ruby-on-rails-5\"\n"
     ]
    },
    {
     "name": "stderr",
     "output_type": "stream",
     "text": [
      "\r",
      "368it [11:02,  2.44it/s]"
     ]
    },
    {
     "name": "stdout",
     "output_type": "stream",
     "text": [
      "Downloading \"https://dev.to/samueleresca/inversion-of-control-and-dependency-injection-in-typescript\"\n"
     ]
    },
    {
     "name": "stderr",
     "output_type": "stream",
     "text": [
      "370it [11:04,  1.82it/s]"
     ]
    },
    {
     "name": "stdout",
     "output_type": "stream",
     "text": [
      "Downloading \"https://dev.to/mansimarkaur/the-what-and-how-of-web-push\"\n",
      "Downloading \"https://dev.to/jtonzing/empathic-development\"\n"
     ]
    },
    {
     "name": "stderr",
     "output_type": "stream",
     "text": [
      "372it [11:04,  2.81it/s]"
     ]
    },
    {
     "name": "stdout",
     "output_type": "stream",
     "text": [
      "Downloading \"https://dev.to/connerh92/thoughts--experiences-from-my-first-2-months-as-a-developer\"\n",
      "Downloading \"https://dev.to/yaphi1/what-are-your-biggest-struggles-in-learning-javascript\"\n"
     ]
    },
    {
     "name": "stderr",
     "output_type": "stream",
     "text": [
      "\r",
      "373it [11:04,  2.82it/s]"
     ]
    },
    {
     "name": "stdout",
     "output_type": "stream",
     "text": [
      "Downloading \"https://dev.to/grantwinney/what-is-an-api\"\n"
     ]
    },
    {
     "name": "stderr",
     "output_type": "stream",
     "text": [
      "\r",
      "374it [11:05,  3.05it/s]"
     ]
    },
    {
     "name": "stdout",
     "output_type": "stream",
     "text": [
      "Downloading \"https://dev.to/dmerejkowsky/how-i-use-git\"\n"
     ]
    },
    {
     "name": "stderr",
     "output_type": "stream",
     "text": [
      "\r",
      "375it [11:05,  2.35it/s]"
     ]
    },
    {
     "name": "stdout",
     "output_type": "stream",
     "text": [
      "Downloading \"https://researchcenter.paloaltonetworks.com/2017/07/unit42-malspam-targeting-brazil-continues-evolve/\"\n"
     ]
    },
    {
     "name": "stderr",
     "output_type": "stream",
     "text": [
      "\r",
      "376it [11:06,  2.37it/s]"
     ]
    },
    {
     "name": "stdout",
     "output_type": "stream",
     "text": [
      "Downloading \"https://www.intego.com/mac-security-blog/wp-content/uploads/2016/10/apple-software-security-updates.jpg\"\n"
     ]
    },
    {
     "name": "stderr",
     "output_type": "stream",
     "text": [
      "\r",
      "377it [11:07,  1.44it/s]"
     ]
    },
    {
     "name": "stdout",
     "output_type": "stream",
     "text": [
      "Downloading \"https://theobsidiantower.com/2017/07/18/03853cdb10695731c8bb15518c0ceb58a5fe428d.html\"\n"
     ]
    },
    {
     "name": "stderr",
     "output_type": "stream",
     "text": [
      "\r",
      "378it [11:09,  1.03it/s]"
     ]
    },
    {
     "name": "stdout",
     "output_type": "stream",
     "text": [
      "Downloading \"https://isc.sans.edu/diary/rss/22630\"\n"
     ]
    },
    {
     "name": "stderr",
     "output_type": "stream",
     "text": [
      "\r",
      "379it [11:09,  1.10it/s]"
     ]
    },
    {
     "name": "stdout",
     "output_type": "stream",
     "text": [
      "Downloading \"https://twitter.com/i/web/status/889560596252942337\"\n"
     ]
    },
    {
     "name": "stderr",
     "output_type": "stream",
     "text": [
      "\r",
      "380it [11:10,  1.16it/s]"
     ]
    },
    {
     "name": "stdout",
     "output_type": "stream",
     "text": [
      "Downloading \"https://blog.torproject.org/blog/we-will-pay-you-to-hack-tor-bug-bounty\"\n"
     ]
    },
    {
     "name": "stderr",
     "output_type": "stream",
     "text": [
      "\r",
      "381it [11:11,  1.09it/s]"
     ]
    },
    {
     "name": "stdout",
     "output_type": "stream",
     "text": [
      "Downloading \"https://www.bleepingcomputer.com/news/security/-bad-taste-vulnerability-affects-linux-systems-via-malicious-windows-msi-files/\"\n"
     ]
    },
    {
     "name": "stderr",
     "output_type": "stream",
     "text": [
      "\r",
      "382it [11:12,  1.05it/s]"
     ]
    },
    {
     "name": "stdout",
     "output_type": "stream",
     "text": [
      "Downloading \"https://twitter.com/i/web/status/889533681165094912\"\n"
     ]
    },
    {
     "name": "stderr",
     "output_type": "stream",
     "text": [
      "\r",
      "383it [11:13,  1.12it/s]"
     ]
    },
    {
     "name": "stdout",
     "output_type": "stream",
     "text": [
      "Downloading \"https://nakedsecurity.sophos.com/2017/07/19/windows-security-hole-the-orpheus-lyre-attack-explained/\"\n"
     ]
    },
    {
     "name": "stderr",
     "output_type": "stream",
     "text": [
      "\r",
      "384it [11:14,  1.29it/s]"
     ]
    },
    {
     "name": "stdout",
     "output_type": "stream",
     "text": [
      "Downloading \"https://blog.avast.com/welcome-piriform-to-avast\"\n"
     ]
    },
    {
     "name": "stderr",
     "output_type": "stream",
     "text": [
      "\r",
      "385it [11:15,  1.12it/s]"
     ]
    },
    {
     "name": "stdout",
     "output_type": "stream",
     "text": [
      "Downloading \"https://securityintelligence.com/trickbot-habla-espanol-trojan-widens-its-attack-scope-in-spain-brings-redirection-attacks-to-local-banks/\"\n"
     ]
    },
    {
     "name": "stderr",
     "output_type": "stream",
     "text": [
      "\r",
      "386it [11:16,  1.06it/s]"
     ]
    },
    {
     "name": "stdout",
     "output_type": "stream",
     "text": [
      "Downloading \"https://www.virusbulletin.com/blog/2017/07/save-dates-vb2018-take-place-3-5-october-2018/\"\n"
     ]
    },
    {
     "name": "stderr",
     "output_type": "stream",
     "text": [
      "\r",
      "387it [11:26,  3.58s/it]"
     ]
    },
    {
     "name": "stdout",
     "output_type": "stream",
     "text": [
      "Downloading \"https://www.riskiq.com/infographic/evil-internet-minute/\"\n"
     ]
    },
    {
     "name": "stderr",
     "output_type": "stream",
     "text": [
      "\r",
      "388it [11:27,  3.08s/it]"
     ]
    },
    {
     "name": "stdout",
     "output_type": "stream",
     "text": [
      "Downloading \"https://www.troyhunt.com/on-the-perceived-value-ev-certs-cas-phishing-lets-encrypt/\"\n"
     ]
    },
    {
     "name": "stderr",
     "output_type": "stream",
     "text": [
      "\r",
      "389it [11:29,  2.52s/it]"
     ]
    },
    {
     "name": "stdout",
     "output_type": "stream",
     "text": [
      "Downloading \"https://twitter.com/i/web/status/889471357561573376\"\n"
     ]
    },
    {
     "name": "stderr",
     "output_type": "stream",
     "text": [
      "\r",
      "390it [11:29,  2.00s/it]"
     ]
    },
    {
     "name": "stdout",
     "output_type": "stream",
     "text": [
      "Downloading \"https://www.welivesecurity.com/2017/07/21/eset-innovation-it-security/\"\n"
     ]
    },
    {
     "name": "stderr",
     "output_type": "stream",
     "text": [
      "\r",
      "391it [11:31,  1.74s/it]"
     ]
    },
    {
     "name": "stdout",
     "output_type": "stream",
     "text": [
      "Downloading \"https://www.cs.uic.edu/~s/musings/tls13-enterprises/\"\n"
     ]
    },
    {
     "name": "stderr",
     "output_type": "stream",
     "text": [
      "\r",
      "392it [11:32,  1.67s/it]"
     ]
    },
    {
     "name": "stdout",
     "output_type": "stream",
     "text": [
      "Downloading \"https://twitter.com/i/web/status/889445399416713218\"\n"
     ]
    },
    {
     "name": "stderr",
     "output_type": "stream",
     "text": [
      "\r",
      "393it [11:33,  1.39s/it]"
     ]
    },
    {
     "name": "stdout",
     "output_type": "stream",
     "text": [
      "Downloading \"https://www.virusbulletin.com/blog/2017/07/dmarc-imperfect-solution-can-make-big-difference/\"\n"
     ]
    },
    {
     "name": "stderr",
     "output_type": "stream",
     "text": [
      "\r",
      "394it [11:42,  3.75s/it]"
     ]
    },
    {
     "name": "stdout",
     "output_type": "stream",
     "text": [
      "Downloading \"https://www.openrightsgroup.org/press/releases/2017/web-users-privacy-at-risk\"\n"
     ]
    },
    {
     "name": "stderr",
     "output_type": "stream",
     "text": [
      "\r",
      "395it [11:43,  3.00s/it]"
     ]
    },
    {
     "name": "stdout",
     "output_type": "stream",
     "text": [
      "Downloading \"https://scotthelme.co.uk/lets-encrypt-with-dns-round-robin/\"\n"
     ]
    },
    {
     "name": "stderr",
     "output_type": "stream",
     "text": [
      "\r",
      "396it [11:44,  2.21s/it]"
     ]
    },
    {
     "name": "stdout",
     "output_type": "stream",
     "text": [
      "Downloading \"https://twitter.com/i/web/status/889411390955499520\"\n"
     ]
    },
    {
     "name": "stderr",
     "output_type": "stream",
     "text": [
      "\r",
      "397it [11:44,  1.76s/it]"
     ]
    },
    {
     "name": "stdout",
     "output_type": "stream",
     "text": [
      "Downloading \"https://www.hackerone.com/blog/Q-and-A-With-Malware-Tech-Blog\"\n"
     ]
    },
    {
     "name": "stderr",
     "output_type": "stream",
     "text": [
      "\r",
      "398it [11:45,  1.38s/it]"
     ]
    },
    {
     "name": "stdout",
     "output_type": "stream",
     "text": [
      "Downloading \"https://www.virusbulletin.com/blog/2017/07/advanced-and-inept-persistent-threats-be-discussed-vb2017/\"\n"
     ]
    },
    {
     "name": "stderr",
     "output_type": "stream",
     "text": [
      "\r",
      "399it [11:55,  4.13s/it]"
     ]
    },
    {
     "name": "stdout",
     "output_type": "stream",
     "text": [
      "Downloading \"http://www.nao-sec.org/2017/07/seamless-campaign-dropping-ramnit.html\"\n"
     ]
    },
    {
     "name": "stderr",
     "output_type": "stream",
     "text": [
      "\r",
      "400it [11:56,  3.03s/it]"
     ]
    },
    {
     "name": "stdout",
     "output_type": "stream",
     "text": [
      "Downloading \"https://twitter.com/i/web/status/889378483415244800\"\n"
     ]
    },
    {
     "name": "stderr",
     "output_type": "stream",
     "text": [
      "\r",
      "401it [11:57,  2.36s/it]"
     ]
    },
    {
     "name": "stdout",
     "output_type": "stream",
     "text": [
      "Downloading \"https://twitter.com/i/web/status/889369921821474816\"\n"
     ]
    },
    {
     "name": "stderr",
     "output_type": "stream",
     "text": [
      "\r",
      "402it [11:57,  1.87s/it]"
     ]
    },
    {
     "name": "stdout",
     "output_type": "stream",
     "text": [
      "Downloading \"https://twitter.com/i/web/status/889361549403594752\"\n"
     ]
    },
    {
     "name": "stderr",
     "output_type": "stream",
     "text": [
      "\r",
      "403it [11:58,  1.52s/it]"
     ]
    },
    {
     "name": "stdout",
     "output_type": "stream",
     "text": [
      "Downloading \"http://www.malware-traffic-analysis.net/2017/07/21/index.html\"\n"
     ]
    },
    {
     "name": "stderr",
     "output_type": "stream",
     "text": [
      "\r",
      "404it [11:59,  1.19s/it]"
     ]
    },
    {
     "name": "stdout",
     "output_type": "stream",
     "text": [
      "Downloading \"https://www.getrevue.co/profile/wildml/archive/66036\"\n"
     ]
    },
    {
     "name": "stderr",
     "output_type": "stream",
     "text": [
      "\r",
      "405it [12:00,  1.21s/it]"
     ]
    },
    {
     "name": "stdout",
     "output_type": "stream",
     "text": [
      "Downloading \"https://sumall.com/performancetweet\"\n"
     ]
    },
    {
     "name": "stderr",
     "output_type": "stream",
     "text": [
      "\r",
      "406it [12:00,  1.02it/s]"
     ]
    },
    {
     "name": "stdout",
     "output_type": "stream",
     "text": [
      "Downloading \"https://twitter.com/schlay39/status/889501241130332164\"\n"
     ]
    },
    {
     "name": "stderr",
     "output_type": "stream",
     "text": [
      "\r",
      "407it [12:01,  1.00it/s]"
     ]
    },
    {
     "name": "stdout",
     "output_type": "stream",
     "text": [
      "Downloading \"https://twitter.com/alexhutton/status/889473260794130434\"\n"
     ]
    },
    {
     "name": "stderr",
     "output_type": "stream",
     "text": [
      "\r",
      "408it [12:02,  1.07it/s]"
     ]
    },
    {
     "name": "stdout",
     "output_type": "stream",
     "text": [
      "Downloading \"https://twitter.com/stephiegal/status/888986525098180608\"\n"
     ]
    },
    {
     "name": "stderr",
     "output_type": "stream",
     "text": [
      "\r",
      "409it [12:03,  1.09it/s]"
     ]
    },
    {
     "name": "stdout",
     "output_type": "stream",
     "text": [
      "Downloading \"https://youtu.be/rnKTdvknO3g\"\n"
     ]
    },
    {
     "name": "stderr",
     "output_type": "stream",
     "text": [
      "\r",
      "410it [12:04,  1.01it/s]"
     ]
    },
    {
     "name": "stdout",
     "output_type": "stream",
     "text": [
      "Downloading \"https://www.virustotal.com/file/e4bd9d95a30e9cd1fc5347af3e7cb1fa26da177c6c01ef05f56c4ca0b63cfb63/analysis/1500959415/\"\n"
     ]
    },
    {
     "name": "stderr",
     "output_type": "stream",
     "text": [
      "\r",
      "411it [12:05,  1.07s/it]"
     ]
    },
    {
     "name": "stdout",
     "output_type": "stream",
     "text": [
      "Downloading \"https://www.virustotal.com/file/db35a8e37470914be7068504ba7db274701e64d4be22ac7a48448a45a0954225/analysis/1500814814/\"\n"
     ]
    },
    {
     "name": "stderr",
     "output_type": "stream",
     "text": [
      "\r",
      "412it [12:06,  1.03s/it]"
     ]
    },
    {
     "name": "stdout",
     "output_type": "stream",
     "text": [
      "Downloading \"https://twitter.com/i/web/status/888968292282507264\"\n"
     ]
    },
    {
     "name": "stderr",
     "output_type": "stream",
     "text": [
      "\r",
      "413it [12:07,  1.05it/s]"
     ]
    },
    {
     "name": "stdout",
     "output_type": "stream",
     "text": [
      "Downloading \"https://www.virustotal.com/file/56570f24b137f89767b4119ad18a822b8d81bfd9c0cfb423a31f9411c6dd8506/analysis/1500936015/\"\n"
     ]
    },
    {
     "name": "stderr",
     "output_type": "stream",
     "text": [
      "\r",
      "414it [12:08,  1.00s/it]"
     ]
    },
    {
     "name": "stdout",
     "output_type": "stream",
     "text": [
      "Downloading \"https://www.virustotal.com/file/d70136328bd6129856dd1a797f846891fed3af61538eab2166a6525a52087227/analysis/1500923414/\"\n"
     ]
    },
    {
     "name": "stderr",
     "output_type": "stream",
     "text": [
      "\r",
      "415it [12:09,  1.00s/it]"
     ]
    },
    {
     "name": "stdout",
     "output_type": "stream",
     "text": [
      "Downloading \"https://www.virustotal.com/file/3d9ae4b1214a65946a9c25159fd98cec64a78d27597d042907c746a93136c538/analysis/1500913815/\"\n"
     ]
    },
    {
     "name": "stderr",
     "output_type": "stream",
     "text": [
      "\r",
      "416it [12:10,  1.05s/it]"
     ]
    },
    {
     "name": "stdout",
     "output_type": "stream",
     "text": [
      "Downloading \"https://www.virustotal.com/file/5768da85ad3bf900a860741063b7403661c48e362e5d2f33b370a088827853d2/analysis/1500907216/\"\n"
     ]
    },
    {
     "name": "stderr",
     "output_type": "stream",
     "text": [
      "\r",
      "417it [12:11,  1.04s/it]"
     ]
    },
    {
     "name": "stdout",
     "output_type": "stream",
     "text": [
      "Downloading \"https://www.virustotal.com/file/50d003e71c106e56fd71b6b0bb003964ed8049509e9b5daed9653cc6c6a14231/analysis/1500890603/\"\n"
     ]
    },
    {
     "name": "stderr",
     "output_type": "stream",
     "text": [
      "\r",
      "418it [12:12,  1.02s/it]"
     ]
    },
    {
     "name": "stdout",
     "output_type": "stream",
     "text": [
      "Downloading \"https://www.virustotal.com/file/6828160f8470b459b2938ac10df34a9a3560a38b7e1a0a90b13bf108cef3062e/analysis/1500858014/\"\n"
     ]
    },
    {
     "name": "stderr",
     "output_type": "stream",
     "text": [
      "\r",
      "419it [12:13,  1.02s/it]"
     ]
    },
    {
     "name": "stdout",
     "output_type": "stream",
     "text": [
      "Downloading \"https://www.virustotal.com/en/file/dab86c3ec82b09c1cbce1e77be3c22ab47ea04a904a9e65f51e54ea2219222f9/analysis/1500897144/\"\n"
     ]
    },
    {
     "name": "stderr",
     "output_type": "stream",
     "text": [
      "\r",
      "420it [12:14,  1.03s/it]"
     ]
    },
    {
     "name": "stdout",
     "output_type": "stream",
     "text": [
      "Downloading \"http://nyti.ms/2a3IpjI\"\n"
     ]
    },
    {
     "name": "stderr",
     "output_type": "stream",
     "text": [
      "\r",
      "421it [12:16,  1.11s/it]"
     ]
    },
    {
     "name": "stdout",
     "output_type": "stream",
     "text": [
      "Downloading \"http://bit.ly/2uQIYeR\"\n"
     ]
    },
    {
     "name": "stderr",
     "output_type": "stream",
     "text": [
      "\r",
      "422it [12:17,  1.08s/it]"
     ]
    },
    {
     "name": "stdout",
     "output_type": "stream",
     "text": [
      "Downloading \"http://cvpr2017.thecvf.com/program/main_conference#cvpr2017_awards\"\n"
     ]
    },
    {
     "name": "stderr",
     "output_type": "stream",
     "text": [
      "\r",
      "423it [12:23,  2.64s/it]"
     ]
    },
    {
     "name": "stdout",
     "output_type": "stream",
     "text": [
      "Downloading \"http://emnlp2017.net/accepted-papers.html\"\n"
     ]
    },
    {
     "name": "stderr",
     "output_type": "stream",
     "text": [
      "\r",
      "424it [12:25,  2.35s/it]"
     ]
    },
    {
     "name": "stdout",
     "output_type": "stream",
     "text": [
      "Downloading \"https://twitter.com/i/web/status/889648340530601984\"\n"
     ]
    },
    {
     "name": "stderr",
     "output_type": "stream",
     "text": [
      "\r",
      "425it [12:25,  1.88s/it]"
     ]
    },
    {
     "name": "stdout",
     "output_type": "stream",
     "text": [
      "Downloading \"http://goo.gl/BxBB08\"\n"
     ]
    },
    {
     "name": "stderr",
     "output_type": "stream",
     "text": [
      "\r",
      "426it [12:26,  1.54s/it]"
     ]
    },
    {
     "name": "stdout",
     "output_type": "stream",
     "text": [
      "Downloading \"https://twitter.com/i/web/status/888934739725373441\"\n"
     ]
    },
    {
     "name": "stderr",
     "output_type": "stream",
     "text": [
      "\r",
      "427it [12:27,  1.32s/it]"
     ]
    },
    {
     "name": "stdout",
     "output_type": "stream",
     "text": [
      "Downloading \"http://goo.gl/PNlBgV\"\n"
     ]
    },
    {
     "name": "stderr",
     "output_type": "stream",
     "text": [
      "\r",
      "428it [12:27,  1.06s/it]"
     ]
    },
    {
     "name": "stdout",
     "output_type": "stream",
     "text": [
      "Downloading \"http://goo.gl/RO2YbV\"\n"
     ]
    },
    {
     "name": "stderr",
     "output_type": "stream",
     "text": [
      "\r",
      "429it [12:28,  1.13it/s]"
     ]
    },
    {
     "name": "stdout",
     "output_type": "stream",
     "text": [
      "Downloading \"https://twitter.com/i/web/status/889538436176203779\"\n"
     ]
    },
    {
     "name": "stderr",
     "output_type": "stream",
     "text": [
      "\r",
      "430it [12:29,  1.17it/s]"
     ]
    },
    {
     "name": "stdout",
     "output_type": "stream",
     "text": [
      "Downloading \"https://twitter.com/i/web/status/889536278210936837\"\n"
     ]
    },
    {
     "name": "stderr",
     "output_type": "stream",
     "text": [
      "\r",
      "431it [12:29,  1.22it/s]"
     ]
    },
    {
     "name": "stdout",
     "output_type": "stream",
     "text": [
      "Downloading \"https://virustotal.com/en/file/bfccc82aee390efca9b3f2efbe7c446b1fe91ffd1d93457f935cba24922c3467/analysis/\"\n"
     ]
    },
    {
     "name": "stderr",
     "output_type": "stream",
     "text": [
      "433it [12:31,  1.28it/s]"
     ]
    },
    {
     "name": "stdout",
     "output_type": "stream",
     "text": [
      "Downloading \"https://twitter.com/i/web/status/889227083729260548\"\n",
      "Article `download()` failed with 404 Client Error: Not Found for url: https://twitter.com/i/web/status/889227083729260548 on URL https://twitter.com/i/web/status/889227083729260548\n",
      "Downloading \"https://twitter.com/i/web/status/889651423352410119\"\n"
     ]
    },
    {
     "name": "stderr",
     "output_type": "stream",
     "text": [
      "\r",
      "434it [12:32,  1.30it/s]"
     ]
    },
    {
     "name": "stdout",
     "output_type": "stream",
     "text": [
      "Downloading \"http://bit.ly/2u6qYLb\"\n"
     ]
    },
    {
     "name": "stderr",
     "output_type": "stream",
     "text": [
      "\r",
      "435it [12:34,  1.16s/it]"
     ]
    },
    {
     "name": "stdout",
     "output_type": "stream",
     "text": [
      "Downloading \"http://bit.ly/2u6qYLb\"\n"
     ]
    },
    {
     "name": "stderr",
     "output_type": "stream",
     "text": [
      "\r",
      "436it [12:34,  1.07it/s]"
     ]
    },
    {
     "name": "stdout",
     "output_type": "stream",
     "text": [
      "Downloading \"http://bit.ly/2tv5lad\"\n"
     ]
    },
    {
     "name": "stderr",
     "output_type": "stream",
     "text": [
      "\r",
      "437it [12:35,  1.15it/s]"
     ]
    },
    {
     "name": "stdout",
     "output_type": "stream",
     "text": [
      "Downloading \"http://bit.ly/2vGzuQu\"\n"
     ]
    },
    {
     "name": "stderr",
     "output_type": "stream",
     "text": [
      "\r",
      "438it [12:37,  1.07s/it]"
     ]
    },
    {
     "name": "stdout",
     "output_type": "stream",
     "text": [
      "Downloading \"http://bit.ly/2p2Rndh\"\n"
     ]
    },
    {
     "name": "stderr",
     "output_type": "stream",
     "text": [
      "\r",
      "439it [12:38,  1.17s/it]"
     ]
    },
    {
     "name": "stdout",
     "output_type": "stream",
     "text": [
      "Downloading \"https://twitter.com/i/web/status/889379629655617536\"\n"
     ]
    },
    {
     "name": "stderr",
     "output_type": "stream",
     "text": [
      "\r",
      "440it [12:39,  1.05s/it]"
     ]
    },
    {
     "name": "stdout",
     "output_type": "stream",
     "text": [
      "Downloading \"http://bit.ly/2tRoqk0\"\n"
     ]
    },
    {
     "name": "stderr",
     "output_type": "stream",
     "text": [
      "\r",
      "441it [12:43,  1.91s/it]"
     ]
    },
    {
     "name": "stdout",
     "output_type": "stream",
     "text": [
      "Downloading \"https://twitter.com/JohnJHudak/status/888466858130776069\"\n"
     ]
    },
    {
     "name": "stderr",
     "output_type": "stream",
     "text": [
      "\r",
      "442it [12:44,  1.75s/it]"
     ]
    },
    {
     "name": "stdout",
     "output_type": "stream",
     "text": [
      "Downloading \"https://twitter.com/i/web/status/889231430361985025\"\n"
     ]
    },
    {
     "name": "stderr",
     "output_type": "stream",
     "text": [
      "\r",
      "443it [12:45,  1.48s/it]"
     ]
    },
    {
     "name": "stdout",
     "output_type": "stream",
     "text": [
      "Downloading \"https://twitter.com/KaleighRogers/status/885853542455685120\"\n"
     ]
    },
    {
     "name": "stderr",
     "output_type": "stream",
     "text": [
      "\r",
      "444it [12:46,  1.31s/it]"
     ]
    },
    {
     "name": "stdout",
     "output_type": "stream",
     "text": [
      "Downloading \"http://amp.timeinc.net/fortune/2017/07/22/why-we-should-let-young-people-enlist-in-a-year-of-cyber-service/\"\n"
     ]
    },
    {
     "name": "stderr",
     "output_type": "stream",
     "text": [
      "\r",
      "445it [12:46,  1.04s/it]"
     ]
    },
    {
     "name": "stdout",
     "output_type": "stream",
     "text": [
      "Downloading \"https://twitter.com/ATTENTION_CNN/status/889069683361579008\"\n"
     ]
    },
    {
     "name": "stderr",
     "output_type": "stream",
     "text": [
      "\r",
      "446it [12:47,  1.05it/s]"
     ]
    },
    {
     "name": "stdout",
     "output_type": "stream",
     "text": [
      "Downloading \"https://twitter.com/i/web/status/889069598393413632\"\n"
     ]
    },
    {
     "name": "stderr",
     "output_type": "stream",
     "text": [
      "\r",
      "447it [12:48,  1.07it/s]"
     ]
    },
    {
     "name": "stdout",
     "output_type": "stream",
     "text": [
      "Downloading \"https://twitter.com/MiellynB/status/888217414617497604\"\n"
     ]
    },
    {
     "name": "stderr",
     "output_type": "stream",
     "text": [
      "\r",
      "448it [12:49,  1.04it/s]"
     ]
    },
    {
     "name": "stdout",
     "output_type": "stream",
     "text": [
      "Downloading \"https://twitter.com/i/web/status/889055496530952192\"\n"
     ]
    },
    {
     "name": "stderr",
     "output_type": "stream",
     "text": [
      "\r",
      "449it [12:50,  1.06it/s]"
     ]
    },
    {
     "name": "stdout",
     "output_type": "stream",
     "text": [
      "Downloading \"https://twitter.com/i/web/status/889054715043958786\"\n"
     ]
    },
    {
     "name": "stderr",
     "output_type": "stream",
     "text": [
      "451it [12:51,  1.44it/s]"
     ]
    },
    {
     "name": "stdout",
     "output_type": "stream",
     "text": [
      "Downloading \"https://twitter.com/i/web/status/889054066650820611\"\n",
      "Article `download()` failed with 404 Client Error: Not Found for url: https://twitter.com/i/web/status/889054066650820611 on URL https://twitter.com/i/web/status/889054066650820611\n"
     ]
    },
    {
     "name": "stderr",
     "output_type": "stream",
     "text": [
      "\r",
      "452it [12:52,  1.34it/s]"
     ]
    },
    {
     "name": "stdout",
     "output_type": "stream",
     "text": [
      "Downloading \"https://twitter.com/i/web/status/889039850728546304\"\n",
      "Downloading \"https://twitter.com/i/web/status/889031409935011840\"\n"
     ]
    },
    {
     "name": "stderr",
     "output_type": "stream",
     "text": [
      "\r",
      "453it [12:53,  1.32it/s]"
     ]
    },
    {
     "name": "stdout",
     "output_type": "stream",
     "text": [
      "Downloading \"https://twitter.com/i/web/status/889024027968274432\"\n"
     ]
    },
    {
     "name": "stderr",
     "output_type": "stream",
     "text": [
      "\r",
      "454it [12:54,  1.10it/s]"
     ]
    },
    {
     "name": "stdout",
     "output_type": "stream",
     "text": [
      "Downloading \"https://twitter.com/i/web/status/889021163216797697\"\n"
     ]
    },
    {
     "name": "stderr",
     "output_type": "stream",
     "text": [
      "\r",
      "455it [12:55,  1.02it/s]"
     ]
    },
    {
     "name": "stdout",
     "output_type": "stream",
     "text": [
      "Downloading \"https://boingboing.net/2017/07/24/sounds-legit-2.html/amp\"\n"
     ]
    },
    {
     "name": "stderr",
     "output_type": "stream",
     "text": [
      "\r",
      "456it [12:56,  1.17it/s]"
     ]
    },
    {
     "name": "stdout",
     "output_type": "stream",
     "text": [
      "Downloading \"https://twitter.com/Maliciouslink/status/889190692769210368\"\n"
     ]
    },
    {
     "name": "stderr",
     "output_type": "stream",
     "text": [
      "\r",
      "457it [12:57,  1.04it/s]"
     ]
    },
    {
     "name": "stdout",
     "output_type": "stream",
     "text": [
      "Downloading \"https://twitter.com/i/web/status/889515844186902530\"\n"
     ]
    },
    {
     "name": "stderr",
     "output_type": "stream",
     "text": [
      "\r",
      "458it [12:58,  1.10it/s]"
     ]
    },
    {
     "name": "stdout",
     "output_type": "stream",
     "text": [
      "Downloading \"https://www.theguardian.com/technology/2017/jul/24/microsoft-paint-kill-off-after-32-years-graphics-editing-program\"\n"
     ]
    },
    {
     "name": "stderr",
     "output_type": "stream",
     "text": [
      "\r",
      "459it [12:58,  1.21it/s]"
     ]
    },
    {
     "name": "stdout",
     "output_type": "stream",
     "text": [
      "Downloading \"https://twitter.com/wbm312/status/889275537616584704\"\n"
     ]
    },
    {
     "name": "stderr",
     "output_type": "stream",
     "text": [
      "\r",
      "460it [13:00,  1.03s/it]"
     ]
    },
    {
     "name": "stdout",
     "output_type": "stream",
     "text": [
      "Downloading \"https://twitter.com/mubix/status/889368132267069441\"\n"
     ]
    },
    {
     "name": "stderr",
     "output_type": "stream",
     "text": [
      "\r",
      "461it [13:01,  1.03s/it]"
     ]
    },
    {
     "name": "stdout",
     "output_type": "stream",
     "text": [
      "Downloading \"https://twitter.com/qrush/status/888874973565267969\"\n"
     ]
    },
    {
     "name": "stderr",
     "output_type": "stream",
     "text": [
      "\r",
      "462it [13:02,  1.14s/it]"
     ]
    },
    {
     "name": "stdout",
     "output_type": "stream",
     "text": [
      "Downloading \"https://www.reddit.com/r/MachineLearning/comments/6pcurc/r_learning_transferable_architectures_for/\"\n"
     ]
    },
    {
     "name": "stderr",
     "output_type": "stream",
     "text": [
      "\r",
      "463it [13:03,  1.05it/s]"
     ]
    },
    {
     "name": "stdout",
     "output_type": "stream",
     "text": [
      "Downloading \"https://www.reddit.com/r/MachineLearning/comments/6p3ha7/d_machine_learning_wayr_what_are_you_reading_week/\"\n"
     ]
    },
    {
     "name": "stderr",
     "output_type": "stream",
     "text": [
      "\r",
      "464it [13:03,  1.24it/s]"
     ]
    },
    {
     "name": "stdout",
     "output_type": "stream",
     "text": [
      "Downloading \"https://www.reddit.com/r/MachineLearning/comments/6p46sy/n_new_ai_research_institute/\"\n"
     ]
    },
    {
     "name": "stderr",
     "output_type": "stream",
     "text": [
      "\r",
      "465it [13:04,  1.39it/s]"
     ]
    },
    {
     "name": "stdout",
     "output_type": "stream",
     "text": [
      "Downloading \"https://www.reddit.com/r/MachineLearning/comments/6p32vg/d_intel_movidius_neural_compute_stick_on_mouser/\"\n"
     ]
    },
    {
     "name": "stderr",
     "output_type": "stream",
     "text": [
      "\r",
      "466it [13:04,  1.60it/s]"
     ]
    },
    {
     "name": "stdout",
     "output_type": "stream",
     "text": [
      "Downloading \"https://www.reddit.com/r/MachineLearning/comments/6p2v4q/p_inceptionresnet_v2_model_using_keras_with/\"\n"
     ]
    },
    {
     "name": "stderr",
     "output_type": "stream",
     "text": [
      "\r",
      "467it [13:05,  1.74it/s]"
     ]
    },
    {
     "name": "stdout",
     "output_type": "stream",
     "text": [
      "Downloading \"https://www.reddit.com/r/MachineLearning/comments/6p1osk/d_avoiding_being_a_trophy_data_scientist_models/\"\n"
     ]
    },
    {
     "name": "stderr",
     "output_type": "stream",
     "text": [
      "\r",
      "468it [13:05,  1.68it/s]"
     ]
    },
    {
     "name": "stdout",
     "output_type": "stream",
     "text": [
      "Downloading \"https://www.reddit.com/r/MachineLearning/comments/6p13d0/p_commented_ppo_implementation/\"\n"
     ]
    },
    {
     "name": "stderr",
     "output_type": "stream",
     "text": [
      "\r",
      "469it [13:06,  1.80it/s]"
     ]
    },
    {
     "name": "stdout",
     "output_type": "stream",
     "text": [
      "Downloading \"https://www.reddit.com/r/MachineLearning/comments/6oza94/p_nsfw_50000_tasteful_nudes_with_neural_network/\"\n"
     ]
    },
    {
     "name": "stderr",
     "output_type": "stream",
     "text": [
      "\r",
      "470it [13:06,  1.75it/s]"
     ]
    },
    {
     "name": "stdout",
     "output_type": "stream",
     "text": [
      "Downloading \"https://www.reddit.com/r/MachineLearning/comments/6p9x02/d_nips_rebuttal_period_is_open/\"\n"
     ]
    },
    {
     "name": "stderr",
     "output_type": "stream",
     "text": [
      "\r",
      "471it [13:07,  1.42it/s]"
     ]
    },
    {
     "name": "stdout",
     "output_type": "stream",
     "text": [
      "Downloading \"https://www.reddit.com/r/MachineLearning/comments/6p9wz4/d_running_an_ai_startup_and_the_future_of_deep/\"\n"
     ]
    },
    {
     "name": "stderr",
     "output_type": "stream",
     "text": [
      "\r",
      "472it [13:08,  1.52it/s]"
     ]
    },
    {
     "name": "stdout",
     "output_type": "stream",
     "text": [
      "Downloading \"https://www.reddit.com/r/MachineLearning/comments/6p7hbd/p_a_practical_guide_to_tree_based_learning/\"\n"
     ]
    },
    {
     "name": "stderr",
     "output_type": "stream",
     "text": [
      "\r",
      "473it [13:08,  1.64it/s]"
     ]
    },
    {
     "name": "stdout",
     "output_type": "stream",
     "text": [
      "Downloading \"https://www.reddit.com/r/MachineLearning/comments/6p71uj/r_a_distributional_perspective_on_reinforcement/\"\n"
     ]
    },
    {
     "name": "stderr",
     "output_type": "stream",
     "text": [
      "\r",
      "474it [13:09,  1.71it/s]"
     ]
    },
    {
     "name": "stdout",
     "output_type": "stream",
     "text": [
      "Downloading \"https://www.reddit.com/r/MachineLearning/comments/6p6qmc/d_some_advice_for_journalists_writing_about/\"\n"
     ]
    },
    {
     "name": "stderr",
     "output_type": "stream",
     "text": [
      "\r",
      "475it [13:09,  1.86it/s]"
     ]
    },
    {
     "name": "stdout",
     "output_type": "stream",
     "text": [
      "Downloading \"https://www.reddit.com/r/MachineLearning/comments/6p5mug/dchoosing_right_aws_instance/\"\n"
     ]
    },
    {
     "name": "stderr",
     "output_type": "stream",
     "text": [
      "\r",
      "476it [13:10,  1.87it/s]"
     ]
    },
    {
     "name": "stdout",
     "output_type": "stream",
     "text": [
      "Downloading \"https://www.reddit.com/r/MachineLearning/comments/6p5c2o/r_bayesian_neural_networks_with_random_inputs_for/\"\n"
     ]
    },
    {
     "name": "stderr",
     "output_type": "stream",
     "text": [
      "\r",
      "477it [13:10,  1.82it/s]"
     ]
    },
    {
     "name": "stdout",
     "output_type": "stream",
     "text": [
      "Downloading \"https://www.reddit.com/r/MachineLearning/comments/6p3fxz/p_tool_for_designing_energyefficient_deep_neural/\"\n"
     ]
    },
    {
     "name": "stderr",
     "output_type": "stream",
     "text": [
      "\r",
      "478it [13:11,  1.92it/s]"
     ]
    },
    {
     "name": "stdout",
     "output_type": "stream",
     "text": [
      "Downloading \"https://www.swarmapp.com/c/j3iQ60NTq4Z\"\n"
     ]
    },
    {
     "name": "stderr",
     "output_type": "stream",
     "text": [
      "\r",
      "479it [13:11,  1.86it/s]"
     ]
    },
    {
     "name": "stdout",
     "output_type": "stream",
     "text": [
      "Downloading \"https://twitter.com/i/web/status/889560646651596801\"\n"
     ]
    },
    {
     "name": "stderr",
     "output_type": "stream",
     "text": [
      "\r",
      "480it [13:12,  1.62it/s]"
     ]
    },
    {
     "name": "stdout",
     "output_type": "stream",
     "text": [
      "Downloading \"https://www.youtube.com/holdenkarau\"\n"
     ]
    },
    {
     "name": "stderr",
     "output_type": "stream",
     "text": [
      "\r",
      "481it [13:13,  1.31it/s]"
     ]
    },
    {
     "name": "stdout",
     "output_type": "stream",
     "text": [
      "Downloading \"http://dlvr.it/PYDRW4\"\n"
     ]
    },
    {
     "name": "stderr",
     "output_type": "stream",
     "text": [
      "\r",
      "482it [13:14,  1.45it/s]"
     ]
    },
    {
     "name": "stdout",
     "output_type": "stream",
     "text": [
      "Downloading \"http://dlvr.it/PXwSTn\"\n"
     ]
    },
    {
     "name": "stderr",
     "output_type": "stream",
     "text": [
      "\r",
      "483it [13:14,  1.56it/s]"
     ]
    },
    {
     "name": "stdout",
     "output_type": "stream",
     "text": [
      "Downloading \"http://dlvr.it/PXvtyz\"\n"
     ]
    },
    {
     "name": "stderr",
     "output_type": "stream",
     "text": [
      "\r",
      "484it [13:15,  1.66it/s]"
     ]
    },
    {
     "name": "stdout",
     "output_type": "stream",
     "text": [
      "Downloading \"http://dlvr.it/PXvKZb\"\n"
     ]
    },
    {
     "name": "stderr",
     "output_type": "stream",
     "text": [
      "\r",
      "485it [13:15,  1.84it/s]"
     ]
    },
    {
     "name": "stdout",
     "output_type": "stream",
     "text": [
      "Downloading \"http://dlvr.it/PXtSj9\"\n"
     ]
    },
    {
     "name": "stderr",
     "output_type": "stream",
     "text": [
      "\r",
      "486it [13:16,  2.01it/s]"
     ]
    },
    {
     "name": "stdout",
     "output_type": "stream",
     "text": [
      "Downloading \"http://dlvr.it/PXqYW8\"\n"
     ]
    },
    {
     "name": "stderr",
     "output_type": "stream",
     "text": [
      "\r",
      "487it [13:16,  2.08it/s]"
     ]
    },
    {
     "name": "stdout",
     "output_type": "stream",
     "text": [
      "Downloading \"http://dlvr.it/PXlH1B\"\n"
     ]
    },
    {
     "name": "stderr",
     "output_type": "stream",
     "text": [
      "\r",
      "488it [13:17,  2.10it/s]"
     ]
    },
    {
     "name": "stdout",
     "output_type": "stream",
     "text": [
      "Downloading \"http://dlvr.it/PXkBCV\"\n"
     ]
    },
    {
     "name": "stderr",
     "output_type": "stream",
     "text": [
      "\r",
      "489it [13:17,  1.82it/s]"
     ]
    },
    {
     "name": "stdout",
     "output_type": "stream",
     "text": [
      "Downloading \"http://dlvr.it/PY8WZq\"\n"
     ]
    },
    {
     "name": "stderr",
     "output_type": "stream",
     "text": [
      "\r",
      "490it [13:18,  1.90it/s]"
     ]
    },
    {
     "name": "stdout",
     "output_type": "stream",
     "text": [
      "Downloading \"http://dlvr.it/PY5Nnn\"\n"
     ]
    },
    {
     "name": "stderr",
     "output_type": "stream",
     "text": [
      "\r",
      "491it [13:18,  1.93it/s]"
     ]
    },
    {
     "name": "stdout",
     "output_type": "stream",
     "text": [
      "Downloading \"http://dlvr.it/PY4b7m\"\n"
     ]
    },
    {
     "name": "stderr",
     "output_type": "stream",
     "text": [
      "\r",
      "492it [13:19,  1.53it/s]"
     ]
    },
    {
     "name": "stdout",
     "output_type": "stream",
     "text": [
      "Downloading \"http://dlvr.it/PY1Mlb\"\n"
     ]
    },
    {
     "name": "stderr",
     "output_type": "stream",
     "text": [
      "\r",
      "493it [13:20,  1.66it/s]"
     ]
    },
    {
     "name": "stdout",
     "output_type": "stream",
     "text": [
      "Downloading \"http://dlvr.it/PXyVbQ\"\n"
     ]
    },
    {
     "name": "stderr",
     "output_type": "stream",
     "text": [
      "\r",
      "494it [13:20,  1.76it/s]"
     ]
    },
    {
     "name": "stdout",
     "output_type": "stream",
     "text": [
      "Downloading \"http://dlvr.it/PXy13Y\"\n"
     ]
    },
    {
     "name": "stderr",
     "output_type": "stream",
     "text": [
      "\r",
      "495it [13:21,  1.84it/s]"
     ]
    },
    {
     "name": "stdout",
     "output_type": "stream",
     "text": [
      "Downloading \"https://twitter.com/2sec4u/status/889231478676238336\"\n"
     ]
    },
    {
     "name": "stderr",
     "output_type": "stream",
     "text": [
      "\r",
      "496it [13:22,  1.57it/s]"
     ]
    },
    {
     "name": "stdout",
     "output_type": "stream",
     "text": [
      "Downloading \"https://twitter.com/josephfcox/status/889046854020853761\"\n"
     ]
    },
    {
     "name": "stderr",
     "output_type": "stream",
     "text": [
      "\r",
      "497it [13:23,  1.31it/s]"
     ]
    },
    {
     "name": "stdout",
     "output_type": "stream",
     "text": [
      "Downloading \"https://twitter.com/i/web/status/889034285625167873\"\n"
     ]
    },
    {
     "name": "stderr",
     "output_type": "stream",
     "text": [
      "\r",
      "498it [13:24,  1.09it/s]"
     ]
    },
    {
     "name": "stdout",
     "output_type": "stream",
     "text": [
      "Downloading \"https://twitter.com/i/web/status/889523943022903296\"\n"
     ]
    },
    {
     "name": "stderr",
     "output_type": "stream",
     "text": [
      "\r",
      "499it [13:25,  1.05it/s]"
     ]
    },
    {
     "name": "stdout",
     "output_type": "stream",
     "text": [
      "Downloading \"https://twitter.com/i/web/status/889518839909695488\"\n"
     ]
    },
    {
     "name": "stderr",
     "output_type": "stream",
     "text": [
      "\r",
      "500it [13:26,  1.08s/it]"
     ]
    },
    {
     "name": "stdout",
     "output_type": "stream",
     "text": [
      "Downloading \"https://twitter.com/i/web/status/889330366577815556\"\n"
     ]
    },
    {
     "name": "stderr",
     "output_type": "stream",
     "text": [
      "\r",
      "501it [13:27,  1.10s/it]"
     ]
    },
    {
     "name": "stdout",
     "output_type": "stream",
     "text": [
      "Downloading \"https://www.bleepingcomputer.com/news/security/hacker-bestbuy-admits-to-hijacking-deutsche-telekom-routers-with-mirai-malware/\"\n"
     ]
    },
    {
     "name": "stderr",
     "output_type": "stream",
     "text": [
      "502it [13:28,  1.04s/it]\n"
     ]
    }
   ],
   "source": [
    "from datetime import date\n",
    "\n",
    "sys.path.append('../data_helpers/')\n",
    "from twitter_data_helper import TwitterDataHelper\n",
    "from reddit_data_helper import RedditDataHelper\n",
    "from data_aggregator import DataAggregator\n",
    "\n",
    "data_helper = TwitterDataHelper()\n",
    "df = data_helper.get_data(date_range=['2017-07-23', '2017-07-24', '2017-07-25'], download_url_content=True)"
   ]
  },
  {
   "cell_type": "code",
   "execution_count": 84,
   "metadata": {},
   "outputs": [
    {
     "data": {
      "text/html": [
       "<div>\n",
       "<style>\n",
       "    .dataframe thead tr:only-child th {\n",
       "        text-align: right;\n",
       "    }\n",
       "\n",
       "    .dataframe thead th {\n",
       "        text-align: left;\n",
       "    }\n",
       "\n",
       "    .dataframe tbody tr th {\n",
       "        vertical-align: top;\n",
       "    }\n",
       "</style>\n",
       "<table border=\"1\" class=\"dataframe\">\n",
       "  <thead>\n",
       "    <tr style=\"text-align: right;\">\n",
       "      <th></th>\n",
       "      <th>source</th>\n",
       "      <th>created_at</th>\n",
       "      <th>author</th>\n",
       "      <th>text</th>\n",
       "      <th>url</th>\n",
       "      <th>url_content</th>\n",
       "      <th>raw_data</th>\n",
       "    </tr>\n",
       "  </thead>\n",
       "  <tbody>\n",
       "    <tr>\n",
       "      <th>0</th>\n",
       "      <td>twitter</td>\n",
       "      <td>2017-07-23 21:18:32</td>\n",
       "      <td>stanfordnlp</td>\n",
       "      <td>Stanford NLP Software is made available for .N...</td>\n",
       "      <td>https://sergey-tihon.github.io/Stanford.NLP.NET/</td>\n",
       "      <td>Stanford NLP Software for .NET Log-linear Part...</td>\n",
       "      <td>Status(contributors=None, lang='en', favorite_...</td>\n",
       "    </tr>\n",
       "    <tr>\n",
       "      <th>1</th>\n",
       "      <td>twitter</td>\n",
       "      <td>2017-07-23 17:00:58</td>\n",
       "      <td>stanfordnlp</td>\n",
       "      <td>.@stanfordnlp grads at work—Congrats to @WWRob...</td>\n",
       "      <td>https://venturebeat.com/2017/07/19/crowdflower...</td>\n",
       "      <td>CrowdFlower expands to help companies implemen...</td>\n",
       "      <td>Status(contributors=None, lang='en', favorite_...</td>\n",
       "    </tr>\n",
       "    <tr>\n",
       "      <th>2</th>\n",
       "      <td>twitter</td>\n",
       "      <td>2017-07-23 09:23:02</td>\n",
       "      <td>ncsc</td>\n",
       "      <td>Rachel inspires our colleagues + puts forward ...</td>\n",
       "      <td>https://twitter.com/i/web/status/8890532320556...</td>\n",
       "      <td>NCSC UK on Twitter Add a location to your Twee...</td>\n",
       "      <td>Status(contributors=None, lang='en', favorite_...</td>\n",
       "    </tr>\n",
       "    <tr>\n",
       "      <th>3</th>\n",
       "      <td>twitter</td>\n",
       "      <td>2017-07-23 08:31:03</td>\n",
       "      <td>ncsc</td>\n",
       "      <td>Discover how we are blocking bad emails preten...</td>\n",
       "      <td>http://bit.ly/2txgeYE</td>\n",
       "      <td>NCSC rolls out free and easy steps to improve ...</td>\n",
       "      <td>Status(contributors=None, lang='en', favorite_...</td>\n",
       "    </tr>\n",
       "    <tr>\n",
       "      <th>4</th>\n",
       "      <td>twitter</td>\n",
       "      <td>2017-07-24 16:09:03</td>\n",
       "      <td>ncsc</td>\n",
       "      <td>What's new with our Windows End User Device Gu...</td>\n",
       "      <td>http://bit.ly/2mY7XFs</td>\n",
       "      <td>What's new with Windows 10? With the release o...</td>\n",
       "      <td>Status(contributors=None, lang='en', favorite_...</td>\n",
       "    </tr>\n",
       "    <tr>\n",
       "      <th>5</th>\n",
       "      <td>twitter</td>\n",
       "      <td>2017-07-24 15:09:04</td>\n",
       "      <td>ncsc</td>\n",
       "      <td>Think you have what it takes to be part of our...</td>\n",
       "      <td>https://twitter.com/i/web/status/8895026993345...</td>\n",
       "      <td>NCSC UK on Twitter Add a location to your Twee...</td>\n",
       "      <td>Status(contributors=None, lang='en', favorite_...</td>\n",
       "    </tr>\n",
       "    <tr>\n",
       "      <th>6</th>\n",
       "      <td>twitter</td>\n",
       "      <td>2017-07-24 14:26:02</td>\n",
       "      <td>ncsc</td>\n",
       "      <td>Our shiny, new Chrome OS guidance. Tap into ou...</td>\n",
       "      <td>http://bit.ly/2tL98Qk</td>\n",
       "      <td>EUD Security Guidance: Chrome OS 56 It's impor...</td>\n",
       "      <td>Status(contributors=None, lang='en', favorite_...</td>\n",
       "    </tr>\n",
       "    <tr>\n",
       "      <th>7</th>\n",
       "      <td>twitter</td>\n",
       "      <td>2017-07-24 12:16:03</td>\n",
       "      <td>ncsc</td>\n",
       "      <td>You spoke. We listened. Introducing Web Check!...</td>\n",
       "      <td>http://bit.ly/2tpuNOd</td>\n",
       "      <td>Web Check — helping you to secure your public ...</td>\n",
       "      <td>Status(contributors=None, lang='en', favorite_...</td>\n",
       "    </tr>\n",
       "    <tr>\n",
       "      <th>8</th>\n",
       "      <td>twitter</td>\n",
       "      <td>2017-07-24 09:40:03</td>\n",
       "      <td>ncsc</td>\n",
       "      <td>Learn how we are rolling out free and easy ste...</td>\n",
       "      <td>http://bit.ly/2txgeYE</td>\n",
       "      <td>NCSC rolls out free and easy steps to improve ...</td>\n",
       "      <td>Status(contributors=None, lang='en', favorite_...</td>\n",
       "    </tr>\n",
       "    <tr>\n",
       "      <th>9</th>\n",
       "      <td>twitter</td>\n",
       "      <td>2017-07-24 08:45:03</td>\n",
       "      <td>ncsc</td>\n",
       "      <td>If you make security easier for your users, yo...</td>\n",
       "      <td>http://bit.ly/2e7c1Fa</td>\n",
       "      <td>Password Guidance: Simplifying Your Approach P...</td>\n",
       "      <td>Status(contributors=None, lang='en', favorite_...</td>\n",
       "    </tr>\n",
       "    <tr>\n",
       "      <th>10</th>\n",
       "      <td>twitter</td>\n",
       "      <td>2017-07-24 08:13:03</td>\n",
       "      <td>ncsc</td>\n",
       "      <td>If you make security easier for your users, yo...</td>\n",
       "      <td>https://www.ncsc.gov.uk/guidance/password-guid...</td>\n",
       "      <td>Password Guidance: Simplifying Your Approach P...</td>\n",
       "      <td>Status(contributors=None, lang='en', favorite_...</td>\n",
       "    </tr>\n",
       "    <tr>\n",
       "      <th>11</th>\n",
       "      <td>twitter</td>\n",
       "      <td>2017-07-24 07:45:03</td>\n",
       "      <td>ncsc</td>\n",
       "      <td>Leading NCSC People Centred Security, Emma W i...</td>\n",
       "      <td>https://twitter.com/i/web/status/8893909609159...</td>\n",
       "      <td>NCSC UK on Twitter Add a location to your Twee...</td>\n",
       "      <td>Status(contributors=None, lang='en', favorite_...</td>\n",
       "    </tr>\n",
       "    <tr>\n",
       "      <th>12</th>\n",
       "      <td>twitter</td>\n",
       "      <td>2017-07-25 03:30:11</td>\n",
       "      <td>lmthang</td>\n",
       "      <td>IBM’s WatsonPaths &amp;amp; symptom checker Isabel...</td>\n",
       "      <td>https://twitter.com/i/web/status/8896892097404...</td>\n",
       "      <td>Thang Luong on Twitter Add a location to your ...</td>\n",
       "      <td>Status(contributors=None, lang='en', favorite_...</td>\n",
       "    </tr>\n",
       "    <tr>\n",
       "      <th>13</th>\n",
       "      <td>twitter</td>\n",
       "      <td>2017-07-24 16:12:54</td>\n",
       "      <td>DeepMindAI</td>\n",
       "      <td>Value distributions lead to state of the art r...</td>\n",
       "      <td>https://deepmind.com/blog/going-beyond-average...</td>\n",
       "      <td>Going beyond average for reinforcement learnin...</td>\n",
       "      <td>Status(contributors=None, lang='en', favorite_...</td>\n",
       "    </tr>\n",
       "    <tr>\n",
       "      <th>14</th>\n",
       "      <td>twitter</td>\n",
       "      <td>2017-07-23 16:36:02</td>\n",
       "      <td>natashenka</td>\n",
       "      <td>And here I am in the wrong city ... https://t....</td>\n",
       "      <td>https://twitter.com/BandaiAmerica/status/88916...</td>\n",
       "      <td>Bandai America on Twitter Add a location to yo...</td>\n",
       "      <td>Status(contributors=None, lang='en', favorite_...</td>\n",
       "    </tr>\n",
       "    <tr>\n",
       "      <th>15</th>\n",
       "      <td>twitter</td>\n",
       "      <td>2017-07-24 14:01:21</td>\n",
       "      <td>ConradLongmore</td>\n",
       "      <td>Veteran Of Dunkirk Talks About Seeing The Movi...</td>\n",
       "      <td>http://on.digg.com/2tDAAjv</td>\n",
       "      <td>Veteran Of Dunkirk Talks About Seeing The Movi...</td>\n",
       "      <td>Status(contributors=None, lang='en', favorite_...</td>\n",
       "    </tr>\n",
       "    <tr>\n",
       "      <th>16</th>\n",
       "      <td>twitter</td>\n",
       "      <td>2017-07-23 11:01:42</td>\n",
       "      <td>bry_campbell</td>\n",
       "      <td>Everything that's wrong with the industry righ...</td>\n",
       "      <td>https://twitter.com/withzombies/status/8884954...</td>\n",
       "      <td>Ryan Stortz on Twitter Add a location to your ...</td>\n",
       "      <td>Status(contributors=None, lang='en', favorite_...</td>\n",
       "    </tr>\n",
       "    <tr>\n",
       "      <th>17</th>\n",
       "      <td>twitter</td>\n",
       "      <td>2017-07-24 17:17:06</td>\n",
       "      <td>bry_campbell</td>\n",
       "      <td>https://t.co/HvTrkIIKUG\\n\\nIP Address, device ...</td>\n",
       "      <td>https://twitter.com/bry_campbell/status/889528...</td>\n",
       "      <td>Bʀʏᴀɴ on Twitter Add a location to your Tweets...</td>\n",
       "      <td>Status(contributors=None, lang='en', favorite_...</td>\n",
       "    </tr>\n",
       "    <tr>\n",
       "      <th>18</th>\n",
       "      <td>twitter</td>\n",
       "      <td>2017-07-24 12:06:04</td>\n",
       "      <td>spontiroli</td>\n",
       "      <td>Kaspersky, then and Now. 20 Years In-between –...</td>\n",
       "      <td>https://eugene.kaspersky.com/2017/07/21/then-a...</td>\n",
       "      <td>Then and Now. 20 Years In-between – All Uphill...</td>\n",
       "      <td>Status(contributors=None, lang='en', favorite_...</td>\n",
       "    </tr>\n",
       "    <tr>\n",
       "      <th>19</th>\n",
       "      <td>twitter</td>\n",
       "      <td>2017-07-25 01:33:02</td>\n",
       "      <td>symantec</td>\n",
       "      <td>Join Symantec’s Vijay Thawre &amp;amp; @ankit5934 ...</td>\n",
       "      <td>http://symc.ly/2eJoFdd</td>\n",
       "      <td>Black Hat USA 2017</td>\n",
       "      <td>Status(contributors=None, lang='en', favorite_...</td>\n",
       "    </tr>\n",
       "    <tr>\n",
       "      <th>20</th>\n",
       "      <td>twitter</td>\n",
       "      <td>2017-07-25 00:08:03</td>\n",
       "      <td>symantec</td>\n",
       "      <td>Don’t forget to have your Symantec Passport ca...</td>\n",
       "      <td>https://twitter.com/i/web/status/8896383384115...</td>\n",
       "      <td>Symantec on Twitter Add a location to your Twe...</td>\n",
       "      <td>Status(contributors=None, lang='en', favorite_...</td>\n",
       "    </tr>\n",
       "    <tr>\n",
       "      <th>21</th>\n",
       "      <td>twitter</td>\n",
       "      <td>2017-07-23 23:24:04</td>\n",
       "      <td>symantec</td>\n",
       "      <td>Proud to partner with the @StrideCenter and gr...</td>\n",
       "      <td>https://twitter.com/i/web/status/8892648809095...</td>\n",
       "      <td>Symantec on Twitter Add a location to your Twe...</td>\n",
       "      <td>Status(contributors=None, lang='en', favorite_...</td>\n",
       "    </tr>\n",
       "    <tr>\n",
       "      <th>22</th>\n",
       "      <td>twitter</td>\n",
       "      <td>2017-07-23 18:36:04</td>\n",
       "      <td>symantec</td>\n",
       "      <td>#BHUSA is off to a great start. Swing by booth...</td>\n",
       "      <td>http://symc.ly/2gUVB36</td>\n",
       "      <td>Visit Symantec at Black Hat USA 2017 Symantec ...</td>\n",
       "      <td>Status(contributors=None, lang='en', favorite_...</td>\n",
       "    </tr>\n",
       "    <tr>\n",
       "      <th>23</th>\n",
       "      <td>twitter</td>\n",
       "      <td>2017-07-24 23:38:03</td>\n",
       "      <td>symantec</td>\n",
       "      <td>Join the free webinar on 8/2 to learn about ne...</td>\n",
       "      <td>https://twitter.com/i/web/status/8896307898220...</td>\n",
       "      <td>Symantec on Twitter Add a location to your Twe...</td>\n",
       "      <td>Status(contributors=None, lang='en', favorite_...</td>\n",
       "    </tr>\n",
       "    <tr>\n",
       "      <th>24</th>\n",
       "      <td>twitter</td>\n",
       "      <td>2017-07-24 23:00:11</td>\n",
       "      <td>symantec</td>\n",
       "      <td>Join tomorrow’s webcast for a look at Symantec...</td>\n",
       "      <td>https://twitter.com/i/web/status/8896212611476...</td>\n",
       "      <td>Symantec on Twitter Add a location to your Twe...</td>\n",
       "      <td>Status(contributors=None, lang='en', favorite_...</td>\n",
       "    </tr>\n",
       "    <tr>\n",
       "      <th>25</th>\n",
       "      <td>twitter</td>\n",
       "      <td>2017-07-24 22:23:02</td>\n",
       "      <td>symantec</td>\n",
       "      <td>Find out why #machinelearning and #AI are the ...</td>\n",
       "      <td>http://symc.ly/2eIO1bm</td>\n",
       "      <td>Visit Symantec at Black Hat USA 2017 Symantec ...</td>\n",
       "      <td>Status(contributors=None, lang='en', favorite_...</td>\n",
       "    </tr>\n",
       "    <tr>\n",
       "      <th>26</th>\n",
       "      <td>twitter</td>\n",
       "      <td>2017-07-24 21:02:02</td>\n",
       "      <td>symantec</td>\n",
       "      <td>Symantec’s @professor__plum will present on ex...</td>\n",
       "      <td>http://symc.ly/2gY3MM3</td>\n",
       "      <td>Visit Symantec at Black Hat USA 2017 Symantec ...</td>\n",
       "      <td>Status(contributors=None, lang='en', favorite_...</td>\n",
       "    </tr>\n",
       "    <tr>\n",
       "      <th>27</th>\n",
       "      <td>twitter</td>\n",
       "      <td>2017-07-24 19:49:03</td>\n",
       "      <td>symantec</td>\n",
       "      <td>Symantec June Intelligence: The #phishing rate...</td>\n",
       "      <td>http://symc.ly/2gXF4eU</td>\n",
       "      <td>Latest Intelligence for June 2017 You will nee...</td>\n",
       "      <td>Status(contributors=None, lang='en', favorite_...</td>\n",
       "    </tr>\n",
       "    <tr>\n",
       "      <th>28</th>\n",
       "      <td>twitter</td>\n",
       "      <td>2017-07-24 18:47:03</td>\n",
       "      <td>symantec</td>\n",
       "      <td>Interested in walking away from Black Hat with...</td>\n",
       "      <td>https://twitter.com/i/web/status/8895575559151...</td>\n",
       "      <td>Symantec on Twitter Add a location to your Twe...</td>\n",
       "      <td>Status(contributors=None, lang='en', favorite_...</td>\n",
       "    </tr>\n",
       "    <tr>\n",
       "      <th>29</th>\n",
       "      <td>twitter</td>\n",
       "      <td>2017-07-24 18:05:23</td>\n",
       "      <td>symantec</td>\n",
       "      <td>Be prepared for the next major #ransomware att...</td>\n",
       "      <td>https://twitter.com/TechRepublic/status/888958...</td>\n",
       "      <td>TechRepublic on Twitter Add a location to your...</td>\n",
       "      <td>Status(contributors=None, lang='en', favorite_...</td>\n",
       "    </tr>\n",
       "    <tr>\n",
       "      <th>...</th>\n",
       "      <td>...</td>\n",
       "      <td>...</td>\n",
       "      <td>...</td>\n",
       "      <td>...</td>\n",
       "      <td>...</td>\n",
       "      <td>...</td>\n",
       "      <td>...</td>\n",
       "    </tr>\n",
       "    <tr>\n",
       "      <th>472</th>\n",
       "      <td>twitter</td>\n",
       "      <td>2017-07-24 11:53:53</td>\n",
       "      <td>slashML</td>\n",
       "      <td>A Practical Guide to Tree Based Learning Algor...</td>\n",
       "      <td>https://www.reddit.com/r/MachineLearning/comme...</td>\n",
       "      <td>[P] A Practical Guide to Tree Based Learning A...</td>\n",
       "      <td>Status(contributors=None, lang='en', favorite_...</td>\n",
       "    </tr>\n",
       "    <tr>\n",
       "      <th>473</th>\n",
       "      <td>twitter</td>\n",
       "      <td>2017-07-24 09:48:51</td>\n",
       "      <td>slashML</td>\n",
       "      <td>A Distributional Perspective on Reinforcement ...</td>\n",
       "      <td>https://www.reddit.com/r/MachineLearning/comme...</td>\n",
       "      <td>[R] A Distributional Perspective on Reinforcem...</td>\n",
       "      <td>Status(contributors=None, lang='en', favorite_...</td>\n",
       "    </tr>\n",
       "    <tr>\n",
       "      <th>474</th>\n",
       "      <td>twitter</td>\n",
       "      <td>2017-07-24 08:13:50</td>\n",
       "      <td>slashML</td>\n",
       "      <td>Some advice for journalists writing about arti...</td>\n",
       "      <td>https://www.reddit.com/r/MachineLearning/comme...</td>\n",
       "      <td>[D] Some advice for journalists writing about ...</td>\n",
       "      <td>Status(contributors=None, lang='en', favorite_...</td>\n",
       "    </tr>\n",
       "    <tr>\n",
       "      <th>475</th>\n",
       "      <td>twitter</td>\n",
       "      <td>2017-07-24 04:08:46</td>\n",
       "      <td>slashML</td>\n",
       "      <td>Choosing right aws instance. https://t.co/RfYU...</td>\n",
       "      <td>https://www.reddit.com/r/MachineLearning/comme...</td>\n",
       "      <td>[D]Choosing right aws instance. : MachineLearn...</td>\n",
       "      <td>Status(contributors=None, lang='en', favorite_...</td>\n",
       "    </tr>\n",
       "    <tr>\n",
       "      <th>476</th>\n",
       "      <td>twitter</td>\n",
       "      <td>2017-07-24 03:33:45</td>\n",
       "      <td>slashML</td>\n",
       "      <td>Bayesian Neural Networks with Random Inputs fo...</td>\n",
       "      <td>https://www.reddit.com/r/MachineLearning/comme...</td>\n",
       "      <td>[R] ‪Bayesian Neural Networks with Random Inpu...</td>\n",
       "      <td>Status(contributors=None, lang='en', favorite_...</td>\n",
       "    </tr>\n",
       "    <tr>\n",
       "      <th>477</th>\n",
       "      <td>twitter</td>\n",
       "      <td>2017-07-24 00:28:42</td>\n",
       "      <td>slashML</td>\n",
       "      <td>Tool for Designing Energy-Efficient Deep Neura...</td>\n",
       "      <td>https://www.reddit.com/r/MachineLearning/comme...</td>\n",
       "      <td>[P] Tool for Designing Energy-Efficient Deep N...</td>\n",
       "      <td>Status(contributors=None, lang='en', favorite_...</td>\n",
       "    </tr>\n",
       "    <tr>\n",
       "      <th>478</th>\n",
       "      <td>twitter</td>\n",
       "      <td>2017-07-23 23:00:37</td>\n",
       "      <td>holdenkarau</td>\n",
       "      <td>Following up on a recommendation 😀 (@ Nemesis ...</td>\n",
       "      <td>https://www.swarmapp.com/c/j3iQ60NTq4Z</td>\n",
       "      <td>Nemesis Coffee You must enable JavaScript to u...</td>\n",
       "      <td>Status(contributors=None, lang='en', favorite_...</td>\n",
       "    </tr>\n",
       "    <tr>\n",
       "      <th>479</th>\n",
       "      <td>twitter</td>\n",
       "      <td>2017-07-24 18:59:20</td>\n",
       "      <td>holdenkarau</td>\n",
       "      <td>Monday's are a little ruff, so the newest stuf...</td>\n",
       "      <td>https://twitter.com/i/web/status/8895606466515...</td>\n",
       "      <td>holden karau on Twitter Add a location to your...</td>\n",
       "      <td>Status(contributors=None, lang='en', favorite_...</td>\n",
       "    </tr>\n",
       "    <tr>\n",
       "      <th>480</th>\n",
       "      <td>twitter</td>\n",
       "      <td>2017-07-24 16:55:12</td>\n",
       "      <td>holdenkarau</td>\n",
       "      <td>Want to see more @ApacheSpark videos from me? ...</td>\n",
       "      <td>https://www.youtube.com/holdenkarau</td>\n",
       "      <td>Holden Karau Video from the 24th and Bartlett ...</td>\n",
       "      <td>Status(contributors=None, lang='en', favorite_...</td>\n",
       "    </tr>\n",
       "    <tr>\n",
       "      <th>481</th>\n",
       "      <td>twitter</td>\n",
       "      <td>2017-07-25 01:12:11</td>\n",
       "      <td>mxlearn</td>\n",
       "      <td>[R] Learning Transferable Architectures for Sc...</td>\n",
       "      <td>http://dlvr.it/PYDRW4</td>\n",
       "      <td>[R] Learning Transferable Architectures for Sc...</td>\n",
       "      <td>Status(contributors=None, lang='en', favorite_...</td>\n",
       "    </tr>\n",
       "    <tr>\n",
       "      <th>482</th>\n",
       "      <td>twitter</td>\n",
       "      <td>2017-07-23 22:22:35</td>\n",
       "      <td>mxlearn</td>\n",
       "      <td>[N] New AI research institute https://t.co/nCz...</td>\n",
       "      <td>http://dlvr.it/PXwSTn</td>\n",
       "      <td>[N] New AI research institute : MachineLearnin...</td>\n",
       "      <td>Status(contributors=None, lang='en', favorite_...</td>\n",
       "    </tr>\n",
       "    <tr>\n",
       "      <th>483</th>\n",
       "      <td>twitter</td>\n",
       "      <td>2017-07-23 21:16:13</td>\n",
       "      <td>mxlearn</td>\n",
       "      <td>[P] DeepArtistry: Buy art generated by neural ...</td>\n",
       "      <td>http://dlvr.it/PXvtyz</td>\n",
       "      <td>[P] DeepArtistry: Buy art generated by neural ...</td>\n",
       "      <td>Status(contributors=None, lang='en', favorite_...</td>\n",
       "    </tr>\n",
       "    <tr>\n",
       "      <th>484</th>\n",
       "      <td>twitter</td>\n",
       "      <td>2017-07-23 20:10:14</td>\n",
       "      <td>mxlearn</td>\n",
       "      <td>[P] Tool for Designing Energy-Efficient Deep N...</td>\n",
       "      <td>http://dlvr.it/PXvKZb</td>\n",
       "      <td>[P] Tool for Designing Energy-Efficient Deep N...</td>\n",
       "      <td>Status(contributors=None, lang='en', favorite_...</td>\n",
       "    </tr>\n",
       "    <tr>\n",
       "      <th>485</th>\n",
       "      <td>twitter</td>\n",
       "      <td>2017-07-23 18:29:06</td>\n",
       "      <td>mxlearn</td>\n",
       "      <td>[P] Inception-ResNet v2 model using Keras (wit...</td>\n",
       "      <td>http://dlvr.it/PXtSj9</td>\n",
       "      <td>[P] Inception-ResNet v2 model using Keras (wit...</td>\n",
       "      <td>Status(contributors=None, lang='en', favorite_...</td>\n",
       "    </tr>\n",
       "    <tr>\n",
       "      <th>486</th>\n",
       "      <td>twitter</td>\n",
       "      <td>2017-07-23 13:02:47</td>\n",
       "      <td>mxlearn</td>\n",
       "      <td>[P] Commented PPO implementation https://t.co/...</td>\n",
       "      <td>http://dlvr.it/PXqYW8</td>\n",
       "      <td>[P] Commented PPO implementation : MachineLear...</td>\n",
       "      <td>Status(contributors=None, lang='en', favorite_...</td>\n",
       "    </tr>\n",
       "    <tr>\n",
       "      <th>487</th>\n",
       "      <td>twitter</td>\n",
       "      <td>2017-07-23 03:38:08</td>\n",
       "      <td>mxlearn</td>\n",
       "      <td>[P] [NSFW!!] 50,000 tasteful nudes with neural...</td>\n",
       "      <td>http://dlvr.it/PXlH1B</td>\n",
       "      <td>reddit.com: over 18? You must be 18+ to view t...</td>\n",
       "      <td>Status(contributors=None, lang='en', favorite_...</td>\n",
       "    </tr>\n",
       "    <tr>\n",
       "      <th>488</th>\n",
       "      <td>twitter</td>\n",
       "      <td>2017-07-23 00:56:05</td>\n",
       "      <td>mxlearn</td>\n",
       "      <td>[R] CVPR 2017 Best Paper Awards! https://t.co/...</td>\n",
       "      <td>http://dlvr.it/PXkBCV</td>\n",
       "      <td>[R] CVPR 2017 Best Paper Awards! : MachineLear...</td>\n",
       "      <td>Status(contributors=None, lang='en', favorite_...</td>\n",
       "    </tr>\n",
       "    <tr>\n",
       "      <th>489</th>\n",
       "      <td>twitter</td>\n",
       "      <td>2017-07-24 18:33:17</td>\n",
       "      <td>mxlearn</td>\n",
       "      <td>[R] [1707.06600] A multi-agent reinforcement l...</td>\n",
       "      <td>http://dlvr.it/PY8WZq</td>\n",
       "      <td>[R] [1707.06600] A multi-agent reinforcement l...</td>\n",
       "      <td>Status(contributors=None, lang='en', favorite_...</td>\n",
       "    </tr>\n",
       "    <tr>\n",
       "      <th>490</th>\n",
       "      <td>twitter</td>\n",
       "      <td>2017-07-24 14:11:14</td>\n",
       "      <td>mxlearn</td>\n",
       "      <td>[P] Experiment: simple conditioning of WGANs h...</td>\n",
       "      <td>http://dlvr.it/PY5Nnn</td>\n",
       "      <td>[P] Experiment: simple conditioning of WGANs :...</td>\n",
       "      <td>Status(contributors=None, lang='en', favorite_...</td>\n",
       "    </tr>\n",
       "    <tr>\n",
       "      <th>491</th>\n",
       "      <td>twitter</td>\n",
       "      <td>2017-07-24 13:05:15</td>\n",
       "      <td>mxlearn</td>\n",
       "      <td>Semi supervised learning in practice https://t...</td>\n",
       "      <td>http://dlvr.it/PY4b7m</td>\n",
       "      <td>Semi supervised learning in practice : Machine...</td>\n",
       "      <td>Status(contributors=None, lang='en', favorite_...</td>\n",
       "    </tr>\n",
       "    <tr>\n",
       "      <th>492</th>\n",
       "      <td>twitter</td>\n",
       "      <td>2017-07-24 08:14:15</td>\n",
       "      <td>mxlearn</td>\n",
       "      <td>[P] Deep Q-learning on Torcs with Resnet-18 ht...</td>\n",
       "      <td>http://dlvr.it/PY1Mlb</td>\n",
       "      <td>[P] Deep Q-learning on Torcs with Resnet-18 : ...</td>\n",
       "      <td>Status(contributors=None, lang='en', favorite_...</td>\n",
       "    </tr>\n",
       "    <tr>\n",
       "      <th>493</th>\n",
       "      <td>twitter</td>\n",
       "      <td>2017-07-24 02:45:09</td>\n",
       "      <td>mxlearn</td>\n",
       "      <td>[D]Choosing right aws instance. https://t.co/0...</td>\n",
       "      <td>http://dlvr.it/PXyVbQ</td>\n",
       "      <td>[D]Choosing right aws instance. : MachineLearn...</td>\n",
       "      <td>Status(contributors=None, lang='en', favorite_...</td>\n",
       "    </tr>\n",
       "    <tr>\n",
       "      <th>494</th>\n",
       "      <td>twitter</td>\n",
       "      <td>2017-07-24 01:39:33</td>\n",
       "      <td>mxlearn</td>\n",
       "      <td>[R] Bayesian Neural Networks with Random Input...</td>\n",
       "      <td>http://dlvr.it/PXy13Y</td>\n",
       "      <td>[R] ‪Bayesian Neural Networks with Random Inpu...</td>\n",
       "      <td>Status(contributors=None, lang='en', favorite_...</td>\n",
       "    </tr>\n",
       "    <tr>\n",
       "      <th>495</th>\n",
       "      <td>twitter</td>\n",
       "      <td>2017-07-23 21:23:40</td>\n",
       "      <td>MalwareTechBlog</td>\n",
       "      <td>&amp;gt; pay $3000 to fly halfway across the world...</td>\n",
       "      <td>https://twitter.com/2sec4u/status/889231478676...</td>\n",
       "      <td>2headache4u @VEGAS on Twitter Add a location t...</td>\n",
       "      <td>Status(contributors=None, lang='en', favorite_...</td>\n",
       "    </tr>\n",
       "    <tr>\n",
       "      <th>496</th>\n",
       "      <td>twitter</td>\n",
       "      <td>2017-07-23 18:30:53</td>\n",
       "      <td>MalwareTechBlog</td>\n",
       "      <td>Infosec threat modeling in a nutshell https://...</td>\n",
       "      <td>https://twitter.com/josephfcox/status/88904685...</td>\n",
       "      <td>Joseph Cox on Twitter Add a location to your T...</td>\n",
       "      <td>Status(contributors=None, lang='en', favorite_...</td>\n",
       "    </tr>\n",
       "    <tr>\n",
       "      <th>497</th>\n",
       "      <td>twitter</td>\n",
       "      <td>2017-07-23 08:07:45</td>\n",
       "      <td>MalwareTechBlog</td>\n",
       "      <td>When i agree to go on a trip to the grand cany...</td>\n",
       "      <td>https://twitter.com/i/web/status/8890342856251...</td>\n",
       "      <td>MalwareTech on Twitter Add a location to your ...</td>\n",
       "      <td>Status(contributors=None, lang='en', favorite_...</td>\n",
       "    </tr>\n",
       "    <tr>\n",
       "      <th>498</th>\n",
       "      <td>twitter</td>\n",
       "      <td>2017-07-24 16:33:29</td>\n",
       "      <td>MalwareTechBlog</td>\n",
       "      <td>There's plenty of cheap local cons you can go ...</td>\n",
       "      <td>https://twitter.com/i/web/status/8895239430229...</td>\n",
       "      <td>MalwareTech on Twitter Add a location to your ...</td>\n",
       "      <td>Status(contributors=None, lang='en', favorite_...</td>\n",
       "    </tr>\n",
       "    <tr>\n",
       "      <th>499</th>\n",
       "      <td>twitter</td>\n",
       "      <td>2017-07-24 16:13:12</td>\n",
       "      <td>MalwareTechBlog</td>\n",
       "      <td>Where I live I can have pizza delivered betwee...</td>\n",
       "      <td>https://twitter.com/i/web/status/8895188399096...</td>\n",
       "      <td>MalwareTech on Twitter Add a location to your ...</td>\n",
       "      <td>Status(contributors=None, lang='en', favorite_...</td>\n",
       "    </tr>\n",
       "    <tr>\n",
       "      <th>500</th>\n",
       "      <td>twitter</td>\n",
       "      <td>2017-07-24 03:44:17</td>\n",
       "      <td>MalwareTechBlog</td>\n",
       "      <td>There's a $50/day charge to use the mini bar t...</td>\n",
       "      <td>https://twitter.com/i/web/status/8893303665778...</td>\n",
       "      <td>MalwareTech on Twitter Add a location to your ...</td>\n",
       "      <td>Status(contributors=None, lang='en', favorite_...</td>\n",
       "    </tr>\n",
       "    <tr>\n",
       "      <th>501</th>\n",
       "      <td>twitter</td>\n",
       "      <td>2017-07-23 10:55:20</td>\n",
       "      <td>bartblaze</td>\n",
       "      <td>Hacker \"BestBuy\" Admits to Hijacking Deutsche ...</td>\n",
       "      <td>https://www.bleepingcomputer.com/news/security...</td>\n",
       "      <td>Hacker \"BestBuy\" Admits to Hijacking Deutsche ...</td>\n",
       "      <td>Status(contributors=None, lang='en', favorite_...</td>\n",
       "    </tr>\n",
       "  </tbody>\n",
       "</table>\n",
       "<p>502 rows × 7 columns</p>\n",
       "</div>"
      ],
      "text/plain": [
       "      source           created_at           author  \\\n",
       "0    twitter  2017-07-23 21:18:32      stanfordnlp   \n",
       "1    twitter  2017-07-23 17:00:58      stanfordnlp   \n",
       "2    twitter  2017-07-23 09:23:02             ncsc   \n",
       "3    twitter  2017-07-23 08:31:03             ncsc   \n",
       "4    twitter  2017-07-24 16:09:03             ncsc   \n",
       "5    twitter  2017-07-24 15:09:04             ncsc   \n",
       "6    twitter  2017-07-24 14:26:02             ncsc   \n",
       "7    twitter  2017-07-24 12:16:03             ncsc   \n",
       "8    twitter  2017-07-24 09:40:03             ncsc   \n",
       "9    twitter  2017-07-24 08:45:03             ncsc   \n",
       "10   twitter  2017-07-24 08:13:03             ncsc   \n",
       "11   twitter  2017-07-24 07:45:03             ncsc   \n",
       "12   twitter  2017-07-25 03:30:11          lmthang   \n",
       "13   twitter  2017-07-24 16:12:54       DeepMindAI   \n",
       "14   twitter  2017-07-23 16:36:02       natashenka   \n",
       "15   twitter  2017-07-24 14:01:21   ConradLongmore   \n",
       "16   twitter  2017-07-23 11:01:42     bry_campbell   \n",
       "17   twitter  2017-07-24 17:17:06     bry_campbell   \n",
       "18   twitter  2017-07-24 12:06:04       spontiroli   \n",
       "19   twitter  2017-07-25 01:33:02         symantec   \n",
       "20   twitter  2017-07-25 00:08:03         symantec   \n",
       "21   twitter  2017-07-23 23:24:04         symantec   \n",
       "22   twitter  2017-07-23 18:36:04         symantec   \n",
       "23   twitter  2017-07-24 23:38:03         symantec   \n",
       "24   twitter  2017-07-24 23:00:11         symantec   \n",
       "25   twitter  2017-07-24 22:23:02         symantec   \n",
       "26   twitter  2017-07-24 21:02:02         symantec   \n",
       "27   twitter  2017-07-24 19:49:03         symantec   \n",
       "28   twitter  2017-07-24 18:47:03         symantec   \n",
       "29   twitter  2017-07-24 18:05:23         symantec   \n",
       "..       ...                  ...              ...   \n",
       "472  twitter  2017-07-24 11:53:53          slashML   \n",
       "473  twitter  2017-07-24 09:48:51          slashML   \n",
       "474  twitter  2017-07-24 08:13:50          slashML   \n",
       "475  twitter  2017-07-24 04:08:46          slashML   \n",
       "476  twitter  2017-07-24 03:33:45          slashML   \n",
       "477  twitter  2017-07-24 00:28:42          slashML   \n",
       "478  twitter  2017-07-23 23:00:37      holdenkarau   \n",
       "479  twitter  2017-07-24 18:59:20      holdenkarau   \n",
       "480  twitter  2017-07-24 16:55:12      holdenkarau   \n",
       "481  twitter  2017-07-25 01:12:11          mxlearn   \n",
       "482  twitter  2017-07-23 22:22:35          mxlearn   \n",
       "483  twitter  2017-07-23 21:16:13          mxlearn   \n",
       "484  twitter  2017-07-23 20:10:14          mxlearn   \n",
       "485  twitter  2017-07-23 18:29:06          mxlearn   \n",
       "486  twitter  2017-07-23 13:02:47          mxlearn   \n",
       "487  twitter  2017-07-23 03:38:08          mxlearn   \n",
       "488  twitter  2017-07-23 00:56:05          mxlearn   \n",
       "489  twitter  2017-07-24 18:33:17          mxlearn   \n",
       "490  twitter  2017-07-24 14:11:14          mxlearn   \n",
       "491  twitter  2017-07-24 13:05:15          mxlearn   \n",
       "492  twitter  2017-07-24 08:14:15          mxlearn   \n",
       "493  twitter  2017-07-24 02:45:09          mxlearn   \n",
       "494  twitter  2017-07-24 01:39:33          mxlearn   \n",
       "495  twitter  2017-07-23 21:23:40  MalwareTechBlog   \n",
       "496  twitter  2017-07-23 18:30:53  MalwareTechBlog   \n",
       "497  twitter  2017-07-23 08:07:45  MalwareTechBlog   \n",
       "498  twitter  2017-07-24 16:33:29  MalwareTechBlog   \n",
       "499  twitter  2017-07-24 16:13:12  MalwareTechBlog   \n",
       "500  twitter  2017-07-24 03:44:17  MalwareTechBlog   \n",
       "501  twitter  2017-07-23 10:55:20        bartblaze   \n",
       "\n",
       "                                                  text  \\\n",
       "0    Stanford NLP Software is made available for .N...   \n",
       "1    .@stanfordnlp grads at work—Congrats to @WWRob...   \n",
       "2    Rachel inspires our colleagues + puts forward ...   \n",
       "3    Discover how we are blocking bad emails preten...   \n",
       "4    What's new with our Windows End User Device Gu...   \n",
       "5    Think you have what it takes to be part of our...   \n",
       "6    Our shiny, new Chrome OS guidance. Tap into ou...   \n",
       "7    You spoke. We listened. Introducing Web Check!...   \n",
       "8    Learn how we are rolling out free and easy ste...   \n",
       "9    If you make security easier for your users, yo...   \n",
       "10   If you make security easier for your users, yo...   \n",
       "11   Leading NCSC People Centred Security, Emma W i...   \n",
       "12   IBM’s WatsonPaths &amp; symptom checker Isabel...   \n",
       "13   Value distributions lead to state of the art r...   \n",
       "14   And here I am in the wrong city ... https://t....   \n",
       "15   Veteran Of Dunkirk Talks About Seeing The Movi...   \n",
       "16   Everything that's wrong with the industry righ...   \n",
       "17   https://t.co/HvTrkIIKUG\\n\\nIP Address, device ...   \n",
       "18   Kaspersky, then and Now. 20 Years In-between –...   \n",
       "19   Join Symantec’s Vijay Thawre &amp; @ankit5934 ...   \n",
       "20   Don’t forget to have your Symantec Passport ca...   \n",
       "21   Proud to partner with the @StrideCenter and gr...   \n",
       "22   #BHUSA is off to a great start. Swing by booth...   \n",
       "23   Join the free webinar on 8/2 to learn about ne...   \n",
       "24   Join tomorrow’s webcast for a look at Symantec...   \n",
       "25   Find out why #machinelearning and #AI are the ...   \n",
       "26   Symantec’s @professor__plum will present on ex...   \n",
       "27   Symantec June Intelligence: The #phishing rate...   \n",
       "28   Interested in walking away from Black Hat with...   \n",
       "29   Be prepared for the next major #ransomware att...   \n",
       "..                                                 ...   \n",
       "472  A Practical Guide to Tree Based Learning Algor...   \n",
       "473  A Distributional Perspective on Reinforcement ...   \n",
       "474  Some advice for journalists writing about arti...   \n",
       "475  Choosing right aws instance. https://t.co/RfYU...   \n",
       "476  Bayesian Neural Networks with Random Inputs fo...   \n",
       "477  Tool for Designing Energy-Efficient Deep Neura...   \n",
       "478  Following up on a recommendation 😀 (@ Nemesis ...   \n",
       "479  Monday's are a little ruff, so the newest stuf...   \n",
       "480  Want to see more @ApacheSpark videos from me? ...   \n",
       "481  [R] Learning Transferable Architectures for Sc...   \n",
       "482  [N] New AI research institute https://t.co/nCz...   \n",
       "483  [P] DeepArtistry: Buy art generated by neural ...   \n",
       "484  [P] Tool for Designing Energy-Efficient Deep N...   \n",
       "485  [P] Inception-ResNet v2 model using Keras (wit...   \n",
       "486  [P] Commented PPO implementation https://t.co/...   \n",
       "487  [P] [NSFW!!] 50,000 tasteful nudes with neural...   \n",
       "488  [R] CVPR 2017 Best Paper Awards! https://t.co/...   \n",
       "489  [R] [1707.06600] A multi-agent reinforcement l...   \n",
       "490  [P] Experiment: simple conditioning of WGANs h...   \n",
       "491  Semi supervised learning in practice https://t...   \n",
       "492  [P] Deep Q-learning on Torcs with Resnet-18 ht...   \n",
       "493  [D]Choosing right aws instance. https://t.co/0...   \n",
       "494  [R] Bayesian Neural Networks with Random Input...   \n",
       "495  &gt; pay $3000 to fly halfway across the world...   \n",
       "496  Infosec threat modeling in a nutshell https://...   \n",
       "497  When i agree to go on a trip to the grand cany...   \n",
       "498  There's plenty of cheap local cons you can go ...   \n",
       "499  Where I live I can have pizza delivered betwee...   \n",
       "500  There's a $50/day charge to use the mini bar t...   \n",
       "501  Hacker \"BestBuy\" Admits to Hijacking Deutsche ...   \n",
       "\n",
       "                                                   url  \\\n",
       "0     https://sergey-tihon.github.io/Stanford.NLP.NET/   \n",
       "1    https://venturebeat.com/2017/07/19/crowdflower...   \n",
       "2    https://twitter.com/i/web/status/8890532320556...   \n",
       "3                                http://bit.ly/2txgeYE   \n",
       "4                                http://bit.ly/2mY7XFs   \n",
       "5    https://twitter.com/i/web/status/8895026993345...   \n",
       "6                                http://bit.ly/2tL98Qk   \n",
       "7                                http://bit.ly/2tpuNOd   \n",
       "8                                http://bit.ly/2txgeYE   \n",
       "9                                http://bit.ly/2e7c1Fa   \n",
       "10   https://www.ncsc.gov.uk/guidance/password-guid...   \n",
       "11   https://twitter.com/i/web/status/8893909609159...   \n",
       "12   https://twitter.com/i/web/status/8896892097404...   \n",
       "13   https://deepmind.com/blog/going-beyond-average...   \n",
       "14   https://twitter.com/BandaiAmerica/status/88916...   \n",
       "15                          http://on.digg.com/2tDAAjv   \n",
       "16   https://twitter.com/withzombies/status/8884954...   \n",
       "17   https://twitter.com/bry_campbell/status/889528...   \n",
       "18   https://eugene.kaspersky.com/2017/07/21/then-a...   \n",
       "19                              http://symc.ly/2eJoFdd   \n",
       "20   https://twitter.com/i/web/status/8896383384115...   \n",
       "21   https://twitter.com/i/web/status/8892648809095...   \n",
       "22                              http://symc.ly/2gUVB36   \n",
       "23   https://twitter.com/i/web/status/8896307898220...   \n",
       "24   https://twitter.com/i/web/status/8896212611476...   \n",
       "25                              http://symc.ly/2eIO1bm   \n",
       "26                              http://symc.ly/2gY3MM3   \n",
       "27                              http://symc.ly/2gXF4eU   \n",
       "28   https://twitter.com/i/web/status/8895575559151...   \n",
       "29   https://twitter.com/TechRepublic/status/888958...   \n",
       "..                                                 ...   \n",
       "472  https://www.reddit.com/r/MachineLearning/comme...   \n",
       "473  https://www.reddit.com/r/MachineLearning/comme...   \n",
       "474  https://www.reddit.com/r/MachineLearning/comme...   \n",
       "475  https://www.reddit.com/r/MachineLearning/comme...   \n",
       "476  https://www.reddit.com/r/MachineLearning/comme...   \n",
       "477  https://www.reddit.com/r/MachineLearning/comme...   \n",
       "478             https://www.swarmapp.com/c/j3iQ60NTq4Z   \n",
       "479  https://twitter.com/i/web/status/8895606466515...   \n",
       "480                https://www.youtube.com/holdenkarau   \n",
       "481                              http://dlvr.it/PYDRW4   \n",
       "482                              http://dlvr.it/PXwSTn   \n",
       "483                              http://dlvr.it/PXvtyz   \n",
       "484                              http://dlvr.it/PXvKZb   \n",
       "485                              http://dlvr.it/PXtSj9   \n",
       "486                              http://dlvr.it/PXqYW8   \n",
       "487                              http://dlvr.it/PXlH1B   \n",
       "488                              http://dlvr.it/PXkBCV   \n",
       "489                              http://dlvr.it/PY8WZq   \n",
       "490                              http://dlvr.it/PY5Nnn   \n",
       "491                              http://dlvr.it/PY4b7m   \n",
       "492                              http://dlvr.it/PY1Mlb   \n",
       "493                              http://dlvr.it/PXyVbQ   \n",
       "494                              http://dlvr.it/PXy13Y   \n",
       "495  https://twitter.com/2sec4u/status/889231478676...   \n",
       "496  https://twitter.com/josephfcox/status/88904685...   \n",
       "497  https://twitter.com/i/web/status/8890342856251...   \n",
       "498  https://twitter.com/i/web/status/8895239430229...   \n",
       "499  https://twitter.com/i/web/status/8895188399096...   \n",
       "500  https://twitter.com/i/web/status/8893303665778...   \n",
       "501  https://www.bleepingcomputer.com/news/security...   \n",
       "\n",
       "                                           url_content  \\\n",
       "0    Stanford NLP Software for .NET Log-linear Part...   \n",
       "1    CrowdFlower expands to help companies implemen...   \n",
       "2    NCSC UK on Twitter Add a location to your Twee...   \n",
       "3    NCSC rolls out free and easy steps to improve ...   \n",
       "4    What's new with Windows 10? With the release o...   \n",
       "5    NCSC UK on Twitter Add a location to your Twee...   \n",
       "6    EUD Security Guidance: Chrome OS 56 It's impor...   \n",
       "7    Web Check — helping you to secure your public ...   \n",
       "8    NCSC rolls out free and easy steps to improve ...   \n",
       "9    Password Guidance: Simplifying Your Approach P...   \n",
       "10   Password Guidance: Simplifying Your Approach P...   \n",
       "11   NCSC UK on Twitter Add a location to your Twee...   \n",
       "12   Thang Luong on Twitter Add a location to your ...   \n",
       "13   Going beyond average for reinforcement learnin...   \n",
       "14   Bandai America on Twitter Add a location to yo...   \n",
       "15   Veteran Of Dunkirk Talks About Seeing The Movi...   \n",
       "16   Ryan Stortz on Twitter Add a location to your ...   \n",
       "17   Bʀʏᴀɴ on Twitter Add a location to your Tweets...   \n",
       "18   Then and Now. 20 Years In-between – All Uphill...   \n",
       "19                                  Black Hat USA 2017   \n",
       "20   Symantec on Twitter Add a location to your Twe...   \n",
       "21   Symantec on Twitter Add a location to your Twe...   \n",
       "22   Visit Symantec at Black Hat USA 2017 Symantec ...   \n",
       "23   Symantec on Twitter Add a location to your Twe...   \n",
       "24   Symantec on Twitter Add a location to your Twe...   \n",
       "25   Visit Symantec at Black Hat USA 2017 Symantec ...   \n",
       "26   Visit Symantec at Black Hat USA 2017 Symantec ...   \n",
       "27   Latest Intelligence for June 2017 You will nee...   \n",
       "28   Symantec on Twitter Add a location to your Twe...   \n",
       "29   TechRepublic on Twitter Add a location to your...   \n",
       "..                                                 ...   \n",
       "472  [P] A Practical Guide to Tree Based Learning A...   \n",
       "473  [R] A Distributional Perspective on Reinforcem...   \n",
       "474  [D] Some advice for journalists writing about ...   \n",
       "475  [D]Choosing right aws instance. : MachineLearn...   \n",
       "476  [R] ‪Bayesian Neural Networks with Random Inpu...   \n",
       "477  [P] Tool for Designing Energy-Efficient Deep N...   \n",
       "478  Nemesis Coffee You must enable JavaScript to u...   \n",
       "479  holden karau on Twitter Add a location to your...   \n",
       "480  Holden Karau Video from the 24th and Bartlett ...   \n",
       "481  [R] Learning Transferable Architectures for Sc...   \n",
       "482  [N] New AI research institute : MachineLearnin...   \n",
       "483  [P] DeepArtistry: Buy art generated by neural ...   \n",
       "484  [P] Tool for Designing Energy-Efficient Deep N...   \n",
       "485  [P] Inception-ResNet v2 model using Keras (wit...   \n",
       "486  [P] Commented PPO implementation : MachineLear...   \n",
       "487  reddit.com: over 18? You must be 18+ to view t...   \n",
       "488  [R] CVPR 2017 Best Paper Awards! : MachineLear...   \n",
       "489  [R] [1707.06600] A multi-agent reinforcement l...   \n",
       "490  [P] Experiment: simple conditioning of WGANs :...   \n",
       "491  Semi supervised learning in practice : Machine...   \n",
       "492  [P] Deep Q-learning on Torcs with Resnet-18 : ...   \n",
       "493  [D]Choosing right aws instance. : MachineLearn...   \n",
       "494  [R] ‪Bayesian Neural Networks with Random Inpu...   \n",
       "495  2headache4u @VEGAS on Twitter Add a location t...   \n",
       "496  Joseph Cox on Twitter Add a location to your T...   \n",
       "497  MalwareTech on Twitter Add a location to your ...   \n",
       "498  MalwareTech on Twitter Add a location to your ...   \n",
       "499  MalwareTech on Twitter Add a location to your ...   \n",
       "500  MalwareTech on Twitter Add a location to your ...   \n",
       "501  Hacker \"BestBuy\" Admits to Hijacking Deutsche ...   \n",
       "\n",
       "                                              raw_data  \n",
       "0    Status(contributors=None, lang='en', favorite_...  \n",
       "1    Status(contributors=None, lang='en', favorite_...  \n",
       "2    Status(contributors=None, lang='en', favorite_...  \n",
       "3    Status(contributors=None, lang='en', favorite_...  \n",
       "4    Status(contributors=None, lang='en', favorite_...  \n",
       "5    Status(contributors=None, lang='en', favorite_...  \n",
       "6    Status(contributors=None, lang='en', favorite_...  \n",
       "7    Status(contributors=None, lang='en', favorite_...  \n",
       "8    Status(contributors=None, lang='en', favorite_...  \n",
       "9    Status(contributors=None, lang='en', favorite_...  \n",
       "10   Status(contributors=None, lang='en', favorite_...  \n",
       "11   Status(contributors=None, lang='en', favorite_...  \n",
       "12   Status(contributors=None, lang='en', favorite_...  \n",
       "13   Status(contributors=None, lang='en', favorite_...  \n",
       "14   Status(contributors=None, lang='en', favorite_...  \n",
       "15   Status(contributors=None, lang='en', favorite_...  \n",
       "16   Status(contributors=None, lang='en', favorite_...  \n",
       "17   Status(contributors=None, lang='en', favorite_...  \n",
       "18   Status(contributors=None, lang='en', favorite_...  \n",
       "19   Status(contributors=None, lang='en', favorite_...  \n",
       "20   Status(contributors=None, lang='en', favorite_...  \n",
       "21   Status(contributors=None, lang='en', favorite_...  \n",
       "22   Status(contributors=None, lang='en', favorite_...  \n",
       "23   Status(contributors=None, lang='en', favorite_...  \n",
       "24   Status(contributors=None, lang='en', favorite_...  \n",
       "25   Status(contributors=None, lang='en', favorite_...  \n",
       "26   Status(contributors=None, lang='en', favorite_...  \n",
       "27   Status(contributors=None, lang='en', favorite_...  \n",
       "28   Status(contributors=None, lang='en', favorite_...  \n",
       "29   Status(contributors=None, lang='en', favorite_...  \n",
       "..                                                 ...  \n",
       "472  Status(contributors=None, lang='en', favorite_...  \n",
       "473  Status(contributors=None, lang='en', favorite_...  \n",
       "474  Status(contributors=None, lang='en', favorite_...  \n",
       "475  Status(contributors=None, lang='en', favorite_...  \n",
       "476  Status(contributors=None, lang='en', favorite_...  \n",
       "477  Status(contributors=None, lang='en', favorite_...  \n",
       "478  Status(contributors=None, lang='en', favorite_...  \n",
       "479  Status(contributors=None, lang='en', favorite_...  \n",
       "480  Status(contributors=None, lang='en', favorite_...  \n",
       "481  Status(contributors=None, lang='en', favorite_...  \n",
       "482  Status(contributors=None, lang='en', favorite_...  \n",
       "483  Status(contributors=None, lang='en', favorite_...  \n",
       "484  Status(contributors=None, lang='en', favorite_...  \n",
       "485  Status(contributors=None, lang='en', favorite_...  \n",
       "486  Status(contributors=None, lang='en', favorite_...  \n",
       "487  Status(contributors=None, lang='en', favorite_...  \n",
       "488  Status(contributors=None, lang='en', favorite_...  \n",
       "489  Status(contributors=None, lang='en', favorite_...  \n",
       "490  Status(contributors=None, lang='en', favorite_...  \n",
       "491  Status(contributors=None, lang='en', favorite_...  \n",
       "492  Status(contributors=None, lang='en', favorite_...  \n",
       "493  Status(contributors=None, lang='en', favorite_...  \n",
       "494  Status(contributors=None, lang='en', favorite_...  \n",
       "495  Status(contributors=None, lang='en', favorite_...  \n",
       "496  Status(contributors=None, lang='en', favorite_...  \n",
       "497  Status(contributors=None, lang='en', favorite_...  \n",
       "498  Status(contributors=None, lang='en', favorite_...  \n",
       "499  Status(contributors=None, lang='en', favorite_...  \n",
       "500  Status(contributors=None, lang='en', favorite_...  \n",
       "501  Status(contributors=None, lang='en', favorite_...  \n",
       "\n",
       "[502 rows x 7 columns]"
      ]
     },
     "execution_count": 84,
     "metadata": {},
     "output_type": "execute_result"
    }
   ],
   "source": [
    "df"
   ]
  },
  {
   "cell_type": "markdown",
   "metadata": {},
   "source": [
    "## LDA\n",
    "\n",
    "### Preprocessing"
   ]
  },
  {
   "cell_type": "code",
   "execution_count": 189,
   "metadata": {
    "collapsed": true
   },
   "outputs": [],
   "source": [
    "# texts = df['text'] + ' ' + df['url_content']\n",
    "texts = all_df['text'] + ' ' + all_df['url_content']"
   ]
  },
  {
   "cell_type": "code",
   "execution_count": 190,
   "metadata": {},
   "outputs": [
    {
     "name": "stdout",
     "output_type": "stream",
     "text": [
      "* Loading SpaCy \"en_core_web_md\" corpus...\n",
      "* Success.\n",
      "--------------------------------------------------------------------------------------------------------------------\n"
     ]
    }
   ],
   "source": [
    "import spacy\n",
    "print('* Loading SpaCy \"en_core_web_md\" corpus...')\n",
    "nlp = spacy.load('en_core_web_md')\n",
    "print('* Success.')\n",
    "print('-'*116)"
   ]
  },
  {
   "cell_type": "code",
   "execution_count": 191,
   "metadata": {
    "collapsed": true
   },
   "outputs": [],
   "source": [
    "from nltk.corpus import stopwords\n",
    "en_stopwords = stopwords.words('english')\n",
    "\n",
    "def _unwanted_token(token, language_whitelist=['en'], token_blacklist=['rt'],\n",
    "                    filter_stopwords=True, filter_url=True, filter_digit=True, \n",
    "                    filter_number=True, filter_pronoun=True,\n",
    "                    filter_non_alpha=True, filter_non_ascii=True, filter_character=True):\n",
    "    \n",
    "    \"\"\" Unwanted token conditions for `preprocessing()` \"\"\"\n",
    "    \n",
    "    if language_whitelist and token.lang_ not in language_whitelist:\n",
    "        return True\n",
    "    if token_blacklist and token.text.lower() in token_blacklist:\n",
    "        return True\n",
    "    if filter_stopwords and (token.is_stop or token.text in en_stopwords):\n",
    "        return True\n",
    "    if filter_url and token.like_url:\n",
    "        return True\n",
    "    if filter_digit and token.is_digit:\n",
    "        return True\n",
    "    if filter_number and token.like_num:\n",
    "        return True\n",
    "    if filter_pronoun and token.lemma_ == '-PRON-':\n",
    "        return True\n",
    "    if filter_non_alpha and not token.is_alpha:\n",
    "        return True\n",
    "    if filter_non_ascii and not token.is_ascii:\n",
    "        return True\n",
    "    if filter_character and not len(token.text) > 1:\n",
    "        return True\n",
    "    \n",
    "    return False"
   ]
  },
  {
   "cell_type": "code",
   "execution_count": 192,
   "metadata": {},
   "outputs": [
    {
     "name": "stdout",
     "output_type": "stream",
     "text": [
      "* Parsing texts...\n"
     ]
    }
   ],
   "source": [
    "from nltk.corpus import stopwords\n",
    "en_stopwords = stopwords.words('english')\n",
    "\n",
    "print('* Parsing texts...')\n",
    "spacy_docs = [doc for doc in nlp.pipe(texts, batch_size=1024, n_threads=8)]"
   ]
  },
  {
   "cell_type": "code",
   "execution_count": 193,
   "metadata": {},
   "outputs": [
    {
     "name": "stdout",
     "output_type": "stream",
     "text": [
      "* Cleaning texts...\n"
     ]
    }
   ],
   "source": [
    "print('* Cleaning texts...')\n",
    "cleaned_docs = spacy_docs\n",
    "cleaned_docs = [[token.lemma_ for token in doc if not _unwanted_token(token)] for doc in cleaned_docs]"
   ]
  },
  {
   "cell_type": "code",
   "execution_count": 194,
   "metadata": {},
   "outputs": [
    {
     "name": "stderr",
     "output_type": "stream",
     "text": [
      "/usr/local/lib/python3.4/dist-packages/gensim/models/phrases.py:274: UserWarning: For a faster implementation, use the gensim.models.phrases.Phraser class\n",
      "  warnings.warn(\"For a faster implementation, use the gensim.models.phrases.Phraser class\")\n"
     ]
    }
   ],
   "source": [
    "# Compute bigrams.\n",
    "\n",
    "import copy\n",
    "from gensim.models import Phrases\n",
    "\n",
    "docs = copy.deepcopy(cleaned_docs)\n",
    "\n",
    "# Add bigrams and trigrams to docs\n",
    "bigram = Phrases(docs, min_count=5)\n",
    "for idx in range(len(docs)):\n",
    "    for token in bigram[docs[idx]]:\n",
    "        if '_' in token:\n",
    "            # Token is a bigram, add to document.\n",
    "            docs[idx].append(token)"
   ]
  },
  {
   "cell_type": "code",
   "execution_count": 195,
   "metadata": {
    "collapsed": true
   },
   "outputs": [],
   "source": [
    "# Remove rare and common tokens.\n",
    "\n",
    "from gensim.corpora import Dictionary\n",
    "\n",
    "# Create a dictionary representation of the documents.\n",
    "dictionary = Dictionary(docs)\n",
    "\n",
    "# Filter out words that occur less than `no_below` documents, or more than `no_above`% of the documents.\n",
    "dictionary.filter_extremes(no_below=10, no_above=0.5)\n",
    "\n",
    "# Vectorize data.\n",
    "# Bag-of-words representation of the documents.\n",
    "corpus = [dictionary.doc2bow(doc) for doc in docs]"
   ]
  },
  {
   "cell_type": "code",
   "execution_count": 196,
   "metadata": {},
   "outputs": [
    {
     "data": {
      "text/plain": [
       "11949"
      ]
     },
     "execution_count": 196,
     "metadata": {},
     "output_type": "execute_result"
    }
   ],
   "source": [
    "len(corpus)"
   ]
  },
  {
   "cell_type": "code",
   "execution_count": 197,
   "metadata": {},
   "outputs": [
    {
     "name": "stdout",
     "output_type": "stream",
     "text": [
      "Number of unique tokens: 16076\n",
      "Number of documents: 11949\n"
     ]
    }
   ],
   "source": [
    "print('Number of unique tokens: %d' % len(dictionary))\n",
    "print('Number of documents: %d' % len(corpus))"
   ]
  },
  {
   "cell_type": "markdown",
   "metadata": {},
   "source": [
    "### Training"
   ]
  },
  {
   "cell_type": "code",
   "execution_count": 198,
   "metadata": {
    "scrolled": false
   },
   "outputs": [
    {
     "name": "stdout",
     "output_type": "stream",
     "text": [
      "* Loading pretrained LDA from \"../model/lda_model_11949.pkl\"...\n",
      "! Failed to load pretrained LDA from \"../model/lda_model_11949.pkl\".\n",
      "* Training LDA...\n",
      "CPU times: user 11min 5s, sys: 6min 18s, total: 17min 24s\n",
      "Wall time: 10min 40s\n",
      "* Saving LDA to \"../model/lda_model_11949.pkl\"...\n"
     ]
    }
   ],
   "source": [
    "from gensim.models import LdaModel\n",
    "\n",
    "model_folder_path = '../model'\n",
    "model_file_name = 'lda_model_{}.pkl'.format(len(corpus))\n",
    "model_file_path = os.path.join(model_folder_path, model_file_name)\n",
    "\n",
    "try:\n",
    "    print('* Loading pretrained LDA from \"{}\"...'.format(model_file_path))\n",
    "    with open(model_file_path, 'rb') as f:\n",
    "        lda_model = pickle.load(f)\n",
    "    print('* Success.')\n",
    "except:\n",
    "    print('! Failed to load pretrained LDA from \"{}\".'.format(model_file_path))\n",
    "    print('* Training LDA...')\n",
    "    \n",
    "    # Set training parameters.\n",
    "    num_topics = 10\n",
    "    chunksize = 2000\n",
    "    passes = 20\n",
    "    iterations = 400\n",
    "    eval_every = None\n",
    "    \n",
    "    %time lda_model = LdaModel(corpus=corpus, id2word=dictionary, chunksize=chunksize, \\\n",
    "                               alpha='auto', eta='auto', \\\n",
    "                               iterations=iterations, num_topics=num_topics, \\\n",
    "                               passes=passes, eval_every=eval_every)\n",
    "    \n",
    "    print('* Saving LDA to \"{}\"...'.format(model_file_path))\n",
    "    with open(model_file_path, 'wb') as f:\n",
    "        pickle.dump(lda_model, f)"
   ]
  },
  {
   "cell_type": "code",
   "execution_count": 199,
   "metadata": {},
   "outputs": [
    {
     "data": {
      "text/plain": [
       "<gensim.models.ldamodel.LdaModel at 0x7f6e0c7d9b38>"
      ]
     },
     "execution_count": 199,
     "metadata": {},
     "output_type": "execute_result"
    }
   ],
   "source": [
    "lda_model"
   ]
  },
  {
   "cell_type": "markdown",
   "metadata": {},
   "source": [
    "### Print topic words for each topic"
   ]
  },
  {
   "cell_type": "code",
   "execution_count": 200,
   "metadata": {
    "scrolled": true
   },
   "outputs": [
    {
     "data": {
      "text/plain": [
       "[(0,\n",
       "  '0.015*\"vulnerability\" + 0.014*\"device\" + 0.013*\"user\" + 0.013*\"security\" + 0.011*\"use\" + 0.009*\"code\" + 0.008*\"remote\" + 0.007*\"password\" + 0.007*\"internet\" + 0.007*\"update\"'),\n",
       " (1,\n",
       "  '0.013*\"model\" + 0.012*\"use\" + 0.012*\"learning\" + 0.010*\"the\" + 0.009*\"network\" + 0.009*\"image\" + 0.009*\"deep\" + 0.008*\"learn\" + 0.007*\"neural\" + 0.007*\"machine\"'),\n",
       " (2,\n",
       "  '0.017*\"use\" + 0.014*\"file\" + 0.014*\"code\" + 0.012*\"the\" + 0.009*\"function\" + 0.008*\"run\" + 0.007*\"this\" + 0.006*\"call\" + 0.006*\"command\" + 0.005*\"new\"'),\n",
       " (3,\n",
       "  '0.010*\"the\" + 0.009*\"say\" + 0.007*\"company\" + 0.007*\"year\" + 0.006*\"new\" + 0.005*\"research\" + 0.005*\"work\" + 0.005*\"datum\" + 0.005*\"technology\" + 0.004*\"world\"'),\n",
       " (4,\n",
       "  '0.015*\"malware\" + 0.014*\"use\" + 0.014*\"attack\" + 0.013*\"the\" + 0.010*\"threat\" + 0.010*\"ransomware\" + 0.009*\"security\" + 0.008*\"target\" + 0.007*\"system\" + 0.007*\"also\"'),\n",
       " (5,\n",
       "  '0.011*\"get\" + 0.010*\"make\" + 0.009*\"the\" + 0.009*\"like\" + 0.008*\"go\" + 0.008*\"work\" + 0.008*\"time\" + 0.007*\"good\" + 0.007*\"would\" + 0.007*\"know\"'),\n",
       " (6,\n",
       "  '0.022*\"file\" + 0.022*\"de\" + 0.015*\"key\" + 0.012*\"report\" + 0.012*\"certificate\" + 0.011*\"tor\" + 0.010*\"user\" + 0.009*\"id\" + 0.009*\"signature\" + 0.008*\"not\"'),\n",
       " (7,\n",
       "  '0.039*\"domain\" + 0.030*\"etpro\" + 0.027*\"trojan\" + 0.021*\"successful\" + 0.019*\"dns\" + 0.016*\"query\" + 0.013*\"windows\" + 0.011*\"et\" + 0.011*\"cerber\" + 0.011*\"exploit\"'),\n",
       " (8,\n",
       "  '0.151*\"location\" + 0.090*\"tweet\" + 0.062*\"twitter\" + 0.031*\"learn\" + 0.031*\"switch\" + 0.030*\"history\" + 0.030*\"store\" + 0.030*\"when\" + 0.030*\"add\" + 0.030*\"option\"'),\n",
       " (9,\n",
       "  '0.132*\"base\" + 0.105*\"ansi\" + 0.104*\"file\" + 0.086*\"ansi_base\" + 0.072*\"memory\" + 0.072*\"scan\" + 0.052*\"memory_file\" + 0.030*\"dropped\" + 0.029*\"dropped_file\" + 0.024*\"unicode\"')]"
      ]
     },
     "execution_count": 200,
     "metadata": {},
     "output_type": "execute_result"
    }
   ],
   "source": [
    "lda_model.show_topics()"
   ]
  },
  {
   "cell_type": "markdown",
   "metadata": {},
   "source": [
    "### Transform document to feature vector"
   ]
  },
  {
   "cell_type": "code",
   "execution_count": 201,
   "metadata": {
    "scrolled": false
   },
   "outputs": [
    {
     "name": "stdout",
     "output_type": "stream",
     "text": [
      "[('attack', 1)]\n"
     ]
    }
   ],
   "source": [
    "doc = ['']\n",
    "\n",
    "# transform text into the bag-of-words space\n",
    "bow_vector = dictionary.doc2bow(doc)\n",
    "print([(dictionary[id], count) for id, count in bow_vector])"
   ]
  },
  {
   "cell_type": "code",
   "execution_count": 202,
   "metadata": {},
   "outputs": [
    {
     "name": "stdout",
     "output_type": "stream",
     "text": [
      "Feature vector:\n",
      "[ 0.0612663   0.06945707  0.0494089   0.07209487  0.53184861  0.09218356\n",
      "  0.02508712  0.02693384  0.05910345  0.0126163 ]\n",
      "--------------------------------------------------------------------------------------------------------------------\n",
      "Topic id: 4\n",
      "--------------------------------------------------------------------------------------------------------------------\n",
      "Topic words:\n",
      "0.015*\"malware\" + 0.014*\"use\" + 0.014*\"attack\" + 0.013*\"the\" + 0.010*\"threat\" + 0.010*\"ransomware\" + 0.009*\"security\" + 0.008*\"target\" + 0.007*\"system\" + 0.007*\"also\"\n"
     ]
    }
   ],
   "source": [
    "import numpy as np\n",
    "\n",
    "# transform into LDA space\n",
    "feature_vector = np.zeros(shape=(lda_model.num_topics))\n",
    "for tup in lda_model[bow_vector]:\n",
    "    feature_vector[tup[0]] = tup[1]\n",
    "topic_id = np.argmax(feature_vector)\n",
    "      \n",
    "print('Feature vector:')\n",
    "print(feature_vector)\n",
    "print('-'*116)\n",
    "print('Topic id:', topic_id)\n",
    "print('-'*116)\n",
    "print('Topic words:')\n",
    "print(lda_model.print_topic(topic_id))"
   ]
  },
  {
   "cell_type": "code",
   "execution_count": null,
   "metadata": {
    "collapsed": true
   },
   "outputs": [],
   "source": []
  }
 ],
 "metadata": {
  "kernelspec": {
   "display_name": "Python 3",
   "language": "python",
   "name": "python3"
  },
  "language_info": {
   "codemirror_mode": {
    "name": "ipython",
    "version": 3
   },
   "file_extension": ".py",
   "mimetype": "text/x-python",
   "name": "python",
   "nbconvert_exporter": "python",
   "pygments_lexer": "ipython3",
   "version": "3.4.3"
  }
 },
 "nbformat": 4,
 "nbformat_minor": 2
}
